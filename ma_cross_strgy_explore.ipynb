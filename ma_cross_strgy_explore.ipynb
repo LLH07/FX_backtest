{
 "cells": [
  {
   "cell_type": "code",
   "execution_count": 1,
   "source": [
    "import pandas as pd\r\n",
    "import plotly.graph_objects as go"
   ],
   "outputs": [],
   "metadata": {}
  },
  {
   "cell_type": "code",
   "execution_count": 2,
   "source": [
    "ma_test_res = pd.read_pickle(\"ma_test_res.pkl\")\r\n",
    "all_trades = pd.read_pickle(\"all_trades.pkl\")"
   ],
   "outputs": [],
   "metadata": {}
  },
  {
   "cell_type": "code",
   "execution_count": 3,
   "source": [
    "ma_test_res.head()"
   ],
   "outputs": [
    {
     "output_type": "execute_result",
     "data": {
      "text/html": [
       "<div>\n",
       "<style scoped>\n",
       "    .dataframe tbody tr th:only-of-type {\n",
       "        vertical-align: middle;\n",
       "    }\n",
       "\n",
       "    .dataframe tbody tr th {\n",
       "        vertical-align: top;\n",
       "    }\n",
       "\n",
       "    .dataframe thead th {\n",
       "        text-align: right;\n",
       "    }\n",
       "</style>\n",
       "<table border=\"1\" class=\"dataframe\">\n",
       "  <thead>\n",
       "    <tr style=\"text-align: right;\">\n",
       "      <th></th>\n",
       "      <th>pair</th>\n",
       "      <th>num_trades</th>\n",
       "      <th>total_gain</th>\n",
       "      <th>mean_gain</th>\n",
       "      <th>min_gain</th>\n",
       "      <th>max_gain</th>\n",
       "      <th>mashort</th>\n",
       "      <th>malong</th>\n",
       "    </tr>\n",
       "  </thead>\n",
       "  <tbody>\n",
       "    <tr>\n",
       "      <th>0</th>\n",
       "      <td>GBP_USD</td>\n",
       "      <td>562</td>\n",
       "      <td>175.7</td>\n",
       "      <td>0.312633</td>\n",
       "      <td>-76.2</td>\n",
       "      <td>205.6</td>\n",
       "      <td>4</td>\n",
       "      <td>8</td>\n",
       "    </tr>\n",
       "    <tr>\n",
       "      <th>1</th>\n",
       "      <td>GBP_USD</td>\n",
       "      <td>306</td>\n",
       "      <td>-25.4</td>\n",
       "      <td>-0.083007</td>\n",
       "      <td>-86.7</td>\n",
       "      <td>224.8</td>\n",
       "      <td>4</td>\n",
       "      <td>16</td>\n",
       "    </tr>\n",
       "    <tr>\n",
       "      <th>2</th>\n",
       "      <td>GBP_USD</td>\n",
       "      <td>272</td>\n",
       "      <td>87.4</td>\n",
       "      <td>0.321324</td>\n",
       "      <td>-91.5</td>\n",
       "      <td>211.6</td>\n",
       "      <td>8</td>\n",
       "      <td>16</td>\n",
       "    </tr>\n",
       "    <tr>\n",
       "      <th>3</th>\n",
       "      <td>GBP_USD</td>\n",
       "      <td>206</td>\n",
       "      <td>-589.3</td>\n",
       "      <td>-2.860680</td>\n",
       "      <td>-112.2</td>\n",
       "      <td>217.6</td>\n",
       "      <td>4</td>\n",
       "      <td>32</td>\n",
       "    </tr>\n",
       "    <tr>\n",
       "      <th>4</th>\n",
       "      <td>GBP_USD</td>\n",
       "      <td>158</td>\n",
       "      <td>-1205.1</td>\n",
       "      <td>-7.627215</td>\n",
       "      <td>-120.8</td>\n",
       "      <td>204.4</td>\n",
       "      <td>8</td>\n",
       "      <td>32</td>\n",
       "    </tr>\n",
       "  </tbody>\n",
       "</table>\n",
       "</div>"
      ],
      "text/plain": [
       "      pair  num_trades  total_gain  mean_gain  min_gain  max_gain  mashort  \\\n",
       "0  GBP_USD         562       175.7   0.312633     -76.2     205.6        4   \n",
       "1  GBP_USD         306       -25.4  -0.083007     -86.7     224.8        4   \n",
       "2  GBP_USD         272        87.4   0.321324     -91.5     211.6        8   \n",
       "3  GBP_USD         206      -589.3  -2.860680    -112.2     217.6        4   \n",
       "4  GBP_USD         158     -1205.1  -7.627215    -120.8     204.4        8   \n",
       "\n",
       "   malong  \n",
       "0       8  \n",
       "1      16  \n",
       "2      16  \n",
       "3      32  \n",
       "4      32  "
      ]
     },
     "metadata": {},
     "execution_count": 3
    }
   ],
   "metadata": {}
  },
  {
   "cell_type": "code",
   "execution_count": 4,
   "source": [
    "ma_test_res.shape"
   ],
   "outputs": [
    {
     "output_type": "execute_result",
     "data": {
      "text/plain": [
       "(630, 8)"
      ]
     },
     "metadata": {},
     "execution_count": 4
    }
   ],
   "metadata": {}
  },
  {
   "cell_type": "code",
   "execution_count": 5,
   "source": [
    "ma_test_res['pair'].unique()"
   ],
   "outputs": [
    {
     "output_type": "execute_result",
     "data": {
      "text/plain": [
       "array(['GBP_USD', 'GBP_CAD', 'GBP_JPY', 'GBP_NZD', 'GBP_CHF', 'EUR_GBP',\n",
       "       'EUR_USD', 'EUR_CAD', 'EUR_JPY', 'EUR_NZD', 'EUR_CHF', 'USD_CAD',\n",
       "       'USD_JPY', 'USD_CHF', 'CAD_JPY', 'CAD_CHF', 'NZD_USD', 'NZD_CAD',\n",
       "       'NZD_JPY', 'NZD_CHF', 'CHF_JPY'], dtype=object)"
      ]
     },
     "metadata": {},
     "execution_count": 5
    }
   ],
   "metadata": {}
  },
  {
   "cell_type": "markdown",
   "source": [
    "630 是指可供交易的 21 個貨幣對與 6 個慢線，7 個快線的組合數 (注意到快線週期不能大於慢線週期) (21*30=630)   \r\n",
    "8 指的是有每個組合有 8 筆資訊 (即 ```ma_res.py``` 的 ```res_ob``` 物件)"
   ],
   "metadata": {}
  },
  {
   "cell_type": "code",
   "execution_count": 7,
   "source": [
    "ma_test_res.columns"
   ],
   "outputs": [
    {
     "output_type": "execute_result",
     "data": {
      "text/plain": [
       "Index(['pair', 'num_trades', 'total_gain', 'mean_gain', 'min_gain', 'max_gain',\n",
       "       'mashort', 'malong'],\n",
       "      dtype='object')"
      ]
     },
     "metadata": {},
     "execution_count": 7
    }
   ],
   "metadata": {}
  },
  {
   "cell_type": "code",
   "execution_count": 8,
   "source": [
    "ma_test_res = ma_test_res[ ['pair', 'num_trades', 'total_gain', 'mashort', 'malong'] ]"
   ],
   "outputs": [],
   "metadata": {}
  },
  {
   "cell_type": "code",
   "execution_count": 10,
   "source": [
    "ma_test_res.head()"
   ],
   "outputs": [
    {
     "output_type": "execute_result",
     "data": {
      "text/html": [
       "<div>\n",
       "<style scoped>\n",
       "    .dataframe tbody tr th:only-of-type {\n",
       "        vertical-align: middle;\n",
       "    }\n",
       "\n",
       "    .dataframe tbody tr th {\n",
       "        vertical-align: top;\n",
       "    }\n",
       "\n",
       "    .dataframe thead th {\n",
       "        text-align: right;\n",
       "    }\n",
       "</style>\n",
       "<table border=\"1\" class=\"dataframe\">\n",
       "  <thead>\n",
       "    <tr style=\"text-align: right;\">\n",
       "      <th></th>\n",
       "      <th>pair</th>\n",
       "      <th>num_trades</th>\n",
       "      <th>total_gain</th>\n",
       "      <th>mashort</th>\n",
       "      <th>malong</th>\n",
       "    </tr>\n",
       "  </thead>\n",
       "  <tbody>\n",
       "    <tr>\n",
       "      <th>0</th>\n",
       "      <td>GBP_USD</td>\n",
       "      <td>562</td>\n",
       "      <td>175.7</td>\n",
       "      <td>4</td>\n",
       "      <td>8</td>\n",
       "    </tr>\n",
       "    <tr>\n",
       "      <th>1</th>\n",
       "      <td>GBP_USD</td>\n",
       "      <td>306</td>\n",
       "      <td>-25.4</td>\n",
       "      <td>4</td>\n",
       "      <td>16</td>\n",
       "    </tr>\n",
       "    <tr>\n",
       "      <th>2</th>\n",
       "      <td>GBP_USD</td>\n",
       "      <td>272</td>\n",
       "      <td>87.4</td>\n",
       "      <td>8</td>\n",
       "      <td>16</td>\n",
       "    </tr>\n",
       "    <tr>\n",
       "      <th>3</th>\n",
       "      <td>GBP_USD</td>\n",
       "      <td>206</td>\n",
       "      <td>-589.3</td>\n",
       "      <td>4</td>\n",
       "      <td>32</td>\n",
       "    </tr>\n",
       "    <tr>\n",
       "      <th>4</th>\n",
       "      <td>GBP_USD</td>\n",
       "      <td>158</td>\n",
       "      <td>-1205.1</td>\n",
       "      <td>8</td>\n",
       "      <td>32</td>\n",
       "    </tr>\n",
       "  </tbody>\n",
       "</table>\n",
       "</div>"
      ],
      "text/plain": [
       "      pair  num_trades  total_gain  mashort  malong\n",
       "0  GBP_USD         562       175.7        4       8\n",
       "1  GBP_USD         306       -25.4        4      16\n",
       "2  GBP_USD         272        87.4        8      16\n",
       "3  GBP_USD         206      -589.3        4      32\n",
       "4  GBP_USD         158     -1205.1        8      32"
      ]
     },
     "metadata": {},
     "execution_count": 10
    }
   ],
   "metadata": {}
  },
  {
   "cell_type": "markdown",
   "source": [
    "### 將快慢線組成統一名稱"
   ],
   "metadata": {}
  },
  {
   "cell_type": "markdown",
   "source": [
    "這裡會使用 <font colo='red'> Pandas </font> 裡的 ```map()``` function，  \r\n",
    "注意到 python 也有內建的 map 函數，  \r\n",
    "但功能我看起來是差不多，就是將 ```map()``` 括號內參數的動作帶入"
   ],
   "metadata": {}
  },
  {
   "cell_type": "code",
   "execution_count": 12,
   "source": [
    "ma_test_res[\"CROSS\"] = \"MA_\" + ma_test_res['mashort'].map(str) + \"_\" + ma_test_res['malong'].map(str)"
   ],
   "outputs": [],
   "metadata": {}
  },
  {
   "cell_type": "code",
   "execution_count": 14,
   "source": [
    "ma_test_res.head()"
   ],
   "outputs": [
    {
     "output_type": "execute_result",
     "data": {
      "text/html": [
       "<div>\n",
       "<style scoped>\n",
       "    .dataframe tbody tr th:only-of-type {\n",
       "        vertical-align: middle;\n",
       "    }\n",
       "\n",
       "    .dataframe tbody tr th {\n",
       "        vertical-align: top;\n",
       "    }\n",
       "\n",
       "    .dataframe thead th {\n",
       "        text-align: right;\n",
       "    }\n",
       "</style>\n",
       "<table border=\"1\" class=\"dataframe\">\n",
       "  <thead>\n",
       "    <tr style=\"text-align: right;\">\n",
       "      <th></th>\n",
       "      <th>pair</th>\n",
       "      <th>num_trades</th>\n",
       "      <th>total_gain</th>\n",
       "      <th>mashort</th>\n",
       "      <th>malong</th>\n",
       "      <th>CROSS</th>\n",
       "    </tr>\n",
       "  </thead>\n",
       "  <tbody>\n",
       "    <tr>\n",
       "      <th>0</th>\n",
       "      <td>GBP_USD</td>\n",
       "      <td>562</td>\n",
       "      <td>175.7</td>\n",
       "      <td>4</td>\n",
       "      <td>8</td>\n",
       "      <td>MA_4_8</td>\n",
       "    </tr>\n",
       "    <tr>\n",
       "      <th>1</th>\n",
       "      <td>GBP_USD</td>\n",
       "      <td>306</td>\n",
       "      <td>-25.4</td>\n",
       "      <td>4</td>\n",
       "      <td>16</td>\n",
       "      <td>MA_4_16</td>\n",
       "    </tr>\n",
       "    <tr>\n",
       "      <th>2</th>\n",
       "      <td>GBP_USD</td>\n",
       "      <td>272</td>\n",
       "      <td>87.4</td>\n",
       "      <td>8</td>\n",
       "      <td>16</td>\n",
       "      <td>MA_8_16</td>\n",
       "    </tr>\n",
       "    <tr>\n",
       "      <th>3</th>\n",
       "      <td>GBP_USD</td>\n",
       "      <td>206</td>\n",
       "      <td>-589.3</td>\n",
       "      <td>4</td>\n",
       "      <td>32</td>\n",
       "      <td>MA_4_32</td>\n",
       "    </tr>\n",
       "    <tr>\n",
       "      <th>4</th>\n",
       "      <td>GBP_USD</td>\n",
       "      <td>158</td>\n",
       "      <td>-1205.1</td>\n",
       "      <td>8</td>\n",
       "      <td>32</td>\n",
       "      <td>MA_8_32</td>\n",
       "    </tr>\n",
       "  </tbody>\n",
       "</table>\n",
       "</div>"
      ],
      "text/plain": [
       "      pair  num_trades  total_gain  mashort  malong    CROSS\n",
       "0  GBP_USD         562       175.7        4       8   MA_4_8\n",
       "1  GBP_USD         306       -25.4        4      16  MA_4_16\n",
       "2  GBP_USD         272        87.4        8      16  MA_8_16\n",
       "3  GBP_USD         206      -589.3        4      32  MA_4_32\n",
       "4  GBP_USD         158     -1205.1        8      32  MA_8_32"
      ]
     },
     "metadata": {},
     "execution_count": 14
    }
   ],
   "metadata": {}
  },
  {
   "cell_type": "code",
   "execution_count": 26,
   "source": [
    "df_all_gains = ma_test_res.groupby(by=\"CROSS\", as_index=False).sum()"
   ],
   "outputs": [],
   "metadata": {}
  },
  {
   "cell_type": "code",
   "execution_count": 27,
   "source": [
    "df_all_gains.head()"
   ],
   "outputs": [
    {
     "output_type": "execute_result",
     "data": {
      "text/html": [
       "<div>\n",
       "<style scoped>\n",
       "    .dataframe tbody tr th:only-of-type {\n",
       "        vertical-align: middle;\n",
       "    }\n",
       "\n",
       "    .dataframe tbody tr th {\n",
       "        vertical-align: top;\n",
       "    }\n",
       "\n",
       "    .dataframe thead th {\n",
       "        text-align: right;\n",
       "    }\n",
       "</style>\n",
       "<table border=\"1\" class=\"dataframe\">\n",
       "  <thead>\n",
       "    <tr style=\"text-align: right;\">\n",
       "      <th></th>\n",
       "      <th>CROSS</th>\n",
       "      <th>num_trades</th>\n",
       "      <th>total_gain</th>\n",
       "      <th>mashort</th>\n",
       "      <th>malong</th>\n",
       "    </tr>\n",
       "  </thead>\n",
       "  <tbody>\n",
       "    <tr>\n",
       "      <th>0</th>\n",
       "      <td>MA_16_128</td>\n",
       "      <td>1045</td>\n",
       "      <td>-9299.8</td>\n",
       "      <td>336</td>\n",
       "      <td>2688</td>\n",
       "    </tr>\n",
       "    <tr>\n",
       "      <th>1</th>\n",
       "      <td>MA_16_256</td>\n",
       "      <td>686</td>\n",
       "      <td>-8430.1</td>\n",
       "      <td>336</td>\n",
       "      <td>5376</td>\n",
       "    </tr>\n",
       "    <tr>\n",
       "      <th>2</th>\n",
       "      <td>MA_16_32</td>\n",
       "      <td>2823</td>\n",
       "      <td>376.9</td>\n",
       "      <td>336</td>\n",
       "      <td>672</td>\n",
       "    </tr>\n",
       "    <tr>\n",
       "      <th>3</th>\n",
       "      <td>MA_16_64</td>\n",
       "      <td>1635</td>\n",
       "      <td>-1322.6</td>\n",
       "      <td>336</td>\n",
       "      <td>1344</td>\n",
       "    </tr>\n",
       "    <tr>\n",
       "      <th>4</th>\n",
       "      <td>MA_16_96</td>\n",
       "      <td>1236</td>\n",
       "      <td>-2539.2</td>\n",
       "      <td>336</td>\n",
       "      <td>2016</td>\n",
       "    </tr>\n",
       "  </tbody>\n",
       "</table>\n",
       "</div>"
      ],
      "text/plain": [
       "       CROSS  num_trades  total_gain  mashort  malong\n",
       "0  MA_16_128        1045     -9299.8      336    2688\n",
       "1  MA_16_256         686     -8430.1      336    5376\n",
       "2   MA_16_32        2823       376.9      336     672\n",
       "3   MA_16_64        1635     -1322.6      336    1344\n",
       "4   MA_16_96        1236     -2539.2      336    2016"
      ]
     },
     "metadata": {},
     "execution_count": 27
    }
   ],
   "metadata": {}
  },
  {
   "cell_type": "markdown",
   "source": [
    "因為 ```groupby()``` 的概念是根據原 data frame 的某一 column 重新排列資料，  \r\n",
    "所以預設會將你用來重排的依據 (以此例為依據 ```CROSS```)作為 row 的名稱 (如下圖)  \r\n",
    "如果想保留原先編號 (也就是數字編號)，就要加上 ```as_index``` 參數"
   ],
   "metadata": {}
  },
  {
   "cell_type": "markdown",
   "source": [
    "![例子](data:image/png;base64,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)"
   ],
   "metadata": {}
  },
  {
   "cell_type": "code",
   "execution_count": 28,
   "source": [
    "df_all_gains.head()"
   ],
   "outputs": [
    {
     "output_type": "execute_result",
     "data": {
      "text/html": [
       "<div>\n",
       "<style scoped>\n",
       "    .dataframe tbody tr th:only-of-type {\n",
       "        vertical-align: middle;\n",
       "    }\n",
       "\n",
       "    .dataframe tbody tr th {\n",
       "        vertical-align: top;\n",
       "    }\n",
       "\n",
       "    .dataframe thead th {\n",
       "        text-align: right;\n",
       "    }\n",
       "</style>\n",
       "<table border=\"1\" class=\"dataframe\">\n",
       "  <thead>\n",
       "    <tr style=\"text-align: right;\">\n",
       "      <th></th>\n",
       "      <th>CROSS</th>\n",
       "      <th>num_trades</th>\n",
       "      <th>total_gain</th>\n",
       "      <th>mashort</th>\n",
       "      <th>malong</th>\n",
       "    </tr>\n",
       "  </thead>\n",
       "  <tbody>\n",
       "    <tr>\n",
       "      <th>0</th>\n",
       "      <td>MA_16_128</td>\n",
       "      <td>1045</td>\n",
       "      <td>-9299.8</td>\n",
       "      <td>336</td>\n",
       "      <td>2688</td>\n",
       "    </tr>\n",
       "    <tr>\n",
       "      <th>1</th>\n",
       "      <td>MA_16_256</td>\n",
       "      <td>686</td>\n",
       "      <td>-8430.1</td>\n",
       "      <td>336</td>\n",
       "      <td>5376</td>\n",
       "    </tr>\n",
       "    <tr>\n",
       "      <th>2</th>\n",
       "      <td>MA_16_32</td>\n",
       "      <td>2823</td>\n",
       "      <td>376.9</td>\n",
       "      <td>336</td>\n",
       "      <td>672</td>\n",
       "    </tr>\n",
       "    <tr>\n",
       "      <th>3</th>\n",
       "      <td>MA_16_64</td>\n",
       "      <td>1635</td>\n",
       "      <td>-1322.6</td>\n",
       "      <td>336</td>\n",
       "      <td>1344</td>\n",
       "    </tr>\n",
       "    <tr>\n",
       "      <th>4</th>\n",
       "      <td>MA_16_96</td>\n",
       "      <td>1236</td>\n",
       "      <td>-2539.2</td>\n",
       "      <td>336</td>\n",
       "      <td>2016</td>\n",
       "    </tr>\n",
       "  </tbody>\n",
       "</table>\n",
       "</div>"
      ],
      "text/plain": [
       "       CROSS  num_trades  total_gain  mashort  malong\n",
       "0  MA_16_128        1045     -9299.8      336    2688\n",
       "1  MA_16_256         686     -8430.1      336    5376\n",
       "2   MA_16_32        2823       376.9      336     672\n",
       "3   MA_16_64        1635     -1322.6      336    1344\n",
       "4   MA_16_96        1236     -2539.2      336    2016"
      ]
     },
     "metadata": {},
     "execution_count": 28
    }
   ],
   "metadata": {}
  },
  {
   "cell_type": "markdown",
   "source": [
    "### 增加維度: 改為用 ```CROSS```、```mashort```、以及 ```malong``` 分類"
   ],
   "metadata": {}
  },
  {
   "cell_type": "code",
   "execution_count": 29,
   "source": [
    "df_all_gains = ma_test_res.groupby(by=['CROSS','mashort', 'malong'], as_index=False).sum()"
   ],
   "outputs": [],
   "metadata": {}
  },
  {
   "cell_type": "code",
   "execution_count": 30,
   "source": [
    "df_all_gains.head(10)"
   ],
   "outputs": [
    {
     "output_type": "execute_result",
     "data": {
      "text/html": [
       "<div>\n",
       "<style scoped>\n",
       "    .dataframe tbody tr th:only-of-type {\n",
       "        vertical-align: middle;\n",
       "    }\n",
       "\n",
       "    .dataframe tbody tr th {\n",
       "        vertical-align: top;\n",
       "    }\n",
       "\n",
       "    .dataframe thead th {\n",
       "        text-align: right;\n",
       "    }\n",
       "</style>\n",
       "<table border=\"1\" class=\"dataframe\">\n",
       "  <thead>\n",
       "    <tr style=\"text-align: right;\">\n",
       "      <th></th>\n",
       "      <th>CROSS</th>\n",
       "      <th>mashort</th>\n",
       "      <th>malong</th>\n",
       "      <th>num_trades</th>\n",
       "      <th>total_gain</th>\n",
       "    </tr>\n",
       "  </thead>\n",
       "  <tbody>\n",
       "    <tr>\n",
       "      <th>0</th>\n",
       "      <td>MA_16_128</td>\n",
       "      <td>16</td>\n",
       "      <td>128</td>\n",
       "      <td>1045</td>\n",
       "      <td>-9299.8</td>\n",
       "    </tr>\n",
       "    <tr>\n",
       "      <th>1</th>\n",
       "      <td>MA_16_256</td>\n",
       "      <td>16</td>\n",
       "      <td>256</td>\n",
       "      <td>686</td>\n",
       "      <td>-8430.1</td>\n",
       "    </tr>\n",
       "    <tr>\n",
       "      <th>2</th>\n",
       "      <td>MA_16_32</td>\n",
       "      <td>16</td>\n",
       "      <td>32</td>\n",
       "      <td>2823</td>\n",
       "      <td>376.9</td>\n",
       "    </tr>\n",
       "    <tr>\n",
       "      <th>3</th>\n",
       "      <td>MA_16_64</td>\n",
       "      <td>16</td>\n",
       "      <td>64</td>\n",
       "      <td>1635</td>\n",
       "      <td>-1322.6</td>\n",
       "    </tr>\n",
       "    <tr>\n",
       "      <th>4</th>\n",
       "      <td>MA_16_96</td>\n",
       "      <td>16</td>\n",
       "      <td>96</td>\n",
       "      <td>1236</td>\n",
       "      <td>-2539.2</td>\n",
       "    </tr>\n",
       "    <tr>\n",
       "      <th>5</th>\n",
       "      <td>MA_24_128</td>\n",
       "      <td>24</td>\n",
       "      <td>128</td>\n",
       "      <td>909</td>\n",
       "      <td>-7737.9</td>\n",
       "    </tr>\n",
       "    <tr>\n",
       "      <th>6</th>\n",
       "      <td>MA_24_256</td>\n",
       "      <td>24</td>\n",
       "      <td>256</td>\n",
       "      <td>576</td>\n",
       "      <td>-8951.0</td>\n",
       "    </tr>\n",
       "    <tr>\n",
       "      <th>7</th>\n",
       "      <td>MA_24_32</td>\n",
       "      <td>24</td>\n",
       "      <td>32</td>\n",
       "      <td>3205</td>\n",
       "      <td>-4112.6</td>\n",
       "    </tr>\n",
       "    <tr>\n",
       "      <th>8</th>\n",
       "      <td>MA_24_64</td>\n",
       "      <td>24</td>\n",
       "      <td>64</td>\n",
       "      <td>1421</td>\n",
       "      <td>1051.3</td>\n",
       "    </tr>\n",
       "    <tr>\n",
       "      <th>9</th>\n",
       "      <td>MA_24_96</td>\n",
       "      <td>24</td>\n",
       "      <td>96</td>\n",
       "      <td>1083</td>\n",
       "      <td>-3934.6</td>\n",
       "    </tr>\n",
       "  </tbody>\n",
       "</table>\n",
       "</div>"
      ],
      "text/plain": [
       "       CROSS  mashort  malong  num_trades  total_gain\n",
       "0  MA_16_128       16     128        1045     -9299.8\n",
       "1  MA_16_256       16     256         686     -8430.1\n",
       "2   MA_16_32       16      32        2823       376.9\n",
       "3   MA_16_64       16      64        1635     -1322.6\n",
       "4   MA_16_96       16      96        1236     -2539.2\n",
       "5  MA_24_128       24     128         909     -7737.9\n",
       "6  MA_24_256       24     256         576     -8951.0\n",
       "7   MA_24_32       24      32        3205     -4112.6\n",
       "8   MA_24_64       24      64        1421      1051.3\n",
       "9   MA_24_96       24      96        1083     -3934.6"
      ]
     },
     "metadata": {},
     "execution_count": 30
    }
   ],
   "metadata": {}
  },
  {
   "cell_type": "markdown",
   "source": [
    "### 依照損益排序"
   ],
   "metadata": {}
  },
  {
   "cell_type": "code",
   "execution_count": 32,
   "source": [
    "df_all_gains.sort_values(by='total_gain', ascending=False, inplace=True)"
   ],
   "outputs": [],
   "metadata": {}
  },
  {
   "cell_type": "code",
   "execution_count": 34,
   "source": [
    "df_all_gains.head(10) # 可以看到 30 種 MA 組合中只有 7 種組合帶來正報酬"
   ],
   "outputs": [
    {
     "output_type": "execute_result",
     "data": {
      "text/html": [
       "<div>\n",
       "<style scoped>\n",
       "    .dataframe tbody tr th:only-of-type {\n",
       "        vertical-align: middle;\n",
       "    }\n",
       "\n",
       "    .dataframe tbody tr th {\n",
       "        vertical-align: top;\n",
       "    }\n",
       "\n",
       "    .dataframe thead th {\n",
       "        text-align: right;\n",
       "    }\n",
       "</style>\n",
       "<table border=\"1\" class=\"dataframe\">\n",
       "  <thead>\n",
       "    <tr style=\"text-align: right;\">\n",
       "      <th></th>\n",
       "      <th>CROSS</th>\n",
       "      <th>mashort</th>\n",
       "      <th>malong</th>\n",
       "      <th>num_trades</th>\n",
       "      <th>total_gain</th>\n",
       "    </tr>\n",
       "  </thead>\n",
       "  <tbody>\n",
       "    <tr>\n",
       "      <th>25</th>\n",
       "      <td>MA_8_16</td>\n",
       "      <td>8</td>\n",
       "      <td>16</td>\n",
       "      <td>5761</td>\n",
       "      <td>3044.3</td>\n",
       "    </tr>\n",
       "    <tr>\n",
       "      <th>27</th>\n",
       "      <td>MA_8_32</td>\n",
       "      <td>8</td>\n",
       "      <td>32</td>\n",
       "      <td>3156</td>\n",
       "      <td>3033.9</td>\n",
       "    </tr>\n",
       "    <tr>\n",
       "      <th>18</th>\n",
       "      <td>MA_4_64</td>\n",
       "      <td>4</td>\n",
       "      <td>64</td>\n",
       "      <td>2635</td>\n",
       "      <td>1992.0</td>\n",
       "    </tr>\n",
       "    <tr>\n",
       "      <th>8</th>\n",
       "      <td>MA_24_64</td>\n",
       "      <td>24</td>\n",
       "      <td>64</td>\n",
       "      <td>1421</td>\n",
       "      <td>1051.3</td>\n",
       "    </tr>\n",
       "    <tr>\n",
       "      <th>15</th>\n",
       "      <td>MA_4_16</td>\n",
       "      <td>4</td>\n",
       "      <td>16</td>\n",
       "      <td>6537</td>\n",
       "      <td>828.0</td>\n",
       "    </tr>\n",
       "    <tr>\n",
       "      <th>12</th>\n",
       "      <td>MA_32_64</td>\n",
       "      <td>32</td>\n",
       "      <td>64</td>\n",
       "      <td>1384</td>\n",
       "      <td>808.7</td>\n",
       "    </tr>\n",
       "    <tr>\n",
       "      <th>17</th>\n",
       "      <td>MA_4_32</td>\n",
       "      <td>4</td>\n",
       "      <td>32</td>\n",
       "      <td>4041</td>\n",
       "      <td>511.1</td>\n",
       "    </tr>\n",
       "    <tr>\n",
       "      <th>2</th>\n",
       "      <td>MA_16_32</td>\n",
       "      <td>16</td>\n",
       "      <td>32</td>\n",
       "      <td>2823</td>\n",
       "      <td>376.9</td>\n",
       "    </tr>\n",
       "    <tr>\n",
       "      <th>28</th>\n",
       "      <td>MA_8_64</td>\n",
       "      <td>8</td>\n",
       "      <td>64</td>\n",
       "      <td>1993</td>\n",
       "      <td>-72.7</td>\n",
       "    </tr>\n",
       "    <tr>\n",
       "      <th>19</th>\n",
       "      <td>MA_4_8</td>\n",
       "      <td>4</td>\n",
       "      <td>8</td>\n",
       "      <td>11775</td>\n",
       "      <td>-622.7</td>\n",
       "    </tr>\n",
       "  </tbody>\n",
       "</table>\n",
       "</div>"
      ],
      "text/plain": [
       "       CROSS  mashort  malong  num_trades  total_gain\n",
       "25   MA_8_16        8      16        5761      3044.3\n",
       "27   MA_8_32        8      32        3156      3033.9\n",
       "18   MA_4_64        4      64        2635      1992.0\n",
       "8   MA_24_64       24      64        1421      1051.3\n",
       "15   MA_4_16        4      16        6537       828.0\n",
       "12  MA_32_64       32      64        1384       808.7\n",
       "17   MA_4_32        4      32        4041       511.1\n",
       "2   MA_16_32       16      32        2823       376.9\n",
       "28   MA_8_64        8      64        1993       -72.7\n",
       "19    MA_4_8        4       8       11775      -622.7"
      ]
     },
     "metadata": {},
     "execution_count": 34
    }
   ],
   "metadata": {}
  },
  {
   "cell_type": "markdown",
   "source": [
    "### 抓出表現最好的 MA 組合觀察"
   ],
   "metadata": {}
  },
  {
   "cell_type": "code",
   "execution_count": 38,
   "source": [
    "ma_8_16 = ma_test_res[ ma_test_res['CROSS'] == 'MA_8_16'].copy()"
   ],
   "outputs": [],
   "metadata": {}
  },
  {
   "cell_type": "code",
   "execution_count": 39,
   "source": [
    "# 找出策略每筆交易的狀況\r\n",
    "ma_8_16.sort_values(by='total_gain', ascending=False, inplace=True)"
   ],
   "outputs": [],
   "metadata": {}
  },
  {
   "cell_type": "code",
   "execution_count": 40,
   "source": [
    "ma_8_16.head()"
   ],
   "outputs": [
    {
     "output_type": "execute_result",
     "data": {
      "text/html": [
       "<div>\n",
       "<style scoped>\n",
       "    .dataframe tbody tr th:only-of-type {\n",
       "        vertical-align: middle;\n",
       "    }\n",
       "\n",
       "    .dataframe tbody tr th {\n",
       "        vertical-align: top;\n",
       "    }\n",
       "\n",
       "    .dataframe thead th {\n",
       "        text-align: right;\n",
       "    }\n",
       "</style>\n",
       "<table border=\"1\" class=\"dataframe\">\n",
       "  <thead>\n",
       "    <tr style=\"text-align: right;\">\n",
       "      <th></th>\n",
       "      <th>pair</th>\n",
       "      <th>num_trades</th>\n",
       "      <th>total_gain</th>\n",
       "      <th>mashort</th>\n",
       "      <th>malong</th>\n",
       "      <th>CROSS</th>\n",
       "    </tr>\n",
       "  </thead>\n",
       "  <tbody>\n",
       "    <tr>\n",
       "      <th>212</th>\n",
       "      <td>EUR_CAD</td>\n",
       "      <td>259</td>\n",
       "      <td>1244.9</td>\n",
       "      <td>8</td>\n",
       "      <td>16</td>\n",
       "      <td>MA_8_16</td>\n",
       "    </tr>\n",
       "    <tr>\n",
       "      <th>512</th>\n",
       "      <td>NZD_CAD</td>\n",
       "      <td>257</td>\n",
       "      <td>625.9</td>\n",
       "      <td>8</td>\n",
       "      <td>16</td>\n",
       "      <td>MA_8_16</td>\n",
       "    </tr>\n",
       "    <tr>\n",
       "      <th>422</th>\n",
       "      <td>CAD_JPY</td>\n",
       "      <td>267</td>\n",
       "      <td>573.4</td>\n",
       "      <td>8</td>\n",
       "      <td>16</td>\n",
       "      <td>MA_8_16</td>\n",
       "    </tr>\n",
       "    <tr>\n",
       "      <th>272</th>\n",
       "      <td>EUR_NZD</td>\n",
       "      <td>277</td>\n",
       "      <td>547.4</td>\n",
       "      <td>8</td>\n",
       "      <td>16</td>\n",
       "      <td>MA_8_16</td>\n",
       "    </tr>\n",
       "    <tr>\n",
       "      <th>602</th>\n",
       "      <td>CHF_JPY</td>\n",
       "      <td>279</td>\n",
       "      <td>507.6</td>\n",
       "      <td>8</td>\n",
       "      <td>16</td>\n",
       "      <td>MA_8_16</td>\n",
       "    </tr>\n",
       "  </tbody>\n",
       "</table>\n",
       "</div>"
      ],
      "text/plain": [
       "        pair  num_trades  total_gain  mashort  malong    CROSS\n",
       "212  EUR_CAD         259      1244.9        8      16  MA_8_16\n",
       "512  NZD_CAD         257       625.9        8      16  MA_8_16\n",
       "422  CAD_JPY         267       573.4        8      16  MA_8_16\n",
       "272  EUR_NZD         277       547.4        8      16  MA_8_16\n",
       "602  CHF_JPY         279       507.6        8      16  MA_8_16"
      ]
     },
     "metadata": {},
     "execution_count": 40
    }
   ],
   "metadata": {}
  },
  {
   "cell_type": "markdown",
   "source": [
    "### 計算損益為正的機率"
   ],
   "metadata": {}
  },
  {
   "cell_type": "code",
   "execution_count": 41,
   "source": [
    "profit_p = ma_8_16[ ma_8_16['total_gain'] > 0]"
   ],
   "outputs": [],
   "metadata": {}
  },
  {
   "cell_type": "code",
   "execution_count": 49,
   "source": [
    "pos = profit_p.shape[0]\r\n",
    "pos\r\n",
    "# 共有 15 組貨幣對可以帶來正報酬"
   ],
   "outputs": [
    {
     "output_type": "execute_result",
     "data": {
      "text/plain": [
       "15"
      ]
     },
     "metadata": {},
     "execution_count": 49
    }
   ],
   "metadata": {}
  },
  {
   "cell_type": "code",
   "execution_count": 46,
   "source": [
    "all_pair_count = len(ma_8_16['pair'].unique())\r\n",
    "all_pair_count"
   ],
   "outputs": [
    {
     "output_type": "execute_result",
     "data": {
      "text/plain": [
       "21"
      ]
     },
     "metadata": {},
     "execution_count": 46
    }
   ],
   "metadata": {}
  },
  {
   "cell_type": "code",
   "execution_count": 51,
   "source": [
    "prob = pos / all_pair_count\r\n",
    "prob\r\n",
    "\r\n",
    "# 這代表在 8 MA+16 MA 的組合裡，有約 70% 的商品可以獲利"
   ],
   "outputs": [
    {
     "output_type": "execute_result",
     "data": {
      "text/plain": [
       "0.7142857142857143"
      ]
     },
     "metadata": {},
     "execution_count": 51
    }
   ],
   "metadata": {}
  },
  {
   "cell_type": "markdown",
   "source": [
    "### 延伸: 對所有 MA 組合計算勝率"
   ],
   "metadata": {}
  },
  {
   "cell_type": "code",
   "execution_count": 59,
   "source": [
    "for cross in df_all_gains['CROSS'].unique():\r\n",
    "    # create a temporary data frame\r\n",
    "    df_temp = ma_test_res[ ma_test_res['CROSS'] == cross]\r\n",
    "    \r\n",
    "    # total_p 存放該 MA 組合的交易商品總數\r\n",
    "    total_p = df_temp.shape[0]\r\n",
    "\r\n",
    "    # profit_p 存放該 MA 組合  正損益  的交易商品總數\r\n",
    "    profit_p = df_temp[ df_temp['total_gain'] > 0 ].shape[0]\r\n",
    "    \r\n",
    "    # 印出相關資訊\r\n",
    "    ## 大括號裡的 12 代表留 12 個字元的空間\r\n",
    "    print(f\"{cross:12} {profit_p:4} {(profit_p/total_p)*100:4.0f}%\")"
   ],
   "outputs": [
    {
     "output_type": "stream",
     "name": "stdout",
     "text": [
      "MA_8_16        15   71%\n",
      "MA_8_32        15   71%\n",
      "MA_4_64        13   62%\n",
      "MA_24_64       13   62%\n",
      "MA_4_16        11   52%\n",
      "MA_32_64       11   52%\n",
      "MA_4_32        14   67%\n",
      "MA_16_32       12   57%\n",
      "MA_8_64        10   48%\n",
      "MA_4_8         10   48%\n",
      "MA_16_64        8   38%\n",
      "MA_4_96         9   43%\n",
      "MA_8_96         8   38%\n",
      "MA_16_96        8   38%\n",
      "MA_32_96        7   33%\n",
      "MA_24_96        8   38%\n",
      "MA_24_32        7   33%\n",
      "MA_4_128        7   33%\n",
      "MA_64_128       3   14%\n",
      "MA_32_128       7   33%\n",
      "MA_8_128        5   24%\n",
      "MA_24_128       7   33%\n",
      "MA_16_256       4   19%\n",
      "MA_8_256        4   19%\n",
      "MA_64_96        4   19%\n",
      "MA_24_256       6   29%\n",
      "MA_16_128       5   24%\n",
      "MA_4_256        2   10%\n",
      "MA_32_256       6   29%\n",
      "MA_64_256       6   29%\n"
     ]
    }
   ],
   "metadata": {}
  },
  {
   "cell_type": "markdown",
   "source": [
    "可以發現完整觀察不同週期交易各種貨幣對的勝率，其中我們發現:  \r\n",
    "- 似乎選週期 4 (即四小時圖)與其他長線搭配，勝率都不錯\r\n",
    "- 長線週期選越大，感覺勝率越低"
   ],
   "metadata": {}
  }
 ],
 "metadata": {
  "orig_nbformat": 4,
  "language_info": {
   "name": "python",
   "version": "3.9.7",
   "mimetype": "text/x-python",
   "codemirror_mode": {
    "name": "ipython",
    "version": 3
   },
   "pygments_lexer": "ipython3",
   "nbconvert_exporter": "python",
   "file_extension": ".py"
  },
  "kernelspec": {
   "name": "python3",
   "display_name": "Python 3.9.7 64-bit ('venv': venv)"
  },
  "interpreter": {
   "hash": "b0b5f533ece29e619ef82558aa36dc65e23f2612523c2030a9b8c4d2f5e86771"
  }
 },
 "nbformat": 4,
 "nbformat_minor": 2
}