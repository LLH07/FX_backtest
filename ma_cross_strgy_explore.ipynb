{
 "cells": [
  {
   "cell_type": "code",
   "execution_count": 1,
   "source": [
    "import pandas as pd\r\n",
    "import plotly.graph_objects as go"
   ],
   "outputs": [],
   "metadata": {}
  },
  {
   "cell_type": "code",
   "execution_count": 2,
   "source": [
    "ma_test_res = pd.read_pickle(\"ma_test_res.pkl\")\r\n",
    "all_trades = pd.read_pickle(\"all_trades.pkl\")"
   ],
   "outputs": [],
   "metadata": {}
  },
  {
   "cell_type": "code",
   "execution_count": 3,
   "source": [
    "ma_test_res.head()"
   ],
   "outputs": [
    {
     "output_type": "execute_result",
     "data": {
      "text/html": [
       "<div>\n",
       "<style scoped>\n",
       "    .dataframe tbody tr th:only-of-type {\n",
       "        vertical-align: middle;\n",
       "    }\n",
       "\n",
       "    .dataframe tbody tr th {\n",
       "        vertical-align: top;\n",
       "    }\n",
       "\n",
       "    .dataframe thead th {\n",
       "        text-align: right;\n",
       "    }\n",
       "</style>\n",
       "<table border=\"1\" class=\"dataframe\">\n",
       "  <thead>\n",
       "    <tr style=\"text-align: right;\">\n",
       "      <th></th>\n",
       "      <th>pair</th>\n",
       "      <th>num_trades</th>\n",
       "      <th>total_gain</th>\n",
       "      <th>mean_gain</th>\n",
       "      <th>min_gain</th>\n",
       "      <th>max_gain</th>\n",
       "      <th>mashort</th>\n",
       "      <th>malong</th>\n",
       "    </tr>\n",
       "  </thead>\n",
       "  <tbody>\n",
       "    <tr>\n",
       "      <th>0</th>\n",
       "      <td>GBP_USD</td>\n",
       "      <td>562</td>\n",
       "      <td>175.7</td>\n",
       "      <td>0.312633</td>\n",
       "      <td>-76.2</td>\n",
       "      <td>205.6</td>\n",
       "      <td>4</td>\n",
       "      <td>8</td>\n",
       "    </tr>\n",
       "    <tr>\n",
       "      <th>1</th>\n",
       "      <td>GBP_USD</td>\n",
       "      <td>306</td>\n",
       "      <td>-25.4</td>\n",
       "      <td>-0.083007</td>\n",
       "      <td>-86.7</td>\n",
       "      <td>224.8</td>\n",
       "      <td>4</td>\n",
       "      <td>16</td>\n",
       "    </tr>\n",
       "    <tr>\n",
       "      <th>2</th>\n",
       "      <td>GBP_USD</td>\n",
       "      <td>272</td>\n",
       "      <td>87.4</td>\n",
       "      <td>0.321324</td>\n",
       "      <td>-91.5</td>\n",
       "      <td>211.6</td>\n",
       "      <td>8</td>\n",
       "      <td>16</td>\n",
       "    </tr>\n",
       "    <tr>\n",
       "      <th>3</th>\n",
       "      <td>GBP_USD</td>\n",
       "      <td>206</td>\n",
       "      <td>-589.3</td>\n",
       "      <td>-2.860680</td>\n",
       "      <td>-112.2</td>\n",
       "      <td>217.6</td>\n",
       "      <td>4</td>\n",
       "      <td>32</td>\n",
       "    </tr>\n",
       "    <tr>\n",
       "      <th>4</th>\n",
       "      <td>GBP_USD</td>\n",
       "      <td>158</td>\n",
       "      <td>-1205.1</td>\n",
       "      <td>-7.627215</td>\n",
       "      <td>-120.8</td>\n",
       "      <td>204.4</td>\n",
       "      <td>8</td>\n",
       "      <td>32</td>\n",
       "    </tr>\n",
       "  </tbody>\n",
       "</table>\n",
       "</div>"
      ],
      "text/plain": [
       "      pair  num_trades  total_gain  mean_gain  min_gain  max_gain  mashort  \\\n",
       "0  GBP_USD         562       175.7   0.312633     -76.2     205.6        4   \n",
       "1  GBP_USD         306       -25.4  -0.083007     -86.7     224.8        4   \n",
       "2  GBP_USD         272        87.4   0.321324     -91.5     211.6        8   \n",
       "3  GBP_USD         206      -589.3  -2.860680    -112.2     217.6        4   \n",
       "4  GBP_USD         158     -1205.1  -7.627215    -120.8     204.4        8   \n",
       "\n",
       "   malong  \n",
       "0       8  \n",
       "1      16  \n",
       "2      16  \n",
       "3      32  \n",
       "4      32  "
      ]
     },
     "metadata": {},
     "execution_count": 3
    }
   ],
   "metadata": {}
  },
  {
   "cell_type": "code",
   "execution_count": 4,
   "source": [
    "ma_test_res.shape"
   ],
   "outputs": [
    {
     "output_type": "execute_result",
     "data": {
      "text/plain": [
       "(630, 8)"
      ]
     },
     "metadata": {},
     "execution_count": 4
    }
   ],
   "metadata": {}
  },
  {
   "cell_type": "code",
   "execution_count": 5,
   "source": [
    "ma_test_res['pair'].unique()"
   ],
   "outputs": [
    {
     "output_type": "execute_result",
     "data": {
      "text/plain": [
       "array(['GBP_USD', 'GBP_CAD', 'GBP_JPY', 'GBP_NZD', 'GBP_CHF', 'EUR_GBP',\n",
       "       'EUR_USD', 'EUR_CAD', 'EUR_JPY', 'EUR_NZD', 'EUR_CHF', 'USD_CAD',\n",
       "       'USD_JPY', 'USD_CHF', 'CAD_JPY', 'CAD_CHF', 'NZD_USD', 'NZD_CAD',\n",
       "       'NZD_JPY', 'NZD_CHF', 'CHF_JPY'], dtype=object)"
      ]
     },
     "metadata": {},
     "execution_count": 5
    }
   ],
   "metadata": {}
  },
  {
   "cell_type": "markdown",
   "source": [
    "630 是指可供交易的 21 個貨幣對與 6 個慢線，7 個快線的組合數 (注意到快線週期不能大於慢線週期) (21*30=630)   \r\n",
    "8 指的是有每個組合有 8 筆資訊 (即 ```ma_res.py``` 的 ```res_ob``` 物件)"
   ],
   "metadata": {}
  },
  {
   "cell_type": "code",
   "execution_count": 6,
   "source": [
    "ma_test_res.columns"
   ],
   "outputs": [
    {
     "output_type": "execute_result",
     "data": {
      "text/plain": [
       "Index(['pair', 'num_trades', 'total_gain', 'mean_gain', 'min_gain', 'max_gain',\n",
       "       'mashort', 'malong'],\n",
       "      dtype='object')"
      ]
     },
     "metadata": {},
     "execution_count": 6
    }
   ],
   "metadata": {}
  },
  {
   "cell_type": "code",
   "execution_count": 7,
   "source": [
    "ma_test_res = ma_test_res[ ['pair', 'num_trades', 'total_gain', 'mashort', 'malong'] ]"
   ],
   "outputs": [],
   "metadata": {}
  },
  {
   "cell_type": "code",
   "execution_count": 8,
   "source": [
    "ma_test_res.head()"
   ],
   "outputs": [
    {
     "output_type": "execute_result",
     "data": {
      "text/html": [
       "<div>\n",
       "<style scoped>\n",
       "    .dataframe tbody tr th:only-of-type {\n",
       "        vertical-align: middle;\n",
       "    }\n",
       "\n",
       "    .dataframe tbody tr th {\n",
       "        vertical-align: top;\n",
       "    }\n",
       "\n",
       "    .dataframe thead th {\n",
       "        text-align: right;\n",
       "    }\n",
       "</style>\n",
       "<table border=\"1\" class=\"dataframe\">\n",
       "  <thead>\n",
       "    <tr style=\"text-align: right;\">\n",
       "      <th></th>\n",
       "      <th>pair</th>\n",
       "      <th>num_trades</th>\n",
       "      <th>total_gain</th>\n",
       "      <th>mashort</th>\n",
       "      <th>malong</th>\n",
       "    </tr>\n",
       "  </thead>\n",
       "  <tbody>\n",
       "    <tr>\n",
       "      <th>0</th>\n",
       "      <td>GBP_USD</td>\n",
       "      <td>562</td>\n",
       "      <td>175.7</td>\n",
       "      <td>4</td>\n",
       "      <td>8</td>\n",
       "    </tr>\n",
       "    <tr>\n",
       "      <th>1</th>\n",
       "      <td>GBP_USD</td>\n",
       "      <td>306</td>\n",
       "      <td>-25.4</td>\n",
       "      <td>4</td>\n",
       "      <td>16</td>\n",
       "    </tr>\n",
       "    <tr>\n",
       "      <th>2</th>\n",
       "      <td>GBP_USD</td>\n",
       "      <td>272</td>\n",
       "      <td>87.4</td>\n",
       "      <td>8</td>\n",
       "      <td>16</td>\n",
       "    </tr>\n",
       "    <tr>\n",
       "      <th>3</th>\n",
       "      <td>GBP_USD</td>\n",
       "      <td>206</td>\n",
       "      <td>-589.3</td>\n",
       "      <td>4</td>\n",
       "      <td>32</td>\n",
       "    </tr>\n",
       "    <tr>\n",
       "      <th>4</th>\n",
       "      <td>GBP_USD</td>\n",
       "      <td>158</td>\n",
       "      <td>-1205.1</td>\n",
       "      <td>8</td>\n",
       "      <td>32</td>\n",
       "    </tr>\n",
       "  </tbody>\n",
       "</table>\n",
       "</div>"
      ],
      "text/plain": [
       "      pair  num_trades  total_gain  mashort  malong\n",
       "0  GBP_USD         562       175.7        4       8\n",
       "1  GBP_USD         306       -25.4        4      16\n",
       "2  GBP_USD         272        87.4        8      16\n",
       "3  GBP_USD         206      -589.3        4      32\n",
       "4  GBP_USD         158     -1205.1        8      32"
      ]
     },
     "metadata": {},
     "execution_count": 8
    }
   ],
   "metadata": {}
  },
  {
   "cell_type": "markdown",
   "source": [
    "### 將快慢線組成統一名稱"
   ],
   "metadata": {}
  },
  {
   "cell_type": "markdown",
   "source": [
    "這裡會使用 <font colo='red'> Pandas </font> 裡的 ```map()``` function，  \r\n",
    "注意到 python 也有內建的 map 函數，  \r\n",
    "但功能我看起來是差不多，就是將 ```map()``` 括號內參數的動作帶入"
   ],
   "metadata": {}
  },
  {
   "cell_type": "code",
   "execution_count": 9,
   "source": [
    "ma_test_res[\"CROSS\"] = \"MA_\" + ma_test_res['mashort'].map(str) + \"_\" + ma_test_res['malong'].map(str)"
   ],
   "outputs": [],
   "metadata": {}
  },
  {
   "cell_type": "code",
   "execution_count": 10,
   "source": [
    "ma_test_res.head()"
   ],
   "outputs": [
    {
     "output_type": "execute_result",
     "data": {
      "text/html": [
       "<div>\n",
       "<style scoped>\n",
       "    .dataframe tbody tr th:only-of-type {\n",
       "        vertical-align: middle;\n",
       "    }\n",
       "\n",
       "    .dataframe tbody tr th {\n",
       "        vertical-align: top;\n",
       "    }\n",
       "\n",
       "    .dataframe thead th {\n",
       "        text-align: right;\n",
       "    }\n",
       "</style>\n",
       "<table border=\"1\" class=\"dataframe\">\n",
       "  <thead>\n",
       "    <tr style=\"text-align: right;\">\n",
       "      <th></th>\n",
       "      <th>pair</th>\n",
       "      <th>num_trades</th>\n",
       "      <th>total_gain</th>\n",
       "      <th>mashort</th>\n",
       "      <th>malong</th>\n",
       "      <th>CROSS</th>\n",
       "    </tr>\n",
       "  </thead>\n",
       "  <tbody>\n",
       "    <tr>\n",
       "      <th>0</th>\n",
       "      <td>GBP_USD</td>\n",
       "      <td>562</td>\n",
       "      <td>175.7</td>\n",
       "      <td>4</td>\n",
       "      <td>8</td>\n",
       "      <td>MA_4_8</td>\n",
       "    </tr>\n",
       "    <tr>\n",
       "      <th>1</th>\n",
       "      <td>GBP_USD</td>\n",
       "      <td>306</td>\n",
       "      <td>-25.4</td>\n",
       "      <td>4</td>\n",
       "      <td>16</td>\n",
       "      <td>MA_4_16</td>\n",
       "    </tr>\n",
       "    <tr>\n",
       "      <th>2</th>\n",
       "      <td>GBP_USD</td>\n",
       "      <td>272</td>\n",
       "      <td>87.4</td>\n",
       "      <td>8</td>\n",
       "      <td>16</td>\n",
       "      <td>MA_8_16</td>\n",
       "    </tr>\n",
       "    <tr>\n",
       "      <th>3</th>\n",
       "      <td>GBP_USD</td>\n",
       "      <td>206</td>\n",
       "      <td>-589.3</td>\n",
       "      <td>4</td>\n",
       "      <td>32</td>\n",
       "      <td>MA_4_32</td>\n",
       "    </tr>\n",
       "    <tr>\n",
       "      <th>4</th>\n",
       "      <td>GBP_USD</td>\n",
       "      <td>158</td>\n",
       "      <td>-1205.1</td>\n",
       "      <td>8</td>\n",
       "      <td>32</td>\n",
       "      <td>MA_8_32</td>\n",
       "    </tr>\n",
       "  </tbody>\n",
       "</table>\n",
       "</div>"
      ],
      "text/plain": [
       "      pair  num_trades  total_gain  mashort  malong    CROSS\n",
       "0  GBP_USD         562       175.7        4       8   MA_4_8\n",
       "1  GBP_USD         306       -25.4        4      16  MA_4_16\n",
       "2  GBP_USD         272        87.4        8      16  MA_8_16\n",
       "3  GBP_USD         206      -589.3        4      32  MA_4_32\n",
       "4  GBP_USD         158     -1205.1        8      32  MA_8_32"
      ]
     },
     "metadata": {},
     "execution_count": 10
    }
   ],
   "metadata": {}
  },
  {
   "cell_type": "code",
   "execution_count": 11,
   "source": [
    "df_all_gains = ma_test_res.groupby(by=\"CROSS\", as_index=False).sum()"
   ],
   "outputs": [],
   "metadata": {}
  },
  {
   "cell_type": "code",
   "execution_count": 12,
   "source": [
    "df_all_gains.head()"
   ],
   "outputs": [
    {
     "output_type": "execute_result",
     "data": {
      "text/html": [
       "<div>\n",
       "<style scoped>\n",
       "    .dataframe tbody tr th:only-of-type {\n",
       "        vertical-align: middle;\n",
       "    }\n",
       "\n",
       "    .dataframe tbody tr th {\n",
       "        vertical-align: top;\n",
       "    }\n",
       "\n",
       "    .dataframe thead th {\n",
       "        text-align: right;\n",
       "    }\n",
       "</style>\n",
       "<table border=\"1\" class=\"dataframe\">\n",
       "  <thead>\n",
       "    <tr style=\"text-align: right;\">\n",
       "      <th></th>\n",
       "      <th>CROSS</th>\n",
       "      <th>num_trades</th>\n",
       "      <th>total_gain</th>\n",
       "      <th>mashort</th>\n",
       "      <th>malong</th>\n",
       "    </tr>\n",
       "  </thead>\n",
       "  <tbody>\n",
       "    <tr>\n",
       "      <th>0</th>\n",
       "      <td>MA_16_128</td>\n",
       "      <td>1045</td>\n",
       "      <td>-9299.8</td>\n",
       "      <td>336</td>\n",
       "      <td>2688</td>\n",
       "    </tr>\n",
       "    <tr>\n",
       "      <th>1</th>\n",
       "      <td>MA_16_256</td>\n",
       "      <td>686</td>\n",
       "      <td>-8430.1</td>\n",
       "      <td>336</td>\n",
       "      <td>5376</td>\n",
       "    </tr>\n",
       "    <tr>\n",
       "      <th>2</th>\n",
       "      <td>MA_16_32</td>\n",
       "      <td>2823</td>\n",
       "      <td>376.9</td>\n",
       "      <td>336</td>\n",
       "      <td>672</td>\n",
       "    </tr>\n",
       "    <tr>\n",
       "      <th>3</th>\n",
       "      <td>MA_16_64</td>\n",
       "      <td>1635</td>\n",
       "      <td>-1322.6</td>\n",
       "      <td>336</td>\n",
       "      <td>1344</td>\n",
       "    </tr>\n",
       "    <tr>\n",
       "      <th>4</th>\n",
       "      <td>MA_16_96</td>\n",
       "      <td>1236</td>\n",
       "      <td>-2539.2</td>\n",
       "      <td>336</td>\n",
       "      <td>2016</td>\n",
       "    </tr>\n",
       "  </tbody>\n",
       "</table>\n",
       "</div>"
      ],
      "text/plain": [
       "       CROSS  num_trades  total_gain  mashort  malong\n",
       "0  MA_16_128        1045     -9299.8      336    2688\n",
       "1  MA_16_256         686     -8430.1      336    5376\n",
       "2   MA_16_32        2823       376.9      336     672\n",
       "3   MA_16_64        1635     -1322.6      336    1344\n",
       "4   MA_16_96        1236     -2539.2      336    2016"
      ]
     },
     "metadata": {},
     "execution_count": 12
    }
   ],
   "metadata": {}
  },
  {
   "cell_type": "markdown",
   "source": [
    "因為 ```groupby()``` 的概念是根據原 data frame 的某一 column 重新排列資料，  \r\n",
    "所以預設會將你用來重排的依據 (以此例為依據 ```CROSS```)作為 row 的名稱 (如下圖)  \r\n",
    "如果想保留原先編號 (也就是數字編號)，就要加上 ```as_index``` 參數"
   ],
   "metadata": {}
  },
  {
   "cell_type": "markdown",
   "source": [
    "![例子](data:image/png;base64,iVBORw0KGgoAAAANSUhEUgAAAlsAAAHCCAIAAABXJpswAAAAAXNSR0IArs4c6QAAAARnQU1BAACxjwv8YQUAAAAJcEhZcwAADsMAAA7DAcdvqGQAAG23SURBVHhe7Z0JeBRF+sbDEY4QCCEQCJCEEAQ5wn0KgiIgRBBFFBGQ00VcwVWjfwHXLK6gK3igq8KqIKfHcojcoggIcihXuOQKEI6QQAhHCJAA+b89X6e26ZnpTBKOzMz7e3zGOrp7uqq++t76qjtDobCwMB9CCCHE6yms/58QQgjxbqiIhBBCiMad3zUNCQnXU4QQQsido0AoYkpKop7JB4UKFdJThBBCSO7hrikhhBCiQUUkhBBCNKiIhBBCiAYVkRBCCNGgIhJCCCEaVERCCCFEg4pICCGEaFARCSGEEA0qIiGEEKJBRSSEEEI0qIiEEEKIBhWREEII0aAiEkIIIRr8ty8I8XwGDx6spxzx5Zdf6imSG9irngcVkRDPB7578ozJeuZGhvYbSt+dN9irngd3TQnxUu6KvKtBvQbFixfX8ySXYBVe5+46UXWjSpYoqRcVVEJDQxs2bFihQgXJIoEsCiVLFEUCAgL05B2idOmyly6l6Zl8wBiREGc0btx4c9xmSRcpUqT/U/3/72//161Lt3tb35uRkbFy5UqpIrmibdu2Dz/08MPRDz/S7ZHIiMgdu3dcvnJZqpo2aLp161ZJ31mio6Nfe+21Rx999L777rt+/fq2bdtQ+MQTTwwdOrRz584dO3Y8d+7ckSNH5GBCRSTEbXj//fcHDx586dKlffv26UWuoRQRcggt7HBfByT27t+74Y8NhX0K//bbbxGN2wz49/xGD/U+vHVd+rkzchaxplGjRjv+3JGZkRkUFBQRHlGvdr1NmzeJKBYQRYS1QPxKliwJzdu0adOWLVsSE7VHVIULF75y5UqpUqXKly/fpEkTrIr27t0rp3g5nqaInTp1ev3115s3b85lr+uMHTu2X79+8LMHDx7Ui24SUVFRb7311gMPPLB9+/a0tJswyl7Ogw8+WKZMGXRmnhURcWH0g9GXL1+ePHUy/tuyfUvdmnXhuwNDwu5u2+VaxpXdvyy8FYpYMaDUB30f7Na45qb4410a1Ih9tF1kcLl1+47q1T4+JXyLPt6izvMdm/VpHfVEizpdG9asElj6zxOnixUt8s+e9z1zX+PHm9eR/x5pUqtxtUpHTp9LvagHZKVLFHvmvkZ/7dCsd6t6qK1bNfjAyTMXLmdILa781D31RnRq3ueeqMea1b6/TrXrWVnxyWezbLVwG/fcVTXmoVb9722A7+1Sv0ZouTL43oyr12z1PgPubTDy4Tb+xYsdS70wvncHHLM/KfXU+YuoatCgwbRvpq1auypuV1z9evXDqob5+/tDFFFVEBSxWbNmvXr1gvjNnz9/woQJf/zxh8ghQALZpUuXli1btkaNGtWqVYMipqSkSK0342nPEYsVK4aFD9ZEep64ALoLnYau0/M3DwQiuLKfn1/RokX1InLnwHDc2+reokWK/rbxt59W/aSX3nZEyZLO/W+FVKZk8TGPtYOY+RX33XP81PaEpMxr19reHT6sQ9MitpUu9CnuaPIfhxLxX0rapciK5f6v6z3h5cvKua8/ci8Ovpx5dcthrbZOlfIoCQ0qg1qcPbR9k4ca3nUtKwu1+0+eKetXfGDbhi92blGksHblNjXDnu/YPMi/JFQQ3wuxxKXe6fVASIA/ao3g+mlXMjKuXT99QZNDI4i2Fy5dePXa1SYNm0RGROqld5q2bdtCoffs2fPNN9/oRTdy/fr12bNnHzp0KDAw8P7779dLvRu+WUOIt3B3zbtDKoVcSLuwZt0aveh2cSXz2sUretBmAqIFiapWviw0b9jUxW9+/+u4H9Y+99XSL1dt/WTF71AyHHMp8+oXq7aMX/wb/vvbzOWr9xwJ8Ctxby3txZB7a4WFBQVsPXJy+PRl/1qk1S6LOxhYqsTjzergyhVK+9WuXP70hfTX/7sStW/MXTVs6pKZ63ZMWrn52nXtyvfchYtk/eeXLWPmr8H3Dp2yGFXvL92QmC3YkFhJWPPLr78knkxEBF+3dl296I5SoUKF6tWrZ2RkrFu3Dsqnl9px4cKFjRs34oC77roL0aRe6sV4zsp91KhRzZo1k3RERMT8+fMlferUqX/+859Hj2r7Mzigb9++VapUwWL50qVLmzdv/uKLL86dO4eq999/v2LFivHx8bVr105LS/v11187dOjg6+u7du3aDz/8sGHDhq+88kpSUtK2bds6d+6MoAqmtmXLlkmTJsnpFnTt2vXpp5/GpfS8AazOXnrpJT3jBLQL37579+46depcu3ZtxYoV9957Lybezp07J0yYAINu3br1X//6V9wSzDo9PX379u3Tp09PTk7Wz3eONAoBnGQH25D0ggULvvrqKyRKlCgxcOBAfCOuj29HD3z33XerV6+WwzCFHnvssY4dO5YtW1YamJWVdfDgwb///e9PPvlk9+7d5TB8xUcffSRp3OH48ePl8b4FajQxfDNmzOjZs2fVqlVxcfTYxIkTjx07hqoHHnigV69eQUFBhQoVwpCtWbNmypQpavKjtkePHqhV71Li5v/1r3/hCpK1oGXLlrCTkJAQpPFdGOiHHnoI9zxu3Dg1mpmZmV9//TX8SNOmTREBwwxmzpz5888/4xQLMxswYAC65ffff8eltG+yGR6ahiFbtGiRi2YWGRk5bdo02ABGBM3B92LQ+/Xr98gjj+zbt2/06NGqE5566ikMEAplPxzhC8bi2PFjO/fslAPsaTfg5YgmbYr4FstIT4v/Y82KT/+Zfu5M95Ef3N02+s81Sxa8/aJ+HAz7lfF12z+Mwi0z38eIq/cYjajhvnr9OuK8Uo5eaw0LKhsVGgzR+vyXzRevZEohYsQfd8Yj4V/CvHUBidyfdOb+OtWKFi5ctEjhZtUrX7+etXL3YZwitT/GHbznrqqRFQOD/P1gG4ULF7qUeS3jqt4nFy5nLNz6vz1nRIo45XKmvkeKGPGX3YclLaRn6LdkDWYiFDGsalil4Ep6UU5YTJ/Lly8bDQNVYhsXL14Ub2btr3A8zA+XhdnkuMF+4MCBK1eulC5dOjQ0lK/YeM6iAJ4LQ4tPuAPYDdICjAbmhQNatWo1fPhwGNmZM2dgdjA+aMlzzz2nVkZwQGD//v3wNS1atNizZw8KoUPqHeVKlSrBT+H0hIQEzDQc8+yzz0qVBadPn8bX6XdzIy7aHwwd7gYSiES7du1g4levXq1RowY8I2rhFnEdXO3EiRM4AI168803XXmvGhNJbgPdhU6TDhREUNEzL774ImYs0vC88NToAagmetJ2AZ/+/ftDk8qVK5eamionoqU4Fx2OT2RxFm4VWYyCHABceaAoN4MbK1WqFCQEX4E2Yt6iyXAiOODhhx/+y1/+gvLExMTDhw9D9jA0gwYNktOjo6NRi7s1WgL6x5WvjoqKGjp0KBzK+fPncdswhvvvvx/aJrUymugKdHXjxo3hp3ADKAwICIAgYZiaNGny/PPPo/9hJ2g+TjSZWY7kaGZQXIwXWgQvDDPAxRENIBTAKISHh0PO9eNsbcEnllOwdiTKBZYrWqTo+QvnYTO2ejMl/MuENWhxNulY8sE9hYsWrXVvl84vvFWocJE/1y6HQFap26RijTpyZJngypVr1b+acfnw1t9M42vC2Ofn06+kZ2ueIqJCQKnivgeSUpPPp+tFliDyCy2n7YimXcnwL14swK/4xYzMI6fPSi04c/HSqfPpuGbFAP+zFy8nnk2rFOD/YpeW4eUdvDPxZ+JpSOagtg0Raxa27dA65MTZnC0HiojP4ArBks0Ri+mjH2GJtb/Ceg4mikvBkGyHOyUlJUUmWmBgoF7kxXhOjIjFFD5lCQ+rwnpKyhXw7Bj1H3/8cfJk7Y9q4URee+01uAx4kN9++w0l8N2rVq1CAm5348aNWNrXqlVLOzMbWNi33347Z84cpOGR+/TpgwUaTBAeRw5wyAYbeiavIKrAQhv3AzlETIAgGG2RKuP1EdKNHDmyXr16iOpmz54thc7ADIyNjUVCVqPLly+X1agCPYP+gbt/55134PJQAqno1KkTenL9+vXIohYeH2fZ/zHyEhtqYYt1q4TpLiKjiRsLCwuDN4fGYLUrEQ9uFetZqBTUAuEjwlkciVtFoIzPlStX4lbxvcWKFfvjjz/Gjh1ru14uaNOmDRbXuAgWFvhSSN0bb7yhXkCT3pZQD3fy2WefYXkOG3j11VdxFtyQvPwC9/T6669DtzAQw4YNM5pZjlibGWphCRgRXBx3hZvEbeDiGG58KW6+efPm8kWIX4ODgyFIiCAl4C5SuAg6zcLhIjRcM+2DTXOnIF3nvq6dho+pUqcR/tu3bkWzRweE1Kxf856OSQe026hcq4FfYPkLp5MOb11/7tQp3I/tAk7JvHpt17FTSCBSPHk27Y9DiYezNawIFguFCqVetNqcLOlbdMh9jeVtl6rlSgeXKYWYct2+o8V9i5QqXgznquASXLl6DYEdWor4D+lJP/8RE33P3SFB7/R64NCpszPX7dhz4pRthaCxcMv+kAD/NrXCtJd67on6YcveFTsPSbgpyN0eP3NemlC6RPHLGVf1uvxhMX1cwdpfyRoOx2DZJCXEFbxl4xjrJjgOGAf8l5TA5SG2KFq0aFBQkJQYcbiIRtAA5yLpX375BYGCn58fVuVScnuQxb4JhCZwnc8884y8MgoPA1eo1+WDmjVrYhEKRyxyCDDx4E/h+iXigVjis3379mPGjMENONw3yyf4ItyA7BnC6UMRIbFwAWjgqVOnlMZApZDFcMg6F3EbOqp+/fpvv/02dNSViFkBDYbYwL/Il+LT2YoHq29EZkjgAGgkOh9BISI8GM+WLVtwEVThgJMnT2KlgmDOdlLOWJtZZmZmXFycXBz3hjS6qFq1ashimYLRx6jJ6MM/YumAyHjnTqd7pCYupp6O/0N/xLhnzdJzJ48V9/OvGFkn6/q1/et/9sm6Ht6wFUJG1Fa+u0GxkqWSDuw6l6TtYOcIlGn62jj8h8Su46fGL/5t1Z5cbNAVK1qkfmhw04gQ/IeALz45deyCtQj+9GpLcNgrX6+YtHIztC2iQtm/P3JvTHSrEr56MADx++SnP96Yu2p7QlKZksX739vgg76dcJjUArlbfEoTPvnp93OXruh1+eMmTh9nQT/JLd6iiALW1Aga5meDhTNW3A4V0SEwO7W+hrhi/YWE2k9zBsLW7777Tv/KG0EMpB+UV+ANX375ZUQqAwcOjLbRokULlMOHygH5p127dvrtzp+PmBJX9vf3r1KlCqq++OILeHwsxqE9uIFJkyb95z//wfFy4k0BnQyp0zM3UrlyZXydfmfz5yNuxvpGHv59/fXXy5Ytu3LlClTh8ccfnzhx4tSpU5944gk50ZrixYtjoCFLet65u0lJSRFlUmCtAPFDobITpM+ePYsukjWEK+TNzACWBUeOHIFjbd26NbIYFJwFtVY3eTrldObVzArl8+J5/4RAJp+oEH5XzdYdIYph9Vtcy7xyeKu2IsGCwzgQRmbNmoV4Xa7gjGu4v6ysinbvdhqBCI2YsazXv+fGzl11KeNq0SKFz1/WZOna9SyEboGlSpYq/r/n9MWLFvEr5oslkbw7A+Tp4Euzf8TpJ1LTmkZUfrLlDe+/7D95ZtwPa5+fvvTXvQlB/iWffaCJ/fPLHCkboOmo6+J0S6cPFoWwHEzVHJeDWDYVK1YMg6DsxJvxFkWEcWCGZGRkrFmzRjb0hIULF7q4lwXgX+DvJA0zcvEvCuTJkzwnMJH/59gPPPBA8+bN4TfnzZuHlSaQlztuCjZPlZWQkKB3VjaLFy+WLdDk5OQJEyYgCBsxYsR///tfNAfLC4RK1atXlyvcImT2pqWl/fTTT/o92Vi0aNGmTdpfg0FR4FyefvrpoUOHQgv37t2L8XrkkUfuueceuYIF8GgY6DJltCdVgitqJED88NUQP2UnSEMm0Y24YSkxAv1Wu98K180MF0foiSsfPqy9DIIE9A+FMAmEiVi1IGTctWuXHAxSUlOuZl71L+UfHprzxkZY/eb+QRWvpKclHdRCZMSCiAiL+fnf3ebBKnUala5QKf3smeN7tD+5Q5PjXXuO6JDjqRcuZ1ytVj6gSmBpvcg5B5JTDyanhpYrY3tH1OfCpSupFy+X9C1qPDfAr3hgqRIXr2Qa/8ADZGX57Dt5ZsY6LU6tXaU8VFOvyOZM2qVpv24/fuZCxTKl5E87ckXF4IoYgqPHXX06kKvpI88F9YwLYEmH0cf6NcfQE1eGveF4iKhe5MV4miLKAg0rI5NVYbCPHz+OpRDc04IFCz7PZsqUKTm+i6WAl2zQoIGksfItX758enq62lF0BlbuI0eOfMURiF30g/IKvB4aBb8zY8aMbdu2nThxIg9qJBogYZ8RXBbODs08duyY3l825NGdEQjk7NmzERAgLCtZsqSSEzgIgBL7i+eHQ4cOYZ2B2Q61QMP12/r88+l2L9kivvzhhx+w+j5z5gwOLleunF5ho1mzZoh65VUdBewEotKkSRN5dojPOnX010lyBEuTkydPojMbN26Mi6AE4VqlSpXQjehMOQZA56QWeoa0FCpcNDNc4Zlnnrnrrrsgw5s367/Qpt6v6dy5M9xrku21VakCR48dvZB2AaHM3TXv1oucEFCx6n2DYvwCApPj9xzfrf+luXq/5u57u5TwD0iO//P0Ea1R6OR33nlHt+kbQfcaG+6QQ6fO/pmYUs6/5F/ubwwl00udcPXa9cXb9iH4u692eAnfotC27QlJCBk7RUX62hYuhQr5dGlwF652MCk1JS29dIliFQNuWHNAPosUKoRAM+PaNZwYFhRgfKGmWNEivkULX72elZb9B/4u0qBegyqVq2CgDx0xv8wcERExevToQYMGyaDb42z6wJDU2y6yBSJpV8AqHIaBq9Wtm8Nfg8DGihcvDlNxthnjVXjOmzXCzp074fsqVqyIaAljjLU5zOi7775bv349PGNYWFj9+vU//vhjuC3Ei7IygrHqJ+cE7FV+HhASgoUVrrxjx44///xTr74TwH2jIY0aNfroo48QB8P5pqSkwIFCF5999lkEjiaFcAgCC8y3jh07RkVFYV2JeYj+effddxE9t2zZEnHVkCFDevbsiY4tVKgQpuucOXN+/PFHnDh27Fh0NVww0hBmfDs+IZ+4K9uFNemCSNesWROr4CeeeAL9hnXuypUrMRZygEOwqh08eDAcOgId3MyDDz7Yrl07dLW8bgMgPEuXLu3fvz/GokWLFrhbXBk3hrH44IMPcMCLL74IUYFqwgBwBdwYXMO5c+f2798vVxBwS9AkqDUiS/Xiz6+//or+RId8+OGHuAIECa2WKoC4E70kMoZzx48fjw7/8ssvlTdZvnx5rVq17r77bsgwwiNcHE3+/fffsTBCLZZf8qhParF0Q1vwFWgIxlEGy9rMpENQi87B6Tj4+++/Vz/BBeGU92sAxgLTASsSqQJHjh7Zs3dP29Ztu3TssvGPjWfP/e/9TKFkmbJdY8YXLuobWDm0aLESqSeOrJoyIeu6vg2Y/X5N1N33dkbh4W3a21X5ByI3fe32SmVL3V25/Cf9o4+mnDuddqmkbxFEad9v3vvLnhv+FgLsPn768KmzkRUDm0dWXvNnwvIdB5tWD2kUXunjpzsfOpVaoXSpKuVKI3D87++7ERQ2CKv0XIcmEM6jKecRipYpWTwyWNOYNX8ewfeWL+33f13vQUyZfD498Wyab5HCNSqWK1Xc9/f4E8dT/7dtniMYlK5dupb2L639MN7v5tfoHn/88aZNm2JWbtmyxbhAsZ4+MJVq1ap169ZN/rwH4wi5heH17dt37ty5tgtYgePxdVgb3XvvvVgnOVu4t2rVCjMFtifvyhFPixHh1z777DMsS7HqiYyMhM+CzYn/gi3CBOH7MjMzQ0NDUQV3g8Ncf+cYNr1mzRrEGfIC5MaNGz/99FOjx7n9/Pzzz0uWLIFBo0W4K/jlZcuWoRxygplQuXJlOcyaadOm4Sy4ZnQIugWzSPUJVAFBGCQHoRKq0KXwwgBVOAa9h5gb5QA3AA8O3/3+++8recA1sf6Ii4tDGhqDw6pWrSqnW4CVChQdB5cqVQrLapwiJ+rVNiDJUCPZEpQro8nqyrZ79BcDQC0uApP45JNPTD/eePjwYSwjIGlYTetFPj6It6ZMmQIthMTiNuCwoGd6nY+P3AyMCmn0ANI4Rm1yApz+73//G3YIO8FXo0/gj5SdYJEBAcM6DCoID7h27VqkcXu4VTg+uYKFmUH/IM+4B3wpztq+ffs//vGPhQsXyomCvF+DVQWuo97QUcxfND/pVFL1atVff+X1iPAIvRQO9NrVqxlXfEv4VaxRJyg04tKFc5t/mDnzpSflzVIh+/2arFKB5S+mnj6yzdXHDTkCNRr57cp5v/955uKlsPIBTSNC7q5c4dyly+cdvcNyOfPqil2af+9cvwbCRBzz1ve/QuGQblwtBMoKyUQJJBDHHD59duuRkxC/uyqVw2Uhh4lnL3y4fIMILQLBdfuPpl68UinAH7VRocGZ165Bhv+94necon2ZCyDmfmHYC80aNYNiLVq2CCOuV2SDcA0zFDYGS9OLXJg+X3/9NYYeBoAqLKpg8DgAloblGlZUchFrFi1ahCUpLOGll16Sl41NYLE7cOBAuEesom7i0xa3hv8+oks0vPHPY/XSAk8+fxzg1oFJnuPfdOv5AsDLL7+MkAtKg7hZL7o13Cwz6969e58+fbAIkL8AQQlibvUv+TVt1HT40OHlAsuhKu1i2uFDh+WPcFyk0/P/aND58T/XLF34boxe5K2MGDGiemT1qlWqIka8fOXyN3O+mfuDHr0VkH8fESunv/3tb5huUFZNsBctkj/Keuqppx5++GFIMsr379//3nvvubKZ5A14WoxIjNzSl3ryAyZnft7FuJ08+OCDECqEkqYd1wILbrhnz5644aVLlzrcwPhj6x8v/N8L3y/6/tgJ7ecs9FIXKFS4SLsBL0V1fDT97JktC2fppV5OIZ9TKadWrln56t9fVXJYcMAse/XVV2fMmHH48GFT8Iqw9c8//5wyZcrIkSMphwrGiC7hpjEiyQNRUVHDhw+XV0CxiMbyH+vovXv3jhs37sIt/mPn/JjZY4891qlTp4CAANwzfB/k0BijGGNEE65EMx2fe+OuezqULF22aLHimZfT10z78I/vp+l1Xkw+e5UUQBgjEnIDWFqVLFnSz88Pn1hHJyYmfv/992PGjLnVcphPSpcuHRgYiBuOi4t76623bq47LlMhpIR/mYz0tH2/rZj5cm/KIfFUGCMS4vkwmrkVsFc9D8aIhBBCiAZjREI8H0QzesoRjGbyBnvV86AiEkIIIRrcNSWEEEI0qIiEEEKIBhWREEII0aAiEkIIIRoFQhEL3Qz0axFCCCF5gjEiIYQQokFFJIQQQjSoiIQQQogGFZEQQgjRoCISQgghGt6iiNVahPeY8HBo46p6nhBCCLmRAvG7pmfOnNQzt4bgmhXu/1u7KxcuLx/306Vzl/VSl+nSpUvv3r19fX2RXrx48cyZM6Vc0bdv34ceekjSmzdvnjBhgqQJIYS4EUUCAgL05I2Ehob27NmzRYsWjRo1yszMTE5O1itcIDAw8LHHHmvdunXTpk0hJMeOHdMrHFG6dNlLl9L0zC2gfPWg9i/dh8Tqj389fzLX/+hr/fr1Bw0a9PPPP8fGxqanp0P50BsHDhzQq20HtG/ffuzYsVOnTt2/f3/Xrl3LlCkTFxenVxNCCHETnCoiyiMiIjZu3Lh06VIlh9DItm3bQueqVau2e/duZ4WXL1/esWPHwYMHw8PDU1NT76Ailgwo0f7FdkWLF/3lw9WnDpzWS3NDv379srKyPvjgA6QhhK1atUKjIJBSC5KSkpA9f/68pGvWrGk6gBBCiFuQi+eIEAN8Tpo0afHixQiDJOuwsIBQqHChNkPv8Q8uvXHa78n7TumluSQoKCglJUXP+Pjs2rWrVKlSVau69Dyyb9++X2eDtF5KCCGkQJILRVy/fv2cOXOQOHr0KEKismXLOissILQc2LxyVMi2udsPbzyiF+USKB/07+RJVx9z4viwsDBR0C5dutx///3Tp0/v3bs3Pi9duiTHEEIIKZjk5V3T0NBQf39/016ow8LbQJmQMo/8q1urwS30fDb1utapeV+NfasO7Fyk7+7eLKCR5cqV0zM38te//hWf33zzjWQzMzOPHz+OxNKlS+fOnSuFhBBCCia5VsTAwMC2bdsmJSXt2LFDL3JSeHs4n3g+aV9yZOuIiJbhepHtby0aPtbgxI7EDVM36UU3j4sXL545c0bPZIPo8KOPPoJYvvvuu7IsQFdkZGSMHDkyJiZGjiGEEFKQyZ0iQvmio6OhBwh69CInhbeTLd9tO590odETDUsGlEC2fPWgFv2bpSVfWDv5t6zrWXJM3oC2Qf8qVaqk551Qv379MWPGJCQkjBgxQkXJSCD79ttv165de/r06V26dJFyQgghBZNcKGJoaOijjz5qUj6HhbeZKxeubJz2e3H/4q2H3gNRbDNUe7tn7eT1efjTQ3tSUlKCgoL0jI9P3bp1oXzGzWFEh0OGDPnll18c/hliXFzc4MGD8YkYWi8ihBBSIMmFItarV69YsWLh4eHP2hg0aBDk0GGhfsJtJOnP5J0Ld4XUqRj9j87ycunp+P+9IJofdu3aVaVKFXlTFHEeAuIff/wR6ZiYmI8++ghyeN992h87rlq1SjvaAE5R75caNZUQQkjBxOlv1kDYHnjggc2bN+f50aDspsbHx69fv14vcsTN+s2aQoULdYi5v0qDyn98veXmvk2jfrMmMzPz66+/lmgYioiue/fdd6GI6gdrBDkMCfVLN4cPHx45cqStkhBCSAHFcxSREEIIyQ9Wv1lTo0aNiIiIPP+KW+PGjYsXL56UlGR86mbPrf4VN0IIIcQVvOKXvgkhhJAcyctf6BNCCCGeBxWREEII0aAiEkIIIRpUREIIIUSDikgIIYRoFIh3TfUUIYQQcue484pICCGEFAS4a0oIIYRoUBEJIYQQDSoiIYQQokFFJIQQQjSoiIQQQogGFZEQQgjRoCISQgghGlREQgghRIOKSAghhGhQEQkhhBANKiIhhBCiQUUkhBBCNKiIhBBCiAYVkRBCCNGgIhJCCCEaVERCCCFEg4pICCGEaFARCSGEEA0qIiGEEKJBRSSEEEI0qIiEEEKIBhWREEII0aAiEkIIIRpUREIIIUSDikgIIYRoUBEJIYQQDSoiIYQQokFFJIQQQjSoiIQQQogGFZEQQgjRoCISQgghGlREQgghRIOKSAghhGhQEQkhhBANKiIhhBCiQUUkhBBCNKiIhBBCiEahsLAwPXmHCAkJ11OEEELInaNAKOKZMyf1DCGEEHKH4K4pIYQQokFFJIQQQjSoiIQQQogGFZEQQgjRoCISQgghGlREQgghRIOKSAghhGhQEQkhhBANKiIhhBCiQUUkhBBCNKiIhBBCiAYVkRBCCNGgIhJCCCEa/LcvPJnBgwfrqdzz5Zdf6ilCCPEOqIieDBRx8ozJeiY3DO03lIpICPE2uGvqXZQsUTKqblSdu+sUKVIEWXwijRKUywGEEOK1UBG9hUrBlcaMGjPry1nj3hj38vMvV61cFYX4RBolKB/18qiyAWXlYEII8UKoiLeDUaNGzZ8/f8CAAXr+VtKwYcNZs2b95z//CQ0N1Yt8fCIjIt8c/WbjBo0zMzPXbVi34pcVZ86eQTk+kd68dfPVq1dbNW/191f/TlEkhHgtnqaInTp1mjp16tixY/U8sdG7Z++QSiGHjhyKGR3zzgfvfDP3mwsXLqAcn0j/451//P2tv59MPnlX5F39nuwnpxBCiLfhaYpYrFixUqVKlSzJp2L/o0G9BrVr1b506dLcBXOPHj+ql97I3v17Fy5dePXa1SYNmyCg1EsJIcSb4K6p5xNVN8q/lP+Ro0fWblirFznil19/STyZWKZMmbq16+pFhBDiTXjOX1+MGjWqWbNmesbAqVOn/vnPfx49qsVGOKBv375VqlQpUqQIYqbNmzd/8cUX586dQ9X7779fsWLF+Pj42rVrp6Wl/frrrx06dPD19V27du2HH37YsGHDV155JSkpadu2bZ07d0YMmpGRsWXLlkmTJsnp1si9/fTTT5GRkeHh4VlZWcePH58yZcr27dvlgODg4EGDBjVq1Agx7rVr1w4dOjRz5kxVO2zYsE6dOiGBqjNnzqxYsWLu3LnXr1+XWpz77LPP1qtXD3d7/vz5n3/++cEHH7x48SJajbMmz5j8+iuvt2jaAiHgf776j5ziDHVkoWuF+NcXhBBvw3NixGPHjh04cACfkAroAdICRO7y5cs4oFWrVsOHD69atSpE5eDBg5Cl1q1bP/fcc4UL650AnQP79+9HnNSiRYs9e/agsE6dOuoVlUqVKkEOcXpCQkKhQoVwDKRIqlwBshoYGAi1gxhjITJgwIDSpUujPCAgAHKLq0FlcWO4PoQTN1a9enU5UTXn7Nmz5cqV6927N46XKtz83/72N0gpmoMrQ8uhgpBGqRXKBZa7evXq2XNn9bxzECPiM7hCsGQJIcSr8BxFnD59OnRi+fLlCKSSk5ORFt555x2EiTigY8eOpUqV+vHHH//yl7/ExMT8/e9/P336dFRUVMuWLeUKkI1Vq1atW7cOiY0bN/7www9XrlyRKgFKM2/evOeff/6FF15ADJeZmYmAEpKpV+cEAjioF756/PjxSCO2g/KhvH379tWqVYNy48qohcr+8ccfFSpUkLgQSNPAkCFDYmNjU1NT1fdC5nEuhPCDDz546aWX/vrXvyK6lb81VCCb5ZN1+Yq2LCCEEOIMb3mOiDgP0eGFCxcgGFICBTp8+HDRokWDgoKkxAhkVU8ZgIypncxffvklKSnJz88vPDxcSnJk9+7dssUKSTNqLeQNod7mzZulFjFuXFwcVNl4YzimT58+zzzzTLNmzRBilihRIiQkBOX49uLFiyMy3rBhgxwJNTUJOSGEEFfwrjdrAgICxo4dOz8bqAvCPoeK6BDIpGzAAogrRAsJU0BmgUOVFaCIjz/+uH5b8+cPHjxY3Vj16tU//PBD3HbPnj2jo6O7d+9epUoVHF/S9j5tsWLFkJY/pRDwLVlZWXrGxpnUM75FfSsEVdDzzpE/RrS4T0II8WC8RRGhXtCJjIyMNWvWLDGwcOHC3377TT8oJyB+CM4kXbp0acSXks4noqyIIPV7ymbx4sUof/TRR8PCwhDRfvrpp2NsyFtCAgJKtEueRwq4yUKFCukZGylnUvAZUkmLKa2pGFwRF3T2FxqEEOLZeJoiSnzj7++vXksREhMTjx8/joiqbNmyCxYs+DybKVOm7Nu3Tz8oJ8qUKdOgQQNJN2zYsHz58unp6dAqKQHQyyFDhowaNapqVe030lxk//79EMWKFStu27ZNvy0bP//8M2oREaJ29erVK1aswAG4h8DAQDkRoFGQeXydehratGnT4sWLS1pIOJaQeTUzrGpYpeBKepEjGtRrUKVyFQTBh44c0osIIcSbKBIQEKAn7xClS5e9dClNz+SbK1euNGvWLDg4uLWNjh07RkdHnz9//tixY+fOnYuKioqIiHjwwQfvvffeBx544OGHH27Tps3KlStxIgohNvKYELIHlTp58iSukJmZibDSz88PaShT7dq127dvj4NxOvQ1Li4O+qp2KfF1PXv2DA0NxVlQLykE+DoI2969e6UQfd6uXTucjvAU3wJVq1mzZnh4OL4Cl0VVly5dEBoeOXIkOTm5Xr16uOdatWrdc889uGF8e0JCAsQY0g7h//XXX3G3ISEhTZo0wek4IDIyUkXDSG+O0x5PNmvcrFLFSvjG37f8LrdkApHloKcHVa9WPf5w/Fezv2oc1Xjr1q16HSGEeAeeFiMePXr0s88+O3DgAOIk6EGNGjUQe8mmItRo7NixmzZtglxBtFAFIcFhxpDLGkSEkJly5cqFhYVBdTZu3Pjpp5+qvwsEiBfPnj2LMCspKUkvcoELFy6MGzfu+++/T01NDQoKwo1Vq1YNNwbNQ+2MGTOgu9KcChUq/PHHH1DrwoULIws5x7kff/zx7t27oXYQTmjkwoUL09JuWGGcTD657KdlkPMO93f46zN/tf9nLsoGlH1h2AvNGjXDnS9atojPEQkh3gn/fUSXkL/Qlz97Nz7GK+AY/33EgX0HduvSzbeoL6TxeOLxt997G59VQqqMfGlk1SpVESNevnL5mznfzP1hLg7mv49ICPFCvOtdU29m6sypo8eMXrth7bnzN/7ITiGfUymnVq5Z+erfXxU5JIQQ74SK6EXs2bfnXx/8a8CwAc/HPI8AESX4RPqZ4c988MkHfKGGEOLlUBEJIYQQDSqiS2zbtq1Pnz5/+ctf3OghIiGEkFxBRSSEEEI0+K6pJzN48GA9lXv4rikhxNugIhJCCCEa3DUlhBBCNKiIhBBCiAYVkRBCCNEoEM8RExOP6Jl8YPoHHwghhJBcwTdrCCGEEA3umhJCCCEaVERCCCFEg4pICCGEaFARCSGEEA0qIiGEEKLhLYpYrUV4jwkPhzauqucJIYSQG/EKRQyuWaFF/2bXr10/ffC0XpQbunTpMn369K9t9O3bVy+1o379+pMmTcLBep4QQohbUSQgIEBP3khoaGjPnj1btGjRqFGjzMzM5ORkvcIFAgMDH3vssdatWzdt2tTX1/fYsWN6hSNKly576VKanrkFlK8e1P6l+5BY/fGv509ekELXgc4NGjTo559/jo2NTU9Pf+ihh9AbBw4c0Kuzefvtt7t161akSJGdO3fa1xJCCCn4OFVElEdERGzcuHHp0qVKDqGRbdu2hc5Vq1Zt9+7dKImKiurevXvz5s1RWKtWLYjfZRs7duw4ePBgeHh4amrqHVTEkgEl2r/Yrmjxor98uPrUgbwEiP369cvKyvrggw+QhtS1atUKjYJASq0QExNToUKFadOm1a5de+/evVREQghxR3KxawoxwOekSZMWL15cpkwZyUL5Pv/8cxR+++23yN59993aoQWDQoULtRl6j39w6Y3Tfk/ed0ovzSVBQUEpKSl6xsdn165dpUqVqlr1hueREyZMGDFixLlz5/R8Nn379pW9VmCx3UoIIaQgkAtFXL9+/Zw5c5A4evTo+fPny5YtK+WCv7+/r69vWtot3P/MLS0HNq8cFbJt7vbDG/P4u6lQPujfyZN5+ZG5Ll263H///dOnT+/duzc+L126pFcQQggpkOTlzZrQ0FDon9oLhet/9tlnH3rooaSkJISMUnjbKBNS5pF/dWs1uIWez6Ze1zo176uxb9WBnYu03d2bCDSyXLlyesaSzMzM48ePI7F06dK5c+dKISGEkIJJrhUxMDCwbdu2RvGDu5ddU+jE7X/T8nzi+aR9yZGtIyJahutFtr+1aPhYgxM7EjdM3aQX3TwuXrx45swZPeMc9E9GRsbIkSNjYmL0IkIIIQWY3Cki5DA6Ohp6ABXUi7JJTU2Nj49H/KTnbyNbvtt2PulCoycalgwogWz56kEt+jdLS76wdvJvWdez5Ji8gTgY+lepUiU9nxtw7ogRI95+++3atWtPnz6df5VBCCEFnFwoYmho6KOPPupQDgHEsnr16tAPPX8buXLhysZpvxf3L9566D0QxTZDtVd+1k5ef+ncZTkgP6SkpAQFBekZH5+6desmJCRYvz1rJC4ubvDgwfhEYK0XEUIIKZDkQhHr1atXrFix8PDwZ20MGjQIGikPEUGvXr0QIzoUy9tA0p/JOxfuCqlTMfofneXl0tPx/3tBND/s2rWrSpUq8qYoGgvh//HHH5GOiYn56KOPTC+dGsEp6v1So6YSQggpmDj9F4Ohdg888MDmzZvz/LKMbLFCJtevX68XOeJm/YvBhQoX6hBzf5UGlf/4esvNfZsGQti7d29fX9/MzMyvv/5aVB+KiK579913VbxYv3795557bsGCBXKAOgvpw4cPjxw50nYUIYSQAornKCIhhBCSH6x+s6ZGjRoRERF5/hW3xo0bFy9ePCkpyfqp263+FTdCCCHEFZzGiLcNxoiEEEIKAnn5C31CCCHE86AiEkIIIRpUREIIIUSDikgIIYRoUBEJIYQQjQLxrqmeIoQQQu4cd14RCSGEkIIAd00JIYQQDSoiIYQQokFFJIQQQjSoiIQQQogGFZEQQgjRoCISQgghGlREQgghRIOKSAghhGhQEQkhhBANKiIhhBCiQUUkhBBCNKiIhBBCiAYVkRBCCNGgIhJCCCEad/5fgypbtqyeIoQQ4hGcPXtWT7kVjBEJIYQQDSoiIYQQokFFJIQQQjSoiIQQQogGFZEQQgjRcFURy5cvX6tWrSJFiuh5H58yZcrUqVMHn3rexwe1OAZH6nlCCCHEfSgSEBCgJ50TERExevTozp074+CtW7eiBOL32muv9ejRo2bNmr/++mtWVhYKBw0aNHDgwNatW+/bty8lJcV2as6UKFFCTxFCCPEILl++rKfcCu6aEkIIIRqu/oV++fLlg4KCDhw4cO3aNSkpU6ZM1apVjx07dv78eSlB4FijRg1Eh6dPn5YSV+Bf6BNCiIfhpn+hz9+sIW4PVmavvvoqFm2XLl368MMPd+zYoVd4ELehjZ07d37qqaeKFi26ePHiWbNm6aVuS58+fR566CEktmzZMmHCBCn0bArUROBv1hBC3Jh69epBDpGoW7eulBDibVARye0Gscj06dNjYmL0vKcwbty4L7/8MioqSs+7QIHqip07d169ehWJXbt2SQlxRh7GmrgFVERyW+nTp8/TTz8tsYjHULVq1Y8++qhatWp63jUKWlcsW7YM9/PUU095wJbprSNvY03cBSoiIYQQosE3a7yFmJiYxo0bI7F48eK6devKIvfq1auzZ89GcBAVFfW3v/2tZMmSp0+ffvfdd48dO2YqadeunXpPAZ9yKTn9+PHjciRKDh8+PGrUKCTsUY/99bwNXC0xMVGuvHPnzkqVKuEAFC5fvlxdUzBdWb03AdSJxhcK1HsiSKtm2g7XtryMa/x8vkhivBNB3YbqQ1O5s66waLXrL00YvxRjd/LkyXr16iEtzVRmIBh7xvQqijGLT3XWTXnvxqE1StOqVKmiBk7uBAnjaAqqCphqc7RYZQnOBshYpfoQiV27duGycrCQ43DkiMN+tphZpnsG1kbisHMwwZF2ZYitzcl2iGP4Zg1xDzAHlB5gnkRHR2MiSdYVMG3UzMHpjz/++CuvvKLmJ66MaSbp3IKZpkQCbtHX11fSAq4MJZM0/KnMZMF4ooADjBuSSCCLG0NLb9uWF75u5MiRRs+FNEos+se61a4A92ccDnSL+C9FuXLl9JQN9AzcJc7S844wjjho3749vKSeyTdGa8Rtw/ka3Xf9+vXl3oKCglShgFvCKCOB/rTefDbePw6Dxcr9uzhA9n14i7C/T4czK1dGYpoIAM3BwaYRN341UEOcozl5HlRErwMLPSwk3377bSwkkUWMnisrx1k4V52O2YL1JrwY1oxygLM3FXHYiBEj1GFYluIs42vxWBdPnz5dCtUzLQGrYBxQsWJFTFRQu3Zt4/HqmgKmMTwpEvIV6vQWLVq0adNG9iRQIlWmc/MAVsroT/Qq0tI5gwcPRhpuBZ/qJlWPoTwwMNBhV1i0Wo7MkbZt24r7k2uqL1UgmJCLA9wYbg/HWxuANEq1ESMu3XtTEGuUO0EWF4+Li8O9SdSi7g2dLPcM1J2EhYVhiSP2pvoZtYhjUKJweP/oUosBMnW4dCaGbPLkyeo6clmMdX4CRCNyQXUbzmaW60aiJoJcGQerETetg+UAUxchkaM5eR5URK9j48aNmGmYxnv27EEWFo8FuFS5As7CuSApKQlZTLA1a9YgAUeWz9mCu1LbWQKmNObw7NmzJYzA0hgLZMxVzFhk8Y1y/OrVq2UmC/ChMo2x7MW56vRSpUqlp6dnZmYijRJcGdeHqwXaaTcV+5tUHa7cjTMctlqqrIFPhGdEAr3xzTffIKG+1ASiBFxfRQ+mwNGEjDhGB5YjJSEhIZLIP2KNO3fulE02mNDy5cuRUC++GkGQhNt+9913ZUsAA4q1xZkzZ5BGQ9ActAtXk0/bGRrq/hMSEvSi3AyQuqVbjdwncGVmuWIkaiKsXLkSl0UCLZWeMa2DHQ6x6+bkSVARyU3G398/V9uwCnFtgvg+5bJvCvAaGRkZ8A6SFR8quigld5xb0Wojsmms3KhbIGodExOD2zZulSvgrNV6CO3CYc62EPPGxYsXU1NT9cwdRWbWrTYSL4eKSBxj/7jitoFp36JFCyTUjpbsoeWWxYsXa/tK2cCJYI0s+2+4rIQgcCu5fZJ6i7hZrbagXbt2El3JprG7bIIhWJF9ctyt7P7JVqGAyGbEiBHGQuiiPHLzPBC03Woj8XKoiEQDq2CshZFQ2ylqy+UWYbFTFxgYWKpUKSTg7KBhkArjG9EpKSkiZvCS8uzkySefFEcvqA034wMhuEiAcHDMmDHI4rKjRo2S2EI232xH5Re1eaV2utRNGt06apFQSFdYt9oV1CCiN+SVSLTXuAEou53oHNmOUzuHBRy1OJPNPfSk7OYJGFCJ8jGg6pFbjvu6uRoghzjcqLzVBAQEuG4kaiJARGXNh46SxNmzZ1GrHeScHM3JI6EiEg1MMHnKInuJs2fPNr57dhNReiYbXPK6oAk1FeUY9dxIgCPA3SIBbz5y5Ej7W7U/AKgNt4iICClRl01KSpKnLHkGX5eWloaE9N6XX36JtGzPqntQrzWqhzqmrujevbtFq10Bt6GeA6G9uIhpby0xMRGfaogdbkIWQI4fPy5Pf+XBsOpJAcokzVEtQq/m6O4xBDkOkEPsx1oE9fZw7tw5140EE0GkHcfgSBwv9oD+WbJkicwRC3I0J4+Eikh0JkyYoPadsEyeNm2aLKJvLpilOb6ngKn4+eefq2/fYkPSAqIBYwlcmPHNGmAMFwQcsHr1aj1jAIfhYD2TDz799FPTPcyaNcu0LYk0StSLPKauuHz5snWrXQEXNzYcA2q8CGpVFl90i4b4pgN9+u9//yurB4AGGndNTWAUMKDoWz3vnBwHyBn2Y33bwOotV0aCSa0eEAiu9w+wNiePhH+hT4gnM872cwTwiVjju+gHCXGG6+bEv9AnhNxh1INSISYmBv4LCVeeGxFiwgvNiTEiuflg5tg/hryU79+7IkKU3e94CVu2bIGfeurGXzsD7HmSN6CIeTYnN40RqYiEeA72LgwyafxhIEJcJz/mREXMI1REQgjxMPgckRBCCHFjqIiEEEKIBhWREEII0aAiEkIIIRp3/s2a4OBgPUUIIcQjSE5O1lNuBWNEQgghRIOKSAghhGhQEQkhhBANKiIhhBCiQUUkhBBCNKiIhBBCiAYVkRBCCNGgIhJCCCEaVERCCCFEg4pICCGEaPBX3Mz06tWrS5cuesbG1q1bJ06cOGbMmPDwcL0omyNHjsTGxuqZbExHunIMWLp06bfffitp61pCCCng8Ffc3J569ep9+umnJjm0Brr13nvvValSRbKdOnX64osvTGKGLApRJVn5FtMxCutaQgghtw4qog6k6LnnnvPz80MaUd2AbBCcyQHC1atXZ8+ejfIJEyakp6ejJCgoqE2bNkhA85544omiRYsijbPkdMSXyKLwkUcewVcg/fjjj9t/ixyWYy0hhJBbBxVRR0kR5Me4yfntt99OnDhRzxjYuXPnqVOn9IyN1q1bKzlUO5w4F9qGBC7+wAMPIJr09/dHFsq6bt062yEaOAynWNfqGUIIIbcGKqIGorcKFSoggbDv559/lsJcYbzCrl27pFCAtkHhkAgLC6tYsaIUQjuhoJK2x7qWEELIrYCKqFG5cuVixYohcenSpdTUVCm0plevXvK0LyUlZe3ateoKCBwRPtoO0Tlx4kRGRgYSJUuWRGLTpk1SjtO/+uqrMWPGSBYcP37copYQQsgthYqoERgYKBueaWlpkCUpdAgOe+qpp6BV8gIO5PD999/HKeoKOfLtt98anwuK8r3wwguSta4lhBBy66Ai5p2rV68uX77cWkEdMnHixAEDBsjzRaFRo0YIOiVtXUsIIeQWQUXUSE1NlUd9FSpUkDdCnYHDZttAAkGheoPU4grOtmRjY2ONyte8eXP1VxzAupYQQshNh4qosWvXrnPnziEhb4RKoQU//vjjjh07kMDxjz/+OBLGK9StW1c7KJvatWvLhmpCQoJ9QKneu3GIdS0hhJCbCBVRw/hKS6NGjYzP7Xr16uXwMd6cOXNSUlKQCA8PxzG4wvLly0W9unTpojY5cS4uiAQOximI895++2311/pA/c1GWloaPi1q87A9SwghxHX4K27/Q6mXia2GX3GD5n333XeIEVEO2ZP3a9LT0z/99NOdO3eqEhPqACjiSy+9FBQUpFdkI5dFoGlRK19KCCEFH/6Km9sD2Rs9erREfgqo0Z49e/TMjXz77bfqr+9l7xQl9leAoD733HPyJxmI8xISEqRcgYsMGTIEgmddq+cJIYTcGhgjEkIIuckwRiSEEELcGCoiIYQQokFFJIQQQjSoiIQQQogGFZEQQgjRoCISQgghGlREQgghRIOKSAghhGjc+b/QJ4QQQgoCjBEJIYQQDSoiIYQQokFFJIQQQjSoiIQQQogGFZEQQgjRoCISQgghGlREQgghRIOKSAghhGhQEQkhhBANKiIhhBCi4Qa/4ta4ceNRo0b5+vpOmTJlwYIFeqmB7t27Dxo0KDU1NTY29siRI3qp8/IcwYkPPfTQ2LFjTWfJnfj5+SGdmZnp7H5MhIeHjx49evHixcaD5d7QKKTT09PHjRu3ZcsWqQJvvPFGy5YtkXD9WzyYIUOGNGjQYPjw4XrehrEDDx48aKoVZLzS0tKUAaiOVWzYsOHNN9/UMwUVi8Za26TFiTDLMWPGBAcHI21vgUY8zBphTj169NAzPj7z5s374osvJG3sLuDQNowm5Mzw7iDWjgVYHPDxxx9HRkbalwPv8UhuEyNiCDt06KBnbgTlyoiNwI1i/Pz9/Rs2bKgXuQDGfujQocWKFdPz2cCS4Fjj4uKibSDrilngsI8++qhixYp63gYK+/XrB8PCdYYNGwaXDacG1ya1uIEmTZpMnjwZtQsXLsTNYA5LlReCWWr0X4LManQOuuj1118PCQnBYXqdga5du4pUGElOTkafa0Noo+DLIUYfNiCNxZ2XLl1aNVbkcNmyZdKWhIQEdAs6R2qtT3zvvfcuXLggJ8KqjRZoxPOsMSIiAjYjDYfmwbpUi2rVqiWzEkApoQFovlQJ6MD69eur0wugHFo4FmA0CdCzZ0+jHGIeSdNgD/B1ypC8yiO5jSKePXsWA2Y/aVGCctTq+WywBK5evfrq1athFpBGvdQSDPOSJUtMMYSAb4Gpbd682XUHilPmzJkD67FX6/Pnz3/yySciqIhd5s+fj2OkafjElMMXSS1Wr1iHtmnTBs3RzvQmMA8xHLJoNYE1ELy/LO0xpSEJYWFhagIL0pN6xm3BuGP04bilsWItMHjV2OnTp6sQZ+rUqVgCirVbn4i1AubFhAkTtNN8fKZNm4YsCiWr8EhrHD16tJIBNBwrJOUf3n33XbXMlcbCh6jGwiDRgRbB9B3HwrEADH23bt2MMbECVZhBmEfSNHRLamqqRCDe5pHcRhETExPxaT9pZW4DPZ9Nx44dER2uW7cuPj7eaNYWVK5cWQII+BG9KBuxqkWLFknWFUJDQ/GJhRWAn5JC4RcbesbH5+jRozgA3440zoIRnzhxQqrAqVOn9JSXUaFCBcw9LEvxqRfZwFjAMW3fvl3P20RRKYEChgGbMZ2LayIwkh1Ut6Bhw4aBgYFGe9i2bRusXRqLhv/www9SDlJSUlCFNiJtcSLmAmaEsR+QcDhNPN4a0XD0g56xw9hY6TQETwVWDoGFYwEYeujcihUrJGtEbEa119gt3uaR3EYRz507BwdnmrSyfsFkvnLlil6UDYYfx8N84TrhGiCQeoVzEP8NGDDAobtUV9PzLoAlVc+ePdWS00VMRgzczonfLIbb0DMGMOiYosZpaVQCAWteGMZPP/2k5z0OY2NzhcWJWEEGBQXpGRseb41wJqVLl3bm4o2NxQoD/WNch7kXouhwlQ7HTnpA2YaxW7zNI7nTu6ZwcCZtcxa6GcMILI2xMpI1dd5Q9iH7eMJN3EkXFy93C9HFOrRJkyayu4VvCQsL82DPnjcwRTFR9YzdSh/j9eijj6IbTcsRGcfIyEgZQdRKJxdk7P0RRAuuWc/ciMSFYkgWJ0p3oSvQIVIFHCqlx1tjTEwMPqdNmyZZI7JHOnXqVMlK/2RlZc2ZM0fs56uvvjJ2YAHE6Fhk9BHqffzxx3L/RvtHOiEhoXPnzuJR+/fvj4PFr3qbR3InRZRhU1vY+ETaYegm4yrlmP9YGcG4pTAPiDHJ80XtebTdA/n8ADvr1q2b2qYHCFWRHTp0KKwWVZ79ZtdNRLl4zGd82rs5WMKAAQNkBAFsqeC/IyD+CLan7rNPnz6SMAHz7tevn/HxqsWJsrgUPQA4xhQdKjzPGmEkEDObKCzBMte0LaQEAxJofPEEaws/P7+nn3563LhxMJ7XX38dPmHMmDEFVhRNjkU2P+G1IJDK/o3vYQ0fPhy+9K233kLb69evb3xc6lUeyZ0UEWA4MZPl3VHZx7BfrdgrJc6CNeRZEYXk5GTlZOWBfP4fL2MdCjuDaaoXdmS6YjaK1WLKwc2pVwSJBbKTA+eO9ez8+fONbs4hcAEF6h0BGXqbN9ZALCIWC9uQFZiU79mzB7YtpyjQaviyNMPLMsDiRHg0+DUs9qWqQYMGK1eulCojHmmNxoURsmg+pqFUAViFVMFpoMrUWPXuCT6RDg4OduVxzO3H3rEIMHj1Wo28h6Ven4G9YX0gbZ8xY0ZsbKx0i7d5JDdTxBUrVqiXoPCJGW6/WpG9I7U5BmAcUMR8+j7jFjwSyEKPna2sXQFWhSX8vHnzjE/LZL9C7dXIxIPnUks5AjCa8uKSgGFFgIgEJnbnzp2NAbc1cAH5HMSbiNFTA2OAAr+ml0ZHYwrIHr5UAXguyB7Ez/4puMWJ6CIYlVTBAhEDQVBTUlKkVvB4a5RFA0Ii++UylANz09jY9PR0NSIAaZQY96ULCA4diyA7qALuH/5TdlYGDhyI0VcrftgGJpF0i7d5JDdTRJGikJAQLIoxKsYBVmDBi7WP+pshAXavgsvcYv/ihmDvQVxEll24/8mTJ5vehMa3mC4LE0Rz7L/daxGfbuwQ2dZGeVfbHyDCHehLIdsfb2Ah/9lnnxnjALdGtkaU5Sv3Z4oG7DGdaAQG6fC1C2+wxhMnTpgWWAqjpTk7zPgS5h3HwrHYP1cW5AE8dNH0sozYCdrrDTZgxM0UEcjz3vbt2zt8k1jmtnHLVMBZGMW8vV+jZFgtJOVbTDbkOh07doQ8O9yOxySE2zJGLfhSTEW1tCf2r0pJF2EOG0Mi4eDBg/IXNfaC4cxUCjgdOnSAh0InII11Otyfw78ws8d4ogkxSHux9AZrhEjAMxhf1FKI05fGigzYW12B6goLx4L7h6nD4GH2UoL7h0/D/cOJ2b9pJS1Ft3iDDRhxP0XE0MbFxZUtW9Z+SQtgE4gJ7Oe2vUHkimm2P2EeOHCgZPv37w/Ly/MLV7C2hIQEhzt7ovfqi2B8nTt3hgA4dGTeCQZ97dq1CP7knRHpIld2SnHk2LFj9YztPcP8DOJt49VXX1U7VIh0IYHqKSkMyeG6ULA4EeWolSqkja9goJfmzJkjD4o8zxrR2Pfee0/P2J6/IsKWp4NoHVqt/IOpW3AADlOvXEpXOJvFdwoLxwKmTp0KbZP3zoAMqwyxvGmlqtBGtFQWi97mkdzmd02hgmqZjwHr1avXhAkTMGBSAlPGGic2NhZuDgsfh78rAevv0aOHKwtquA9op/oxTAFTxcXfgTSBu+3Xr9+MGTOUpeJu7X+KRV3T+EVggzv88OYtRbyz6aGIjKakLbpIGQaGUgxJ/a4bYkfTEBdMYI3w2pI23bOxSoFQRqIEixNhk+rHLdXxUiW9BG8oHe5h1mhqjqntpolp7ytctLo7hbVjQdo4BUwmYZodxrZ7lUdyA0UkhBBCbgPut2tKCCGE3Aq8LkZ0uLGQ5w00h9tWudpTJYQQUkDgrikhhBCiwV1TQgghRIOKSAghhGhQEQkhhBANKiIhhBCiQUUkhBBCNO78u6YlSpTQU4QQQjyCy5cv6ym3gjEiIYQQokFFJIQQQjSoiIQQQogGFZEQQgjRoCISQgghGlREQgghRIOKSAghhGhQEQkhhBANKiIhhBCiQUUkhBBCNNzgV9waNGjwyiuv+Pr6zpgxY9GiRXqpga5du/br1y81NXXs2LFHjx7VS52X5whO7NSp0/jx401nyZ34+fkhnZmZ6ex+FBMmTKhevbqkN23a9M4770gaGKuEBQsWTJs2Tc/4+Lz22mvNmzeXdHx8fExMjKSJQsYXhoF0eno6xmv79u1IG4fJYde5Xd/m2CIQGho6evRof39/1Q/G/gEmCwTKCF0xZmeTwu3o379/9+7d9cyN8y7HHgMF3HgsHIuzhovlBAcHS7nCZBW5bbib/oqb2ygi3IGzYRAjSE5ONikfhrBevXpIfPPNN9az3YgMvP3VZLZs3brVfpI4BHeFT7lhsUXjBDPW2oPaSpUqKddG7JEuNS0jgFjLyZMn0bcy1VFoHEq369scWyRIhxhXBi+++OL+/fvF8h1aIORTrgObb9SokYUoOpsU7khsbOz3338vXSTtUlZk3WOg4BuPhWOxaLg9puvkoeH8XdNby9mzZzEk8A56PhuUoBy1ej4b+I5q1aqtXbs2LS1NdDFHMAfmzZun1kFG8C1PPvmk63IIduzYoewJZgc5x/3grqTEAhire7ns2w9WJ9HR0Q7nc5cuXfAJ545P+G54t8DAwPbt29sq3bJvrVskwK5atWqlZ7L54IMPlMKZLBAdiH5ArcjbrFmzUlNT77vvPtuxN2AxKdyUMWPGqNFHwyHzUVFRkrXoMeDuE9Oi4SYw6Gj1qlWrJOtVHsltFBFrZHyKdzCCEmge0PPZwGVgCbx+/frDhw+7KEUhISGwkhdeeAELQ70om4YNG+Jz6dKlknUFk7M+ffo07qdcuXJI42aQRolUGUEV7nbnzp3eYHx5BkscePCVK1fqeQPly5eHMZw5c0ay8PiZmZmSdtO+tWiRQgTSul1Ge0MH4prqeFwT0wRez37FaTEpPAA03N51KIw95hbGY+FYTFg3HEqJA2Rx4G0eyW0U8fz58xBFk7ZhAmNuYzJnZGToRdlgUHE8RhFjab+mdgjiv2effRamoOcNqKvp+VsGWgSbxj3reWKHTFEMusORMq48gFhLSkoKPt20by1aJKBdHTt2xOLvypUrepEjRFnRadKBktbrfHwSExN9fX2Nk0uwmBQeANprISGqx5D2sIlp0fCuXbuidseOHZL1No/kTu+aIoo3aZuz0A2jiAWvDCpkDPGEs/0BV1DW89prr83Lpn///nq1C+AK8EFKU+HdcMHmzZvLpWbOnIkbliODgoLwmZWVhUKpnTRpEk6XWgKk9+DBJ0yYIF307bffYhpLrRhDv3798Il+Qzm6XVa7btq3Fi0SUIUS+w1kI7LxJVuvgskbQmLtQ0+PB7EvPmfNmiVZI6YecwvjsXAsJiwaft999xk3YLzNI7mTIspjj1atWsl44BNph6GbKOW2bdvwiVOc7Qi5iLIzpHvY2LRpU/fu3V0XRdgfrqBmF264b9++cilUYR06atQo8ekhISF+fn69e/ceP348aseMGYMTR48e7cEmmFvQFYhm0P9Y8UgfYoihCtKB6Ft0HYYbU3fixInoW/U010371qJFAEZokjojatGAcAcmZz9TjKBXxf15Nhhu+HTpFiwLTBGwsx5zC+OxcCzAuuGCxBLr169XVd7mkdxJEQGcIMJE0TZ8YmzU418FhsqklAj5MdtFJvNMcnKyWlLJc2mlzRbgJrG2wmHffPONQ38Eyxs7dqzpvYYVK1bIwfhEOjg42JVdX68iPj5eRUXQA8Q30oFQCHgB9Lb4Bcx8YwQJCmzfGh0WUAt8ixbhMzo6WrXIHminnIWJg2vKC4TOQB8aN2M9Fcw4iIF0C7LoFoSDUgWse8yNJqa9Y7FuuGCMJYy4UcPziZspImJ5Ncb4NG0fCfAjUM3q1atjyIVBgwZBEV0RMAuMD66QQBZ6rJ7uOAQOC75MFvX296nA1XAMria3l56ebrRIpFGClZqeJzZkS1zALIUloAM72ti6davqbaxdjE6hIPet0WEBCVBgzM5aBGuBgeEs6/1SAccsWLBATpESxECSEBAdYo7oGa/hnXfe2bRpU7169WTxYcS+x9xuYpocixGHDcdhDnfd3K7h+cHNFFGkCHE9Fs4YP6NbVGCYsdpFdK+7FhsYfhVc5pYzZ87AsEweBKBQvQFoD+4QSixuDp96aU44e8EB5XrK60FnYnztJySGo3jx4ug9Y1+JwYhTcMe+xd06a1H37t2xVDeu/Jo3b+7n5xcbG+swFpT4D8qHK9g7SvQnetV1Q/UYnFkFUD2GT3c0HmvsWySPh0xO1fMabo2bKSKQFw3atWuHlbL9+/cYOeM7LAqchQkPsdTzuUF8EGRYCap8C9yKMw+CA7DacvaTAiZwWVwcX4GrYf1lus+GDRvCIr1hO8tFJCJE/6tZKh14+vRpdKBJLI0j5Y59a9Gif//73/pyLxss+7B4x1rQodWJZ5fGwusZF4hyTftZ4w1YLAWMPeaOxmN0LHqRAfuGO9wy9TaP5H6KiEm7c+fOsmXLOhzp9u3bY+FsHzvau9FcMWvWLPgged8P9OnTBw7F/hGmAraI1ZazA7p27friiy9KGvczbNgwJETpcZ8rVqxo1KiR7NXgOh07dkQzLTZdvZAZM2agezEKkpVxQQeKbajeAzhG2YM79q11iyxA6xApKmvH6dHR0Wr3VZ4+oFAOwDXRn/J6Dk6cOXOm9RNH9wVNHjdunJ6xbeQgsJaHZNY95hbGg3tz5lgsGq4X2f7GDF7OtO/ljrMmP7jNr7jBL6jfi8HYYEU8ceJENZwwZUzpsWPHvvDCC1gWjXf08wowgu6OfvfLntdeew3aafrBKljY6Oxf/8NK3OFXKHCHcNNYSen5bLCKRytMtfahpNyqpOUUSROFWIWf7ac+k2/8dTFj79mPlDv2rXWLFLBbrOVVLSaF8ScuTZbvzJ6lY7F8NNmkw0nhdhhbDRD9YB2gnLt1j4ECbjwWjsW64UAOgCI63GDIQ8P5u6Z5JEdFJIQQ4l7wd00JIYQQN8brYkTTxohg2nZzndcM/0KKIsc9VUII8Wy4a5pHuGtKCCEeBndNCSGEEDeGikgIIYRoUBEJIYQQDSoiIYQQokFFJIQQQjTu/LumhBBCSEGAMSIhhBCiQUUkhBBCNKiIhBBCiAYVkRBCCNGgIhJCCCEaVERCCCFEg4pICCGEaFARCSGEEA0qIiGEEKJBRSSEEEI03P5X3N54442WLVsePHhw+PDhetGNfPzxx5GRkfPmzfviiy/0IhvOynMEJ27fvt3+LLkTSVvcDwgPDx8zZkxwcLBkk5OTY2Njjxw5ItnGjRuPGjXKz88P6czMzClTpixYsECqvIru3bsPGjTI19cX6fT09HHjxm3ZskWqgLF2w4YNb775ppQDixNl0CVtf013xFmLjJ1gxGRsxtNN3ahQx3iGNQ4ZMqRHjx56xsfH6AFMneawQ1yf5gUT+9kRGhpqbSpe5ZE8JEaErmOk9YwBFDqUfIxxUFAQDKJBgwZ6kQvgrDlz5igPYgReo379+q+//nq0Det50rBhw927d8uROMXf3x8CCZlElRjfsmXLpDYhIQHG6rBpng2a3K9fP8w9dMKwYcPS0tLQLegcVYtu2bx5M2rRgeh59L+qcnYiPs+fP691q6NruiMWLYLPQldIlYCOgsGvXbtW5BD29tVXX5UuXRonygH23t90zMKFCz3AGiMiItQ8heZBHaGRUlWrVi2xHAClhPJB/6RKyNU0L4CgpUOHDsU4yv337NkT6ydrU4E5eZVHKhIQEKAn3ZN27dpVrFgRK5dChQqtXr1aL82mV69eFSpUQGLfvn3GaOChhx6qUqXK+vXr69Wrd+DAgcTERL3CCXANEydO7Natm6yk9uzZY7wapk2NGjVcDzj27t27bt06SeOry5QpA2FGAuUhISGHDh36+uuvpTYpKal169YOm+bZVK5c+ffff8c8RPrcuXNZWVlNmza9cOGC9PDzzz9//fr1Dz/8EFXSgc2bN7906RI60OJEHLly5Urt6o6u6Y7kqkXwazCkL7/8Ekci+9ZbbxUvXtwYL9rz+OOP16lTZ8KECX/++SeyuCyssXr16kuXLpUD3BH0GPpN0ocPH4blBAYGSoswK2FCUoXGQhErVaq0detW6bHcTvOCBmTsySefhP7luCtmNBVv80ieECNCDjGrsXYzrfeRRaEycQXkrU2bNvHx8SJLprMcgoASkRyWjbJ60ktt4GrwEXFxcXmeJ6dOnUITJI2L/PDDD5IGKSkpWPiLqHsVv9jQMz4+R48eRRdB7ZBGhyNqgd9XrtzYgRYnmpAqPeMRWLQIRg7XpgJEU9YZWKjB/GCEet7HZ/v27TjRlSnjFqD5MCQ9YwfsSk/djGl+x8FopqamrlixQs87wWQb3uaRPGTXFEEbojfTRO3atSs+scCRrKJhw4aQN8xtDDZWi1BHmLte5wQc2bNnT4drK3U1PZ97xLzgziRLrBEvBlFUo5a3DgwNDcWn0eu5OxYtkrmgvLnMlLw5d0w0+SIPQFZXzmwAdqUWXvmf5ncWUXSEAdZrIGAyFW/DQxQR45eQkGDUNrEArOnszV1Wvtu2bUMaJh4YGAhzl6o8IO44Kytrzpw5S2x89dVX6jZypHv37t26dVu2bJlDE8SN4fbcdx7eLODB4YhVP/z000/olv79+0tV586dnS3eTScqUN6vXz+c5THvCFi0CFX169c3dhGCZkyBu+++GweL0aoHsUYwdyADQUFBet52op7yCGJiYvA5bdo0yRp54403ECpNnTpVsvmc5ncc2eU6ceIEBlruXx4f6tXZ2JuKCY/3SJ7z1xfiJTt27ChZJByOnGmthIHPzMzM1fs1JuAj/Pz8nn766XHjxslDaVieelPGGUOGDBG7hBfDwQ6jT/FxUPoc9/09G1k0bN68Wfl6JKZMmdKkSRN04FtvvYUJ7PAlSfsTUSIaEBsbO2PGDIdnuReutAiGhM9FixZJFsC/BwcHd+rUacSIETDayZMnh4WF2YuinIJjxJjxXRBRd99qRlsgZtrcW7IEkj9gwABj2KQEA10kL55Ied6mecEBYT2Whj169IBL1N6QcfKOjL2pGPEGj+Q5ioiYLzU1VWkbEhg55QoVJqWExScmJkIj82nZKsjDJ9JwN0qbHQKTErvEBBs1ahQWnmKLCkgmfD0W8hMmTNCLvBIs1YcOHYqhNPp6FMpKQvoQzsu+Ax2eCHuAC8Ap8PKPPvqoZPU698SVFmEuwMiVcxcgbPPnzxcxwFlYN9i/sI1TYJ9w/Z999hlEAtd35ivdCDQZKmgznGhk0S6YilSB4cOHSxVcBKpMq4TcTvOCxsGDB5WYIfyFDXTo0EGygkNTEbzEI3mOIsLQ165dK7MahISEIGrU6wxgyLFWgq/U1oE2IiMj82nZ6enpRhtCGiUu7i/hYDgdJGT7XsAUxWpuw4YNpgWstwF/1LJly3nz5hlfc8fgIjo07jPL1paxAx2eaAS9iqAKSyiTR3BfnLUI3YVJYb9ZgiPlwYEgB8jeoBF0MkIlEQlYo/xRmsc888ZqCbPM/qU8AOWA/RhXCfmZ5gUEoxng/iF+xufxzkwFeI9H8hxFBBhj2QKFU1BPCo3A7qGUGFeZ4YK8Poqz9INyyYkTJxy+a4ByPZUTpte3lDf3gD29PCNbW5ifkydPNm3RSEcZHw/L3JZyixNNYGKb3tBxdxy2CN2CSWF05cD+ASHAYfYP3U1YxBBuirP5C6Q3xK7yP83vLPIesr1+q1eHgENTAV7lkTxNEePi4rDig0N0+GY5FBFmbVoEyVl5fqccp4sM6/nsb8nRuSjkobccL8s0GJ+1N/d4ZHPb4a9jGP2UIAsdKbc40QRkA+Jh9AjujsMWOdQwTAGYqNHgxYCtgz+LGMJ9gUhg/jpsuNiY2FX+p/mdBfcPMzA+HjLOGsGhqXibR/IoRQTynMPhSgem0KZNG9NmkWDvIFwHX7Rs2bImTZrI7gou0rlzZ4ePMBXvvfeeHAxwVyNGjECMKC+8wShxhzn+zZDHg35w1ocoRBU6WY3XwIED1ULH4sQ33nhD/ToJiImJwUJEvUzojuTYInuvJ6B/Nm/erPoQ1ggDljcMUTJnzhx5fob02LFjbWdoaQ94qwItxezTM7ZnY4h+ZAceDUSrlWDgSONrWXmY5gUNGAbMQ97QBpg1+FQPhtEih6bibR7JE37XFEHhuBt/uxLjqgJ8WPCgQYMWLlyIQvnpL/vYH9NgzJgxSFj/hAeA3chvGpn8AqaW+rHEDU5+H1JhPBgYfx0RzcEUlbQCAu9K0ONJYBDtfy0v3fC7ncaOSjb8VqfFiaE3/n6j8Sw3RWzbokXK+B3KmLEPVRAgFo5YATYpaXl2aDzGfZGZrn5S2DSzTMZj395cTfMCiHFATdbizFS8zSO5vSISQgghNwVP2zUlhBBC8gZjxP9h2oNS5G2z6OZejRBCyK2GikgIIYRocNeUEEII0aAiEkIIIRpUREIIIUSDikgIIYRoUBEJIYQQjTv/rmmJEiX0FCGEEI/g8uXLesqtYIxICCGEaFARCSGEEA0qIiGEEKJBRSSEEEI0qIiEEEKIBhWREEII0aAiEkIIIRpUREIIIUSDikgIIYRoUBEJIYQQDbf/FbfXXnutefPm8fHxMTExetGNTJgwoXr16gsWLJg2bZpeZMNZeY7gxB07dtifJXciaYv7MSL3IOlNmza98847khZCQ0NHjx7t7+8/fvz47du366XeR//+/aOiouz7s2vXrv369fP19UU6PT1dekk6LTg4WI5JTk4eO3bs0aNHJWscI8G+2wsy9rZnNCHVCZIFFjbpsPekyp482HaBBebUvXt3PePjY/QAxj4BDm3DXbrCftZYNNxIgwYNXnnllbS0NOPEEXLlkfgrbncSDBWsWc8YQCGq9IwBjHq5cuXgCGA0epEL4KyZM2cqB2QEjqlevXpjxozpYSPHeYK7mjRpEmzrhRdekFPs51779u2VZ/da0LHGaazA9B40aNCSJUuk9/r27StTFGO0d+9eKcRwoIcxh402AI1UfQ7cRQ4d2h4KL1y4IA1Bo+DF4MtQKLXw3dWqVZPGTpkyBZ2AzpQqzIsnn3xyxowZDk80kVvbLuCgT1RboHmwLtiSVN11113SJwCCAeVDH0qV4C5d4XDWWDTcSJcuXfz8/PTMjXiDR/IERcy0AUvV8wZQKLV6PpuGDRtmZGSsXbu2UqVKzhyBERGw2NhYh7aCaYPr5CqSgxvCp/0qTIFvbNWqlZ7xStCr8+bNc7j+gEOPjo52uMhdtGjRBx98IGkMx4oVKwIDA10Z4gKLhe2hgfBxkoYhoe2Ib2DbUoIIRhkYqrZu3aqsHTr6+eefoxBp+xON5MG2CzjoMdWWWbNmYYWklsWwHOkTANNCB0JF1HLKLbrCYtZYNFwB83DoSIGXeCQPUcSEhAQMpMnxyeju379fz2cjQ3v48OH169cj69ARmEBAiWgDLhhWhchSL7WBq2Ha7Ny50/V5ghvD1MK3O5NDgOUYPj3GDeWB8uXLwyVhPYtPvSgbDGtqaurKlSv1vHNSUlKM6yFcE/GQRbcXQCxszwTaZWzsd999Z2xpYmIiZE/8+2obUg7kxJCQED2fTR5s271Aw2EPesaO06dP6yn36QqLWWPEWcMRIJ48edLhuV7ikTxk13Tv3r32i1yMLj6hfJJVQJDgYsS4MfxQR3ETFuDIvn37Ott2l6vpeReQ+9y2bZtk7cE1O3bsCMm8cuWKXuR9xNjQMwbEN2FYje7eGUFBQfh05cgCi4XtmRAzxiJAsvknD7btXqDH0ECj8hkxrp/cpSuczRoTDhvetWtXrDVXrVql5w14j0fyEEWEusBwjdomfhMWbO8gMOowdFns7NixI5+7auJzs7KyZs6cOc/GpEmT1G04BItx3ECtWrW+/fZbOUU94BH69esHqXbFCXohEjMh4kGnSe+hG509RY6Ojl6xYoWMtXiB6tWrW5/lpsCGn3zySRi82vczERUVhcBausIElmhYUNq7+zzYtnshDy9mzZolWSOyRzpjxgzJelhX2DccbcF0cGY/3uORPEQRAZY20DYJ7QESyNpPcgy8McKAlGY6eQbpIpA3Pz+/3r17jx8/voeTtzlMYO0ZHByMO8RqDqeY3nro37+/cSoSE+gruO/u3btjNYPeAxhKzFglb+hA8VlQiHHjxqlpjMOeffZZOQUgO2jQIIcvF7gRaLWsq0aNGvXNN984e1EI/h39BmcnZm9E1g1bt261d4V5sO2CD24eYiYWgiAJJmHsE7XMwiRVr2sBD+gK64b36dMHnw4XB17lkTxHEWG7WAKrZ8VIYLztJ7lJKXEW1j7QyHxatgpE8Im0CJ5UOQQyrNwTEvBHuAH4JnFP6mrEGfHx8UrqMFfRn/fdd59kUW6TvB5wXq+88goW9Q73ALAcwUVc2TO/PRgdFnB22yZgPL169UJj0RwYj33gK5dt3rz5kiVL7KcDlBLLAtihxTu3ubXtAg4aqxZGyKKr0QlSBWSRCrDeQpVp88atu8Ki4dC8Ro0aKY9kxNs8kucoIsZy/fr1SlewqHG4IQ6lRIQBL6B5HRvVq1fPp2Wnp6cbHwoijRL79xSMmPavRKEhzLhzNIT7pTkCh6Wnspc1WLObtA3lEEUk5ImyPVgp46xy5crp+TuK0WEBY4DiCjh97NixsCu1MgDQ1LfffhttRExjb1Rw91DKBQsWWDx5yoNtuxFYB2zatKme3Ut5AN2FnhF/IiWe1BXGhoOOHTs63CSQ5nuVR/IcRQSwUdkChVNQTwqNYOyhlDAF3evYkFf47F9EdhHjK3xGUK6n7HDoiHHnEGagHnQBOCw/P7/Y2FjTWtWbwfxEX9l7IvUShJEzZ86gvHz58nreo0Hz0Vi1MoAvGzVqFEpGjhxpmgs4QB6DTZkyxcLZ5cG23Q5nbQTyCoI8QfS8rlAtkj9AhKvRnU52kDBx4kRYjrd5JI9SREx7BFtQRAyzw79tcPgGgZwFpYRe6kW5Qcmwns/+FotX/vB1OMD4ZqycPnfuXF2ls4F4Q62h2RareG8D42Xa6JaFjunFOUFew3FYhdNxEVzKfuXkpqBFaKxaGWBdiJDR4d+8yrODGTNm2IcFRvJg224HllZoo30XAdFCaazndYVqOOJF3d1kEx8fLz9k8dxzz+lF2Xi8R/IoRQRLly7FJ0YaFiwlCviLVq1aOXzdzl6iXAdXW7FiRaNGjWR3RbYgYGcWvgZVW7duxWGiwTgRp+MePMY132rgyuH65V0A0K9fP3zK0I8bN05tc2HEhw0bBoWQ9wXQ21jbShXAhIcqONxadxdee+0145tBaBG6Rd6AkFWCs795dfaUHeDEmTNnSgSQB9su4KAhsBA9Y3t+hqBHHpKhdWi1WmbhSOMLR+7eFRYN14uIDU9TRAwwVv0O1QVGDA/o8O/YcDCUMs8vWUybNm3JkiXybBI+F9+e4wIK6zIchoNxivwamcWrDcQExmv8+PFYsNs2cuZBBtTG4N69e9VD4okTJ0IOje/U3XXXXVIFcBaGyX2dO4AJwWvr7bmxH4Tu3bvrddmozS7jVpjg8F2ePNh2QQadU65cOWkvQO+pfWPpN9iMVNnPSrfuCouGEyNu/0vfhBBCChr8pW9CCCHEjWGM+D+63vhvwSgc/qJ0jtzcqxFCiBvhpjEiFZEQQshNhrumhBBCiBtDRSSEEEI0qIiEEEKIBhWREEII0aAiEkIIIRp3/l1TQgghpCDAGJEQQgjRoCISQgghGlREQgghRIOKSAghhGhQEQkhhBANKiIhhBCiQUUkhBBCNKiIhBBCiAYVkRBCCNGgIhJCCCEabv8rbm+88UbLli0PHjw4fPhwvehGPv7448jIyHnz5n3xxRd6kQ1n5TmCE7dv325/ltyJpC3uRwgPDx8zZkxwcDDS6enp48aN27Jli1QJubqaZzNkyJAGDRqYekCGT9IbNmx48803JW3sWJCcnBwbG3vkyBHJCm7XtxY3bKwSVG9079590KBBvr6+pnIhRwsUGjduPGrUKD8/P6QzMzOnTJmyYMECqXJTYE49evTQMz4+Rg9g3WNCATceYxPsh9VY6+zmHU434CUeyUNiROg6BlvPGEChQ8nHPA8KCoLFYOz1IhfAWXPmzFGO2AgcdP369V9//fVoG9bmguu89957Fy5ckIPj4uLgdFCoV+fyap4NusLovwQU4lM6Bx4NExXTVaoaNmy4e/duqUIH+vv7w+/D+0stcLu+RdOqV68+bNgw3O3kyZNhz9J8BVRfagXlxGvVqgUBk0JTL+VogQJKUL5s2TI5LCEhAf7U4URzIyIiItToQ/NgXdAAqbLoMaGAGw+Gpl+/ftIEmERaWppxWEUOFy5ciFo0ISQkxGRIACX20w243azJM56giFi6AofahkKp1fPZwEoyMjJWr14Ns7B3BPbApX711VdvvfWWLJZNYNrgOs5W2fZ07doVxjphwgTJTps2DVkUSja3V/NU0A9LlixxuP5AjK7mJBb4WLFCM0T2EMG8++67UoUOhDcPDAyETEqJO/btgQMHVJiL1m3evNlFo0U/qHjO1EvWFmhk+vTpKoSaOnWqs4nmRowePVqNPhqO9YRqkUWPgYJvPOfPn//kk0+kCTCY+fPnIxxUptKhQwesaWQ0ZWoYAwmL6eZVHslDFBHDjyWMyU0gi8K9e/fq+Wxg4m3atImPj1+3bh2yrjgXBJSINrBsxCoJkaVeagNXw7TBKttFc5HjsTxXW3lI4GZk7uX2ah5MhQoV4JKwIMWnXpSN8tHCqVOnMDoYIz1vAFVqPeSmfTt79mxlKuDEiRNwc6GhoZJFLxltyQJ0hSSkH5xZoJQI6KgffvhBz/j4pKSkQDjxjXre/UHD0Q96xg7VY8AtjOcXG3rGx+fo0aMw/sqVKyMNLwdVw1JSqgAaYlzfOJtu3uaRPGTXdM+ePcbVkCBr3kOHDklWgYgBDhTGgTFOTEyEOpocgT04smfPniZHLKir6fm8Ij79Zl3NA0AUmP/NGXHfcA349PK+zVE7xQL1jHeAiV+6dGmj8hkx9pi7Gw98IzyksaWm9Y2z6eZts8ZDFBGKlZCQYNQ2tbSxN3csi2AK27ZtQxojbdxVywNiUllZWXPmzFli46uvvrKQWFmWYh4aj1F2mdurERlorGzs17Ddu3fv1q3bsmXLpMoz+hbWm5qaKtaLm4chRUZGSnMWLFjg7CGfbHxNnToVaWsLtADTBJPFk5xjTEwMPqdNmyZZI8YeA+5oPKKCarwQEcrSULCOjxXe5pE8RBHBTz/9hOnasWNHySLhcPZiLOFA4+PjZekHX2ncOsgDlStX9vPze/rpp8eNGxft5G0OE3KrMhvBkCFD1No8D1fzctCN6CLluQD6U6Zuv3790HUqsveAvoWbDgsLmz9/vlgvPgcMGIC2CFgUDh06VL0nAj7++GPpCvi1nj17qkWDhQU6A+4V/akeRLkvGG74dOkWLJfRgdKZgrMeczvjkeXg5s2b1ZNRh5gWRvZ4m0fyHEXEqhlrZ6VtSGD22luDSSlh8QgvoJH5HGAViOAT6eDgYKXN9uCupkyZAtcmcw+3unLlSr3ORq6u5rXAR2Pdim6cMWOGdJcAl20TiGjM4VGjRuEY43Z6ge1bo6cGptuW2pYtWy5cuNCZjxs+fPjBgweNOyUoka6AweOa6t3CHC3QBCTzrbfeMr6M474YlxHIovlYZ0gVcNZjgrtMTLQIayM4QPu/HjFhvZGucJeG5x/PUUSM69q1a+XtKRASEoKFsF5nAJPf19cX5mJzBRqRkZH5HOD09HQxFwFplGBtpecdAZeEm5S5h0mIg+FuUlJSUJWHq3kh6L3Y2Fh02ogRI5wpBLoOooiEeouyIPetKeAzBiiQxvfeew9rc6zQrUM0BD04zD7gw1nz5s2T2SElFhZoAu61R48eGzZsMIVTHgAEA+2yfykP2PeYu0xMqDhWTrh5DKteZMP4QhbAsgkBop6xxF0aflPwHEUEGCrZAu3QoYN6UmgEdg+lxBwQRyDAy2CAcZZ+UC4xvfunQLmeygmYptrIzf/VvAGELLIEztFHG18fcNO+Vdr/8ssvGx1TbpEH6tIVJowWqBdlo9xrjtGGm+LMKoCxx9zCeGQjASo+efJk08rJfvSxbMLiScotcNNZk2c8TRHj4uKw4oNNIF60n95QRIyu6eGinAWltF8nuoKSYT2f/S05mpoC4anayM3/1TweTPs2bdocdO1XM4zT3k37Fsu71NRU+1/esUeEzeFLRkC8ocPGGi3QCMQYUwlyaB2YujWIdWAVxldOFMYecwvjkXGc4uh3hUwPlYDcv/2gm/A2j+RRiggWLVqETwyhvVMQT6re0zMCs8AYY6T1fG7AFy1btqxJkyayu4KLdO7c2eEjTAWOfPXVV1Xa+AA8D1fzNuR1cIdb4uC9996TrgMY8REjRiC6kpcJ3bFvcZNYqzlc3gHUjh07Vs/YXjKCQ5SeQRXCO/SAVJnMDFlnFogT58yZI8/P4AcxX1asWGE70BNAY2Ehesa22YAIWB6SWfeYWxgPxsvZLcF+YEWRkZHy4pXcf47v3QBv80ie8LumCArHGX5PAWaN9Yva5MFAym8XoRAJGIH9/g+mwZgxY5DIcSUOg5DftTKtmmFn6tePHP4cohG5JWgw0hBv+zVdrq7m8Yh3VhGhsfeMSEcZuw7Yh5Lu1bdib352v5Qk7TLVmn7EFf1m/AkSY6hnYYFyTQSauD4mFwRDyhUOLdZdkJkenP2zt6a2WPSYUMCNx3T/Qrrh101duX/TdBO8xyO5vSISQgghNwVP2zUlhBBC8gZjxP/hbDsub28W3NyrEUIIudVQEQkhhBAN7poSQgghGlREQgghRIOKSAghhGhQEQkhhBANKiIhhBCiQUUkhBBCNKiIhBBCiAYVkRBCCNGgIhJCCCEaVERCCCFEg4pICCGEaFARCSGEEA0qIiGEEKJBRSSEEEI0qIiEEEKIBhWREEII0aAiEkIIIRpUREIIIUSDikgIIYRoUBEJIYQQDSoiIYQQokFFJIQQQjSoiIQQQogGFZEQQgjRoCISQgghGlREQgghxMfHx+f/AUcHP6Gqu8zhAAAAAElFTkSuQmCC)"
   ],
   "metadata": {}
  },
  {
   "cell_type": "code",
   "execution_count": 13,
   "source": [
    "df_all_gains.head()"
   ],
   "outputs": [
    {
     "output_type": "execute_result",
     "data": {
      "text/html": [
       "<div>\n",
       "<style scoped>\n",
       "    .dataframe tbody tr th:only-of-type {\n",
       "        vertical-align: middle;\n",
       "    }\n",
       "\n",
       "    .dataframe tbody tr th {\n",
       "        vertical-align: top;\n",
       "    }\n",
       "\n",
       "    .dataframe thead th {\n",
       "        text-align: right;\n",
       "    }\n",
       "</style>\n",
       "<table border=\"1\" class=\"dataframe\">\n",
       "  <thead>\n",
       "    <tr style=\"text-align: right;\">\n",
       "      <th></th>\n",
       "      <th>CROSS</th>\n",
       "      <th>num_trades</th>\n",
       "      <th>total_gain</th>\n",
       "      <th>mashort</th>\n",
       "      <th>malong</th>\n",
       "    </tr>\n",
       "  </thead>\n",
       "  <tbody>\n",
       "    <tr>\n",
       "      <th>0</th>\n",
       "      <td>MA_16_128</td>\n",
       "      <td>1045</td>\n",
       "      <td>-9299.8</td>\n",
       "      <td>336</td>\n",
       "      <td>2688</td>\n",
       "    </tr>\n",
       "    <tr>\n",
       "      <th>1</th>\n",
       "      <td>MA_16_256</td>\n",
       "      <td>686</td>\n",
       "      <td>-8430.1</td>\n",
       "      <td>336</td>\n",
       "      <td>5376</td>\n",
       "    </tr>\n",
       "    <tr>\n",
       "      <th>2</th>\n",
       "      <td>MA_16_32</td>\n",
       "      <td>2823</td>\n",
       "      <td>376.9</td>\n",
       "      <td>336</td>\n",
       "      <td>672</td>\n",
       "    </tr>\n",
       "    <tr>\n",
       "      <th>3</th>\n",
       "      <td>MA_16_64</td>\n",
       "      <td>1635</td>\n",
       "      <td>-1322.6</td>\n",
       "      <td>336</td>\n",
       "      <td>1344</td>\n",
       "    </tr>\n",
       "    <tr>\n",
       "      <th>4</th>\n",
       "      <td>MA_16_96</td>\n",
       "      <td>1236</td>\n",
       "      <td>-2539.2</td>\n",
       "      <td>336</td>\n",
       "      <td>2016</td>\n",
       "    </tr>\n",
       "  </tbody>\n",
       "</table>\n",
       "</div>"
      ],
      "text/plain": [
       "       CROSS  num_trades  total_gain  mashort  malong\n",
       "0  MA_16_128        1045     -9299.8      336    2688\n",
       "1  MA_16_256         686     -8430.1      336    5376\n",
       "2   MA_16_32        2823       376.9      336     672\n",
       "3   MA_16_64        1635     -1322.6      336    1344\n",
       "4   MA_16_96        1236     -2539.2      336    2016"
      ]
     },
     "metadata": {},
     "execution_count": 13
    }
   ],
   "metadata": {}
  },
  {
   "cell_type": "markdown",
   "source": [
    "### 增加維度: 改為用 ```CROSS```、```mashort```、以及 ```malong``` 分類"
   ],
   "metadata": {}
  },
  {
   "cell_type": "code",
   "execution_count": 14,
   "source": [
    "df_all_gains = ma_test_res.groupby(by=['CROSS','mashort', 'malong'], as_index=False).sum()"
   ],
   "outputs": [],
   "metadata": {}
  },
  {
   "cell_type": "code",
   "execution_count": 15,
   "source": [
    "df_all_gains.head(10)"
   ],
   "outputs": [
    {
     "output_type": "execute_result",
     "data": {
      "text/html": [
       "<div>\n",
       "<style scoped>\n",
       "    .dataframe tbody tr th:only-of-type {\n",
       "        vertical-align: middle;\n",
       "    }\n",
       "\n",
       "    .dataframe tbody tr th {\n",
       "        vertical-align: top;\n",
       "    }\n",
       "\n",
       "    .dataframe thead th {\n",
       "        text-align: right;\n",
       "    }\n",
       "</style>\n",
       "<table border=\"1\" class=\"dataframe\">\n",
       "  <thead>\n",
       "    <tr style=\"text-align: right;\">\n",
       "      <th></th>\n",
       "      <th>CROSS</th>\n",
       "      <th>mashort</th>\n",
       "      <th>malong</th>\n",
       "      <th>num_trades</th>\n",
       "      <th>total_gain</th>\n",
       "    </tr>\n",
       "  </thead>\n",
       "  <tbody>\n",
       "    <tr>\n",
       "      <th>0</th>\n",
       "      <td>MA_16_128</td>\n",
       "      <td>16</td>\n",
       "      <td>128</td>\n",
       "      <td>1045</td>\n",
       "      <td>-9299.8</td>\n",
       "    </tr>\n",
       "    <tr>\n",
       "      <th>1</th>\n",
       "      <td>MA_16_256</td>\n",
       "      <td>16</td>\n",
       "      <td>256</td>\n",
       "      <td>686</td>\n",
       "      <td>-8430.1</td>\n",
       "    </tr>\n",
       "    <tr>\n",
       "      <th>2</th>\n",
       "      <td>MA_16_32</td>\n",
       "      <td>16</td>\n",
       "      <td>32</td>\n",
       "      <td>2823</td>\n",
       "      <td>376.9</td>\n",
       "    </tr>\n",
       "    <tr>\n",
       "      <th>3</th>\n",
       "      <td>MA_16_64</td>\n",
       "      <td>16</td>\n",
       "      <td>64</td>\n",
       "      <td>1635</td>\n",
       "      <td>-1322.6</td>\n",
       "    </tr>\n",
       "    <tr>\n",
       "      <th>4</th>\n",
       "      <td>MA_16_96</td>\n",
       "      <td>16</td>\n",
       "      <td>96</td>\n",
       "      <td>1236</td>\n",
       "      <td>-2539.2</td>\n",
       "    </tr>\n",
       "    <tr>\n",
       "      <th>5</th>\n",
       "      <td>MA_24_128</td>\n",
       "      <td>24</td>\n",
       "      <td>128</td>\n",
       "      <td>909</td>\n",
       "      <td>-7737.9</td>\n",
       "    </tr>\n",
       "    <tr>\n",
       "      <th>6</th>\n",
       "      <td>MA_24_256</td>\n",
       "      <td>24</td>\n",
       "      <td>256</td>\n",
       "      <td>576</td>\n",
       "      <td>-8951.0</td>\n",
       "    </tr>\n",
       "    <tr>\n",
       "      <th>7</th>\n",
       "      <td>MA_24_32</td>\n",
       "      <td>24</td>\n",
       "      <td>32</td>\n",
       "      <td>3205</td>\n",
       "      <td>-4112.6</td>\n",
       "    </tr>\n",
       "    <tr>\n",
       "      <th>8</th>\n",
       "      <td>MA_24_64</td>\n",
       "      <td>24</td>\n",
       "      <td>64</td>\n",
       "      <td>1421</td>\n",
       "      <td>1051.3</td>\n",
       "    </tr>\n",
       "    <tr>\n",
       "      <th>9</th>\n",
       "      <td>MA_24_96</td>\n",
       "      <td>24</td>\n",
       "      <td>96</td>\n",
       "      <td>1083</td>\n",
       "      <td>-3934.6</td>\n",
       "    </tr>\n",
       "  </tbody>\n",
       "</table>\n",
       "</div>"
      ],
      "text/plain": [
       "       CROSS  mashort  malong  num_trades  total_gain\n",
       "0  MA_16_128       16     128        1045     -9299.8\n",
       "1  MA_16_256       16     256         686     -8430.1\n",
       "2   MA_16_32       16      32        2823       376.9\n",
       "3   MA_16_64       16      64        1635     -1322.6\n",
       "4   MA_16_96       16      96        1236     -2539.2\n",
       "5  MA_24_128       24     128         909     -7737.9\n",
       "6  MA_24_256       24     256         576     -8951.0\n",
       "7   MA_24_32       24      32        3205     -4112.6\n",
       "8   MA_24_64       24      64        1421      1051.3\n",
       "9   MA_24_96       24      96        1083     -3934.6"
      ]
     },
     "metadata": {},
     "execution_count": 15
    }
   ],
   "metadata": {}
  },
  {
   "cell_type": "markdown",
   "source": [
    "### 依照損益排序"
   ],
   "metadata": {}
  },
  {
   "cell_type": "code",
   "execution_count": 16,
   "source": [
    "df_all_gains.sort_values(by='total_gain', ascending=False, inplace=True)"
   ],
   "outputs": [],
   "metadata": {}
  },
  {
   "cell_type": "code",
   "execution_count": 17,
   "source": [
    "df_all_gains.head(10) # 可以看到 30 種 MA 組合中只有 7 種組合帶來正報酬"
   ],
   "outputs": [
    {
     "output_type": "execute_result",
     "data": {
      "text/html": [
       "<div>\n",
       "<style scoped>\n",
       "    .dataframe tbody tr th:only-of-type {\n",
       "        vertical-align: middle;\n",
       "    }\n",
       "\n",
       "    .dataframe tbody tr th {\n",
       "        vertical-align: top;\n",
       "    }\n",
       "\n",
       "    .dataframe thead th {\n",
       "        text-align: right;\n",
       "    }\n",
       "</style>\n",
       "<table border=\"1\" class=\"dataframe\">\n",
       "  <thead>\n",
       "    <tr style=\"text-align: right;\">\n",
       "      <th></th>\n",
       "      <th>CROSS</th>\n",
       "      <th>mashort</th>\n",
       "      <th>malong</th>\n",
       "      <th>num_trades</th>\n",
       "      <th>total_gain</th>\n",
       "    </tr>\n",
       "  </thead>\n",
       "  <tbody>\n",
       "    <tr>\n",
       "      <th>25</th>\n",
       "      <td>MA_8_16</td>\n",
       "      <td>8</td>\n",
       "      <td>16</td>\n",
       "      <td>5761</td>\n",
       "      <td>3044.3</td>\n",
       "    </tr>\n",
       "    <tr>\n",
       "      <th>27</th>\n",
       "      <td>MA_8_32</td>\n",
       "      <td>8</td>\n",
       "      <td>32</td>\n",
       "      <td>3156</td>\n",
       "      <td>3033.9</td>\n",
       "    </tr>\n",
       "    <tr>\n",
       "      <th>18</th>\n",
       "      <td>MA_4_64</td>\n",
       "      <td>4</td>\n",
       "      <td>64</td>\n",
       "      <td>2635</td>\n",
       "      <td>1992.0</td>\n",
       "    </tr>\n",
       "    <tr>\n",
       "      <th>8</th>\n",
       "      <td>MA_24_64</td>\n",
       "      <td>24</td>\n",
       "      <td>64</td>\n",
       "      <td>1421</td>\n",
       "      <td>1051.3</td>\n",
       "    </tr>\n",
       "    <tr>\n",
       "      <th>15</th>\n",
       "      <td>MA_4_16</td>\n",
       "      <td>4</td>\n",
       "      <td>16</td>\n",
       "      <td>6537</td>\n",
       "      <td>828.0</td>\n",
       "    </tr>\n",
       "    <tr>\n",
       "      <th>12</th>\n",
       "      <td>MA_32_64</td>\n",
       "      <td>32</td>\n",
       "      <td>64</td>\n",
       "      <td>1384</td>\n",
       "      <td>808.7</td>\n",
       "    </tr>\n",
       "    <tr>\n",
       "      <th>17</th>\n",
       "      <td>MA_4_32</td>\n",
       "      <td>4</td>\n",
       "      <td>32</td>\n",
       "      <td>4041</td>\n",
       "      <td>511.1</td>\n",
       "    </tr>\n",
       "    <tr>\n",
       "      <th>2</th>\n",
       "      <td>MA_16_32</td>\n",
       "      <td>16</td>\n",
       "      <td>32</td>\n",
       "      <td>2823</td>\n",
       "      <td>376.9</td>\n",
       "    </tr>\n",
       "    <tr>\n",
       "      <th>28</th>\n",
       "      <td>MA_8_64</td>\n",
       "      <td>8</td>\n",
       "      <td>64</td>\n",
       "      <td>1993</td>\n",
       "      <td>-72.7</td>\n",
       "    </tr>\n",
       "    <tr>\n",
       "      <th>19</th>\n",
       "      <td>MA_4_8</td>\n",
       "      <td>4</td>\n",
       "      <td>8</td>\n",
       "      <td>11775</td>\n",
       "      <td>-622.7</td>\n",
       "    </tr>\n",
       "  </tbody>\n",
       "</table>\n",
       "</div>"
      ],
      "text/plain": [
       "       CROSS  mashort  malong  num_trades  total_gain\n",
       "25   MA_8_16        8      16        5761      3044.3\n",
       "27   MA_8_32        8      32        3156      3033.9\n",
       "18   MA_4_64        4      64        2635      1992.0\n",
       "8   MA_24_64       24      64        1421      1051.3\n",
       "15   MA_4_16        4      16        6537       828.0\n",
       "12  MA_32_64       32      64        1384       808.7\n",
       "17   MA_4_32        4      32        4041       511.1\n",
       "2   MA_16_32       16      32        2823       376.9\n",
       "28   MA_8_64        8      64        1993       -72.7\n",
       "19    MA_4_8        4       8       11775      -622.7"
      ]
     },
     "metadata": {},
     "execution_count": 17
    }
   ],
   "metadata": {}
  },
  {
   "cell_type": "markdown",
   "source": [
    "### 抓出表現最好的 MA 組合觀察"
   ],
   "metadata": {}
  },
  {
   "cell_type": "code",
   "execution_count": 18,
   "source": [
    "ma_8_16 = ma_test_res[ ma_test_res['CROSS'] == 'MA_8_16'].copy()"
   ],
   "outputs": [],
   "metadata": {}
  },
  {
   "cell_type": "code",
   "execution_count": 19,
   "source": [
    "# 找出策略每筆交易的狀況\r\n",
    "ma_8_16.sort_values(by='total_gain', ascending=False, inplace=True)"
   ],
   "outputs": [],
   "metadata": {}
  },
  {
   "cell_type": "code",
   "execution_count": 20,
   "source": [
    "ma_8_16.head()"
   ],
   "outputs": [
    {
     "output_type": "execute_result",
     "data": {
      "text/html": [
       "<div>\n",
       "<style scoped>\n",
       "    .dataframe tbody tr th:only-of-type {\n",
       "        vertical-align: middle;\n",
       "    }\n",
       "\n",
       "    .dataframe tbody tr th {\n",
       "        vertical-align: top;\n",
       "    }\n",
       "\n",
       "    .dataframe thead th {\n",
       "        text-align: right;\n",
       "    }\n",
       "</style>\n",
       "<table border=\"1\" class=\"dataframe\">\n",
       "  <thead>\n",
       "    <tr style=\"text-align: right;\">\n",
       "      <th></th>\n",
       "      <th>pair</th>\n",
       "      <th>num_trades</th>\n",
       "      <th>total_gain</th>\n",
       "      <th>mashort</th>\n",
       "      <th>malong</th>\n",
       "      <th>CROSS</th>\n",
       "    </tr>\n",
       "  </thead>\n",
       "  <tbody>\n",
       "    <tr>\n",
       "      <th>212</th>\n",
       "      <td>EUR_CAD</td>\n",
       "      <td>259</td>\n",
       "      <td>1244.9</td>\n",
       "      <td>8</td>\n",
       "      <td>16</td>\n",
       "      <td>MA_8_16</td>\n",
       "    </tr>\n",
       "    <tr>\n",
       "      <th>512</th>\n",
       "      <td>NZD_CAD</td>\n",
       "      <td>257</td>\n",
       "      <td>625.9</td>\n",
       "      <td>8</td>\n",
       "      <td>16</td>\n",
       "      <td>MA_8_16</td>\n",
       "    </tr>\n",
       "    <tr>\n",
       "      <th>422</th>\n",
       "      <td>CAD_JPY</td>\n",
       "      <td>267</td>\n",
       "      <td>573.4</td>\n",
       "      <td>8</td>\n",
       "      <td>16</td>\n",
       "      <td>MA_8_16</td>\n",
       "    </tr>\n",
       "    <tr>\n",
       "      <th>272</th>\n",
       "      <td>EUR_NZD</td>\n",
       "      <td>277</td>\n",
       "      <td>547.4</td>\n",
       "      <td>8</td>\n",
       "      <td>16</td>\n",
       "      <td>MA_8_16</td>\n",
       "    </tr>\n",
       "    <tr>\n",
       "      <th>602</th>\n",
       "      <td>CHF_JPY</td>\n",
       "      <td>279</td>\n",
       "      <td>507.6</td>\n",
       "      <td>8</td>\n",
       "      <td>16</td>\n",
       "      <td>MA_8_16</td>\n",
       "    </tr>\n",
       "  </tbody>\n",
       "</table>\n",
       "</div>"
      ],
      "text/plain": [
       "        pair  num_trades  total_gain  mashort  malong    CROSS\n",
       "212  EUR_CAD         259      1244.9        8      16  MA_8_16\n",
       "512  NZD_CAD         257       625.9        8      16  MA_8_16\n",
       "422  CAD_JPY         267       573.4        8      16  MA_8_16\n",
       "272  EUR_NZD         277       547.4        8      16  MA_8_16\n",
       "602  CHF_JPY         279       507.6        8      16  MA_8_16"
      ]
     },
     "metadata": {},
     "execution_count": 20
    }
   ],
   "metadata": {}
  },
  {
   "cell_type": "markdown",
   "source": [
    "### 計算損益為正的機率"
   ],
   "metadata": {}
  },
  {
   "cell_type": "code",
   "execution_count": 21,
   "source": [
    "profit_p = ma_8_16[ ma_8_16['total_gain'] > 0]"
   ],
   "outputs": [],
   "metadata": {}
  },
  {
   "cell_type": "code",
   "execution_count": 22,
   "source": [
    "pos = profit_p.shape[0]\r\n",
    "pos\r\n",
    "# 共有 15 組貨幣對可以帶來正報酬"
   ],
   "outputs": [
    {
     "output_type": "execute_result",
     "data": {
      "text/plain": [
       "15"
      ]
     },
     "metadata": {},
     "execution_count": 22
    }
   ],
   "metadata": {}
  },
  {
   "cell_type": "code",
   "execution_count": 23,
   "source": [
    "all_pair_count = len(ma_8_16['pair'].unique())\r\n",
    "all_pair_count"
   ],
   "outputs": [
    {
     "output_type": "execute_result",
     "data": {
      "text/plain": [
       "21"
      ]
     },
     "metadata": {},
     "execution_count": 23
    }
   ],
   "metadata": {}
  },
  {
   "cell_type": "code",
   "execution_count": 24,
   "source": [
    "prob = pos / all_pair_count\r\n",
    "prob\r\n",
    "\r\n",
    "# 這代表在 8 MA+16 MA 的組合裡，有約 70% 的商品可以獲利"
   ],
   "outputs": [
    {
     "output_type": "execute_result",
     "data": {
      "text/plain": [
       "0.7142857142857143"
      ]
     },
     "metadata": {},
     "execution_count": 24
    }
   ],
   "metadata": {}
  },
  {
   "cell_type": "markdown",
   "source": [
    "### 延伸: 對所有 MA 組合計算勝率"
   ],
   "metadata": {}
  },
  {
   "cell_type": "code",
   "execution_count": 25,
   "source": [
    "for cross in df_all_gains['CROSS'].unique():\r\n",
    "    # create a temporary data frame\r\n",
    "    df_temp = ma_test_res[ ma_test_res['CROSS'] == cross]\r\n",
    "    \r\n",
    "    # total_p 存放該 MA 組合的交易商品總數\r\n",
    "    total_p = df_temp.shape[0]\r\n",
    "\r\n",
    "    # profit_p 存放該 MA 組合  正損益  的交易商品總數\r\n",
    "    profit_p = df_temp[ df_temp['total_gain'] > 0 ].shape[0]\r\n",
    "    \r\n",
    "    # 印出相關資訊\r\n",
    "    ## 大括號裡的 12 代表留 12 個字元的空間\r\n",
    "    print(f\"{cross:12} {profit_p:4} {(profit_p/total_p)*100:4.0f}%\")"
   ],
   "outputs": [
    {
     "output_type": "stream",
     "name": "stdout",
     "text": [
      "MA_8_16        15   71%\n",
      "MA_8_32        15   71%\n",
      "MA_4_64        13   62%\n",
      "MA_24_64       13   62%\n",
      "MA_4_16        11   52%\n",
      "MA_32_64       11   52%\n",
      "MA_4_32        14   67%\n",
      "MA_16_32       12   57%\n",
      "MA_8_64        10   48%\n",
      "MA_4_8         10   48%\n",
      "MA_16_64        8   38%\n",
      "MA_4_96         9   43%\n",
      "MA_8_96         8   38%\n",
      "MA_16_96        8   38%\n",
      "MA_32_96        7   33%\n",
      "MA_24_96        8   38%\n",
      "MA_24_32        7   33%\n",
      "MA_4_128        7   33%\n",
      "MA_64_128       3   14%\n",
      "MA_32_128       7   33%\n",
      "MA_8_128        5   24%\n",
      "MA_24_128       7   33%\n",
      "MA_16_256       4   19%\n",
      "MA_8_256        4   19%\n",
      "MA_64_96        4   19%\n",
      "MA_24_256       6   29%\n",
      "MA_16_128       5   24%\n",
      "MA_4_256        2   10%\n",
      "MA_32_256       6   29%\n",
      "MA_64_256       6   29%\n"
     ]
    }
   ],
   "metadata": {}
  },
  {
   "cell_type": "markdown",
   "source": [
    "可以發現完整觀察不同週期交易各種貨幣對的勝率，其中我們發現:  \r\n",
    "- 似乎選週期 4 (即四小時圖)與其他長線搭配，勝率都不錯\r\n",
    "- 長線週期選越大，感覺勝率越低"
   ],
   "metadata": {}
  },
  {
   "cell_type": "markdown",
   "source": [
    "---"
   ],
   "metadata": {}
  },
  {
   "cell_type": "markdown",
   "source": [
    "## 深度分析 ```MA_8_16```, ```MA_8_32```, ```MA_4_64```"
   ],
   "metadata": {}
  },
  {
   "cell_type": "markdown",
   "source": [
    "經過上一個 commit，我們取出勝率前三高的 MA 組合進行觀察:"
   ],
   "metadata": {}
  },
  {
   "cell_type": "markdown",
   "source": [
    "### 首先取出三種組合的交易資料"
   ],
   "metadata": {}
  },
  {
   "cell_type": "code",
   "execution_count": 26,
   "source": [
    "crosses = ['MA_8_16', 'MA_8_32', 'MA_4_64']"
   ],
   "outputs": [],
   "metadata": {}
  },
  {
   "cell_type": "code",
   "execution_count": 27,
   "source": [
    "# 從 ma_test_res (最前面定義的)分析出 三種 cross 及三種 cross 中獲利為正的貨幣對\r\n",
    "df_good = ma_test_res[ (ma_test_res['CROSS'].isin(crosses)) & (ma_test_res['total_gain']>0) ].copy()"
   ],
   "outputs": [],
   "metadata": {}
  },
  {
   "cell_type": "markdown",
   "source": [
    "code 注意:  \r\n",
    "- 在 pandas 用 \"且\" 時，要用 ```&``` (而非 ```and```)\r\n",
    "- ```&``` 兩邊的條件要記得加上 括號!!!"
   ],
   "metadata": {}
  },
  {
   "cell_type": "code",
   "execution_count": 28,
   "source": [
    "df_good.head()"
   ],
   "outputs": [
    {
     "output_type": "execute_result",
     "data": {
      "text/html": [
       "<div>\n",
       "<style scoped>\n",
       "    .dataframe tbody tr th:only-of-type {\n",
       "        vertical-align: middle;\n",
       "    }\n",
       "\n",
       "    .dataframe tbody tr th {\n",
       "        vertical-align: top;\n",
       "    }\n",
       "\n",
       "    .dataframe thead th {\n",
       "        text-align: right;\n",
       "    }\n",
       "</style>\n",
       "<table border=\"1\" class=\"dataframe\">\n",
       "  <thead>\n",
       "    <tr style=\"text-align: right;\">\n",
       "      <th></th>\n",
       "      <th>pair</th>\n",
       "      <th>num_trades</th>\n",
       "      <th>total_gain</th>\n",
       "      <th>mashort</th>\n",
       "      <th>malong</th>\n",
       "      <th>CROSS</th>\n",
       "    </tr>\n",
       "  </thead>\n",
       "  <tbody>\n",
       "    <tr>\n",
       "      <th>2</th>\n",
       "      <td>GBP_USD</td>\n",
       "      <td>272</td>\n",
       "      <td>87.4</td>\n",
       "      <td>8</td>\n",
       "      <td>16</td>\n",
       "      <td>MA_8_16</td>\n",
       "    </tr>\n",
       "    <tr>\n",
       "      <th>64</th>\n",
       "      <td>GBP_JPY</td>\n",
       "      <td>151</td>\n",
       "      <td>983.7</td>\n",
       "      <td>8</td>\n",
       "      <td>32</td>\n",
       "      <td>MA_8_32</td>\n",
       "    </tr>\n",
       "    <tr>\n",
       "      <th>67</th>\n",
       "      <td>GBP_JPY</td>\n",
       "      <td>102</td>\n",
       "      <td>1099.2</td>\n",
       "      <td>4</td>\n",
       "      <td>64</td>\n",
       "      <td>MA_4_64</td>\n",
       "    </tr>\n",
       "    <tr>\n",
       "      <th>97</th>\n",
       "      <td>GBP_NZD</td>\n",
       "      <td>127</td>\n",
       "      <td>343.6</td>\n",
       "      <td>4</td>\n",
       "      <td>64</td>\n",
       "      <td>MA_4_64</td>\n",
       "    </tr>\n",
       "    <tr>\n",
       "      <th>124</th>\n",
       "      <td>GBP_CHF</td>\n",
       "      <td>151</td>\n",
       "      <td>77.5</td>\n",
       "      <td>8</td>\n",
       "      <td>32</td>\n",
       "      <td>MA_8_32</td>\n",
       "    </tr>\n",
       "  </tbody>\n",
       "</table>\n",
       "</div>"
      ],
      "text/plain": [
       "        pair  num_trades  total_gain  mashort  malong    CROSS\n",
       "2    GBP_USD         272        87.4        8      16  MA_8_16\n",
       "64   GBP_JPY         151       983.7        8      32  MA_8_32\n",
       "67   GBP_JPY         102      1099.2        4      64  MA_4_64\n",
       "97   GBP_NZD         127       343.6        4      64  MA_4_64\n",
       "124  GBP_CHF         151        77.5        8      32  MA_8_32"
      ]
     },
     "metadata": {},
     "execution_count": 28
    }
   ],
   "metadata": {}
  },
  {
   "cell_type": "markdown",
   "source": [
    "### 接著找出對三種 MA 組合都有正獲利的貨幣對"
   ],
   "metadata": {}
  },
  {
   "cell_type": "code",
   "execution_count": 29,
   "source": [
    "df_good['pair'].value_counts()"
   ],
   "outputs": [
    {
     "output_type": "execute_result",
     "data": {
      "text/plain": [
       "CHF_JPY    3\n",
       "NZD_CHF    3\n",
       "NZD_JPY    3\n",
       "EUR_USD    3\n",
       "EUR_CAD    3\n",
       "EUR_NZD    3\n",
       "CAD_CHF    3\n",
       "CAD_JPY    3\n",
       "USD_JPY    3\n",
       "USD_CHF    2\n",
       "NZD_USD    2\n",
       "USD_CAD    2\n",
       "GBP_JPY    2\n",
       "EUR_CHF    2\n",
       "GBP_CHF    2\n",
       "EUR_JPY    1\n",
       "NZD_CAD    1\n",
       "GBP_NZD    1\n",
       "GBP_USD    1\n",
       "Name: pair, dtype: int64"
      ]
     },
     "metadata": {},
     "execution_count": 29
    }
   ],
   "metadata": {}
  },
  {
   "cell_type": "markdown",
   "source": [
    "出現 3 的貨幣對共有 9 種，這代表 CHFJPY (及其他八種貨幣對)不管是套用 (8, 16)，還是 (8, 32)，還是 (4, 64)，都是正報酬"
   ],
   "metadata": {}
  },
  {
   "cell_type": "code",
   "execution_count": 30,
   "source": [
    "type(df_good['pair'].value_counts()[:9]) # value_counts() 回傳的是 series"
   ],
   "outputs": [
    {
     "output_type": "execute_result",
     "data": {
      "text/plain": [
       "pandas.core.series.Series"
      ]
     },
     "metadata": {},
     "execution_count": 30
    }
   ],
   "metadata": {}
  },
  {
   "cell_type": "code",
   "execution_count": 31,
   "source": [
    "df_good['pair'].value_counts()[:9].index # 取出 series 物件的 index"
   ],
   "outputs": [
    {
     "output_type": "execute_result",
     "data": {
      "text/plain": [
       "Index(['CHF_JPY', 'NZD_CHF', 'NZD_JPY', 'EUR_USD', 'EUR_CAD', 'EUR_NZD',\n",
       "       'CAD_CHF', 'CAD_JPY', 'USD_JPY'],\n",
       "      dtype='object')"
      ]
     },
     "metadata": {},
     "execution_count": 31
    }
   ],
   "metadata": {}
  },
  {
   "cell_type": "code",
   "execution_count": 32,
   "source": [
    "our_pairs = list(df_good['pair'].value_counts()[:9].index) # 再把 Index 物件改為 list"
   ],
   "outputs": [],
   "metadata": {}
  },
  {
   "cell_type": "code",
   "execution_count": 33,
   "source": [
    "our_pairs"
   ],
   "outputs": [
    {
     "output_type": "execute_result",
     "data": {
      "text/plain": [
       "['CHF_JPY',\n",
       " 'NZD_CHF',\n",
       " 'NZD_JPY',\n",
       " 'EUR_USD',\n",
       " 'EUR_CAD',\n",
       " 'EUR_NZD',\n",
       " 'CAD_CHF',\n",
       " 'CAD_JPY',\n",
       " 'USD_JPY']"
      ]
     },
     "metadata": {},
     "execution_count": 33
    }
   ],
   "metadata": {}
  },
  {
   "cell_type": "markdown",
   "source": [
    "### 查看這九種貨幣對的詳細交易資訊"
   ],
   "metadata": {}
  },
  {
   "cell_type": "code",
   "execution_count": 34,
   "source": [
    "all_trades.head()"
   ],
   "outputs": [
    {
     "output_type": "execute_result",
     "data": {
      "text/html": [
       "<div>\n",
       "<style scoped>\n",
       "    .dataframe tbody tr th:only-of-type {\n",
       "        vertical-align: middle;\n",
       "    }\n",
       "\n",
       "    .dataframe tbody tr th {\n",
       "        vertical-align: top;\n",
       "    }\n",
       "\n",
       "    .dataframe thead th {\n",
       "        text-align: right;\n",
       "    }\n",
       "</style>\n",
       "<table border=\"1\" class=\"dataframe\">\n",
       "  <thead>\n",
       "    <tr style=\"text-align: right;\">\n",
       "      <th></th>\n",
       "      <th>time</th>\n",
       "      <th>mid_c</th>\n",
       "      <th>DIFF</th>\n",
       "      <th>DIFF_PREV</th>\n",
       "      <th>IS_TRADE</th>\n",
       "      <th>DELTA</th>\n",
       "      <th>GAIN</th>\n",
       "      <th>PAIR</th>\n",
       "      <th>MASHORT</th>\n",
       "      <th>MALONG</th>\n",
       "      <th>DURATION</th>\n",
       "    </tr>\n",
       "  </thead>\n",
       "  <tbody>\n",
       "    <tr>\n",
       "      <th>18</th>\n",
       "      <td>2021-01-19 09:00:00+00:00</td>\n",
       "      <td>1.36076</td>\n",
       "      <td>-0.000011</td>\n",
       "      <td>0.000073</td>\n",
       "      <td>-1</td>\n",
       "      <td>8.9</td>\n",
       "      <td>-8.9</td>\n",
       "      <td>GBP_USD</td>\n",
       "      <td>4</td>\n",
       "      <td>8</td>\n",
       "      <td>1.0</td>\n",
       "    </tr>\n",
       "    <tr>\n",
       "      <th>19</th>\n",
       "      <td>2021-01-19 10:00:00+00:00</td>\n",
       "      <td>1.36165</td>\n",
       "      <td>0.000044</td>\n",
       "      <td>-0.000011</td>\n",
       "      <td>1</td>\n",
       "      <td>20.7</td>\n",
       "      <td>20.7</td>\n",
       "      <td>GBP_USD</td>\n",
       "      <td>4</td>\n",
       "      <td>8</td>\n",
       "      <td>28.0</td>\n",
       "    </tr>\n",
       "    <tr>\n",
       "      <th>47</th>\n",
       "      <td>2021-01-20 14:00:00+00:00</td>\n",
       "      <td>1.36372</td>\n",
       "      <td>-0.001062</td>\n",
       "      <td>0.000375</td>\n",
       "      <td>-1</td>\n",
       "      <td>18.0</td>\n",
       "      <td>-18.0</td>\n",
       "      <td>GBP_USD</td>\n",
       "      <td>4</td>\n",
       "      <td>8</td>\n",
       "      <td>7.0</td>\n",
       "    </tr>\n",
       "    <tr>\n",
       "      <th>54</th>\n",
       "      <td>2021-01-20 21:00:00+00:00</td>\n",
       "      <td>1.36552</td>\n",
       "      <td>0.000424</td>\n",
       "      <td>-0.000119</td>\n",
       "      <td>1</td>\n",
       "      <td>71.8</td>\n",
       "      <td>71.8</td>\n",
       "      <td>GBP_USD</td>\n",
       "      <td>4</td>\n",
       "      <td>8</td>\n",
       "      <td>17.0</td>\n",
       "    </tr>\n",
       "    <tr>\n",
       "      <th>71</th>\n",
       "      <td>2021-01-21 14:00:00+00:00</td>\n",
       "      <td>1.37270</td>\n",
       "      <td>-0.000293</td>\n",
       "      <td>0.000066</td>\n",
       "      <td>-1</td>\n",
       "      <td>-16.6</td>\n",
       "      <td>16.6</td>\n",
       "      <td>GBP_USD</td>\n",
       "      <td>4</td>\n",
       "      <td>8</td>\n",
       "      <td>3.0</td>\n",
       "    </tr>\n",
       "  </tbody>\n",
       "</table>\n",
       "</div>"
      ],
      "text/plain": [
       "                        time    mid_c      DIFF  DIFF_PREV  IS_TRADE  DELTA  \\\n",
       "18 2021-01-19 09:00:00+00:00  1.36076 -0.000011   0.000073        -1    8.9   \n",
       "19 2021-01-19 10:00:00+00:00  1.36165  0.000044  -0.000011         1   20.7   \n",
       "47 2021-01-20 14:00:00+00:00  1.36372 -0.001062   0.000375        -1   18.0   \n",
       "54 2021-01-20 21:00:00+00:00  1.36552  0.000424  -0.000119         1   71.8   \n",
       "71 2021-01-21 14:00:00+00:00  1.37270 -0.000293   0.000066        -1  -16.6   \n",
       "\n",
       "    GAIN     PAIR  MASHORT  MALONG  DURATION  \n",
       "18  -8.9  GBP_USD        4       8       1.0  \n",
       "19  20.7  GBP_USD        4       8      28.0  \n",
       "47 -18.0  GBP_USD        4       8       7.0  \n",
       "54  71.8  GBP_USD        4       8      17.0  \n",
       "71  16.6  GBP_USD        4       8       3.0  "
      ]
     },
     "metadata": {},
     "execution_count": 34
    }
   ],
   "metadata": {}
  },
  {
   "cell_type": "code",
   "execution_count": 35,
   "source": [
    "# 發現少放 MA_?_?\r\n",
    "all_trades[\"CROSS\"] = \"MA_\" + all_trades['MASHORT'].map(str) + \"_\" + all_trades['MALONG'].map(str)"
   ],
   "outputs": [],
   "metadata": {}
  },
  {
   "cell_type": "markdown",
   "source": [
    "#### 先觀察單一貨幣對 (以 CHFJPY 與 (8, 16)為例)"
   ],
   "metadata": {}
  },
  {
   "cell_type": "code",
   "execution_count": 36,
   "source": [
    "trades_chf_jpy = all_trades[ (all_trades['PAIR']=='CHF_JPY') & (all_trades['CROSS']=='MA_8_16') ].copy()"
   ],
   "outputs": [],
   "metadata": {}
  },
  {
   "cell_type": "code",
   "execution_count": 37,
   "source": [
    "# 計算累積損益\r\n",
    "trades_chf_jpy['CUM_GAIN'] = trades_chf_jpy['GAIN'].cumsum()"
   ],
   "outputs": [],
   "metadata": {}
  },
  {
   "cell_type": "code",
   "execution_count": 46,
   "source": [
    "trades_chf_jpy.head(5)"
   ],
   "outputs": [
    {
     "output_type": "execute_result",
     "data": {
      "text/html": [
       "<div>\n",
       "<style scoped>\n",
       "    .dataframe tbody tr th:only-of-type {\n",
       "        vertical-align: middle;\n",
       "    }\n",
       "\n",
       "    .dataframe tbody tr th {\n",
       "        vertical-align: top;\n",
       "    }\n",
       "\n",
       "    .dataframe thead th {\n",
       "        text-align: right;\n",
       "    }\n",
       "</style>\n",
       "<table border=\"1\" class=\"dataframe\">\n",
       "  <thead>\n",
       "    <tr style=\"text-align: right;\">\n",
       "      <th></th>\n",
       "      <th>time</th>\n",
       "      <th>mid_c</th>\n",
       "      <th>DIFF</th>\n",
       "      <th>DIFF_PREV</th>\n",
       "      <th>IS_TRADE</th>\n",
       "      <th>DELTA</th>\n",
       "      <th>GAIN</th>\n",
       "      <th>PAIR</th>\n",
       "      <th>MASHORT</th>\n",
       "      <th>MALONG</th>\n",
       "      <th>DURATION</th>\n",
       "      <th>CROSS</th>\n",
       "      <th>CUM_GAIN</th>\n",
       "    </tr>\n",
       "  </thead>\n",
       "  <tbody>\n",
       "    <tr>\n",
       "      <th>28</th>\n",
       "      <td>2021-01-19 20:00:00+00:00</td>\n",
       "      <td>116.906</td>\n",
       "      <td>-0.018437</td>\n",
       "      <td>0.016062</td>\n",
       "      <td>-1</td>\n",
       "      <td>-8.0</td>\n",
       "      <td>8.0</td>\n",
       "      <td>CHF_JPY</td>\n",
       "      <td>8</td>\n",
       "      <td>16</td>\n",
       "      <td>10.0</td>\n",
       "      <td>MA_8_16</td>\n",
       "      <td>8.0</td>\n",
       "    </tr>\n",
       "    <tr>\n",
       "      <th>38</th>\n",
       "      <td>2021-01-20 06:00:00+00:00</td>\n",
       "      <td>116.826</td>\n",
       "      <td>0.000563</td>\n",
       "      <td>-0.002125</td>\n",
       "      <td>1</td>\n",
       "      <td>8.2</td>\n",
       "      <td>8.2</td>\n",
       "      <td>CHF_JPY</td>\n",
       "      <td>8</td>\n",
       "      <td>16</td>\n",
       "      <td>1.0</td>\n",
       "      <td>MA_8_16</td>\n",
       "      <td>16.2</td>\n",
       "    </tr>\n",
       "    <tr>\n",
       "      <th>39</th>\n",
       "      <td>2021-01-20 07:00:00+00:00</td>\n",
       "      <td>116.908</td>\n",
       "      <td>-0.006187</td>\n",
       "      <td>0.000563</td>\n",
       "      <td>-1</td>\n",
       "      <td>-45.4</td>\n",
       "      <td>45.4</td>\n",
       "      <td>CHF_JPY</td>\n",
       "      <td>8</td>\n",
       "      <td>16</td>\n",
       "      <td>20.0</td>\n",
       "      <td>MA_8_16</td>\n",
       "      <td>61.6</td>\n",
       "    </tr>\n",
       "    <tr>\n",
       "      <th>59</th>\n",
       "      <td>2021-01-21 03:00:00+00:00</td>\n",
       "      <td>116.454</td>\n",
       "      <td>0.014188</td>\n",
       "      <td>-0.012687</td>\n",
       "      <td>1</td>\n",
       "      <td>76.0</td>\n",
       "      <td>76.0</td>\n",
       "      <td>CHF_JPY</td>\n",
       "      <td>8</td>\n",
       "      <td>16</td>\n",
       "      <td>97.0</td>\n",
       "      <td>MA_8_16</td>\n",
       "      <td>137.6</td>\n",
       "    </tr>\n",
       "    <tr>\n",
       "      <th>108</th>\n",
       "      <td>2021-01-25 04:00:00+00:00</td>\n",
       "      <td>117.214</td>\n",
       "      <td>-0.003000</td>\n",
       "      <td>0.007937</td>\n",
       "      <td>-1</td>\n",
       "      <td>-1.4</td>\n",
       "      <td>1.4</td>\n",
       "      <td>CHF_JPY</td>\n",
       "      <td>8</td>\n",
       "      <td>16</td>\n",
       "      <td>1.0</td>\n",
       "      <td>MA_8_16</td>\n",
       "      <td>139.0</td>\n",
       "    </tr>\n",
       "  </tbody>\n",
       "</table>\n",
       "</div>"
      ],
      "text/plain": [
       "                         time    mid_c      DIFF  DIFF_PREV  IS_TRADE  DELTA  \\\n",
       "28  2021-01-19 20:00:00+00:00  116.906 -0.018437   0.016062        -1   -8.0   \n",
       "38  2021-01-20 06:00:00+00:00  116.826  0.000563  -0.002125         1    8.2   \n",
       "39  2021-01-20 07:00:00+00:00  116.908 -0.006187   0.000563        -1  -45.4   \n",
       "59  2021-01-21 03:00:00+00:00  116.454  0.014188  -0.012687         1   76.0   \n",
       "108 2021-01-25 04:00:00+00:00  117.214 -0.003000   0.007937        -1   -1.4   \n",
       "\n",
       "     GAIN     PAIR  MASHORT  MALONG  DURATION    CROSS  CUM_GAIN  \n",
       "28    8.0  CHF_JPY        8      16      10.0  MA_8_16       8.0  \n",
       "38    8.2  CHF_JPY        8      16       1.0  MA_8_16      16.2  \n",
       "39   45.4  CHF_JPY        8      16      20.0  MA_8_16      61.6  \n",
       "59   76.0  CHF_JPY        8      16      97.0  MA_8_16     137.6  \n",
       "108   1.4  CHF_JPY        8      16       1.0  MA_8_16     139.0  "
      ]
     },
     "metadata": {},
     "execution_count": 46
    }
   ],
   "metadata": {}
  },
  {
   "cell_type": "markdown",
   "source": [
    "#### 畫出累積損益"
   ],
   "metadata": {}
  },
  {
   "cell_type": "code",
   "execution_count": 43,
   "source": [
    "# 樣式取自 plot_candle.ipynb\r\n",
    "def plot_line(df_plot, name):\r\n",
    "    fig = go.Figure() \r\n",
    "\r\n",
    "\r\n",
    "    # 主圖:\r\n",
    "    fig.add_trace(go.Scatter(\r\n",
    "        x=df_plot.time, \r\n",
    "        y=df_plot['CUM_GAIN'],\r\n",
    "        line=dict(color=\"#3d825f\", width=2),\r\n",
    "        line_shape='spline', \r\n",
    "        name='CHF_JPY_GAIN',\r\n",
    "        mode='lines'\r\n",
    "        ))\r\n",
    "\r\n",
    "    # styling\r\n",
    "    fig.update_layout(width=1000, height=400, \r\n",
    "        margin=dict(l=15, r=15, b=10), # 讓線圖更明顯\r\n",
    "        font=dict(size=10, color='#e1e1e1'), # 將 x 軸資料轉為白色\r\n",
    "        paper_bgcolor='#1e1e1e', # 將背景改為黑色\r\n",
    "        plot_bgcolor='#1e1e1e', \r\n",
    "        title=name) #### 注意這裡!!! #### \r\n",
    "\r\n",
    "    fig.update_xaxes( # 更新 x 軸資料\r\n",
    "        linewidth=1,\r\n",
    "        linecolor='#3a4a54',\r\n",
    "        showgrid=False, \r\n",
    "        zeroline=False\r\n",
    "    )\r\n",
    "\r\n",
    "    fig.update_yaxes( # 更新 y 軸資料\r\n",
    "        linewidth=1,\r\n",
    "        linecolor='#3a4a54', \r\n",
    "        showgrid=False,\r\n",
    "        zeroline=False\r\n",
    "    )\r\n",
    "\r\n",
    "\r\n",
    "    fig.show() # 中間空白處是例假日"
   ],
   "outputs": [],
   "metadata": {}
  },
  {
   "cell_type": "code",
   "execution_count": 48,
   "source": [
    "plot_line(trades_chf_jpy, 'CHF JPY Cum gain')"
   ],
   "outputs": [
    {
     "output_type": "display_data",
     "data": {
      "application/vnd.plotly.v1+json": {
       "config": {
        "plotlyServerURL": "https://plot.ly"
       },
       "data": [
        {
         "line": {
          "color": "#3d825f",
          "shape": "spline",
          "width": 2
         },
         "mode": "lines",
         "name": "CHF_JPY_GAIN",
         "type": "scatter",
         "x": [
          "2021-01-19T20:00:00+00:00",
          "2021-01-20T06:00:00+00:00",
          "2021-01-20T07:00:00+00:00",
          "2021-01-21T03:00:00+00:00",
          "2021-01-25T04:00:00+00:00",
          "2021-01-25T05:00:00+00:00",
          "2021-01-25T06:00:00+00:00",
          "2021-01-26T15:00:00+00:00",
          "2021-01-27T12:00:00+00:00",
          "2021-01-27T17:00:00+00:00",
          "2021-01-28T13:00:00+00:00",
          "2021-01-28T16:00:00+00:00",
          "2021-01-29T20:00:00+00:00",
          "2021-02-02T06:00:00+00:00",
          "2021-02-02T13:00:00+00:00",
          "2021-02-03T01:00:00+00:00",
          "2021-02-03T09:00:00+00:00",
          "2021-02-04T01:00:00+00:00",
          "2021-02-04T08:00:00+00:00",
          "2021-02-04T21:00:00+00:00",
          "2021-02-05T07:00:00+00:00",
          "2021-02-05T08:00:00+00:00",
          "2021-02-08T13:00:00+00:00",
          "2021-02-09T13:00:00+00:00",
          "2021-02-11T00:00:00+00:00",
          "2021-02-11T09:00:00+00:00",
          "2021-02-12T13:00:00+00:00",
          "2021-02-12T21:00:00+00:00",
          "2021-02-16T14:00:00+00:00",
          "2021-02-16T19:00:00+00:00",
          "2021-02-17T06:00:00+00:00",
          "2021-02-18T09:00:00+00:00",
          "2021-02-19T05:00:00+00:00",
          "2021-02-19T16:00:00+00:00",
          "2021-02-19T17:00:00+00:00",
          "2021-02-23T06:00:00+00:00",
          "2021-02-23T09:00:00+00:00",
          "2021-02-24T07:00:00+00:00",
          "2021-02-26T03:00:00+00:00",
          "2021-02-26T10:00:00+00:00",
          "2021-02-26T19:00:00+00:00",
          "2021-03-01T06:00:00+00:00",
          "2021-03-01T09:00:00+00:00",
          "2021-03-02T17:00:00+00:00",
          "2021-03-03T12:00:00+00:00",
          "2021-03-04T06:00:00+00:00",
          "2021-03-04T11:00:00+00:00",
          "2021-03-05T04:00:00+00:00",
          "2021-03-05T19:00:00+00:00",
          "2021-03-08T04:00:00+00:00",
          "2021-03-08T07:00:00+00:00",
          "2021-03-08T16:00:00+00:00",
          "2021-03-10T12:00:00+00:00",
          "2021-03-11T04:00:00+00:00",
          "2021-03-12T09:00:00+00:00",
          "2021-03-12T19:00:00+00:00",
          "2021-03-15T13:00:00+00:00",
          "2021-03-15T15:00:00+00:00",
          "2021-03-16T14:00:00+00:00",
          "2021-03-16T21:00:00+00:00",
          "2021-03-17T08:00:00+00:00",
          "2021-03-17T20:00:00+00:00",
          "2021-03-18T08:00:00+00:00",
          "2021-03-19T03:00:00+00:00",
          "2021-03-19T08:00:00+00:00",
          "2021-03-21T23:00:00+00:00",
          "2021-03-22T01:00:00+00:00",
          "2021-03-22T11:00:00+00:00",
          "2021-03-23T05:00:00+00:00",
          "2021-03-24T14:00:00+00:00",
          "2021-03-24T23:00:00+00:00",
          "2021-03-25T00:00:00+00:00",
          "2021-03-25T01:00:00+00:00",
          "2021-03-25T02:00:00+00:00",
          "2021-03-25T17:00:00+00:00",
          "2021-03-26T05:00:00+00:00",
          "2021-03-29T04:00:00+00:00",
          "2021-03-29T12:00:00+00:00",
          "2021-03-30T19:00:00+00:00",
          "2021-03-30T22:00:00+00:00",
          "2021-03-31T15:00:00+00:00",
          "2021-04-01T15:00:00+00:00",
          "2021-04-02T05:00:00+00:00",
          "2021-04-02T14:00:00+00:00",
          "2021-04-05T00:00:00+00:00",
          "2021-04-05T14:00:00+00:00",
          "2021-04-06T06:00:00+00:00",
          "2021-04-06T13:00:00+00:00",
          "2021-04-07T21:00:00+00:00",
          "2021-04-08T18:00:00+00:00",
          "2021-04-09T06:00:00+00:00",
          "2021-04-09T08:00:00+00:00",
          "2021-04-12T03:00:00+00:00",
          "2021-04-12T14:00:00+00:00",
          "2021-04-13T07:00:00+00:00",
          "2021-04-13T18:00:00+00:00",
          "2021-04-14T01:00:00+00:00",
          "2021-04-14T09:00:00+00:00",
          "2021-04-14T10:00:00+00:00",
          "2021-04-15T20:00:00+00:00",
          "2021-04-16T20:00:00+00:00",
          "2021-04-19T11:00:00+00:00",
          "2021-04-19T20:00:00+00:00",
          "2021-04-20T02:00:00+00:00",
          "2021-04-20T16:00:00+00:00",
          "2021-04-21T20:00:00+00:00",
          "2021-04-22T05:00:00+00:00",
          "2021-04-22T06:00:00+00:00",
          "2021-04-22T17:00:00+00:00",
          "2021-04-23T08:00:00+00:00",
          "2021-04-26T05:00:00+00:00",
          "2021-04-26T16:00:00+00:00",
          "2021-04-27T06:00:00+00:00",
          "2021-04-27T10:00:00+00:00",
          "2021-04-28T07:00:00+00:00",
          "2021-04-28T13:00:00+00:00",
          "2021-04-30T04:00:00+00:00",
          "2021-04-30T05:00:00+00:00",
          "2021-04-30T06:00:00+00:00",
          "2021-04-30T16:00:00+00:00",
          "2021-04-30T17:00:00+00:00",
          "2021-05-03T01:00:00+00:00",
          "2021-05-03T15:00:00+00:00",
          "2021-05-04T13:00:00+00:00",
          "2021-05-05T08:00:00+00:00",
          "2021-05-05T16:00:00+00:00",
          "2021-05-06T00:00:00+00:00",
          "2021-05-06T04:00:00+00:00",
          "2021-05-07T12:00:00+00:00",
          "2021-05-07T15:00:00+00:00",
          "2021-05-10T20:00:00+00:00",
          "2021-05-11T04:00:00+00:00",
          "2021-05-11T08:00:00+00:00",
          "2021-05-12T07:00:00+00:00",
          "2021-05-12T08:00:00+00:00",
          "2021-05-12T12:00:00+00:00",
          "2021-05-17T06:00:00+00:00",
          "2021-05-18T06:00:00+00:00",
          "2021-05-18T21:00:00+00:00",
          "2021-05-19T05:00:00+00:00",
          "2021-05-19T08:00:00+00:00",
          "2021-05-20T03:00:00+00:00",
          "2021-05-20T04:00:00+00:00",
          "2021-05-20T10:00:00+00:00",
          "2021-05-21T10:00:00+00:00",
          "2021-05-21T19:00:00+00:00",
          "2021-05-24T06:00:00+00:00",
          "2021-05-24T14:00:00+00:00",
          "2021-05-24T22:00:00+00:00",
          "2021-05-25T04:00:00+00:00",
          "2021-05-25T19:00:00+00:00",
          "2021-05-26T03:00:00+00:00",
          "2021-05-26T17:00:00+00:00",
          "2021-05-27T02:00:00+00:00",
          "2021-05-27T03:00:00+00:00",
          "2021-05-27T05:00:00+00:00",
          "2021-05-27T09:00:00+00:00",
          "2021-05-27T10:00:00+00:00",
          "2021-05-27T12:00:00+00:00",
          "2021-05-27T14:00:00+00:00",
          "2021-05-28T06:00:00+00:00",
          "2021-05-31T22:00:00+00:00",
          "2021-06-01T05:00:00+00:00",
          "2021-06-01T11:00:00+00:00",
          "2021-06-02T02:00:00+00:00",
          "2021-06-02T03:00:00+00:00",
          "2021-06-02T11:00:00+00:00",
          "2021-06-02T20:00:00+00:00",
          "2021-06-03T10:00:00+00:00",
          "2021-06-03T22:00:00+00:00",
          "2021-06-04T05:00:00+00:00",
          "2021-06-04T19:00:00+00:00",
          "2021-06-04T20:00:00+00:00",
          "2021-06-07T00:00:00+00:00",
          "2021-06-07T07:00:00+00:00",
          "2021-06-07T18:00:00+00:00",
          "2021-06-08T23:00:00+00:00",
          "2021-06-09T08:00:00+00:00",
          "2021-06-10T03:00:00+00:00",
          "2021-06-10T15:00:00+00:00",
          "2021-06-10T22:00:00+00:00",
          "2021-06-11T04:00:00+00:00",
          "2021-06-11T11:00:00+00:00",
          "2021-06-14T01:00:00+00:00",
          "2021-06-14T08:00:00+00:00",
          "2021-06-14T15:00:00+00:00",
          "2021-06-15T16:00:00+00:00",
          "2021-06-15T20:00:00+00:00",
          "2021-06-16T04:00:00+00:00",
          "2021-06-21T12:00:00+00:00",
          "2021-06-22T05:00:00+00:00",
          "2021-06-22T13:00:00+00:00",
          "2021-06-23T23:00:00+00:00",
          "2021-06-24T18:00:00+00:00",
          "2021-06-25T09:00:00+00:00",
          "2021-06-25T19:00:00+00:00",
          "2021-06-28T01:00:00+00:00",
          "2021-06-30T02:00:00+00:00",
          "2021-06-30T03:00:00+00:00",
          "2021-06-30T17:00:00+00:00",
          "2021-07-01T05:00:00+00:00",
          "2021-07-01T08:00:00+00:00",
          "2021-07-02T00:00:00+00:00",
          "2021-07-02T16:00:00+00:00",
          "2021-07-05T02:00:00+00:00",
          "2021-07-06T05:00:00+00:00",
          "2021-07-06T08:00:00+00:00",
          "2021-07-07T07:00:00+00:00",
          "2021-07-07T16:00:00+00:00",
          "2021-07-08T10:00:00+00:00",
          "2021-07-12T06:00:00+00:00",
          "2021-07-12T17:00:00+00:00",
          "2021-07-13T09:00:00+00:00",
          "2021-07-13T21:00:00+00:00",
          "2021-07-14T04:00:00+00:00",
          "2021-07-14T21:00:00+00:00",
          "2021-07-15T02:00:00+00:00",
          "2021-07-16T06:00:00+00:00",
          "2021-07-16T20:00:00+00:00",
          "2021-07-19T21:00:00+00:00",
          "2021-07-20T06:00:00+00:00",
          "2021-07-20T07:00:00+00:00",
          "2021-07-20T10:00:00+00:00",
          "2021-07-20T21:00:00+00:00",
          "2021-07-22T04:00:00+00:00",
          "2021-07-22T13:00:00+00:00",
          "2021-07-22T15:00:00+00:00",
          "2021-07-23T05:00:00+00:00",
          "2021-07-26T05:00:00+00:00",
          "2021-07-26T13:00:00+00:00",
          "2021-07-27T04:00:00+00:00",
          "2021-07-28T04:00:00+00:00",
          "2021-07-29T21:00:00+00:00",
          "2021-07-30T09:00:00+00:00",
          "2021-08-02T01:00:00+00:00",
          "2021-08-02T09:00:00+00:00",
          "2021-08-02T10:00:00+00:00",
          "2021-08-03T11:00:00+00:00",
          "2021-08-03T18:00:00+00:00",
          "2021-08-04T03:00:00+00:00",
          "2021-08-04T12:00:00+00:00",
          "2021-08-04T16:00:00+00:00",
          "2021-08-06T04:00:00+00:00",
          "2021-08-10T06:00:00+00:00",
          "2021-08-10T12:00:00+00:00",
          "2021-08-11T00:00:00+00:00",
          "2021-08-11T14:00:00+00:00",
          "2021-08-12T10:00:00+00:00",
          "2021-08-12T12:00:00+00:00",
          "2021-08-13T03:00:00+00:00",
          "2021-08-13T07:00:00+00:00",
          "2021-08-13T13:00:00+00:00",
          "2021-08-16T00:00:00+00:00",
          "2021-08-16T13:00:00+00:00",
          "2021-08-17T03:00:00+00:00",
          "2021-08-17T08:00:00+00:00",
          "2021-08-17T19:00:00+00:00",
          "2021-08-18T05:00:00+00:00",
          "2021-08-18T16:00:00+00:00",
          "2021-08-20T04:00:00+00:00",
          "2021-08-20T13:00:00+00:00",
          "2021-08-20T18:00:00+00:00",
          "2021-08-24T13:00:00+00:00",
          "2021-08-25T11:00:00+00:00",
          "2021-08-26T03:00:00+00:00",
          "2021-08-27T04:00:00+00:00",
          "2021-08-30T06:00:00+00:00",
          "2021-08-31T04:00:00+00:00",
          "2021-08-31T19:00:00+00:00",
          "2021-09-01T00:00:00+00:00",
          "2021-09-01T06:00:00+00:00",
          "2021-09-01T11:00:00+00:00",
          "2021-09-01T20:00:00+00:00",
          "2021-09-02T17:00:00+00:00",
          "2021-09-03T12:00:00+00:00",
          "2021-09-06T03:00:00+00:00",
          "2021-09-06T06:00:00+00:00",
          "2021-09-06T20:00:00+00:00",
          "2021-09-07T16:00:00+00:00"
         ],
         "y": [
          8.00000000000125,
          16.200000000002035,
          61.60000000000281,
          137.60000000000332,
          139.0000000000029,
          130.10000000000304,
          159.40000000000367,
          161.0000000000042,
          125.60000000000429,
          136.0000000000042,
          127.60000000000389,
          149.00000000000375,
          200.2000000000038,
          193.400000000004,
          197.00000000000415,
          189.60000000000434,
          194.200000000005,
          172.00000000000557,
          161.60000000000565,
          160.4000000000056,
          155.50000000000637,
          191.30000000000678,
          194.2000000000064,
          227.80000000000626,
          212.40000000000663,
          210.20000000000607,
          202.6000000000053,
          289.2000000000053,
          266.2000000000049,
          248.70000000000374,
          316.700000000003,
          308.6000000000027,
          289.40000000000197,
          255.40000000000163,
          290.000000000002,
          261.70000000000186,
          310.70000000000135,
          372.60000000000133,
          337.80000000000143,
          316.0000000000011,
          313.2000000000005,
          288.5000000000005,
          319.0000000000012,
          293.80000000000166,
          290.600000000002,
          250.4000000000019,
          234.40000000000083,
          242.6000000000002,
          248.0000000000004,
          249.0000000000009,
          240.80000000000155,
          281.40000000000214,
          288.4000000000029,
          331.6000000000031,
          318.7000000000026,
          336.0000000000028,
          330.6000000000026,
          338.6000000000024,
          321.5000000000032,
          315.1000000000039,
          291.90000000000396,
          309.50000000000415,
          381.200000000004,
          357.40000000000407,
          369.200000000005,
          371.00000000000506,
          327.0000000000053,
          337.5000000000057,
          466.60000000000537,
          455.6000000000054,
          441.40000000000583,
          441.60000000000537,
          434.7000000000051,
          410.60000000000514,
          405.80000000000496,
          436.20000000000516,
          419.00000000000546,
          457.800000000006,
          454.1000000000068,
          481.60000000000736,
          470.10000000000787,
          456.6000000000088,
          459.00000000000887,
          460.2000000000089,
          445.4000000000093,
          447.1000000000089,
          445.20000000000834,
          506.8000000000083,
          499.90000000000805,
          499.80000000000757,
          482.60000000000787,
          469.1000000000088,
          437.000000000009,
          400.100000000009,
          375.8000000000095,
          355.8000000000092,
          357.5000000000088,
          338.6000000000081,
          356.4000000000078,
          392.10000000000775,
          387.2000000000071,
          382.2000000000074,
          378.60000000000724,
          352.50000000000625,
          372.70000000000607,
          376.0000000000062,
          370.40000000000646,
          351.0000000000062,
          335.1000000000056,
          357.20000000000596,
          341.3000000000068,
          327.8000000000077,
          286.800000000008,
          333.6000000000084,
          326.8000000000086,
          389.40000000000765,
          384.1000000000065,
          382.4000000000055,
          383.20000000000505,
          377.6000000000053,
          364.00000000000574,
          348.2000000000056,
          354.80000000000587,
          340.30000000000626,
          321.0000000000065,
          316.6000000000068,
          307.2000000000074,
          353.8000000000082,
          324.60000000000804,
          355.00000000000824,
          346.8000000000089,
          329.40000000000964,
          365.60000000001054,
          359.3000000000103,
          335.6000000000094,
          398.8000000000085,
          389.2000000000081,
          405.1000000000087,
          397.20000000000937,
          367.0000000000101,
          405.80000000001064,
          408.40000000001027,
          390.0000000000105,
          411.0000000000113,
          394.30000000001115,
          374.6000000000109,
          357.80000000001024,
          359.10000000000935,
          360.40000000000845,
          374.20000000000755,
          355.8000000000078,
          343.9000000000078,
          340.2000000000072,
          340.80000000000723,
          333.00000000000693,
          317.70000000000636,
          309.8000000000056,
          305.0000000000054,
          237.4000000000052,
          245.8000000000041,
          282.0000000000036,
          265.20000000000294,
          239.80000000000246,
          259.0000000000032,
          258.0000000000041,
          218.5000000000045,
          196.5000000000046,
          192.60000000000446,
          184.50000000000415,
          164.00000000000432,
          165.1000000000053,
          161.70000000000613,
          157.80000000000598,
          142.00000000000585,
          131.80000000000547,
          157.20000000000454,
          146.2000000000046,
          159.20000000000556,
          156.60000000000593,
          149.6000000000052,
          133.3000000000041,
          105.80000000000354,
          108.40000000000316,
          94.20000000000215,
          59.200000000001296,
          78.80000000000109,
          77.80000000000058,
          73.30000000000041,
          363.00000000000097,
          404.0000000000006,
          372.2999999999999,
          431.19999999999976,
          448.90000000000043,
          459.60000000000036,
          460.0999999999999,
          427.89999999999964,
          479.9999999999997,
          475.20000000000095,
          466.40000000000157,
          466.20000000000203,
          445.60000000000315,
          481.00000000000307,
          483.0000000000027,
          470.7000000000036,
          474.30000000000376,
          432.6000000000036,
          445.4000000000036,
          417.4000000000035,
          402.8000000000034,
          471.8000000000032,
          461.80000000000376,
          446.8000000000046,
          435.20000000000465,
          420.2000000000041,
          430.10000000000446,
          413.60000000000525,
          446.200000000006,
          445.10000000000645,
          488.1000000000057,
          484.0000000000046,
          473.8000000000042,
          441.2000000000049,
          421.80000000000604,
          506.60000000000593,
          493.00000000000495,
          445.00000000000455,
          436.90000000000424,
          465.4000000000039,
          443.8000000000031,
          445.7000000000022,
          481.00000000000165,
          568.2000000000016,
          546.7000000000013,
          546.5000000000003,
          543.5000000000002,
          539.9000000000001,
          552.4000000000001,
          527.2000000000005,
          525.200000000001,
          507.4000000000012,
          474.8000000000019,
          486.80000000000234,
          587.2000000000028,
          559.9000000000032,
          540.7000000000024,
          541.6000000000024,
          554.7000000000024,
          555.0000000000025,
          571.7000000000027,
          560.6000000000022,
          528.9000000000015,
          510.9000000000008,
          505.000000000001,
          503.4000000000019,
          467.0000000000029,
          445.4000000000035,
          437.20000000000414,
          427.40000000000424,
          432.50000000000443,
          431.20000000000533,
          437.7000000000051,
          483.900000000004,
          480.1000000000029,
          484.00000000000165,
          507.60000000000065,
          550.2000000000008,
          584.1000000000007,
          593.0000000000006,
          584.8000000000012,
          564.8000000000009,
          535.7000000000012,
          521.000000000002,
          515.4000000000024,
          514.0000000000027,
          530.5000000000034,
          524.8000000000031,
          519.200000000002,
          511.10000000000167,
          507.600000000002
         ]
        }
       ],
       "layout": {
        "font": {
         "color": "#e1e1e1",
         "size": 10
        },
        "height": 400,
        "margin": {
         "b": 10,
         "l": 15,
         "r": 15
        },
        "paper_bgcolor": "#1e1e1e",
        "plot_bgcolor": "#1e1e1e",
        "template": {
         "data": {
          "bar": [
           {
            "error_x": {
             "color": "#2a3f5f"
            },
            "error_y": {
             "color": "#2a3f5f"
            },
            "marker": {
             "line": {
              "color": "#E5ECF6",
              "width": 0.5
             },
             "pattern": {
              "fillmode": "overlay",
              "size": 10,
              "solidity": 0.2
             }
            },
            "type": "bar"
           }
          ],
          "barpolar": [
           {
            "marker": {
             "line": {
              "color": "#E5ECF6",
              "width": 0.5
             },
             "pattern": {
              "fillmode": "overlay",
              "size": 10,
              "solidity": 0.2
             }
            },
            "type": "barpolar"
           }
          ],
          "carpet": [
           {
            "aaxis": {
             "endlinecolor": "#2a3f5f",
             "gridcolor": "white",
             "linecolor": "white",
             "minorgridcolor": "white",
             "startlinecolor": "#2a3f5f"
            },
            "baxis": {
             "endlinecolor": "#2a3f5f",
             "gridcolor": "white",
             "linecolor": "white",
             "minorgridcolor": "white",
             "startlinecolor": "#2a3f5f"
            },
            "type": "carpet"
           }
          ],
          "choropleth": [
           {
            "colorbar": {
             "outlinewidth": 0,
             "ticks": ""
            },
            "type": "choropleth"
           }
          ],
          "contour": [
           {
            "colorbar": {
             "outlinewidth": 0,
             "ticks": ""
            },
            "colorscale": [
             [
              0,
              "#0d0887"
             ],
             [
              0.1111111111111111,
              "#46039f"
             ],
             [
              0.2222222222222222,
              "#7201a8"
             ],
             [
              0.3333333333333333,
              "#9c179e"
             ],
             [
              0.4444444444444444,
              "#bd3786"
             ],
             [
              0.5555555555555556,
              "#d8576b"
             ],
             [
              0.6666666666666666,
              "#ed7953"
             ],
             [
              0.7777777777777778,
              "#fb9f3a"
             ],
             [
              0.8888888888888888,
              "#fdca26"
             ],
             [
              1,
              "#f0f921"
             ]
            ],
            "type": "contour"
           }
          ],
          "contourcarpet": [
           {
            "colorbar": {
             "outlinewidth": 0,
             "ticks": ""
            },
            "type": "contourcarpet"
           }
          ],
          "heatmap": [
           {
            "colorbar": {
             "outlinewidth": 0,
             "ticks": ""
            },
            "colorscale": [
             [
              0,
              "#0d0887"
             ],
             [
              0.1111111111111111,
              "#46039f"
             ],
             [
              0.2222222222222222,
              "#7201a8"
             ],
             [
              0.3333333333333333,
              "#9c179e"
             ],
             [
              0.4444444444444444,
              "#bd3786"
             ],
             [
              0.5555555555555556,
              "#d8576b"
             ],
             [
              0.6666666666666666,
              "#ed7953"
             ],
             [
              0.7777777777777778,
              "#fb9f3a"
             ],
             [
              0.8888888888888888,
              "#fdca26"
             ],
             [
              1,
              "#f0f921"
             ]
            ],
            "type": "heatmap"
           }
          ],
          "heatmapgl": [
           {
            "colorbar": {
             "outlinewidth": 0,
             "ticks": ""
            },
            "colorscale": [
             [
              0,
              "#0d0887"
             ],
             [
              0.1111111111111111,
              "#46039f"
             ],
             [
              0.2222222222222222,
              "#7201a8"
             ],
             [
              0.3333333333333333,
              "#9c179e"
             ],
             [
              0.4444444444444444,
              "#bd3786"
             ],
             [
              0.5555555555555556,
              "#d8576b"
             ],
             [
              0.6666666666666666,
              "#ed7953"
             ],
             [
              0.7777777777777778,
              "#fb9f3a"
             ],
             [
              0.8888888888888888,
              "#fdca26"
             ],
             [
              1,
              "#f0f921"
             ]
            ],
            "type": "heatmapgl"
           }
          ],
          "histogram": [
           {
            "marker": {
             "pattern": {
              "fillmode": "overlay",
              "size": 10,
              "solidity": 0.2
             }
            },
            "type": "histogram"
           }
          ],
          "histogram2d": [
           {
            "colorbar": {
             "outlinewidth": 0,
             "ticks": ""
            },
            "colorscale": [
             [
              0,
              "#0d0887"
             ],
             [
              0.1111111111111111,
              "#46039f"
             ],
             [
              0.2222222222222222,
              "#7201a8"
             ],
             [
              0.3333333333333333,
              "#9c179e"
             ],
             [
              0.4444444444444444,
              "#bd3786"
             ],
             [
              0.5555555555555556,
              "#d8576b"
             ],
             [
              0.6666666666666666,
              "#ed7953"
             ],
             [
              0.7777777777777778,
              "#fb9f3a"
             ],
             [
              0.8888888888888888,
              "#fdca26"
             ],
             [
              1,
              "#f0f921"
             ]
            ],
            "type": "histogram2d"
           }
          ],
          "histogram2dcontour": [
           {
            "colorbar": {
             "outlinewidth": 0,
             "ticks": ""
            },
            "colorscale": [
             [
              0,
              "#0d0887"
             ],
             [
              0.1111111111111111,
              "#46039f"
             ],
             [
              0.2222222222222222,
              "#7201a8"
             ],
             [
              0.3333333333333333,
              "#9c179e"
             ],
             [
              0.4444444444444444,
              "#bd3786"
             ],
             [
              0.5555555555555556,
              "#d8576b"
             ],
             [
              0.6666666666666666,
              "#ed7953"
             ],
             [
              0.7777777777777778,
              "#fb9f3a"
             ],
             [
              0.8888888888888888,
              "#fdca26"
             ],
             [
              1,
              "#f0f921"
             ]
            ],
            "type": "histogram2dcontour"
           }
          ],
          "mesh3d": [
           {
            "colorbar": {
             "outlinewidth": 0,
             "ticks": ""
            },
            "type": "mesh3d"
           }
          ],
          "parcoords": [
           {
            "line": {
             "colorbar": {
              "outlinewidth": 0,
              "ticks": ""
             }
            },
            "type": "parcoords"
           }
          ],
          "pie": [
           {
            "automargin": true,
            "type": "pie"
           }
          ],
          "scatter": [
           {
            "marker": {
             "colorbar": {
              "outlinewidth": 0,
              "ticks": ""
             }
            },
            "type": "scatter"
           }
          ],
          "scatter3d": [
           {
            "line": {
             "colorbar": {
              "outlinewidth": 0,
              "ticks": ""
             }
            },
            "marker": {
             "colorbar": {
              "outlinewidth": 0,
              "ticks": ""
             }
            },
            "type": "scatter3d"
           }
          ],
          "scattercarpet": [
           {
            "marker": {
             "colorbar": {
              "outlinewidth": 0,
              "ticks": ""
             }
            },
            "type": "scattercarpet"
           }
          ],
          "scattergeo": [
           {
            "marker": {
             "colorbar": {
              "outlinewidth": 0,
              "ticks": ""
             }
            },
            "type": "scattergeo"
           }
          ],
          "scattergl": [
           {
            "marker": {
             "colorbar": {
              "outlinewidth": 0,
              "ticks": ""
             }
            },
            "type": "scattergl"
           }
          ],
          "scattermapbox": [
           {
            "marker": {
             "colorbar": {
              "outlinewidth": 0,
              "ticks": ""
             }
            },
            "type": "scattermapbox"
           }
          ],
          "scatterpolar": [
           {
            "marker": {
             "colorbar": {
              "outlinewidth": 0,
              "ticks": ""
             }
            },
            "type": "scatterpolar"
           }
          ],
          "scatterpolargl": [
           {
            "marker": {
             "colorbar": {
              "outlinewidth": 0,
              "ticks": ""
             }
            },
            "type": "scatterpolargl"
           }
          ],
          "scatterternary": [
           {
            "marker": {
             "colorbar": {
              "outlinewidth": 0,
              "ticks": ""
             }
            },
            "type": "scatterternary"
           }
          ],
          "surface": [
           {
            "colorbar": {
             "outlinewidth": 0,
             "ticks": ""
            },
            "colorscale": [
             [
              0,
              "#0d0887"
             ],
             [
              0.1111111111111111,
              "#46039f"
             ],
             [
              0.2222222222222222,
              "#7201a8"
             ],
             [
              0.3333333333333333,
              "#9c179e"
             ],
             [
              0.4444444444444444,
              "#bd3786"
             ],
             [
              0.5555555555555556,
              "#d8576b"
             ],
             [
              0.6666666666666666,
              "#ed7953"
             ],
             [
              0.7777777777777778,
              "#fb9f3a"
             ],
             [
              0.8888888888888888,
              "#fdca26"
             ],
             [
              1,
              "#f0f921"
             ]
            ],
            "type": "surface"
           }
          ],
          "table": [
           {
            "cells": {
             "fill": {
              "color": "#EBF0F8"
             },
             "line": {
              "color": "white"
             }
            },
            "header": {
             "fill": {
              "color": "#C8D4E3"
             },
             "line": {
              "color": "white"
             }
            },
            "type": "table"
           }
          ]
         },
         "layout": {
          "annotationdefaults": {
           "arrowcolor": "#2a3f5f",
           "arrowhead": 0,
           "arrowwidth": 1
          },
          "autotypenumbers": "strict",
          "coloraxis": {
           "colorbar": {
            "outlinewidth": 0,
            "ticks": ""
           }
          },
          "colorscale": {
           "diverging": [
            [
             0,
             "#8e0152"
            ],
            [
             0.1,
             "#c51b7d"
            ],
            [
             0.2,
             "#de77ae"
            ],
            [
             0.3,
             "#f1b6da"
            ],
            [
             0.4,
             "#fde0ef"
            ],
            [
             0.5,
             "#f7f7f7"
            ],
            [
             0.6,
             "#e6f5d0"
            ],
            [
             0.7,
             "#b8e186"
            ],
            [
             0.8,
             "#7fbc41"
            ],
            [
             0.9,
             "#4d9221"
            ],
            [
             1,
             "#276419"
            ]
           ],
           "sequential": [
            [
             0,
             "#0d0887"
            ],
            [
             0.1111111111111111,
             "#46039f"
            ],
            [
             0.2222222222222222,
             "#7201a8"
            ],
            [
             0.3333333333333333,
             "#9c179e"
            ],
            [
             0.4444444444444444,
             "#bd3786"
            ],
            [
             0.5555555555555556,
             "#d8576b"
            ],
            [
             0.6666666666666666,
             "#ed7953"
            ],
            [
             0.7777777777777778,
             "#fb9f3a"
            ],
            [
             0.8888888888888888,
             "#fdca26"
            ],
            [
             1,
             "#f0f921"
            ]
           ],
           "sequentialminus": [
            [
             0,
             "#0d0887"
            ],
            [
             0.1111111111111111,
             "#46039f"
            ],
            [
             0.2222222222222222,
             "#7201a8"
            ],
            [
             0.3333333333333333,
             "#9c179e"
            ],
            [
             0.4444444444444444,
             "#bd3786"
            ],
            [
             0.5555555555555556,
             "#d8576b"
            ],
            [
             0.6666666666666666,
             "#ed7953"
            ],
            [
             0.7777777777777778,
             "#fb9f3a"
            ],
            [
             0.8888888888888888,
             "#fdca26"
            ],
            [
             1,
             "#f0f921"
            ]
           ]
          },
          "colorway": [
           "#636efa",
           "#EF553B",
           "#00cc96",
           "#ab63fa",
           "#FFA15A",
           "#19d3f3",
           "#FF6692",
           "#B6E880",
           "#FF97FF",
           "#FECB52"
          ],
          "font": {
           "color": "#2a3f5f"
          },
          "geo": {
           "bgcolor": "white",
           "lakecolor": "white",
           "landcolor": "#E5ECF6",
           "showlakes": true,
           "showland": true,
           "subunitcolor": "white"
          },
          "hoverlabel": {
           "align": "left"
          },
          "hovermode": "closest",
          "mapbox": {
           "style": "light"
          },
          "paper_bgcolor": "white",
          "plot_bgcolor": "#E5ECF6",
          "polar": {
           "angularaxis": {
            "gridcolor": "white",
            "linecolor": "white",
            "ticks": ""
           },
           "bgcolor": "#E5ECF6",
           "radialaxis": {
            "gridcolor": "white",
            "linecolor": "white",
            "ticks": ""
           }
          },
          "scene": {
           "xaxis": {
            "backgroundcolor": "#E5ECF6",
            "gridcolor": "white",
            "gridwidth": 2,
            "linecolor": "white",
            "showbackground": true,
            "ticks": "",
            "zerolinecolor": "white"
           },
           "yaxis": {
            "backgroundcolor": "#E5ECF6",
            "gridcolor": "white",
            "gridwidth": 2,
            "linecolor": "white",
            "showbackground": true,
            "ticks": "",
            "zerolinecolor": "white"
           },
           "zaxis": {
            "backgroundcolor": "#E5ECF6",
            "gridcolor": "white",
            "gridwidth": 2,
            "linecolor": "white",
            "showbackground": true,
            "ticks": "",
            "zerolinecolor": "white"
           }
          },
          "shapedefaults": {
           "line": {
            "color": "#2a3f5f"
           }
          },
          "ternary": {
           "aaxis": {
            "gridcolor": "white",
            "linecolor": "white",
            "ticks": ""
           },
           "baxis": {
            "gridcolor": "white",
            "linecolor": "white",
            "ticks": ""
           },
           "bgcolor": "#E5ECF6",
           "caxis": {
            "gridcolor": "white",
            "linecolor": "white",
            "ticks": ""
           }
          },
          "title": {
           "x": 0.05
          },
          "xaxis": {
           "automargin": true,
           "gridcolor": "white",
           "linecolor": "white",
           "ticks": "",
           "title": {
            "standoff": 15
           },
           "zerolinecolor": "white",
           "zerolinewidth": 2
          },
          "yaxis": {
           "automargin": true,
           "gridcolor": "white",
           "linecolor": "white",
           "ticks": "",
           "title": {
            "standoff": 15
           },
           "zerolinecolor": "white",
           "zerolinewidth": 2
          }
         }
        },
        "title": {
         "text": "CHF JPY Cum gain"
        },
        "width": 1000,
        "xaxis": {
         "linecolor": "#3a4a54",
         "linewidth": 1,
         "showgrid": false,
         "zeroline": false
        },
        "yaxis": {
         "linecolor": "#3a4a54",
         "linewidth": 1,
         "showgrid": false,
         "zeroline": false
        }
       }
      }
     },
     "metadata": {}
    }
   ],
   "metadata": {}
  },
  {
   "cell_type": "code",
   "execution_count": 47,
   "source": [
    "trades_chf_jpy.tail(5)['CUM_GAIN']\r\n",
    "# 確定圖沒有畫錯 :)"
   ],
   "outputs": [
    {
     "output_type": "execute_result",
     "data": {
      "text/plain": [
       "3933    530.5\n",
       "3948    524.8\n",
       "3951    519.2\n",
       "3965    511.1\n",
       "3985    507.6\n",
       "Name: CUM_GAIN, dtype: float64"
      ]
     },
     "metadata": {},
     "execution_count": 47
    }
   ],
   "metadata": {}
  },
  {
   "cell_type": "markdown",
   "source": [
    "#### 畫出九種貨幣對損益圖"
   ],
   "metadata": {}
  },
  {
   "cell_type": "code",
   "execution_count": 49,
   "source": [
    "c = 'MA_8_16' # 目前只討論這個 MA 組合\r\n",
    "\r\n",
    "for p in our_pairs:\r\n",
    "    temp_df = all_trades[ (all_trades['PAIR']==p) & (all_trades['CROSS']==c) ].copy()\r\n",
    "    temp_df['CUM_GAIN'] = temp_df['GAIN'].cumsum()\r\n",
    "    plot_line(temp_df, p + '_' + c)\r\n"
   ],
   "outputs": [
    {
     "output_type": "display_data",
     "data": {
      "application/vnd.plotly.v1+json": {
       "config": {
        "plotlyServerURL": "https://plot.ly"
       },
       "data": [
        {
         "line": {
          "color": "#3d825f",
          "shape": "spline",
          "width": 2
         },
         "mode": "lines",
         "name": "CHF_JPY_GAIN",
         "type": "scatter",
         "x": [
          "2021-01-19T20:00:00+00:00",
          "2021-01-20T06:00:00+00:00",
          "2021-01-20T07:00:00+00:00",
          "2021-01-21T03:00:00+00:00",
          "2021-01-25T04:00:00+00:00",
          "2021-01-25T05:00:00+00:00",
          "2021-01-25T06:00:00+00:00",
          "2021-01-26T15:00:00+00:00",
          "2021-01-27T12:00:00+00:00",
          "2021-01-27T17:00:00+00:00",
          "2021-01-28T13:00:00+00:00",
          "2021-01-28T16:00:00+00:00",
          "2021-01-29T20:00:00+00:00",
          "2021-02-02T06:00:00+00:00",
          "2021-02-02T13:00:00+00:00",
          "2021-02-03T01:00:00+00:00",
          "2021-02-03T09:00:00+00:00",
          "2021-02-04T01:00:00+00:00",
          "2021-02-04T08:00:00+00:00",
          "2021-02-04T21:00:00+00:00",
          "2021-02-05T07:00:00+00:00",
          "2021-02-05T08:00:00+00:00",
          "2021-02-08T13:00:00+00:00",
          "2021-02-09T13:00:00+00:00",
          "2021-02-11T00:00:00+00:00",
          "2021-02-11T09:00:00+00:00",
          "2021-02-12T13:00:00+00:00",
          "2021-02-12T21:00:00+00:00",
          "2021-02-16T14:00:00+00:00",
          "2021-02-16T19:00:00+00:00",
          "2021-02-17T06:00:00+00:00",
          "2021-02-18T09:00:00+00:00",
          "2021-02-19T05:00:00+00:00",
          "2021-02-19T16:00:00+00:00",
          "2021-02-19T17:00:00+00:00",
          "2021-02-23T06:00:00+00:00",
          "2021-02-23T09:00:00+00:00",
          "2021-02-24T07:00:00+00:00",
          "2021-02-26T03:00:00+00:00",
          "2021-02-26T10:00:00+00:00",
          "2021-02-26T19:00:00+00:00",
          "2021-03-01T06:00:00+00:00",
          "2021-03-01T09:00:00+00:00",
          "2021-03-02T17:00:00+00:00",
          "2021-03-03T12:00:00+00:00",
          "2021-03-04T06:00:00+00:00",
          "2021-03-04T11:00:00+00:00",
          "2021-03-05T04:00:00+00:00",
          "2021-03-05T19:00:00+00:00",
          "2021-03-08T04:00:00+00:00",
          "2021-03-08T07:00:00+00:00",
          "2021-03-08T16:00:00+00:00",
          "2021-03-10T12:00:00+00:00",
          "2021-03-11T04:00:00+00:00",
          "2021-03-12T09:00:00+00:00",
          "2021-03-12T19:00:00+00:00",
          "2021-03-15T13:00:00+00:00",
          "2021-03-15T15:00:00+00:00",
          "2021-03-16T14:00:00+00:00",
          "2021-03-16T21:00:00+00:00",
          "2021-03-17T08:00:00+00:00",
          "2021-03-17T20:00:00+00:00",
          "2021-03-18T08:00:00+00:00",
          "2021-03-19T03:00:00+00:00",
          "2021-03-19T08:00:00+00:00",
          "2021-03-21T23:00:00+00:00",
          "2021-03-22T01:00:00+00:00",
          "2021-03-22T11:00:00+00:00",
          "2021-03-23T05:00:00+00:00",
          "2021-03-24T14:00:00+00:00",
          "2021-03-24T23:00:00+00:00",
          "2021-03-25T00:00:00+00:00",
          "2021-03-25T01:00:00+00:00",
          "2021-03-25T02:00:00+00:00",
          "2021-03-25T17:00:00+00:00",
          "2021-03-26T05:00:00+00:00",
          "2021-03-29T04:00:00+00:00",
          "2021-03-29T12:00:00+00:00",
          "2021-03-30T19:00:00+00:00",
          "2021-03-30T22:00:00+00:00",
          "2021-03-31T15:00:00+00:00",
          "2021-04-01T15:00:00+00:00",
          "2021-04-02T05:00:00+00:00",
          "2021-04-02T14:00:00+00:00",
          "2021-04-05T00:00:00+00:00",
          "2021-04-05T14:00:00+00:00",
          "2021-04-06T06:00:00+00:00",
          "2021-04-06T13:00:00+00:00",
          "2021-04-07T21:00:00+00:00",
          "2021-04-08T18:00:00+00:00",
          "2021-04-09T06:00:00+00:00",
          "2021-04-09T08:00:00+00:00",
          "2021-04-12T03:00:00+00:00",
          "2021-04-12T14:00:00+00:00",
          "2021-04-13T07:00:00+00:00",
          "2021-04-13T18:00:00+00:00",
          "2021-04-14T01:00:00+00:00",
          "2021-04-14T09:00:00+00:00",
          "2021-04-14T10:00:00+00:00",
          "2021-04-15T20:00:00+00:00",
          "2021-04-16T20:00:00+00:00",
          "2021-04-19T11:00:00+00:00",
          "2021-04-19T20:00:00+00:00",
          "2021-04-20T02:00:00+00:00",
          "2021-04-20T16:00:00+00:00",
          "2021-04-21T20:00:00+00:00",
          "2021-04-22T05:00:00+00:00",
          "2021-04-22T06:00:00+00:00",
          "2021-04-22T17:00:00+00:00",
          "2021-04-23T08:00:00+00:00",
          "2021-04-26T05:00:00+00:00",
          "2021-04-26T16:00:00+00:00",
          "2021-04-27T06:00:00+00:00",
          "2021-04-27T10:00:00+00:00",
          "2021-04-28T07:00:00+00:00",
          "2021-04-28T13:00:00+00:00",
          "2021-04-30T04:00:00+00:00",
          "2021-04-30T05:00:00+00:00",
          "2021-04-30T06:00:00+00:00",
          "2021-04-30T16:00:00+00:00",
          "2021-04-30T17:00:00+00:00",
          "2021-05-03T01:00:00+00:00",
          "2021-05-03T15:00:00+00:00",
          "2021-05-04T13:00:00+00:00",
          "2021-05-05T08:00:00+00:00",
          "2021-05-05T16:00:00+00:00",
          "2021-05-06T00:00:00+00:00",
          "2021-05-06T04:00:00+00:00",
          "2021-05-07T12:00:00+00:00",
          "2021-05-07T15:00:00+00:00",
          "2021-05-10T20:00:00+00:00",
          "2021-05-11T04:00:00+00:00",
          "2021-05-11T08:00:00+00:00",
          "2021-05-12T07:00:00+00:00",
          "2021-05-12T08:00:00+00:00",
          "2021-05-12T12:00:00+00:00",
          "2021-05-17T06:00:00+00:00",
          "2021-05-18T06:00:00+00:00",
          "2021-05-18T21:00:00+00:00",
          "2021-05-19T05:00:00+00:00",
          "2021-05-19T08:00:00+00:00",
          "2021-05-20T03:00:00+00:00",
          "2021-05-20T04:00:00+00:00",
          "2021-05-20T10:00:00+00:00",
          "2021-05-21T10:00:00+00:00",
          "2021-05-21T19:00:00+00:00",
          "2021-05-24T06:00:00+00:00",
          "2021-05-24T14:00:00+00:00",
          "2021-05-24T22:00:00+00:00",
          "2021-05-25T04:00:00+00:00",
          "2021-05-25T19:00:00+00:00",
          "2021-05-26T03:00:00+00:00",
          "2021-05-26T17:00:00+00:00",
          "2021-05-27T02:00:00+00:00",
          "2021-05-27T03:00:00+00:00",
          "2021-05-27T05:00:00+00:00",
          "2021-05-27T09:00:00+00:00",
          "2021-05-27T10:00:00+00:00",
          "2021-05-27T12:00:00+00:00",
          "2021-05-27T14:00:00+00:00",
          "2021-05-28T06:00:00+00:00",
          "2021-05-31T22:00:00+00:00",
          "2021-06-01T05:00:00+00:00",
          "2021-06-01T11:00:00+00:00",
          "2021-06-02T02:00:00+00:00",
          "2021-06-02T03:00:00+00:00",
          "2021-06-02T11:00:00+00:00",
          "2021-06-02T20:00:00+00:00",
          "2021-06-03T10:00:00+00:00",
          "2021-06-03T22:00:00+00:00",
          "2021-06-04T05:00:00+00:00",
          "2021-06-04T19:00:00+00:00",
          "2021-06-04T20:00:00+00:00",
          "2021-06-07T00:00:00+00:00",
          "2021-06-07T07:00:00+00:00",
          "2021-06-07T18:00:00+00:00",
          "2021-06-08T23:00:00+00:00",
          "2021-06-09T08:00:00+00:00",
          "2021-06-10T03:00:00+00:00",
          "2021-06-10T15:00:00+00:00",
          "2021-06-10T22:00:00+00:00",
          "2021-06-11T04:00:00+00:00",
          "2021-06-11T11:00:00+00:00",
          "2021-06-14T01:00:00+00:00",
          "2021-06-14T08:00:00+00:00",
          "2021-06-14T15:00:00+00:00",
          "2021-06-15T16:00:00+00:00",
          "2021-06-15T20:00:00+00:00",
          "2021-06-16T04:00:00+00:00",
          "2021-06-21T12:00:00+00:00",
          "2021-06-22T05:00:00+00:00",
          "2021-06-22T13:00:00+00:00",
          "2021-06-23T23:00:00+00:00",
          "2021-06-24T18:00:00+00:00",
          "2021-06-25T09:00:00+00:00",
          "2021-06-25T19:00:00+00:00",
          "2021-06-28T01:00:00+00:00",
          "2021-06-30T02:00:00+00:00",
          "2021-06-30T03:00:00+00:00",
          "2021-06-30T17:00:00+00:00",
          "2021-07-01T05:00:00+00:00",
          "2021-07-01T08:00:00+00:00",
          "2021-07-02T00:00:00+00:00",
          "2021-07-02T16:00:00+00:00",
          "2021-07-05T02:00:00+00:00",
          "2021-07-06T05:00:00+00:00",
          "2021-07-06T08:00:00+00:00",
          "2021-07-07T07:00:00+00:00",
          "2021-07-07T16:00:00+00:00",
          "2021-07-08T10:00:00+00:00",
          "2021-07-12T06:00:00+00:00",
          "2021-07-12T17:00:00+00:00",
          "2021-07-13T09:00:00+00:00",
          "2021-07-13T21:00:00+00:00",
          "2021-07-14T04:00:00+00:00",
          "2021-07-14T21:00:00+00:00",
          "2021-07-15T02:00:00+00:00",
          "2021-07-16T06:00:00+00:00",
          "2021-07-16T20:00:00+00:00",
          "2021-07-19T21:00:00+00:00",
          "2021-07-20T06:00:00+00:00",
          "2021-07-20T07:00:00+00:00",
          "2021-07-20T10:00:00+00:00",
          "2021-07-20T21:00:00+00:00",
          "2021-07-22T04:00:00+00:00",
          "2021-07-22T13:00:00+00:00",
          "2021-07-22T15:00:00+00:00",
          "2021-07-23T05:00:00+00:00",
          "2021-07-26T05:00:00+00:00",
          "2021-07-26T13:00:00+00:00",
          "2021-07-27T04:00:00+00:00",
          "2021-07-28T04:00:00+00:00",
          "2021-07-29T21:00:00+00:00",
          "2021-07-30T09:00:00+00:00",
          "2021-08-02T01:00:00+00:00",
          "2021-08-02T09:00:00+00:00",
          "2021-08-02T10:00:00+00:00",
          "2021-08-03T11:00:00+00:00",
          "2021-08-03T18:00:00+00:00",
          "2021-08-04T03:00:00+00:00",
          "2021-08-04T12:00:00+00:00",
          "2021-08-04T16:00:00+00:00",
          "2021-08-06T04:00:00+00:00",
          "2021-08-10T06:00:00+00:00",
          "2021-08-10T12:00:00+00:00",
          "2021-08-11T00:00:00+00:00",
          "2021-08-11T14:00:00+00:00",
          "2021-08-12T10:00:00+00:00",
          "2021-08-12T12:00:00+00:00",
          "2021-08-13T03:00:00+00:00",
          "2021-08-13T07:00:00+00:00",
          "2021-08-13T13:00:00+00:00",
          "2021-08-16T00:00:00+00:00",
          "2021-08-16T13:00:00+00:00",
          "2021-08-17T03:00:00+00:00",
          "2021-08-17T08:00:00+00:00",
          "2021-08-17T19:00:00+00:00",
          "2021-08-18T05:00:00+00:00",
          "2021-08-18T16:00:00+00:00",
          "2021-08-20T04:00:00+00:00",
          "2021-08-20T13:00:00+00:00",
          "2021-08-20T18:00:00+00:00",
          "2021-08-24T13:00:00+00:00",
          "2021-08-25T11:00:00+00:00",
          "2021-08-26T03:00:00+00:00",
          "2021-08-27T04:00:00+00:00",
          "2021-08-30T06:00:00+00:00",
          "2021-08-31T04:00:00+00:00",
          "2021-08-31T19:00:00+00:00",
          "2021-09-01T00:00:00+00:00",
          "2021-09-01T06:00:00+00:00",
          "2021-09-01T11:00:00+00:00",
          "2021-09-01T20:00:00+00:00",
          "2021-09-02T17:00:00+00:00",
          "2021-09-03T12:00:00+00:00",
          "2021-09-06T03:00:00+00:00",
          "2021-09-06T06:00:00+00:00",
          "2021-09-06T20:00:00+00:00",
          "2021-09-07T16:00:00+00:00"
         ],
         "y": [
          8.00000000000125,
          16.200000000002035,
          61.60000000000281,
          137.60000000000332,
          139.0000000000029,
          130.10000000000304,
          159.40000000000367,
          161.0000000000042,
          125.60000000000429,
          136.0000000000042,
          127.60000000000389,
          149.00000000000375,
          200.2000000000038,
          193.400000000004,
          197.00000000000415,
          189.60000000000434,
          194.200000000005,
          172.00000000000557,
          161.60000000000565,
          160.4000000000056,
          155.50000000000637,
          191.30000000000678,
          194.2000000000064,
          227.80000000000626,
          212.40000000000663,
          210.20000000000607,
          202.6000000000053,
          289.2000000000053,
          266.2000000000049,
          248.70000000000374,
          316.700000000003,
          308.6000000000027,
          289.40000000000197,
          255.40000000000163,
          290.000000000002,
          261.70000000000186,
          310.70000000000135,
          372.60000000000133,
          337.80000000000143,
          316.0000000000011,
          313.2000000000005,
          288.5000000000005,
          319.0000000000012,
          293.80000000000166,
          290.600000000002,
          250.4000000000019,
          234.40000000000083,
          242.6000000000002,
          248.0000000000004,
          249.0000000000009,
          240.80000000000155,
          281.40000000000214,
          288.4000000000029,
          331.6000000000031,
          318.7000000000026,
          336.0000000000028,
          330.6000000000026,
          338.6000000000024,
          321.5000000000032,
          315.1000000000039,
          291.90000000000396,
          309.50000000000415,
          381.200000000004,
          357.40000000000407,
          369.200000000005,
          371.00000000000506,
          327.0000000000053,
          337.5000000000057,
          466.60000000000537,
          455.6000000000054,
          441.40000000000583,
          441.60000000000537,
          434.7000000000051,
          410.60000000000514,
          405.80000000000496,
          436.20000000000516,
          419.00000000000546,
          457.800000000006,
          454.1000000000068,
          481.60000000000736,
          470.10000000000787,
          456.6000000000088,
          459.00000000000887,
          460.2000000000089,
          445.4000000000093,
          447.1000000000089,
          445.20000000000834,
          506.8000000000083,
          499.90000000000805,
          499.80000000000757,
          482.60000000000787,
          469.1000000000088,
          437.000000000009,
          400.100000000009,
          375.8000000000095,
          355.8000000000092,
          357.5000000000088,
          338.6000000000081,
          356.4000000000078,
          392.10000000000775,
          387.2000000000071,
          382.2000000000074,
          378.60000000000724,
          352.50000000000625,
          372.70000000000607,
          376.0000000000062,
          370.40000000000646,
          351.0000000000062,
          335.1000000000056,
          357.20000000000596,
          341.3000000000068,
          327.8000000000077,
          286.800000000008,
          333.6000000000084,
          326.8000000000086,
          389.40000000000765,
          384.1000000000065,
          382.4000000000055,
          383.20000000000505,
          377.6000000000053,
          364.00000000000574,
          348.2000000000056,
          354.80000000000587,
          340.30000000000626,
          321.0000000000065,
          316.6000000000068,
          307.2000000000074,
          353.8000000000082,
          324.60000000000804,
          355.00000000000824,
          346.8000000000089,
          329.40000000000964,
          365.60000000001054,
          359.3000000000103,
          335.6000000000094,
          398.8000000000085,
          389.2000000000081,
          405.1000000000087,
          397.20000000000937,
          367.0000000000101,
          405.80000000001064,
          408.40000000001027,
          390.0000000000105,
          411.0000000000113,
          394.30000000001115,
          374.6000000000109,
          357.80000000001024,
          359.10000000000935,
          360.40000000000845,
          374.20000000000755,
          355.8000000000078,
          343.9000000000078,
          340.2000000000072,
          340.80000000000723,
          333.00000000000693,
          317.70000000000636,
          309.8000000000056,
          305.0000000000054,
          237.4000000000052,
          245.8000000000041,
          282.0000000000036,
          265.20000000000294,
          239.80000000000246,
          259.0000000000032,
          258.0000000000041,
          218.5000000000045,
          196.5000000000046,
          192.60000000000446,
          184.50000000000415,
          164.00000000000432,
          165.1000000000053,
          161.70000000000613,
          157.80000000000598,
          142.00000000000585,
          131.80000000000547,
          157.20000000000454,
          146.2000000000046,
          159.20000000000556,
          156.60000000000593,
          149.6000000000052,
          133.3000000000041,
          105.80000000000354,
          108.40000000000316,
          94.20000000000215,
          59.200000000001296,
          78.80000000000109,
          77.80000000000058,
          73.30000000000041,
          363.00000000000097,
          404.0000000000006,
          372.2999999999999,
          431.19999999999976,
          448.90000000000043,
          459.60000000000036,
          460.0999999999999,
          427.89999999999964,
          479.9999999999997,
          475.20000000000095,
          466.40000000000157,
          466.20000000000203,
          445.60000000000315,
          481.00000000000307,
          483.0000000000027,
          470.7000000000036,
          474.30000000000376,
          432.6000000000036,
          445.4000000000036,
          417.4000000000035,
          402.8000000000034,
          471.8000000000032,
          461.80000000000376,
          446.8000000000046,
          435.20000000000465,
          420.2000000000041,
          430.10000000000446,
          413.60000000000525,
          446.200000000006,
          445.10000000000645,
          488.1000000000057,
          484.0000000000046,
          473.8000000000042,
          441.2000000000049,
          421.80000000000604,
          506.60000000000593,
          493.00000000000495,
          445.00000000000455,
          436.90000000000424,
          465.4000000000039,
          443.8000000000031,
          445.7000000000022,
          481.00000000000165,
          568.2000000000016,
          546.7000000000013,
          546.5000000000003,
          543.5000000000002,
          539.9000000000001,
          552.4000000000001,
          527.2000000000005,
          525.200000000001,
          507.4000000000012,
          474.8000000000019,
          486.80000000000234,
          587.2000000000028,
          559.9000000000032,
          540.7000000000024,
          541.6000000000024,
          554.7000000000024,
          555.0000000000025,
          571.7000000000027,
          560.6000000000022,
          528.9000000000015,
          510.9000000000008,
          505.000000000001,
          503.4000000000019,
          467.0000000000029,
          445.4000000000035,
          437.20000000000414,
          427.40000000000424,
          432.50000000000443,
          431.20000000000533,
          437.7000000000051,
          483.900000000004,
          480.1000000000029,
          484.00000000000165,
          507.60000000000065,
          550.2000000000008,
          584.1000000000007,
          593.0000000000006,
          584.8000000000012,
          564.8000000000009,
          535.7000000000012,
          521.000000000002,
          515.4000000000024,
          514.0000000000027,
          530.5000000000034,
          524.8000000000031,
          519.200000000002,
          511.10000000000167,
          507.600000000002
         ]
        }
       ],
       "layout": {
        "font": {
         "color": "#e1e1e1",
         "size": 10
        },
        "height": 400,
        "margin": {
         "b": 10,
         "l": 15,
         "r": 15
        },
        "paper_bgcolor": "#1e1e1e",
        "plot_bgcolor": "#1e1e1e",
        "template": {
         "data": {
          "bar": [
           {
            "error_x": {
             "color": "#2a3f5f"
            },
            "error_y": {
             "color": "#2a3f5f"
            },
            "marker": {
             "line": {
              "color": "#E5ECF6",
              "width": 0.5
             },
             "pattern": {
              "fillmode": "overlay",
              "size": 10,
              "solidity": 0.2
             }
            },
            "type": "bar"
           }
          ],
          "barpolar": [
           {
            "marker": {
             "line": {
              "color": "#E5ECF6",
              "width": 0.5
             },
             "pattern": {
              "fillmode": "overlay",
              "size": 10,
              "solidity": 0.2
             }
            },
            "type": "barpolar"
           }
          ],
          "carpet": [
           {
            "aaxis": {
             "endlinecolor": "#2a3f5f",
             "gridcolor": "white",
             "linecolor": "white",
             "minorgridcolor": "white",
             "startlinecolor": "#2a3f5f"
            },
            "baxis": {
             "endlinecolor": "#2a3f5f",
             "gridcolor": "white",
             "linecolor": "white",
             "minorgridcolor": "white",
             "startlinecolor": "#2a3f5f"
            },
            "type": "carpet"
           }
          ],
          "choropleth": [
           {
            "colorbar": {
             "outlinewidth": 0,
             "ticks": ""
            },
            "type": "choropleth"
           }
          ],
          "contour": [
           {
            "colorbar": {
             "outlinewidth": 0,
             "ticks": ""
            },
            "colorscale": [
             [
              0,
              "#0d0887"
             ],
             [
              0.1111111111111111,
              "#46039f"
             ],
             [
              0.2222222222222222,
              "#7201a8"
             ],
             [
              0.3333333333333333,
              "#9c179e"
             ],
             [
              0.4444444444444444,
              "#bd3786"
             ],
             [
              0.5555555555555556,
              "#d8576b"
             ],
             [
              0.6666666666666666,
              "#ed7953"
             ],
             [
              0.7777777777777778,
              "#fb9f3a"
             ],
             [
              0.8888888888888888,
              "#fdca26"
             ],
             [
              1,
              "#f0f921"
             ]
            ],
            "type": "contour"
           }
          ],
          "contourcarpet": [
           {
            "colorbar": {
             "outlinewidth": 0,
             "ticks": ""
            },
            "type": "contourcarpet"
           }
          ],
          "heatmap": [
           {
            "colorbar": {
             "outlinewidth": 0,
             "ticks": ""
            },
            "colorscale": [
             [
              0,
              "#0d0887"
             ],
             [
              0.1111111111111111,
              "#46039f"
             ],
             [
              0.2222222222222222,
              "#7201a8"
             ],
             [
              0.3333333333333333,
              "#9c179e"
             ],
             [
              0.4444444444444444,
              "#bd3786"
             ],
             [
              0.5555555555555556,
              "#d8576b"
             ],
             [
              0.6666666666666666,
              "#ed7953"
             ],
             [
              0.7777777777777778,
              "#fb9f3a"
             ],
             [
              0.8888888888888888,
              "#fdca26"
             ],
             [
              1,
              "#f0f921"
             ]
            ],
            "type": "heatmap"
           }
          ],
          "heatmapgl": [
           {
            "colorbar": {
             "outlinewidth": 0,
             "ticks": ""
            },
            "colorscale": [
             [
              0,
              "#0d0887"
             ],
             [
              0.1111111111111111,
              "#46039f"
             ],
             [
              0.2222222222222222,
              "#7201a8"
             ],
             [
              0.3333333333333333,
              "#9c179e"
             ],
             [
              0.4444444444444444,
              "#bd3786"
             ],
             [
              0.5555555555555556,
              "#d8576b"
             ],
             [
              0.6666666666666666,
              "#ed7953"
             ],
             [
              0.7777777777777778,
              "#fb9f3a"
             ],
             [
              0.8888888888888888,
              "#fdca26"
             ],
             [
              1,
              "#f0f921"
             ]
            ],
            "type": "heatmapgl"
           }
          ],
          "histogram": [
           {
            "marker": {
             "pattern": {
              "fillmode": "overlay",
              "size": 10,
              "solidity": 0.2
             }
            },
            "type": "histogram"
           }
          ],
          "histogram2d": [
           {
            "colorbar": {
             "outlinewidth": 0,
             "ticks": ""
            },
            "colorscale": [
             [
              0,
              "#0d0887"
             ],
             [
              0.1111111111111111,
              "#46039f"
             ],
             [
              0.2222222222222222,
              "#7201a8"
             ],
             [
              0.3333333333333333,
              "#9c179e"
             ],
             [
              0.4444444444444444,
              "#bd3786"
             ],
             [
              0.5555555555555556,
              "#d8576b"
             ],
             [
              0.6666666666666666,
              "#ed7953"
             ],
             [
              0.7777777777777778,
              "#fb9f3a"
             ],
             [
              0.8888888888888888,
              "#fdca26"
             ],
             [
              1,
              "#f0f921"
             ]
            ],
            "type": "histogram2d"
           }
          ],
          "histogram2dcontour": [
           {
            "colorbar": {
             "outlinewidth": 0,
             "ticks": ""
            },
            "colorscale": [
             [
              0,
              "#0d0887"
             ],
             [
              0.1111111111111111,
              "#46039f"
             ],
             [
              0.2222222222222222,
              "#7201a8"
             ],
             [
              0.3333333333333333,
              "#9c179e"
             ],
             [
              0.4444444444444444,
              "#bd3786"
             ],
             [
              0.5555555555555556,
              "#d8576b"
             ],
             [
              0.6666666666666666,
              "#ed7953"
             ],
             [
              0.7777777777777778,
              "#fb9f3a"
             ],
             [
              0.8888888888888888,
              "#fdca26"
             ],
             [
              1,
              "#f0f921"
             ]
            ],
            "type": "histogram2dcontour"
           }
          ],
          "mesh3d": [
           {
            "colorbar": {
             "outlinewidth": 0,
             "ticks": ""
            },
            "type": "mesh3d"
           }
          ],
          "parcoords": [
           {
            "line": {
             "colorbar": {
              "outlinewidth": 0,
              "ticks": ""
             }
            },
            "type": "parcoords"
           }
          ],
          "pie": [
           {
            "automargin": true,
            "type": "pie"
           }
          ],
          "scatter": [
           {
            "marker": {
             "colorbar": {
              "outlinewidth": 0,
              "ticks": ""
             }
            },
            "type": "scatter"
           }
          ],
          "scatter3d": [
           {
            "line": {
             "colorbar": {
              "outlinewidth": 0,
              "ticks": ""
             }
            },
            "marker": {
             "colorbar": {
              "outlinewidth": 0,
              "ticks": ""
             }
            },
            "type": "scatter3d"
           }
          ],
          "scattercarpet": [
           {
            "marker": {
             "colorbar": {
              "outlinewidth": 0,
              "ticks": ""
             }
            },
            "type": "scattercarpet"
           }
          ],
          "scattergeo": [
           {
            "marker": {
             "colorbar": {
              "outlinewidth": 0,
              "ticks": ""
             }
            },
            "type": "scattergeo"
           }
          ],
          "scattergl": [
           {
            "marker": {
             "colorbar": {
              "outlinewidth": 0,
              "ticks": ""
             }
            },
            "type": "scattergl"
           }
          ],
          "scattermapbox": [
           {
            "marker": {
             "colorbar": {
              "outlinewidth": 0,
              "ticks": ""
             }
            },
            "type": "scattermapbox"
           }
          ],
          "scatterpolar": [
           {
            "marker": {
             "colorbar": {
              "outlinewidth": 0,
              "ticks": ""
             }
            },
            "type": "scatterpolar"
           }
          ],
          "scatterpolargl": [
           {
            "marker": {
             "colorbar": {
              "outlinewidth": 0,
              "ticks": ""
             }
            },
            "type": "scatterpolargl"
           }
          ],
          "scatterternary": [
           {
            "marker": {
             "colorbar": {
              "outlinewidth": 0,
              "ticks": ""
             }
            },
            "type": "scatterternary"
           }
          ],
          "surface": [
           {
            "colorbar": {
             "outlinewidth": 0,
             "ticks": ""
            },
            "colorscale": [
             [
              0,
              "#0d0887"
             ],
             [
              0.1111111111111111,
              "#46039f"
             ],
             [
              0.2222222222222222,
              "#7201a8"
             ],
             [
              0.3333333333333333,
              "#9c179e"
             ],
             [
              0.4444444444444444,
              "#bd3786"
             ],
             [
              0.5555555555555556,
              "#d8576b"
             ],
             [
              0.6666666666666666,
              "#ed7953"
             ],
             [
              0.7777777777777778,
              "#fb9f3a"
             ],
             [
              0.8888888888888888,
              "#fdca26"
             ],
             [
              1,
              "#f0f921"
             ]
            ],
            "type": "surface"
           }
          ],
          "table": [
           {
            "cells": {
             "fill": {
              "color": "#EBF0F8"
             },
             "line": {
              "color": "white"
             }
            },
            "header": {
             "fill": {
              "color": "#C8D4E3"
             },
             "line": {
              "color": "white"
             }
            },
            "type": "table"
           }
          ]
         },
         "layout": {
          "annotationdefaults": {
           "arrowcolor": "#2a3f5f",
           "arrowhead": 0,
           "arrowwidth": 1
          },
          "autotypenumbers": "strict",
          "coloraxis": {
           "colorbar": {
            "outlinewidth": 0,
            "ticks": ""
           }
          },
          "colorscale": {
           "diverging": [
            [
             0,
             "#8e0152"
            ],
            [
             0.1,
             "#c51b7d"
            ],
            [
             0.2,
             "#de77ae"
            ],
            [
             0.3,
             "#f1b6da"
            ],
            [
             0.4,
             "#fde0ef"
            ],
            [
             0.5,
             "#f7f7f7"
            ],
            [
             0.6,
             "#e6f5d0"
            ],
            [
             0.7,
             "#b8e186"
            ],
            [
             0.8,
             "#7fbc41"
            ],
            [
             0.9,
             "#4d9221"
            ],
            [
             1,
             "#276419"
            ]
           ],
           "sequential": [
            [
             0,
             "#0d0887"
            ],
            [
             0.1111111111111111,
             "#46039f"
            ],
            [
             0.2222222222222222,
             "#7201a8"
            ],
            [
             0.3333333333333333,
             "#9c179e"
            ],
            [
             0.4444444444444444,
             "#bd3786"
            ],
            [
             0.5555555555555556,
             "#d8576b"
            ],
            [
             0.6666666666666666,
             "#ed7953"
            ],
            [
             0.7777777777777778,
             "#fb9f3a"
            ],
            [
             0.8888888888888888,
             "#fdca26"
            ],
            [
             1,
             "#f0f921"
            ]
           ],
           "sequentialminus": [
            [
             0,
             "#0d0887"
            ],
            [
             0.1111111111111111,
             "#46039f"
            ],
            [
             0.2222222222222222,
             "#7201a8"
            ],
            [
             0.3333333333333333,
             "#9c179e"
            ],
            [
             0.4444444444444444,
             "#bd3786"
            ],
            [
             0.5555555555555556,
             "#d8576b"
            ],
            [
             0.6666666666666666,
             "#ed7953"
            ],
            [
             0.7777777777777778,
             "#fb9f3a"
            ],
            [
             0.8888888888888888,
             "#fdca26"
            ],
            [
             1,
             "#f0f921"
            ]
           ]
          },
          "colorway": [
           "#636efa",
           "#EF553B",
           "#00cc96",
           "#ab63fa",
           "#FFA15A",
           "#19d3f3",
           "#FF6692",
           "#B6E880",
           "#FF97FF",
           "#FECB52"
          ],
          "font": {
           "color": "#2a3f5f"
          },
          "geo": {
           "bgcolor": "white",
           "lakecolor": "white",
           "landcolor": "#E5ECF6",
           "showlakes": true,
           "showland": true,
           "subunitcolor": "white"
          },
          "hoverlabel": {
           "align": "left"
          },
          "hovermode": "closest",
          "mapbox": {
           "style": "light"
          },
          "paper_bgcolor": "white",
          "plot_bgcolor": "#E5ECF6",
          "polar": {
           "angularaxis": {
            "gridcolor": "white",
            "linecolor": "white",
            "ticks": ""
           },
           "bgcolor": "#E5ECF6",
           "radialaxis": {
            "gridcolor": "white",
            "linecolor": "white",
            "ticks": ""
           }
          },
          "scene": {
           "xaxis": {
            "backgroundcolor": "#E5ECF6",
            "gridcolor": "white",
            "gridwidth": 2,
            "linecolor": "white",
            "showbackground": true,
            "ticks": "",
            "zerolinecolor": "white"
           },
           "yaxis": {
            "backgroundcolor": "#E5ECF6",
            "gridcolor": "white",
            "gridwidth": 2,
            "linecolor": "white",
            "showbackground": true,
            "ticks": "",
            "zerolinecolor": "white"
           },
           "zaxis": {
            "backgroundcolor": "#E5ECF6",
            "gridcolor": "white",
            "gridwidth": 2,
            "linecolor": "white",
            "showbackground": true,
            "ticks": "",
            "zerolinecolor": "white"
           }
          },
          "shapedefaults": {
           "line": {
            "color": "#2a3f5f"
           }
          },
          "ternary": {
           "aaxis": {
            "gridcolor": "white",
            "linecolor": "white",
            "ticks": ""
           },
           "baxis": {
            "gridcolor": "white",
            "linecolor": "white",
            "ticks": ""
           },
           "bgcolor": "#E5ECF6",
           "caxis": {
            "gridcolor": "white",
            "linecolor": "white",
            "ticks": ""
           }
          },
          "title": {
           "x": 0.05
          },
          "xaxis": {
           "automargin": true,
           "gridcolor": "white",
           "linecolor": "white",
           "ticks": "",
           "title": {
            "standoff": 15
           },
           "zerolinecolor": "white",
           "zerolinewidth": 2
          },
          "yaxis": {
           "automargin": true,
           "gridcolor": "white",
           "linecolor": "white",
           "ticks": "",
           "title": {
            "standoff": 15
           },
           "zerolinecolor": "white",
           "zerolinewidth": 2
          }
         }
        },
        "title": {
         "text": "CHF_JPY_MA_8_16"
        },
        "width": 1000,
        "xaxis": {
         "linecolor": "#3a4a54",
         "linewidth": 1,
         "showgrid": false,
         "zeroline": false
        },
        "yaxis": {
         "linecolor": "#3a4a54",
         "linewidth": 1,
         "showgrid": false,
         "zeroline": false
        }
       }
      }
     },
     "metadata": {}
    },
    {
     "output_type": "display_data",
     "data": {
      "application/vnd.plotly.v1+json": {
       "config": {
        "plotlyServerURL": "https://plot.ly"
       },
       "data": [
        {
         "line": {
          "color": "#3d825f",
          "shape": "spline",
          "width": 2
         },
         "mode": "lines",
         "name": "CHF_JPY_GAIN",
         "type": "scatter",
         "x": [
          "2021-01-19T11:00:00+00:00",
          "2021-01-19T23:00:00+00:00",
          "2021-01-21T14:00:00+00:00",
          "2021-01-22T03:00:00+00:00",
          "2021-01-22T06:00:00+00:00",
          "2021-01-22T21:00:00+00:00",
          "2021-01-25T22:00:00+00:00",
          "2021-01-26T03:00:00+00:00",
          "2021-01-26T05:00:00+00:00",
          "2021-01-26T11:00:00+00:00",
          "2021-01-27T01:00:00+00:00",
          "2021-01-28T16:00:00+00:00",
          "2021-01-29T05:00:00+00:00",
          "2021-01-29T12:00:00+00:00",
          "2021-02-01T00:00:00+00:00",
          "2021-02-01T05:00:00+00:00",
          "2021-02-01T18:00:00+00:00",
          "2021-02-01T23:00:00+00:00",
          "2021-02-02T16:00:00+00:00",
          "2021-02-02T22:00:00+00:00",
          "2021-02-03T15:00:00+00:00",
          "2021-02-03T23:00:00+00:00",
          "2021-02-04T16:00:00+00:00",
          "2021-02-05T17:00:00+00:00",
          "2021-02-08T10:00:00+00:00",
          "2021-02-08T16:00:00+00:00",
          "2021-02-09T09:00:00+00:00",
          "2021-02-11T05:00:00+00:00",
          "2021-02-11T22:00:00+00:00",
          "2021-02-12T17:00:00+00:00",
          "2021-02-15T14:00:00+00:00",
          "2021-02-16T01:00:00+00:00",
          "2021-02-16T14:00:00+00:00",
          "2021-02-17T08:00:00+00:00",
          "2021-02-18T17:00:00+00:00",
          "2021-02-18T23:00:00+00:00",
          "2021-02-22T23:00:00+00:00",
          "2021-02-23T10:00:00+00:00",
          "2021-02-25T08:00:00+00:00",
          "2021-02-25T10:00:00+00:00",
          "2021-02-25T17:00:00+00:00",
          "2021-03-01T04:00:00+00:00",
          "2021-03-02T04:00:00+00:00",
          "2021-03-02T12:00:00+00:00",
          "2021-03-03T09:00:00+00:00",
          "2021-03-03T11:00:00+00:00",
          "2021-03-03T16:00:00+00:00",
          "2021-03-04T02:00:00+00:00",
          "2021-03-04T03:00:00+00:00",
          "2021-03-04T04:00:00+00:00",
          "2021-03-04T22:00:00+00:00",
          "2021-03-05T19:00:00+00:00",
          "2021-03-08T08:00:00+00:00",
          "2021-03-08T18:00:00+00:00",
          "2021-03-09T04:00:00+00:00",
          "2021-03-09T09:00:00+00:00",
          "2021-03-09T16:00:00+00:00",
          "2021-03-10T12:00:00+00:00",
          "2021-03-11T13:00:00+00:00",
          "2021-03-12T02:00:00+00:00",
          "2021-03-12T10:00:00+00:00",
          "2021-03-15T00:00:00+00:00",
          "2021-03-15T14:00:00+00:00",
          "2021-03-16T00:00:00+00:00",
          "2021-03-16T06:00:00+00:00",
          "2021-03-17T13:00:00+00:00",
          "2021-03-17T16:00:00+00:00",
          "2021-03-17T19:00:00+00:00",
          "2021-03-18T14:00:00+00:00",
          "2021-03-19T09:00:00+00:00",
          "2021-03-21T23:00:00+00:00",
          "2021-03-24T12:00:00+00:00",
          "2021-03-24T19:00:00+00:00",
          "2021-03-25T04:00:00+00:00",
          "2021-03-25T13:00:00+00:00",
          "2021-03-25T20:00:00+00:00",
          "2021-03-28T21:00:00+00:00",
          "2021-03-29T13:00:00+00:00",
          "2021-03-30T13:00:00+00:00",
          "2021-03-31T01:00:00+00:00",
          "2021-03-31T21:00:00+00:00",
          "2021-04-01T11:00:00+00:00",
          "2021-04-02T10:00:00+00:00",
          "2021-04-02T20:00:00+00:00",
          "2021-04-05T17:00:00+00:00",
          "2021-04-06T05:00:00+00:00",
          "2021-04-06T06:00:00+00:00",
          "2021-04-07T04:00:00+00:00",
          "2021-04-07T05:00:00+00:00",
          "2021-04-08T03:00:00+00:00",
          "2021-04-08T15:00:00+00:00",
          "2021-04-09T02:00:00+00:00",
          "2021-04-09T05:00:00+00:00",
          "2021-04-09T14:00:00+00:00",
          "2021-04-11T21:00:00+00:00",
          "2021-04-12T09:00:00+00:00",
          "2021-04-12T12:00:00+00:00",
          "2021-04-13T08:00:00+00:00",
          "2021-04-13T18:00:00+00:00",
          "2021-04-14T00:00:00+00:00",
          "2021-04-15T21:00:00+00:00",
          "2021-04-15T23:00:00+00:00",
          "2021-04-16T02:00:00+00:00",
          "2021-04-19T05:00:00+00:00",
          "2021-04-19T15:00:00+00:00",
          "2021-04-20T00:00:00+00:00",
          "2021-04-20T15:00:00+00:00",
          "2021-04-21T07:00:00+00:00",
          "2021-04-22T02:00:00+00:00",
          "2021-04-23T06:00:00+00:00",
          "2021-04-23T14:00:00+00:00",
          "2021-04-25T22:00:00+00:00",
          "2021-04-27T03:00:00+00:00",
          "2021-04-28T05:00:00+00:00",
          "2021-04-28T23:00:00+00:00",
          "2021-04-30T03:00:00+00:00",
          "2021-04-30T09:00:00+00:00",
          "2021-05-03T03:00:00+00:00",
          "2021-05-03T10:00:00+00:00",
          "2021-05-03T16:00:00+00:00",
          "2021-05-04T02:00:00+00:00",
          "2021-05-04T04:00:00+00:00",
          "2021-05-04T05:00:00+00:00",
          "2021-05-04T22:00:00+00:00",
          "2021-05-06T07:00:00+00:00",
          "2021-05-06T20:00:00+00:00",
          "2021-05-07T04:00:00+00:00",
          "2021-05-07T17:00:00+00:00",
          "2021-05-10T00:00:00+00:00",
          "2021-05-10T10:00:00+00:00",
          "2021-05-10T13:00:00+00:00",
          "2021-05-10T14:00:00+00:00",
          "2021-05-10T18:00:00+00:00",
          "2021-05-11T09:00:00+00:00",
          "2021-05-12T03:00:00+00:00",
          "2021-05-13T04:00:00+00:00",
          "2021-05-13T09:00:00+00:00",
          "2021-05-13T18:00:00+00:00",
          "2021-05-14T02:00:00+00:00",
          "2021-05-14T11:00:00+00:00",
          "2021-05-17T01:00:00+00:00",
          "2021-05-17T20:00:00+00:00",
          "2021-05-18T10:00:00+00:00",
          "2021-05-19T23:00:00+00:00",
          "2021-05-20T11:00:00+00:00",
          "2021-05-21T12:00:00+00:00",
          "2021-05-21T19:00:00+00:00",
          "2021-05-24T07:00:00+00:00",
          "2021-05-25T08:00:00+00:00",
          "2021-05-25T11:00:00+00:00",
          "2021-05-25T14:00:00+00:00",
          "2021-05-25T15:00:00+00:00",
          "2021-05-25T22:00:00+00:00",
          "2021-05-26T03:00:00+00:00",
          "2021-05-26T20:00:00+00:00",
          "2021-05-26T21:00:00+00:00",
          "2021-05-27T00:00:00+00:00",
          "2021-05-27T07:00:00+00:00",
          "2021-05-27T19:00:00+00:00",
          "2021-05-28T16:00:00+00:00",
          "2021-05-31T00:00:00+00:00",
          "2021-05-31T07:00:00+00:00",
          "2021-06-01T00:00:00+00:00",
          "2021-06-01T05:00:00+00:00",
          "2021-06-01T09:00:00+00:00",
          "2021-06-02T02:00:00+00:00",
          "2021-06-02T07:00:00+00:00",
          "2021-06-02T14:00:00+00:00",
          "2021-06-02T20:00:00+00:00",
          "2021-06-04T05:00:00+00:00",
          "2021-06-07T07:00:00+00:00",
          "2021-06-07T08:00:00+00:00",
          "2021-06-07T22:00:00+00:00",
          "2021-06-09T03:00:00+00:00",
          "2021-06-09T12:00:00+00:00",
          "2021-06-10T05:00:00+00:00",
          "2021-06-10T23:00:00+00:00",
          "2021-06-11T10:00:00+00:00",
          "2021-06-11T14:00:00+00:00",
          "2021-06-14T03:00:00+00:00",
          "2021-06-15T08:00:00+00:00",
          "2021-06-16T02:00:00+00:00",
          "2021-06-16T19:00:00+00:00",
          "2021-06-17T02:00:00+00:00",
          "2021-06-17T12:00:00+00:00",
          "2021-06-17T22:00:00+00:00",
          "2021-06-18T06:00:00+00:00",
          "2021-06-21T01:00:00+00:00",
          "2021-06-21T21:00:00+00:00",
          "2021-06-22T09:00:00+00:00",
          "2021-06-23T05:00:00+00:00",
          "2021-06-23T09:00:00+00:00",
          "2021-06-24T19:00:00+00:00",
          "2021-06-25T03:00:00+00:00",
          "2021-06-25T14:00:00+00:00",
          "2021-06-28T03:00:00+00:00",
          "2021-06-28T12:00:00+00:00",
          "2021-06-29T00:00:00+00:00",
          "2021-06-29T04:00:00+00:00",
          "2021-06-30T02:00:00+00:00",
          "2021-07-01T15:00:00+00:00",
          "2021-07-02T14:00:00+00:00",
          "2021-07-05T09:00:00+00:00",
          "2021-07-05T18:00:00+00:00",
          "2021-07-06T15:00:00+00:00",
          "2021-07-07T05:00:00+00:00",
          "2021-07-07T19:00:00+00:00",
          "2021-07-09T09:00:00+00:00",
          "2021-07-12T05:00:00+00:00",
          "2021-07-12T16:00:00+00:00",
          "2021-07-13T10:00:00+00:00",
          "2021-07-14T01:00:00+00:00",
          "2021-07-14T18:00:00+00:00",
          "2021-07-15T16:00:00+00:00",
          "2021-07-15T19:00:00+00:00",
          "2021-07-15T22:00:00+00:00",
          "2021-07-16T17:00:00+00:00",
          "2021-07-20T03:00:00+00:00",
          "2021-07-20T04:00:00+00:00",
          "2021-07-20T15:00:00+00:00",
          "2021-07-21T05:00:00+00:00",
          "2021-07-21T12:00:00+00:00",
          "2021-07-22T02:00:00+00:00",
          "2021-07-22T11:00:00+00:00",
          "2021-07-23T20:00:00+00:00",
          "2021-07-26T15:00:00+00:00",
          "2021-07-27T00:00:00+00:00",
          "2021-07-28T02:00:00+00:00",
          "2021-07-28T09:00:00+00:00",
          "2021-07-29T05:00:00+00:00",
          "2021-07-30T00:00:00+00:00",
          "2021-08-02T11:00:00+00:00",
          "2021-08-02T20:00:00+00:00",
          "2021-08-03T00:00:00+00:00",
          "2021-08-03T14:00:00+00:00",
          "2021-08-03T21:00:00+00:00",
          "2021-08-04T18:00:00+00:00",
          "2021-08-05T02:00:00+00:00",
          "2021-08-05T22:00:00+00:00",
          "2021-08-06T08:00:00+00:00",
          "2021-08-09T02:00:00+00:00",
          "2021-08-09T04:00:00+00:00",
          "2021-08-10T01:00:00+00:00",
          "2021-08-10T11:00:00+00:00",
          "2021-08-11T05:00:00+00:00",
          "2021-08-11T11:00:00+00:00",
          "2021-08-12T02:00:00+00:00",
          "2021-08-13T08:00:00+00:00",
          "2021-08-13T10:00:00+00:00",
          "2021-08-17T20:00:00+00:00",
          "2021-08-18T09:00:00+00:00",
          "2021-08-18T20:00:00+00:00",
          "2021-08-19T00:00:00+00:00",
          "2021-08-19T19:00:00+00:00",
          "2021-08-20T00:00:00+00:00",
          "2021-08-20T15:00:00+00:00",
          "2021-08-23T03:00:00+00:00",
          "2021-08-23T04:00:00+00:00",
          "2021-08-23T23:00:00+00:00",
          "2021-08-24T04:00:00+00:00",
          "2021-08-26T22:00:00+00:00",
          "2021-08-27T11:00:00+00:00",
          "2021-08-30T02:00:00+00:00",
          "2021-08-30T10:00:00+00:00",
          "2021-08-31T15:00:00+00:00",
          "2021-08-31T21:00:00+00:00",
          "2021-09-01T15:00:00+00:00",
          "2021-09-01T21:00:00+00:00",
          "2021-09-02T05:00:00+00:00",
          "2021-09-02T06:00:00+00:00",
          "2021-09-03T01:00:00+00:00",
          "2021-09-03T07:00:00+00:00",
          "2021-09-06T04:00:00+00:00",
          "2021-09-06T11:00:00+00:00",
          "2021-09-06T19:00:00+00:00"
         ],
         "y": [
          -4.699999999999704,
          41.700000000001175,
          54.100000000001366,
          48.10000000000092,
          47.80000000000118,
          78.50000000000135,
          81.90000000000143,
          77.50000000000146,
          47.800000000001184,
          45.6000000000012,
          83.30000000000172,
          74.60000000000245,
          45.70000000000297,
          46.500000000002665,
          22.50000000000198,
          27.30000000000234,
          26.50000000000265,
          32.300000000002896,
          6.700000000002831,
          21.300000000001887,
          2.600000000001504,
          -19.699999999998038,
          -37.499999999998074,
          -50.09999999999846,
          -68.89999999999839,
          -82.69999999999887,
          -36.69999999999949,
          -31.499999999999844,
          -34.89999999999991,
          -40.499999999999964,
          -53.10000000000035,
          -66.70000000000063,
          -82.70000000000108,
          -71.70000000000118,
          -80.7000000000013,
          15.699999999998525,
          -12.700000000001012,
          142.7999999999996,
          143.20000000000002,
          93.69999999999992,
          188.30000000000015,
          217.3000000000003,
          179.2000000000005,
          189.90000000000066,
          189.70000000000047,
          174.00000000000088,
          173.000000000001,
          169.50000000000028,
          168.4999999999993,
          181.09999999999857,
          185.49999999999852,
          175.09999999999923,
          168.1,
          164.2,
          141.39999999999938,
          100.99999999999895,
          78.0999999999988,
          96.69999999999852,
          99.2999999999978,
          87.4999999999971,
          78.19999999999723,
          68.69999999999717,
          65.09999999999691,
          55.899999999996595,
          70.69999999999585,
          58.89999999999515,
          22.699999999994475,
          21.099999999993983,
          42.99999999999423,
          38.99999999999467,
          159.2999999999945,
          146.6999999999941,
          134.8999999999934,
          120.69999999999253,
          101.299999999992,
          132.2999999999919,
          133.0999999999916,
          148.99999999999142,
          143.29999999999183,
          144.39999999999236,
          128.29999999999237,
          136.99999999999164,
          118.09999999999107,
          101.29999999999092,
          103.29999999999069,
          97.69999999999064,
          136.29999999999038,
          136.0999999999902,
          183.7999999999907,
          179.89999999999068,
          180.9999999999901,
          164.09999999999042,
          147.79999999999131,
          135.4999999999918,
          131.69999999999243,
          124.59999999999255,
          122.09999999999171,
          111.2999999999909,
          105.89999999998994,
          221.39999999998943,
          218.89999999998972,
          209.4999999999903,
          236.89999999999105,
          226.89999999999105,
          213.0999999999906,
          201.89999999999048,
          185.09999999999033,
          198.39999999998975,
          218.2999999999891,
          209.29999999998898,
          206.6999999999886,
          242.69999999998797,
          252.89999999998818,
          260.0999999999887,
          276.89999999998884,
          260.7999999999888,
          278.4999999999893,
          269.39999999998963,
          254.29999999998952,
          249.89999999998957,
          245.49999999998963,
          239.89999999998957,
          247.4999999999894,
          262.49999999998886,
          263.1999999999879,
          258.39999999998753,
          257.799999999988,
          260.8999999999883,
          257.5999999999878,
          250.19999999998706,
          247.49999999998712,
          234.49999999998744,
          211.49999999998775,
          187.49999999998818,
          223.5999999999882,
          208.29999999998788,
          191.59999999998726,
          179.69999999998703,
          148.59999999998757,
          133.29999999998836,
          140.89999999998818,
          146.09999999998783,
          186.3999999999876,
          181.6999999999868,
          173.7999999999861,
          128.69999999998598,
          110.89999999998594,
          123.09999999998593,
          101.49999999998653,
          98.09999999998647,
          105.69999999998629,
          100.49999999998664,
          30.89999999998699,
          31.29999999998739,
          28.799999999987662,
          20.89999999998809,
          0.4999999999887841,
          -9.40000000001057,
          3.699999999989764,
          -11.20000000001015,
          -30.500000000010022,
          -25.700000000009663,
          -29.100000000009732,
          -40.700000000010235,
          -27.500000000010356,
          -49.8000000000099,
          -64.10000000000922,
          -75.10000000000912,
          -41.70000000000902,
          -22.400000000009147,
          -28.50000000000914,
          -29.70000000000812,
          9.89999999999262,
          -0.10000000000738929,
          0.8999999999925006,
          -5.900000000007639,
          -10.300000000007598,
          -38.90000000000733,
          -48.30000000000785,
          -57.00000000000822,
          -65.5000000000084,
          -74.70000000000871,
          -104.10000000000925,
          -133.20000000001005,
          -163.70000000001002,
          -194.10000000000935,
          -198.3000000000091,
          -193.90000000000916,
          -201.60000000000852,
          -184.80000000000837,
          -203.50000000000875,
          -176.10000000000912,
          -181.30000000000987,
          -185.70000000000982,
          -192.0000000000089,
          -210.70000000000817,
          -218.1000000000078,
          -234.6000000000082,
          -216.70000000000863,
          -207.5000000000083,
          -212.10000000000846,
          -205.10000000000923,
          -212.2000000000091,
          -208.9000000000086,
          -219.300000000009,
          -220.00000000000915,
          -99.1000000000087,
          -82.00000000000881,
          -87.80000000000906,
          -84.10000000000925,
          -90.20000000000924,
          -61.10000000000956,
          -50.10000000000966,
          -63.70000000000883,
          -91.10000000000848,
          -77.9000000000086,
          9.899999999991493,
          -7.800000000007888,
          -39.6000000000075,
          -52.30000000000743,
          -77.20000000000735,
          -84.20000000000769,
          -109.10000000000761,
          -100.1000000000075,
          -101.60000000000733,
          -107.70000000000732,
          -65.5000000000073,
          -78.10000000000659,
          -63.10000000000602,
          -55.20000000000533,
          -24.90000000000445,
          -29.9000000000039,
          -51.60000000000395,
          -53.500000000004185,
          -70.10000000000413,
          -29.60000000000415,
          -40.70000000000471,
          -45.90000000000546,
          -56.20000000000633,
          -38.000000000007,
          -39.40000000000729,
          -44.600000000006936,
          -84.90000000000671,
          -80.0000000000068,
          -89.00000000000692,
          -71.50000000000662,
          -46.90000000000644,
          -52.700000000006696,
          75.29999999999364,
          43.69999999999424,
          29.29999999999427,
          8.199999999993707,
          26.69999999999389,
          26.299999999994597,
          31.7999999999951,
          34.09999999999574,
          35.49999999999603,
          55.49999999999605,
          42.49999999999637,
          120.09999999999624,
          122.29999999999622,
          115.59999999999673,
          81.69999999999669,
          128.5999999999964,
          132.79999999999617,
          149.29999999999546,
          142.79999999999507,
          148.29999999999558,
          144.6999999999964,
          165.19999999999638,
          150.49999999999557,
          164.69999999999533,
          148.29999999999558,
          134.8999999999955,
          143.0999999999948
         ]
        }
       ],
       "layout": {
        "font": {
         "color": "#e1e1e1",
         "size": 10
        },
        "height": 400,
        "margin": {
         "b": 10,
         "l": 15,
         "r": 15
        },
        "paper_bgcolor": "#1e1e1e",
        "plot_bgcolor": "#1e1e1e",
        "template": {
         "data": {
          "bar": [
           {
            "error_x": {
             "color": "#2a3f5f"
            },
            "error_y": {
             "color": "#2a3f5f"
            },
            "marker": {
             "line": {
              "color": "#E5ECF6",
              "width": 0.5
             },
             "pattern": {
              "fillmode": "overlay",
              "size": 10,
              "solidity": 0.2
             }
            },
            "type": "bar"
           }
          ],
          "barpolar": [
           {
            "marker": {
             "line": {
              "color": "#E5ECF6",
              "width": 0.5
             },
             "pattern": {
              "fillmode": "overlay",
              "size": 10,
              "solidity": 0.2
             }
            },
            "type": "barpolar"
           }
          ],
          "carpet": [
           {
            "aaxis": {
             "endlinecolor": "#2a3f5f",
             "gridcolor": "white",
             "linecolor": "white",
             "minorgridcolor": "white",
             "startlinecolor": "#2a3f5f"
            },
            "baxis": {
             "endlinecolor": "#2a3f5f",
             "gridcolor": "white",
             "linecolor": "white",
             "minorgridcolor": "white",
             "startlinecolor": "#2a3f5f"
            },
            "type": "carpet"
           }
          ],
          "choropleth": [
           {
            "colorbar": {
             "outlinewidth": 0,
             "ticks": ""
            },
            "type": "choropleth"
           }
          ],
          "contour": [
           {
            "colorbar": {
             "outlinewidth": 0,
             "ticks": ""
            },
            "colorscale": [
             [
              0,
              "#0d0887"
             ],
             [
              0.1111111111111111,
              "#46039f"
             ],
             [
              0.2222222222222222,
              "#7201a8"
             ],
             [
              0.3333333333333333,
              "#9c179e"
             ],
             [
              0.4444444444444444,
              "#bd3786"
             ],
             [
              0.5555555555555556,
              "#d8576b"
             ],
             [
              0.6666666666666666,
              "#ed7953"
             ],
             [
              0.7777777777777778,
              "#fb9f3a"
             ],
             [
              0.8888888888888888,
              "#fdca26"
             ],
             [
              1,
              "#f0f921"
             ]
            ],
            "type": "contour"
           }
          ],
          "contourcarpet": [
           {
            "colorbar": {
             "outlinewidth": 0,
             "ticks": ""
            },
            "type": "contourcarpet"
           }
          ],
          "heatmap": [
           {
            "colorbar": {
             "outlinewidth": 0,
             "ticks": ""
            },
            "colorscale": [
             [
              0,
              "#0d0887"
             ],
             [
              0.1111111111111111,
              "#46039f"
             ],
             [
              0.2222222222222222,
              "#7201a8"
             ],
             [
              0.3333333333333333,
              "#9c179e"
             ],
             [
              0.4444444444444444,
              "#bd3786"
             ],
             [
              0.5555555555555556,
              "#d8576b"
             ],
             [
              0.6666666666666666,
              "#ed7953"
             ],
             [
              0.7777777777777778,
              "#fb9f3a"
             ],
             [
              0.8888888888888888,
              "#fdca26"
             ],
             [
              1,
              "#f0f921"
             ]
            ],
            "type": "heatmap"
           }
          ],
          "heatmapgl": [
           {
            "colorbar": {
             "outlinewidth": 0,
             "ticks": ""
            },
            "colorscale": [
             [
              0,
              "#0d0887"
             ],
             [
              0.1111111111111111,
              "#46039f"
             ],
             [
              0.2222222222222222,
              "#7201a8"
             ],
             [
              0.3333333333333333,
              "#9c179e"
             ],
             [
              0.4444444444444444,
              "#bd3786"
             ],
             [
              0.5555555555555556,
              "#d8576b"
             ],
             [
              0.6666666666666666,
              "#ed7953"
             ],
             [
              0.7777777777777778,
              "#fb9f3a"
             ],
             [
              0.8888888888888888,
              "#fdca26"
             ],
             [
              1,
              "#f0f921"
             ]
            ],
            "type": "heatmapgl"
           }
          ],
          "histogram": [
           {
            "marker": {
             "pattern": {
              "fillmode": "overlay",
              "size": 10,
              "solidity": 0.2
             }
            },
            "type": "histogram"
           }
          ],
          "histogram2d": [
           {
            "colorbar": {
             "outlinewidth": 0,
             "ticks": ""
            },
            "colorscale": [
             [
              0,
              "#0d0887"
             ],
             [
              0.1111111111111111,
              "#46039f"
             ],
             [
              0.2222222222222222,
              "#7201a8"
             ],
             [
              0.3333333333333333,
              "#9c179e"
             ],
             [
              0.4444444444444444,
              "#bd3786"
             ],
             [
              0.5555555555555556,
              "#d8576b"
             ],
             [
              0.6666666666666666,
              "#ed7953"
             ],
             [
              0.7777777777777778,
              "#fb9f3a"
             ],
             [
              0.8888888888888888,
              "#fdca26"
             ],
             [
              1,
              "#f0f921"
             ]
            ],
            "type": "histogram2d"
           }
          ],
          "histogram2dcontour": [
           {
            "colorbar": {
             "outlinewidth": 0,
             "ticks": ""
            },
            "colorscale": [
             [
              0,
              "#0d0887"
             ],
             [
              0.1111111111111111,
              "#46039f"
             ],
             [
              0.2222222222222222,
              "#7201a8"
             ],
             [
              0.3333333333333333,
              "#9c179e"
             ],
             [
              0.4444444444444444,
              "#bd3786"
             ],
             [
              0.5555555555555556,
              "#d8576b"
             ],
             [
              0.6666666666666666,
              "#ed7953"
             ],
             [
              0.7777777777777778,
              "#fb9f3a"
             ],
             [
              0.8888888888888888,
              "#fdca26"
             ],
             [
              1,
              "#f0f921"
             ]
            ],
            "type": "histogram2dcontour"
           }
          ],
          "mesh3d": [
           {
            "colorbar": {
             "outlinewidth": 0,
             "ticks": ""
            },
            "type": "mesh3d"
           }
          ],
          "parcoords": [
           {
            "line": {
             "colorbar": {
              "outlinewidth": 0,
              "ticks": ""
             }
            },
            "type": "parcoords"
           }
          ],
          "pie": [
           {
            "automargin": true,
            "type": "pie"
           }
          ],
          "scatter": [
           {
            "marker": {
             "colorbar": {
              "outlinewidth": 0,
              "ticks": ""
             }
            },
            "type": "scatter"
           }
          ],
          "scatter3d": [
           {
            "line": {
             "colorbar": {
              "outlinewidth": 0,
              "ticks": ""
             }
            },
            "marker": {
             "colorbar": {
              "outlinewidth": 0,
              "ticks": ""
             }
            },
            "type": "scatter3d"
           }
          ],
          "scattercarpet": [
           {
            "marker": {
             "colorbar": {
              "outlinewidth": 0,
              "ticks": ""
             }
            },
            "type": "scattercarpet"
           }
          ],
          "scattergeo": [
           {
            "marker": {
             "colorbar": {
              "outlinewidth": 0,
              "ticks": ""
             }
            },
            "type": "scattergeo"
           }
          ],
          "scattergl": [
           {
            "marker": {
             "colorbar": {
              "outlinewidth": 0,
              "ticks": ""
             }
            },
            "type": "scattergl"
           }
          ],
          "scattermapbox": [
           {
            "marker": {
             "colorbar": {
              "outlinewidth": 0,
              "ticks": ""
             }
            },
            "type": "scattermapbox"
           }
          ],
          "scatterpolar": [
           {
            "marker": {
             "colorbar": {
              "outlinewidth": 0,
              "ticks": ""
             }
            },
            "type": "scatterpolar"
           }
          ],
          "scatterpolargl": [
           {
            "marker": {
             "colorbar": {
              "outlinewidth": 0,
              "ticks": ""
             }
            },
            "type": "scatterpolargl"
           }
          ],
          "scatterternary": [
           {
            "marker": {
             "colorbar": {
              "outlinewidth": 0,
              "ticks": ""
             }
            },
            "type": "scatterternary"
           }
          ],
          "surface": [
           {
            "colorbar": {
             "outlinewidth": 0,
             "ticks": ""
            },
            "colorscale": [
             [
              0,
              "#0d0887"
             ],
             [
              0.1111111111111111,
              "#46039f"
             ],
             [
              0.2222222222222222,
              "#7201a8"
             ],
             [
              0.3333333333333333,
              "#9c179e"
             ],
             [
              0.4444444444444444,
              "#bd3786"
             ],
             [
              0.5555555555555556,
              "#d8576b"
             ],
             [
              0.6666666666666666,
              "#ed7953"
             ],
             [
              0.7777777777777778,
              "#fb9f3a"
             ],
             [
              0.8888888888888888,
              "#fdca26"
             ],
             [
              1,
              "#f0f921"
             ]
            ],
            "type": "surface"
           }
          ],
          "table": [
           {
            "cells": {
             "fill": {
              "color": "#EBF0F8"
             },
             "line": {
              "color": "white"
             }
            },
            "header": {
             "fill": {
              "color": "#C8D4E3"
             },
             "line": {
              "color": "white"
             }
            },
            "type": "table"
           }
          ]
         },
         "layout": {
          "annotationdefaults": {
           "arrowcolor": "#2a3f5f",
           "arrowhead": 0,
           "arrowwidth": 1
          },
          "autotypenumbers": "strict",
          "coloraxis": {
           "colorbar": {
            "outlinewidth": 0,
            "ticks": ""
           }
          },
          "colorscale": {
           "diverging": [
            [
             0,
             "#8e0152"
            ],
            [
             0.1,
             "#c51b7d"
            ],
            [
             0.2,
             "#de77ae"
            ],
            [
             0.3,
             "#f1b6da"
            ],
            [
             0.4,
             "#fde0ef"
            ],
            [
             0.5,
             "#f7f7f7"
            ],
            [
             0.6,
             "#e6f5d0"
            ],
            [
             0.7,
             "#b8e186"
            ],
            [
             0.8,
             "#7fbc41"
            ],
            [
             0.9,
             "#4d9221"
            ],
            [
             1,
             "#276419"
            ]
           ],
           "sequential": [
            [
             0,
             "#0d0887"
            ],
            [
             0.1111111111111111,
             "#46039f"
            ],
            [
             0.2222222222222222,
             "#7201a8"
            ],
            [
             0.3333333333333333,
             "#9c179e"
            ],
            [
             0.4444444444444444,
             "#bd3786"
            ],
            [
             0.5555555555555556,
             "#d8576b"
            ],
            [
             0.6666666666666666,
             "#ed7953"
            ],
            [
             0.7777777777777778,
             "#fb9f3a"
            ],
            [
             0.8888888888888888,
             "#fdca26"
            ],
            [
             1,
             "#f0f921"
            ]
           ],
           "sequentialminus": [
            [
             0,
             "#0d0887"
            ],
            [
             0.1111111111111111,
             "#46039f"
            ],
            [
             0.2222222222222222,
             "#7201a8"
            ],
            [
             0.3333333333333333,
             "#9c179e"
            ],
            [
             0.4444444444444444,
             "#bd3786"
            ],
            [
             0.5555555555555556,
             "#d8576b"
            ],
            [
             0.6666666666666666,
             "#ed7953"
            ],
            [
             0.7777777777777778,
             "#fb9f3a"
            ],
            [
             0.8888888888888888,
             "#fdca26"
            ],
            [
             1,
             "#f0f921"
            ]
           ]
          },
          "colorway": [
           "#636efa",
           "#EF553B",
           "#00cc96",
           "#ab63fa",
           "#FFA15A",
           "#19d3f3",
           "#FF6692",
           "#B6E880",
           "#FF97FF",
           "#FECB52"
          ],
          "font": {
           "color": "#2a3f5f"
          },
          "geo": {
           "bgcolor": "white",
           "lakecolor": "white",
           "landcolor": "#E5ECF6",
           "showlakes": true,
           "showland": true,
           "subunitcolor": "white"
          },
          "hoverlabel": {
           "align": "left"
          },
          "hovermode": "closest",
          "mapbox": {
           "style": "light"
          },
          "paper_bgcolor": "white",
          "plot_bgcolor": "#E5ECF6",
          "polar": {
           "angularaxis": {
            "gridcolor": "white",
            "linecolor": "white",
            "ticks": ""
           },
           "bgcolor": "#E5ECF6",
           "radialaxis": {
            "gridcolor": "white",
            "linecolor": "white",
            "ticks": ""
           }
          },
          "scene": {
           "xaxis": {
            "backgroundcolor": "#E5ECF6",
            "gridcolor": "white",
            "gridwidth": 2,
            "linecolor": "white",
            "showbackground": true,
            "ticks": "",
            "zerolinecolor": "white"
           },
           "yaxis": {
            "backgroundcolor": "#E5ECF6",
            "gridcolor": "white",
            "gridwidth": 2,
            "linecolor": "white",
            "showbackground": true,
            "ticks": "",
            "zerolinecolor": "white"
           },
           "zaxis": {
            "backgroundcolor": "#E5ECF6",
            "gridcolor": "white",
            "gridwidth": 2,
            "linecolor": "white",
            "showbackground": true,
            "ticks": "",
            "zerolinecolor": "white"
           }
          },
          "shapedefaults": {
           "line": {
            "color": "#2a3f5f"
           }
          },
          "ternary": {
           "aaxis": {
            "gridcolor": "white",
            "linecolor": "white",
            "ticks": ""
           },
           "baxis": {
            "gridcolor": "white",
            "linecolor": "white",
            "ticks": ""
           },
           "bgcolor": "#E5ECF6",
           "caxis": {
            "gridcolor": "white",
            "linecolor": "white",
            "ticks": ""
           }
          },
          "title": {
           "x": 0.05
          },
          "xaxis": {
           "automargin": true,
           "gridcolor": "white",
           "linecolor": "white",
           "ticks": "",
           "title": {
            "standoff": 15
           },
           "zerolinecolor": "white",
           "zerolinewidth": 2
          },
          "yaxis": {
           "automargin": true,
           "gridcolor": "white",
           "linecolor": "white",
           "ticks": "",
           "title": {
            "standoff": 15
           },
           "zerolinecolor": "white",
           "zerolinewidth": 2
          }
         }
        },
        "title": {
         "text": "NZD_CHF_MA_8_16"
        },
        "width": 1000,
        "xaxis": {
         "linecolor": "#3a4a54",
         "linewidth": 1,
         "showgrid": false,
         "zeroline": false
        },
        "yaxis": {
         "linecolor": "#3a4a54",
         "linewidth": 1,
         "showgrid": false,
         "zeroline": false
        }
       }
      }
     },
     "metadata": {}
    },
    {
     "output_type": "display_data",
     "data": {
      "application/vnd.plotly.v1+json": {
       "config": {
        "plotlyServerURL": "https://plot.ly"
       },
       "data": [
        {
         "line": {
          "color": "#3d825f",
          "shape": "spline",
          "width": 2
         },
         "mode": "lines",
         "name": "CHF_JPY_GAIN",
         "type": "scatter",
         "x": [
          "2021-01-19T14:00:00+00:00",
          "2021-01-20T03:00:00+00:00",
          "2021-01-21T17:00:00+00:00",
          "2021-01-22T00:00:00+00:00",
          "2021-01-22T07:00:00+00:00",
          "2021-01-22T17:00:00+00:00",
          "2021-01-25T17:00:00+00:00",
          "2021-01-26T12:00:00+00:00",
          "2021-01-27T03:00:00+00:00",
          "2021-01-28T16:00:00+00:00",
          "2021-01-29T05:00:00+00:00",
          "2021-01-29T09:00:00+00:00",
          "2021-01-31T23:00:00+00:00",
          "2021-02-01T07:00:00+00:00",
          "2021-02-01T15:00:00+00:00",
          "2021-02-02T04:00:00+00:00",
          "2021-02-02T15:00:00+00:00",
          "2021-02-02T23:00:00+00:00",
          "2021-02-03T13:00:00+00:00",
          "2021-02-03T23:00:00+00:00",
          "2021-02-04T10:00:00+00:00",
          "2021-02-05T12:00:00+00:00",
          "2021-02-08T12:00:00+00:00",
          "2021-02-08T19:00:00+00:00",
          "2021-02-09T08:00:00+00:00",
          "2021-02-10T00:00:00+00:00",
          "2021-02-10T05:00:00+00:00",
          "2021-02-11T08:00:00+00:00",
          "2021-02-12T00:00:00+00:00",
          "2021-02-12T17:00:00+00:00",
          "2021-02-15T18:00:00+00:00",
          "2021-02-15T19:00:00+00:00",
          "2021-02-16T14:00:00+00:00",
          "2021-02-17T01:00:00+00:00",
          "2021-02-17T02:00:00+00:00",
          "2021-02-18T00:00:00+00:00",
          "2021-02-18T20:00:00+00:00",
          "2021-02-18T22:00:00+00:00",
          "2021-02-22T13:00:00+00:00",
          "2021-02-23T11:00:00+00:00",
          "2021-02-25T18:00:00+00:00",
          "2021-03-01T04:00:00+00:00",
          "2021-03-01T12:00:00+00:00",
          "2021-03-01T18:00:00+00:00",
          "2021-03-02T04:00:00+00:00",
          "2021-03-02T15:00:00+00:00",
          "2021-03-03T14:00:00+00:00",
          "2021-03-04T06:00:00+00:00",
          "2021-03-04T20:00:00+00:00",
          "2021-03-05T20:00:00+00:00",
          "2021-03-08T08:00:00+00:00",
          "2021-03-08T18:00:00+00:00",
          "2021-03-09T19:00:00+00:00",
          "2021-03-10T02:00:00+00:00",
          "2021-03-10T07:00:00+00:00",
          "2021-03-10T12:00:00+00:00",
          "2021-03-11T17:00:00+00:00",
          "2021-03-12T00:00:00+00:00",
          "2021-03-12T09:00:00+00:00",
          "2021-03-14T21:00:00+00:00",
          "2021-03-15T14:00:00+00:00",
          "2021-03-15T22:00:00+00:00",
          "2021-03-16T08:00:00+00:00",
          "2021-03-16T23:00:00+00:00",
          "2021-03-17T07:00:00+00:00",
          "2021-03-17T19:00:00+00:00",
          "2021-03-18T11:00:00+00:00",
          "2021-03-22T11:00:00+00:00",
          "2021-03-22T23:00:00+00:00",
          "2021-03-24T13:00:00+00:00",
          "2021-03-24T21:00:00+00:00",
          "2021-03-25T04:00:00+00:00",
          "2021-03-25T16:00:00+00:00",
          "2021-03-26T01:00:00+00:00",
          "2021-03-29T02:00:00+00:00",
          "2021-03-29T13:00:00+00:00",
          "2021-03-30T14:00:00+00:00",
          "2021-03-31T00:00:00+00:00",
          "2021-03-31T20:00:00+00:00",
          "2021-04-01T12:00:00+00:00",
          "2021-04-02T10:00:00+00:00",
          "2021-04-02T18:00:00+00:00",
          "2021-04-05T06:00:00+00:00",
          "2021-04-05T10:00:00+00:00",
          "2021-04-05T20:00:00+00:00",
          "2021-04-06T02:00:00+00:00",
          "2021-04-06T06:00:00+00:00",
          "2021-04-06T23:00:00+00:00",
          "2021-04-07T06:00:00+00:00",
          "2021-04-08T06:00:00+00:00",
          "2021-04-08T13:00:00+00:00",
          "2021-04-08T20:00:00+00:00",
          "2021-04-09T06:00:00+00:00",
          "2021-04-09T12:00:00+00:00",
          "2021-04-11T22:00:00+00:00",
          "2021-04-13T09:00:00+00:00",
          "2021-04-13T10:00:00+00:00",
          "2021-04-13T19:00:00+00:00",
          "2021-04-15T04:00:00+00:00",
          "2021-04-15T06:00:00+00:00",
          "2021-04-16T04:00:00+00:00",
          "2021-04-16T11:00:00+00:00",
          "2021-04-16T13:00:00+00:00",
          "2021-04-19T09:00:00+00:00",
          "2021-04-19T18:00:00+00:00",
          "2021-04-20T01:00:00+00:00",
          "2021-04-20T15:00:00+00:00",
          "2021-04-21T09:00:00+00:00",
          "2021-04-22T03:00:00+00:00",
          "2021-04-23T07:00:00+00:00",
          "2021-04-23T15:00:00+00:00",
          "2021-04-23T18:00:00+00:00",
          "2021-04-27T05:00:00+00:00",
          "2021-04-27T16:00:00+00:00",
          "2021-04-29T18:00:00+00:00",
          "2021-04-30T03:00:00+00:00",
          "2021-04-30T07:00:00+00:00",
          "2021-05-03T03:00:00+00:00",
          "2021-05-03T14:00:00+00:00",
          "2021-05-03T20:00:00+00:00",
          "2021-05-04T02:00:00+00:00",
          "2021-05-04T22:00:00+00:00",
          "2021-05-06T08:00:00+00:00",
          "2021-05-06T18:00:00+00:00",
          "2021-05-07T09:00:00+00:00",
          "2021-05-07T16:00:00+00:00",
          "2021-05-10T19:00:00+00:00",
          "2021-05-11T09:00:00+00:00",
          "2021-05-11T14:00:00+00:00",
          "2021-05-13T03:00:00+00:00",
          "2021-05-13T09:00:00+00:00",
          "2021-05-13T17:00:00+00:00",
          "2021-05-14T03:00:00+00:00",
          "2021-05-14T06:00:00+00:00",
          "2021-05-17T02:00:00+00:00",
          "2021-05-17T20:00:00+00:00",
          "2021-05-18T16:00:00+00:00",
          "2021-05-20T02:00:00+00:00",
          "2021-05-20T15:00:00+00:00",
          "2021-05-20T16:00:00+00:00",
          "2021-05-21T00:00:00+00:00",
          "2021-05-21T13:00:00+00:00",
          "2021-05-21T19:00:00+00:00",
          "2021-05-24T11:00:00+00:00",
          "2021-05-25T20:00:00+00:00",
          "2021-05-26T03:00:00+00:00",
          "2021-05-26T18:00:00+00:00",
          "2021-05-27T06:00:00+00:00",
          "2021-05-28T03:00:00+00:00",
          "2021-05-31T09:00:00+00:00",
          "2021-06-01T03:00:00+00:00",
          "2021-06-02T02:00:00+00:00",
          "2021-06-02T09:00:00+00:00",
          "2021-06-04T04:00:00+00:00",
          "2021-06-07T07:00:00+00:00",
          "2021-06-07T14:00:00+00:00",
          "2021-06-08T00:00:00+00:00",
          "2021-06-09T04:00:00+00:00",
          "2021-06-09T14:00:00+00:00",
          "2021-06-10T07:00:00+00:00",
          "2021-06-10T22:00:00+00:00",
          "2021-06-11T08:00:00+00:00",
          "2021-06-11T12:00:00+00:00",
          "2021-06-14T02:00:00+00:00",
          "2021-06-15T12:00:00+00:00",
          "2021-06-16T01:00:00+00:00",
          "2021-06-16T14:00:00+00:00",
          "2021-06-17T04:00:00+00:00",
          "2021-06-17T10:00:00+00:00",
          "2021-06-21T03:00:00+00:00",
          "2021-06-21T08:00:00+00:00",
          "2021-06-21T09:00:00+00:00",
          "2021-06-21T10:00:00+00:00",
          "2021-06-21T11:00:00+00:00",
          "2021-06-22T05:00:00+00:00",
          "2021-06-22T11:00:00+00:00",
          "2021-06-23T05:00:00+00:00",
          "2021-06-23T08:00:00+00:00",
          "2021-06-24T15:00:00+00:00",
          "2021-06-24T16:00:00+00:00",
          "2021-06-25T13:00:00+00:00",
          "2021-06-30T02:00:00+00:00",
          "2021-06-30T10:00:00+00:00",
          "2021-06-30T16:00:00+00:00",
          "2021-07-01T20:00:00+00:00",
          "2021-07-02T15:00:00+00:00",
          "2021-07-05T06:00:00+00:00",
          "2021-07-05T20:00:00+00:00",
          "2021-07-06T14:00:00+00:00",
          "2021-07-07T06:00:00+00:00",
          "2021-07-07T18:00:00+00:00",
          "2021-07-09T08:00:00+00:00",
          "2021-07-12T05:00:00+00:00",
          "2021-07-12T16:00:00+00:00",
          "2021-07-13T10:00:00+00:00",
          "2021-07-14T01:00:00+00:00",
          "2021-07-14T16:00:00+00:00",
          "2021-07-16T02:00:00+00:00",
          "2021-07-16T18:00:00+00:00",
          "2021-07-20T02:00:00+00:00",
          "2021-07-20T04:00:00+00:00",
          "2021-07-20T16:00:00+00:00",
          "2021-07-21T07:00:00+00:00",
          "2021-07-21T10:00:00+00:00",
          "2021-07-22T03:00:00+00:00",
          "2021-07-22T11:00:00+00:00",
          "2021-07-26T00:00:00+00:00",
          "2021-07-26T14:00:00+00:00",
          "2021-07-27T03:00:00+00:00",
          "2021-07-28T03:00:00+00:00",
          "2021-07-28T10:00:00+00:00",
          "2021-07-28T22:00:00+00:00",
          "2021-07-29T22:00:00+00:00",
          "2021-07-30T11:00:00+00:00",
          "2021-07-30T16:00:00+00:00",
          "2021-08-02T12:00:00+00:00",
          "2021-08-02T15:00:00+00:00",
          "2021-08-03T02:00:00+00:00",
          "2021-08-03T14:00:00+00:00",
          "2021-08-03T21:00:00+00:00",
          "2021-08-06T02:00:00+00:00",
          "2021-08-06T12:00:00+00:00",
          "2021-08-06T17:00:00+00:00",
          "2021-08-09T06:00:00+00:00",
          "2021-08-09T14:00:00+00:00",
          "2021-08-10T11:00:00+00:00",
          "2021-08-12T01:00:00+00:00",
          "2021-08-13T04:00:00+00:00",
          "2021-08-13T07:00:00+00:00",
          "2021-08-17T21:00:00+00:00",
          "2021-08-18T10:00:00+00:00",
          "2021-08-19T20:00:00+00:00",
          "2021-08-19T23:00:00+00:00",
          "2021-08-20T16:00:00+00:00",
          "2021-08-24T01:00:00+00:00",
          "2021-08-24T04:00:00+00:00",
          "2021-08-25T04:00:00+00:00",
          "2021-08-25T08:00:00+00:00",
          "2021-08-26T04:00:00+00:00",
          "2021-08-26T12:00:00+00:00",
          "2021-08-26T18:00:00+00:00",
          "2021-08-27T09:00:00+00:00",
          "2021-08-30T04:00:00+00:00",
          "2021-08-30T13:00:00+00:00",
          "2021-08-31T18:00:00+00:00",
          "2021-08-31T22:00:00+00:00",
          "2021-09-01T17:00:00+00:00",
          "2021-09-01T23:00:00+00:00",
          "2021-09-02T01:00:00+00:00",
          "2021-09-02T07:00:00+00:00",
          "2021-09-03T03:00:00+00:00",
          "2021-09-03T04:00:00+00:00",
          "2021-09-06T05:00:00+00:00",
          "2021-09-07T02:00:00+00:00",
          "2021-09-07T04:00:00+00:00",
          "2021-09-07T17:00:00+00:00",
          "2021-09-07T18:00:00+00:00"
         ],
         "y": [
          -8.500000000000796,
          33.29999999999842,
          0.3999999999976467,
          -26.200000000002888,
          -29.9000000000035,
          -13.600000000003831,
          -46.20000000000317,
          -45.50000000000267,
          -25.40000000000333,
          -30.200000000003513,
          -69.30000000000263,
          -81.2000000000026,
          -110.6000000000023,
          -130.00000000000114,
          -146.0000000000008,
          -164.00000000000148,
          -208.2000000000022,
          -197.4000000000018,
          -214.200000000001,
          -233.20000000000078,
          -223.90000000000043,
          -196.20000000000033,
          -215.70000000000107,
          -220.60000000000173,
          -190.40000000000248,
          -191.80000000000348,
          -188.4000000000043,
          -180.60000000000542,
          -189.80000000000672,
          -146.3000000000079,
          -142.60000000000872,
          -138.20000000000903,
          -144.10000000000878,
          -143.0000000000078,
          -122.00000000000699,
          -103.40000000000629,
          -108.400000000006,
          -21.600000000006503,
          -15.200000000007208,
          99.49999999999193,
          186.69999999999192,
          173.19999999999283,
          133.89999999999276,
          104.79999999999166,
          72.79999999999092,
          63.799999999990575,
          37.19999999999004,
          11.099999999989052,
          3.7999999999883016,
          -28.600000000011505,
          -58.20000000001073,
          -42.60000000001014,
          -40.400000000009584,
          -35.40000000000987,
          -45.600000000010255,
          -9.600000000010311,
          -30.000000000011084,
          -50.500000000010914,
          -49.90000000001089,
          -31.90000000001163,
          -44.30000000001115,
          -60.40000000000987,
          -60.00000000000938,
          -64.60000000001003,
          -108.00000000000978,
          -110.20000000000891,
          -36.200000000009425,
          -83.6000000000098,
          85.99999999999,
          74.39999999999003,
          48.39999999999094,
          32.39999999999128,
          1.2999999999905754,
          39.799999999989666,
          23.399999999989518,
          53.59999999999019,
          22.29999999999137,
          20.99999999999227,
          11.999999999991928,
          38.59999999999104,
          32.79999999999035,
          26.199999999990098,
          5.399999999990257,
          -4.700000000009652,
          -4.700000000009652,
          -15.20000000001005,
          -2.100000000010027,
          -24.000000000009436,
          -7.0000000000092655,
          -27.200000000009084,
          -44.0000000000083,
          -77.70000000000721,
          -129.0000000000063,
          -136.90000000000566,
          -104.40000000000538,
          -108.90000000000555,
          -119.70000000000596,
          -41.2000000000063,
          -58.50000000000648,
          -56.80000000000689,
          -61.40000000000754,
          -80.8000000000078,
          -76.1000000000081,
          -86.40000000000896,
          -119.20000000000925,
          -150.90000000000856,
          -147.0000000000084,
          -136.20000000000942,
          -120.00000000001023,
          -125.40000000001044,
          -145.40000000001072,
          -91.40000000001152,
          -99.80000000001183,
          -41.60000000001105,
          -42.100000000010596,
          -52.40000000001004,
          -32.000000000009265,
          -47.10000000000889,
          -53.10000000000912,
          -60.200000000010334,
          -54.00000000001057,
          -23.50000000000989,
          -32.000000000009265,
          -30.600000000008265,
          -61.800000000008026,
          -62.00000000000898,
          -79.30000000000916,
          -123.1000000000094,
          -105.80000000001064,
          -133.60000000001122,
          -150.40000000001186,
          -143.60000000001207,
          -151.6000000000119,
          -123.20000000001272,
          -98.10000000001367,
          -76.30000000001473,
          -3.7000000000148248,
          19.39999999998605,
          33.59999999998564,
          26.499999999984425,
          15.599999999983538,
          -14.700000000016189,
          -31.400000000014927,
          10.599999999985243,
          -77.70000000001573,
          -72.8000000000165,
          -78.40000000001623,
          -42.40000000001629,
          -6.200000000016814,
          3.7999999999826173,
          11.99999999998198,
          -23.600000000017474,
          20.39999999998372,
          27.799999999984948,
          15.399999999985425,
          18.799999999984607,
          40.09999999998399,
          19.799999999983697,
          23.999999999983856,
          32.59999999998371,
          17.499999999982663,
          -20.800000000018315,
          -13.800000000018997,
          -7.400000000019702,
          -15.400000000020952,
          -19.00000000002109,
          -14.400000000020441,
          -91.70000000002005,
          38.199999999980605,
          54.899999999980764,
          30.899999999979855,
          28.59999999997882,
          27.19999999997782,
          43.599999999976546,
          13.59999999997541,
          50.99999999997493,
          6.399999999975137,
          17.899999999976046,
          8.199999999976626,
          20.19999999997708,
          123.59999999997768,
          104.79999999997744,
          67.59999999997746,
          87.19999999997725,
          64.49999999997686,
          65.3999999999769,
          64.99999999997641,
          12.599999999976319,
          -25.60000000002276,
          -46.900000000022146,
          63.99999999997732,
          104.79999999997744,
          91.19999999997788,
          82.79999999997756,
          77.39999999997735,
          106.19999999997702,
          134.39999999997667,
          145.19999999997708,
          259.5999999999776,
          215.29999999997784,
          168.7999999999775,
          172.99999999997624,
          155.59999999997558,
          190.19999999997594,
          160.99999999997578,
          168.3999999999756,
          136.79999999997534,
          118.39999999997417,
          188.1999999999735,
          180.69999999997322,
          162.59999999997348,
          193.09999999997416,
          201.89999999997497,
          186.99999999997488,
          204.59999999997365,
          181.19999999997276,
          162.0999999999725,
          155.3999999999732,
          128.59999999997314,
          213.7999999999721,
          200.9999999999721,
          179.19999999997316,
          182.39999999997423,
          173.59999999997484,
          158.5999999999757,
          187.09999999997677,
          215.19999999997736,
          210.39999999997718,
          352.8999999999769,
          328.69999999997646,
          393.7999999999761,
          381.8999999999761,
          360.1999999999762,
          413.59999999997683,
          398.5999999999777,
          445.1999999999785,
          432.799999999979,
          457.9999999999785,
          447.1999999999781,
          417.7999999999784,
          399.39999999997866,
          421.5999999999781,
          411.59999999997723,
          480.39999999997747,
          487.19999999997725,
          511.9999999999763,
          512.5999999999763,
          500.79999999997676,
          478.59999999997734,
          516.1999999999778,
          510.3999999999785,
          518.9999999999798,
          522.1999999999808,
          509.0999999999808,
          507.7999999999803,
          510.0999999999799,
          497.99999999997897
         ]
        }
       ],
       "layout": {
        "font": {
         "color": "#e1e1e1",
         "size": 10
        },
        "height": 400,
        "margin": {
         "b": 10,
         "l": 15,
         "r": 15
        },
        "paper_bgcolor": "#1e1e1e",
        "plot_bgcolor": "#1e1e1e",
        "template": {
         "data": {
          "bar": [
           {
            "error_x": {
             "color": "#2a3f5f"
            },
            "error_y": {
             "color": "#2a3f5f"
            },
            "marker": {
             "line": {
              "color": "#E5ECF6",
              "width": 0.5
             },
             "pattern": {
              "fillmode": "overlay",
              "size": 10,
              "solidity": 0.2
             }
            },
            "type": "bar"
           }
          ],
          "barpolar": [
           {
            "marker": {
             "line": {
              "color": "#E5ECF6",
              "width": 0.5
             },
             "pattern": {
              "fillmode": "overlay",
              "size": 10,
              "solidity": 0.2
             }
            },
            "type": "barpolar"
           }
          ],
          "carpet": [
           {
            "aaxis": {
             "endlinecolor": "#2a3f5f",
             "gridcolor": "white",
             "linecolor": "white",
             "minorgridcolor": "white",
             "startlinecolor": "#2a3f5f"
            },
            "baxis": {
             "endlinecolor": "#2a3f5f",
             "gridcolor": "white",
             "linecolor": "white",
             "minorgridcolor": "white",
             "startlinecolor": "#2a3f5f"
            },
            "type": "carpet"
           }
          ],
          "choropleth": [
           {
            "colorbar": {
             "outlinewidth": 0,
             "ticks": ""
            },
            "type": "choropleth"
           }
          ],
          "contour": [
           {
            "colorbar": {
             "outlinewidth": 0,
             "ticks": ""
            },
            "colorscale": [
             [
              0,
              "#0d0887"
             ],
             [
              0.1111111111111111,
              "#46039f"
             ],
             [
              0.2222222222222222,
              "#7201a8"
             ],
             [
              0.3333333333333333,
              "#9c179e"
             ],
             [
              0.4444444444444444,
              "#bd3786"
             ],
             [
              0.5555555555555556,
              "#d8576b"
             ],
             [
              0.6666666666666666,
              "#ed7953"
             ],
             [
              0.7777777777777778,
              "#fb9f3a"
             ],
             [
              0.8888888888888888,
              "#fdca26"
             ],
             [
              1,
              "#f0f921"
             ]
            ],
            "type": "contour"
           }
          ],
          "contourcarpet": [
           {
            "colorbar": {
             "outlinewidth": 0,
             "ticks": ""
            },
            "type": "contourcarpet"
           }
          ],
          "heatmap": [
           {
            "colorbar": {
             "outlinewidth": 0,
             "ticks": ""
            },
            "colorscale": [
             [
              0,
              "#0d0887"
             ],
             [
              0.1111111111111111,
              "#46039f"
             ],
             [
              0.2222222222222222,
              "#7201a8"
             ],
             [
              0.3333333333333333,
              "#9c179e"
             ],
             [
              0.4444444444444444,
              "#bd3786"
             ],
             [
              0.5555555555555556,
              "#d8576b"
             ],
             [
              0.6666666666666666,
              "#ed7953"
             ],
             [
              0.7777777777777778,
              "#fb9f3a"
             ],
             [
              0.8888888888888888,
              "#fdca26"
             ],
             [
              1,
              "#f0f921"
             ]
            ],
            "type": "heatmap"
           }
          ],
          "heatmapgl": [
           {
            "colorbar": {
             "outlinewidth": 0,
             "ticks": ""
            },
            "colorscale": [
             [
              0,
              "#0d0887"
             ],
             [
              0.1111111111111111,
              "#46039f"
             ],
             [
              0.2222222222222222,
              "#7201a8"
             ],
             [
              0.3333333333333333,
              "#9c179e"
             ],
             [
              0.4444444444444444,
              "#bd3786"
             ],
             [
              0.5555555555555556,
              "#d8576b"
             ],
             [
              0.6666666666666666,
              "#ed7953"
             ],
             [
              0.7777777777777778,
              "#fb9f3a"
             ],
             [
              0.8888888888888888,
              "#fdca26"
             ],
             [
              1,
              "#f0f921"
             ]
            ],
            "type": "heatmapgl"
           }
          ],
          "histogram": [
           {
            "marker": {
             "pattern": {
              "fillmode": "overlay",
              "size": 10,
              "solidity": 0.2
             }
            },
            "type": "histogram"
           }
          ],
          "histogram2d": [
           {
            "colorbar": {
             "outlinewidth": 0,
             "ticks": ""
            },
            "colorscale": [
             [
              0,
              "#0d0887"
             ],
             [
              0.1111111111111111,
              "#46039f"
             ],
             [
              0.2222222222222222,
              "#7201a8"
             ],
             [
              0.3333333333333333,
              "#9c179e"
             ],
             [
              0.4444444444444444,
              "#bd3786"
             ],
             [
              0.5555555555555556,
              "#d8576b"
             ],
             [
              0.6666666666666666,
              "#ed7953"
             ],
             [
              0.7777777777777778,
              "#fb9f3a"
             ],
             [
              0.8888888888888888,
              "#fdca26"
             ],
             [
              1,
              "#f0f921"
             ]
            ],
            "type": "histogram2d"
           }
          ],
          "histogram2dcontour": [
           {
            "colorbar": {
             "outlinewidth": 0,
             "ticks": ""
            },
            "colorscale": [
             [
              0,
              "#0d0887"
             ],
             [
              0.1111111111111111,
              "#46039f"
             ],
             [
              0.2222222222222222,
              "#7201a8"
             ],
             [
              0.3333333333333333,
              "#9c179e"
             ],
             [
              0.4444444444444444,
              "#bd3786"
             ],
             [
              0.5555555555555556,
              "#d8576b"
             ],
             [
              0.6666666666666666,
              "#ed7953"
             ],
             [
              0.7777777777777778,
              "#fb9f3a"
             ],
             [
              0.8888888888888888,
              "#fdca26"
             ],
             [
              1,
              "#f0f921"
             ]
            ],
            "type": "histogram2dcontour"
           }
          ],
          "mesh3d": [
           {
            "colorbar": {
             "outlinewidth": 0,
             "ticks": ""
            },
            "type": "mesh3d"
           }
          ],
          "parcoords": [
           {
            "line": {
             "colorbar": {
              "outlinewidth": 0,
              "ticks": ""
             }
            },
            "type": "parcoords"
           }
          ],
          "pie": [
           {
            "automargin": true,
            "type": "pie"
           }
          ],
          "scatter": [
           {
            "marker": {
             "colorbar": {
              "outlinewidth": 0,
              "ticks": ""
             }
            },
            "type": "scatter"
           }
          ],
          "scatter3d": [
           {
            "line": {
             "colorbar": {
              "outlinewidth": 0,
              "ticks": ""
             }
            },
            "marker": {
             "colorbar": {
              "outlinewidth": 0,
              "ticks": ""
             }
            },
            "type": "scatter3d"
           }
          ],
          "scattercarpet": [
           {
            "marker": {
             "colorbar": {
              "outlinewidth": 0,
              "ticks": ""
             }
            },
            "type": "scattercarpet"
           }
          ],
          "scattergeo": [
           {
            "marker": {
             "colorbar": {
              "outlinewidth": 0,
              "ticks": ""
             }
            },
            "type": "scattergeo"
           }
          ],
          "scattergl": [
           {
            "marker": {
             "colorbar": {
              "outlinewidth": 0,
              "ticks": ""
             }
            },
            "type": "scattergl"
           }
          ],
          "scattermapbox": [
           {
            "marker": {
             "colorbar": {
              "outlinewidth": 0,
              "ticks": ""
             }
            },
            "type": "scattermapbox"
           }
          ],
          "scatterpolar": [
           {
            "marker": {
             "colorbar": {
              "outlinewidth": 0,
              "ticks": ""
             }
            },
            "type": "scatterpolar"
           }
          ],
          "scatterpolargl": [
           {
            "marker": {
             "colorbar": {
              "outlinewidth": 0,
              "ticks": ""
             }
            },
            "type": "scatterpolargl"
           }
          ],
          "scatterternary": [
           {
            "marker": {
             "colorbar": {
              "outlinewidth": 0,
              "ticks": ""
             }
            },
            "type": "scatterternary"
           }
          ],
          "surface": [
           {
            "colorbar": {
             "outlinewidth": 0,
             "ticks": ""
            },
            "colorscale": [
             [
              0,
              "#0d0887"
             ],
             [
              0.1111111111111111,
              "#46039f"
             ],
             [
              0.2222222222222222,
              "#7201a8"
             ],
             [
              0.3333333333333333,
              "#9c179e"
             ],
             [
              0.4444444444444444,
              "#bd3786"
             ],
             [
              0.5555555555555556,
              "#d8576b"
             ],
             [
              0.6666666666666666,
              "#ed7953"
             ],
             [
              0.7777777777777778,
              "#fb9f3a"
             ],
             [
              0.8888888888888888,
              "#fdca26"
             ],
             [
              1,
              "#f0f921"
             ]
            ],
            "type": "surface"
           }
          ],
          "table": [
           {
            "cells": {
             "fill": {
              "color": "#EBF0F8"
             },
             "line": {
              "color": "white"
             }
            },
            "header": {
             "fill": {
              "color": "#C8D4E3"
             },
             "line": {
              "color": "white"
             }
            },
            "type": "table"
           }
          ]
         },
         "layout": {
          "annotationdefaults": {
           "arrowcolor": "#2a3f5f",
           "arrowhead": 0,
           "arrowwidth": 1
          },
          "autotypenumbers": "strict",
          "coloraxis": {
           "colorbar": {
            "outlinewidth": 0,
            "ticks": ""
           }
          },
          "colorscale": {
           "diverging": [
            [
             0,
             "#8e0152"
            ],
            [
             0.1,
             "#c51b7d"
            ],
            [
             0.2,
             "#de77ae"
            ],
            [
             0.3,
             "#f1b6da"
            ],
            [
             0.4,
             "#fde0ef"
            ],
            [
             0.5,
             "#f7f7f7"
            ],
            [
             0.6,
             "#e6f5d0"
            ],
            [
             0.7,
             "#b8e186"
            ],
            [
             0.8,
             "#7fbc41"
            ],
            [
             0.9,
             "#4d9221"
            ],
            [
             1,
             "#276419"
            ]
           ],
           "sequential": [
            [
             0,
             "#0d0887"
            ],
            [
             0.1111111111111111,
             "#46039f"
            ],
            [
             0.2222222222222222,
             "#7201a8"
            ],
            [
             0.3333333333333333,
             "#9c179e"
            ],
            [
             0.4444444444444444,
             "#bd3786"
            ],
            [
             0.5555555555555556,
             "#d8576b"
            ],
            [
             0.6666666666666666,
             "#ed7953"
            ],
            [
             0.7777777777777778,
             "#fb9f3a"
            ],
            [
             0.8888888888888888,
             "#fdca26"
            ],
            [
             1,
             "#f0f921"
            ]
           ],
           "sequentialminus": [
            [
             0,
             "#0d0887"
            ],
            [
             0.1111111111111111,
             "#46039f"
            ],
            [
             0.2222222222222222,
             "#7201a8"
            ],
            [
             0.3333333333333333,
             "#9c179e"
            ],
            [
             0.4444444444444444,
             "#bd3786"
            ],
            [
             0.5555555555555556,
             "#d8576b"
            ],
            [
             0.6666666666666666,
             "#ed7953"
            ],
            [
             0.7777777777777778,
             "#fb9f3a"
            ],
            [
             0.8888888888888888,
             "#fdca26"
            ],
            [
             1,
             "#f0f921"
            ]
           ]
          },
          "colorway": [
           "#636efa",
           "#EF553B",
           "#00cc96",
           "#ab63fa",
           "#FFA15A",
           "#19d3f3",
           "#FF6692",
           "#B6E880",
           "#FF97FF",
           "#FECB52"
          ],
          "font": {
           "color": "#2a3f5f"
          },
          "geo": {
           "bgcolor": "white",
           "lakecolor": "white",
           "landcolor": "#E5ECF6",
           "showlakes": true,
           "showland": true,
           "subunitcolor": "white"
          },
          "hoverlabel": {
           "align": "left"
          },
          "hovermode": "closest",
          "mapbox": {
           "style": "light"
          },
          "paper_bgcolor": "white",
          "plot_bgcolor": "#E5ECF6",
          "polar": {
           "angularaxis": {
            "gridcolor": "white",
            "linecolor": "white",
            "ticks": ""
           },
           "bgcolor": "#E5ECF6",
           "radialaxis": {
            "gridcolor": "white",
            "linecolor": "white",
            "ticks": ""
           }
          },
          "scene": {
           "xaxis": {
            "backgroundcolor": "#E5ECF6",
            "gridcolor": "white",
            "gridwidth": 2,
            "linecolor": "white",
            "showbackground": true,
            "ticks": "",
            "zerolinecolor": "white"
           },
           "yaxis": {
            "backgroundcolor": "#E5ECF6",
            "gridcolor": "white",
            "gridwidth": 2,
            "linecolor": "white",
            "showbackground": true,
            "ticks": "",
            "zerolinecolor": "white"
           },
           "zaxis": {
            "backgroundcolor": "#E5ECF6",
            "gridcolor": "white",
            "gridwidth": 2,
            "linecolor": "white",
            "showbackground": true,
            "ticks": "",
            "zerolinecolor": "white"
           }
          },
          "shapedefaults": {
           "line": {
            "color": "#2a3f5f"
           }
          },
          "ternary": {
           "aaxis": {
            "gridcolor": "white",
            "linecolor": "white",
            "ticks": ""
           },
           "baxis": {
            "gridcolor": "white",
            "linecolor": "white",
            "ticks": ""
           },
           "bgcolor": "#E5ECF6",
           "caxis": {
            "gridcolor": "white",
            "linecolor": "white",
            "ticks": ""
           }
          },
          "title": {
           "x": 0.05
          },
          "xaxis": {
           "automargin": true,
           "gridcolor": "white",
           "linecolor": "white",
           "ticks": "",
           "title": {
            "standoff": 15
           },
           "zerolinecolor": "white",
           "zerolinewidth": 2
          },
          "yaxis": {
           "automargin": true,
           "gridcolor": "white",
           "linecolor": "white",
           "ticks": "",
           "title": {
            "standoff": 15
           },
           "zerolinecolor": "white",
           "zerolinewidth": 2
          }
         }
        },
        "title": {
         "text": "NZD_JPY_MA_8_16"
        },
        "width": 1000,
        "xaxis": {
         "linecolor": "#3a4a54",
         "linewidth": 1,
         "showgrid": false,
         "zeroline": false
        },
        "yaxis": {
         "linecolor": "#3a4a54",
         "linewidth": 1,
         "showgrid": false,
         "zeroline": false
        }
       }
      }
     },
     "metadata": {}
    },
    {
     "output_type": "display_data",
     "data": {
      "application/vnd.plotly.v1+json": {
       "config": {
        "plotlyServerURL": "https://plot.ly"
       },
       "data": [
        {
         "line": {
          "color": "#3d825f",
          "shape": "spline",
          "width": 2
         },
         "mode": "lines",
         "name": "CHF_JPY_GAIN",
         "type": "scatter",
         "x": [
          "2021-01-20T11:00:00+00:00",
          "2021-01-21T00:00:00+00:00",
          "2021-01-22T12:00:00+00:00",
          "2021-01-22T15:00:00+00:00",
          "2021-01-22T17:00:00+00:00",
          "2021-01-22T18:00:00+00:00",
          "2021-01-22T19:00:00+00:00",
          "2021-01-22T20:00:00+00:00",
          "2021-01-24T23:00:00+00:00",
          "2021-01-25T04:00:00+00:00",
          "2021-01-25T11:00:00+00:00",
          "2021-01-26T03:00:00+00:00",
          "2021-01-26T06:00:00+00:00",
          "2021-01-26T14:00:00+00:00",
          "2021-01-27T04:00:00+00:00",
          "2021-01-28T00:00:00+00:00",
          "2021-01-28T01:00:00+00:00",
          "2021-01-28T11:00:00+00:00",
          "2021-01-29T02:00:00+00:00",
          "2021-01-29T12:00:00+00:00",
          "2021-01-31T23:00:00+00:00",
          "2021-02-02T05:00:00+00:00",
          "2021-02-02T11:00:00+00:00",
          "2021-02-03T01:00:00+00:00",
          "2021-02-03T10:00:00+00:00",
          "2021-02-03T21:00:00+00:00",
          "2021-02-04T06:00:00+00:00",
          "2021-02-05T10:00:00+00:00",
          "2021-02-08T06:00:00+00:00",
          "2021-02-08T16:00:00+00:00",
          "2021-02-10T16:00:00+00:00",
          "2021-02-10T18:00:00+00:00",
          "2021-02-10T23:00:00+00:00",
          "2021-02-11T09:00:00+00:00",
          "2021-02-11T22:00:00+00:00",
          "2021-02-12T21:00:00+00:00",
          "2021-02-15T16:00:00+00:00",
          "2021-02-16T01:00:00+00:00",
          "2021-02-16T15:00:00+00:00",
          "2021-02-18T03:00:00+00:00",
          "2021-02-19T21:00:00+00:00",
          "2021-02-22T13:00:00+00:00",
          "2021-02-23T10:00:00+00:00",
          "2021-02-24T00:00:00+00:00",
          "2021-02-24T15:00:00+00:00",
          "2021-02-24T23:00:00+00:00",
          "2021-02-25T20:00:00+00:00",
          "2021-03-01T07:00:00+00:00",
          "2021-03-01T08:00:00+00:00",
          "2021-03-01T23:00:00+00:00",
          "2021-03-02T00:00:00+00:00",
          "2021-03-02T15:00:00+00:00",
          "2021-03-03T08:00:00+00:00",
          "2021-03-08T03:00:00+00:00",
          "2021-03-08T06:00:00+00:00",
          "2021-03-09T06:00:00+00:00",
          "2021-03-09T22:00:00+00:00",
          "2021-03-10T00:00:00+00:00",
          "2021-03-10T04:00:00+00:00",
          "2021-03-10T13:00:00+00:00",
          "2021-03-12T05:00:00+00:00",
          "2021-03-12T19:00:00+00:00",
          "2021-03-15T05:00:00+00:00",
          "2021-03-15T23:00:00+00:00",
          "2021-03-16T13:00:00+00:00",
          "2021-03-17T06:00:00+00:00",
          "2021-03-17T07:00:00+00:00",
          "2021-03-17T10:00:00+00:00",
          "2021-03-18T08:00:00+00:00",
          "2021-03-19T08:00:00+00:00",
          "2021-03-19T12:00:00+00:00",
          "2021-03-22T09:00:00+00:00",
          "2021-03-23T04:00:00+00:00",
          "2021-03-25T07:00:00+00:00",
          "2021-03-25T08:00:00+00:00",
          "2021-03-25T09:00:00+00:00",
          "2021-03-25T10:00:00+00:00",
          "2021-03-26T05:00:00+00:00",
          "2021-03-29T03:00:00+00:00",
          "2021-03-31T08:00:00+00:00",
          "2021-03-31T22:00:00+00:00",
          "2021-04-01T09:00:00+00:00",
          "2021-04-02T12:00:00+00:00",
          "2021-04-05T03:00:00+00:00",
          "2021-04-05T07:00:00+00:00",
          "2021-04-05T14:00:00+00:00",
          "2021-04-06T05:00:00+00:00",
          "2021-04-06T12:00:00+00:00",
          "2021-04-07T20:00:00+00:00",
          "2021-04-08T08:00:00+00:00",
          "2021-04-09T05:00:00+00:00",
          "2021-04-09T19:00:00+00:00",
          "2021-04-12T04:00:00+00:00",
          "2021-04-12T12:00:00+00:00",
          "2021-04-13T01:00:00+00:00",
          "2021-04-13T13:00:00+00:00",
          "2021-04-14T14:00:00+00:00",
          "2021-04-14T15:00:00+00:00",
          "2021-04-15T06:00:00+00:00",
          "2021-04-15T23:00:00+00:00",
          "2021-04-16T00:00:00+00:00",
          "2021-04-16T09:00:00+00:00",
          "2021-04-18T21:00:00+00:00",
          "2021-04-19T08:00:00+00:00",
          "2021-04-20T14:00:00+00:00",
          "2021-04-21T18:00:00+00:00",
          "2021-04-22T15:00:00+00:00",
          "2021-04-23T04:00:00+00:00",
          "2021-04-26T11:00:00+00:00",
          "2021-04-26T23:00:00+00:00",
          "2021-04-27T02:00:00+00:00",
          "2021-04-27T13:00:00+00:00",
          "2021-04-28T04:00:00+00:00",
          "2021-04-28T15:00:00+00:00",
          "2021-04-29T09:00:00+00:00",
          "2021-04-29T21:00:00+00:00",
          "2021-04-30T06:00:00+00:00",
          "2021-05-03T06:00:00+00:00",
          "2021-05-04T02:00:00+00:00",
          "2021-05-05T04:00:00+00:00",
          "2021-05-05T07:00:00+00:00",
          "2021-05-06T00:00:00+00:00",
          "2021-05-10T05:00:00+00:00",
          "2021-05-10T12:00:00+00:00",
          "2021-05-10T19:00:00+00:00",
          "2021-05-11T08:00:00+00:00",
          "2021-05-11T21:00:00+00:00",
          "2021-05-13T04:00:00+00:00",
          "2021-05-13T09:00:00+00:00",
          "2021-05-13T13:00:00+00:00",
          "2021-05-13T14:00:00+00:00",
          "2021-05-13T18:00:00+00:00",
          "2021-05-13T21:00:00+00:00",
          "2021-05-13T23:00:00+00:00",
          "2021-05-17T04:00:00+00:00",
          "2021-05-17T10:00:00+00:00",
          "2021-05-19T11:00:00+00:00",
          "2021-05-20T07:00:00+00:00",
          "2021-05-21T10:00:00+00:00",
          "2021-05-24T04:00:00+00:00",
          "2021-05-25T19:00:00+00:00",
          "2021-05-26T00:00:00+00:00",
          "2021-05-26T11:00:00+00:00",
          "2021-05-27T07:00:00+00:00",
          "2021-05-27T18:00:00+00:00",
          "2021-05-27T20:00:00+00:00",
          "2021-05-27T22:00:00+00:00",
          "2021-05-27T23:00:00+00:00",
          "2021-05-28T00:00:00+00:00",
          "2021-05-28T19:00:00+00:00",
          "2021-05-31T06:00:00+00:00",
          "2021-05-31T07:00:00+00:00",
          "2021-05-31T10:00:00+00:00",
          "2021-05-31T14:00:00+00:00",
          "2021-06-01T11:00:00+00:00",
          "2021-06-01T13:00:00+00:00",
          "2021-06-01T21:00:00+00:00",
          "2021-06-02T18:00:00+00:00",
          "2021-06-03T04:00:00+00:00",
          "2021-06-04T13:00:00+00:00",
          "2021-06-07T03:00:00+00:00",
          "2021-06-07T14:00:00+00:00",
          "2021-06-08T03:00:00+00:00",
          "2021-06-08T17:00:00+00:00",
          "2021-06-08T22:00:00+00:00",
          "2021-06-09T05:00:00+00:00",
          "2021-06-09T20:00:00+00:00",
          "2021-06-10T13:00:00+00:00",
          "2021-06-10T23:00:00+00:00",
          "2021-06-11T02:00:00+00:00",
          "2021-06-11T10:00:00+00:00",
          "2021-06-14T09:00:00+00:00",
          "2021-06-15T01:00:00+00:00",
          "2021-06-15T04:00:00+00:00",
          "2021-06-15T14:00:00+00:00",
          "2021-06-15T20:00:00+00:00",
          "2021-06-16T04:00:00+00:00",
          "2021-06-16T06:00:00+00:00",
          "2021-06-16T12:00:00+00:00",
          "2021-06-18T05:00:00+00:00",
          "2021-06-18T11:00:00+00:00",
          "2021-06-21T08:00:00+00:00",
          "2021-06-22T04:00:00+00:00",
          "2021-06-22T17:00:00+00:00",
          "2021-06-23T05:00:00+00:00",
          "2021-06-23T11:00:00+00:00",
          "2021-06-23T21:00:00+00:00",
          "2021-06-24T09:00:00+00:00",
          "2021-06-24T20:00:00+00:00",
          "2021-06-25T04:00:00+00:00",
          "2021-06-25T20:00:00+00:00",
          "2021-06-28T13:00:00+00:00",
          "2021-06-28T16:00:00+00:00",
          "2021-06-29T22:00:00+00:00",
          "2021-06-29T23:00:00+00:00",
          "2021-06-30T00:00:00+00:00",
          "2021-06-30T09:00:00+00:00",
          "2021-07-01T11:00:00+00:00",
          "2021-07-01T20:00:00+00:00",
          "2021-07-02T17:00:00+00:00",
          "2021-07-05T05:00:00+00:00",
          "2021-07-05T10:00:00+00:00",
          "2021-07-05T19:00:00+00:00",
          "2021-07-06T04:00:00+00:00",
          "2021-07-06T11:00:00+00:00",
          "2021-07-07T05:00:00+00:00",
          "2021-07-07T13:00:00+00:00",
          "2021-07-08T08:00:00+00:00",
          "2021-07-09T00:00:00+00:00",
          "2021-07-09T12:00:00+00:00",
          "2021-07-12T05:00:00+00:00",
          "2021-07-12T20:00:00+00:00",
          "2021-07-13T08:00:00+00:00",
          "2021-07-14T07:00:00+00:00",
          "2021-07-15T06:00:00+00:00",
          "2021-07-15T08:00:00+00:00",
          "2021-07-15T12:00:00+00:00",
          "2021-07-16T01:00:00+00:00",
          "2021-07-16T07:00:00+00:00",
          "2021-07-16T09:00:00+00:00",
          "2021-07-16T11:00:00+00:00",
          "2021-07-16T20:00:00+00:00",
          "2021-07-19T02:00:00+00:00",
          "2021-07-19T17:00:00+00:00",
          "2021-07-20T02:00:00+00:00",
          "2021-07-20T23:00:00+00:00",
          "2021-07-21T05:00:00+00:00",
          "2021-07-21T14:00:00+00:00",
          "2021-07-22T04:00:00+00:00",
          "2021-07-22T10:00:00+00:00",
          "2021-07-22T16:00:00+00:00",
          "2021-07-23T05:00:00+00:00",
          "2021-07-23T09:00:00+00:00",
          "2021-07-25T22:00:00+00:00",
          "2021-07-27T03:00:00+00:00",
          "2021-07-27T15:00:00+00:00",
          "2021-07-28T02:00:00+00:00",
          "2021-07-28T20:00:00+00:00",
          "2021-07-30T03:00:00+00:00",
          "2021-07-30T09:00:00+00:00",
          "2021-07-30T16:00:00+00:00",
          "2021-08-02T03:00:00+00:00",
          "2021-08-02T17:00:00+00:00",
          "2021-08-03T04:00:00+00:00",
          "2021-08-03T16:00:00+00:00",
          "2021-08-04T03:00:00+00:00",
          "2021-08-04T10:00:00+00:00",
          "2021-08-04T13:00:00+00:00",
          "2021-08-04T14:00:00+00:00",
          "2021-08-05T08:00:00+00:00",
          "2021-08-05T19:00:00+00:00",
          "2021-08-09T07:00:00+00:00",
          "2021-08-09T15:00:00+00:00",
          "2021-08-11T01:00:00+00:00",
          "2021-08-11T05:00:00+00:00",
          "2021-08-11T14:00:00+00:00",
          "2021-08-12T05:00:00+00:00",
          "2021-08-12T09:00:00+00:00",
          "2021-08-12T11:00:00+00:00",
          "2021-08-13T02:00:00+00:00",
          "2021-08-16T05:00:00+00:00",
          "2021-08-18T05:00:00+00:00",
          "2021-08-18T15:00:00+00:00",
          "2021-08-19T13:00:00+00:00",
          "2021-08-19T20:00:00+00:00",
          "2021-08-20T05:00:00+00:00",
          "2021-08-20T11:00:00+00:00",
          "2021-08-20T17:00:00+00:00",
          "2021-08-24T05:00:00+00:00",
          "2021-08-24T14:00:00+00:00",
          "2021-08-25T03:00:00+00:00",
          "2021-08-25T14:00:00+00:00",
          "2021-08-26T06:00:00+00:00",
          "2021-08-27T04:00:00+00:00",
          "2021-08-30T11:00:00+00:00",
          "2021-08-30T21:00:00+00:00",
          "2021-08-31T17:00:00+00:00",
          "2021-09-01T10:00:00+00:00",
          "2021-09-02T02:00:00+00:00",
          "2021-09-02T09:00:00+00:00",
          "2021-09-03T10:00:00+00:00",
          "2021-09-03T15:00:00+00:00",
          "2021-09-06T01:00:00+00:00",
          "2021-09-06T18:00:00+00:00"
         ],
         "y": [
          -5.399999999999849,
          40.99999999999992,
          32.69999999999884,
          27.599999999998733,
          25.799999999998043,
          23.399999999997863,
          21.799999999998484,
          20.799999999998594,
          11.89999999999802,
          -7.400000000001853,
          9.599999999998495,
          -2.9000000000012385,
          -34.899999999999935,
          -36.79999999999906,
          32.50000000000196,
          45.8000000000025,
          44.90000000000326,
          47.000000000003695,
          17.800000000003358,
          7.200000000002749,
          51.00000000000104,
          -0.19999999999909335,
          -19.19999999999922,
          -44.99999999999949,
          -59.299999999997695,
          -83.19999999999662,
          -45.399999999997675,
          20.00000000000223,
          14.600000000002382,
          101.40000000000259,
          103.00000000000419,
          92.2000000000045,
          80.8000000000053,
          83.0000000000064,
          95.20000000000638,
          111.60000000000724,
          105.70000000000856,
          82.20000000001004,
          164.60000000001028,
          246.2000000000097,
          217.20000000001068,
          216.6000000000112,
          208.40000000001078,
          175.60000000001128,
          128.30000000001226,
          122.10000000001162,
          209.1000000000109,
          188.00000000001035,
          194.4000000000101,
          184.4000000000112,
          160.80000000001203,
          174.0000000000119,
          347.80000000001144,
          338.400000000012,
          373.0000000000122,
          417.10000000001247,
          425.40000000001356,
          411.4000000000129,
          380.3000000000112,
          433.1000000000107,
          447.7000000000109,
          431.6000000000098,
          438.00000000000955,
          414.2000000000113,
          409.00000000001273,
          392.40000000001277,
          372.2000000000114,
          408.20000000000965,
          432.60000000000963,
          409.40000000001083,
          409.00000000001046,
          432.20000000000925,
          549.4000000000087,
          548.3000000000081,
          542.700000000007,
          546.2000000000055,
          576.8000000000039,
          579.4000000000032,
          619.2000000000041,
          598.500000000004,
          584.2000000000036,
          613.0000000000035,
          611.8000000000023,
          584.6000000000017,
          528.6000000000013,
          540.5999999999999,
          522.5999999999997,
          565.5999999999993,
          555.9999999999986,
          567.5999999999991,
          557.399999999999,
          542.3999999999984,
          516.3999999999991,
          501.5999999999998,
          465.49999999999864,
          495.19999999999783,
          485.7999999999984,
          485.9999999999997,
          491.4000000000018,
          479.1000000000034,
          458.1000000000035,
          455.500000000002,
          405.9000000000012,
          429.40000000000197,
          448.90000000000316,
          431.0000000000036,
          415.60000000000264,
          471.60000000000093,
          474.79999999999967,
          461.0000000000003,
          442.00000000000017,
          430.19999999999834,
          405.19999999999663,
          426.1999999999965,
          421.8999999999972,
          409.4999999999981,
          482.29999999999984,
          489.00000000000153,
          511.100000000002,
          483.0000000000022,
          477.200000000002,
          628.8000000000004,
          609.3999999999999,
          579.400000000001,
          558.200000000002,
          546.000000000002,
          617.9000000000024,
          605.800000000003,
          574.6000000000029,
          551.4000000000019,
          549.4000000000021,
          556.2000000000023,
          562.4000000000008,
          615.5,
          578.4999999999997,
          618.5999999999981,
          622.7999999999968,
          639.099999999997,
          678.5999999999982,
          746.3999999999983,
          748.5999999999972,
          730.3999999999957,
          751.5999999999947,
          744.3999999999942,
          748.8999999999926,
          746.5999999999908,
          745.5999999999909,
          736.9999999999923,
          728.5999999999927,
          725.5999999999931,
          723.9999999999937,
          723.0999999999946,
          685.5999999999954,
          679.599999999996,
          662.6999999999964,
          638.3999999999971,
          642.2999999999982,
          633.2999999999993,
          654.5000000000005,
          641.8000000000017,
          621.8000000000017,
          613.8000000000003,
          615.6999999999994,
          609.9999999999998,
          604.1999999999995,
          605.7999999999988,
          602.8999999999997,
          593.3999999999996,
          576.199999999998,
          537.5999999999982,
          575.9999999999989,
          581.5999999999977,
          574.1999999999981,
          573.8999999999984,
          573.5999999999987,
          576.2000000000002,
          575.4000000000016,
          564.6000000000018,
          778.4000000000013,
          784.5000000000014,
          802.2000000000019,
          811.8000000000026,
          779.6000000000025,
          771.3000000000014,
          756.7999999999997,
          743.3999999999985,
          727.6999999999978,
          715.3999999999971,
          709.5999999999968,
          708.6999999999977,
          718.4999999999975,
          714.9999999999968,
          737.8999999999959,
          738.299999999994,
          738.299999999994,
          730.5999999999947,
          746.3999999999938,
          719.1999999999932,
          701.2999999999936,
          686.799999999994,
          662.6999999999938,
          650.6999999999929,
          641.3999999999919,
          607.1999999999921,
          616.7999999999928,
          591.1999999999938,
          573.9999999999943,
          592.599999999994,
          564.6999999999933,
          563.4999999999922,
          570.5999999999921,
          560.1999999999928,
          626.2999999999928,
          677.3999999999922,
          663.3999999999916,
          620.9999999999914,
          625.3999999999913,
          624.9999999999909,
          606.9999999999907,
          581.4999999999901,
          570.5999999999898,
          568.9999999999905,
          577.9999999999917,
          577.9999999999917,
          591.1999999999916,
          576.8999999999912,
          554.1999999999913,
          561.4999999999925,
          566.999999999993,
          538.199999999993,
          536.3999999999924,
          540.599999999991,
          535.2999999999896,
          566.5999999999882,
          541.3999999999875,
          535.7999999999886,
          518.2999999999894,
          554.2999999999898,
          535.7999999999907,
          497.7999999999905,
          485.39999999998923,
          482.1999999999883,
          470.19999999998737,
          458.39999999998554,
          453.19999999998475,
          435.8999999999847,
          399.4999999999838,
          349.9999999999837,
          355.999999999983,
          354.7999999999818,
          432.9999999999812,
          423.4999999999811,
          450.59999999998104,
          446.79999999998057,
          424.9999999999799,
          427.2999999999794,
          427.0999999999803,
          423.79999999998086,
          421.29999999998,
          466.99999999997965,
          537.9999999999807,
          523.7999999999809,
          524.7999999999807,
          500.59999999998206,
          489.59999999998325,
          470.6999999999838,
          444.59999999998377,
          491.39999999998395,
          471.6999999999837,
          448.79999999998245,
          437.19999999998197,
          444.999999999982,
          439.19999999998174,
          475.5999999999804,
          476.99999999997846,
          487.39999999997775,
          475.69999999997884,
          494.5999999999805,
          482.0999999999808,
          500.09999999998104,
          486.199999999981,
          480.19999999997947,
          488.29999999997926,
          493.5999999999807
         ]
        }
       ],
       "layout": {
        "font": {
         "color": "#e1e1e1",
         "size": 10
        },
        "height": 400,
        "margin": {
         "b": 10,
         "l": 15,
         "r": 15
        },
        "paper_bgcolor": "#1e1e1e",
        "plot_bgcolor": "#1e1e1e",
        "template": {
         "data": {
          "bar": [
           {
            "error_x": {
             "color": "#2a3f5f"
            },
            "error_y": {
             "color": "#2a3f5f"
            },
            "marker": {
             "line": {
              "color": "#E5ECF6",
              "width": 0.5
             },
             "pattern": {
              "fillmode": "overlay",
              "size": 10,
              "solidity": 0.2
             }
            },
            "type": "bar"
           }
          ],
          "barpolar": [
           {
            "marker": {
             "line": {
              "color": "#E5ECF6",
              "width": 0.5
             },
             "pattern": {
              "fillmode": "overlay",
              "size": 10,
              "solidity": 0.2
             }
            },
            "type": "barpolar"
           }
          ],
          "carpet": [
           {
            "aaxis": {
             "endlinecolor": "#2a3f5f",
             "gridcolor": "white",
             "linecolor": "white",
             "minorgridcolor": "white",
             "startlinecolor": "#2a3f5f"
            },
            "baxis": {
             "endlinecolor": "#2a3f5f",
             "gridcolor": "white",
             "linecolor": "white",
             "minorgridcolor": "white",
             "startlinecolor": "#2a3f5f"
            },
            "type": "carpet"
           }
          ],
          "choropleth": [
           {
            "colorbar": {
             "outlinewidth": 0,
             "ticks": ""
            },
            "type": "choropleth"
           }
          ],
          "contour": [
           {
            "colorbar": {
             "outlinewidth": 0,
             "ticks": ""
            },
            "colorscale": [
             [
              0,
              "#0d0887"
             ],
             [
              0.1111111111111111,
              "#46039f"
             ],
             [
              0.2222222222222222,
              "#7201a8"
             ],
             [
              0.3333333333333333,
              "#9c179e"
             ],
             [
              0.4444444444444444,
              "#bd3786"
             ],
             [
              0.5555555555555556,
              "#d8576b"
             ],
             [
              0.6666666666666666,
              "#ed7953"
             ],
             [
              0.7777777777777778,
              "#fb9f3a"
             ],
             [
              0.8888888888888888,
              "#fdca26"
             ],
             [
              1,
              "#f0f921"
             ]
            ],
            "type": "contour"
           }
          ],
          "contourcarpet": [
           {
            "colorbar": {
             "outlinewidth": 0,
             "ticks": ""
            },
            "type": "contourcarpet"
           }
          ],
          "heatmap": [
           {
            "colorbar": {
             "outlinewidth": 0,
             "ticks": ""
            },
            "colorscale": [
             [
              0,
              "#0d0887"
             ],
             [
              0.1111111111111111,
              "#46039f"
             ],
             [
              0.2222222222222222,
              "#7201a8"
             ],
             [
              0.3333333333333333,
              "#9c179e"
             ],
             [
              0.4444444444444444,
              "#bd3786"
             ],
             [
              0.5555555555555556,
              "#d8576b"
             ],
             [
              0.6666666666666666,
              "#ed7953"
             ],
             [
              0.7777777777777778,
              "#fb9f3a"
             ],
             [
              0.8888888888888888,
              "#fdca26"
             ],
             [
              1,
              "#f0f921"
             ]
            ],
            "type": "heatmap"
           }
          ],
          "heatmapgl": [
           {
            "colorbar": {
             "outlinewidth": 0,
             "ticks": ""
            },
            "colorscale": [
             [
              0,
              "#0d0887"
             ],
             [
              0.1111111111111111,
              "#46039f"
             ],
             [
              0.2222222222222222,
              "#7201a8"
             ],
             [
              0.3333333333333333,
              "#9c179e"
             ],
             [
              0.4444444444444444,
              "#bd3786"
             ],
             [
              0.5555555555555556,
              "#d8576b"
             ],
             [
              0.6666666666666666,
              "#ed7953"
             ],
             [
              0.7777777777777778,
              "#fb9f3a"
             ],
             [
              0.8888888888888888,
              "#fdca26"
             ],
             [
              1,
              "#f0f921"
             ]
            ],
            "type": "heatmapgl"
           }
          ],
          "histogram": [
           {
            "marker": {
             "pattern": {
              "fillmode": "overlay",
              "size": 10,
              "solidity": 0.2
             }
            },
            "type": "histogram"
           }
          ],
          "histogram2d": [
           {
            "colorbar": {
             "outlinewidth": 0,
             "ticks": ""
            },
            "colorscale": [
             [
              0,
              "#0d0887"
             ],
             [
              0.1111111111111111,
              "#46039f"
             ],
             [
              0.2222222222222222,
              "#7201a8"
             ],
             [
              0.3333333333333333,
              "#9c179e"
             ],
             [
              0.4444444444444444,
              "#bd3786"
             ],
             [
              0.5555555555555556,
              "#d8576b"
             ],
             [
              0.6666666666666666,
              "#ed7953"
             ],
             [
              0.7777777777777778,
              "#fb9f3a"
             ],
             [
              0.8888888888888888,
              "#fdca26"
             ],
             [
              1,
              "#f0f921"
             ]
            ],
            "type": "histogram2d"
           }
          ],
          "histogram2dcontour": [
           {
            "colorbar": {
             "outlinewidth": 0,
             "ticks": ""
            },
            "colorscale": [
             [
              0,
              "#0d0887"
             ],
             [
              0.1111111111111111,
              "#46039f"
             ],
             [
              0.2222222222222222,
              "#7201a8"
             ],
             [
              0.3333333333333333,
              "#9c179e"
             ],
             [
              0.4444444444444444,
              "#bd3786"
             ],
             [
              0.5555555555555556,
              "#d8576b"
             ],
             [
              0.6666666666666666,
              "#ed7953"
             ],
             [
              0.7777777777777778,
              "#fb9f3a"
             ],
             [
              0.8888888888888888,
              "#fdca26"
             ],
             [
              1,
              "#f0f921"
             ]
            ],
            "type": "histogram2dcontour"
           }
          ],
          "mesh3d": [
           {
            "colorbar": {
             "outlinewidth": 0,
             "ticks": ""
            },
            "type": "mesh3d"
           }
          ],
          "parcoords": [
           {
            "line": {
             "colorbar": {
              "outlinewidth": 0,
              "ticks": ""
             }
            },
            "type": "parcoords"
           }
          ],
          "pie": [
           {
            "automargin": true,
            "type": "pie"
           }
          ],
          "scatter": [
           {
            "marker": {
             "colorbar": {
              "outlinewidth": 0,
              "ticks": ""
             }
            },
            "type": "scatter"
           }
          ],
          "scatter3d": [
           {
            "line": {
             "colorbar": {
              "outlinewidth": 0,
              "ticks": ""
             }
            },
            "marker": {
             "colorbar": {
              "outlinewidth": 0,
              "ticks": ""
             }
            },
            "type": "scatter3d"
           }
          ],
          "scattercarpet": [
           {
            "marker": {
             "colorbar": {
              "outlinewidth": 0,
              "ticks": ""
             }
            },
            "type": "scattercarpet"
           }
          ],
          "scattergeo": [
           {
            "marker": {
             "colorbar": {
              "outlinewidth": 0,
              "ticks": ""
             }
            },
            "type": "scattergeo"
           }
          ],
          "scattergl": [
           {
            "marker": {
             "colorbar": {
              "outlinewidth": 0,
              "ticks": ""
             }
            },
            "type": "scattergl"
           }
          ],
          "scattermapbox": [
           {
            "marker": {
             "colorbar": {
              "outlinewidth": 0,
              "ticks": ""
             }
            },
            "type": "scattermapbox"
           }
          ],
          "scatterpolar": [
           {
            "marker": {
             "colorbar": {
              "outlinewidth": 0,
              "ticks": ""
             }
            },
            "type": "scatterpolar"
           }
          ],
          "scatterpolargl": [
           {
            "marker": {
             "colorbar": {
              "outlinewidth": 0,
              "ticks": ""
             }
            },
            "type": "scatterpolargl"
           }
          ],
          "scatterternary": [
           {
            "marker": {
             "colorbar": {
              "outlinewidth": 0,
              "ticks": ""
             }
            },
            "type": "scatterternary"
           }
          ],
          "surface": [
           {
            "colorbar": {
             "outlinewidth": 0,
             "ticks": ""
            },
            "colorscale": [
             [
              0,
              "#0d0887"
             ],
             [
              0.1111111111111111,
              "#46039f"
             ],
             [
              0.2222222222222222,
              "#7201a8"
             ],
             [
              0.3333333333333333,
              "#9c179e"
             ],
             [
              0.4444444444444444,
              "#bd3786"
             ],
             [
              0.5555555555555556,
              "#d8576b"
             ],
             [
              0.6666666666666666,
              "#ed7953"
             ],
             [
              0.7777777777777778,
              "#fb9f3a"
             ],
             [
              0.8888888888888888,
              "#fdca26"
             ],
             [
              1,
              "#f0f921"
             ]
            ],
            "type": "surface"
           }
          ],
          "table": [
           {
            "cells": {
             "fill": {
              "color": "#EBF0F8"
             },
             "line": {
              "color": "white"
             }
            },
            "header": {
             "fill": {
              "color": "#C8D4E3"
             },
             "line": {
              "color": "white"
             }
            },
            "type": "table"
           }
          ]
         },
         "layout": {
          "annotationdefaults": {
           "arrowcolor": "#2a3f5f",
           "arrowhead": 0,
           "arrowwidth": 1
          },
          "autotypenumbers": "strict",
          "coloraxis": {
           "colorbar": {
            "outlinewidth": 0,
            "ticks": ""
           }
          },
          "colorscale": {
           "diverging": [
            [
             0,
             "#8e0152"
            ],
            [
             0.1,
             "#c51b7d"
            ],
            [
             0.2,
             "#de77ae"
            ],
            [
             0.3,
             "#f1b6da"
            ],
            [
             0.4,
             "#fde0ef"
            ],
            [
             0.5,
             "#f7f7f7"
            ],
            [
             0.6,
             "#e6f5d0"
            ],
            [
             0.7,
             "#b8e186"
            ],
            [
             0.8,
             "#7fbc41"
            ],
            [
             0.9,
             "#4d9221"
            ],
            [
             1,
             "#276419"
            ]
           ],
           "sequential": [
            [
             0,
             "#0d0887"
            ],
            [
             0.1111111111111111,
             "#46039f"
            ],
            [
             0.2222222222222222,
             "#7201a8"
            ],
            [
             0.3333333333333333,
             "#9c179e"
            ],
            [
             0.4444444444444444,
             "#bd3786"
            ],
            [
             0.5555555555555556,
             "#d8576b"
            ],
            [
             0.6666666666666666,
             "#ed7953"
            ],
            [
             0.7777777777777778,
             "#fb9f3a"
            ],
            [
             0.8888888888888888,
             "#fdca26"
            ],
            [
             1,
             "#f0f921"
            ]
           ],
           "sequentialminus": [
            [
             0,
             "#0d0887"
            ],
            [
             0.1111111111111111,
             "#46039f"
            ],
            [
             0.2222222222222222,
             "#7201a8"
            ],
            [
             0.3333333333333333,
             "#9c179e"
            ],
            [
             0.4444444444444444,
             "#bd3786"
            ],
            [
             0.5555555555555556,
             "#d8576b"
            ],
            [
             0.6666666666666666,
             "#ed7953"
            ],
            [
             0.7777777777777778,
             "#fb9f3a"
            ],
            [
             0.8888888888888888,
             "#fdca26"
            ],
            [
             1,
             "#f0f921"
            ]
           ]
          },
          "colorway": [
           "#636efa",
           "#EF553B",
           "#00cc96",
           "#ab63fa",
           "#FFA15A",
           "#19d3f3",
           "#FF6692",
           "#B6E880",
           "#FF97FF",
           "#FECB52"
          ],
          "font": {
           "color": "#2a3f5f"
          },
          "geo": {
           "bgcolor": "white",
           "lakecolor": "white",
           "landcolor": "#E5ECF6",
           "showlakes": true,
           "showland": true,
           "subunitcolor": "white"
          },
          "hoverlabel": {
           "align": "left"
          },
          "hovermode": "closest",
          "mapbox": {
           "style": "light"
          },
          "paper_bgcolor": "white",
          "plot_bgcolor": "#E5ECF6",
          "polar": {
           "angularaxis": {
            "gridcolor": "white",
            "linecolor": "white",
            "ticks": ""
           },
           "bgcolor": "#E5ECF6",
           "radialaxis": {
            "gridcolor": "white",
            "linecolor": "white",
            "ticks": ""
           }
          },
          "scene": {
           "xaxis": {
            "backgroundcolor": "#E5ECF6",
            "gridcolor": "white",
            "gridwidth": 2,
            "linecolor": "white",
            "showbackground": true,
            "ticks": "",
            "zerolinecolor": "white"
           },
           "yaxis": {
            "backgroundcolor": "#E5ECF6",
            "gridcolor": "white",
            "gridwidth": 2,
            "linecolor": "white",
            "showbackground": true,
            "ticks": "",
            "zerolinecolor": "white"
           },
           "zaxis": {
            "backgroundcolor": "#E5ECF6",
            "gridcolor": "white",
            "gridwidth": 2,
            "linecolor": "white",
            "showbackground": true,
            "ticks": "",
            "zerolinecolor": "white"
           }
          },
          "shapedefaults": {
           "line": {
            "color": "#2a3f5f"
           }
          },
          "ternary": {
           "aaxis": {
            "gridcolor": "white",
            "linecolor": "white",
            "ticks": ""
           },
           "baxis": {
            "gridcolor": "white",
            "linecolor": "white",
            "ticks": ""
           },
           "bgcolor": "#E5ECF6",
           "caxis": {
            "gridcolor": "white",
            "linecolor": "white",
            "ticks": ""
           }
          },
          "title": {
           "x": 0.05
          },
          "xaxis": {
           "automargin": true,
           "gridcolor": "white",
           "linecolor": "white",
           "ticks": "",
           "title": {
            "standoff": 15
           },
           "zerolinecolor": "white",
           "zerolinewidth": 2
          },
          "yaxis": {
           "automargin": true,
           "gridcolor": "white",
           "linecolor": "white",
           "ticks": "",
           "title": {
            "standoff": 15
           },
           "zerolinecolor": "white",
           "zerolinewidth": 2
          }
         }
        },
        "title": {
         "text": "EUR_USD_MA_8_16"
        },
        "width": 1000,
        "xaxis": {
         "linecolor": "#3a4a54",
         "linewidth": 1,
         "showgrid": false,
         "zeroline": false
        },
        "yaxis": {
         "linecolor": "#3a4a54",
         "linewidth": 1,
         "showgrid": false,
         "zeroline": false
        }
       }
      }
     },
     "metadata": {}
    },
    {
     "output_type": "display_data",
     "data": {
      "application/vnd.plotly.v1+json": {
       "config": {
        "plotlyServerURL": "https://plot.ly"
       },
       "data": [
        {
         "line": {
          "color": "#3d825f",
          "shape": "spline",
          "width": 2
         },
         "mode": "lines",
         "name": "CHF_JPY_GAIN",
         "type": "scatter",
         "x": [
          "2021-01-19T09:00:00+00:00",
          "2021-01-19T23:00:00+00:00",
          "2021-01-20T00:00:00+00:00",
          "2021-01-20T04:00:00+00:00",
          "2021-01-21T09:00:00+00:00",
          "2021-01-25T05:00:00+00:00",
          "2021-01-25T18:00:00+00:00",
          "2021-01-26T12:00:00+00:00",
          "2021-01-27T03:00:00+00:00",
          "2021-01-27T12:00:00+00:00",
          "2021-01-27T19:00:00+00:00",
          "2021-01-28T19:00:00+00:00",
          "2021-01-29T02:00:00+00:00",
          "2021-01-29T13:00:00+00:00",
          "2021-02-01T18:00:00+00:00",
          "2021-02-02T08:00:00+00:00",
          "2021-02-03T23:00:00+00:00",
          "2021-02-04T08:00:00+00:00",
          "2021-02-04T21:00:00+00:00",
          "2021-02-04T22:00:00+00:00",
          "2021-02-05T14:00:00+00:00",
          "2021-02-08T03:00:00+00:00",
          "2021-02-08T12:00:00+00:00",
          "2021-02-08T18:00:00+00:00",
          "2021-02-09T05:00:00+00:00",
          "2021-02-09T21:00:00+00:00",
          "2021-02-10T05:00:00+00:00",
          "2021-02-10T14:00:00+00:00",
          "2021-02-11T00:00:00+00:00",
          "2021-02-11T06:00:00+00:00",
          "2021-02-11T18:00:00+00:00",
          "2021-02-12T14:00:00+00:00",
          "2021-02-16T09:00:00+00:00",
          "2021-02-17T01:00:00+00:00",
          "2021-02-18T08:00:00+00:00",
          "2021-02-19T13:00:00+00:00",
          "2021-02-22T09:00:00+00:00",
          "2021-02-23T05:00:00+00:00",
          "2021-02-25T08:00:00+00:00",
          "2021-02-26T08:00:00+00:00",
          "2021-02-26T16:00:00+00:00",
          "2021-03-01T05:00:00+00:00",
          "2021-03-02T08:00:00+00:00",
          "2021-03-02T09:00:00+00:00",
          "2021-03-02T19:00:00+00:00",
          "2021-03-03T09:00:00+00:00",
          "2021-03-03T21:00:00+00:00",
          "2021-03-04T08:00:00+00:00",
          "2021-03-09T08:00:00+00:00",
          "2021-03-10T14:00:00+00:00",
          "2021-03-10T20:00:00+00:00",
          "2021-03-11T02:00:00+00:00",
          "2021-03-11T10:00:00+00:00",
          "2021-03-11T16:00:00+00:00",
          "2021-03-15T19:00:00+00:00",
          "2021-03-16T13:00:00+00:00",
          "2021-03-17T05:00:00+00:00",
          "2021-03-18T02:00:00+00:00",
          "2021-03-18T17:00:00+00:00",
          "2021-03-19T08:00:00+00:00",
          "2021-03-19T18:00:00+00:00",
          "2021-03-22T03:00:00+00:00",
          "2021-03-22T13:00:00+00:00",
          "2021-03-23T13:00:00+00:00",
          "2021-03-24T03:00:00+00:00",
          "2021-03-24T09:00:00+00:00",
          "2021-03-25T02:00:00+00:00",
          "2021-03-25T08:00:00+00:00",
          "2021-03-25T16:00:00+00:00",
          "2021-03-25T22:00:00+00:00",
          "2021-03-26T16:00:00+00:00",
          "2021-03-29T12:00:00+00:00",
          "2021-03-30T17:00:00+00:00",
          "2021-03-31T00:00:00+00:00",
          "2021-04-01T06:00:00+00:00",
          "2021-04-01T23:00:00+00:00",
          "2021-04-02T09:00:00+00:00",
          "2021-04-02T18:00:00+00:00",
          "2021-04-04T23:00:00+00:00",
          "2021-04-05T08:00:00+00:00",
          "2021-04-05T18:00:00+00:00",
          "2021-04-07T22:00:00+00:00",
          "2021-04-08T13:00:00+00:00",
          "2021-04-08T16:00:00+00:00",
          "2021-04-08T17:00:00+00:00",
          "2021-04-09T01:00:00+00:00",
          "2021-04-09T08:00:00+00:00",
          "2021-04-09T12:00:00+00:00",
          "2021-04-12T04:00:00+00:00",
          "2021-04-13T09:00:00+00:00",
          "2021-04-13T10:00:00+00:00",
          "2021-04-13T20:00:00+00:00",
          "2021-04-14T03:00:00+00:00",
          "2021-04-14T19:00:00+00:00",
          "2021-04-15T17:00:00+00:00",
          "2021-04-16T05:00:00+00:00",
          "2021-04-19T09:00:00+00:00",
          "2021-04-20T05:00:00+00:00",
          "2021-04-20T10:00:00+00:00",
          "2021-04-21T06:00:00+00:00",
          "2021-04-22T04:00:00+00:00",
          "2021-04-22T15:00:00+00:00",
          "2021-04-23T09:00:00+00:00",
          "2021-04-26T05:00:00+00:00",
          "2021-04-27T11:00:00+00:00",
          "2021-04-28T06:00:00+00:00",
          "2021-04-29T06:00:00+00:00",
          "2021-04-29T07:00:00+00:00",
          "2021-05-03T06:00:00+00:00",
          "2021-05-03T20:00:00+00:00",
          "2021-05-04T01:00:00+00:00",
          "2021-05-04T03:00:00+00:00",
          "2021-05-04T14:00:00+00:00",
          "2021-05-04T20:00:00+00:00",
          "2021-05-06T01:00:00+00:00",
          "2021-05-06T16:00:00+00:00",
          "2021-05-07T07:00:00+00:00",
          "2021-05-10T02:00:00+00:00",
          "2021-05-11T07:00:00+00:00",
          "2021-05-11T20:00:00+00:00",
          "2021-05-13T00:00:00+00:00",
          "2021-05-14T13:00:00+00:00",
          "2021-05-16T21:00:00+00:00",
          "2021-05-17T07:00:00+00:00",
          "2021-05-17T10:00:00+00:00",
          "2021-05-17T13:00:00+00:00",
          "2021-05-18T09:00:00+00:00",
          "2021-05-19T13:00:00+00:00",
          "2021-05-19T14:00:00+00:00",
          "2021-05-20T02:00:00+00:00",
          "2021-05-20T10:00:00+00:00",
          "2021-05-20T16:00:00+00:00",
          "2021-05-21T02:00:00+00:00",
          "2021-05-21T11:00:00+00:00",
          "2021-05-24T01:00:00+00:00",
          "2021-05-24T22:00:00+00:00",
          "2021-05-25T06:00:00+00:00",
          "2021-05-26T05:00:00+00:00",
          "2021-05-26T11:00:00+00:00",
          "2021-05-26T21:00:00+00:00",
          "2021-05-27T04:00:00+00:00",
          "2021-05-27T08:00:00+00:00",
          "2021-05-28T06:00:00+00:00",
          "2021-05-28T17:00:00+00:00",
          "2021-05-28T20:00:00+00:00",
          "2021-05-31T05:00:00+00:00",
          "2021-05-31T15:00:00+00:00",
          "2021-06-01T03:00:00+00:00",
          "2021-06-01T19:00:00+00:00",
          "2021-06-02T07:00:00+00:00",
          "2021-06-03T09:00:00+00:00",
          "2021-06-03T17:00:00+00:00",
          "2021-06-04T04:00:00+00:00",
          "2021-06-04T07:00:00+00:00",
          "2021-06-04T13:00:00+00:00",
          "2021-06-06T23:00:00+00:00",
          "2021-06-07T05:00:00+00:00",
          "2021-06-07T11:00:00+00:00",
          "2021-06-07T17:00:00+00:00",
          "2021-06-08T07:00:00+00:00",
          "2021-06-08T16:00:00+00:00",
          "2021-06-09T06:00:00+00:00",
          "2021-06-09T19:00:00+00:00",
          "2021-06-10T06:00:00+00:00",
          "2021-06-11T02:00:00+00:00",
          "2021-06-11T10:00:00+00:00",
          "2021-06-11T20:00:00+00:00",
          "2021-06-14T05:00:00+00:00",
          "2021-06-14T11:00:00+00:00",
          "2021-06-14T19:00:00+00:00",
          "2021-06-15T02:00:00+00:00",
          "2021-06-16T02:00:00+00:00",
          "2021-06-18T04:00:00+00:00",
          "2021-06-21T14:00:00+00:00",
          "2021-06-22T04:00:00+00:00",
          "2021-06-22T10:00:00+00:00",
          "2021-06-22T14:00:00+00:00",
          "2021-06-22T15:00:00+00:00",
          "2021-06-23T20:00:00+00:00",
          "2021-06-24T04:00:00+00:00",
          "2021-06-24T12:00:00+00:00",
          "2021-06-25T04:00:00+00:00",
          "2021-06-25T07:00:00+00:00",
          "2021-06-25T08:00:00+00:00",
          "2021-06-28T09:00:00+00:00",
          "2021-06-29T03:00:00+00:00",
          "2021-06-29T09:00:00+00:00",
          "2021-06-30T09:00:00+00:00",
          "2021-07-01T11:00:00+00:00",
          "2021-07-02T06:00:00+00:00",
          "2021-07-05T05:00:00+00:00",
          "2021-07-05T19:00:00+00:00",
          "2021-07-06T13:00:00+00:00",
          "2021-07-07T09:00:00+00:00",
          "2021-07-07T18:00:00+00:00",
          "2021-07-08T20:00:00+00:00",
          "2021-07-09T04:00:00+00:00",
          "2021-07-09T07:00:00+00:00",
          "2021-07-12T06:00:00+00:00",
          "2021-07-12T16:00:00+00:00",
          "2021-07-13T09:00:00+00:00",
          "2021-07-13T19:00:00+00:00",
          "2021-07-14T10:00:00+00:00",
          "2021-07-15T11:00:00+00:00",
          "2021-07-15T17:00:00+00:00",
          "2021-07-16T05:00:00+00:00",
          "2021-07-16T14:00:00+00:00",
          "2021-07-20T00:00:00+00:00",
          "2021-07-20T08:00:00+00:00",
          "2021-07-20T14:00:00+00:00",
          "2021-07-21T07:00:00+00:00",
          "2021-07-21T12:00:00+00:00",
          "2021-07-22T04:00:00+00:00",
          "2021-07-22T11:00:00+00:00",
          "2021-07-23T05:00:00+00:00",
          "2021-07-23T15:00:00+00:00",
          "2021-07-23T18:00:00+00:00",
          "2021-07-25T22:00:00+00:00",
          "2021-07-25T23:00:00+00:00",
          "2021-07-26T14:00:00+00:00",
          "2021-07-27T07:00:00+00:00",
          "2021-07-28T05:00:00+00:00",
          "2021-07-30T02:00:00+00:00",
          "2021-07-30T08:00:00+00:00",
          "2021-07-30T20:00:00+00:00",
          "2021-08-03T22:00:00+00:00",
          "2021-08-04T12:00:00+00:00",
          "2021-08-04T19:00:00+00:00",
          "2021-08-09T02:00:00+00:00",
          "2021-08-09T09:00:00+00:00",
          "2021-08-09T19:00:00+00:00",
          "2021-08-10T02:00:00+00:00",
          "2021-08-11T07:00:00+00:00",
          "2021-08-11T18:00:00+00:00",
          "2021-08-11T19:00:00+00:00",
          "2021-08-11T23:00:00+00:00",
          "2021-08-12T00:00:00+00:00",
          "2021-08-12T15:00:00+00:00",
          "2021-08-12T17:00:00+00:00",
          "2021-08-12T19:00:00+00:00",
          "2021-08-12T21:00:00+00:00",
          "2021-08-17T15:00:00+00:00",
          "2021-08-18T14:00:00+00:00",
          "2021-08-20T17:00:00+00:00",
          "2021-08-25T07:00:00+00:00",
          "2021-08-26T00:00:00+00:00",
          "2021-08-26T05:00:00+00:00",
          "2021-08-27T08:00:00+00:00",
          "2021-08-30T03:00:00+00:00",
          "2021-08-30T11:00:00+00:00",
          "2021-08-30T22:00:00+00:00",
          "2021-08-31T22:00:00+00:00",
          "2021-09-01T15:00:00+00:00",
          "2021-09-02T08:00:00+00:00",
          "2021-09-03T04:00:00+00:00",
          "2021-09-03T08:00:00+00:00",
          "2021-09-06T00:00:00+00:00",
          "2021-09-06T09:00:00+00:00",
          "2021-09-07T00:00:00+00:00"
         ],
         "y": [
          11.200000000000099,
          4.20000000000087,
          -14.999999999998348,
          97.30000000000237,
          239.40000000000293,
          233.90000000000464,
          213.2000000000067,
          197.00000000000716,
          179.8000000000055,
          141.7000000000046,
          181.8000000000053,
          147.40000000000643,
          101.00000000000665,
          126.00000000000611,
          102.80000000000511,
          171.20000000000468,
          103.2000000000055,
          86.00000000000607,
          84.20000000000537,
          50.60000000000508,
          40.90000000000593,
          41.50000000000542,
          38.90000000000393,
          33.00000000000303,
          46.50000000000265,
          35.90000000000204,
          27.200000000000554,
          15.69999999999849,
          2.099999999998211,
          -14.700000000000827,
          -13.800000000001592,
          21.199999999996773,
          22.199999999996663,
          77.99999999999807,
          62.19999999999892,
          57.19999999999948,
          78.19999999999939,
          144.1999999999988,
          200.09999999999863,
          152.1999999999979,
          142.1999999999968,
          260.3999999999962,
          245.39999999999566,
          214.39999999999463,
          215.999999999994,
          196.4999999999928,
          156.89999999999094,
          364.3999999999892,
          388.3999999999888,
          380.99999999998914,
          369.6999999999884,
          360.9999999999869,
          354.1999999999868,
          517.3999999999879,
          480.3999999999876,
          503.19999999998595,
          514.8999999999849,
          469.3999999999843,
          459.5999999999845,
          446.299999999984,
          442.79999999998324,
          413.1999999999825,
          425.2999999999818,
          421.599999999982,
          374.7999999999818,
          392.0999999999819,
          377.4999999999817,
          376.39999999998116,
          372.3999999999816,
          367.5999999999835,
          362.8999999999838,
          397.7999999999837,
          381.3999999999851,
          399.79999999998574,
          407.3999999999867,
          389.19999999998737,
          378.299999999987,
          377.59999999998684,
          347.09999999998684,
          310.0999999999865,
          496.19999999998663,
          490.79999999998677,
          494.39999999998594,
          496.79999999998614,
          484.1999999999858,
          489.29999999998586,
          434.9999999999876,
          413.5999999999873,
          450.79999999998677,
          442.4999999999879,
          438.7999999999881,
          419.4999999999882,
          418.799999999988,
          403.4999999999877,
          381.7999999999877,
          349.79999999998677,
          393.79999999998637,
          354.7999999999862,
          394.79999999998626,
          485.0999999999872,
          435.9999999999875,
          384.89999999998804,
          420.9999999999892,
          517.1999999999888,
          485.3999999999892,
          530.59999999999,
          515.5999999999894,
          602.7999999999901,
          598.5999999999914,
          600.7999999999925,
          594.9999999999922,
          578.7999999999904,
          546.9999999999886,
          611.0999999999867,
          580.7999999999859,
          560.7999999999859,
          585.399999999985,
          623.7999999999834,
          624.3999999999828,
          686.1999999999836,
          727.6999999999846,
          702.8999999999842,
          702.5999999999844,
          672.7999999999846,
          627.299999999984,
          612.6999999999839,
          676.1999999999824,
          641.7999999999813,
          600.899999999982,
          581.4999999999837,
          541.5999999999843,
          510.7999999999846,
          416.5999999999848,
          391.29999999998336,
          406.99999999998187,
          386.4999999999808,
          415.3999999999792,
          401.7999999999789,
          404.1999999999791,
          402.19999999997935,
          379.6999999999807,
          420.09999999998115,
          433.4999999999801,
          441.4999999999792,
          443.3999999999783,
          411.9999999999769,
          387.2999999999772,
          371.99999999997914,
          359.79999999997915,
          395.99999999997874,
          373.1999999999804,
          374.2999999999809,
          378.1999999999798,
          354.5999999999784,
          340.6999999999784,
          327.3999999999801,
          304.7999999999808,
          270.9999999999814,
          265.59999999998155,
          229.39999999997977,
          223.7999999999786,
          213.9999999999788,
          198.39999999997875,
          198.99999999997823,
          166.19999999997873,
          149.5999999999788,
          136.09999999997916,
          104.19999999998112,
          85.09999999998256,
          78.39999999998307,
          118.09999999998335,
          154.49999999998423,
          173.7999999999841,
          190.99999999998354,
          185.3999999999846,
          173.7999999999863,
          163.39999999998702,
          213.89999999998702,
          210.79999999998668,
          190.89999999998733,
          198.59999999998894,
          200.39999999998963,
          195.39999999999017,
          193.59999999998948,
          204.29999999998853,
          181.5999999999886,
          205.49999999998752,
          254.3999999999859,
          281.7999999999856,
          379.3999999999855,
          378.9999999999851,
          331.19999999998504,
          358.09999999998587,
          337.69999999998765,
          456.09999999998837,
          468.1999999999877,
          462.4999999999881,
          492.799999999989,
          476.199999999989,
          478.9999999999896,
          436.7999999999907,
          426.9999999999909,
          480.19999999999084,
          401.69999999999175,
          369.7999999999915,
          342.19999999999055,
          500.1999999999909,
          499.3999999999923,
          455.79999999999313,
          507.7999999999918,
          472.5999999999899,
          530.4999999999895,
          476.69999999999015,
          473.79999999999114,
          476.9999999999921,
          471.19999999999186,
          466.999999999991,
          468.29999999999063,
          474.59999999998973,
          456.5999999999895,
          503.99999999999136,
          581.9999999999916,
          590.5999999999902,
          584.8999999999907,
          654.1999999999916,
          622.5999999999912,
          571.399999999991,
          650.3999999999912,
          623.1999999999907,
          609.19999999999,
          613.9999999999905,
          699.1999999999913,
          700.5999999999916,
          704.1999999999907,
          710.9999999999886,
          708.9999999999866,
          712.7999999999848,
          705.1999999999839,
          692.3999999999844,
          686.2999999999844,
          778.1999999999847,
          774.9999999999859,
          1008.7999999999854,
          1224.999999999985,
          1240.1999999999846,
          1219.5999999999829,
          1267.2999999999822,
          1251.9999999999818,
          1216.6999999999814,
          1215.1999999999828,
          1243.0999999999835,
          1193.199999999983,
          1165.9999999999825,
          1177.6999999999814,
          1160.4999999999798,
          1159.3999999999792,
          1155.3999999999796,
          1163.3999999999787,
          1244.8999999999776
         ]
        }
       ],
       "layout": {
        "font": {
         "color": "#e1e1e1",
         "size": 10
        },
        "height": 400,
        "margin": {
         "b": 10,
         "l": 15,
         "r": 15
        },
        "paper_bgcolor": "#1e1e1e",
        "plot_bgcolor": "#1e1e1e",
        "template": {
         "data": {
          "bar": [
           {
            "error_x": {
             "color": "#2a3f5f"
            },
            "error_y": {
             "color": "#2a3f5f"
            },
            "marker": {
             "line": {
              "color": "#E5ECF6",
              "width": 0.5
             },
             "pattern": {
              "fillmode": "overlay",
              "size": 10,
              "solidity": 0.2
             }
            },
            "type": "bar"
           }
          ],
          "barpolar": [
           {
            "marker": {
             "line": {
              "color": "#E5ECF6",
              "width": 0.5
             },
             "pattern": {
              "fillmode": "overlay",
              "size": 10,
              "solidity": 0.2
             }
            },
            "type": "barpolar"
           }
          ],
          "carpet": [
           {
            "aaxis": {
             "endlinecolor": "#2a3f5f",
             "gridcolor": "white",
             "linecolor": "white",
             "minorgridcolor": "white",
             "startlinecolor": "#2a3f5f"
            },
            "baxis": {
             "endlinecolor": "#2a3f5f",
             "gridcolor": "white",
             "linecolor": "white",
             "minorgridcolor": "white",
             "startlinecolor": "#2a3f5f"
            },
            "type": "carpet"
           }
          ],
          "choropleth": [
           {
            "colorbar": {
             "outlinewidth": 0,
             "ticks": ""
            },
            "type": "choropleth"
           }
          ],
          "contour": [
           {
            "colorbar": {
             "outlinewidth": 0,
             "ticks": ""
            },
            "colorscale": [
             [
              0,
              "#0d0887"
             ],
             [
              0.1111111111111111,
              "#46039f"
             ],
             [
              0.2222222222222222,
              "#7201a8"
             ],
             [
              0.3333333333333333,
              "#9c179e"
             ],
             [
              0.4444444444444444,
              "#bd3786"
             ],
             [
              0.5555555555555556,
              "#d8576b"
             ],
             [
              0.6666666666666666,
              "#ed7953"
             ],
             [
              0.7777777777777778,
              "#fb9f3a"
             ],
             [
              0.8888888888888888,
              "#fdca26"
             ],
             [
              1,
              "#f0f921"
             ]
            ],
            "type": "contour"
           }
          ],
          "contourcarpet": [
           {
            "colorbar": {
             "outlinewidth": 0,
             "ticks": ""
            },
            "type": "contourcarpet"
           }
          ],
          "heatmap": [
           {
            "colorbar": {
             "outlinewidth": 0,
             "ticks": ""
            },
            "colorscale": [
             [
              0,
              "#0d0887"
             ],
             [
              0.1111111111111111,
              "#46039f"
             ],
             [
              0.2222222222222222,
              "#7201a8"
             ],
             [
              0.3333333333333333,
              "#9c179e"
             ],
             [
              0.4444444444444444,
              "#bd3786"
             ],
             [
              0.5555555555555556,
              "#d8576b"
             ],
             [
              0.6666666666666666,
              "#ed7953"
             ],
             [
              0.7777777777777778,
              "#fb9f3a"
             ],
             [
              0.8888888888888888,
              "#fdca26"
             ],
             [
              1,
              "#f0f921"
             ]
            ],
            "type": "heatmap"
           }
          ],
          "heatmapgl": [
           {
            "colorbar": {
             "outlinewidth": 0,
             "ticks": ""
            },
            "colorscale": [
             [
              0,
              "#0d0887"
             ],
             [
              0.1111111111111111,
              "#46039f"
             ],
             [
              0.2222222222222222,
              "#7201a8"
             ],
             [
              0.3333333333333333,
              "#9c179e"
             ],
             [
              0.4444444444444444,
              "#bd3786"
             ],
             [
              0.5555555555555556,
              "#d8576b"
             ],
             [
              0.6666666666666666,
              "#ed7953"
             ],
             [
              0.7777777777777778,
              "#fb9f3a"
             ],
             [
              0.8888888888888888,
              "#fdca26"
             ],
             [
              1,
              "#f0f921"
             ]
            ],
            "type": "heatmapgl"
           }
          ],
          "histogram": [
           {
            "marker": {
             "pattern": {
              "fillmode": "overlay",
              "size": 10,
              "solidity": 0.2
             }
            },
            "type": "histogram"
           }
          ],
          "histogram2d": [
           {
            "colorbar": {
             "outlinewidth": 0,
             "ticks": ""
            },
            "colorscale": [
             [
              0,
              "#0d0887"
             ],
             [
              0.1111111111111111,
              "#46039f"
             ],
             [
              0.2222222222222222,
              "#7201a8"
             ],
             [
              0.3333333333333333,
              "#9c179e"
             ],
             [
              0.4444444444444444,
              "#bd3786"
             ],
             [
              0.5555555555555556,
              "#d8576b"
             ],
             [
              0.6666666666666666,
              "#ed7953"
             ],
             [
              0.7777777777777778,
              "#fb9f3a"
             ],
             [
              0.8888888888888888,
              "#fdca26"
             ],
             [
              1,
              "#f0f921"
             ]
            ],
            "type": "histogram2d"
           }
          ],
          "histogram2dcontour": [
           {
            "colorbar": {
             "outlinewidth": 0,
             "ticks": ""
            },
            "colorscale": [
             [
              0,
              "#0d0887"
             ],
             [
              0.1111111111111111,
              "#46039f"
             ],
             [
              0.2222222222222222,
              "#7201a8"
             ],
             [
              0.3333333333333333,
              "#9c179e"
             ],
             [
              0.4444444444444444,
              "#bd3786"
             ],
             [
              0.5555555555555556,
              "#d8576b"
             ],
             [
              0.6666666666666666,
              "#ed7953"
             ],
             [
              0.7777777777777778,
              "#fb9f3a"
             ],
             [
              0.8888888888888888,
              "#fdca26"
             ],
             [
              1,
              "#f0f921"
             ]
            ],
            "type": "histogram2dcontour"
           }
          ],
          "mesh3d": [
           {
            "colorbar": {
             "outlinewidth": 0,
             "ticks": ""
            },
            "type": "mesh3d"
           }
          ],
          "parcoords": [
           {
            "line": {
             "colorbar": {
              "outlinewidth": 0,
              "ticks": ""
             }
            },
            "type": "parcoords"
           }
          ],
          "pie": [
           {
            "automargin": true,
            "type": "pie"
           }
          ],
          "scatter": [
           {
            "marker": {
             "colorbar": {
              "outlinewidth": 0,
              "ticks": ""
             }
            },
            "type": "scatter"
           }
          ],
          "scatter3d": [
           {
            "line": {
             "colorbar": {
              "outlinewidth": 0,
              "ticks": ""
             }
            },
            "marker": {
             "colorbar": {
              "outlinewidth": 0,
              "ticks": ""
             }
            },
            "type": "scatter3d"
           }
          ],
          "scattercarpet": [
           {
            "marker": {
             "colorbar": {
              "outlinewidth": 0,
              "ticks": ""
             }
            },
            "type": "scattercarpet"
           }
          ],
          "scattergeo": [
           {
            "marker": {
             "colorbar": {
              "outlinewidth": 0,
              "ticks": ""
             }
            },
            "type": "scattergeo"
           }
          ],
          "scattergl": [
           {
            "marker": {
             "colorbar": {
              "outlinewidth": 0,
              "ticks": ""
             }
            },
            "type": "scattergl"
           }
          ],
          "scattermapbox": [
           {
            "marker": {
             "colorbar": {
              "outlinewidth": 0,
              "ticks": ""
             }
            },
            "type": "scattermapbox"
           }
          ],
          "scatterpolar": [
           {
            "marker": {
             "colorbar": {
              "outlinewidth": 0,
              "ticks": ""
             }
            },
            "type": "scatterpolar"
           }
          ],
          "scatterpolargl": [
           {
            "marker": {
             "colorbar": {
              "outlinewidth": 0,
              "ticks": ""
             }
            },
            "type": "scatterpolargl"
           }
          ],
          "scatterternary": [
           {
            "marker": {
             "colorbar": {
              "outlinewidth": 0,
              "ticks": ""
             }
            },
            "type": "scatterternary"
           }
          ],
          "surface": [
           {
            "colorbar": {
             "outlinewidth": 0,
             "ticks": ""
            },
            "colorscale": [
             [
              0,
              "#0d0887"
             ],
             [
              0.1111111111111111,
              "#46039f"
             ],
             [
              0.2222222222222222,
              "#7201a8"
             ],
             [
              0.3333333333333333,
              "#9c179e"
             ],
             [
              0.4444444444444444,
              "#bd3786"
             ],
             [
              0.5555555555555556,
              "#d8576b"
             ],
             [
              0.6666666666666666,
              "#ed7953"
             ],
             [
              0.7777777777777778,
              "#fb9f3a"
             ],
             [
              0.8888888888888888,
              "#fdca26"
             ],
             [
              1,
              "#f0f921"
             ]
            ],
            "type": "surface"
           }
          ],
          "table": [
           {
            "cells": {
             "fill": {
              "color": "#EBF0F8"
             },
             "line": {
              "color": "white"
             }
            },
            "header": {
             "fill": {
              "color": "#C8D4E3"
             },
             "line": {
              "color": "white"
             }
            },
            "type": "table"
           }
          ]
         },
         "layout": {
          "annotationdefaults": {
           "arrowcolor": "#2a3f5f",
           "arrowhead": 0,
           "arrowwidth": 1
          },
          "autotypenumbers": "strict",
          "coloraxis": {
           "colorbar": {
            "outlinewidth": 0,
            "ticks": ""
           }
          },
          "colorscale": {
           "diverging": [
            [
             0,
             "#8e0152"
            ],
            [
             0.1,
             "#c51b7d"
            ],
            [
             0.2,
             "#de77ae"
            ],
            [
             0.3,
             "#f1b6da"
            ],
            [
             0.4,
             "#fde0ef"
            ],
            [
             0.5,
             "#f7f7f7"
            ],
            [
             0.6,
             "#e6f5d0"
            ],
            [
             0.7,
             "#b8e186"
            ],
            [
             0.8,
             "#7fbc41"
            ],
            [
             0.9,
             "#4d9221"
            ],
            [
             1,
             "#276419"
            ]
           ],
           "sequential": [
            [
             0,
             "#0d0887"
            ],
            [
             0.1111111111111111,
             "#46039f"
            ],
            [
             0.2222222222222222,
             "#7201a8"
            ],
            [
             0.3333333333333333,
             "#9c179e"
            ],
            [
             0.4444444444444444,
             "#bd3786"
            ],
            [
             0.5555555555555556,
             "#d8576b"
            ],
            [
             0.6666666666666666,
             "#ed7953"
            ],
            [
             0.7777777777777778,
             "#fb9f3a"
            ],
            [
             0.8888888888888888,
             "#fdca26"
            ],
            [
             1,
             "#f0f921"
            ]
           ],
           "sequentialminus": [
            [
             0,
             "#0d0887"
            ],
            [
             0.1111111111111111,
             "#46039f"
            ],
            [
             0.2222222222222222,
             "#7201a8"
            ],
            [
             0.3333333333333333,
             "#9c179e"
            ],
            [
             0.4444444444444444,
             "#bd3786"
            ],
            [
             0.5555555555555556,
             "#d8576b"
            ],
            [
             0.6666666666666666,
             "#ed7953"
            ],
            [
             0.7777777777777778,
             "#fb9f3a"
            ],
            [
             0.8888888888888888,
             "#fdca26"
            ],
            [
             1,
             "#f0f921"
            ]
           ]
          },
          "colorway": [
           "#636efa",
           "#EF553B",
           "#00cc96",
           "#ab63fa",
           "#FFA15A",
           "#19d3f3",
           "#FF6692",
           "#B6E880",
           "#FF97FF",
           "#FECB52"
          ],
          "font": {
           "color": "#2a3f5f"
          },
          "geo": {
           "bgcolor": "white",
           "lakecolor": "white",
           "landcolor": "#E5ECF6",
           "showlakes": true,
           "showland": true,
           "subunitcolor": "white"
          },
          "hoverlabel": {
           "align": "left"
          },
          "hovermode": "closest",
          "mapbox": {
           "style": "light"
          },
          "paper_bgcolor": "white",
          "plot_bgcolor": "#E5ECF6",
          "polar": {
           "angularaxis": {
            "gridcolor": "white",
            "linecolor": "white",
            "ticks": ""
           },
           "bgcolor": "#E5ECF6",
           "radialaxis": {
            "gridcolor": "white",
            "linecolor": "white",
            "ticks": ""
           }
          },
          "scene": {
           "xaxis": {
            "backgroundcolor": "#E5ECF6",
            "gridcolor": "white",
            "gridwidth": 2,
            "linecolor": "white",
            "showbackground": true,
            "ticks": "",
            "zerolinecolor": "white"
           },
           "yaxis": {
            "backgroundcolor": "#E5ECF6",
            "gridcolor": "white",
            "gridwidth": 2,
            "linecolor": "white",
            "showbackground": true,
            "ticks": "",
            "zerolinecolor": "white"
           },
           "zaxis": {
            "backgroundcolor": "#E5ECF6",
            "gridcolor": "white",
            "gridwidth": 2,
            "linecolor": "white",
            "showbackground": true,
            "ticks": "",
            "zerolinecolor": "white"
           }
          },
          "shapedefaults": {
           "line": {
            "color": "#2a3f5f"
           }
          },
          "ternary": {
           "aaxis": {
            "gridcolor": "white",
            "linecolor": "white",
            "ticks": ""
           },
           "baxis": {
            "gridcolor": "white",
            "linecolor": "white",
            "ticks": ""
           },
           "bgcolor": "#E5ECF6",
           "caxis": {
            "gridcolor": "white",
            "linecolor": "white",
            "ticks": ""
           }
          },
          "title": {
           "x": 0.05
          },
          "xaxis": {
           "automargin": true,
           "gridcolor": "white",
           "linecolor": "white",
           "ticks": "",
           "title": {
            "standoff": 15
           },
           "zerolinecolor": "white",
           "zerolinewidth": 2
          },
          "yaxis": {
           "automargin": true,
           "gridcolor": "white",
           "linecolor": "white",
           "ticks": "",
           "title": {
            "standoff": 15
           },
           "zerolinecolor": "white",
           "zerolinewidth": 2
          }
         }
        },
        "title": {
         "text": "EUR_CAD_MA_8_16"
        },
        "width": 1000,
        "xaxis": {
         "linecolor": "#3a4a54",
         "linewidth": 1,
         "showgrid": false,
         "zeroline": false
        },
        "yaxis": {
         "linecolor": "#3a4a54",
         "linewidth": 1,
         "showgrid": false,
         "zeroline": false
        }
       }
      }
     },
     "metadata": {}
    },
    {
     "output_type": "display_data",
     "data": {
      "application/vnd.plotly.v1+json": {
       "config": {
        "plotlyServerURL": "https://plot.ly"
       },
       "data": [
        {
         "line": {
          "color": "#3d825f",
          "shape": "spline",
          "width": 2
         },
         "mode": "lines",
         "name": "CHF_JPY_GAIN",
         "type": "scatter",
         "x": [
          "2021-01-19T10:00:00+00:00",
          "2021-01-20T03:00:00+00:00",
          "2021-01-21T14:00:00+00:00",
          "2021-01-22T03:00:00+00:00",
          "2021-01-22T05:00:00+00:00",
          "2021-01-24T23:00:00+00:00",
          "2021-01-25T21:00:00+00:00",
          "2021-01-26T11:00:00+00:00",
          "2021-01-27T02:00:00+00:00",
          "2021-01-27T11:00:00+00:00",
          "2021-01-27T16:00:00+00:00",
          "2021-01-28T17:00:00+00:00",
          "2021-01-29T06:00:00+00:00",
          "2021-01-29T12:00:00+00:00",
          "2021-01-31T22:00:00+00:00",
          "2021-02-01T06:00:00+00:00",
          "2021-02-01T17:00:00+00:00",
          "2021-02-01T23:00:00+00:00",
          "2021-02-03T15:00:00+00:00",
          "2021-02-04T02:00:00+00:00",
          "2021-02-04T16:00:00+00:00",
          "2021-02-05T20:00:00+00:00",
          "2021-02-08T10:00:00+00:00",
          "2021-02-08T17:00:00+00:00",
          "2021-02-09T10:00:00+00:00",
          "2021-02-11T03:00:00+00:00",
          "2021-02-11T22:00:00+00:00",
          "2021-02-12T18:00:00+00:00",
          "2021-02-15T14:00:00+00:00",
          "2021-02-15T23:00:00+00:00",
          "2021-02-16T13:00:00+00:00",
          "2021-02-17T08:00:00+00:00",
          "2021-02-18T10:00:00+00:00",
          "2021-02-18T12:00:00+00:00",
          "2021-02-18T16:00:00+00:00",
          "2021-02-19T00:00:00+00:00",
          "2021-02-22T11:00:00+00:00",
          "2021-02-22T17:00:00+00:00",
          "2021-02-22T23:00:00+00:00",
          "2021-02-23T12:00:00+00:00",
          "2021-02-25T07:00:00+00:00",
          "2021-03-01T03:00:00+00:00",
          "2021-03-01T13:00:00+00:00",
          "2021-03-01T17:00:00+00:00",
          "2021-03-02T04:00:00+00:00",
          "2021-03-02T15:00:00+00:00",
          "2021-03-03T01:00:00+00:00",
          "2021-03-04T05:00:00+00:00",
          "2021-03-04T18:00:00+00:00",
          "2021-03-05T18:00:00+00:00",
          "2021-03-08T08:00:00+00:00",
          "2021-03-08T18:00:00+00:00",
          "2021-03-09T03:00:00+00:00",
          "2021-03-09T10:00:00+00:00",
          "2021-03-10T05:00:00+00:00",
          "2021-03-10T13:00:00+00:00",
          "2021-03-11T15:00:00+00:00",
          "2021-03-12T04:00:00+00:00",
          "2021-03-12T08:00:00+00:00",
          "2021-03-15T01:00:00+00:00",
          "2021-03-15T17:00:00+00:00",
          "2021-03-15T20:00:00+00:00",
          "2021-03-16T07:00:00+00:00",
          "2021-03-16T16:00:00+00:00",
          "2021-03-17T03:00:00+00:00",
          "2021-03-17T22:00:00+00:00",
          "2021-03-18T13:00:00+00:00",
          "2021-03-19T08:00:00+00:00",
          "2021-03-19T19:00:00+00:00",
          "2021-03-22T10:00:00+00:00",
          "2021-03-22T17:00:00+00:00",
          "2021-03-24T12:00:00+00:00",
          "2021-03-24T19:00:00+00:00",
          "2021-03-25T03:00:00+00:00",
          "2021-03-25T17:00:00+00:00",
          "2021-03-25T19:00:00+00:00",
          "2021-03-28T23:00:00+00:00",
          "2021-03-29T02:00:00+00:00",
          "2021-03-29T05:00:00+00:00",
          "2021-03-29T10:00:00+00:00",
          "2021-03-30T13:00:00+00:00",
          "2021-03-30T23:00:00+00:00",
          "2021-03-31T08:00:00+00:00",
          "2021-03-31T13:00:00+00:00",
          "2021-03-31T19:00:00+00:00",
          "2021-04-01T13:00:00+00:00",
          "2021-04-02T12:00:00+00:00",
          "2021-04-02T18:00:00+00:00",
          "2021-04-05T19:00:00+00:00",
          "2021-04-07T03:00:00+00:00",
          "2021-04-07T07:00:00+00:00",
          "2021-04-08T03:00:00+00:00",
          "2021-04-08T20:00:00+00:00",
          "2021-04-09T02:00:00+00:00",
          "2021-04-09T06:00:00+00:00",
          "2021-04-09T14:00:00+00:00",
          "2021-04-11T21:00:00+00:00",
          "2021-04-12T09:00:00+00:00",
          "2021-04-12T15:00:00+00:00",
          "2021-04-13T09:00:00+00:00",
          "2021-04-13T17:00:00+00:00",
          "2021-04-13T23:00:00+00:00",
          "2021-04-16T04:00:00+00:00",
          "2021-04-19T04:00:00+00:00",
          "2021-04-19T16:00:00+00:00",
          "2021-04-20T02:00:00+00:00",
          "2021-04-20T15:00:00+00:00",
          "2021-04-21T07:00:00+00:00",
          "2021-04-22T02:00:00+00:00",
          "2021-04-23T05:00:00+00:00",
          "2021-04-23T11:00:00+00:00",
          "2021-04-26T03:00:00+00:00",
          "2021-04-27T03:00:00+00:00",
          "2021-04-28T07:00:00+00:00",
          "2021-04-29T03:00:00+00:00",
          "2021-04-29T12:00:00+00:00",
          "2021-04-29T13:00:00+00:00",
          "2021-04-30T02:00:00+00:00",
          "2021-04-30T14:00:00+00:00",
          "2021-05-03T03:00:00+00:00",
          "2021-05-03T09:00:00+00:00",
          "2021-05-03T16:00:00+00:00",
          "2021-05-04T03:00:00+00:00",
          "2021-05-04T22:00:00+00:00",
          "2021-05-06T04:00:00+00:00",
          "2021-05-06T20:00:00+00:00",
          "2021-05-07T06:00:00+00:00",
          "2021-05-07T18:00:00+00:00",
          "2021-05-10T02:00:00+00:00",
          "2021-05-10T05:00:00+00:00",
          "2021-05-10T21:00:00+00:00",
          "2021-05-11T22:00:00+00:00",
          "2021-05-12T03:00:00+00:00",
          "2021-05-13T05:00:00+00:00",
          "2021-05-13T08:00:00+00:00",
          "2021-05-13T15:00:00+00:00",
          "2021-05-14T03:00:00+00:00",
          "2021-05-14T11:00:00+00:00",
          "2021-05-17T02:00:00+00:00",
          "2021-05-17T21:00:00+00:00",
          "2021-05-18T12:00:00+00:00",
          "2021-05-19T23:00:00+00:00",
          "2021-05-20T21:00:00+00:00",
          "2021-05-21T11:00:00+00:00",
          "2021-05-21T20:00:00+00:00",
          "2021-05-24T05:00:00+00:00",
          "2021-05-24T06:00:00+00:00",
          "2021-05-24T14:00:00+00:00",
          "2021-05-25T07:00:00+00:00",
          "2021-05-26T02:00:00+00:00",
          "2021-05-27T18:00:00+00:00",
          "2021-05-31T07:00:00+00:00",
          "2021-05-31T20:00:00+00:00",
          "2021-06-01T04:00:00+00:00",
          "2021-06-01T09:00:00+00:00",
          "2021-06-01T23:00:00+00:00",
          "2021-06-02T07:00:00+00:00",
          "2021-06-02T18:00:00+00:00",
          "2021-06-02T20:00:00+00:00",
          "2021-06-04T03:00:00+00:00",
          "2021-06-07T07:00:00+00:00",
          "2021-06-07T09:00:00+00:00",
          "2021-06-07T21:00:00+00:00",
          "2021-06-09T03:00:00+00:00",
          "2021-06-09T09:00:00+00:00",
          "2021-06-09T11:00:00+00:00",
          "2021-06-09T12:00:00+00:00",
          "2021-06-10T03:00:00+00:00",
          "2021-06-11T02:00:00+00:00",
          "2021-06-11T10:00:00+00:00",
          "2021-06-11T15:00:00+00:00",
          "2021-06-14T02:00:00+00:00",
          "2021-06-14T12:00:00+00:00",
          "2021-06-15T04:00:00+00:00",
          "2021-06-15T09:00:00+00:00",
          "2021-06-16T02:00:00+00:00",
          "2021-06-16T19:00:00+00:00",
          "2021-06-17T02:00:00+00:00",
          "2021-06-17T11:00:00+00:00",
          "2021-06-17T23:00:00+00:00",
          "2021-06-18T05:00:00+00:00",
          "2021-06-21T02:00:00+00:00",
          "2021-06-21T13:00:00+00:00",
          "2021-06-21T16:00:00+00:00",
          "2021-06-22T02:00:00+00:00",
          "2021-06-22T10:00:00+00:00",
          "2021-06-23T04:00:00+00:00",
          "2021-06-23T09:00:00+00:00",
          "2021-06-25T15:00:00+00:00",
          "2021-06-28T02:00:00+00:00",
          "2021-06-28T10:00:00+00:00",
          "2021-06-30T02:00:00+00:00",
          "2021-06-30T11:00:00+00:00",
          "2021-06-30T16:00:00+00:00",
          "2021-07-01T10:00:00+00:00",
          "2021-07-02T08:00:00+00:00",
          "2021-07-05T06:00:00+00:00",
          "2021-07-05T19:00:00+00:00",
          "2021-07-06T16:00:00+00:00",
          "2021-07-07T05:00:00+00:00",
          "2021-07-07T19:00:00+00:00",
          "2021-07-09T09:00:00+00:00",
          "2021-07-12T05:00:00+00:00",
          "2021-07-12T16:00:00+00:00",
          "2021-07-13T11:00:00+00:00",
          "2021-07-13T20:00:00+00:00",
          "2021-07-14T16:00:00+00:00",
          "2021-07-16T01:00:00+00:00",
          "2021-07-16T17:00:00+00:00",
          "2021-07-20T03:00:00+00:00",
          "2021-07-20T04:00:00+00:00",
          "2021-07-20T17:00:00+00:00",
          "2021-07-21T07:00:00+00:00",
          "2021-07-21T10:00:00+00:00",
          "2021-07-22T04:00:00+00:00",
          "2021-07-22T11:00:00+00:00",
          "2021-07-23T08:00:00+00:00",
          "2021-07-23T11:00:00+00:00",
          "2021-07-25T21:00:00+00:00",
          "2021-07-26T15:00:00+00:00",
          "2021-07-27T04:00:00+00:00",
          "2021-07-28T02:00:00+00:00",
          "2021-07-28T09:00:00+00:00",
          "2021-07-29T01:00:00+00:00",
          "2021-07-30T03:00:00+00:00",
          "2021-08-02T14:00:00+00:00",
          "2021-08-04T18:00:00+00:00",
          "2021-08-05T03:00:00+00:00",
          "2021-08-05T22:00:00+00:00",
          "2021-08-06T09:00:00+00:00",
          "2021-08-06T19:00:00+00:00",
          "2021-08-09T05:00:00+00:00",
          "2021-08-09T15:00:00+00:00",
          "2021-08-10T11:00:00+00:00",
          "2021-08-11T05:00:00+00:00",
          "2021-08-11T12:00:00+00:00",
          "2021-08-12T01:00:00+00:00",
          "2021-08-13T08:00:00+00:00",
          "2021-08-13T09:00:00+00:00",
          "2021-08-13T18:00:00+00:00",
          "2021-08-16T03:00:00+00:00",
          "2021-08-16T12:00:00+00:00",
          "2021-08-16T18:00:00+00:00",
          "2021-08-17T18:00:00+00:00",
          "2021-08-18T09:00:00+00:00",
          "2021-08-19T20:00:00+00:00",
          "2021-08-20T00:00:00+00:00",
          "2021-08-20T15:00:00+00:00",
          "2021-08-22T22:00:00+00:00",
          "2021-08-23T07:00:00+00:00",
          "2021-08-23T08:00:00+00:00",
          "2021-08-23T11:00:00+00:00",
          "2021-08-24T22:00:00+00:00",
          "2021-08-25T07:00:00+00:00",
          "2021-08-26T03:00:00+00:00",
          "2021-08-26T16:00:00+00:00",
          "2021-08-26T20:00:00+00:00",
          "2021-08-27T11:00:00+00:00",
          "2021-08-30T03:00:00+00:00",
          "2021-08-30T13:00:00+00:00",
          "2021-08-30T22:00:00+00:00",
          "2021-08-31T00:00:00+00:00",
          "2021-08-31T20:00:00+00:00",
          "2021-08-31T21:00:00+00:00",
          "2021-09-01T04:00:00+00:00",
          "2021-09-01T05:00:00+00:00",
          "2021-09-01T06:00:00+00:00",
          "2021-09-01T07:00:00+00:00",
          "2021-09-01T14:00:00+00:00",
          "2021-09-01T22:00:00+00:00",
          "2021-09-02T04:00:00+00:00",
          "2021-09-02T06:00:00+00:00",
          "2021-09-03T00:00:00+00:00",
          "2021-09-03T07:00:00+00:00",
          "2021-09-06T03:00:00+00:00",
          "2021-09-06T12:00:00+00:00",
          "2021-09-06T16:00:00+00:00"
         ],
         "y": [
          -3.4000000000000696,
          156.40000000000097,
          205.60000000000133,
          210.6000000000008,
          237.80000000000135,
          333.0000000000033,
          302.70000000000465,
          302.4000000000049,
          282.8000000000053,
          226.00000000000622,
          254.20000000000667,
          243.00000000000657,
          218.20000000000618,
          171.8000000000064,
          104.80000000000713,
          103.40000000000684,
          94.00000000000522,
          235.60000000000474,
          222.80000000000527,
          185.4000000000045,
          178.40000000000305,
          154.20000000000215,
          87.10000000000221,
          25.200000000003037,
          75.10000000000353,
          83.20000000000331,
          87.60000000000328,
          89.00000000000357,
          80.40000000000273,
          73.00000000000088,
          49.200000000000394,
          69.40000000000173,
          70.40000000000161,
          38.89999999999953,
          23.599999999999216,
          188.39999999999972,
          178.89999999999966,
          159.79999999999887,
          130.39999999999722,
          330.4999999999958,
          562.3999999999962,
          561.5999999999976,
          533.1999999999981,
          513.5999999999985,
          489.4999999999983,
          495.5999999999983,
          544.9999999999977,
          478.99999999999613,
          428.1999999999964,
          396.29999999999615,
          358.59999999999565,
          336.99999999999625,
          296.1999999999954,
          265.39999999999344,
          208.59999999999215,
          191.9999999999922,
          175.39999999999227,
          136.39999999999213,
          111.39999999999267,
          131.79999999999308,
          125.19999999999203,
          97.99999999999147,
          48.79999999999112,
          27.599999999989905,
          7.399999999988577,
          -39.60000000001291,
          -32.40000000001459,
          -43.4000000000156,
          -31.50000000001536,
          -45.800000000015785,
          263.5999999999839,
          253.79999999998407,
          244.59999999998374,
          257.79999999998364,
          247.59999999998342,
          313.99999999998323,
          318.89999999998423,
          301.99999999998454,
          237.59999999998453,
          260.39999999998514,
          237.19999999998413,
          213.299999999983,
          169.19999999998274,
          125.09999999998249,
          118.29999999998235,
          166.19999999998305,
          176.99999999998275,
          193.3999999999814,
          284.9999999999819,
          234.999999999983,
          278.9999999999826,
          313.7999999999819,
          329.79999999998233,
          278.9999999999826,
          213.89999999998247,
          177.6999999999829,
          162.39999999998258,
          125.39999999998221,
          95.49999999998172,
          59.799999999981,
          43.59999999998145,
          271.59999999998297,
          312.59999999998513,
          278.99999999998704,
          229.3999999999885,
          193.99999999998974,
          163.2999999999907,
          180.59999999999079,
          220.69999999999146,
          182.99999999999318,
          175.59999999999354,
          239.59999999999314,
          280.79999999999217,
          319.89999999999077,
          299.3999999999897,
          276.7999999999882,
          273.3999999999881,
          216.99999999998943,
          193.0999999999905,
          128.59999999999206,
          56.99999999999373,
          41.99999999999538,
          36.999999999995936,
          133.19999999999555,
          149.89999999999617,
          126.79999999999583,
          128.29999999999455,
          123.19999999999445,
          110.19999999999365,
          104.3999999999934,
          125.99999999999501,
          84.89999999999665,
          196.799999999997,
          210.4999999999957,
          159.99999999999574,
          128.29999999999677,
          57.59999999999768,
          30.39999999999934,
          77.30000000000017,
          105.39999999999996,
          282.80000000000086,
          288.8000000000024,
          207.00000000000387,
          144.00000000000415,
          165.60000000000355,
          167.60000000000332,
          119.40000000000285,
          102.0000000000021,
          -41.099999999998346,
          48.600000000000875,
          123.2000000000011,
          112.30000000000297,
          95.20000000000418,
          49.70000000000364,
          55.000000000002835,
          22.40000000000243,
          14.500000000001744,
          12.00000000000091,
          90.09999999999962,
          168.99999999999915,
          150.3999999999994,
          136.89999999999978,
          197.10000000000113,
          203.60000000000153,
          206.8000000000003,
          188.59999999999874,
          188.79999999999782,
          176.99999999999824,
          144.79999999999825,
          82.9999999999975,
          42.19999999999666,
          18.199999999997086,
          3.099999999998083,
          -43.20000000000103,
          -59.40000000000058,
          -92.000000000001,
          -179.10000000000093,
          -286.0000000000018,
          -337.00000000000284,
          -403.0000000000022,
          -426.00000000000193,
          -463.4000000000027,
          -483.00000000000233,
          -513.4000000000017,
          -550.6000000000012,
          -525.2000000000013,
          -564.0000000000024,
          -469.40000000000214,
          -478.00000000000074,
          -522.1999999999994,
          -435.20000000000005,
          -447.60000000000133,
          -488.7000000000019,
          -502.4000000000029,
          -489.6000000000034,
          -372.1000000000041,
          -357.30000000000484,
          -331.2000000000048,
          -370.80000000000445,
          -361.8000000000032,
          -162.20000000000343,
          -136.00000000000497,
          -148.10000000000653,
          -129.40000000000836,
          -142.40000000000916,
          -20.800000000009675,
          31.39999999999035,
          68.5999999999898,
          248.79999999998904,
          197.1999999999885,
          156.59999999998678,
          171.39999999998605,
          156.59999999998678,
          214.6999999999877,
          181.59999999998848,
          220.89999999998838,
          194.09999999998823,
          154.0999999999882,
          128.99999999998806,
          114.99999999998738,
          227.39999999998656,
          204.59999999998595,
          234.49999999998423,
          305.7999999999828,
          348.9999999999816,
          564.3999999999805,
          547.5999999999793,
          547.9999999999775,
          513.199999999976,
          487.8999999999745,
          464.3999999999738,
          431.4999999999736,
          395.5999999999738,
          411.5999999999743,
          332.2999999999744,
          292.69999999997475,
          359.3999999999743,
          346.59999999997257,
          320.3999999999719,
          279.69999999997174,
          257.89999999997104,
          237.4999999999706,
          417.4999999999708,
          383.59999999997075,
          479.6999999999697,
          478.1999999999687,
          499.1999999999686,
          495.99999999996766,
          505.9999999999666,
          519.1999999999665,
          464.7999999999654,
          600.3999999999634,
          571.5999999999634,
          570.5999999999635,
          577.4999999999621,
          571.0999999999624,
          584.3999999999629,
          643.4999999999637,
          627.7999999999653,
          622.9999999999649,
          573.199999999965,
          622.6999999999651,
          628.299999999964,
          620.9999999999628,
          591.7999999999624,
          594.6999999999637,
          576.8999999999647,
          532.5999999999653,
          527.5999999999659,
          533.1999999999671,
          507.9999999999685,
          537.3999999999702,
          504.799999999972,
          548.5999999999725,
          547.1999999999722,
          526.1999999999723,
          547.3999999999713
         ]
        }
       ],
       "layout": {
        "font": {
         "color": "#e1e1e1",
         "size": 10
        },
        "height": 400,
        "margin": {
         "b": 10,
         "l": 15,
         "r": 15
        },
        "paper_bgcolor": "#1e1e1e",
        "plot_bgcolor": "#1e1e1e",
        "template": {
         "data": {
          "bar": [
           {
            "error_x": {
             "color": "#2a3f5f"
            },
            "error_y": {
             "color": "#2a3f5f"
            },
            "marker": {
             "line": {
              "color": "#E5ECF6",
              "width": 0.5
             },
             "pattern": {
              "fillmode": "overlay",
              "size": 10,
              "solidity": 0.2
             }
            },
            "type": "bar"
           }
          ],
          "barpolar": [
           {
            "marker": {
             "line": {
              "color": "#E5ECF6",
              "width": 0.5
             },
             "pattern": {
              "fillmode": "overlay",
              "size": 10,
              "solidity": 0.2
             }
            },
            "type": "barpolar"
           }
          ],
          "carpet": [
           {
            "aaxis": {
             "endlinecolor": "#2a3f5f",
             "gridcolor": "white",
             "linecolor": "white",
             "minorgridcolor": "white",
             "startlinecolor": "#2a3f5f"
            },
            "baxis": {
             "endlinecolor": "#2a3f5f",
             "gridcolor": "white",
             "linecolor": "white",
             "minorgridcolor": "white",
             "startlinecolor": "#2a3f5f"
            },
            "type": "carpet"
           }
          ],
          "choropleth": [
           {
            "colorbar": {
             "outlinewidth": 0,
             "ticks": ""
            },
            "type": "choropleth"
           }
          ],
          "contour": [
           {
            "colorbar": {
             "outlinewidth": 0,
             "ticks": ""
            },
            "colorscale": [
             [
              0,
              "#0d0887"
             ],
             [
              0.1111111111111111,
              "#46039f"
             ],
             [
              0.2222222222222222,
              "#7201a8"
             ],
             [
              0.3333333333333333,
              "#9c179e"
             ],
             [
              0.4444444444444444,
              "#bd3786"
             ],
             [
              0.5555555555555556,
              "#d8576b"
             ],
             [
              0.6666666666666666,
              "#ed7953"
             ],
             [
              0.7777777777777778,
              "#fb9f3a"
             ],
             [
              0.8888888888888888,
              "#fdca26"
             ],
             [
              1,
              "#f0f921"
             ]
            ],
            "type": "contour"
           }
          ],
          "contourcarpet": [
           {
            "colorbar": {
             "outlinewidth": 0,
             "ticks": ""
            },
            "type": "contourcarpet"
           }
          ],
          "heatmap": [
           {
            "colorbar": {
             "outlinewidth": 0,
             "ticks": ""
            },
            "colorscale": [
             [
              0,
              "#0d0887"
             ],
             [
              0.1111111111111111,
              "#46039f"
             ],
             [
              0.2222222222222222,
              "#7201a8"
             ],
             [
              0.3333333333333333,
              "#9c179e"
             ],
             [
              0.4444444444444444,
              "#bd3786"
             ],
             [
              0.5555555555555556,
              "#d8576b"
             ],
             [
              0.6666666666666666,
              "#ed7953"
             ],
             [
              0.7777777777777778,
              "#fb9f3a"
             ],
             [
              0.8888888888888888,
              "#fdca26"
             ],
             [
              1,
              "#f0f921"
             ]
            ],
            "type": "heatmap"
           }
          ],
          "heatmapgl": [
           {
            "colorbar": {
             "outlinewidth": 0,
             "ticks": ""
            },
            "colorscale": [
             [
              0,
              "#0d0887"
             ],
             [
              0.1111111111111111,
              "#46039f"
             ],
             [
              0.2222222222222222,
              "#7201a8"
             ],
             [
              0.3333333333333333,
              "#9c179e"
             ],
             [
              0.4444444444444444,
              "#bd3786"
             ],
             [
              0.5555555555555556,
              "#d8576b"
             ],
             [
              0.6666666666666666,
              "#ed7953"
             ],
             [
              0.7777777777777778,
              "#fb9f3a"
             ],
             [
              0.8888888888888888,
              "#fdca26"
             ],
             [
              1,
              "#f0f921"
             ]
            ],
            "type": "heatmapgl"
           }
          ],
          "histogram": [
           {
            "marker": {
             "pattern": {
              "fillmode": "overlay",
              "size": 10,
              "solidity": 0.2
             }
            },
            "type": "histogram"
           }
          ],
          "histogram2d": [
           {
            "colorbar": {
             "outlinewidth": 0,
             "ticks": ""
            },
            "colorscale": [
             [
              0,
              "#0d0887"
             ],
             [
              0.1111111111111111,
              "#46039f"
             ],
             [
              0.2222222222222222,
              "#7201a8"
             ],
             [
              0.3333333333333333,
              "#9c179e"
             ],
             [
              0.4444444444444444,
              "#bd3786"
             ],
             [
              0.5555555555555556,
              "#d8576b"
             ],
             [
              0.6666666666666666,
              "#ed7953"
             ],
             [
              0.7777777777777778,
              "#fb9f3a"
             ],
             [
              0.8888888888888888,
              "#fdca26"
             ],
             [
              1,
              "#f0f921"
             ]
            ],
            "type": "histogram2d"
           }
          ],
          "histogram2dcontour": [
           {
            "colorbar": {
             "outlinewidth": 0,
             "ticks": ""
            },
            "colorscale": [
             [
              0,
              "#0d0887"
             ],
             [
              0.1111111111111111,
              "#46039f"
             ],
             [
              0.2222222222222222,
              "#7201a8"
             ],
             [
              0.3333333333333333,
              "#9c179e"
             ],
             [
              0.4444444444444444,
              "#bd3786"
             ],
             [
              0.5555555555555556,
              "#d8576b"
             ],
             [
              0.6666666666666666,
              "#ed7953"
             ],
             [
              0.7777777777777778,
              "#fb9f3a"
             ],
             [
              0.8888888888888888,
              "#fdca26"
             ],
             [
              1,
              "#f0f921"
             ]
            ],
            "type": "histogram2dcontour"
           }
          ],
          "mesh3d": [
           {
            "colorbar": {
             "outlinewidth": 0,
             "ticks": ""
            },
            "type": "mesh3d"
           }
          ],
          "parcoords": [
           {
            "line": {
             "colorbar": {
              "outlinewidth": 0,
              "ticks": ""
             }
            },
            "type": "parcoords"
           }
          ],
          "pie": [
           {
            "automargin": true,
            "type": "pie"
           }
          ],
          "scatter": [
           {
            "marker": {
             "colorbar": {
              "outlinewidth": 0,
              "ticks": ""
             }
            },
            "type": "scatter"
           }
          ],
          "scatter3d": [
           {
            "line": {
             "colorbar": {
              "outlinewidth": 0,
              "ticks": ""
             }
            },
            "marker": {
             "colorbar": {
              "outlinewidth": 0,
              "ticks": ""
             }
            },
            "type": "scatter3d"
           }
          ],
          "scattercarpet": [
           {
            "marker": {
             "colorbar": {
              "outlinewidth": 0,
              "ticks": ""
             }
            },
            "type": "scattercarpet"
           }
          ],
          "scattergeo": [
           {
            "marker": {
             "colorbar": {
              "outlinewidth": 0,
              "ticks": ""
             }
            },
            "type": "scattergeo"
           }
          ],
          "scattergl": [
           {
            "marker": {
             "colorbar": {
              "outlinewidth": 0,
              "ticks": ""
             }
            },
            "type": "scattergl"
           }
          ],
          "scattermapbox": [
           {
            "marker": {
             "colorbar": {
              "outlinewidth": 0,
              "ticks": ""
             }
            },
            "type": "scattermapbox"
           }
          ],
          "scatterpolar": [
           {
            "marker": {
             "colorbar": {
              "outlinewidth": 0,
              "ticks": ""
             }
            },
            "type": "scatterpolar"
           }
          ],
          "scatterpolargl": [
           {
            "marker": {
             "colorbar": {
              "outlinewidth": 0,
              "ticks": ""
             }
            },
            "type": "scatterpolargl"
           }
          ],
          "scatterternary": [
           {
            "marker": {
             "colorbar": {
              "outlinewidth": 0,
              "ticks": ""
             }
            },
            "type": "scatterternary"
           }
          ],
          "surface": [
           {
            "colorbar": {
             "outlinewidth": 0,
             "ticks": ""
            },
            "colorscale": [
             [
              0,
              "#0d0887"
             ],
             [
              0.1111111111111111,
              "#46039f"
             ],
             [
              0.2222222222222222,
              "#7201a8"
             ],
             [
              0.3333333333333333,
              "#9c179e"
             ],
             [
              0.4444444444444444,
              "#bd3786"
             ],
             [
              0.5555555555555556,
              "#d8576b"
             ],
             [
              0.6666666666666666,
              "#ed7953"
             ],
             [
              0.7777777777777778,
              "#fb9f3a"
             ],
             [
              0.8888888888888888,
              "#fdca26"
             ],
             [
              1,
              "#f0f921"
             ]
            ],
            "type": "surface"
           }
          ],
          "table": [
           {
            "cells": {
             "fill": {
              "color": "#EBF0F8"
             },
             "line": {
              "color": "white"
             }
            },
            "header": {
             "fill": {
              "color": "#C8D4E3"
             },
             "line": {
              "color": "white"
             }
            },
            "type": "table"
           }
          ]
         },
         "layout": {
          "annotationdefaults": {
           "arrowcolor": "#2a3f5f",
           "arrowhead": 0,
           "arrowwidth": 1
          },
          "autotypenumbers": "strict",
          "coloraxis": {
           "colorbar": {
            "outlinewidth": 0,
            "ticks": ""
           }
          },
          "colorscale": {
           "diverging": [
            [
             0,
             "#8e0152"
            ],
            [
             0.1,
             "#c51b7d"
            ],
            [
             0.2,
             "#de77ae"
            ],
            [
             0.3,
             "#f1b6da"
            ],
            [
             0.4,
             "#fde0ef"
            ],
            [
             0.5,
             "#f7f7f7"
            ],
            [
             0.6,
             "#e6f5d0"
            ],
            [
             0.7,
             "#b8e186"
            ],
            [
             0.8,
             "#7fbc41"
            ],
            [
             0.9,
             "#4d9221"
            ],
            [
             1,
             "#276419"
            ]
           ],
           "sequential": [
            [
             0,
             "#0d0887"
            ],
            [
             0.1111111111111111,
             "#46039f"
            ],
            [
             0.2222222222222222,
             "#7201a8"
            ],
            [
             0.3333333333333333,
             "#9c179e"
            ],
            [
             0.4444444444444444,
             "#bd3786"
            ],
            [
             0.5555555555555556,
             "#d8576b"
            ],
            [
             0.6666666666666666,
             "#ed7953"
            ],
            [
             0.7777777777777778,
             "#fb9f3a"
            ],
            [
             0.8888888888888888,
             "#fdca26"
            ],
            [
             1,
             "#f0f921"
            ]
           ],
           "sequentialminus": [
            [
             0,
             "#0d0887"
            ],
            [
             0.1111111111111111,
             "#46039f"
            ],
            [
             0.2222222222222222,
             "#7201a8"
            ],
            [
             0.3333333333333333,
             "#9c179e"
            ],
            [
             0.4444444444444444,
             "#bd3786"
            ],
            [
             0.5555555555555556,
             "#d8576b"
            ],
            [
             0.6666666666666666,
             "#ed7953"
            ],
            [
             0.7777777777777778,
             "#fb9f3a"
            ],
            [
             0.8888888888888888,
             "#fdca26"
            ],
            [
             1,
             "#f0f921"
            ]
           ]
          },
          "colorway": [
           "#636efa",
           "#EF553B",
           "#00cc96",
           "#ab63fa",
           "#FFA15A",
           "#19d3f3",
           "#FF6692",
           "#B6E880",
           "#FF97FF",
           "#FECB52"
          ],
          "font": {
           "color": "#2a3f5f"
          },
          "geo": {
           "bgcolor": "white",
           "lakecolor": "white",
           "landcolor": "#E5ECF6",
           "showlakes": true,
           "showland": true,
           "subunitcolor": "white"
          },
          "hoverlabel": {
           "align": "left"
          },
          "hovermode": "closest",
          "mapbox": {
           "style": "light"
          },
          "paper_bgcolor": "white",
          "plot_bgcolor": "#E5ECF6",
          "polar": {
           "angularaxis": {
            "gridcolor": "white",
            "linecolor": "white",
            "ticks": ""
           },
           "bgcolor": "#E5ECF6",
           "radialaxis": {
            "gridcolor": "white",
            "linecolor": "white",
            "ticks": ""
           }
          },
          "scene": {
           "xaxis": {
            "backgroundcolor": "#E5ECF6",
            "gridcolor": "white",
            "gridwidth": 2,
            "linecolor": "white",
            "showbackground": true,
            "ticks": "",
            "zerolinecolor": "white"
           },
           "yaxis": {
            "backgroundcolor": "#E5ECF6",
            "gridcolor": "white",
            "gridwidth": 2,
            "linecolor": "white",
            "showbackground": true,
            "ticks": "",
            "zerolinecolor": "white"
           },
           "zaxis": {
            "backgroundcolor": "#E5ECF6",
            "gridcolor": "white",
            "gridwidth": 2,
            "linecolor": "white",
            "showbackground": true,
            "ticks": "",
            "zerolinecolor": "white"
           }
          },
          "shapedefaults": {
           "line": {
            "color": "#2a3f5f"
           }
          },
          "ternary": {
           "aaxis": {
            "gridcolor": "white",
            "linecolor": "white",
            "ticks": ""
           },
           "baxis": {
            "gridcolor": "white",
            "linecolor": "white",
            "ticks": ""
           },
           "bgcolor": "#E5ECF6",
           "caxis": {
            "gridcolor": "white",
            "linecolor": "white",
            "ticks": ""
           }
          },
          "title": {
           "x": 0.05
          },
          "xaxis": {
           "automargin": true,
           "gridcolor": "white",
           "linecolor": "white",
           "ticks": "",
           "title": {
            "standoff": 15
           },
           "zerolinecolor": "white",
           "zerolinewidth": 2
          },
          "yaxis": {
           "automargin": true,
           "gridcolor": "white",
           "linecolor": "white",
           "ticks": "",
           "title": {
            "standoff": 15
           },
           "zerolinecolor": "white",
           "zerolinewidth": 2
          }
         }
        },
        "title": {
         "text": "EUR_NZD_MA_8_16"
        },
        "width": 1000,
        "xaxis": {
         "linecolor": "#3a4a54",
         "linewidth": 1,
         "showgrid": false,
         "zeroline": false
        },
        "yaxis": {
         "linecolor": "#3a4a54",
         "linewidth": 1,
         "showgrid": false,
         "zeroline": false
        }
       }
      }
     },
     "metadata": {}
    },
    {
     "output_type": "display_data",
     "data": {
      "application/vnd.plotly.v1+json": {
       "config": {
        "plotlyServerURL": "https://plot.ly"
       },
       "data": [
        {
         "line": {
          "color": "#3d825f",
          "shape": "spline",
          "width": 2
         },
         "mode": "lines",
         "name": "CHF_JPY_GAIN",
         "type": "scatter",
         "x": [
          "2021-01-19T11:00:00+00:00",
          "2021-01-19T22:00:00+00:00",
          "2021-01-21T10:00:00+00:00",
          "2021-01-25T05:00:00+00:00",
          "2021-01-25T18:00:00+00:00",
          "2021-01-26T12:00:00+00:00",
          "2021-01-27T02:00:00+00:00",
          "2021-01-28T17:00:00+00:00",
          "2021-01-29T02:00:00+00:00",
          "2021-01-29T12:00:00+00:00",
          "2021-02-01T19:00:00+00:00",
          "2021-02-02T06:00:00+00:00",
          "2021-02-04T01:00:00+00:00",
          "2021-02-04T08:00:00+00:00",
          "2021-02-04T21:00:00+00:00",
          "2021-02-04T23:00:00+00:00",
          "2021-02-05T16:00:00+00:00",
          "2021-02-08T02:00:00+00:00",
          "2021-02-08T17:00:00+00:00",
          "2021-02-08T18:00:00+00:00",
          "2021-02-08T20:00:00+00:00",
          "2021-02-08T23:00:00+00:00",
          "2021-02-09T05:00:00+00:00",
          "2021-02-09T22:00:00+00:00",
          "2021-02-10T06:00:00+00:00",
          "2021-02-11T07:00:00+00:00",
          "2021-02-11T19:00:00+00:00",
          "2021-02-12T13:00:00+00:00",
          "2021-02-16T05:00:00+00:00",
          "2021-02-16T21:00:00+00:00",
          "2021-02-18T08:00:00+00:00",
          "2021-02-19T00:00:00+00:00",
          "2021-02-19T04:00:00+00:00",
          "2021-02-19T11:00:00+00:00",
          "2021-02-22T13:00:00+00:00",
          "2021-02-23T02:00:00+00:00",
          "2021-02-25T16:00:00+00:00",
          "2021-03-01T06:00:00+00:00",
          "2021-03-02T06:00:00+00:00",
          "2021-03-02T11:00:00+00:00",
          "2021-03-02T22:00:00+00:00",
          "2021-03-03T06:00:00+00:00",
          "2021-03-04T02:00:00+00:00",
          "2021-03-04T08:00:00+00:00",
          "2021-03-05T04:00:00+00:00",
          "2021-03-05T08:00:00+00:00",
          "2021-03-05T10:00:00+00:00",
          "2021-03-05T19:00:00+00:00",
          "2021-03-09T12:00:00+00:00",
          "2021-03-10T11:00:00+00:00",
          "2021-03-11T10:00:00+00:00",
          "2021-03-11T20:00:00+00:00",
          "2021-03-15T15:00:00+00:00",
          "2021-03-16T16:00:00+00:00",
          "2021-03-17T05:00:00+00:00",
          "2021-03-17T07:00:00+00:00",
          "2021-03-17T19:00:00+00:00",
          "2021-03-18T01:00:00+00:00",
          "2021-03-18T19:00:00+00:00",
          "2021-03-19T09:00:00+00:00",
          "2021-03-21T22:00:00+00:00",
          "2021-03-22T06:00:00+00:00",
          "2021-03-22T12:00:00+00:00",
          "2021-03-23T08:00:00+00:00",
          "2021-03-24T03:00:00+00:00",
          "2021-03-24T09:00:00+00:00",
          "2021-03-24T23:00:00+00:00",
          "2021-03-25T07:00:00+00:00",
          "2021-03-25T14:00:00+00:00",
          "2021-03-25T21:00:00+00:00",
          "2021-03-26T18:00:00+00:00",
          "2021-03-29T15:00:00+00:00",
          "2021-03-30T17:00:00+00:00",
          "2021-03-31T02:00:00+00:00",
          "2021-04-01T07:00:00+00:00",
          "2021-04-01T10:00:00+00:00",
          "2021-04-01T15:00:00+00:00",
          "2021-04-02T00:00:00+00:00",
          "2021-04-02T08:00:00+00:00",
          "2021-04-02T19:00:00+00:00",
          "2021-04-05T01:00:00+00:00",
          "2021-04-05T09:00:00+00:00",
          "2021-04-05T16:00:00+00:00",
          "2021-04-06T04:00:00+00:00",
          "2021-04-06T10:00:00+00:00",
          "2021-04-08T00:00:00+00:00",
          "2021-04-08T09:00:00+00:00",
          "2021-04-09T01:00:00+00:00",
          "2021-04-09T06:00:00+00:00",
          "2021-04-09T12:00:00+00:00",
          "2021-04-12T06:00:00+00:00",
          "2021-04-13T05:00:00+00:00",
          "2021-04-13T12:00:00+00:00",
          "2021-04-13T20:00:00+00:00",
          "2021-04-14T03:00:00+00:00",
          "2021-04-14T13:00:00+00:00",
          "2021-04-15T15:00:00+00:00",
          "2021-04-16T06:00:00+00:00",
          "2021-04-16T11:00:00+00:00",
          "2021-04-16T17:00:00+00:00",
          "2021-04-19T08:00:00+00:00",
          "2021-04-20T03:00:00+00:00",
          "2021-04-20T13:00:00+00:00",
          "2021-04-21T06:00:00+00:00",
          "2021-04-22T04:00:00+00:00",
          "2021-04-22T15:00:00+00:00",
          "2021-04-23T01:00:00+00:00",
          "2021-04-23T05:00:00+00:00",
          "2021-04-23T11:00:00+00:00",
          "2021-04-26T03:00:00+00:00",
          "2021-04-27T11:00:00+00:00",
          "2021-04-27T23:00:00+00:00",
          "2021-04-29T02:00:00+00:00",
          "2021-04-29T03:00:00+00:00",
          "2021-05-03T07:00:00+00:00",
          "2021-05-03T17:00:00+00:00",
          "2021-05-03T20:00:00+00:00",
          "2021-05-03T21:00:00+00:00",
          "2021-05-04T00:00:00+00:00",
          "2021-05-04T03:00:00+00:00",
          "2021-05-04T12:00:00+00:00",
          "2021-05-04T22:00:00+00:00",
          "2021-05-05T19:00:00+00:00",
          "2021-05-06T02:00:00+00:00",
          "2021-05-06T09:00:00+00:00",
          "2021-05-06T17:00:00+00:00",
          "2021-05-07T06:00:00+00:00",
          "2021-05-10T03:00:00+00:00",
          "2021-05-10T13:00:00+00:00",
          "2021-05-10T18:00:00+00:00",
          "2021-05-11T06:00:00+00:00",
          "2021-05-11T07:00:00+00:00",
          "2021-05-13T00:00:00+00:00",
          "2021-05-14T12:00:00+00:00",
          "2021-05-16T22:00:00+00:00",
          "2021-05-17T13:00:00+00:00",
          "2021-05-18T08:00:00+00:00",
          "2021-05-19T08:00:00+00:00",
          "2021-05-19T20:00:00+00:00",
          "2021-05-20T02:00:00+00:00",
          "2021-05-20T09:00:00+00:00",
          "2021-05-20T18:00:00+00:00",
          "2021-05-21T00:00:00+00:00",
          "2021-05-21T12:00:00+00:00",
          "2021-05-23T22:00:00+00:00",
          "2021-05-24T07:00:00+00:00",
          "2021-05-24T15:00:00+00:00",
          "2021-05-24T22:00:00+00:00",
          "2021-05-25T07:00:00+00:00",
          "2021-05-26T22:00:00+00:00",
          "2021-05-27T00:00:00+00:00",
          "2021-05-27T09:00:00+00:00",
          "2021-05-28T00:00:00+00:00",
          "2021-05-28T09:00:00+00:00",
          "2021-05-31T04:00:00+00:00",
          "2021-05-31T09:00:00+00:00",
          "2021-05-31T17:00:00+00:00",
          "2021-06-01T01:00:00+00:00",
          "2021-06-01T16:00:00+00:00",
          "2021-06-02T06:00:00+00:00",
          "2021-06-03T11:00:00+00:00",
          "2021-06-03T16:00:00+00:00",
          "2021-06-04T01:00:00+00:00",
          "2021-06-04T09:00:00+00:00",
          "2021-06-04T12:00:00+00:00",
          "2021-06-07T03:00:00+00:00",
          "2021-06-07T05:00:00+00:00",
          "2021-06-07T16:00:00+00:00",
          "2021-06-07T17:00:00+00:00",
          "2021-06-09T06:00:00+00:00",
          "2021-06-09T16:00:00+00:00",
          "2021-06-10T09:00:00+00:00",
          "2021-06-10T21:00:00+00:00",
          "2021-06-11T09:00:00+00:00",
          "2021-06-11T18:00:00+00:00",
          "2021-06-14T05:00:00+00:00",
          "2021-06-15T03:00:00+00:00",
          "2021-06-16T03:00:00+00:00",
          "2021-06-18T06:00:00+00:00",
          "2021-06-18T13:00:00+00:00",
          "2021-06-18T17:00:00+00:00",
          "2021-06-21T13:00:00+00:00",
          "2021-06-22T14:00:00+00:00",
          "2021-06-22T15:00:00+00:00",
          "2021-06-23T19:00:00+00:00",
          "2021-06-24T04:00:00+00:00",
          "2021-06-24T15:00:00+00:00",
          "2021-06-25T05:00:00+00:00",
          "2021-06-28T14:00:00+00:00",
          "2021-06-29T02:00:00+00:00",
          "2021-06-29T08:00:00+00:00",
          "2021-06-30T05:00:00+00:00",
          "2021-07-01T16:00:00+00:00",
          "2021-07-02T06:00:00+00:00",
          "2021-07-05T06:00:00+00:00",
          "2021-07-05T19:00:00+00:00",
          "2021-07-06T05:00:00+00:00",
          "2021-07-06T08:00:00+00:00",
          "2021-07-06T09:00:00+00:00",
          "2021-07-06T11:00:00+00:00",
          "2021-07-06T12:00:00+00:00",
          "2021-07-07T11:00:00+00:00",
          "2021-07-07T18:00:00+00:00",
          "2021-07-08T22:00:00+00:00",
          "2021-07-09T02:00:00+00:00",
          "2021-07-09T08:00:00+00:00",
          "2021-07-12T06:00:00+00:00",
          "2021-07-12T16:00:00+00:00",
          "2021-07-13T06:00:00+00:00",
          "2021-07-13T07:00:00+00:00",
          "2021-07-13T08:00:00+00:00",
          "2021-07-13T22:00:00+00:00",
          "2021-07-14T16:00:00+00:00",
          "2021-07-15T12:00:00+00:00",
          "2021-07-15T19:00:00+00:00",
          "2021-07-16T04:00:00+00:00",
          "2021-07-16T16:00:00+00:00",
          "2021-07-20T00:00:00+00:00",
          "2021-07-20T08:00:00+00:00",
          "2021-07-20T13:00:00+00:00",
          "2021-07-21T06:00:00+00:00",
          "2021-07-21T12:00:00+00:00",
          "2021-07-22T03:00:00+00:00",
          "2021-07-22T10:00:00+00:00",
          "2021-07-23T07:00:00+00:00",
          "2021-07-23T08:00:00+00:00",
          "2021-07-23T18:00:00+00:00",
          "2021-07-26T14:00:00+00:00",
          "2021-07-26T17:00:00+00:00",
          "2021-07-28T04:00:00+00:00",
          "2021-07-28T18:00:00+00:00",
          "2021-07-29T04:00:00+00:00",
          "2021-07-29T18:00:00+00:00",
          "2021-07-30T07:00:00+00:00",
          "2021-07-30T14:00:00+00:00",
          "2021-08-02T10:00:00+00:00",
          "2021-08-02T14:00:00+00:00",
          "2021-08-03T23:00:00+00:00",
          "2021-08-04T16:00:00+00:00",
          "2021-08-04T19:00:00+00:00",
          "2021-08-09T05:00:00+00:00",
          "2021-08-09T08:00:00+00:00",
          "2021-08-11T05:00:00+00:00",
          "2021-08-11T12:00:00+00:00",
          "2021-08-12T03:00:00+00:00",
          "2021-08-12T13:00:00+00:00",
          "2021-08-13T02:00:00+00:00",
          "2021-08-17T18:00:00+00:00",
          "2021-08-18T09:00:00+00:00",
          "2021-08-18T10:00:00+00:00",
          "2021-08-18T23:00:00+00:00",
          "2021-08-20T16:00:00+00:00",
          "2021-08-25T08:00:00+00:00",
          "2021-08-25T20:00:00+00:00",
          "2021-08-26T18:00:00+00:00",
          "2021-08-27T09:00:00+00:00",
          "2021-08-27T17:00:00+00:00",
          "2021-08-30T08:00:00+00:00",
          "2021-08-31T03:00:00+00:00",
          "2021-08-31T22:00:00+00:00",
          "2021-09-01T15:00:00+00:00",
          "2021-09-02T08:00:00+00:00",
          "2021-09-03T04:00:00+00:00",
          "2021-09-03T08:00:00+00:00",
          "2021-09-06T00:00:00+00:00",
          "2021-09-06T08:00:00+00:00",
          "2021-09-06T22:00:00+00:00"
         ],
         "y": [
          -2.6999999999999247,
          51.20000000000013,
          112.29999999999961,
          111.4999999999988,
          97.49999999999812,
          84.19999999999759,
          118.69999999999712,
          102.49999999999646,
          78.89999999999617,
          117.09999999999661,
          108.99999999999685,
          150.8999999999971,
          123.69999999999766,
          114.09999999999805,
          115.69999999999854,
          105.69999999999852,
          92.69999999999774,
          89.49999999999676,
          89.29999999999656,
          95.49999999999721,
          96.09999999999782,
          85.29999999999812,
          101.29999999999858,
          95.89999999999873,
          100.19999999999803,
          89.59999999999742,
          87.19999999999725,
          115.69999999999743,
          119.39999999999725,
          153.19999999999663,
          152.49999999999648,
          139.09999999999638,
          118.29999999999669,
          140.49999999999667,
          129.09999999999638,
          229.29999999999666,
          285.09999999999695,
          353.4999999999976,
          324.69999999999766,
          310.49999999999676,
          300.59999999999627,
          317.49999999999596,
          284.89999999999554,
          324.6999999999954,
          334.299999999995,
          309.89999999999503,
          262.69999999999555,
          298.59999999999536,
          319.6999999999948,
          309.0999999999942,
          285.89999999999435,
          340.899999999995,
          332.89999999999475,
          327.4999999999949,
          322.8999999999958,
          317.6999999999962,
          297.0999999999956,
          258.89999999999515,
          232.8999999999947,
          213.19999999999442,
          193.799999999995,
          149.99999999999562,
          151.29999999999637,
          170.4999999999967,
          149.2999999999966,
          152.59999999999712,
          141.69999999999789,
          117.89999999999851,
          92.09999999999935,
          94.49999999999953,
          101.09999999999947,
          105.49999999999943,
          82.59999999999928,
          125.49999999999943,
          132.09999999999937,
          104.89999999999881,
          74.49999999999838,
          47.69999999999823,
          39.59999999999845,
          37.59999999999867,
          25.29999999999803,
          -15.100000000002403,
          -21.900000000002542,
          -24.100000000002524,
          77.69999999999715,
          70.2999999999964,
          80.49999999999662,
          67.69999999999715,
          21.099999999997173,
          4.399999999997682,
          26.699999999998333,
          4.699999999998536,
          -15.300000000001482,
          -25.50000000000169,
          -39.50000000000126,
          -30.500000000001137,
          -33.40000000000126,
          -46.90000000000089,
          -58.10000000000099,
          -87.40000000000087,
          -74.30000000000054,
          -81.90000000000036,
          -49.500000000000156,
          0.7000000000000881,
          -23.999999999999634,
          -35.89999999999988,
          -41.900000000000325,
          -53.90000000000011,
          -46.39999999999983,
          -15.300000000000367,
          -25.60000000000123,
          -4.700000000001978,
          -6.100000000002268,
          26.099999999997735,
          22.99999999999741,
          16.899999999997416,
          16.39999999999747,
          21.099999999997173,
          9.899999999997075,
          -18.500000000002462,
          -37.300000000002385,
          -21.500000000003237,
          -23.300000000003926,
          -40.500000000004476,
          -68.70000000000492,
          -67.60000000000548,
          -44.60000000000579,
          -47.100000000005515,
          -61.10000000000508,
          -48.50000000000469,
          -49.500000000004576,
          -9.50000000000454,
          24.899999999995444,
          2.6999999999954483,
          -10.50000000000443,
          -3.100000000004801,
          10.199999999994622,
          9.699999999994677,
          -2.5000000000053113,
          -28.200000000004923,
          -42.90000000000464,
          -54.800000000004886,
          -79.40000000000506,
          -106.40000000000542,
          -116.70000000000518,
          -135.3000000000049,
          -153.50000000000534,
          -178.5000000000059,
          -157.9000000000064,
          -153.70000000000664,
          -172.2000000000068,
          -164.70000000000653,
          -167.80000000000575,
          -156.1000000000057,
          -173.10000000000605,
          -186.60000000000568,
          -194.90000000000566,
          -214.9000000000057,
          -212.7000000000057,
          -192.9000000000059,
          -209.50000000000583,
          -223.3000000000063,
          -224.80000000000612,
          -242.7000000000057,
          -241.900000000006,
          -243.20000000000675,
          -244.3000000000073,
          -247.50000000000716,
          -220.50000000000682,
          -228.10000000000664,
          -227.70000000000624,
          -231.1000000000063,
          -242.5000000000066,
          -263.40000000000697,
          -272.900000000007,
          -261.00000000000676,
          -233.30000000000737,
          -194.50000000000745,
          -212.50000000000657,
          -242.1000000000062,
          -258.1000000000067,
          -250.90000000000725,
          -259.70000000000715,
          -236.30000000000706,
          -243.5000000000076,
          -267.10000000000787,
          -275.7000000000076,
          -281.4000000000072,
          -285.2000000000066,
          -299.5000000000059,
          -298.500000000006,
          -287.20000000000636,
          -280.70000000000596,
          -254.00000000000534,
          -261.9000000000049,
          -269.30000000000456,
          -279.8000000000045,
          -286.6000000000046,
          -278.8000000000046,
          -284.300000000004,
          -252.100000000004,
          -266.90000000000435,
          -145.20000000000422,
          -139.7000000000037,
          -153.30000000000288,
          -130.7000000000025,
          -139.3000000000022,
          -137.30000000000243,
          -137.70000000000283,
          -137.90000000000302,
          -127.30000000000352,
          -154.5000000000041,
          -157.30000000000467,
          -184.0000000000053,
          -207.7000000000051,
          -211.50000000000446,
          -114.90000000000445,
          -121.30000000000419,
          -147.90000000000416,
          -125.70000000000417,
          -154.3000000000039,
          -138.10000000000434,
          -164.1000000000048,
          -172.30000000000524,
          -185.50000000000512,
          -192.8000000000041,
          -182.4000000000037,
          -197.1000000000034,
          -174.1000000000026,
          -173.90000000000242,
          -182.90000000000254,
          -181.10000000000295,
          -183.00000000000318,
          -200.70000000000258,
          -190.70000000000258,
          -204.30000000000285,
          -174.30000000000283,
          -163.30000000000294,
          -163.00000000000318,
          -102.90000000000359,
          -121.90000000000371,
          -57.50000000000371,
          -60.90000000000378,
          -60.70000000000358,
          -74.30000000000385,
          -85.70000000000415,
          39.399999999996055,
          32.09999999999597,
          19.099999999996292,
          13.199999999996498,
          120.39999999999601,
          220.99999999999557,
          202.89999999999577,
          182.29999999999626,
          178.19999999999604,
          162.39999999999577,
          128.39999999999617,
          130.6999999999968,
          137.89999999999733,
          132.6999999999977,
          113.69999999999756,
          129.29999999999762,
          124.49999999999838,
          128.1999999999993,
          120.70000000000013,
          123.1000000000003,
          154.6999999999997
         ]
        }
       ],
       "layout": {
        "font": {
         "color": "#e1e1e1",
         "size": 10
        },
        "height": 400,
        "margin": {
         "b": 10,
         "l": 15,
         "r": 15
        },
        "paper_bgcolor": "#1e1e1e",
        "plot_bgcolor": "#1e1e1e",
        "template": {
         "data": {
          "bar": [
           {
            "error_x": {
             "color": "#2a3f5f"
            },
            "error_y": {
             "color": "#2a3f5f"
            },
            "marker": {
             "line": {
              "color": "#E5ECF6",
              "width": 0.5
             },
             "pattern": {
              "fillmode": "overlay",
              "size": 10,
              "solidity": 0.2
             }
            },
            "type": "bar"
           }
          ],
          "barpolar": [
           {
            "marker": {
             "line": {
              "color": "#E5ECF6",
              "width": 0.5
             },
             "pattern": {
              "fillmode": "overlay",
              "size": 10,
              "solidity": 0.2
             }
            },
            "type": "barpolar"
           }
          ],
          "carpet": [
           {
            "aaxis": {
             "endlinecolor": "#2a3f5f",
             "gridcolor": "white",
             "linecolor": "white",
             "minorgridcolor": "white",
             "startlinecolor": "#2a3f5f"
            },
            "baxis": {
             "endlinecolor": "#2a3f5f",
             "gridcolor": "white",
             "linecolor": "white",
             "minorgridcolor": "white",
             "startlinecolor": "#2a3f5f"
            },
            "type": "carpet"
           }
          ],
          "choropleth": [
           {
            "colorbar": {
             "outlinewidth": 0,
             "ticks": ""
            },
            "type": "choropleth"
           }
          ],
          "contour": [
           {
            "colorbar": {
             "outlinewidth": 0,
             "ticks": ""
            },
            "colorscale": [
             [
              0,
              "#0d0887"
             ],
             [
              0.1111111111111111,
              "#46039f"
             ],
             [
              0.2222222222222222,
              "#7201a8"
             ],
             [
              0.3333333333333333,
              "#9c179e"
             ],
             [
              0.4444444444444444,
              "#bd3786"
             ],
             [
              0.5555555555555556,
              "#d8576b"
             ],
             [
              0.6666666666666666,
              "#ed7953"
             ],
             [
              0.7777777777777778,
              "#fb9f3a"
             ],
             [
              0.8888888888888888,
              "#fdca26"
             ],
             [
              1,
              "#f0f921"
             ]
            ],
            "type": "contour"
           }
          ],
          "contourcarpet": [
           {
            "colorbar": {
             "outlinewidth": 0,
             "ticks": ""
            },
            "type": "contourcarpet"
           }
          ],
          "heatmap": [
           {
            "colorbar": {
             "outlinewidth": 0,
             "ticks": ""
            },
            "colorscale": [
             [
              0,
              "#0d0887"
             ],
             [
              0.1111111111111111,
              "#46039f"
             ],
             [
              0.2222222222222222,
              "#7201a8"
             ],
             [
              0.3333333333333333,
              "#9c179e"
             ],
             [
              0.4444444444444444,
              "#bd3786"
             ],
             [
              0.5555555555555556,
              "#d8576b"
             ],
             [
              0.6666666666666666,
              "#ed7953"
             ],
             [
              0.7777777777777778,
              "#fb9f3a"
             ],
             [
              0.8888888888888888,
              "#fdca26"
             ],
             [
              1,
              "#f0f921"
             ]
            ],
            "type": "heatmap"
           }
          ],
          "heatmapgl": [
           {
            "colorbar": {
             "outlinewidth": 0,
             "ticks": ""
            },
            "colorscale": [
             [
              0,
              "#0d0887"
             ],
             [
              0.1111111111111111,
              "#46039f"
             ],
             [
              0.2222222222222222,
              "#7201a8"
             ],
             [
              0.3333333333333333,
              "#9c179e"
             ],
             [
              0.4444444444444444,
              "#bd3786"
             ],
             [
              0.5555555555555556,
              "#d8576b"
             ],
             [
              0.6666666666666666,
              "#ed7953"
             ],
             [
              0.7777777777777778,
              "#fb9f3a"
             ],
             [
              0.8888888888888888,
              "#fdca26"
             ],
             [
              1,
              "#f0f921"
             ]
            ],
            "type": "heatmapgl"
           }
          ],
          "histogram": [
           {
            "marker": {
             "pattern": {
              "fillmode": "overlay",
              "size": 10,
              "solidity": 0.2
             }
            },
            "type": "histogram"
           }
          ],
          "histogram2d": [
           {
            "colorbar": {
             "outlinewidth": 0,
             "ticks": ""
            },
            "colorscale": [
             [
              0,
              "#0d0887"
             ],
             [
              0.1111111111111111,
              "#46039f"
             ],
             [
              0.2222222222222222,
              "#7201a8"
             ],
             [
              0.3333333333333333,
              "#9c179e"
             ],
             [
              0.4444444444444444,
              "#bd3786"
             ],
             [
              0.5555555555555556,
              "#d8576b"
             ],
             [
              0.6666666666666666,
              "#ed7953"
             ],
             [
              0.7777777777777778,
              "#fb9f3a"
             ],
             [
              0.8888888888888888,
              "#fdca26"
             ],
             [
              1,
              "#f0f921"
             ]
            ],
            "type": "histogram2d"
           }
          ],
          "histogram2dcontour": [
           {
            "colorbar": {
             "outlinewidth": 0,
             "ticks": ""
            },
            "colorscale": [
             [
              0,
              "#0d0887"
             ],
             [
              0.1111111111111111,
              "#46039f"
             ],
             [
              0.2222222222222222,
              "#7201a8"
             ],
             [
              0.3333333333333333,
              "#9c179e"
             ],
             [
              0.4444444444444444,
              "#bd3786"
             ],
             [
              0.5555555555555556,
              "#d8576b"
             ],
             [
              0.6666666666666666,
              "#ed7953"
             ],
             [
              0.7777777777777778,
              "#fb9f3a"
             ],
             [
              0.8888888888888888,
              "#fdca26"
             ],
             [
              1,
              "#f0f921"
             ]
            ],
            "type": "histogram2dcontour"
           }
          ],
          "mesh3d": [
           {
            "colorbar": {
             "outlinewidth": 0,
             "ticks": ""
            },
            "type": "mesh3d"
           }
          ],
          "parcoords": [
           {
            "line": {
             "colorbar": {
              "outlinewidth": 0,
              "ticks": ""
             }
            },
            "type": "parcoords"
           }
          ],
          "pie": [
           {
            "automargin": true,
            "type": "pie"
           }
          ],
          "scatter": [
           {
            "marker": {
             "colorbar": {
              "outlinewidth": 0,
              "ticks": ""
             }
            },
            "type": "scatter"
           }
          ],
          "scatter3d": [
           {
            "line": {
             "colorbar": {
              "outlinewidth": 0,
              "ticks": ""
             }
            },
            "marker": {
             "colorbar": {
              "outlinewidth": 0,
              "ticks": ""
             }
            },
            "type": "scatter3d"
           }
          ],
          "scattercarpet": [
           {
            "marker": {
             "colorbar": {
              "outlinewidth": 0,
              "ticks": ""
             }
            },
            "type": "scattercarpet"
           }
          ],
          "scattergeo": [
           {
            "marker": {
             "colorbar": {
              "outlinewidth": 0,
              "ticks": ""
             }
            },
            "type": "scattergeo"
           }
          ],
          "scattergl": [
           {
            "marker": {
             "colorbar": {
              "outlinewidth": 0,
              "ticks": ""
             }
            },
            "type": "scattergl"
           }
          ],
          "scattermapbox": [
           {
            "marker": {
             "colorbar": {
              "outlinewidth": 0,
              "ticks": ""
             }
            },
            "type": "scattermapbox"
           }
          ],
          "scatterpolar": [
           {
            "marker": {
             "colorbar": {
              "outlinewidth": 0,
              "ticks": ""
             }
            },
            "type": "scatterpolar"
           }
          ],
          "scatterpolargl": [
           {
            "marker": {
             "colorbar": {
              "outlinewidth": 0,
              "ticks": ""
             }
            },
            "type": "scatterpolargl"
           }
          ],
          "scatterternary": [
           {
            "marker": {
             "colorbar": {
              "outlinewidth": 0,
              "ticks": ""
             }
            },
            "type": "scatterternary"
           }
          ],
          "surface": [
           {
            "colorbar": {
             "outlinewidth": 0,
             "ticks": ""
            },
            "colorscale": [
             [
              0,
              "#0d0887"
             ],
             [
              0.1111111111111111,
              "#46039f"
             ],
             [
              0.2222222222222222,
              "#7201a8"
             ],
             [
              0.3333333333333333,
              "#9c179e"
             ],
             [
              0.4444444444444444,
              "#bd3786"
             ],
             [
              0.5555555555555556,
              "#d8576b"
             ],
             [
              0.6666666666666666,
              "#ed7953"
             ],
             [
              0.7777777777777778,
              "#fb9f3a"
             ],
             [
              0.8888888888888888,
              "#fdca26"
             ],
             [
              1,
              "#f0f921"
             ]
            ],
            "type": "surface"
           }
          ],
          "table": [
           {
            "cells": {
             "fill": {
              "color": "#EBF0F8"
             },
             "line": {
              "color": "white"
             }
            },
            "header": {
             "fill": {
              "color": "#C8D4E3"
             },
             "line": {
              "color": "white"
             }
            },
            "type": "table"
           }
          ]
         },
         "layout": {
          "annotationdefaults": {
           "arrowcolor": "#2a3f5f",
           "arrowhead": 0,
           "arrowwidth": 1
          },
          "autotypenumbers": "strict",
          "coloraxis": {
           "colorbar": {
            "outlinewidth": 0,
            "ticks": ""
           }
          },
          "colorscale": {
           "diverging": [
            [
             0,
             "#8e0152"
            ],
            [
             0.1,
             "#c51b7d"
            ],
            [
             0.2,
             "#de77ae"
            ],
            [
             0.3,
             "#f1b6da"
            ],
            [
             0.4,
             "#fde0ef"
            ],
            [
             0.5,
             "#f7f7f7"
            ],
            [
             0.6,
             "#e6f5d0"
            ],
            [
             0.7,
             "#b8e186"
            ],
            [
             0.8,
             "#7fbc41"
            ],
            [
             0.9,
             "#4d9221"
            ],
            [
             1,
             "#276419"
            ]
           ],
           "sequential": [
            [
             0,
             "#0d0887"
            ],
            [
             0.1111111111111111,
             "#46039f"
            ],
            [
             0.2222222222222222,
             "#7201a8"
            ],
            [
             0.3333333333333333,
             "#9c179e"
            ],
            [
             0.4444444444444444,
             "#bd3786"
            ],
            [
             0.5555555555555556,
             "#d8576b"
            ],
            [
             0.6666666666666666,
             "#ed7953"
            ],
            [
             0.7777777777777778,
             "#fb9f3a"
            ],
            [
             0.8888888888888888,
             "#fdca26"
            ],
            [
             1,
             "#f0f921"
            ]
           ],
           "sequentialminus": [
            [
             0,
             "#0d0887"
            ],
            [
             0.1111111111111111,
             "#46039f"
            ],
            [
             0.2222222222222222,
             "#7201a8"
            ],
            [
             0.3333333333333333,
             "#9c179e"
            ],
            [
             0.4444444444444444,
             "#bd3786"
            ],
            [
             0.5555555555555556,
             "#d8576b"
            ],
            [
             0.6666666666666666,
             "#ed7953"
            ],
            [
             0.7777777777777778,
             "#fb9f3a"
            ],
            [
             0.8888888888888888,
             "#fdca26"
            ],
            [
             1,
             "#f0f921"
            ]
           ]
          },
          "colorway": [
           "#636efa",
           "#EF553B",
           "#00cc96",
           "#ab63fa",
           "#FFA15A",
           "#19d3f3",
           "#FF6692",
           "#B6E880",
           "#FF97FF",
           "#FECB52"
          ],
          "font": {
           "color": "#2a3f5f"
          },
          "geo": {
           "bgcolor": "white",
           "lakecolor": "white",
           "landcolor": "#E5ECF6",
           "showlakes": true,
           "showland": true,
           "subunitcolor": "white"
          },
          "hoverlabel": {
           "align": "left"
          },
          "hovermode": "closest",
          "mapbox": {
           "style": "light"
          },
          "paper_bgcolor": "white",
          "plot_bgcolor": "#E5ECF6",
          "polar": {
           "angularaxis": {
            "gridcolor": "white",
            "linecolor": "white",
            "ticks": ""
           },
           "bgcolor": "#E5ECF6",
           "radialaxis": {
            "gridcolor": "white",
            "linecolor": "white",
            "ticks": ""
           }
          },
          "scene": {
           "xaxis": {
            "backgroundcolor": "#E5ECF6",
            "gridcolor": "white",
            "gridwidth": 2,
            "linecolor": "white",
            "showbackground": true,
            "ticks": "",
            "zerolinecolor": "white"
           },
           "yaxis": {
            "backgroundcolor": "#E5ECF6",
            "gridcolor": "white",
            "gridwidth": 2,
            "linecolor": "white",
            "showbackground": true,
            "ticks": "",
            "zerolinecolor": "white"
           },
           "zaxis": {
            "backgroundcolor": "#E5ECF6",
            "gridcolor": "white",
            "gridwidth": 2,
            "linecolor": "white",
            "showbackground": true,
            "ticks": "",
            "zerolinecolor": "white"
           }
          },
          "shapedefaults": {
           "line": {
            "color": "#2a3f5f"
           }
          },
          "ternary": {
           "aaxis": {
            "gridcolor": "white",
            "linecolor": "white",
            "ticks": ""
           },
           "baxis": {
            "gridcolor": "white",
            "linecolor": "white",
            "ticks": ""
           },
           "bgcolor": "#E5ECF6",
           "caxis": {
            "gridcolor": "white",
            "linecolor": "white",
            "ticks": ""
           }
          },
          "title": {
           "x": 0.05
          },
          "xaxis": {
           "automargin": true,
           "gridcolor": "white",
           "linecolor": "white",
           "ticks": "",
           "title": {
            "standoff": 15
           },
           "zerolinecolor": "white",
           "zerolinewidth": 2
          },
          "yaxis": {
           "automargin": true,
           "gridcolor": "white",
           "linecolor": "white",
           "ticks": "",
           "title": {
            "standoff": 15
           },
           "zerolinecolor": "white",
           "zerolinewidth": 2
          }
         }
        },
        "title": {
         "text": "CAD_CHF_MA_8_16"
        },
        "width": 1000,
        "xaxis": {
         "linecolor": "#3a4a54",
         "linewidth": 1,
         "showgrid": false,
         "zeroline": false
        },
        "yaxis": {
         "linecolor": "#3a4a54",
         "linewidth": 1,
         "showgrid": false,
         "zeroline": false
        }
       }
      }
     },
     "metadata": {}
    },
    {
     "output_type": "display_data",
     "data": {
      "application/vnd.plotly.v1+json": {
       "config": {
        "plotlyServerURL": "https://plot.ly"
       },
       "data": [
        {
         "line": {
          "color": "#3d825f",
          "shape": "spline",
          "width": 2
         },
         "mode": "lines",
         "name": "CHF_JPY_GAIN",
         "type": "scatter",
         "x": [
          "2021-01-19T15:00:00+00:00",
          "2021-01-20T03:00:00+00:00",
          "2021-01-21T10:00:00+00:00",
          "2021-01-21T15:00:00+00:00",
          "2021-01-21T22:00:00+00:00",
          "2021-01-25T05:00:00+00:00",
          "2021-01-25T14:00:00+00:00",
          "2021-01-26T13:00:00+00:00",
          "2021-01-27T04:00:00+00:00",
          "2021-01-28T17:00:00+00:00",
          "2021-01-29T02:00:00+00:00",
          "2021-01-29T10:00:00+00:00",
          "2021-02-01T01:00:00+00:00",
          "2021-02-01T03:00:00+00:00",
          "2021-02-01T04:00:00+00:00",
          "2021-02-01T05:00:00+00:00",
          "2021-02-01T15:00:00+00:00",
          "2021-02-02T06:00:00+00:00",
          "2021-02-03T12:00:00+00:00",
          "2021-02-03T19:00:00+00:00",
          "2021-02-04T01:00:00+00:00",
          "2021-02-04T08:00:00+00:00",
          "2021-02-04T16:00:00+00:00",
          "2021-02-04T21:00:00+00:00",
          "2021-02-08T15:00:00+00:00",
          "2021-02-09T02:00:00+00:00",
          "2021-02-09T04:00:00+00:00",
          "2021-02-09T21:00:00+00:00",
          "2021-02-10T22:00:00+00:00",
          "2021-02-11T08:00:00+00:00",
          "2021-02-11T21:00:00+00:00",
          "2021-02-12T12:00:00+00:00",
          "2021-02-12T13:00:00+00:00",
          "2021-02-12T14:00:00+00:00",
          "2021-02-16T11:00:00+00:00",
          "2021-02-16T21:00:00+00:00",
          "2021-02-17T06:00:00+00:00",
          "2021-02-18T02:00:00+00:00",
          "2021-02-18T07:00:00+00:00",
          "2021-02-19T00:00:00+00:00",
          "2021-02-19T05:00:00+00:00",
          "2021-02-19T12:00:00+00:00",
          "2021-02-22T12:00:00+00:00",
          "2021-02-23T05:00:00+00:00",
          "2021-02-25T19:00:00+00:00",
          "2021-02-26T15:00:00+00:00",
          "2021-02-26T16:00:00+00:00",
          "2021-03-01T06:00:00+00:00",
          "2021-03-02T06:00:00+00:00",
          "2021-03-02T13:00:00+00:00",
          "2021-03-03T02:00:00+00:00",
          "2021-03-03T06:00:00+00:00",
          "2021-03-03T19:00:00+00:00",
          "2021-03-04T08:00:00+00:00",
          "2021-03-05T04:00:00+00:00",
          "2021-03-05T05:00:00+00:00",
          "2021-03-05T17:00:00+00:00",
          "2021-03-05T18:00:00+00:00",
          "2021-03-08T09:00:00+00:00",
          "2021-03-08T15:00:00+00:00",
          "2021-03-09T14:00:00+00:00",
          "2021-03-10T06:00:00+00:00",
          "2021-03-10T19:00:00+00:00",
          "2021-03-11T02:00:00+00:00",
          "2021-03-15T16:00:00+00:00",
          "2021-03-16T01:00:00+00:00",
          "2021-03-16T08:00:00+00:00",
          "2021-03-16T17:00:00+00:00",
          "2021-03-17T09:00:00+00:00",
          "2021-03-17T20:00:00+00:00",
          "2021-03-18T13:00:00+00:00",
          "2021-03-22T10:00:00+00:00",
          "2021-03-22T14:00:00+00:00",
          "2021-03-24T10:00:00+00:00",
          "2021-03-24T23:00:00+00:00",
          "2021-03-25T05:00:00+00:00",
          "2021-03-25T16:00:00+00:00",
          "2021-03-26T02:00:00+00:00",
          "2021-03-29T00:00:00+00:00",
          "2021-03-29T13:00:00+00:00",
          "2021-03-30T17:00:00+00:00",
          "2021-03-31T01:00:00+00:00",
          "2021-04-01T05:00:00+00:00",
          "2021-04-01T13:00:00+00:00",
          "2021-04-02T08:00:00+00:00",
          "2021-04-02T18:00:00+00:00",
          "2021-04-05T00:00:00+00:00",
          "2021-04-05T12:00:00+00:00",
          "2021-04-05T19:00:00+00:00",
          "2021-04-06T02:00:00+00:00",
          "2021-04-06T08:00:00+00:00",
          "2021-04-08T02:00:00+00:00",
          "2021-04-08T07:00:00+00:00",
          "2021-04-08T20:00:00+00:00",
          "2021-04-09T06:00:00+00:00",
          "2021-04-09T10:00:00+00:00",
          "2021-04-12T03:00:00+00:00",
          "2021-04-13T04:00:00+00:00",
          "2021-04-13T09:00:00+00:00",
          "2021-04-13T19:00:00+00:00",
          "2021-04-14T02:00:00+00:00",
          "2021-04-14T15:00:00+00:00",
          "2021-04-15T04:00:00+00:00",
          "2021-04-15T09:00:00+00:00",
          "2021-04-15T15:00:00+00:00",
          "2021-04-16T05:00:00+00:00",
          "2021-04-18T22:00:00+00:00",
          "2021-04-20T03:00:00+00:00",
          "2021-04-20T15:00:00+00:00",
          "2021-04-21T08:00:00+00:00",
          "2021-04-22T04:00:00+00:00",
          "2021-04-22T12:00:00+00:00",
          "2021-04-22T23:00:00+00:00",
          "2021-04-23T07:00:00+00:00",
          "2021-04-23T12:00:00+00:00",
          "2021-04-23T20:00:00+00:00",
          "2021-04-30T06:00:00+00:00",
          "2021-04-30T13:00:00+00:00",
          "2021-05-03T12:00:00+00:00",
          "2021-05-04T05:00:00+00:00",
          "2021-05-04T12:00:00+00:00",
          "2021-05-04T21:00:00+00:00",
          "2021-05-05T22:00:00+00:00",
          "2021-05-06T03:00:00+00:00",
          "2021-05-07T09:00:00+00:00",
          "2021-05-09T23:00:00+00:00",
          "2021-05-10T15:00:00+00:00",
          "2021-05-10T17:00:00+00:00",
          "2021-05-11T10:00:00+00:00",
          "2021-05-11T23:00:00+00:00",
          "2021-05-13T07:00:00+00:00",
          "2021-05-14T06:00:00+00:00",
          "2021-05-17T01:00:00+00:00",
          "2021-05-17T15:00:00+00:00",
          "2021-05-18T12:00:00+00:00",
          "2021-05-19T07:00:00+00:00",
          "2021-05-19T14:00:00+00:00",
          "2021-05-20T02:00:00+00:00",
          "2021-05-20T08:00:00+00:00",
          "2021-05-20T16:00:00+00:00",
          "2021-05-21T04:00:00+00:00",
          "2021-05-21T13:00:00+00:00",
          "2021-05-23T23:00:00+00:00",
          "2021-05-24T13:00:00+00:00",
          "2021-05-24T20:00:00+00:00",
          "2021-05-24T22:00:00+00:00",
          "2021-05-25T07:00:00+00:00",
          "2021-05-25T10:00:00+00:00",
          "2021-05-25T19:00:00+00:00",
          "2021-05-26T05:00:00+00:00",
          "2021-05-26T12:00:00+00:00",
          "2021-05-27T09:00:00+00:00",
          "2021-05-28T05:00:00+00:00",
          "2021-05-28T18:00:00+00:00",
          "2021-05-30T22:00:00+00:00",
          "2021-05-30T23:00:00+00:00",
          "2021-05-31T02:00:00+00:00",
          "2021-05-31T23:00:00+00:00",
          "2021-06-01T19:00:00+00:00",
          "2021-06-02T05:00:00+00:00",
          "2021-06-03T10:00:00+00:00",
          "2021-06-03T20:00:00+00:00",
          "2021-06-04T03:00:00+00:00",
          "2021-06-07T02:00:00+00:00",
          "2021-06-07T06:00:00+00:00",
          "2021-06-08T06:00:00+00:00",
          "2021-06-08T16:00:00+00:00",
          "2021-06-09T07:00:00+00:00",
          "2021-06-09T22:00:00+00:00",
          "2021-06-10T12:00:00+00:00",
          "2021-06-10T21:00:00+00:00",
          "2021-06-11T05:00:00+00:00",
          "2021-06-11T15:00:00+00:00",
          "2021-06-14T04:00:00+00:00",
          "2021-06-14T11:00:00+00:00",
          "2021-06-14T14:00:00+00:00",
          "2021-06-15T09:00:00+00:00",
          "2021-06-16T01:00:00+00:00",
          "2021-06-16T10:00:00+00:00",
          "2021-06-21T12:00:00+00:00",
          "2021-06-22T06:00:00+00:00",
          "2021-06-22T09:00:00+00:00",
          "2021-06-23T21:00:00+00:00",
          "2021-06-25T02:00:00+00:00",
          "2021-06-25T12:00:00+00:00",
          "2021-06-25T16:00:00+00:00",
          "2021-06-28T02:00:00+00:00",
          "2021-06-30T07:00:00+00:00",
          "2021-06-30T08:00:00+00:00",
          "2021-06-30T11:00:00+00:00",
          "2021-07-01T21:00:00+00:00",
          "2021-07-02T07:00:00+00:00",
          "2021-07-05T04:00:00+00:00",
          "2021-07-05T19:00:00+00:00",
          "2021-07-06T05:00:00+00:00",
          "2021-07-06T08:00:00+00:00",
          "2021-07-06T09:00:00+00:00",
          "2021-07-07T09:00:00+00:00",
          "2021-07-07T17:00:00+00:00",
          "2021-07-08T20:00:00+00:00",
          "2021-07-12T06:00:00+00:00",
          "2021-07-12T17:00:00+00:00",
          "2021-07-13T09:00:00+00:00",
          "2021-07-13T22:00:00+00:00",
          "2021-07-14T08:00:00+00:00",
          "2021-07-14T12:00:00+00:00",
          "2021-07-14T14:00:00+00:00",
          "2021-07-15T14:00:00+00:00",
          "2021-07-15T16:00:00+00:00",
          "2021-07-16T05:00:00+00:00",
          "2021-07-16T18:00:00+00:00",
          "2021-07-20T00:00:00+00:00",
          "2021-07-20T08:00:00+00:00",
          "2021-07-20T14:00:00+00:00",
          "2021-07-21T07:00:00+00:00",
          "2021-07-21T11:00:00+00:00",
          "2021-07-22T04:00:00+00:00",
          "2021-07-22T11:00:00+00:00",
          "2021-07-22T19:00:00+00:00",
          "2021-07-23T02:00:00+00:00",
          "2021-07-26T03:00:00+00:00",
          "2021-07-26T14:00:00+00:00",
          "2021-07-27T03:00:00+00:00",
          "2021-07-28T04:00:00+00:00",
          "2021-07-29T19:00:00+00:00",
          "2021-07-30T08:00:00+00:00",
          "2021-07-30T19:00:00+00:00",
          "2021-08-02T09:00:00+00:00",
          "2021-08-02T10:00:00+00:00",
          "2021-08-04T01:00:00+00:00",
          "2021-08-04T13:00:00+00:00",
          "2021-08-04T14:00:00+00:00",
          "2021-08-04T15:00:00+00:00",
          "2021-08-04T18:00:00+00:00",
          "2021-08-06T04:00:00+00:00",
          "2021-08-06T07:00:00+00:00",
          "2021-08-06T08:00:00+00:00",
          "2021-08-06T17:00:00+00:00",
          "2021-08-06T20:00:00+00:00",
          "2021-08-09T09:00:00+00:00",
          "2021-08-09T17:00:00+00:00",
          "2021-08-10T03:00:00+00:00",
          "2021-08-11T15:00:00+00:00",
          "2021-08-12T13:00:00+00:00",
          "2021-08-12T16:00:00+00:00",
          "2021-08-13T05:00:00+00:00",
          "2021-08-13T07:00:00+00:00",
          "2021-08-17T17:00:00+00:00",
          "2021-08-18T21:00:00+00:00",
          "2021-08-20T17:00:00+00:00",
          "2021-08-25T06:00:00+00:00",
          "2021-08-25T14:00:00+00:00",
          "2021-08-26T05:00:00+00:00",
          "2021-08-26T11:00:00+00:00",
          "2021-08-26T16:00:00+00:00",
          "2021-08-27T08:00:00+00:00",
          "2021-08-30T03:00:00+00:00",
          "2021-08-30T11:00:00+00:00",
          "2021-08-31T01:00:00+00:00",
          "2021-08-31T06:00:00+00:00",
          "2021-08-31T14:00:00+00:00",
          "2021-08-31T22:00:00+00:00",
          "2021-09-01T16:00:00+00:00",
          "2021-09-02T08:00:00+00:00",
          "2021-09-03T16:00:00+00:00",
          "2021-09-06T13:00:00+00:00",
          "2021-09-07T02:00:00+00:00"
         ],
         "y": [
          -6.100000000000705,
          23.099999999998033,
          11.299999999997112,
          -4.200000000003001,
          15.099999999996783,
          1.0999999999967258,
          1.8999999999977035,
          -1.7000000000010118,
          7.299999999999329,
          -6.400000000000716,
          -39.800000000001035,
          -16.600000000001103,
          -25.500000000000966,
          -23.700000000000898,
          -24.900000000000944,
          -46.30000000000081,
          -53.90000000000015,
          -29.000000000000625,
          -39.00000000000148,
          -40.60000000000201,
          -56.70000000000215,
          -74.00000000000233,
          -85.50000000000324,
          -64.7000000000034,
          -63.90000000000242,
          -73.60000000000184,
          -74.70000000000141,
          -75.80000000000098,
          -94.40000000000026,
          -105.49999999999926,
          -108.89999999999844,
          -117.29999999999734,
          -126.89999999999628,
          -34.099999999995134,
          -45.6999999999951,
          -56.299999999995975,
          -50.89999999999577,
          -61.499999999995225,
          -70.6999999999951,
          -91.79999999999495,
          -121.89999999999515,
          -108.99999999999608,
          -94.49999999999648,
          4.9000000000035016,
          33.50000000000364,
          14.100000000003376,
          17.300000000003024,
          49.00000000000375,
          26.50000000000432,
          36.100000000004684,
          31.40000000000498,
          34.50000000000557,
          15.700000000006753,
          64.9000000000072,
          53.40000000000771,
          58.90000000000839,
          52.90000000000816,
          54.70000000000823,
          17.500000000008242,
          31.300000000007344,
          53.7000000000063,
          52.50000000000625,
          27.700000000007208,
          162.70000000000806,
          155.90000000000828,
          148.20000000000846,
          132.30000000000928,
          121.8000000000103,
          97.10000000001031,
          93.4000000000097,
          158.3000000000098,
          135.50000000001035,
          178.00000000001006,
          186.10000000000895,
          171.80000000000888,
          160.50000000000892,
          136.80000000000803,
          163.30000000000808,
          154.9000000000092,
          172.20000000000937,
          135.9000000000094,
          162.70000000000948,
          146.70000000000982,
          126.70000000001096,
          106.7000000000121,
          104.7000000000125,
          91.20000000001198,
          70.70000000001215,
          63.10000000001281,
          59.500000000012676,
          159.90000000001174,
          147.10000000001173,
          136.4000000000118,
          117.90000000001157,
          78.80000000001246,
          83.8000000000136,
          88.30000000001377,
          54.400000000013904,
          39.2000000000138,
          17.70000000001346,
          -6.499999999986983,
          -18.999999999986983,
          -35.599999999986665,
          -68.49999999998744,
          -83.499999999988,
          -82.7999999999875,
          -47.099999999987574,
          -107.59999999998797,
          -102.29999999998824,
          -60.299999999989495,
          -82.69999999998987,
          -99.49999999998909,
          -115.29999999998921,
          -162.39999999998957,
          -202.69999999998873,
          6.1000000000120735,
          -17.69999999998788,
          -3.899999999987358,
          -3.699999999986403,
          -38.699999999985835,
          -64.69999999998493,
          -50.29999999998438,
          -62.299999999984834,
          -15.59999999998496,
          -20.09999999998513,
          13.300000000013767,
          -0.9999999999863007,
          -22.599999999985698,
          -22.299999999985687,
          20.50000000001404,
          49.500000000013245,
          64.20000000001238,
          36.900000000011346,
          53.30000000001007,
          80.9000000000097,
          12.900000000010436,
          -28.49999999998971,
          -56.499999999989825,
          -98.19999999998998,
          -106.49999999999125,
          -126.69999999999249,
          -133.0999999999932,
          -134.59999999999326,
          -129.6999999999926,
          -131.6999999999922,
          -140.09999999999252,
          -161.69999999999192,
          -195.59999999999178,
          -213.69999999999294,
          -253.59999999999303,
          -279.89999999999213,
          -204.79999999999166,
          -204.79999999999166,
          -197.99999999999187,
          -199.99999999999147,
          -215.69999999999112,
          -209.79999999999137,
          -219.09999999999172,
          -239.29999999999154,
          -233.89999999999134,
          -248.8999999999919,
          -261.6999999999919,
          -229.69999999999118,
          -237.89999999999054,
          -238.89999999998963,
          -254.8999999999893,
          -263.2999999999896,
          -261.49999999998954,
          -282.4999999999889,
          -312.2999999999877,
          -321.8999999999866,
          -350.09999999998627,
          -359.4999999999857,
          -370.4999999999856,
          -411.4999999999867,
          -431.29999999998745,
          -425.2999999999872,
          -437.4999999999872,
          -286.69999999998765,
          -240.09999999998826,
          -233.09999999998894,
          -131.69999999998936,
          -119.39999999999031,
          -132.89999999999083,
          -157.39999999999128,
          -176.89999999999202,
          -98.49999999999284,
          -121.49999999999324,
          -152.89999999999253,
          -112.89999999999196,
          -116.29999999999256,
          -80.49999999999358,
          -72.49999999999375,
          -73.49999999999426,
          -54.69999999999544,
          -65.09999999999536,
          -5.39999999999452,
          -49.09999999999428,
          55.900000000005434,
          129.90000000000492,
          111.50000000000517,
          95.2000000000055,
          97.9000000000056,
          95.10000000000645,
          78.50000000000676,
          43.30000000000638,
          84.40000000000651,
          58.10000000000741,
          51.400000000008106,
          34.70000000000795,
          175.10000000000758,
          178.30000000000723,
          146.3000000000065,
          187.20000000000567,
          187.20000000000567,
          272.50000000000654,
          233.40000000000742,
          206.30000000000734,
          201.20000000000715,
          200.4000000000076,
          173.10000000000798,
          160.5000000000075,
          223.30000000000751,
          294.3000000000083,
          277.4000000000086,
          258.70000000000886,
          255.10000000000872,
          243.3000000000078,
          326.50000000000716,
          310.70000000000704,
          257.0000000000064,
          238.30000000000666,
          235.40000000000703,
          293.50000000000733,
          298.100000000008,
          298.3000000000075,
          292.70000000000636,
          290.70000000000533,
          286.7000000000047,
          273.00000000000466,
          270.40000000000504,
          325.6000000000057,
          315.9000000000063,
          296.6000000000065,
          296.6000000000065,
          291.40000000000583,
          434.50000000000557,
          442.10000000000633,
          568.8000000000073,
          713.4000000000071,
          691.8000000000063,
          695.300000000006,
          681.2000000000055,
          643.9000000000051,
          650.1000000000049,
          652.7000000000046,
          626.7000000000041,
          616.1000000000033,
          591.8000000000025,
          552.2000000000023,
          526.7000000000028,
          537.7000000000028,
          534.7000000000027,
          563.0000000000027,
          552.6000000000029,
          543.9000000000026,
          573.4000000000028
         ]
        }
       ],
       "layout": {
        "font": {
         "color": "#e1e1e1",
         "size": 10
        },
        "height": 400,
        "margin": {
         "b": 10,
         "l": 15,
         "r": 15
        },
        "paper_bgcolor": "#1e1e1e",
        "plot_bgcolor": "#1e1e1e",
        "template": {
         "data": {
          "bar": [
           {
            "error_x": {
             "color": "#2a3f5f"
            },
            "error_y": {
             "color": "#2a3f5f"
            },
            "marker": {
             "line": {
              "color": "#E5ECF6",
              "width": 0.5
             },
             "pattern": {
              "fillmode": "overlay",
              "size": 10,
              "solidity": 0.2
             }
            },
            "type": "bar"
           }
          ],
          "barpolar": [
           {
            "marker": {
             "line": {
              "color": "#E5ECF6",
              "width": 0.5
             },
             "pattern": {
              "fillmode": "overlay",
              "size": 10,
              "solidity": 0.2
             }
            },
            "type": "barpolar"
           }
          ],
          "carpet": [
           {
            "aaxis": {
             "endlinecolor": "#2a3f5f",
             "gridcolor": "white",
             "linecolor": "white",
             "minorgridcolor": "white",
             "startlinecolor": "#2a3f5f"
            },
            "baxis": {
             "endlinecolor": "#2a3f5f",
             "gridcolor": "white",
             "linecolor": "white",
             "minorgridcolor": "white",
             "startlinecolor": "#2a3f5f"
            },
            "type": "carpet"
           }
          ],
          "choropleth": [
           {
            "colorbar": {
             "outlinewidth": 0,
             "ticks": ""
            },
            "type": "choropleth"
           }
          ],
          "contour": [
           {
            "colorbar": {
             "outlinewidth": 0,
             "ticks": ""
            },
            "colorscale": [
             [
              0,
              "#0d0887"
             ],
             [
              0.1111111111111111,
              "#46039f"
             ],
             [
              0.2222222222222222,
              "#7201a8"
             ],
             [
              0.3333333333333333,
              "#9c179e"
             ],
             [
              0.4444444444444444,
              "#bd3786"
             ],
             [
              0.5555555555555556,
              "#d8576b"
             ],
             [
              0.6666666666666666,
              "#ed7953"
             ],
             [
              0.7777777777777778,
              "#fb9f3a"
             ],
             [
              0.8888888888888888,
              "#fdca26"
             ],
             [
              1,
              "#f0f921"
             ]
            ],
            "type": "contour"
           }
          ],
          "contourcarpet": [
           {
            "colorbar": {
             "outlinewidth": 0,
             "ticks": ""
            },
            "type": "contourcarpet"
           }
          ],
          "heatmap": [
           {
            "colorbar": {
             "outlinewidth": 0,
             "ticks": ""
            },
            "colorscale": [
             [
              0,
              "#0d0887"
             ],
             [
              0.1111111111111111,
              "#46039f"
             ],
             [
              0.2222222222222222,
              "#7201a8"
             ],
             [
              0.3333333333333333,
              "#9c179e"
             ],
             [
              0.4444444444444444,
              "#bd3786"
             ],
             [
              0.5555555555555556,
              "#d8576b"
             ],
             [
              0.6666666666666666,
              "#ed7953"
             ],
             [
              0.7777777777777778,
              "#fb9f3a"
             ],
             [
              0.8888888888888888,
              "#fdca26"
             ],
             [
              1,
              "#f0f921"
             ]
            ],
            "type": "heatmap"
           }
          ],
          "heatmapgl": [
           {
            "colorbar": {
             "outlinewidth": 0,
             "ticks": ""
            },
            "colorscale": [
             [
              0,
              "#0d0887"
             ],
             [
              0.1111111111111111,
              "#46039f"
             ],
             [
              0.2222222222222222,
              "#7201a8"
             ],
             [
              0.3333333333333333,
              "#9c179e"
             ],
             [
              0.4444444444444444,
              "#bd3786"
             ],
             [
              0.5555555555555556,
              "#d8576b"
             ],
             [
              0.6666666666666666,
              "#ed7953"
             ],
             [
              0.7777777777777778,
              "#fb9f3a"
             ],
             [
              0.8888888888888888,
              "#fdca26"
             ],
             [
              1,
              "#f0f921"
             ]
            ],
            "type": "heatmapgl"
           }
          ],
          "histogram": [
           {
            "marker": {
             "pattern": {
              "fillmode": "overlay",
              "size": 10,
              "solidity": 0.2
             }
            },
            "type": "histogram"
           }
          ],
          "histogram2d": [
           {
            "colorbar": {
             "outlinewidth": 0,
             "ticks": ""
            },
            "colorscale": [
             [
              0,
              "#0d0887"
             ],
             [
              0.1111111111111111,
              "#46039f"
             ],
             [
              0.2222222222222222,
              "#7201a8"
             ],
             [
              0.3333333333333333,
              "#9c179e"
             ],
             [
              0.4444444444444444,
              "#bd3786"
             ],
             [
              0.5555555555555556,
              "#d8576b"
             ],
             [
              0.6666666666666666,
              "#ed7953"
             ],
             [
              0.7777777777777778,
              "#fb9f3a"
             ],
             [
              0.8888888888888888,
              "#fdca26"
             ],
             [
              1,
              "#f0f921"
             ]
            ],
            "type": "histogram2d"
           }
          ],
          "histogram2dcontour": [
           {
            "colorbar": {
             "outlinewidth": 0,
             "ticks": ""
            },
            "colorscale": [
             [
              0,
              "#0d0887"
             ],
             [
              0.1111111111111111,
              "#46039f"
             ],
             [
              0.2222222222222222,
              "#7201a8"
             ],
             [
              0.3333333333333333,
              "#9c179e"
             ],
             [
              0.4444444444444444,
              "#bd3786"
             ],
             [
              0.5555555555555556,
              "#d8576b"
             ],
             [
              0.6666666666666666,
              "#ed7953"
             ],
             [
              0.7777777777777778,
              "#fb9f3a"
             ],
             [
              0.8888888888888888,
              "#fdca26"
             ],
             [
              1,
              "#f0f921"
             ]
            ],
            "type": "histogram2dcontour"
           }
          ],
          "mesh3d": [
           {
            "colorbar": {
             "outlinewidth": 0,
             "ticks": ""
            },
            "type": "mesh3d"
           }
          ],
          "parcoords": [
           {
            "line": {
             "colorbar": {
              "outlinewidth": 0,
              "ticks": ""
             }
            },
            "type": "parcoords"
           }
          ],
          "pie": [
           {
            "automargin": true,
            "type": "pie"
           }
          ],
          "scatter": [
           {
            "marker": {
             "colorbar": {
              "outlinewidth": 0,
              "ticks": ""
             }
            },
            "type": "scatter"
           }
          ],
          "scatter3d": [
           {
            "line": {
             "colorbar": {
              "outlinewidth": 0,
              "ticks": ""
             }
            },
            "marker": {
             "colorbar": {
              "outlinewidth": 0,
              "ticks": ""
             }
            },
            "type": "scatter3d"
           }
          ],
          "scattercarpet": [
           {
            "marker": {
             "colorbar": {
              "outlinewidth": 0,
              "ticks": ""
             }
            },
            "type": "scattercarpet"
           }
          ],
          "scattergeo": [
           {
            "marker": {
             "colorbar": {
              "outlinewidth": 0,
              "ticks": ""
             }
            },
            "type": "scattergeo"
           }
          ],
          "scattergl": [
           {
            "marker": {
             "colorbar": {
              "outlinewidth": 0,
              "ticks": ""
             }
            },
            "type": "scattergl"
           }
          ],
          "scattermapbox": [
           {
            "marker": {
             "colorbar": {
              "outlinewidth": 0,
              "ticks": ""
             }
            },
            "type": "scattermapbox"
           }
          ],
          "scatterpolar": [
           {
            "marker": {
             "colorbar": {
              "outlinewidth": 0,
              "ticks": ""
             }
            },
            "type": "scatterpolar"
           }
          ],
          "scatterpolargl": [
           {
            "marker": {
             "colorbar": {
              "outlinewidth": 0,
              "ticks": ""
             }
            },
            "type": "scatterpolargl"
           }
          ],
          "scatterternary": [
           {
            "marker": {
             "colorbar": {
              "outlinewidth": 0,
              "ticks": ""
             }
            },
            "type": "scatterternary"
           }
          ],
          "surface": [
           {
            "colorbar": {
             "outlinewidth": 0,
             "ticks": ""
            },
            "colorscale": [
             [
              0,
              "#0d0887"
             ],
             [
              0.1111111111111111,
              "#46039f"
             ],
             [
              0.2222222222222222,
              "#7201a8"
             ],
             [
              0.3333333333333333,
              "#9c179e"
             ],
             [
              0.4444444444444444,
              "#bd3786"
             ],
             [
              0.5555555555555556,
              "#d8576b"
             ],
             [
              0.6666666666666666,
              "#ed7953"
             ],
             [
              0.7777777777777778,
              "#fb9f3a"
             ],
             [
              0.8888888888888888,
              "#fdca26"
             ],
             [
              1,
              "#f0f921"
             ]
            ],
            "type": "surface"
           }
          ],
          "table": [
           {
            "cells": {
             "fill": {
              "color": "#EBF0F8"
             },
             "line": {
              "color": "white"
             }
            },
            "header": {
             "fill": {
              "color": "#C8D4E3"
             },
             "line": {
              "color": "white"
             }
            },
            "type": "table"
           }
          ]
         },
         "layout": {
          "annotationdefaults": {
           "arrowcolor": "#2a3f5f",
           "arrowhead": 0,
           "arrowwidth": 1
          },
          "autotypenumbers": "strict",
          "coloraxis": {
           "colorbar": {
            "outlinewidth": 0,
            "ticks": ""
           }
          },
          "colorscale": {
           "diverging": [
            [
             0,
             "#8e0152"
            ],
            [
             0.1,
             "#c51b7d"
            ],
            [
             0.2,
             "#de77ae"
            ],
            [
             0.3,
             "#f1b6da"
            ],
            [
             0.4,
             "#fde0ef"
            ],
            [
             0.5,
             "#f7f7f7"
            ],
            [
             0.6,
             "#e6f5d0"
            ],
            [
             0.7,
             "#b8e186"
            ],
            [
             0.8,
             "#7fbc41"
            ],
            [
             0.9,
             "#4d9221"
            ],
            [
             1,
             "#276419"
            ]
           ],
           "sequential": [
            [
             0,
             "#0d0887"
            ],
            [
             0.1111111111111111,
             "#46039f"
            ],
            [
             0.2222222222222222,
             "#7201a8"
            ],
            [
             0.3333333333333333,
             "#9c179e"
            ],
            [
             0.4444444444444444,
             "#bd3786"
            ],
            [
             0.5555555555555556,
             "#d8576b"
            ],
            [
             0.6666666666666666,
             "#ed7953"
            ],
            [
             0.7777777777777778,
             "#fb9f3a"
            ],
            [
             0.8888888888888888,
             "#fdca26"
            ],
            [
             1,
             "#f0f921"
            ]
           ],
           "sequentialminus": [
            [
             0,
             "#0d0887"
            ],
            [
             0.1111111111111111,
             "#46039f"
            ],
            [
             0.2222222222222222,
             "#7201a8"
            ],
            [
             0.3333333333333333,
             "#9c179e"
            ],
            [
             0.4444444444444444,
             "#bd3786"
            ],
            [
             0.5555555555555556,
             "#d8576b"
            ],
            [
             0.6666666666666666,
             "#ed7953"
            ],
            [
             0.7777777777777778,
             "#fb9f3a"
            ],
            [
             0.8888888888888888,
             "#fdca26"
            ],
            [
             1,
             "#f0f921"
            ]
           ]
          },
          "colorway": [
           "#636efa",
           "#EF553B",
           "#00cc96",
           "#ab63fa",
           "#FFA15A",
           "#19d3f3",
           "#FF6692",
           "#B6E880",
           "#FF97FF",
           "#FECB52"
          ],
          "font": {
           "color": "#2a3f5f"
          },
          "geo": {
           "bgcolor": "white",
           "lakecolor": "white",
           "landcolor": "#E5ECF6",
           "showlakes": true,
           "showland": true,
           "subunitcolor": "white"
          },
          "hoverlabel": {
           "align": "left"
          },
          "hovermode": "closest",
          "mapbox": {
           "style": "light"
          },
          "paper_bgcolor": "white",
          "plot_bgcolor": "#E5ECF6",
          "polar": {
           "angularaxis": {
            "gridcolor": "white",
            "linecolor": "white",
            "ticks": ""
           },
           "bgcolor": "#E5ECF6",
           "radialaxis": {
            "gridcolor": "white",
            "linecolor": "white",
            "ticks": ""
           }
          },
          "scene": {
           "xaxis": {
            "backgroundcolor": "#E5ECF6",
            "gridcolor": "white",
            "gridwidth": 2,
            "linecolor": "white",
            "showbackground": true,
            "ticks": "",
            "zerolinecolor": "white"
           },
           "yaxis": {
            "backgroundcolor": "#E5ECF6",
            "gridcolor": "white",
            "gridwidth": 2,
            "linecolor": "white",
            "showbackground": true,
            "ticks": "",
            "zerolinecolor": "white"
           },
           "zaxis": {
            "backgroundcolor": "#E5ECF6",
            "gridcolor": "white",
            "gridwidth": 2,
            "linecolor": "white",
            "showbackground": true,
            "ticks": "",
            "zerolinecolor": "white"
           }
          },
          "shapedefaults": {
           "line": {
            "color": "#2a3f5f"
           }
          },
          "ternary": {
           "aaxis": {
            "gridcolor": "white",
            "linecolor": "white",
            "ticks": ""
           },
           "baxis": {
            "gridcolor": "white",
            "linecolor": "white",
            "ticks": ""
           },
           "bgcolor": "#E5ECF6",
           "caxis": {
            "gridcolor": "white",
            "linecolor": "white",
            "ticks": ""
           }
          },
          "title": {
           "x": 0.05
          },
          "xaxis": {
           "automargin": true,
           "gridcolor": "white",
           "linecolor": "white",
           "ticks": "",
           "title": {
            "standoff": 15
           },
           "zerolinecolor": "white",
           "zerolinewidth": 2
          },
          "yaxis": {
           "automargin": true,
           "gridcolor": "white",
           "linecolor": "white",
           "ticks": "",
           "title": {
            "standoff": 15
           },
           "zerolinecolor": "white",
           "zerolinewidth": 2
          }
         }
        },
        "title": {
         "text": "CAD_JPY_MA_8_16"
        },
        "width": 1000,
        "xaxis": {
         "linecolor": "#3a4a54",
         "linewidth": 1,
         "showgrid": false,
         "zeroline": false
        },
        "yaxis": {
         "linecolor": "#3a4a54",
         "linewidth": 1,
         "showgrid": false,
         "zeroline": false
        }
       }
      }
     },
     "metadata": {}
    },
    {
     "output_type": "display_data",
     "data": {
      "application/vnd.plotly.v1+json": {
       "config": {
        "plotlyServerURL": "https://plot.ly"
       },
       "data": [
        {
         "line": {
          "color": "#3d825f",
          "shape": "spline",
          "width": 2
         },
         "mode": "lines",
         "name": "CHF_JPY_GAIN",
         "type": "scatter",
         "x": [
          "2021-01-19T16:00:00+00:00",
          "2021-01-21T15:00:00+00:00",
          "2021-01-22T02:00:00+00:00",
          "2021-01-22T05:00:00+00:00",
          "2021-01-25T04:00:00+00:00",
          "2021-01-25T14:00:00+00:00",
          "2021-01-25T22:00:00+00:00",
          "2021-01-26T10:00:00+00:00",
          "2021-01-26T15:00:00+00:00",
          "2021-01-27T04:00:00+00:00",
          "2021-01-28T20:00:00+00:00",
          "2021-01-29T02:00:00+00:00",
          "2021-02-01T05:00:00+00:00",
          "2021-02-01T09:00:00+00:00",
          "2021-02-02T01:00:00+00:00",
          "2021-02-02T08:00:00+00:00",
          "2021-02-03T00:00:00+00:00",
          "2021-02-03T09:00:00+00:00",
          "2021-02-03T19:00:00+00:00",
          "2021-02-04T03:00:00+00:00",
          "2021-02-05T08:00:00+00:00",
          "2021-02-05T13:00:00+00:00",
          "2021-02-05T19:00:00+00:00",
          "2021-02-08T05:00:00+00:00",
          "2021-02-08T16:00:00+00:00",
          "2021-02-10T04:00:00+00:00",
          "2021-02-10T07:00:00+00:00",
          "2021-02-10T11:00:00+00:00",
          "2021-02-10T21:00:00+00:00",
          "2021-02-11T09:00:00+00:00",
          "2021-02-12T21:00:00+00:00",
          "2021-02-15T02:00:00+00:00",
          "2021-02-16T11:00:00+00:00",
          "2021-02-16T15:00:00+00:00",
          "2021-02-17T08:00:00+00:00",
          "2021-02-17T14:00:00+00:00",
          "2021-02-17T19:00:00+00:00",
          "2021-02-19T19:00:00+00:00",
          "2021-02-22T14:00:00+00:00",
          "2021-02-23T08:00:00+00:00",
          "2021-02-23T22:00:00+00:00",
          "2021-02-23T23:00:00+00:00",
          "2021-02-26T04:00:00+00:00",
          "2021-02-26T10:00:00+00:00",
          "2021-03-01T05:00:00+00:00",
          "2021-03-01T08:00:00+00:00",
          "2021-03-02T17:00:00+00:00",
          "2021-03-03T04:00:00+00:00",
          "2021-03-05T19:00:00+00:00",
          "2021-03-08T01:00:00+00:00",
          "2021-03-09T10:00:00+00:00",
          "2021-03-10T04:00:00+00:00",
          "2021-03-10T13:00:00+00:00",
          "2021-03-11T04:00:00+00:00",
          "2021-03-11T14:00:00+00:00",
          "2021-03-12T00:00:00+00:00",
          "2021-03-12T21:00:00+00:00",
          "2021-03-14T23:00:00+00:00",
          "2021-03-15T14:00:00+00:00",
          "2021-03-15T18:00:00+00:00",
          "2021-03-15T19:00:00+00:00",
          "2021-03-15T23:00:00+00:00",
          "2021-03-16T00:00:00+00:00",
          "2021-03-16T01:00:00+00:00",
          "2021-03-16T02:00:00+00:00",
          "2021-03-16T12:00:00+00:00",
          "2021-03-17T01:00:00+00:00",
          "2021-03-17T19:00:00+00:00",
          "2021-03-18T07:00:00+00:00",
          "2021-03-18T20:00:00+00:00",
          "2021-03-19T16:00:00+00:00",
          "2021-03-21T23:00:00+00:00",
          "2021-03-22T17:00:00+00:00",
          "2021-03-23T05:00:00+00:00",
          "2021-03-23T21:00:00+00:00",
          "2021-03-24T01:00:00+00:00",
          "2021-03-24T10:00:00+00:00",
          "2021-03-25T00:00:00+00:00",
          "2021-03-25T02:00:00+00:00",
          "2021-03-29T02:00:00+00:00",
          "2021-03-29T13:00:00+00:00",
          "2021-03-31T14:00:00+00:00",
          "2021-03-31T22:00:00+00:00",
          "2021-04-01T07:00:00+00:00",
          "2021-04-01T10:00:00+00:00",
          "2021-04-01T16:00:00+00:00",
          "2021-04-02T16:00:00+00:00",
          "2021-04-05T02:00:00+00:00",
          "2021-04-06T03:00:00+00:00",
          "2021-04-06T14:00:00+00:00",
          "2021-04-07T09:00:00+00:00",
          "2021-04-07T16:00:00+00:00",
          "2021-04-07T23:00:00+00:00",
          "2021-04-08T06:00:00+00:00",
          "2021-04-09T00:00:00+00:00",
          "2021-04-11T21:00:00+00:00",
          "2021-04-12T22:00:00+00:00",
          "2021-04-13T11:00:00+00:00",
          "2021-04-14T11:00:00+00:00",
          "2021-04-14T21:00:00+00:00",
          "2021-04-16T02:00:00+00:00",
          "2021-04-16T15:00:00+00:00",
          "2021-04-19T22:00:00+00:00",
          "2021-04-20T17:00:00+00:00",
          "2021-04-21T10:00:00+00:00",
          "2021-04-21T19:00:00+00:00",
          "2021-04-22T12:00:00+00:00",
          "2021-04-22T23:00:00+00:00",
          "2021-04-23T19:00:00+00:00",
          "2021-04-26T02:00:00+00:00",
          "2021-04-26T12:00:00+00:00",
          "2021-04-28T15:00:00+00:00",
          "2021-04-29T08:00:00+00:00",
          "2021-04-29T21:00:00+00:00",
          "2021-04-30T12:00:00+00:00",
          "2021-05-03T14:00:00+00:00",
          "2021-05-04T03:00:00+00:00",
          "2021-05-04T16:00:00+00:00",
          "2021-05-04T22:00:00+00:00",
          "2021-05-05T14:00:00+00:00",
          "2021-05-06T03:00:00+00:00",
          "2021-05-06T11:00:00+00:00",
          "2021-05-07T05:00:00+00:00",
          "2021-05-07T12:00:00+00:00",
          "2021-05-10T03:00:00+00:00",
          "2021-05-10T14:00:00+00:00",
          "2021-05-10T22:00:00+00:00",
          "2021-05-11T11:00:00+00:00",
          "2021-05-12T00:00:00+00:00",
          "2021-05-13T07:00:00+00:00",
          "2021-05-13T09:00:00+00:00",
          "2021-05-13T11:00:00+00:00",
          "2021-05-14T03:00:00+00:00",
          "2021-05-14T08:00:00+00:00",
          "2021-05-14T20:00:00+00:00",
          "2021-05-17T01:00:00+00:00",
          "2021-05-17T04:00:00+00:00",
          "2021-05-17T06:00:00+00:00",
          "2021-05-18T00:00:00+00:00",
          "2021-05-18T07:00:00+00:00",
          "2021-05-19T02:00:00+00:00",
          "2021-05-19T15:00:00+00:00",
          "2021-05-19T22:00:00+00:00",
          "2021-05-20T07:00:00+00:00",
          "2021-05-21T03:00:00+00:00",
          "2021-05-21T07:00:00+00:00",
          "2021-05-21T16:00:00+00:00",
          "2021-05-24T04:00:00+00:00",
          "2021-05-24T15:00:00+00:00",
          "2021-05-24T17:00:00+00:00",
          "2021-05-25T11:00:00+00:00",
          "2021-05-25T21:00:00+00:00",
          "2021-05-26T07:00:00+00:00",
          "2021-05-27T05:00:00+00:00",
          "2021-05-27T11:00:00+00:00",
          "2021-05-28T20:00:00+00:00",
          "2021-06-01T10:00:00+00:00",
          "2021-06-01T18:00:00+00:00",
          "2021-06-02T02:00:00+00:00",
          "2021-06-02T17:00:00+00:00",
          "2021-06-03T03:00:00+00:00",
          "2021-06-04T05:00:00+00:00",
          "2021-06-07T03:00:00+00:00",
          "2021-06-07T07:00:00+00:00",
          "2021-06-08T01:00:00+00:00",
          "2021-06-08T17:00:00+00:00",
          "2021-06-08T20:00:00+00:00",
          "2021-06-09T04:00:00+00:00",
          "2021-06-09T15:00:00+00:00",
          "2021-06-10T05:00:00+00:00",
          "2021-06-10T16:00:00+00:00",
          "2021-06-10T17:00:00+00:00",
          "2021-06-10T18:00:00+00:00",
          "2021-06-10T19:00:00+00:00",
          "2021-06-11T06:00:00+00:00",
          "2021-06-14T10:00:00+00:00",
          "2021-06-14T14:00:00+00:00",
          "2021-06-15T20:00:00+00:00",
          "2021-06-16T05:00:00+00:00",
          "2021-06-16T07:00:00+00:00",
          "2021-06-16T19:00:00+00:00",
          "2021-06-17T09:00:00+00:00",
          "2021-06-18T15:00:00+00:00",
          "2021-06-20T23:00:00+00:00",
          "2021-06-21T13:00:00+00:00",
          "2021-06-23T18:00:00+00:00",
          "2021-06-23T20:00:00+00:00",
          "2021-06-24T07:00:00+00:00",
          "2021-06-24T20:00:00+00:00",
          "2021-06-25T06:00:00+00:00",
          "2021-06-25T20:00:00+00:00",
          "2021-06-28T03:00:00+00:00",
          "2021-06-28T12:00:00+00:00",
          "2021-06-28T18:00:00+00:00",
          "2021-06-29T10:00:00+00:00",
          "2021-06-29T17:00:00+00:00",
          "2021-06-30T12:00:00+00:00",
          "2021-07-02T09:00:00+00:00",
          "2021-07-05T20:00:00+00:00",
          "2021-07-06T03:00:00+00:00",
          "2021-07-07T09:00:00+00:00",
          "2021-07-07T18:00:00+00:00",
          "2021-07-08T22:00:00+00:00",
          "2021-07-12T07:00:00+00:00",
          "2021-07-12T13:00:00+00:00",
          "2021-07-13T10:00:00+00:00",
          "2021-07-13T17:00:00+00:00",
          "2021-07-14T06:00:00+00:00",
          "2021-07-15T14:00:00+00:00",
          "2021-07-15T22:00:00+00:00",
          "2021-07-16T05:00:00+00:00",
          "2021-07-16T20:00:00+00:00",
          "2021-07-20T01:00:00+00:00",
          "2021-07-22T02:00:00+00:00",
          "2021-07-22T11:00:00+00:00",
          "2021-07-22T17:00:00+00:00",
          "2021-07-23T02:00:00+00:00",
          "2021-07-26T02:00:00+00:00",
          "2021-07-26T16:00:00+00:00",
          "2021-07-27T02:00:00+00:00",
          "2021-07-28T03:00:00+00:00",
          "2021-07-28T21:00:00+00:00",
          "2021-07-29T13:00:00+00:00",
          "2021-07-29T15:00:00+00:00",
          "2021-07-30T06:00:00+00:00",
          "2021-08-02T01:00:00+00:00",
          "2021-08-04T08:00:00+00:00",
          "2021-08-05T11:00:00+00:00",
          "2021-08-05T17:00:00+00:00",
          "2021-08-06T10:00:00+00:00",
          "2021-08-06T12:00:00+00:00",
          "2021-08-09T04:00:00+00:00",
          "2021-08-09T17:00:00+00:00",
          "2021-08-11T14:00:00+00:00",
          "2021-08-12T10:00:00+00:00",
          "2021-08-12T20:00:00+00:00",
          "2021-08-12T23:00:00+00:00",
          "2021-08-13T00:00:00+00:00",
          "2021-08-13T01:00:00+00:00",
          "2021-08-13T02:00:00+00:00",
          "2021-08-13T05:00:00+00:00",
          "2021-08-13T06:00:00+00:00",
          "2021-08-17T02:00:00+00:00",
          "2021-08-18T05:00:00+00:00",
          "2021-08-18T07:00:00+00:00",
          "2021-08-19T01:00:00+00:00",
          "2021-08-19T02:00:00+00:00",
          "2021-08-19T10:00:00+00:00",
          "2021-08-19T20:00:00+00:00",
          "2021-08-20T04:00:00+00:00",
          "2021-08-20T15:00:00+00:00",
          "2021-08-23T17:00:00+00:00",
          "2021-08-24T05:00:00+00:00",
          "2021-08-24T13:00:00+00:00",
          "2021-08-24T23:00:00+00:00",
          "2021-08-26T02:00:00+00:00",
          "2021-08-26T07:00:00+00:00",
          "2021-08-26T19:00:00+00:00",
          "2021-08-27T10:00:00+00:00",
          "2021-08-27T17:00:00+00:00",
          "2021-08-30T11:00:00+00:00",
          "2021-08-31T02:00:00+00:00",
          "2021-08-31T15:00:00+00:00",
          "2021-09-01T15:00:00+00:00",
          "2021-09-02T03:00:00+00:00",
          "2021-09-02T05:00:00+00:00",
          "2021-09-03T05:00:00+00:00",
          "2021-09-03T12:00:00+00:00",
          "2021-09-06T02:00:00+00:00",
          "2021-09-06T18:00:00+00:00"
         ],
         "y": [
          29.89999999999924,
          27.199999999999136,
          22.19999999999942,
          40.399999999999636,
          26.599999999999113,
          12.79999999999859,
          9.399999999997988,
          -6.200000000002603,
          -13.000000000002387,
          40.19999999999726,
          15.19999999999726,
          31.599999999997408,
          10.099999999997067,
          10.199999999997544,
          11.39999999999759,
          20.999999999996533,
          9.5999999999961,
          7.5999999999964984,
          1.3999999999967372,
          24.19999999999618,
          -9.700000000005105,
          -33.60000000000554,
          -39.40000000000481,
          -69.90000000000407,
          -6.70000000000357,
          -11.20000000000374,
          -36.80000000000376,
          -56.40000000000356,
          -64.80000000000388,
          -38.60000000000383,
          -47.20000000000368,
          -9.400000000003672,
          -39.80000000000388,
          -19.800000000003593,
          -22.500000000003695,
          -23.00000000000466,
          19.599999999995532,
          -16.600000000003945,
          -23.40000000000373,
          -18.400000000004013,
          -23.600000000004684,
          62.09999999999525,
          34.59999999999468,
          44.59999999999411,
          29.99999999999403,
          36.499999999993804,
          24.79999999999336,
          172.79999999999234,
          165.7999999999916,
          197.39999999999185,
          185.79999999999188,
          148.79999999999143,
          134.49999999999136,
          135.79999999999188,
          136.49999999999238,
          176.9999999999925,
          167.5999999999931,
          173.9999999999938,
          177.49999999999346,
          173.49999999999284,
          171.29999999999228,
          181.79999999999126,
          184.9999999999909,
          186.59999999999144,
          207.59999999999224,
          194.59999999999127,
          168.99999999999125,
          136.29999999999143,
          103.99999999999068,
          104.99999999998977,
          104.79999999998881,
          116.39999999998878,
          115.19999999998873,
          128.19999999998828,
          114.2999999999887,
          88.79999999998915,
          103.59999999998877,
          100.3999999999877,
          157.59999999998655,
          132.29999999998654,
          210.4999999999876,
          184.89999999998759,
          175.99999999998772,
          165.39999999998827,
          144.49999999998795,
          132.7999999999875,
          119.599999999987,
          140.29999999998637,
          79.39999999998548,
          73.79999999998432,
          64.39999999998349,
          50.099999999983424,
          34.099999999983766,
          77.79999999998353,
          121.0999999999828,
          151.39999999998253,
          153.1999999999826,
          198.69999999998242,
          197.59999999998143,
          202.09999999998018,
          191.5999999999798,
          255.79999999997938,
          254.39999999997838,
          253.5999999999774,
          244.99999999997755,
          238.0999999999787,
          224.2999999999796,
          233.69999999998043,
          216.79999999998074,
          182.19999999998038,
          255.99999999998033,
          239.19999999998112,
          234.1999999999814,
          229.29999999998074,
          224.9999999999801,
          192.5999999999803,
          194.79999999998086,
          191.69999999998026,
          181.7999999999799,
          165.69999999997975,
          144.99999999997897,
          150.39999999997917,
          97.19999999997953,
          66.39999999997883,
          50.39999999997775,
          41.7999999999779,
          19.799999999978013,
          1.399999999976842,
          90.29999999997642,
          96.99999999997715,
          98.8999999999777,
          104.2999999999779,
          75.89999999997872,
          69.49999999997942,
          69.39999999997895,
          64.7999999999783,
          45.799999999978525,
          44.49999999997942,
          19.799999999979434,
          21.199999999979013,
          2.0999999999787633,
          -43.20000000002153,
          -66.50000000002194,
          -54.40000000002243,
          -70.7000000000221,
          -100.30000000002133,
          -115.00000000002046,
          -111.40000000002033,
          -115.50000000002001,
          -125.80000000001945,
          -135.80000000001888,
          -141.8000000000177,
          -117.20000000001676,
          -132.6000000000164,
          -69.90000000001686,
          -42.80000000001678,
          -59.20000000001551,
          -77.50000000001478,
          -81.60000000001446,
          -92.80000000001394,
          -33.200000000013574,
          37.59999999998627,
          23.399999999986676,
          25.999999999987722,
          35.39999999998855,
          35.59999999998951,
          34.599999999990416,
          20.799999999991314,
          14.199999999992485,
          26.399999999992474,
          26.599999999992008,
          27.19999999999203,
          16.39999999999162,
          6.7999999999912575,
          32.79999999999177,
          1.5999999999920078,
          9.49999999999136,
          8.79999999999086,
          -4.200000000010107,
          -73.2000000000113,
          -67.2000000000125,
          -19.40000000001305,
          -20.400000000013563,
          -21.20000000001454,
          54.19999999998453,
          55.299999999984095,
          47.89999999998429,
          47.19999999998379,
          35.39999999998287,
          35.89999999998241,
          22.699999999981912,
          0.7999999999810825,
          -30.800000000019168,
          -35.20000000001886,
          -40.40000000001811,
          -52.20000000001761,
          32.999999999982776,
          83.39999999998327,
          68.49999999998317,
          78.59999999998308,
          66.19999999998356,
          150.39999999998344,
          177.39999999998304,
          148.59999999998337,
          138.29999999998392,
          100.1999999999839,
          85.09999999998286,
          128.29999999998165,
          107.29999999998086,
          90.49999999998022,
          99.9999999999801,
          157.99999999997993,
          222.39999999997906,
          210.19999999997907,
          204.19999999997884,
          200.79999999997824,
          212.99999999997823,
          217.4999999999784,
          206.999999999978,
          248.79999999997722,
          262.6999999999768,
          280.599999999977,
          259.19999999997714,
          252.99999999997738,
          263.6999999999773,
          315.59999999997643,
          338.9999999999759,
          304.99999999997556,
          310.9999999999758,
          282.39999999997565,
          292.3999999999751,
          286.69999999997486,
          306.39999999997514,
          308.9999999999762,
          308.79999999997665,
          312.3999999999768,
          314.19999999997685,
          313.9999999999759,
          310.9999999999758,
          309.79999999997574,
          306.69999999997515,
          416.9999999999746,
          450.49999999997397,
          449.49999999997345,
          498.5999999999734,
          494.2999999999742,
          444.9999999999747,
          434.39999999997525,
          432.8999999999752,
          430.99999999997465,
          427.799999999975,
          418.5999999999751,
          398.49999999997436,
          387.99999999997397,
          413.7999999999735,
          396.5999999999724,
          382.59999999997234,
          370.1999999999728,
          339.69999999997214,
          336.29999999997153,
          334.399999999971,
          314.79999999996977,
          312.5999999999692,
          314.5999999999688,
          310.9999999999687,
          307.5999999999695,
          292.3999999999694,
          298.9999999999682,
          304.399999999967,
          296.1999999999662
         ]
        }
       ],
       "layout": {
        "font": {
         "color": "#e1e1e1",
         "size": 10
        },
        "height": 400,
        "margin": {
         "b": 10,
         "l": 15,
         "r": 15
        },
        "paper_bgcolor": "#1e1e1e",
        "plot_bgcolor": "#1e1e1e",
        "template": {
         "data": {
          "bar": [
           {
            "error_x": {
             "color": "#2a3f5f"
            },
            "error_y": {
             "color": "#2a3f5f"
            },
            "marker": {
             "line": {
              "color": "#E5ECF6",
              "width": 0.5
             },
             "pattern": {
              "fillmode": "overlay",
              "size": 10,
              "solidity": 0.2
             }
            },
            "type": "bar"
           }
          ],
          "barpolar": [
           {
            "marker": {
             "line": {
              "color": "#E5ECF6",
              "width": 0.5
             },
             "pattern": {
              "fillmode": "overlay",
              "size": 10,
              "solidity": 0.2
             }
            },
            "type": "barpolar"
           }
          ],
          "carpet": [
           {
            "aaxis": {
             "endlinecolor": "#2a3f5f",
             "gridcolor": "white",
             "linecolor": "white",
             "minorgridcolor": "white",
             "startlinecolor": "#2a3f5f"
            },
            "baxis": {
             "endlinecolor": "#2a3f5f",
             "gridcolor": "white",
             "linecolor": "white",
             "minorgridcolor": "white",
             "startlinecolor": "#2a3f5f"
            },
            "type": "carpet"
           }
          ],
          "choropleth": [
           {
            "colorbar": {
             "outlinewidth": 0,
             "ticks": ""
            },
            "type": "choropleth"
           }
          ],
          "contour": [
           {
            "colorbar": {
             "outlinewidth": 0,
             "ticks": ""
            },
            "colorscale": [
             [
              0,
              "#0d0887"
             ],
             [
              0.1111111111111111,
              "#46039f"
             ],
             [
              0.2222222222222222,
              "#7201a8"
             ],
             [
              0.3333333333333333,
              "#9c179e"
             ],
             [
              0.4444444444444444,
              "#bd3786"
             ],
             [
              0.5555555555555556,
              "#d8576b"
             ],
             [
              0.6666666666666666,
              "#ed7953"
             ],
             [
              0.7777777777777778,
              "#fb9f3a"
             ],
             [
              0.8888888888888888,
              "#fdca26"
             ],
             [
              1,
              "#f0f921"
             ]
            ],
            "type": "contour"
           }
          ],
          "contourcarpet": [
           {
            "colorbar": {
             "outlinewidth": 0,
             "ticks": ""
            },
            "type": "contourcarpet"
           }
          ],
          "heatmap": [
           {
            "colorbar": {
             "outlinewidth": 0,
             "ticks": ""
            },
            "colorscale": [
             [
              0,
              "#0d0887"
             ],
             [
              0.1111111111111111,
              "#46039f"
             ],
             [
              0.2222222222222222,
              "#7201a8"
             ],
             [
              0.3333333333333333,
              "#9c179e"
             ],
             [
              0.4444444444444444,
              "#bd3786"
             ],
             [
              0.5555555555555556,
              "#d8576b"
             ],
             [
              0.6666666666666666,
              "#ed7953"
             ],
             [
              0.7777777777777778,
              "#fb9f3a"
             ],
             [
              0.8888888888888888,
              "#fdca26"
             ],
             [
              1,
              "#f0f921"
             ]
            ],
            "type": "heatmap"
           }
          ],
          "heatmapgl": [
           {
            "colorbar": {
             "outlinewidth": 0,
             "ticks": ""
            },
            "colorscale": [
             [
              0,
              "#0d0887"
             ],
             [
              0.1111111111111111,
              "#46039f"
             ],
             [
              0.2222222222222222,
              "#7201a8"
             ],
             [
              0.3333333333333333,
              "#9c179e"
             ],
             [
              0.4444444444444444,
              "#bd3786"
             ],
             [
              0.5555555555555556,
              "#d8576b"
             ],
             [
              0.6666666666666666,
              "#ed7953"
             ],
             [
              0.7777777777777778,
              "#fb9f3a"
             ],
             [
              0.8888888888888888,
              "#fdca26"
             ],
             [
              1,
              "#f0f921"
             ]
            ],
            "type": "heatmapgl"
           }
          ],
          "histogram": [
           {
            "marker": {
             "pattern": {
              "fillmode": "overlay",
              "size": 10,
              "solidity": 0.2
             }
            },
            "type": "histogram"
           }
          ],
          "histogram2d": [
           {
            "colorbar": {
             "outlinewidth": 0,
             "ticks": ""
            },
            "colorscale": [
             [
              0,
              "#0d0887"
             ],
             [
              0.1111111111111111,
              "#46039f"
             ],
             [
              0.2222222222222222,
              "#7201a8"
             ],
             [
              0.3333333333333333,
              "#9c179e"
             ],
             [
              0.4444444444444444,
              "#bd3786"
             ],
             [
              0.5555555555555556,
              "#d8576b"
             ],
             [
              0.6666666666666666,
              "#ed7953"
             ],
             [
              0.7777777777777778,
              "#fb9f3a"
             ],
             [
              0.8888888888888888,
              "#fdca26"
             ],
             [
              1,
              "#f0f921"
             ]
            ],
            "type": "histogram2d"
           }
          ],
          "histogram2dcontour": [
           {
            "colorbar": {
             "outlinewidth": 0,
             "ticks": ""
            },
            "colorscale": [
             [
              0,
              "#0d0887"
             ],
             [
              0.1111111111111111,
              "#46039f"
             ],
             [
              0.2222222222222222,
              "#7201a8"
             ],
             [
              0.3333333333333333,
              "#9c179e"
             ],
             [
              0.4444444444444444,
              "#bd3786"
             ],
             [
              0.5555555555555556,
              "#d8576b"
             ],
             [
              0.6666666666666666,
              "#ed7953"
             ],
             [
              0.7777777777777778,
              "#fb9f3a"
             ],
             [
              0.8888888888888888,
              "#fdca26"
             ],
             [
              1,
              "#f0f921"
             ]
            ],
            "type": "histogram2dcontour"
           }
          ],
          "mesh3d": [
           {
            "colorbar": {
             "outlinewidth": 0,
             "ticks": ""
            },
            "type": "mesh3d"
           }
          ],
          "parcoords": [
           {
            "line": {
             "colorbar": {
              "outlinewidth": 0,
              "ticks": ""
             }
            },
            "type": "parcoords"
           }
          ],
          "pie": [
           {
            "automargin": true,
            "type": "pie"
           }
          ],
          "scatter": [
           {
            "marker": {
             "colorbar": {
              "outlinewidth": 0,
              "ticks": ""
             }
            },
            "type": "scatter"
           }
          ],
          "scatter3d": [
           {
            "line": {
             "colorbar": {
              "outlinewidth": 0,
              "ticks": ""
             }
            },
            "marker": {
             "colorbar": {
              "outlinewidth": 0,
              "ticks": ""
             }
            },
            "type": "scatter3d"
           }
          ],
          "scattercarpet": [
           {
            "marker": {
             "colorbar": {
              "outlinewidth": 0,
              "ticks": ""
             }
            },
            "type": "scattercarpet"
           }
          ],
          "scattergeo": [
           {
            "marker": {
             "colorbar": {
              "outlinewidth": 0,
              "ticks": ""
             }
            },
            "type": "scattergeo"
           }
          ],
          "scattergl": [
           {
            "marker": {
             "colorbar": {
              "outlinewidth": 0,
              "ticks": ""
             }
            },
            "type": "scattergl"
           }
          ],
          "scattermapbox": [
           {
            "marker": {
             "colorbar": {
              "outlinewidth": 0,
              "ticks": ""
             }
            },
            "type": "scattermapbox"
           }
          ],
          "scatterpolar": [
           {
            "marker": {
             "colorbar": {
              "outlinewidth": 0,
              "ticks": ""
             }
            },
            "type": "scatterpolar"
           }
          ],
          "scatterpolargl": [
           {
            "marker": {
             "colorbar": {
              "outlinewidth": 0,
              "ticks": ""
             }
            },
            "type": "scatterpolargl"
           }
          ],
          "scatterternary": [
           {
            "marker": {
             "colorbar": {
              "outlinewidth": 0,
              "ticks": ""
             }
            },
            "type": "scatterternary"
           }
          ],
          "surface": [
           {
            "colorbar": {
             "outlinewidth": 0,
             "ticks": ""
            },
            "colorscale": [
             [
              0,
              "#0d0887"
             ],
             [
              0.1111111111111111,
              "#46039f"
             ],
             [
              0.2222222222222222,
              "#7201a8"
             ],
             [
              0.3333333333333333,
              "#9c179e"
             ],
             [
              0.4444444444444444,
              "#bd3786"
             ],
             [
              0.5555555555555556,
              "#d8576b"
             ],
             [
              0.6666666666666666,
              "#ed7953"
             ],
             [
              0.7777777777777778,
              "#fb9f3a"
             ],
             [
              0.8888888888888888,
              "#fdca26"
             ],
             [
              1,
              "#f0f921"
             ]
            ],
            "type": "surface"
           }
          ],
          "table": [
           {
            "cells": {
             "fill": {
              "color": "#EBF0F8"
             },
             "line": {
              "color": "white"
             }
            },
            "header": {
             "fill": {
              "color": "#C8D4E3"
             },
             "line": {
              "color": "white"
             }
            },
            "type": "table"
           }
          ]
         },
         "layout": {
          "annotationdefaults": {
           "arrowcolor": "#2a3f5f",
           "arrowhead": 0,
           "arrowwidth": 1
          },
          "autotypenumbers": "strict",
          "coloraxis": {
           "colorbar": {
            "outlinewidth": 0,
            "ticks": ""
           }
          },
          "colorscale": {
           "diverging": [
            [
             0,
             "#8e0152"
            ],
            [
             0.1,
             "#c51b7d"
            ],
            [
             0.2,
             "#de77ae"
            ],
            [
             0.3,
             "#f1b6da"
            ],
            [
             0.4,
             "#fde0ef"
            ],
            [
             0.5,
             "#f7f7f7"
            ],
            [
             0.6,
             "#e6f5d0"
            ],
            [
             0.7,
             "#b8e186"
            ],
            [
             0.8,
             "#7fbc41"
            ],
            [
             0.9,
             "#4d9221"
            ],
            [
             1,
             "#276419"
            ]
           ],
           "sequential": [
            [
             0,
             "#0d0887"
            ],
            [
             0.1111111111111111,
             "#46039f"
            ],
            [
             0.2222222222222222,
             "#7201a8"
            ],
            [
             0.3333333333333333,
             "#9c179e"
            ],
            [
             0.4444444444444444,
             "#bd3786"
            ],
            [
             0.5555555555555556,
             "#d8576b"
            ],
            [
             0.6666666666666666,
             "#ed7953"
            ],
            [
             0.7777777777777778,
             "#fb9f3a"
            ],
            [
             0.8888888888888888,
             "#fdca26"
            ],
            [
             1,
             "#f0f921"
            ]
           ],
           "sequentialminus": [
            [
             0,
             "#0d0887"
            ],
            [
             0.1111111111111111,
             "#46039f"
            ],
            [
             0.2222222222222222,
             "#7201a8"
            ],
            [
             0.3333333333333333,
             "#9c179e"
            ],
            [
             0.4444444444444444,
             "#bd3786"
            ],
            [
             0.5555555555555556,
             "#d8576b"
            ],
            [
             0.6666666666666666,
             "#ed7953"
            ],
            [
             0.7777777777777778,
             "#fb9f3a"
            ],
            [
             0.8888888888888888,
             "#fdca26"
            ],
            [
             1,
             "#f0f921"
            ]
           ]
          },
          "colorway": [
           "#636efa",
           "#EF553B",
           "#00cc96",
           "#ab63fa",
           "#FFA15A",
           "#19d3f3",
           "#FF6692",
           "#B6E880",
           "#FF97FF",
           "#FECB52"
          ],
          "font": {
           "color": "#2a3f5f"
          },
          "geo": {
           "bgcolor": "white",
           "lakecolor": "white",
           "landcolor": "#E5ECF6",
           "showlakes": true,
           "showland": true,
           "subunitcolor": "white"
          },
          "hoverlabel": {
           "align": "left"
          },
          "hovermode": "closest",
          "mapbox": {
           "style": "light"
          },
          "paper_bgcolor": "white",
          "plot_bgcolor": "#E5ECF6",
          "polar": {
           "angularaxis": {
            "gridcolor": "white",
            "linecolor": "white",
            "ticks": ""
           },
           "bgcolor": "#E5ECF6",
           "radialaxis": {
            "gridcolor": "white",
            "linecolor": "white",
            "ticks": ""
           }
          },
          "scene": {
           "xaxis": {
            "backgroundcolor": "#E5ECF6",
            "gridcolor": "white",
            "gridwidth": 2,
            "linecolor": "white",
            "showbackground": true,
            "ticks": "",
            "zerolinecolor": "white"
           },
           "yaxis": {
            "backgroundcolor": "#E5ECF6",
            "gridcolor": "white",
            "gridwidth": 2,
            "linecolor": "white",
            "showbackground": true,
            "ticks": "",
            "zerolinecolor": "white"
           },
           "zaxis": {
            "backgroundcolor": "#E5ECF6",
            "gridcolor": "white",
            "gridwidth": 2,
            "linecolor": "white",
            "showbackground": true,
            "ticks": "",
            "zerolinecolor": "white"
           }
          },
          "shapedefaults": {
           "line": {
            "color": "#2a3f5f"
           }
          },
          "ternary": {
           "aaxis": {
            "gridcolor": "white",
            "linecolor": "white",
            "ticks": ""
           },
           "baxis": {
            "gridcolor": "white",
            "linecolor": "white",
            "ticks": ""
           },
           "bgcolor": "#E5ECF6",
           "caxis": {
            "gridcolor": "white",
            "linecolor": "white",
            "ticks": ""
           }
          },
          "title": {
           "x": 0.05
          },
          "xaxis": {
           "automargin": true,
           "gridcolor": "white",
           "linecolor": "white",
           "ticks": "",
           "title": {
            "standoff": 15
           },
           "zerolinecolor": "white",
           "zerolinewidth": 2
          },
          "yaxis": {
           "automargin": true,
           "gridcolor": "white",
           "linecolor": "white",
           "ticks": "",
           "title": {
            "standoff": 15
           },
           "zerolinecolor": "white",
           "zerolinewidth": 2
          }
         }
        },
        "title": {
         "text": "USD_JPY_MA_8_16"
        },
        "width": 1000,
        "xaxis": {
         "linecolor": "#3a4a54",
         "linewidth": 1,
         "showgrid": false,
         "zeroline": false
        },
        "yaxis": {
         "linecolor": "#3a4a54",
         "linewidth": 1,
         "showgrid": false,
         "zeroline": false
        }
       }
      }
     },
     "metadata": {}
    }
   ],
   "metadata": {}
  },
  {
   "cell_type": "markdown",
   "source": [
    "### 畫出所有貨幣對所有 MA 組合的總損益 (也就是每個貨幣對都交易)"
   ],
   "metadata": {}
  },
  {
   "cell_type": "markdown",
   "source": [
    "下方 code 要注意的地方是:  \r\n",
    "```temp_df = temp_df.groupby(by='time', as_index=False).sum()``` 的作用是將同樣的時間給 \"加起來\"，  \r\n",
    "因為我們是 \"同時\" 交易很多貨幣對，所以有可能發生在同一時間有多個貨幣對達成出場條件 (或進場條件)，  \r\n",
    "那同樣的時間相加，時間本身不會變，  \r\n",
    "但我們達到將不同貨幣對 ```GAIN``` 相加的目的\r\n",
    "\r\n",
    "\r\n",
    "也可以從下面 print 出來的資訊觀察，  \r\n",
    "注意到第一個 data frame 中 ```IS_TRADE``` 出現 ```-3```!!  \r\n",
    "這代表在那個時點 (```2021.01.19 11:00 UTC``` 有 ```3``` 個貨幣對出場)"
   ],
   "metadata": {}
  },
  {
   "cell_type": "code",
   "execution_count": 56,
   "source": [
    "for c in crosses:\r\n",
    "    temp_df = all_trades[ (all_trades['CROSS'] == c) ].copy()\r\n",
    "    temp_df = temp_df.groupby(by='time', as_index=False).sum() \r\n",
    "    print(temp_df.head())\r\n",
    "    temp_df['CUM_GAIN'] = temp_df['GAIN'].cumsum()\r\n",
    "\r\n",
    "    plot_line(temp_df, c)"
   ],
   "outputs": [
    {
     "output_type": "stream",
     "name": "stdout",
     "text": [
      "                       time     mid_c      DIFF     DIFF_PREV  IS_TRADE  \\\n",
      "0 2021-01-19 09:00:00+00:00   1.54326  0.000288 -6.250000e-07         1   \n",
      "1 2021-01-19 10:00:00+00:00   3.43670  0.000623 -3.512500e-04         2   \n",
      "2 2021-01-19 11:00:00+00:00   5.35702 -0.000349  1.262500e-04        -3   \n",
      "3 2021-01-19 13:00:00+00:00   1.78970 -0.000146  1.931250e-04        -2   \n",
      "4 2021-01-19 14:00:00+00:00  75.17958 -0.020751  2.913187e-02         0   \n",
      "\n",
      "   DELTA  GAIN  MASHORT  MALONG  DURATION  \n",
      "0   11.2  11.2        8      16      14.0  \n",
      "1    5.2   5.2       16      32      37.0  \n",
      "2   64.5  12.7       40      80      65.0  \n",
      "3    2.3  -2.3       16      32      17.0  \n",
      "4  -14.7 -31.7       16      32      21.0  \n"
     ]
    },
    {
     "output_type": "display_data",
     "data": {
      "application/vnd.plotly.v1+json": {
       "config": {
        "plotlyServerURL": "https://plot.ly"
       },
       "data": [
        {
         "line": {
          "color": "#3d825f",
          "shape": "spline",
          "width": 2
         },
         "mode": "lines",
         "name": "CHF_JPY_GAIN",
         "type": "scatter",
         "x": [
          "2021-01-19T09:00:00+00:00",
          "2021-01-19T10:00:00+00:00",
          "2021-01-19T11:00:00+00:00",
          "2021-01-19T13:00:00+00:00",
          "2021-01-19T14:00:00+00:00",
          "2021-01-19T15:00:00+00:00",
          "2021-01-19T16:00:00+00:00",
          "2021-01-19T18:00:00+00:00",
          "2021-01-19T20:00:00+00:00",
          "2021-01-19T21:00:00+00:00",
          "2021-01-19T22:00:00+00:00",
          "2021-01-19T23:00:00+00:00",
          "2021-01-20T00:00:00+00:00",
          "2021-01-20T01:00:00+00:00",
          "2021-01-20T02:00:00+00:00",
          "2021-01-20T03:00:00+00:00",
          "2021-01-20T04:00:00+00:00",
          "2021-01-20T06:00:00+00:00",
          "2021-01-20T07:00:00+00:00",
          "2021-01-20T09:00:00+00:00",
          "2021-01-20T10:00:00+00:00",
          "2021-01-20T11:00:00+00:00",
          "2021-01-20T13:00:00+00:00",
          "2021-01-20T15:00:00+00:00",
          "2021-01-20T16:00:00+00:00",
          "2021-01-20T17:00:00+00:00",
          "2021-01-20T20:00:00+00:00",
          "2021-01-20T21:00:00+00:00",
          "2021-01-20T23:00:00+00:00",
          "2021-01-21T00:00:00+00:00",
          "2021-01-21T02:00:00+00:00",
          "2021-01-21T03:00:00+00:00",
          "2021-01-21T04:00:00+00:00",
          "2021-01-21T06:00:00+00:00",
          "2021-01-21T09:00:00+00:00",
          "2021-01-21T10:00:00+00:00",
          "2021-01-21T11:00:00+00:00",
          "2021-01-21T12:00:00+00:00",
          "2021-01-21T14:00:00+00:00",
          "2021-01-21T15:00:00+00:00",
          "2021-01-21T16:00:00+00:00",
          "2021-01-21T17:00:00+00:00",
          "2021-01-21T18:00:00+00:00",
          "2021-01-21T22:00:00+00:00",
          "2021-01-21T23:00:00+00:00",
          "2021-01-22T00:00:00+00:00",
          "2021-01-22T01:00:00+00:00",
          "2021-01-22T02:00:00+00:00",
          "2021-01-22T03:00:00+00:00",
          "2021-01-22T05:00:00+00:00",
          "2021-01-22T06:00:00+00:00",
          "2021-01-22T07:00:00+00:00",
          "2021-01-22T08:00:00+00:00",
          "2021-01-22T11:00:00+00:00",
          "2021-01-22T12:00:00+00:00",
          "2021-01-22T14:00:00+00:00",
          "2021-01-22T15:00:00+00:00",
          "2021-01-22T17:00:00+00:00",
          "2021-01-22T18:00:00+00:00",
          "2021-01-22T19:00:00+00:00",
          "2021-01-22T20:00:00+00:00",
          "2021-01-22T21:00:00+00:00",
          "2021-01-24T23:00:00+00:00",
          "2021-01-25T01:00:00+00:00",
          "2021-01-25T02:00:00+00:00",
          "2021-01-25T03:00:00+00:00",
          "2021-01-25T04:00:00+00:00",
          "2021-01-25T05:00:00+00:00",
          "2021-01-25T06:00:00+00:00",
          "2021-01-25T07:00:00+00:00",
          "2021-01-25T10:00:00+00:00",
          "2021-01-25T11:00:00+00:00",
          "2021-01-25T13:00:00+00:00",
          "2021-01-25T14:00:00+00:00",
          "2021-01-25T16:00:00+00:00",
          "2021-01-25T17:00:00+00:00",
          "2021-01-25T18:00:00+00:00",
          "2021-01-25T19:00:00+00:00",
          "2021-01-25T20:00:00+00:00",
          "2021-01-25T21:00:00+00:00",
          "2021-01-25T22:00:00+00:00",
          "2021-01-26T03:00:00+00:00",
          "2021-01-26T04:00:00+00:00",
          "2021-01-26T05:00:00+00:00",
          "2021-01-26T06:00:00+00:00",
          "2021-01-26T07:00:00+00:00",
          "2021-01-26T08:00:00+00:00",
          "2021-01-26T09:00:00+00:00",
          "2021-01-26T10:00:00+00:00",
          "2021-01-26T11:00:00+00:00",
          "2021-01-26T12:00:00+00:00",
          "2021-01-26T13:00:00+00:00",
          "2021-01-26T14:00:00+00:00",
          "2021-01-26T15:00:00+00:00",
          "2021-01-26T16:00:00+00:00",
          "2021-01-26T21:00:00+00:00",
          "2021-01-26T23:00:00+00:00",
          "2021-01-27T01:00:00+00:00",
          "2021-01-27T02:00:00+00:00",
          "2021-01-27T03:00:00+00:00",
          "2021-01-27T04:00:00+00:00",
          "2021-01-27T06:00:00+00:00",
          "2021-01-27T08:00:00+00:00",
          "2021-01-27T09:00:00+00:00",
          "2021-01-27T11:00:00+00:00",
          "2021-01-27T12:00:00+00:00",
          "2021-01-27T13:00:00+00:00",
          "2021-01-27T16:00:00+00:00",
          "2021-01-27T17:00:00+00:00",
          "2021-01-27T18:00:00+00:00",
          "2021-01-27T19:00:00+00:00",
          "2021-01-27T20:00:00+00:00",
          "2021-01-27T22:00:00+00:00",
          "2021-01-28T00:00:00+00:00",
          "2021-01-28T01:00:00+00:00",
          "2021-01-28T03:00:00+00:00",
          "2021-01-28T06:00:00+00:00",
          "2021-01-28T07:00:00+00:00",
          "2021-01-28T08:00:00+00:00",
          "2021-01-28T10:00:00+00:00",
          "2021-01-28T11:00:00+00:00",
          "2021-01-28T13:00:00+00:00",
          "2021-01-28T15:00:00+00:00",
          "2021-01-28T16:00:00+00:00",
          "2021-01-28T17:00:00+00:00",
          "2021-01-28T19:00:00+00:00",
          "2021-01-28T20:00:00+00:00",
          "2021-01-28T21:00:00+00:00",
          "2021-01-29T02:00:00+00:00",
          "2021-01-29T03:00:00+00:00",
          "2021-01-29T04:00:00+00:00",
          "2021-01-29T05:00:00+00:00",
          "2021-01-29T06:00:00+00:00",
          "2021-01-29T08:00:00+00:00",
          "2021-01-29T09:00:00+00:00",
          "2021-01-29T10:00:00+00:00",
          "2021-01-29T11:00:00+00:00",
          "2021-01-29T12:00:00+00:00",
          "2021-01-29T13:00:00+00:00",
          "2021-01-29T15:00:00+00:00",
          "2021-01-29T16:00:00+00:00",
          "2021-01-29T18:00:00+00:00",
          "2021-01-29T20:00:00+00:00",
          "2021-01-31T22:00:00+00:00",
          "2021-01-31T23:00:00+00:00",
          "2021-02-01T00:00:00+00:00",
          "2021-02-01T01:00:00+00:00",
          "2021-02-01T03:00:00+00:00",
          "2021-02-01T04:00:00+00:00",
          "2021-02-01T05:00:00+00:00",
          "2021-02-01T06:00:00+00:00",
          "2021-02-01T07:00:00+00:00",
          "2021-02-01T09:00:00+00:00",
          "2021-02-01T12:00:00+00:00",
          "2021-02-01T13:00:00+00:00",
          "2021-02-01T14:00:00+00:00",
          "2021-02-01T15:00:00+00:00",
          "2021-02-01T16:00:00+00:00",
          "2021-02-01T17:00:00+00:00",
          "2021-02-01T18:00:00+00:00",
          "2021-02-01T19:00:00+00:00",
          "2021-02-01T22:00:00+00:00",
          "2021-02-01T23:00:00+00:00",
          "2021-02-02T00:00:00+00:00",
          "2021-02-02T01:00:00+00:00",
          "2021-02-02T02:00:00+00:00",
          "2021-02-02T03:00:00+00:00",
          "2021-02-02T04:00:00+00:00",
          "2021-02-02T05:00:00+00:00",
          "2021-02-02T06:00:00+00:00",
          "2021-02-02T08:00:00+00:00",
          "2021-02-02T09:00:00+00:00",
          "2021-02-02T11:00:00+00:00",
          "2021-02-02T13:00:00+00:00",
          "2021-02-02T14:00:00+00:00",
          "2021-02-02T15:00:00+00:00",
          "2021-02-02T16:00:00+00:00",
          "2021-02-02T17:00:00+00:00",
          "2021-02-02T21:00:00+00:00",
          "2021-02-02T22:00:00+00:00",
          "2021-02-02T23:00:00+00:00",
          "2021-02-03T00:00:00+00:00",
          "2021-02-03T01:00:00+00:00",
          "2021-02-03T02:00:00+00:00",
          "2021-02-03T06:00:00+00:00",
          "2021-02-03T09:00:00+00:00",
          "2021-02-03T10:00:00+00:00",
          "2021-02-03T11:00:00+00:00",
          "2021-02-03T12:00:00+00:00",
          "2021-02-03T13:00:00+00:00",
          "2021-02-03T14:00:00+00:00",
          "2021-02-03T15:00:00+00:00",
          "2021-02-03T17:00:00+00:00",
          "2021-02-03T19:00:00+00:00",
          "2021-02-03T20:00:00+00:00",
          "2021-02-03T21:00:00+00:00",
          "2021-02-03T22:00:00+00:00",
          "2021-02-03T23:00:00+00:00",
          "2021-02-04T00:00:00+00:00",
          "2021-02-04T01:00:00+00:00",
          "2021-02-04T02:00:00+00:00",
          "2021-02-04T03:00:00+00:00",
          "2021-02-04T05:00:00+00:00",
          "2021-02-04T06:00:00+00:00",
          "2021-02-04T07:00:00+00:00",
          "2021-02-04T08:00:00+00:00",
          "2021-02-04T09:00:00+00:00",
          "2021-02-04T10:00:00+00:00",
          "2021-02-04T12:00:00+00:00",
          "2021-02-04T13:00:00+00:00",
          "2021-02-04T14:00:00+00:00",
          "2021-02-04T15:00:00+00:00",
          "2021-02-04T16:00:00+00:00",
          "2021-02-04T18:00:00+00:00",
          "2021-02-04T19:00:00+00:00",
          "2021-02-04T21:00:00+00:00",
          "2021-02-04T22:00:00+00:00",
          "2021-02-04T23:00:00+00:00",
          "2021-02-05T01:00:00+00:00",
          "2021-02-05T02:00:00+00:00",
          "2021-02-05T04:00:00+00:00",
          "2021-02-05T05:00:00+00:00",
          "2021-02-05T07:00:00+00:00",
          "2021-02-05T08:00:00+00:00",
          "2021-02-05T10:00:00+00:00",
          "2021-02-05T11:00:00+00:00",
          "2021-02-05T12:00:00+00:00",
          "2021-02-05T13:00:00+00:00",
          "2021-02-05T14:00:00+00:00",
          "2021-02-05T15:00:00+00:00",
          "2021-02-05T16:00:00+00:00",
          "2021-02-05T17:00:00+00:00",
          "2021-02-05T18:00:00+00:00",
          "2021-02-05T19:00:00+00:00",
          "2021-02-05T20:00:00+00:00",
          "2021-02-07T22:00:00+00:00",
          "2021-02-08T02:00:00+00:00",
          "2021-02-08T03:00:00+00:00",
          "2021-02-08T04:00:00+00:00",
          "2021-02-08T05:00:00+00:00",
          "2021-02-08T06:00:00+00:00",
          "2021-02-08T07:00:00+00:00",
          "2021-02-08T08:00:00+00:00",
          "2021-02-08T10:00:00+00:00",
          "2021-02-08T11:00:00+00:00",
          "2021-02-08T12:00:00+00:00",
          "2021-02-08T13:00:00+00:00",
          "2021-02-08T15:00:00+00:00",
          "2021-02-08T16:00:00+00:00",
          "2021-02-08T17:00:00+00:00",
          "2021-02-08T18:00:00+00:00",
          "2021-02-08T19:00:00+00:00",
          "2021-02-08T20:00:00+00:00",
          "2021-02-08T23:00:00+00:00",
          "2021-02-09T00:00:00+00:00",
          "2021-02-09T02:00:00+00:00",
          "2021-02-09T04:00:00+00:00",
          "2021-02-09T05:00:00+00:00",
          "2021-02-09T07:00:00+00:00",
          "2021-02-09T08:00:00+00:00",
          "2021-02-09T09:00:00+00:00",
          "2021-02-09T10:00:00+00:00",
          "2021-02-09T11:00:00+00:00",
          "2021-02-09T13:00:00+00:00",
          "2021-02-09T14:00:00+00:00",
          "2021-02-09T18:00:00+00:00",
          "2021-02-09T19:00:00+00:00",
          "2021-02-09T20:00:00+00:00",
          "2021-02-09T21:00:00+00:00",
          "2021-02-09T22:00:00+00:00",
          "2021-02-10T00:00:00+00:00",
          "2021-02-10T01:00:00+00:00",
          "2021-02-10T04:00:00+00:00",
          "2021-02-10T05:00:00+00:00",
          "2021-02-10T06:00:00+00:00",
          "2021-02-10T07:00:00+00:00",
          "2021-02-10T08:00:00+00:00",
          "2021-02-10T09:00:00+00:00",
          "2021-02-10T11:00:00+00:00",
          "2021-02-10T12:00:00+00:00",
          "2021-02-10T14:00:00+00:00",
          "2021-02-10T16:00:00+00:00",
          "2021-02-10T17:00:00+00:00",
          "2021-02-10T18:00:00+00:00",
          "2021-02-10T21:00:00+00:00",
          "2021-02-10T22:00:00+00:00",
          "2021-02-10T23:00:00+00:00",
          "2021-02-11T00:00:00+00:00",
          "2021-02-11T02:00:00+00:00",
          "2021-02-11T03:00:00+00:00",
          "2021-02-11T04:00:00+00:00",
          "2021-02-11T05:00:00+00:00",
          "2021-02-11T06:00:00+00:00",
          "2021-02-11T07:00:00+00:00",
          "2021-02-11T08:00:00+00:00",
          "2021-02-11T09:00:00+00:00",
          "2021-02-11T11:00:00+00:00",
          "2021-02-11T12:00:00+00:00",
          "2021-02-11T14:00:00+00:00",
          "2021-02-11T16:00:00+00:00",
          "2021-02-11T18:00:00+00:00",
          "2021-02-11T19:00:00+00:00",
          "2021-02-11T21:00:00+00:00",
          "2021-02-11T22:00:00+00:00",
          "2021-02-11T23:00:00+00:00",
          "2021-02-12T00:00:00+00:00",
          "2021-02-12T02:00:00+00:00",
          "2021-02-12T03:00:00+00:00",
          "2021-02-12T04:00:00+00:00",
          "2021-02-12T05:00:00+00:00",
          "2021-02-12T06:00:00+00:00",
          "2021-02-12T09:00:00+00:00",
          "2021-02-12T10:00:00+00:00",
          "2021-02-12T11:00:00+00:00",
          "2021-02-12T12:00:00+00:00",
          "2021-02-12T13:00:00+00:00",
          "2021-02-12T14:00:00+00:00",
          "2021-02-12T15:00:00+00:00",
          "2021-02-12T17:00:00+00:00",
          "2021-02-12T18:00:00+00:00",
          "2021-02-12T19:00:00+00:00",
          "2021-02-12T21:00:00+00:00",
          "2021-02-15T02:00:00+00:00",
          "2021-02-15T04:00:00+00:00",
          "2021-02-15T06:00:00+00:00",
          "2021-02-15T09:00:00+00:00",
          "2021-02-15T12:00:00+00:00",
          "2021-02-15T13:00:00+00:00",
          "2021-02-15T14:00:00+00:00",
          "2021-02-15T16:00:00+00:00",
          "2021-02-15T17:00:00+00:00",
          "2021-02-15T18:00:00+00:00",
          "2021-02-15T19:00:00+00:00",
          "2021-02-15T23:00:00+00:00",
          "2021-02-16T01:00:00+00:00",
          "2021-02-16T02:00:00+00:00",
          "2021-02-16T03:00:00+00:00",
          "2021-02-16T05:00:00+00:00",
          "2021-02-16T09:00:00+00:00",
          "2021-02-16T10:00:00+00:00",
          "2021-02-16T11:00:00+00:00",
          "2021-02-16T12:00:00+00:00",
          "2021-02-16T13:00:00+00:00",
          "2021-02-16T14:00:00+00:00",
          "2021-02-16T15:00:00+00:00",
          "2021-02-16T16:00:00+00:00",
          "2021-02-16T17:00:00+00:00",
          "2021-02-16T18:00:00+00:00",
          "2021-02-16T19:00:00+00:00",
          "2021-02-16T21:00:00+00:00",
          "2021-02-17T01:00:00+00:00",
          "2021-02-17T02:00:00+00:00",
          "2021-02-17T04:00:00+00:00",
          "2021-02-17T05:00:00+00:00",
          "2021-02-17T06:00:00+00:00",
          "2021-02-17T07:00:00+00:00",
          "2021-02-17T08:00:00+00:00",
          "2021-02-17T09:00:00+00:00",
          "2021-02-17T12:00:00+00:00",
          "2021-02-17T13:00:00+00:00",
          "2021-02-17T14:00:00+00:00",
          "2021-02-17T19:00:00+00:00",
          "2021-02-17T21:00:00+00:00",
          "2021-02-17T22:00:00+00:00",
          "2021-02-17T23:00:00+00:00",
          "2021-02-18T00:00:00+00:00",
          "2021-02-18T02:00:00+00:00",
          "2021-02-18T03:00:00+00:00",
          "2021-02-18T05:00:00+00:00",
          "2021-02-18T07:00:00+00:00",
          "2021-02-18T08:00:00+00:00",
          "2021-02-18T09:00:00+00:00",
          "2021-02-18T10:00:00+00:00",
          "2021-02-18T11:00:00+00:00",
          "2021-02-18T12:00:00+00:00",
          "2021-02-18T16:00:00+00:00",
          "2021-02-18T17:00:00+00:00",
          "2021-02-18T19:00:00+00:00",
          "2021-02-18T20:00:00+00:00",
          "2021-02-18T22:00:00+00:00",
          "2021-02-18T23:00:00+00:00",
          "2021-02-19T00:00:00+00:00",
          "2021-02-19T01:00:00+00:00",
          "2021-02-19T02:00:00+00:00",
          "2021-02-19T03:00:00+00:00",
          "2021-02-19T04:00:00+00:00",
          "2021-02-19T05:00:00+00:00",
          "2021-02-19T06:00:00+00:00",
          "2021-02-19T09:00:00+00:00",
          "2021-02-19T10:00:00+00:00",
          "2021-02-19T11:00:00+00:00",
          "2021-02-19T12:00:00+00:00",
          "2021-02-19T13:00:00+00:00",
          "2021-02-19T16:00:00+00:00",
          "2021-02-19T17:00:00+00:00",
          "2021-02-19T19:00:00+00:00",
          "2021-02-19T21:00:00+00:00",
          "2021-02-21T23:00:00+00:00",
          "2021-02-22T03:00:00+00:00",
          "2021-02-22T08:00:00+00:00",
          "2021-02-22T09:00:00+00:00",
          "2021-02-22T10:00:00+00:00",
          "2021-02-22T11:00:00+00:00",
          "2021-02-22T12:00:00+00:00",
          "2021-02-22T13:00:00+00:00",
          "2021-02-22T14:00:00+00:00",
          "2021-02-22T15:00:00+00:00",
          "2021-02-22T16:00:00+00:00",
          "2021-02-22T17:00:00+00:00",
          "2021-02-22T18:00:00+00:00",
          "2021-02-22T20:00:00+00:00",
          "2021-02-22T23:00:00+00:00",
          "2021-02-23T01:00:00+00:00",
          "2021-02-23T02:00:00+00:00",
          "2021-02-23T04:00:00+00:00",
          "2021-02-23T05:00:00+00:00",
          "2021-02-23T06:00:00+00:00",
          "2021-02-23T07:00:00+00:00",
          "2021-02-23T08:00:00+00:00",
          "2021-02-23T09:00:00+00:00",
          "2021-02-23T10:00:00+00:00",
          "2021-02-23T11:00:00+00:00",
          "2021-02-23T12:00:00+00:00",
          "2021-02-23T13:00:00+00:00",
          "2021-02-23T15:00:00+00:00",
          "2021-02-23T16:00:00+00:00",
          "2021-02-23T17:00:00+00:00",
          "2021-02-23T21:00:00+00:00",
          "2021-02-23T22:00:00+00:00",
          "2021-02-23T23:00:00+00:00",
          "2021-02-24T00:00:00+00:00",
          "2021-02-24T01:00:00+00:00",
          "2021-02-24T07:00:00+00:00",
          "2021-02-24T08:00:00+00:00",
          "2021-02-24T13:00:00+00:00",
          "2021-02-24T14:00:00+00:00",
          "2021-02-24T15:00:00+00:00",
          "2021-02-24T17:00:00+00:00",
          "2021-02-24T19:00:00+00:00",
          "2021-02-24T23:00:00+00:00",
          "2021-02-25T00:00:00+00:00",
          "2021-02-25T01:00:00+00:00",
          "2021-02-25T02:00:00+00:00",
          "2021-02-25T06:00:00+00:00",
          "2021-02-25T07:00:00+00:00",
          "2021-02-25T08:00:00+00:00",
          "2021-02-25T10:00:00+00:00",
          "2021-02-25T12:00:00+00:00",
          "2021-02-25T16:00:00+00:00",
          "2021-02-25T17:00:00+00:00",
          "2021-02-25T18:00:00+00:00",
          "2021-02-25T19:00:00+00:00",
          "2021-02-25T20:00:00+00:00",
          "2021-02-25T22:00:00+00:00",
          "2021-02-26T01:00:00+00:00",
          "2021-02-26T03:00:00+00:00",
          "2021-02-26T04:00:00+00:00",
          "2021-02-26T07:00:00+00:00",
          "2021-02-26T08:00:00+00:00",
          "2021-02-26T09:00:00+00:00",
          "2021-02-26T10:00:00+00:00",
          "2021-02-26T11:00:00+00:00",
          "2021-02-26T12:00:00+00:00",
          "2021-02-26T13:00:00+00:00",
          "2021-02-26T15:00:00+00:00",
          "2021-02-26T16:00:00+00:00",
          "2021-02-26T17:00:00+00:00",
          "2021-02-26T18:00:00+00:00",
          "2021-02-26T19:00:00+00:00",
          "2021-02-26T20:00:00+00:00",
          "2021-03-01T00:00:00+00:00",
          "2021-03-01T01:00:00+00:00",
          "2021-03-01T03:00:00+00:00",
          "2021-03-01T04:00:00+00:00",
          "2021-03-01T05:00:00+00:00",
          "2021-03-01T06:00:00+00:00",
          "2021-03-01T07:00:00+00:00",
          "2021-03-01T08:00:00+00:00",
          "2021-03-01T09:00:00+00:00",
          "2021-03-01T10:00:00+00:00",
          "2021-03-01T11:00:00+00:00",
          "2021-03-01T12:00:00+00:00",
          "2021-03-01T13:00:00+00:00",
          "2021-03-01T16:00:00+00:00",
          "2021-03-01T17:00:00+00:00",
          "2021-03-01T18:00:00+00:00",
          "2021-03-01T19:00:00+00:00",
          "2021-03-01T21:00:00+00:00",
          "2021-03-01T23:00:00+00:00",
          "2021-03-02T00:00:00+00:00",
          "2021-03-02T01:00:00+00:00",
          "2021-03-02T03:00:00+00:00",
          "2021-03-02T04:00:00+00:00",
          "2021-03-02T05:00:00+00:00",
          "2021-03-02T06:00:00+00:00",
          "2021-03-02T07:00:00+00:00",
          "2021-03-02T08:00:00+00:00",
          "2021-03-02T09:00:00+00:00",
          "2021-03-02T11:00:00+00:00",
          "2021-03-02T12:00:00+00:00",
          "2021-03-02T13:00:00+00:00",
          "2021-03-02T14:00:00+00:00",
          "2021-03-02T15:00:00+00:00",
          "2021-03-02T16:00:00+00:00",
          "2021-03-02T17:00:00+00:00",
          "2021-03-02T19:00:00+00:00",
          "2021-03-02T21:00:00+00:00",
          "2021-03-02T22:00:00+00:00",
          "2021-03-03T01:00:00+00:00",
          "2021-03-03T02:00:00+00:00",
          "2021-03-03T03:00:00+00:00",
          "2021-03-03T04:00:00+00:00",
          "2021-03-03T05:00:00+00:00",
          "2021-03-03T06:00:00+00:00",
          "2021-03-03T07:00:00+00:00",
          "2021-03-03T08:00:00+00:00",
          "2021-03-03T09:00:00+00:00",
          "2021-03-03T10:00:00+00:00",
          "2021-03-03T11:00:00+00:00",
          "2021-03-03T12:00:00+00:00",
          "2021-03-03T14:00:00+00:00",
          "2021-03-03T16:00:00+00:00",
          "2021-03-03T17:00:00+00:00",
          "2021-03-03T19:00:00+00:00",
          "2021-03-03T20:00:00+00:00",
          "2021-03-03T21:00:00+00:00",
          "2021-03-03T22:00:00+00:00",
          "2021-03-03T23:00:00+00:00",
          "2021-03-04T01:00:00+00:00",
          "2021-03-04T02:00:00+00:00",
          "2021-03-04T03:00:00+00:00",
          "2021-03-04T04:00:00+00:00",
          "2021-03-04T05:00:00+00:00",
          "2021-03-04T06:00:00+00:00",
          "2021-03-04T07:00:00+00:00",
          "2021-03-04T08:00:00+00:00",
          "2021-03-04T10:00:00+00:00",
          "2021-03-04T11:00:00+00:00",
          "2021-03-04T13:00:00+00:00",
          "2021-03-04T14:00:00+00:00",
          "2021-03-04T15:00:00+00:00",
          "2021-03-04T18:00:00+00:00",
          "2021-03-04T20:00:00+00:00",
          "2021-03-04T21:00:00+00:00",
          "2021-03-04T22:00:00+00:00",
          "2021-03-04T23:00:00+00:00",
          "2021-03-05T00:00:00+00:00",
          "2021-03-05T01:00:00+00:00",
          "2021-03-05T04:00:00+00:00",
          "2021-03-05T05:00:00+00:00",
          "2021-03-05T07:00:00+00:00",
          "2021-03-05T08:00:00+00:00",
          "2021-03-05T10:00:00+00:00",
          "2021-03-05T13:00:00+00:00",
          "2021-03-05T14:00:00+00:00",
          "2021-03-05T16:00:00+00:00",
          "2021-03-05T17:00:00+00:00",
          "2021-03-05T18:00:00+00:00",
          "2021-03-05T19:00:00+00:00",
          "2021-03-05T20:00:00+00:00",
          "2021-03-05T21:00:00+00:00",
          "2021-03-07T22:00:00+00:00",
          "2021-03-07T23:00:00+00:00",
          "2021-03-08T01:00:00+00:00",
          "2021-03-08T03:00:00+00:00",
          "2021-03-08T04:00:00+00:00",
          "2021-03-08T06:00:00+00:00",
          "2021-03-08T07:00:00+00:00",
          "2021-03-08T08:00:00+00:00",
          "2021-03-08T09:00:00+00:00",
          "2021-03-08T10:00:00+00:00",
          "2021-03-08T12:00:00+00:00",
          "2021-03-08T15:00:00+00:00",
          "2021-03-08T16:00:00+00:00",
          "2021-03-08T17:00:00+00:00",
          "2021-03-08T18:00:00+00:00",
          "2021-03-08T19:00:00+00:00",
          "2021-03-08T20:00:00+00:00",
          "2021-03-08T21:00:00+00:00",
          "2021-03-09T01:00:00+00:00",
          "2021-03-09T02:00:00+00:00",
          "2021-03-09T03:00:00+00:00",
          "2021-03-09T04:00:00+00:00",
          "2021-03-09T05:00:00+00:00",
          "2021-03-09T06:00:00+00:00",
          "2021-03-09T07:00:00+00:00",
          "2021-03-09T08:00:00+00:00",
          "2021-03-09T09:00:00+00:00",
          "2021-03-09T10:00:00+00:00",
          "2021-03-09T11:00:00+00:00",
          "2021-03-09T12:00:00+00:00",
          "2021-03-09T14:00:00+00:00",
          "2021-03-09T15:00:00+00:00",
          "2021-03-09T16:00:00+00:00",
          "2021-03-09T17:00:00+00:00",
          "2021-03-09T19:00:00+00:00",
          "2021-03-09T20:00:00+00:00",
          "2021-03-09T21:00:00+00:00",
          "2021-03-09T22:00:00+00:00",
          "2021-03-10T00:00:00+00:00",
          "2021-03-10T01:00:00+00:00",
          "2021-03-10T02:00:00+00:00",
          "2021-03-10T04:00:00+00:00",
          "2021-03-10T05:00:00+00:00",
          "2021-03-10T06:00:00+00:00",
          "2021-03-10T07:00:00+00:00",
          "2021-03-10T08:00:00+00:00",
          "2021-03-10T09:00:00+00:00",
          "2021-03-10T11:00:00+00:00",
          "2021-03-10T12:00:00+00:00",
          "2021-03-10T13:00:00+00:00",
          "2021-03-10T14:00:00+00:00",
          "2021-03-10T16:00:00+00:00",
          "2021-03-10T17:00:00+00:00",
          "2021-03-10T18:00:00+00:00",
          "2021-03-10T19:00:00+00:00",
          "2021-03-10T20:00:00+00:00",
          "2021-03-11T00:00:00+00:00",
          "2021-03-11T02:00:00+00:00",
          "2021-03-11T03:00:00+00:00",
          "2021-03-11T04:00:00+00:00",
          "2021-03-11T06:00:00+00:00",
          "2021-03-11T07:00:00+00:00",
          "2021-03-11T08:00:00+00:00",
          "2021-03-11T09:00:00+00:00",
          "2021-03-11T10:00:00+00:00",
          "2021-03-11T13:00:00+00:00",
          "2021-03-11T14:00:00+00:00",
          "2021-03-11T15:00:00+00:00",
          "2021-03-11T16:00:00+00:00",
          "2021-03-11T17:00:00+00:00",
          "2021-03-11T18:00:00+00:00",
          "2021-03-11T20:00:00+00:00",
          "2021-03-11T21:00:00+00:00",
          "2021-03-11T22:00:00+00:00",
          "2021-03-12T00:00:00+00:00",
          "2021-03-12T02:00:00+00:00",
          "2021-03-12T04:00:00+00:00",
          "2021-03-12T05:00:00+00:00",
          "2021-03-12T06:00:00+00:00",
          "2021-03-12T07:00:00+00:00",
          "2021-03-12T08:00:00+00:00",
          "2021-03-12T09:00:00+00:00",
          "2021-03-12T10:00:00+00:00",
          "2021-03-12T11:00:00+00:00",
          "2021-03-12T13:00:00+00:00",
          "2021-03-12T15:00:00+00:00",
          "2021-03-12T17:00:00+00:00",
          "2021-03-12T18:00:00+00:00",
          "2021-03-12T19:00:00+00:00",
          "2021-03-12T21:00:00+00:00",
          "2021-03-14T21:00:00+00:00",
          "2021-03-14T23:00:00+00:00",
          "2021-03-15T00:00:00+00:00",
          "2021-03-15T01:00:00+00:00",
          "2021-03-15T02:00:00+00:00",
          "2021-03-15T03:00:00+00:00",
          "2021-03-15T04:00:00+00:00",
          "2021-03-15T05:00:00+00:00",
          "2021-03-15T06:00:00+00:00",
          "2021-03-15T07:00:00+00:00",
          "2021-03-15T08:00:00+00:00",
          "2021-03-15T09:00:00+00:00",
          "2021-03-15T12:00:00+00:00",
          "2021-03-15T13:00:00+00:00",
          "2021-03-15T14:00:00+00:00",
          "2021-03-15T15:00:00+00:00",
          "2021-03-15T16:00:00+00:00",
          "2021-03-15T17:00:00+00:00",
          "2021-03-15T18:00:00+00:00",
          "2021-03-15T19:00:00+00:00",
          "2021-03-15T20:00:00+00:00",
          "2021-03-15T21:00:00+00:00",
          "2021-03-15T22:00:00+00:00",
          "2021-03-15T23:00:00+00:00",
          "2021-03-16T00:00:00+00:00",
          "2021-03-16T01:00:00+00:00",
          "2021-03-16T02:00:00+00:00",
          "2021-03-16T06:00:00+00:00",
          "2021-03-16T07:00:00+00:00",
          "2021-03-16T08:00:00+00:00",
          "2021-03-16T12:00:00+00:00",
          "2021-03-16T13:00:00+00:00",
          "2021-03-16T14:00:00+00:00",
          "2021-03-16T15:00:00+00:00",
          "2021-03-16T16:00:00+00:00",
          "2021-03-16T17:00:00+00:00",
          "2021-03-16T18:00:00+00:00",
          "2021-03-16T21:00:00+00:00",
          "2021-03-16T23:00:00+00:00",
          "2021-03-17T01:00:00+00:00",
          "2021-03-17T02:00:00+00:00",
          "2021-03-17T03:00:00+00:00",
          "2021-03-17T04:00:00+00:00",
          "2021-03-17T05:00:00+00:00",
          "2021-03-17T06:00:00+00:00",
          "2021-03-17T07:00:00+00:00",
          "2021-03-17T08:00:00+00:00",
          "2021-03-17T09:00:00+00:00",
          "2021-03-17T10:00:00+00:00",
          "2021-03-17T13:00:00+00:00",
          "2021-03-17T15:00:00+00:00",
          "2021-03-17T16:00:00+00:00",
          "2021-03-17T18:00:00+00:00",
          "2021-03-17T19:00:00+00:00",
          "2021-03-17T20:00:00+00:00",
          "2021-03-17T22:00:00+00:00",
          "2021-03-18T01:00:00+00:00",
          "2021-03-18T02:00:00+00:00",
          "2021-03-18T04:00:00+00:00",
          "2021-03-18T07:00:00+00:00",
          "2021-03-18T08:00:00+00:00",
          "2021-03-18T09:00:00+00:00",
          "2021-03-18T10:00:00+00:00",
          "2021-03-18T11:00:00+00:00",
          "2021-03-18T13:00:00+00:00",
          "2021-03-18T14:00:00+00:00",
          "2021-03-18T15:00:00+00:00",
          "2021-03-18T17:00:00+00:00",
          "2021-03-18T19:00:00+00:00",
          "2021-03-18T20:00:00+00:00",
          "2021-03-18T21:00:00+00:00",
          "2021-03-18T22:00:00+00:00",
          "2021-03-19T00:00:00+00:00",
          "2021-03-19T01:00:00+00:00",
          "2021-03-19T03:00:00+00:00",
          "2021-03-19T04:00:00+00:00",
          "2021-03-19T06:00:00+00:00",
          "2021-03-19T07:00:00+00:00",
          "2021-03-19T08:00:00+00:00",
          "2021-03-19T09:00:00+00:00",
          "2021-03-19T10:00:00+00:00",
          "2021-03-19T12:00:00+00:00",
          "2021-03-19T13:00:00+00:00",
          "2021-03-19T14:00:00+00:00",
          "2021-03-19T15:00:00+00:00",
          "2021-03-19T16:00:00+00:00",
          "2021-03-19T17:00:00+00:00",
          "2021-03-19T18:00:00+00:00",
          "2021-03-19T19:00:00+00:00",
          "2021-03-21T22:00:00+00:00",
          "2021-03-21T23:00:00+00:00",
          "2021-03-22T00:00:00+00:00",
          "2021-03-22T01:00:00+00:00",
          "2021-03-22T03:00:00+00:00",
          "2021-03-22T05:00:00+00:00",
          "2021-03-22T06:00:00+00:00",
          "2021-03-22T07:00:00+00:00",
          "2021-03-22T08:00:00+00:00",
          "2021-03-22T09:00:00+00:00",
          "2021-03-22T10:00:00+00:00",
          "2021-03-22T11:00:00+00:00",
          "2021-03-22T12:00:00+00:00",
          "2021-03-22T13:00:00+00:00",
          "2021-03-22T14:00:00+00:00",
          "2021-03-22T15:00:00+00:00",
          "2021-03-22T16:00:00+00:00",
          "2021-03-22T17:00:00+00:00",
          "2021-03-22T19:00:00+00:00",
          "2021-03-22T21:00:00+00:00",
          "2021-03-22T22:00:00+00:00",
          "2021-03-22T23:00:00+00:00",
          "2021-03-23T00:00:00+00:00",
          "2021-03-23T03:00:00+00:00",
          "2021-03-23T04:00:00+00:00",
          "2021-03-23T05:00:00+00:00",
          "2021-03-23T07:00:00+00:00",
          "2021-03-23T08:00:00+00:00",
          "2021-03-23T09:00:00+00:00",
          "2021-03-23T13:00:00+00:00",
          "2021-03-23T17:00:00+00:00",
          "2021-03-23T21:00:00+00:00",
          "2021-03-24T01:00:00+00:00",
          "2021-03-24T02:00:00+00:00",
          "2021-03-24T03:00:00+00:00",
          "2021-03-24T09:00:00+00:00",
          "2021-03-24T10:00:00+00:00",
          "2021-03-24T11:00:00+00:00",
          "2021-03-24T12:00:00+00:00",
          "2021-03-24T13:00:00+00:00",
          "2021-03-24T14:00:00+00:00",
          "2021-03-24T15:00:00+00:00",
          "2021-03-24T16:00:00+00:00",
          "2021-03-24T17:00:00+00:00",
          "2021-03-24T18:00:00+00:00",
          "2021-03-24T19:00:00+00:00",
          "2021-03-24T20:00:00+00:00",
          "2021-03-24T21:00:00+00:00",
          "2021-03-24T22:00:00+00:00",
          "2021-03-24T23:00:00+00:00",
          "2021-03-25T00:00:00+00:00",
          "2021-03-25T01:00:00+00:00",
          "2021-03-25T02:00:00+00:00",
          "2021-03-25T03:00:00+00:00",
          "2021-03-25T04:00:00+00:00",
          "2021-03-25T05:00:00+00:00",
          "2021-03-25T06:00:00+00:00",
          "2021-03-25T07:00:00+00:00",
          "2021-03-25T08:00:00+00:00",
          "2021-03-25T09:00:00+00:00",
          "2021-03-25T10:00:00+00:00",
          "2021-03-25T11:00:00+00:00",
          "2021-03-25T12:00:00+00:00",
          "2021-03-25T13:00:00+00:00",
          "2021-03-25T14:00:00+00:00",
          "2021-03-25T15:00:00+00:00",
          "2021-03-25T16:00:00+00:00",
          "2021-03-25T17:00:00+00:00",
          "2021-03-25T19:00:00+00:00",
          "2021-03-25T20:00:00+00:00",
          "2021-03-25T21:00:00+00:00",
          "2021-03-25T22:00:00+00:00",
          "2021-03-26T01:00:00+00:00",
          "2021-03-26T02:00:00+00:00",
          "2021-03-26T03:00:00+00:00",
          "2021-03-26T04:00:00+00:00",
          "2021-03-26T05:00:00+00:00",
          "2021-03-26T13:00:00+00:00",
          "2021-03-26T16:00:00+00:00",
          "2021-03-26T17:00:00+00:00",
          "2021-03-26T18:00:00+00:00",
          "2021-03-26T20:00:00+00:00",
          "2021-03-28T21:00:00+00:00",
          "2021-03-28T23:00:00+00:00",
          "2021-03-29T00:00:00+00:00",
          "2021-03-29T01:00:00+00:00",
          "2021-03-29T02:00:00+00:00",
          "2021-03-29T03:00:00+00:00",
          "2021-03-29T04:00:00+00:00",
          "2021-03-29T05:00:00+00:00",
          "2021-03-29T06:00:00+00:00",
          "2021-03-29T08:00:00+00:00",
          "2021-03-29T09:00:00+00:00",
          "2021-03-29T10:00:00+00:00",
          "2021-03-29T11:00:00+00:00",
          "2021-03-29T12:00:00+00:00",
          "2021-03-29T13:00:00+00:00",
          "2021-03-29T14:00:00+00:00",
          "2021-03-29T15:00:00+00:00",
          "2021-03-29T16:00:00+00:00",
          "2021-03-29T17:00:00+00:00",
          "2021-03-29T18:00:00+00:00",
          "2021-03-29T19:00:00+00:00",
          "2021-03-29T20:00:00+00:00",
          "2021-03-30T00:00:00+00:00",
          "2021-03-30T02:00:00+00:00",
          "2021-03-30T03:00:00+00:00",
          "2021-03-30T04:00:00+00:00",
          "2021-03-30T05:00:00+00:00",
          "2021-03-30T06:00:00+00:00",
          "2021-03-30T10:00:00+00:00",
          "2021-03-30T11:00:00+00:00",
          "2021-03-30T12:00:00+00:00",
          "2021-03-30T13:00:00+00:00",
          "2021-03-30T14:00:00+00:00",
          "2021-03-30T16:00:00+00:00",
          "2021-03-30T17:00:00+00:00",
          "2021-03-30T18:00:00+00:00",
          "2021-03-30T19:00:00+00:00",
          "2021-03-30T21:00:00+00:00",
          "2021-03-30T22:00:00+00:00",
          "2021-03-30T23:00:00+00:00",
          "2021-03-31T00:00:00+00:00",
          "2021-03-31T01:00:00+00:00",
          "2021-03-31T02:00:00+00:00",
          "2021-03-31T03:00:00+00:00",
          "2021-03-31T04:00:00+00:00",
          "2021-03-31T07:00:00+00:00",
          "2021-03-31T08:00:00+00:00",
          "2021-03-31T09:00:00+00:00",
          "2021-03-31T12:00:00+00:00",
          "2021-03-31T13:00:00+00:00",
          "2021-03-31T14:00:00+00:00",
          "2021-03-31T15:00:00+00:00",
          "2021-03-31T19:00:00+00:00",
          "2021-03-31T20:00:00+00:00",
          "2021-03-31T21:00:00+00:00",
          "2021-03-31T22:00:00+00:00",
          "2021-04-01T01:00:00+00:00",
          "2021-04-01T02:00:00+00:00",
          "2021-04-01T04:00:00+00:00",
          "2021-04-01T05:00:00+00:00",
          "2021-04-01T06:00:00+00:00",
          "2021-04-01T07:00:00+00:00",
          "2021-04-01T09:00:00+00:00",
          "2021-04-01T10:00:00+00:00",
          "2021-04-01T11:00:00+00:00",
          "2021-04-01T12:00:00+00:00",
          "2021-04-01T13:00:00+00:00",
          "2021-04-01T14:00:00+00:00",
          "2021-04-01T15:00:00+00:00",
          "2021-04-01T16:00:00+00:00",
          "2021-04-01T17:00:00+00:00",
          "2021-04-01T18:00:00+00:00",
          "2021-04-01T23:00:00+00:00",
          "2021-04-02T00:00:00+00:00",
          "2021-04-02T01:00:00+00:00",
          "2021-04-02T05:00:00+00:00",
          "2021-04-02T06:00:00+00:00",
          "2021-04-02T07:00:00+00:00",
          "2021-04-02T08:00:00+00:00",
          "2021-04-02T09:00:00+00:00",
          "2021-04-02T10:00:00+00:00",
          "2021-04-02T11:00:00+00:00",
          "2021-04-02T12:00:00+00:00",
          "2021-04-02T14:00:00+00:00",
          "2021-04-02T16:00:00+00:00",
          "2021-04-02T17:00:00+00:00",
          "2021-04-02T18:00:00+00:00",
          "2021-04-02T19:00:00+00:00",
          "2021-04-02T20:00:00+00:00",
          "2021-04-04T22:00:00+00:00",
          "2021-04-04T23:00:00+00:00",
          "2021-04-05T00:00:00+00:00",
          "2021-04-05T01:00:00+00:00",
          "2021-04-05T02:00:00+00:00",
          "2021-04-05T03:00:00+00:00",
          "2021-04-05T04:00:00+00:00",
          "2021-04-05T05:00:00+00:00",
          "2021-04-05T06:00:00+00:00",
          "2021-04-05T07:00:00+00:00",
          "2021-04-05T08:00:00+00:00",
          "2021-04-05T09:00:00+00:00",
          "2021-04-05T10:00:00+00:00",
          "2021-04-05T11:00:00+00:00",
          "2021-04-05T12:00:00+00:00",
          "2021-04-05T13:00:00+00:00",
          "2021-04-05T14:00:00+00:00",
          "2021-04-05T15:00:00+00:00",
          "2021-04-05T16:00:00+00:00",
          "2021-04-05T17:00:00+00:00",
          "2021-04-05T18:00:00+00:00",
          "2021-04-05T19:00:00+00:00",
          "2021-04-05T20:00:00+00:00",
          "2021-04-06T00:00:00+00:00",
          "2021-04-06T02:00:00+00:00",
          "2021-04-06T03:00:00+00:00",
          "2021-04-06T04:00:00+00:00",
          "2021-04-06T05:00:00+00:00",
          "2021-04-06T06:00:00+00:00",
          "2021-04-06T08:00:00+00:00",
          "2021-04-06T09:00:00+00:00",
          "2021-04-06T10:00:00+00:00",
          "2021-04-06T12:00:00+00:00",
          "2021-04-06T13:00:00+00:00",
          "2021-04-06T14:00:00+00:00",
          "2021-04-06T15:00:00+00:00",
          "2021-04-06T17:00:00+00:00",
          "2021-04-06T18:00:00+00:00",
          "2021-04-06T22:00:00+00:00",
          "2021-04-06T23:00:00+00:00",
          "2021-04-07T03:00:00+00:00",
          "2021-04-07T04:00:00+00:00",
          "2021-04-07T05:00:00+00:00",
          "2021-04-07T06:00:00+00:00",
          "2021-04-07T07:00:00+00:00",
          "2021-04-07T08:00:00+00:00",
          "2021-04-07T09:00:00+00:00",
          "2021-04-07T10:00:00+00:00",
          "2021-04-07T13:00:00+00:00",
          "2021-04-07T16:00:00+00:00",
          "2021-04-07T17:00:00+00:00",
          "2021-04-07T19:00:00+00:00",
          "2021-04-07T20:00:00+00:00",
          "2021-04-07T21:00:00+00:00",
          "2021-04-07T22:00:00+00:00",
          "2021-04-07T23:00:00+00:00",
          "2021-04-08T00:00:00+00:00",
          "2021-04-08T01:00:00+00:00",
          "2021-04-08T02:00:00+00:00",
          "2021-04-08T03:00:00+00:00",
          "2021-04-08T04:00:00+00:00",
          "2021-04-08T05:00:00+00:00",
          "2021-04-08T06:00:00+00:00",
          "2021-04-08T07:00:00+00:00",
          "2021-04-08T08:00:00+00:00",
          "2021-04-08T09:00:00+00:00",
          "2021-04-08T10:00:00+00:00",
          "2021-04-08T11:00:00+00:00",
          "2021-04-08T12:00:00+00:00",
          "2021-04-08T13:00:00+00:00",
          "2021-04-08T14:00:00+00:00",
          "2021-04-08T15:00:00+00:00",
          "2021-04-08T16:00:00+00:00",
          "2021-04-08T17:00:00+00:00",
          "2021-04-08T18:00:00+00:00",
          "2021-04-08T20:00:00+00:00",
          "2021-04-08T21:00:00+00:00",
          "2021-04-09T00:00:00+00:00",
          "2021-04-09T01:00:00+00:00",
          "2021-04-09T02:00:00+00:00",
          "2021-04-09T04:00:00+00:00",
          "2021-04-09T05:00:00+00:00",
          "2021-04-09T06:00:00+00:00",
          "2021-04-09T08:00:00+00:00",
          "2021-04-09T09:00:00+00:00",
          "2021-04-09T10:00:00+00:00",
          "2021-04-09T12:00:00+00:00",
          "2021-04-09T13:00:00+00:00",
          "2021-04-09T14:00:00+00:00",
          "2021-04-09T15:00:00+00:00",
          "2021-04-09T16:00:00+00:00",
          "2021-04-09T19:00:00+00:00",
          "2021-04-09T20:00:00+00:00",
          "2021-04-11T21:00:00+00:00",
          "2021-04-11T22:00:00+00:00",
          "2021-04-11T23:00:00+00:00",
          "2021-04-12T00:00:00+00:00",
          "2021-04-12T01:00:00+00:00",
          "2021-04-12T02:00:00+00:00",
          "2021-04-12T03:00:00+00:00",
          "2021-04-12T04:00:00+00:00",
          "2021-04-12T06:00:00+00:00",
          "2021-04-12T07:00:00+00:00",
          "2021-04-12T08:00:00+00:00",
          "2021-04-12T09:00:00+00:00",
          "2021-04-12T10:00:00+00:00",
          "2021-04-12T11:00:00+00:00",
          "2021-04-12T12:00:00+00:00",
          "2021-04-12T14:00:00+00:00",
          "2021-04-12T15:00:00+00:00",
          "2021-04-12T16:00:00+00:00",
          "2021-04-12T17:00:00+00:00",
          "2021-04-12T18:00:00+00:00",
          "2021-04-12T19:00:00+00:00",
          "2021-04-12T21:00:00+00:00",
          "2021-04-12T22:00:00+00:00",
          "2021-04-12T23:00:00+00:00",
          "2021-04-13T00:00:00+00:00",
          "2021-04-13T01:00:00+00:00",
          "2021-04-13T02:00:00+00:00",
          "2021-04-13T03:00:00+00:00",
          "2021-04-13T04:00:00+00:00",
          "2021-04-13T05:00:00+00:00",
          "2021-04-13T07:00:00+00:00",
          "2021-04-13T08:00:00+00:00",
          "2021-04-13T09:00:00+00:00",
          "2021-04-13T10:00:00+00:00",
          "2021-04-13T11:00:00+00:00",
          "2021-04-13T12:00:00+00:00",
          "2021-04-13T13:00:00+00:00",
          "2021-04-13T14:00:00+00:00",
          "2021-04-13T15:00:00+00:00",
          "2021-04-13T16:00:00+00:00",
          "2021-04-13T17:00:00+00:00",
          "2021-04-13T18:00:00+00:00",
          "2021-04-13T19:00:00+00:00",
          "2021-04-13T20:00:00+00:00",
          "2021-04-13T23:00:00+00:00",
          "2021-04-14T00:00:00+00:00",
          "2021-04-14T01:00:00+00:00",
          "2021-04-14T02:00:00+00:00",
          "2021-04-14T03:00:00+00:00",
          "2021-04-14T05:00:00+00:00",
          "2021-04-14T07:00:00+00:00",
          "2021-04-14T08:00:00+00:00",
          "2021-04-14T09:00:00+00:00",
          "2021-04-14T10:00:00+00:00",
          "2021-04-14T11:00:00+00:00",
          "2021-04-14T13:00:00+00:00",
          "2021-04-14T14:00:00+00:00",
          "2021-04-14T15:00:00+00:00",
          "2021-04-14T16:00:00+00:00",
          "2021-04-14T17:00:00+00:00",
          "2021-04-14T19:00:00+00:00",
          "2021-04-14T21:00:00+00:00",
          "2021-04-15T01:00:00+00:00",
          "2021-04-15T02:00:00+00:00",
          "2021-04-15T03:00:00+00:00",
          "2021-04-15T04:00:00+00:00",
          "2021-04-15T05:00:00+00:00",
          "2021-04-15T06:00:00+00:00",
          "2021-04-15T07:00:00+00:00",
          "2021-04-15T09:00:00+00:00",
          "2021-04-15T10:00:00+00:00",
          "2021-04-15T11:00:00+00:00",
          "2021-04-15T15:00:00+00:00",
          "2021-04-15T16:00:00+00:00",
          "2021-04-15T17:00:00+00:00",
          "2021-04-15T18:00:00+00:00",
          "2021-04-15T19:00:00+00:00",
          "2021-04-15T20:00:00+00:00",
          "2021-04-15T21:00:00+00:00",
          "2021-04-15T23:00:00+00:00",
          "2021-04-16T00:00:00+00:00",
          "2021-04-16T02:00:00+00:00",
          "2021-04-16T03:00:00+00:00",
          "2021-04-16T04:00:00+00:00",
          "2021-04-16T05:00:00+00:00",
          "2021-04-16T06:00:00+00:00",
          "2021-04-16T07:00:00+00:00",
          "2021-04-16T09:00:00+00:00",
          "2021-04-16T11:00:00+00:00",
          "2021-04-16T12:00:00+00:00",
          "2021-04-16T13:00:00+00:00",
          "2021-04-16T14:00:00+00:00",
          "2021-04-16T15:00:00+00:00",
          "2021-04-16T16:00:00+00:00",
          "2021-04-16T17:00:00+00:00",
          "2021-04-16T20:00:00+00:00",
          "2021-04-18T21:00:00+00:00",
          "2021-04-18T22:00:00+00:00",
          "2021-04-18T23:00:00+00:00",
          "2021-04-19T02:00:00+00:00",
          "2021-04-19T03:00:00+00:00",
          "2021-04-19T04:00:00+00:00",
          "2021-04-19T05:00:00+00:00",
          "2021-04-19T06:00:00+00:00",
          "2021-04-19T07:00:00+00:00",
          "2021-04-19T08:00:00+00:00",
          "2021-04-19T09:00:00+00:00",
          "2021-04-19T10:00:00+00:00",
          "2021-04-19T11:00:00+00:00",
          "2021-04-19T12:00:00+00:00",
          "2021-04-19T15:00:00+00:00",
          "2021-04-19T16:00:00+00:00",
          "2021-04-19T17:00:00+00:00",
          "2021-04-19T18:00:00+00:00",
          "2021-04-19T19:00:00+00:00",
          "2021-04-19T20:00:00+00:00",
          "2021-04-19T21:00:00+00:00",
          "2021-04-19T22:00:00+00:00",
          "2021-04-20T00:00:00+00:00",
          "2021-04-20T01:00:00+00:00",
          "2021-04-20T02:00:00+00:00",
          "2021-04-20T03:00:00+00:00",
          "2021-04-20T04:00:00+00:00",
          "2021-04-20T05:00:00+00:00",
          "2021-04-20T10:00:00+00:00",
          "2021-04-20T11:00:00+00:00",
          "2021-04-20T12:00:00+00:00",
          "2021-04-20T13:00:00+00:00",
          "2021-04-20T14:00:00+00:00",
          "2021-04-20T15:00:00+00:00",
          "2021-04-20T16:00:00+00:00",
          "2021-04-20T17:00:00+00:00",
          "2021-04-21T01:00:00+00:00",
          "2021-04-21T05:00:00+00:00",
          "2021-04-21T06:00:00+00:00",
          "2021-04-21T07:00:00+00:00",
          "2021-04-21T08:00:00+00:00",
          "2021-04-21T09:00:00+00:00",
          "2021-04-21T10:00:00+00:00",
          "2021-04-21T11:00:00+00:00",
          "2021-04-21T12:00:00+00:00",
          "2021-04-21T16:00:00+00:00",
          "2021-04-21T17:00:00+00:00",
          "2021-04-21T18:00:00+00:00",
          "2021-04-21T19:00:00+00:00",
          "2021-04-21T20:00:00+00:00",
          "2021-04-21T21:00:00+00:00",
          "2021-04-21T22:00:00+00:00",
          "2021-04-22T02:00:00+00:00",
          "2021-04-22T03:00:00+00:00",
          "2021-04-22T04:00:00+00:00",
          "2021-04-22T05:00:00+00:00",
          "2021-04-22T06:00:00+00:00",
          "2021-04-22T09:00:00+00:00",
          "2021-04-22T10:00:00+00:00",
          "2021-04-22T11:00:00+00:00",
          "2021-04-22T12:00:00+00:00",
          "2021-04-22T13:00:00+00:00",
          "2021-04-22T14:00:00+00:00",
          "2021-04-22T15:00:00+00:00",
          "2021-04-22T16:00:00+00:00",
          "2021-04-22T17:00:00+00:00",
          "2021-04-22T18:00:00+00:00",
          "2021-04-22T20:00:00+00:00",
          "2021-04-22T21:00:00+00:00",
          "2021-04-22T23:00:00+00:00",
          "2021-04-23T00:00:00+00:00",
          "2021-04-23T01:00:00+00:00",
          "2021-04-23T02:00:00+00:00",
          "2021-04-23T03:00:00+00:00",
          "2021-04-23T04:00:00+00:00",
          "2021-04-23T05:00:00+00:00",
          "2021-04-23T06:00:00+00:00",
          "2021-04-23T07:00:00+00:00",
          "2021-04-23T08:00:00+00:00",
          "2021-04-23T09:00:00+00:00",
          "2021-04-23T10:00:00+00:00",
          "2021-04-23T11:00:00+00:00",
          "2021-04-23T12:00:00+00:00",
          "2021-04-23T13:00:00+00:00",
          "2021-04-23T14:00:00+00:00",
          "2021-04-23T15:00:00+00:00",
          "2021-04-23T16:00:00+00:00",
          "2021-04-23T17:00:00+00:00",
          "2021-04-23T18:00:00+00:00",
          "2021-04-23T19:00:00+00:00",
          "2021-04-23T20:00:00+00:00",
          "2021-04-25T21:00:00+00:00",
          "2021-04-25T22:00:00+00:00",
          "2021-04-25T23:00:00+00:00",
          "2021-04-26T02:00:00+00:00",
          "2021-04-26T03:00:00+00:00",
          "2021-04-26T04:00:00+00:00",
          "2021-04-26T05:00:00+00:00",
          "2021-04-26T07:00:00+00:00",
          "2021-04-26T10:00:00+00:00",
          "2021-04-26T11:00:00+00:00",
          "2021-04-26T12:00:00+00:00",
          "2021-04-26T14:00:00+00:00",
          "2021-04-26T15:00:00+00:00",
          "2021-04-26T16:00:00+00:00",
          "2021-04-26T18:00:00+00:00",
          "2021-04-26T19:00:00+00:00",
          "2021-04-26T21:00:00+00:00",
          "2021-04-26T22:00:00+00:00",
          "2021-04-26T23:00:00+00:00",
          "2021-04-27T00:00:00+00:00",
          "2021-04-27T02:00:00+00:00",
          "2021-04-27T03:00:00+00:00",
          "2021-04-27T04:00:00+00:00",
          "2021-04-27T05:00:00+00:00",
          "2021-04-27T06:00:00+00:00",
          "2021-04-27T10:00:00+00:00",
          "2021-04-27T11:00:00+00:00",
          "2021-04-27T12:00:00+00:00",
          "2021-04-27T13:00:00+00:00",
          "2021-04-27T16:00:00+00:00",
          "2021-04-27T18:00:00+00:00",
          "2021-04-27T19:00:00+00:00",
          "2021-04-27T22:00:00+00:00",
          "2021-04-27T23:00:00+00:00",
          "2021-04-28T00:00:00+00:00",
          "2021-04-28T03:00:00+00:00",
          "2021-04-28T04:00:00+00:00",
          "2021-04-28T05:00:00+00:00",
          "2021-04-28T06:00:00+00:00",
          "2021-04-28T07:00:00+00:00",
          "2021-04-28T09:00:00+00:00",
          "2021-04-28T11:00:00+00:00",
          "2021-04-28T12:00:00+00:00",
          "2021-04-28T13:00:00+00:00",
          "2021-04-28T14:00:00+00:00",
          "2021-04-28T15:00:00+00:00",
          "2021-04-28T21:00:00+00:00",
          "2021-04-28T23:00:00+00:00",
          "2021-04-29T02:00:00+00:00",
          "2021-04-29T03:00:00+00:00",
          "2021-04-29T05:00:00+00:00",
          "2021-04-29T06:00:00+00:00",
          "2021-04-29T07:00:00+00:00",
          "2021-04-29T08:00:00+00:00",
          "2021-04-29T09:00:00+00:00",
          "2021-04-29T10:00:00+00:00",
          "2021-04-29T11:00:00+00:00",
          "2021-04-29T12:00:00+00:00",
          "2021-04-29T13:00:00+00:00",
          "2021-04-29T15:00:00+00:00",
          "2021-04-29T16:00:00+00:00",
          "2021-04-29T18:00:00+00:00",
          "2021-04-29T21:00:00+00:00",
          "2021-04-30T01:00:00+00:00",
          "2021-04-30T02:00:00+00:00",
          "2021-04-30T03:00:00+00:00",
          "2021-04-30T04:00:00+00:00",
          "2021-04-30T05:00:00+00:00",
          "2021-04-30T06:00:00+00:00",
          "2021-04-30T07:00:00+00:00",
          "2021-04-30T08:00:00+00:00",
          "2021-04-30T09:00:00+00:00",
          "2021-04-30T12:00:00+00:00",
          "2021-04-30T13:00:00+00:00",
          "2021-04-30T14:00:00+00:00",
          "2021-04-30T15:00:00+00:00",
          "2021-04-30T16:00:00+00:00",
          "2021-04-30T17:00:00+00:00",
          "2021-05-03T01:00:00+00:00",
          "2021-05-03T02:00:00+00:00",
          "2021-05-03T03:00:00+00:00",
          "2021-05-03T04:00:00+00:00",
          "2021-05-03T05:00:00+00:00",
          "2021-05-03T06:00:00+00:00",
          "2021-05-03T07:00:00+00:00",
          "2021-05-03T08:00:00+00:00",
          "2021-05-03T09:00:00+00:00",
          "2021-05-03T10:00:00+00:00",
          "2021-05-03T12:00:00+00:00",
          "2021-05-03T13:00:00+00:00",
          "2021-05-03T14:00:00+00:00",
          "2021-05-03T15:00:00+00:00",
          "2021-05-03T16:00:00+00:00",
          "2021-05-03T17:00:00+00:00",
          "2021-05-03T20:00:00+00:00",
          "2021-05-03T21:00:00+00:00",
          "2021-05-04T00:00:00+00:00",
          "2021-05-04T01:00:00+00:00",
          "2021-05-04T02:00:00+00:00",
          "2021-05-04T03:00:00+00:00",
          "2021-05-04T04:00:00+00:00",
          "2021-05-04T05:00:00+00:00",
          "2021-05-04T08:00:00+00:00",
          "2021-05-04T09:00:00+00:00",
          "2021-05-04T10:00:00+00:00",
          "2021-05-04T11:00:00+00:00",
          "2021-05-04T12:00:00+00:00",
          "2021-05-04T13:00:00+00:00",
          "2021-05-04T14:00:00+00:00",
          "2021-05-04T15:00:00+00:00",
          "2021-05-04T16:00:00+00:00",
          "2021-05-04T19:00:00+00:00",
          "2021-05-04T20:00:00+00:00",
          "2021-05-04T21:00:00+00:00",
          "2021-05-04T22:00:00+00:00",
          "2021-05-04T23:00:00+00:00",
          "2021-05-05T00:00:00+00:00",
          "2021-05-05T01:00:00+00:00",
          "2021-05-05T02:00:00+00:00",
          "2021-05-05T04:00:00+00:00",
          "2021-05-05T05:00:00+00:00",
          "2021-05-05T07:00:00+00:00",
          "2021-05-05T08:00:00+00:00",
          "2021-05-05T13:00:00+00:00",
          "2021-05-05T14:00:00+00:00",
          "2021-05-05T15:00:00+00:00",
          "2021-05-05T16:00:00+00:00",
          "2021-05-05T19:00:00+00:00",
          "2021-05-05T22:00:00+00:00",
          "2021-05-05T23:00:00+00:00",
          "2021-05-06T00:00:00+00:00",
          "2021-05-06T01:00:00+00:00",
          "2021-05-06T02:00:00+00:00",
          "2021-05-06T03:00:00+00:00",
          "2021-05-06T04:00:00+00:00",
          "2021-05-06T05:00:00+00:00",
          "2021-05-06T06:00:00+00:00",
          "2021-05-06T07:00:00+00:00",
          "2021-05-06T08:00:00+00:00",
          "2021-05-06T09:00:00+00:00",
          "2021-05-06T10:00:00+00:00",
          "2021-05-06T11:00:00+00:00",
          "2021-05-06T14:00:00+00:00",
          "2021-05-06T15:00:00+00:00",
          "2021-05-06T16:00:00+00:00",
          "2021-05-06T17:00:00+00:00",
          "2021-05-06T18:00:00+00:00",
          "2021-05-06T20:00:00+00:00",
          "2021-05-06T22:00:00+00:00",
          "2021-05-07T00:00:00+00:00",
          "2021-05-07T01:00:00+00:00",
          "2021-05-07T03:00:00+00:00",
          "2021-05-07T04:00:00+00:00",
          "2021-05-07T05:00:00+00:00",
          "2021-05-07T06:00:00+00:00",
          "2021-05-07T07:00:00+00:00",
          "2021-05-07T08:00:00+00:00",
          "2021-05-07T09:00:00+00:00",
          "2021-05-07T10:00:00+00:00",
          "2021-05-07T12:00:00+00:00",
          "2021-05-07T13:00:00+00:00",
          "2021-05-07T14:00:00+00:00",
          "2021-05-07T15:00:00+00:00",
          "2021-05-07T16:00:00+00:00",
          "2021-05-07T17:00:00+00:00",
          "2021-05-07T18:00:00+00:00",
          "2021-05-07T19:00:00+00:00",
          "2021-05-07T20:00:00+00:00",
          "2021-05-09T23:00:00+00:00",
          "2021-05-10T00:00:00+00:00",
          "2021-05-10T01:00:00+00:00",
          "2021-05-10T02:00:00+00:00",
          "2021-05-10T03:00:00+00:00",
          "2021-05-10T05:00:00+00:00",
          "2021-05-10T06:00:00+00:00",
          "2021-05-10T10:00:00+00:00",
          "2021-05-10T12:00:00+00:00",
          "2021-05-10T13:00:00+00:00",
          "2021-05-10T14:00:00+00:00",
          "2021-05-10T15:00:00+00:00",
          "2021-05-10T17:00:00+00:00",
          "2021-05-10T18:00:00+00:00",
          "2021-05-10T19:00:00+00:00",
          "2021-05-10T20:00:00+00:00",
          "2021-05-10T21:00:00+00:00",
          "2021-05-10T22:00:00+00:00",
          "2021-05-10T23:00:00+00:00",
          "2021-05-11T01:00:00+00:00",
          "2021-05-11T02:00:00+00:00",
          "2021-05-11T03:00:00+00:00",
          "2021-05-11T04:00:00+00:00",
          "2021-05-11T05:00:00+00:00",
          "2021-05-11T06:00:00+00:00",
          "2021-05-11T07:00:00+00:00",
          "2021-05-11T08:00:00+00:00",
          "2021-05-11T09:00:00+00:00",
          "2021-05-11T10:00:00+00:00",
          "2021-05-11T11:00:00+00:00",
          "2021-05-11T12:00:00+00:00",
          "2021-05-11T14:00:00+00:00",
          "2021-05-11T15:00:00+00:00",
          "2021-05-11T16:00:00+00:00",
          "2021-05-11T17:00:00+00:00",
          "2021-05-11T18:00:00+00:00",
          "2021-05-11T19:00:00+00:00",
          "2021-05-11T20:00:00+00:00",
          "2021-05-11T21:00:00+00:00",
          "2021-05-11T22:00:00+00:00",
          "2021-05-11T23:00:00+00:00",
          "2021-05-12T00:00:00+00:00",
          "2021-05-12T01:00:00+00:00",
          "2021-05-12T02:00:00+00:00",
          "2021-05-12T03:00:00+00:00",
          "2021-05-12T04:00:00+00:00",
          "2021-05-12T06:00:00+00:00",
          "2021-05-12T07:00:00+00:00",
          "2021-05-12T08:00:00+00:00",
          "2021-05-12T10:00:00+00:00",
          "2021-05-12T11:00:00+00:00",
          "2021-05-12T12:00:00+00:00",
          "2021-05-12T14:00:00+00:00",
          "2021-05-12T16:00:00+00:00",
          "2021-05-12T19:00:00+00:00",
          "2021-05-12T20:00:00+00:00",
          "2021-05-12T21:00:00+00:00",
          "2021-05-13T00:00:00+00:00",
          "2021-05-13T02:00:00+00:00",
          "2021-05-13T03:00:00+00:00",
          "2021-05-13T04:00:00+00:00",
          "2021-05-13T05:00:00+00:00",
          "2021-05-13T06:00:00+00:00",
          "2021-05-13T07:00:00+00:00",
          "2021-05-13T08:00:00+00:00",
          "2021-05-13T09:00:00+00:00",
          "2021-05-13T10:00:00+00:00",
          "2021-05-13T11:00:00+00:00",
          "2021-05-13T12:00:00+00:00",
          "2021-05-13T13:00:00+00:00",
          "2021-05-13T14:00:00+00:00",
          "2021-05-13T15:00:00+00:00",
          "2021-05-13T16:00:00+00:00",
          "2021-05-13T17:00:00+00:00",
          "2021-05-13T18:00:00+00:00",
          "2021-05-13T20:00:00+00:00",
          "2021-05-13T21:00:00+00:00",
          "2021-05-13T23:00:00+00:00",
          "2021-05-14T01:00:00+00:00",
          "2021-05-14T02:00:00+00:00",
          "2021-05-14T03:00:00+00:00",
          "2021-05-14T05:00:00+00:00",
          "2021-05-14T06:00:00+00:00",
          "2021-05-14T07:00:00+00:00",
          "2021-05-14T08:00:00+00:00",
          "2021-05-14T09:00:00+00:00",
          "2021-05-14T10:00:00+00:00",
          "2021-05-14T11:00:00+00:00",
          "2021-05-14T12:00:00+00:00",
          "2021-05-14T13:00:00+00:00",
          "2021-05-14T15:00:00+00:00",
          "2021-05-14T20:00:00+00:00",
          "2021-05-16T21:00:00+00:00",
          "2021-05-16T22:00:00+00:00",
          "2021-05-16T23:00:00+00:00",
          "2021-05-17T00:00:00+00:00",
          "2021-05-17T01:00:00+00:00",
          "2021-05-17T02:00:00+00:00",
          "2021-05-17T03:00:00+00:00",
          "2021-05-17T04:00:00+00:00",
          "2021-05-17T06:00:00+00:00",
          "2021-05-17T07:00:00+00:00",
          "2021-05-17T10:00:00+00:00",
          "2021-05-17T11:00:00+00:00",
          "2021-05-17T12:00:00+00:00",
          "2021-05-17T13:00:00+00:00",
          "2021-05-17T15:00:00+00:00",
          "2021-05-17T16:00:00+00:00",
          "2021-05-17T17:00:00+00:00",
          "2021-05-17T18:00:00+00:00",
          "2021-05-17T20:00:00+00:00",
          "2021-05-17T21:00:00+00:00",
          "2021-05-18T00:00:00+00:00",
          "2021-05-18T02:00:00+00:00",
          "2021-05-18T03:00:00+00:00",
          "2021-05-18T04:00:00+00:00",
          "2021-05-18T06:00:00+00:00",
          "2021-05-18T07:00:00+00:00",
          "2021-05-18T08:00:00+00:00",
          "2021-05-18T09:00:00+00:00",
          "2021-05-18T10:00:00+00:00",
          "2021-05-18T12:00:00+00:00",
          "2021-05-18T15:00:00+00:00",
          "2021-05-18T16:00:00+00:00",
          "2021-05-18T18:00:00+00:00",
          "2021-05-18T20:00:00+00:00",
          "2021-05-18T21:00:00+00:00",
          "2021-05-18T22:00:00+00:00",
          "2021-05-18T23:00:00+00:00",
          "2021-05-19T02:00:00+00:00",
          "2021-05-19T04:00:00+00:00",
          "2021-05-19T05:00:00+00:00",
          "2021-05-19T06:00:00+00:00",
          "2021-05-19T07:00:00+00:00",
          "2021-05-19T08:00:00+00:00",
          "2021-05-19T10:00:00+00:00",
          "2021-05-19T11:00:00+00:00",
          "2021-05-19T13:00:00+00:00",
          "2021-05-19T14:00:00+00:00",
          "2021-05-19T15:00:00+00:00",
          "2021-05-19T20:00:00+00:00",
          "2021-05-19T22:00:00+00:00",
          "2021-05-19T23:00:00+00:00",
          "2021-05-20T01:00:00+00:00",
          "2021-05-20T02:00:00+00:00",
          "2021-05-20T03:00:00+00:00",
          "2021-05-20T04:00:00+00:00",
          "2021-05-20T06:00:00+00:00",
          "2021-05-20T07:00:00+00:00",
          "2021-05-20T08:00:00+00:00",
          "2021-05-20T09:00:00+00:00",
          "2021-05-20T10:00:00+00:00",
          "2021-05-20T11:00:00+00:00",
          "2021-05-20T12:00:00+00:00",
          "2021-05-20T15:00:00+00:00",
          "2021-05-20T16:00:00+00:00",
          "2021-05-20T17:00:00+00:00",
          "2021-05-20T18:00:00+00:00",
          "2021-05-20T20:00:00+00:00",
          "2021-05-20T21:00:00+00:00",
          "2021-05-20T22:00:00+00:00",
          "2021-05-21T00:00:00+00:00",
          "2021-05-21T01:00:00+00:00",
          "2021-05-21T02:00:00+00:00",
          "2021-05-21T03:00:00+00:00",
          "2021-05-21T04:00:00+00:00",
          "2021-05-21T06:00:00+00:00",
          "2021-05-21T07:00:00+00:00",
          "2021-05-21T08:00:00+00:00",
          "2021-05-21T09:00:00+00:00",
          "2021-05-21T10:00:00+00:00",
          "2021-05-21T11:00:00+00:00",
          "2021-05-21T12:00:00+00:00",
          "2021-05-21T13:00:00+00:00",
          "2021-05-21T14:00:00+00:00",
          "2021-05-21T16:00:00+00:00",
          "2021-05-21T17:00:00+00:00",
          "2021-05-21T18:00:00+00:00",
          "2021-05-21T19:00:00+00:00",
          "2021-05-21T20:00:00+00:00",
          "2021-05-23T21:00:00+00:00",
          "2021-05-23T22:00:00+00:00",
          "2021-05-23T23:00:00+00:00",
          "2021-05-24T00:00:00+00:00",
          "2021-05-24T01:00:00+00:00",
          "2021-05-24T02:00:00+00:00",
          "2021-05-24T03:00:00+00:00",
          "2021-05-24T04:00:00+00:00",
          "2021-05-24T05:00:00+00:00",
          "2021-05-24T06:00:00+00:00",
          "2021-05-24T07:00:00+00:00",
          "2021-05-24T08:00:00+00:00",
          "2021-05-24T09:00:00+00:00",
          "2021-05-24T10:00:00+00:00",
          "2021-05-24T11:00:00+00:00",
          "2021-05-24T12:00:00+00:00",
          "2021-05-24T13:00:00+00:00",
          "2021-05-24T14:00:00+00:00",
          "2021-05-24T15:00:00+00:00",
          "2021-05-24T17:00:00+00:00",
          "2021-05-24T18:00:00+00:00",
          "2021-05-24T19:00:00+00:00",
          "2021-05-24T20:00:00+00:00",
          "2021-05-24T21:00:00+00:00",
          "2021-05-24T22:00:00+00:00",
          "2021-05-25T02:00:00+00:00",
          "2021-05-25T03:00:00+00:00",
          "2021-05-25T04:00:00+00:00",
          "2021-05-25T05:00:00+00:00",
          "2021-05-25T06:00:00+00:00",
          "2021-05-25T07:00:00+00:00",
          "2021-05-25T08:00:00+00:00",
          "2021-05-25T10:00:00+00:00",
          "2021-05-25T11:00:00+00:00",
          "2021-05-25T13:00:00+00:00",
          "2021-05-25T14:00:00+00:00",
          "2021-05-25T15:00:00+00:00",
          "2021-05-25T16:00:00+00:00",
          "2021-05-25T19:00:00+00:00",
          "2021-05-25T20:00:00+00:00",
          "2021-05-25T21:00:00+00:00",
          "2021-05-25T22:00:00+00:00",
          "2021-05-25T23:00:00+00:00",
          "2021-05-26T00:00:00+00:00",
          "2021-05-26T01:00:00+00:00",
          "2021-05-26T02:00:00+00:00",
          "2021-05-26T03:00:00+00:00",
          "2021-05-26T04:00:00+00:00",
          "2021-05-26T05:00:00+00:00",
          "2021-05-26T07:00:00+00:00",
          "2021-05-26T09:00:00+00:00",
          "2021-05-26T11:00:00+00:00",
          "2021-05-26T12:00:00+00:00",
          "2021-05-26T13:00:00+00:00",
          "2021-05-26T17:00:00+00:00",
          "2021-05-26T18:00:00+00:00",
          "2021-05-26T19:00:00+00:00",
          "2021-05-26T20:00:00+00:00",
          "2021-05-26T21:00:00+00:00",
          "2021-05-26T22:00:00+00:00",
          "2021-05-26T23:00:00+00:00",
          "2021-05-27T00:00:00+00:00",
          "2021-05-27T01:00:00+00:00",
          "2021-05-27T02:00:00+00:00",
          "2021-05-27T03:00:00+00:00",
          "2021-05-27T04:00:00+00:00",
          "2021-05-27T05:00:00+00:00",
          "2021-05-27T06:00:00+00:00",
          "2021-05-27T07:00:00+00:00",
          "2021-05-27T08:00:00+00:00",
          "2021-05-27T09:00:00+00:00",
          "2021-05-27T10:00:00+00:00",
          "2021-05-27T11:00:00+00:00",
          "2021-05-27T12:00:00+00:00",
          "2021-05-27T13:00:00+00:00",
          "2021-05-27T14:00:00+00:00",
          "2021-05-27T18:00:00+00:00",
          "2021-05-27T19:00:00+00:00",
          "2021-05-27T20:00:00+00:00",
          "2021-05-27T22:00:00+00:00",
          "2021-05-27T23:00:00+00:00",
          "2021-05-28T00:00:00+00:00",
          "2021-05-28T02:00:00+00:00",
          "2021-05-28T03:00:00+00:00",
          "2021-05-28T05:00:00+00:00",
          "2021-05-28T06:00:00+00:00",
          "2021-05-28T07:00:00+00:00",
          "2021-05-28T08:00:00+00:00",
          "2021-05-28T09:00:00+00:00",
          "2021-05-28T13:00:00+00:00",
          "2021-05-28T16:00:00+00:00",
          "2021-05-28T17:00:00+00:00",
          "2021-05-28T18:00:00+00:00",
          "2021-05-28T19:00:00+00:00",
          "2021-05-28T20:00:00+00:00",
          "2021-05-30T21:00:00+00:00",
          "2021-05-30T22:00:00+00:00",
          "2021-05-30T23:00:00+00:00",
          "2021-05-31T00:00:00+00:00",
          "2021-05-31T02:00:00+00:00",
          "2021-05-31T03:00:00+00:00",
          "2021-05-31T04:00:00+00:00",
          "2021-05-31T05:00:00+00:00",
          "2021-05-31T06:00:00+00:00",
          "2021-05-31T07:00:00+00:00",
          "2021-05-31T09:00:00+00:00",
          "2021-05-31T10:00:00+00:00",
          "2021-05-31T14:00:00+00:00",
          "2021-05-31T15:00:00+00:00",
          "2021-05-31T16:00:00+00:00",
          "2021-05-31T17:00:00+00:00",
          "2021-05-31T20:00:00+00:00",
          "2021-05-31T22:00:00+00:00",
          "2021-05-31T23:00:00+00:00",
          "2021-06-01T00:00:00+00:00",
          "2021-06-01T01:00:00+00:00",
          "2021-06-01T03:00:00+00:00",
          "2021-06-01T04:00:00+00:00",
          "2021-06-01T05:00:00+00:00",
          "2021-06-01T06:00:00+00:00",
          "2021-06-01T08:00:00+00:00",
          "2021-06-01T09:00:00+00:00",
          "2021-06-01T10:00:00+00:00",
          "2021-06-01T11:00:00+00:00",
          "2021-06-01T13:00:00+00:00",
          "2021-06-01T14:00:00+00:00",
          "2021-06-01T16:00:00+00:00",
          "2021-06-01T18:00:00+00:00",
          "2021-06-01T19:00:00+00:00",
          "2021-06-01T20:00:00+00:00",
          "2021-06-01T21:00:00+00:00",
          "2021-06-01T22:00:00+00:00",
          "2021-06-01T23:00:00+00:00",
          "2021-06-02T01:00:00+00:00",
          "2021-06-02T02:00:00+00:00",
          "2021-06-02T03:00:00+00:00",
          "2021-06-02T04:00:00+00:00",
          "2021-06-02T05:00:00+00:00",
          "2021-06-02T06:00:00+00:00",
          "2021-06-02T07:00:00+00:00",
          "2021-06-02T09:00:00+00:00",
          "2021-06-02T11:00:00+00:00",
          "2021-06-02T12:00:00+00:00",
          "2021-06-02T14:00:00+00:00",
          "2021-06-02T15:00:00+00:00",
          "2021-06-02T17:00:00+00:00",
          "2021-06-02T18:00:00+00:00",
          "2021-06-02T19:00:00+00:00",
          "2021-06-02T20:00:00+00:00",
          "2021-06-02T21:00:00+00:00",
          "2021-06-02T22:00:00+00:00",
          "2021-06-02T23:00:00+00:00",
          "2021-06-03T02:00:00+00:00",
          "2021-06-03T03:00:00+00:00",
          "2021-06-03T04:00:00+00:00",
          "2021-06-03T05:00:00+00:00",
          "2021-06-03T06:00:00+00:00",
          "2021-06-03T08:00:00+00:00",
          "2021-06-03T09:00:00+00:00",
          "2021-06-03T10:00:00+00:00",
          "2021-06-03T11:00:00+00:00",
          "2021-06-03T16:00:00+00:00",
          "2021-06-03T17:00:00+00:00",
          "2021-06-03T19:00:00+00:00",
          "2021-06-03T20:00:00+00:00",
          "2021-06-03T22:00:00+00:00",
          "2021-06-04T00:00:00+00:00",
          "2021-06-04T01:00:00+00:00",
          "2021-06-04T02:00:00+00:00",
          "2021-06-04T03:00:00+00:00",
          "2021-06-04T04:00:00+00:00",
          "2021-06-04T05:00:00+00:00",
          "2021-06-04T06:00:00+00:00",
          "2021-06-04T07:00:00+00:00",
          "2021-06-04T08:00:00+00:00",
          "2021-06-04T09:00:00+00:00",
          "2021-06-04T12:00:00+00:00",
          "2021-06-04T13:00:00+00:00",
          "2021-06-04T16:00:00+00:00",
          "2021-06-04T18:00:00+00:00",
          "2021-06-04T19:00:00+00:00",
          "2021-06-04T20:00:00+00:00",
          "2021-06-06T21:00:00+00:00",
          "2021-06-06T23:00:00+00:00",
          "2021-06-07T00:00:00+00:00",
          "2021-06-07T01:00:00+00:00",
          "2021-06-07T02:00:00+00:00",
          "2021-06-07T03:00:00+00:00",
          "2021-06-07T04:00:00+00:00",
          "2021-06-07T05:00:00+00:00",
          "2021-06-07T06:00:00+00:00",
          "2021-06-07T07:00:00+00:00",
          "2021-06-07T08:00:00+00:00",
          "2021-06-07T09:00:00+00:00",
          "2021-06-07T10:00:00+00:00",
          "2021-06-07T11:00:00+00:00",
          "2021-06-07T13:00:00+00:00",
          "2021-06-07T14:00:00+00:00",
          "2021-06-07T16:00:00+00:00",
          "2021-06-07T17:00:00+00:00",
          "2021-06-07T18:00:00+00:00",
          "2021-06-07T20:00:00+00:00",
          "2021-06-07T21:00:00+00:00",
          "2021-06-07T22:00:00+00:00",
          "2021-06-08T00:00:00+00:00",
          "2021-06-08T01:00:00+00:00",
          "2021-06-08T02:00:00+00:00",
          "2021-06-08T03:00:00+00:00",
          "2021-06-08T06:00:00+00:00",
          "2021-06-08T07:00:00+00:00",
          "2021-06-08T11:00:00+00:00",
          "2021-06-08T15:00:00+00:00",
          "2021-06-08T16:00:00+00:00",
          "2021-06-08T17:00:00+00:00",
          "2021-06-08T19:00:00+00:00",
          "2021-06-08T20:00:00+00:00",
          "2021-06-08T21:00:00+00:00",
          "2021-06-08T22:00:00+00:00",
          "2021-06-08T23:00:00+00:00",
          "2021-06-09T01:00:00+00:00",
          "2021-06-09T02:00:00+00:00",
          "2021-06-09T03:00:00+00:00",
          "2021-06-09T04:00:00+00:00",
          "2021-06-09T05:00:00+00:00",
          "2021-06-09T06:00:00+00:00",
          "2021-06-09T07:00:00+00:00",
          "2021-06-09T08:00:00+00:00",
          "2021-06-09T09:00:00+00:00",
          "2021-06-09T11:00:00+00:00",
          "2021-06-09T12:00:00+00:00",
          "2021-06-09T13:00:00+00:00",
          "2021-06-09T14:00:00+00:00",
          "2021-06-09T15:00:00+00:00",
          "2021-06-09T16:00:00+00:00",
          "2021-06-09T19:00:00+00:00",
          "2021-06-09T20:00:00+00:00",
          "2021-06-09T21:00:00+00:00",
          "2021-06-09T22:00:00+00:00",
          "2021-06-10T01:00:00+00:00",
          "2021-06-10T02:00:00+00:00",
          "2021-06-10T03:00:00+00:00",
          "2021-06-10T04:00:00+00:00",
          "2021-06-10T05:00:00+00:00",
          "2021-06-10T06:00:00+00:00",
          "2021-06-10T07:00:00+00:00",
          "2021-06-10T08:00:00+00:00",
          "2021-06-10T09:00:00+00:00",
          "2021-06-10T10:00:00+00:00",
          "2021-06-10T12:00:00+00:00",
          "2021-06-10T13:00:00+00:00",
          "2021-06-10T14:00:00+00:00",
          "2021-06-10T15:00:00+00:00",
          "2021-06-10T16:00:00+00:00",
          "2021-06-10T17:00:00+00:00",
          "2021-06-10T18:00:00+00:00",
          "2021-06-10T19:00:00+00:00",
          "2021-06-10T20:00:00+00:00",
          "2021-06-10T21:00:00+00:00",
          "2021-06-10T22:00:00+00:00",
          "2021-06-10T23:00:00+00:00",
          "2021-06-11T00:00:00+00:00",
          "2021-06-11T01:00:00+00:00",
          "2021-06-11T02:00:00+00:00",
          "2021-06-11T03:00:00+00:00",
          "2021-06-11T04:00:00+00:00",
          "2021-06-11T05:00:00+00:00",
          "2021-06-11T06:00:00+00:00",
          "2021-06-11T07:00:00+00:00",
          "2021-06-11T08:00:00+00:00",
          "2021-06-11T09:00:00+00:00",
          "2021-06-11T10:00:00+00:00",
          "2021-06-11T11:00:00+00:00",
          "2021-06-11T12:00:00+00:00",
          "2021-06-11T13:00:00+00:00",
          "2021-06-11T14:00:00+00:00",
          "2021-06-11T15:00:00+00:00",
          "2021-06-11T16:00:00+00:00",
          "2021-06-11T18:00:00+00:00",
          "2021-06-11T20:00:00+00:00",
          "2021-06-13T21:00:00+00:00",
          "2021-06-14T00:00:00+00:00",
          "2021-06-14T01:00:00+00:00",
          "2021-06-14T02:00:00+00:00",
          "2021-06-14T03:00:00+00:00",
          "2021-06-14T04:00:00+00:00",
          "2021-06-14T05:00:00+00:00",
          "2021-06-14T06:00:00+00:00",
          "2021-06-14T07:00:00+00:00",
          "2021-06-14T08:00:00+00:00",
          "2021-06-14T09:00:00+00:00",
          "2021-06-14T10:00:00+00:00",
          "2021-06-14T11:00:00+00:00",
          "2021-06-14T12:00:00+00:00",
          "2021-06-14T14:00:00+00:00",
          "2021-06-14T15:00:00+00:00",
          "2021-06-14T16:00:00+00:00",
          "2021-06-14T17:00:00+00:00",
          "2021-06-14T18:00:00+00:00",
          "2021-06-14T19:00:00+00:00",
          "2021-06-14T20:00:00+00:00",
          "2021-06-14T21:00:00+00:00",
          "2021-06-15T01:00:00+00:00",
          "2021-06-15T02:00:00+00:00",
          "2021-06-15T03:00:00+00:00",
          "2021-06-15T04:00:00+00:00",
          "2021-06-15T05:00:00+00:00",
          "2021-06-15T06:00:00+00:00",
          "2021-06-15T07:00:00+00:00",
          "2021-06-15T08:00:00+00:00",
          "2021-06-15T09:00:00+00:00",
          "2021-06-15T10:00:00+00:00",
          "2021-06-15T11:00:00+00:00",
          "2021-06-15T12:00:00+00:00",
          "2021-06-15T14:00:00+00:00",
          "2021-06-15T15:00:00+00:00",
          "2021-06-15T16:00:00+00:00",
          "2021-06-15T17:00:00+00:00",
          "2021-06-15T20:00:00+00:00",
          "2021-06-15T21:00:00+00:00",
          "2021-06-15T22:00:00+00:00",
          "2021-06-15T23:00:00+00:00",
          "2021-06-16T01:00:00+00:00",
          "2021-06-16T02:00:00+00:00",
          "2021-06-16T03:00:00+00:00",
          "2021-06-16T04:00:00+00:00",
          "2021-06-16T05:00:00+00:00",
          "2021-06-16T06:00:00+00:00",
          "2021-06-16T07:00:00+00:00",
          "2021-06-16T08:00:00+00:00",
          "2021-06-16T10:00:00+00:00",
          "2021-06-16T12:00:00+00:00",
          "2021-06-16T14:00:00+00:00",
          "2021-06-16T16:00:00+00:00",
          "2021-06-16T17:00:00+00:00",
          "2021-06-16T18:00:00+00:00",
          "2021-06-16T19:00:00+00:00",
          "2021-06-17T00:00:00+00:00",
          "2021-06-17T02:00:00+00:00",
          "2021-06-17T03:00:00+00:00",
          "2021-06-17T04:00:00+00:00",
          "2021-06-17T06:00:00+00:00",
          "2021-06-17T07:00:00+00:00",
          "2021-06-17T09:00:00+00:00",
          "2021-06-17T10:00:00+00:00",
          "2021-06-17T11:00:00+00:00",
          "2021-06-17T12:00:00+00:00",
          "2021-06-17T18:00:00+00:00",
          "2021-06-17T22:00:00+00:00",
          "2021-06-17T23:00:00+00:00",
          "2021-06-18T00:00:00+00:00",
          "2021-06-18T01:00:00+00:00",
          "2021-06-18T02:00:00+00:00",
          "2021-06-18T04:00:00+00:00",
          "2021-06-18T05:00:00+00:00",
          "2021-06-18T06:00:00+00:00",
          "2021-06-18T07:00:00+00:00",
          "2021-06-18T11:00:00+00:00",
          "2021-06-18T13:00:00+00:00",
          "2021-06-18T15:00:00+00:00",
          "2021-06-18T17:00:00+00:00",
          "2021-06-18T20:00:00+00:00",
          "2021-06-20T22:00:00+00:00",
          "2021-06-20T23:00:00+00:00",
          "2021-06-21T00:00:00+00:00",
          "2021-06-21T01:00:00+00:00",
          "2021-06-21T02:00:00+00:00",
          "2021-06-21T03:00:00+00:00",
          "2021-06-21T05:00:00+00:00",
          "2021-06-21T06:00:00+00:00",
          "2021-06-21T07:00:00+00:00",
          "2021-06-21T08:00:00+00:00",
          "2021-06-21T09:00:00+00:00",
          "2021-06-21T10:00:00+00:00",
          "2021-06-21T11:00:00+00:00",
          "2021-06-21T12:00:00+00:00",
          "2021-06-21T13:00:00+00:00",
          "2021-06-21T14:00:00+00:00",
          "2021-06-21T16:00:00+00:00",
          "2021-06-21T17:00:00+00:00",
          "2021-06-21T18:00:00+00:00",
          "2021-06-21T21:00:00+00:00",
          "2021-06-22T02:00:00+00:00",
          "2021-06-22T03:00:00+00:00",
          "2021-06-22T04:00:00+00:00",
          "2021-06-22T05:00:00+00:00",
          "2021-06-22T06:00:00+00:00",
          "2021-06-22T07:00:00+00:00",
          "2021-06-22T08:00:00+00:00",
          "2021-06-22T09:00:00+00:00",
          "2021-06-22T10:00:00+00:00",
          "2021-06-22T11:00:00+00:00",
          "2021-06-22T13:00:00+00:00",
          "2021-06-22T14:00:00+00:00",
          "2021-06-22T15:00:00+00:00",
          "2021-06-22T16:00:00+00:00",
          "2021-06-22T17:00:00+00:00",
          "2021-06-22T19:00:00+00:00",
          "2021-06-22T23:00:00+00:00",
          "2021-06-23T03:00:00+00:00",
          "2021-06-23T04:00:00+00:00",
          "2021-06-23T05:00:00+00:00",
          "2021-06-23T06:00:00+00:00",
          "2021-06-23T07:00:00+00:00",
          "2021-06-23T08:00:00+00:00",
          "2021-06-23T09:00:00+00:00",
          "2021-06-23T10:00:00+00:00",
          "2021-06-23T11:00:00+00:00",
          "2021-06-23T13:00:00+00:00",
          "2021-06-23T18:00:00+00:00",
          "2021-06-23T19:00:00+00:00",
          "2021-06-23T20:00:00+00:00",
          "2021-06-23T21:00:00+00:00",
          "2021-06-23T22:00:00+00:00",
          "2021-06-23T23:00:00+00:00",
          "2021-06-24T04:00:00+00:00",
          "2021-06-24T05:00:00+00:00",
          "2021-06-24T06:00:00+00:00",
          "2021-06-24T07:00:00+00:00",
          "2021-06-24T08:00:00+00:00",
          "2021-06-24T09:00:00+00:00",
          "2021-06-24T12:00:00+00:00",
          "2021-06-24T13:00:00+00:00",
          "2021-06-24T15:00:00+00:00",
          "2021-06-24T16:00:00+00:00",
          "2021-06-24T17:00:00+00:00",
          "2021-06-24T18:00:00+00:00",
          "2021-06-24T19:00:00+00:00",
          "2021-06-24T20:00:00+00:00",
          "2021-06-24T21:00:00+00:00",
          "2021-06-24T22:00:00+00:00",
          "2021-06-25T00:00:00+00:00",
          "2021-06-25T01:00:00+00:00",
          "2021-06-25T02:00:00+00:00",
          "2021-06-25T03:00:00+00:00",
          "2021-06-25T04:00:00+00:00",
          "2021-06-25T05:00:00+00:00",
          "2021-06-25T06:00:00+00:00",
          "2021-06-25T07:00:00+00:00",
          "2021-06-25T08:00:00+00:00",
          "2021-06-25T09:00:00+00:00",
          "2021-06-25T10:00:00+00:00",
          "2021-06-25T12:00:00+00:00",
          "2021-06-25T13:00:00+00:00",
          "2021-06-25T14:00:00+00:00",
          "2021-06-25T15:00:00+00:00",
          "2021-06-25T16:00:00+00:00",
          "2021-06-25T19:00:00+00:00",
          "2021-06-25T20:00:00+00:00",
          "2021-06-27T21:00:00+00:00",
          "2021-06-27T22:00:00+00:00",
          "2021-06-28T00:00:00+00:00",
          "2021-06-28T01:00:00+00:00",
          "2021-06-28T02:00:00+00:00",
          "2021-06-28T03:00:00+00:00",
          "2021-06-28T04:00:00+00:00",
          "2021-06-28T05:00:00+00:00",
          "2021-06-28T06:00:00+00:00",
          "2021-06-28T08:00:00+00:00",
          "2021-06-28T09:00:00+00:00",
          "2021-06-28T10:00:00+00:00",
          "2021-06-28T11:00:00+00:00",
          "2021-06-28T12:00:00+00:00",
          "2021-06-28T13:00:00+00:00",
          "2021-06-28T14:00:00+00:00",
          "2021-06-28T16:00:00+00:00",
          "2021-06-28T17:00:00+00:00",
          "2021-06-28T18:00:00+00:00",
          "2021-06-28T19:00:00+00:00",
          "2021-06-28T21:00:00+00:00",
          "2021-06-29T00:00:00+00:00",
          "2021-06-29T02:00:00+00:00",
          "2021-06-29T03:00:00+00:00",
          "2021-06-29T04:00:00+00:00",
          "2021-06-29T06:00:00+00:00",
          "2021-06-29T08:00:00+00:00",
          "2021-06-29T09:00:00+00:00",
          "2021-06-29T10:00:00+00:00",
          "2021-06-29T17:00:00+00:00",
          "2021-06-29T19:00:00+00:00",
          "2021-06-29T21:00:00+00:00",
          "2021-06-29T22:00:00+00:00",
          "2021-06-29T23:00:00+00:00",
          "2021-06-30T00:00:00+00:00",
          "2021-06-30T01:00:00+00:00",
          "2021-06-30T02:00:00+00:00",
          "2021-06-30T03:00:00+00:00",
          "2021-06-30T04:00:00+00:00",
          "2021-06-30T05:00:00+00:00",
          "2021-06-30T07:00:00+00:00",
          "2021-06-30T08:00:00+00:00",
          "2021-06-30T09:00:00+00:00",
          "2021-06-30T10:00:00+00:00",
          "2021-06-30T11:00:00+00:00",
          "2021-06-30T12:00:00+00:00",
          "2021-06-30T16:00:00+00:00",
          "2021-06-30T17:00:00+00:00",
          "2021-06-30T18:00:00+00:00",
          "2021-06-30T19:00:00+00:00",
          "2021-06-30T20:00:00+00:00",
          "2021-06-30T21:00:00+00:00",
          "2021-06-30T22:00:00+00:00",
          "2021-07-01T01:00:00+00:00",
          "2021-07-01T02:00:00+00:00",
          "2021-07-01T04:00:00+00:00",
          "2021-07-01T05:00:00+00:00",
          "2021-07-01T06:00:00+00:00",
          "2021-07-01T07:00:00+00:00",
          "2021-07-01T08:00:00+00:00",
          "2021-07-01T09:00:00+00:00",
          "2021-07-01T10:00:00+00:00",
          "2021-07-01T11:00:00+00:00",
          "2021-07-01T12:00:00+00:00",
          "2021-07-01T13:00:00+00:00",
          "2021-07-01T15:00:00+00:00",
          "2021-07-01T16:00:00+00:00",
          "2021-07-01T18:00:00+00:00",
          "2021-07-01T19:00:00+00:00",
          "2021-07-01T20:00:00+00:00",
          "2021-07-01T21:00:00+00:00",
          "2021-07-01T22:00:00+00:00",
          "2021-07-02T00:00:00+00:00",
          "2021-07-02T02:00:00+00:00",
          "2021-07-02T03:00:00+00:00",
          "2021-07-02T04:00:00+00:00",
          "2021-07-02T05:00:00+00:00",
          "2021-07-02T06:00:00+00:00",
          "2021-07-02T07:00:00+00:00",
          "2021-07-02T08:00:00+00:00",
          "2021-07-02T09:00:00+00:00",
          "2021-07-02T10:00:00+00:00",
          "2021-07-02T11:00:00+00:00",
          "2021-07-02T12:00:00+00:00",
          "2021-07-02T13:00:00+00:00",
          "2021-07-02T14:00:00+00:00",
          "2021-07-02T15:00:00+00:00",
          "2021-07-02T16:00:00+00:00",
          "2021-07-02T17:00:00+00:00",
          "2021-07-02T18:00:00+00:00",
          "2021-07-02T19:00:00+00:00",
          "2021-07-04T21:00:00+00:00",
          "2021-07-05T02:00:00+00:00",
          "2021-07-05T04:00:00+00:00",
          "2021-07-05T05:00:00+00:00",
          "2021-07-05T06:00:00+00:00",
          "2021-07-05T07:00:00+00:00",
          "2021-07-05T09:00:00+00:00",
          "2021-07-05T10:00:00+00:00",
          "2021-07-05T11:00:00+00:00",
          "2021-07-05T13:00:00+00:00",
          "2021-07-05T16:00:00+00:00",
          "2021-07-05T18:00:00+00:00",
          "2021-07-05T19:00:00+00:00",
          "2021-07-05T20:00:00+00:00",
          "2021-07-05T21:00:00+00:00",
          "2021-07-05T22:00:00+00:00",
          "2021-07-05T23:00:00+00:00",
          "2021-07-06T00:00:00+00:00",
          "2021-07-06T03:00:00+00:00",
          "2021-07-06T04:00:00+00:00",
          "2021-07-06T05:00:00+00:00",
          "2021-07-06T08:00:00+00:00",
          "2021-07-06T09:00:00+00:00",
          "2021-07-06T10:00:00+00:00",
          "2021-07-06T11:00:00+00:00",
          "2021-07-06T12:00:00+00:00",
          "2021-07-06T13:00:00+00:00",
          "2021-07-06T14:00:00+00:00",
          "2021-07-06T15:00:00+00:00",
          "2021-07-06T16:00:00+00:00",
          "2021-07-06T20:00:00+00:00",
          "2021-07-06T23:00:00+00:00",
          "2021-07-07T03:00:00+00:00",
          "2021-07-07T04:00:00+00:00",
          "2021-07-07T05:00:00+00:00",
          "2021-07-07T06:00:00+00:00",
          "2021-07-07T07:00:00+00:00",
          "2021-07-07T08:00:00+00:00",
          "2021-07-07T09:00:00+00:00",
          "2021-07-07T11:00:00+00:00",
          "2021-07-07T13:00:00+00:00",
          "2021-07-07T15:00:00+00:00",
          "2021-07-07T16:00:00+00:00",
          "2021-07-07T17:00:00+00:00",
          "2021-07-07T18:00:00+00:00",
          "2021-07-07T19:00:00+00:00",
          "2021-07-07T21:00:00+00:00",
          "2021-07-08T00:00:00+00:00",
          "2021-07-08T04:00:00+00:00",
          "2021-07-08T05:00:00+00:00",
          "2021-07-08T07:00:00+00:00",
          "2021-07-08T08:00:00+00:00",
          "2021-07-08T10:00:00+00:00",
          "2021-07-08T17:00:00+00:00",
          "2021-07-08T18:00:00+00:00",
          "2021-07-08T20:00:00+00:00",
          "2021-07-08T22:00:00+00:00",
          "2021-07-09T00:00:00+00:00",
          "2021-07-09T01:00:00+00:00",
          "2021-07-09T02:00:00+00:00",
          "2021-07-09T03:00:00+00:00",
          "2021-07-09T04:00:00+00:00",
          "2021-07-09T06:00:00+00:00",
          "2021-07-09T07:00:00+00:00",
          "2021-07-09T08:00:00+00:00",
          "2021-07-09T09:00:00+00:00",
          "2021-07-09T10:00:00+00:00",
          "2021-07-09T11:00:00+00:00",
          "2021-07-09T12:00:00+00:00",
          "2021-07-09T16:00:00+00:00",
          "2021-07-09T19:00:00+00:00",
          "2021-07-12T01:00:00+00:00",
          "2021-07-12T02:00:00+00:00",
          "2021-07-12T05:00:00+00:00",
          "2021-07-12T06:00:00+00:00",
          "2021-07-12T07:00:00+00:00",
          "2021-07-12T08:00:00+00:00",
          "2021-07-12T13:00:00+00:00",
          "2021-07-12T14:00:00+00:00",
          "2021-07-12T15:00:00+00:00",
          "2021-07-12T16:00:00+00:00",
          "2021-07-12T17:00:00+00:00",
          "2021-07-12T18:00:00+00:00",
          "2021-07-12T19:00:00+00:00",
          "2021-07-12T20:00:00+00:00",
          "2021-07-12T21:00:00+00:00",
          "2021-07-12T22:00:00+00:00",
          "2021-07-12T23:00:00+00:00",
          "2021-07-13T01:00:00+00:00",
          "2021-07-13T02:00:00+00:00",
          "2021-07-13T03:00:00+00:00",
          "2021-07-13T04:00:00+00:00",
          "2021-07-13T05:00:00+00:00",
          "2021-07-13T06:00:00+00:00",
          "2021-07-13T07:00:00+00:00",
          "2021-07-13T08:00:00+00:00",
          "2021-07-13T09:00:00+00:00",
          "2021-07-13T10:00:00+00:00",
          "2021-07-13T11:00:00+00:00",
          "2021-07-13T12:00:00+00:00",
          "2021-07-13T14:00:00+00:00",
          "2021-07-13T15:00:00+00:00",
          "2021-07-13T16:00:00+00:00",
          "2021-07-13T17:00:00+00:00",
          "2021-07-13T19:00:00+00:00",
          "2021-07-13T20:00:00+00:00",
          "2021-07-13T21:00:00+00:00",
          "2021-07-13T22:00:00+00:00",
          "2021-07-13T23:00:00+00:00",
          "2021-07-14T00:00:00+00:00",
          "2021-07-14T01:00:00+00:00",
          "2021-07-14T02:00:00+00:00",
          "2021-07-14T04:00:00+00:00",
          "2021-07-14T06:00:00+00:00",
          "2021-07-14T07:00:00+00:00",
          "2021-07-14T08:00:00+00:00",
          "2021-07-14T10:00:00+00:00",
          "2021-07-14T12:00:00+00:00",
          "2021-07-14T13:00:00+00:00",
          "2021-07-14T14:00:00+00:00",
          "2021-07-14T15:00:00+00:00",
          "2021-07-14T16:00:00+00:00",
          "2021-07-14T17:00:00+00:00",
          "2021-07-14T18:00:00+00:00",
          "2021-07-14T20:00:00+00:00",
          "2021-07-14T21:00:00+00:00",
          "2021-07-15T02:00:00+00:00",
          "2021-07-15T04:00:00+00:00",
          "2021-07-15T05:00:00+00:00",
          "2021-07-15T06:00:00+00:00",
          "2021-07-15T08:00:00+00:00",
          "2021-07-15T09:00:00+00:00",
          "2021-07-15T11:00:00+00:00",
          "2021-07-15T12:00:00+00:00",
          "2021-07-15T13:00:00+00:00",
          "2021-07-15T14:00:00+00:00",
          "2021-07-15T15:00:00+00:00",
          "2021-07-15T16:00:00+00:00",
          "2021-07-15T17:00:00+00:00",
          "2021-07-15T18:00:00+00:00",
          "2021-07-15T19:00:00+00:00",
          "2021-07-15T20:00:00+00:00",
          "2021-07-15T21:00:00+00:00",
          "2021-07-15T22:00:00+00:00",
          "2021-07-15T23:00:00+00:00",
          "2021-07-16T01:00:00+00:00",
          "2021-07-16T02:00:00+00:00",
          "2021-07-16T04:00:00+00:00",
          "2021-07-16T05:00:00+00:00",
          "2021-07-16T06:00:00+00:00",
          "2021-07-16T07:00:00+00:00",
          "2021-07-16T09:00:00+00:00",
          "2021-07-16T10:00:00+00:00",
          "2021-07-16T11:00:00+00:00",
          "2021-07-16T13:00:00+00:00",
          "2021-07-16T14:00:00+00:00",
          "2021-07-16T15:00:00+00:00",
          "2021-07-16T16:00:00+00:00",
          "2021-07-16T17:00:00+00:00",
          "2021-07-16T18:00:00+00:00",
          "2021-07-16T20:00:00+00:00",
          "2021-07-18T22:00:00+00:00",
          "2021-07-19T01:00:00+00:00",
          "2021-07-19T02:00:00+00:00",
          "2021-07-19T06:00:00+00:00",
          "2021-07-19T07:00:00+00:00",
          "2021-07-19T15:00:00+00:00",
          "2021-07-19T17:00:00+00:00",
          "2021-07-19T18:00:00+00:00",
          "2021-07-19T19:00:00+00:00",
          "2021-07-19T21:00:00+00:00",
          "2021-07-19T22:00:00+00:00",
          "2021-07-19T23:00:00+00:00",
          "2021-07-20T00:00:00+00:00",
          "2021-07-20T01:00:00+00:00",
          "2021-07-20T02:00:00+00:00",
          "2021-07-20T03:00:00+00:00",
          "2021-07-20T04:00:00+00:00",
          "2021-07-20T06:00:00+00:00",
          "2021-07-20T07:00:00+00:00",
          "2021-07-20T08:00:00+00:00",
          "2021-07-20T09:00:00+00:00",
          "2021-07-20T10:00:00+00:00",
          "2021-07-20T13:00:00+00:00",
          "2021-07-20T14:00:00+00:00",
          "2021-07-20T15:00:00+00:00",
          "2021-07-20T16:00:00+00:00",
          "2021-07-20T17:00:00+00:00",
          "2021-07-20T18:00:00+00:00",
          "2021-07-20T19:00:00+00:00",
          "2021-07-20T21:00:00+00:00",
          "2021-07-20T23:00:00+00:00",
          "2021-07-21T02:00:00+00:00",
          "2021-07-21T03:00:00+00:00",
          "2021-07-21T04:00:00+00:00",
          "2021-07-21T05:00:00+00:00",
          "2021-07-21T06:00:00+00:00",
          "2021-07-21T07:00:00+00:00",
          "2021-07-21T08:00:00+00:00",
          "2021-07-21T09:00:00+00:00",
          "2021-07-21T10:00:00+00:00",
          "2021-07-21T11:00:00+00:00",
          "2021-07-21T12:00:00+00:00",
          "2021-07-21T13:00:00+00:00",
          "2021-07-21T14:00:00+00:00",
          "2021-07-21T23:00:00+00:00",
          "2021-07-22T02:00:00+00:00",
          "2021-07-22T03:00:00+00:00",
          "2021-07-22T04:00:00+00:00",
          "2021-07-22T05:00:00+00:00",
          "2021-07-22T07:00:00+00:00",
          "2021-07-22T09:00:00+00:00",
          "2021-07-22T10:00:00+00:00",
          "2021-07-22T11:00:00+00:00",
          "2021-07-22T13:00:00+00:00",
          "2021-07-22T14:00:00+00:00",
          "2021-07-22T15:00:00+00:00",
          "2021-07-22T16:00:00+00:00",
          "2021-07-22T17:00:00+00:00",
          "2021-07-22T19:00:00+00:00",
          "2021-07-22T21:00:00+00:00",
          "2021-07-22T23:00:00+00:00",
          "2021-07-23T02:00:00+00:00",
          "2021-07-23T03:00:00+00:00",
          "2021-07-23T04:00:00+00:00",
          "2021-07-23T05:00:00+00:00",
          "2021-07-23T06:00:00+00:00",
          "2021-07-23T07:00:00+00:00",
          "2021-07-23T08:00:00+00:00",
          "2021-07-23T09:00:00+00:00",
          "2021-07-23T11:00:00+00:00",
          "2021-07-23T12:00:00+00:00",
          "2021-07-23T15:00:00+00:00",
          "2021-07-23T16:00:00+00:00",
          "2021-07-23T17:00:00+00:00",
          "2021-07-23T18:00:00+00:00",
          "2021-07-23T19:00:00+00:00",
          "2021-07-23T20:00:00+00:00",
          "2021-07-25T21:00:00+00:00",
          "2021-07-25T22:00:00+00:00",
          "2021-07-25T23:00:00+00:00",
          "2021-07-26T00:00:00+00:00",
          "2021-07-26T01:00:00+00:00",
          "2021-07-26T02:00:00+00:00",
          "2021-07-26T03:00:00+00:00",
          "2021-07-26T05:00:00+00:00",
          "2021-07-26T08:00:00+00:00",
          "2021-07-26T10:00:00+00:00",
          "2021-07-26T11:00:00+00:00",
          "2021-07-26T12:00:00+00:00",
          "2021-07-26T13:00:00+00:00",
          "2021-07-26T14:00:00+00:00",
          "2021-07-26T15:00:00+00:00",
          "2021-07-26T16:00:00+00:00",
          "2021-07-26T17:00:00+00:00",
          "2021-07-26T18:00:00+00:00",
          "2021-07-26T23:00:00+00:00",
          "2021-07-27T00:00:00+00:00",
          "2021-07-27T02:00:00+00:00",
          "2021-07-27T03:00:00+00:00",
          "2021-07-27T04:00:00+00:00",
          "2021-07-27T05:00:00+00:00",
          "2021-07-27T07:00:00+00:00",
          "2021-07-27T09:00:00+00:00",
          "2021-07-27T10:00:00+00:00",
          "2021-07-27T12:00:00+00:00",
          "2021-07-27T15:00:00+00:00",
          "2021-07-27T16:00:00+00:00",
          "2021-07-27T17:00:00+00:00",
          "2021-07-27T18:00:00+00:00",
          "2021-07-27T20:00:00+00:00",
          "2021-07-27T21:00:00+00:00",
          "2021-07-27T22:00:00+00:00",
          "2021-07-28T02:00:00+00:00",
          "2021-07-28T03:00:00+00:00",
          "2021-07-28T04:00:00+00:00",
          "2021-07-28T05:00:00+00:00",
          "2021-07-28T06:00:00+00:00",
          "2021-07-28T08:00:00+00:00",
          "2021-07-28T09:00:00+00:00",
          "2021-07-28T10:00:00+00:00",
          "2021-07-28T12:00:00+00:00",
          "2021-07-28T14:00:00+00:00",
          "2021-07-28T18:00:00+00:00",
          "2021-07-28T20:00:00+00:00",
          "2021-07-28T21:00:00+00:00",
          "2021-07-28T22:00:00+00:00",
          "2021-07-28T23:00:00+00:00",
          "2021-07-29T01:00:00+00:00",
          "2021-07-29T02:00:00+00:00",
          "2021-07-29T03:00:00+00:00",
          "2021-07-29T04:00:00+00:00",
          "2021-07-29T05:00:00+00:00",
          "2021-07-29T06:00:00+00:00",
          "2021-07-29T08:00:00+00:00",
          "2021-07-29T09:00:00+00:00",
          "2021-07-29T11:00:00+00:00",
          "2021-07-29T13:00:00+00:00",
          "2021-07-29T15:00:00+00:00",
          "2021-07-29T17:00:00+00:00",
          "2021-07-29T18:00:00+00:00",
          "2021-07-29T19:00:00+00:00",
          "2021-07-29T20:00:00+00:00",
          "2021-07-29T21:00:00+00:00",
          "2021-07-29T22:00:00+00:00",
          "2021-07-30T00:00:00+00:00",
          "2021-07-30T02:00:00+00:00",
          "2021-07-30T03:00:00+00:00",
          "2021-07-30T04:00:00+00:00",
          "2021-07-30T05:00:00+00:00",
          "2021-07-30T06:00:00+00:00",
          "2021-07-30T07:00:00+00:00",
          "2021-07-30T08:00:00+00:00",
          "2021-07-30T09:00:00+00:00",
          "2021-07-30T10:00:00+00:00",
          "2021-07-30T11:00:00+00:00",
          "2021-07-30T12:00:00+00:00",
          "2021-07-30T13:00:00+00:00",
          "2021-07-30T14:00:00+00:00",
          "2021-07-30T15:00:00+00:00",
          "2021-07-30T16:00:00+00:00",
          "2021-07-30T17:00:00+00:00",
          "2021-07-30T18:00:00+00:00",
          "2021-07-30T19:00:00+00:00",
          "2021-07-30T20:00:00+00:00",
          "2021-08-01T22:00:00+00:00",
          "2021-08-02T01:00:00+00:00",
          "2021-08-02T03:00:00+00:00",
          "2021-08-02T04:00:00+00:00",
          "2021-08-02T05:00:00+00:00",
          "2021-08-02T06:00:00+00:00",
          "2021-08-02T07:00:00+00:00",
          "2021-08-02T08:00:00+00:00",
          "2021-08-02T09:00:00+00:00",
          "2021-08-02T10:00:00+00:00",
          "2021-08-02T11:00:00+00:00",
          "2021-08-02T12:00:00+00:00",
          "2021-08-02T13:00:00+00:00",
          "2021-08-02T14:00:00+00:00",
          "2021-08-02T15:00:00+00:00",
          "2021-08-02T16:00:00+00:00",
          "2021-08-02T17:00:00+00:00",
          "2021-08-02T18:00:00+00:00",
          "2021-08-02T20:00:00+00:00",
          "2021-08-02T21:00:00+00:00",
          "2021-08-02T22:00:00+00:00",
          "2021-08-02T23:00:00+00:00",
          "2021-08-03T00:00:00+00:00",
          "2021-08-03T02:00:00+00:00",
          "2021-08-03T03:00:00+00:00",
          "2021-08-03T04:00:00+00:00",
          "2021-08-03T05:00:00+00:00",
          "2021-08-03T08:00:00+00:00",
          "2021-08-03T10:00:00+00:00",
          "2021-08-03T11:00:00+00:00",
          "2021-08-03T13:00:00+00:00",
          "2021-08-03T14:00:00+00:00",
          "2021-08-03T15:00:00+00:00",
          "2021-08-03T16:00:00+00:00",
          "2021-08-03T18:00:00+00:00",
          "2021-08-03T19:00:00+00:00",
          "2021-08-03T20:00:00+00:00",
          "2021-08-03T21:00:00+00:00",
          "2021-08-03T22:00:00+00:00",
          "2021-08-03T23:00:00+00:00",
          "2021-08-04T01:00:00+00:00",
          "2021-08-04T02:00:00+00:00",
          "2021-08-04T03:00:00+00:00",
          "2021-08-04T04:00:00+00:00",
          "2021-08-04T07:00:00+00:00",
          "2021-08-04T08:00:00+00:00",
          "2021-08-04T09:00:00+00:00",
          "2021-08-04T10:00:00+00:00",
          "2021-08-04T12:00:00+00:00",
          "2021-08-04T13:00:00+00:00",
          "2021-08-04T14:00:00+00:00",
          "2021-08-04T15:00:00+00:00",
          "2021-08-04T16:00:00+00:00",
          "2021-08-04T17:00:00+00:00",
          "2021-08-04T18:00:00+00:00",
          "2021-08-04T19:00:00+00:00",
          "2021-08-05T00:00:00+00:00",
          "2021-08-05T02:00:00+00:00",
          "2021-08-05T03:00:00+00:00",
          "2021-08-05T05:00:00+00:00",
          "2021-08-05T07:00:00+00:00",
          "2021-08-05T08:00:00+00:00",
          "2021-08-05T10:00:00+00:00",
          "2021-08-05T11:00:00+00:00",
          "2021-08-05T13:00:00+00:00",
          "2021-08-05T15:00:00+00:00",
          "2021-08-05T17:00:00+00:00",
          "2021-08-05T19:00:00+00:00",
          "2021-08-05T20:00:00+00:00",
          "2021-08-05T22:00:00+00:00",
          "2021-08-05T23:00:00+00:00",
          "2021-08-06T01:00:00+00:00",
          "2021-08-06T02:00:00+00:00",
          "2021-08-06T03:00:00+00:00",
          "2021-08-06T04:00:00+00:00",
          "2021-08-06T05:00:00+00:00",
          "2021-08-06T06:00:00+00:00",
          "2021-08-06T07:00:00+00:00",
          "2021-08-06T08:00:00+00:00",
          "2021-08-06T09:00:00+00:00",
          "2021-08-06T10:00:00+00:00",
          "2021-08-06T11:00:00+00:00",
          "2021-08-06T12:00:00+00:00",
          "2021-08-06T13:00:00+00:00",
          "2021-08-06T15:00:00+00:00",
          "2021-08-06T16:00:00+00:00",
          "2021-08-06T17:00:00+00:00",
          "2021-08-06T19:00:00+00:00",
          "2021-08-06T20:00:00+00:00",
          "2021-08-09T01:00:00+00:00",
          "2021-08-09T02:00:00+00:00",
          "2021-08-09T03:00:00+00:00",
          "2021-08-09T04:00:00+00:00",
          "2021-08-09T05:00:00+00:00",
          "2021-08-09T06:00:00+00:00",
          "2021-08-09T07:00:00+00:00",
          "2021-08-09T08:00:00+00:00",
          "2021-08-09T09:00:00+00:00",
          "2021-08-09T10:00:00+00:00",
          "2021-08-09T12:00:00+00:00",
          "2021-08-09T14:00:00+00:00",
          "2021-08-09T15:00:00+00:00",
          "2021-08-09T17:00:00+00:00",
          "2021-08-09T18:00:00+00:00",
          "2021-08-09T19:00:00+00:00",
          "2021-08-09T23:00:00+00:00",
          "2021-08-10T01:00:00+00:00",
          "2021-08-10T02:00:00+00:00",
          "2021-08-10T03:00:00+00:00",
          "2021-08-10T05:00:00+00:00",
          "2021-08-10T06:00:00+00:00",
          "2021-08-10T07:00:00+00:00",
          "2021-08-10T08:00:00+00:00",
          "2021-08-10T09:00:00+00:00",
          "2021-08-10T10:00:00+00:00",
          "2021-08-10T11:00:00+00:00",
          "2021-08-10T12:00:00+00:00",
          "2021-08-10T13:00:00+00:00",
          "2021-08-10T14:00:00+00:00",
          "2021-08-10T16:00:00+00:00",
          "2021-08-10T17:00:00+00:00",
          "2021-08-10T18:00:00+00:00",
          "2021-08-10T19:00:00+00:00",
          "2021-08-10T20:00:00+00:00",
          "2021-08-10T22:00:00+00:00",
          "2021-08-11T00:00:00+00:00",
          "2021-08-11T01:00:00+00:00",
          "2021-08-11T02:00:00+00:00",
          "2021-08-11T05:00:00+00:00",
          "2021-08-11T06:00:00+00:00",
          "2021-08-11T07:00:00+00:00",
          "2021-08-11T08:00:00+00:00",
          "2021-08-11T10:00:00+00:00",
          "2021-08-11T11:00:00+00:00",
          "2021-08-11T12:00:00+00:00",
          "2021-08-11T13:00:00+00:00",
          "2021-08-11T14:00:00+00:00",
          "2021-08-11T15:00:00+00:00",
          "2021-08-11T16:00:00+00:00",
          "2021-08-11T18:00:00+00:00",
          "2021-08-11T19:00:00+00:00",
          "2021-08-11T23:00:00+00:00",
          "2021-08-12T00:00:00+00:00",
          "2021-08-12T01:00:00+00:00",
          "2021-08-12T02:00:00+00:00",
          "2021-08-12T03:00:00+00:00",
          "2021-08-12T05:00:00+00:00",
          "2021-08-12T06:00:00+00:00",
          "2021-08-12T07:00:00+00:00",
          "2021-08-12T08:00:00+00:00",
          "2021-08-12T09:00:00+00:00",
          "2021-08-12T10:00:00+00:00",
          "2021-08-12T11:00:00+00:00",
          "2021-08-12T12:00:00+00:00",
          "2021-08-12T13:00:00+00:00",
          "2021-08-12T15:00:00+00:00",
          "2021-08-12T16:00:00+00:00",
          "2021-08-12T17:00:00+00:00",
          "2021-08-12T19:00:00+00:00",
          "2021-08-12T20:00:00+00:00",
          "2021-08-12T21:00:00+00:00",
          "2021-08-12T22:00:00+00:00",
          "2021-08-12T23:00:00+00:00",
          "2021-08-13T00:00:00+00:00",
          "2021-08-13T01:00:00+00:00",
          "2021-08-13T02:00:00+00:00",
          "2021-08-13T03:00:00+00:00",
          "2021-08-13T04:00:00+00:00",
          "2021-08-13T05:00:00+00:00",
          "2021-08-13T06:00:00+00:00",
          "2021-08-13T07:00:00+00:00",
          "2021-08-13T08:00:00+00:00",
          "2021-08-13T09:00:00+00:00",
          "2021-08-13T10:00:00+00:00",
          "2021-08-13T11:00:00+00:00",
          "2021-08-13T12:00:00+00:00",
          "2021-08-13T13:00:00+00:00",
          "2021-08-13T18:00:00+00:00",
          "2021-08-15T22:00:00+00:00",
          "2021-08-16T00:00:00+00:00",
          "2021-08-16T03:00:00+00:00",
          "2021-08-16T04:00:00+00:00",
          "2021-08-16T05:00:00+00:00",
          "2021-08-16T06:00:00+00:00",
          "2021-08-16T08:00:00+00:00",
          "2021-08-16T10:00:00+00:00",
          "2021-08-16T12:00:00+00:00",
          "2021-08-16T13:00:00+00:00",
          "2021-08-16T14:00:00+00:00",
          "2021-08-16T16:00:00+00:00",
          "2021-08-16T18:00:00+00:00",
          "2021-08-16T19:00:00+00:00",
          "2021-08-16T20:00:00+00:00",
          "2021-08-17T00:00:00+00:00",
          "2021-08-17T02:00:00+00:00",
          "2021-08-17T03:00:00+00:00",
          "2021-08-17T04:00:00+00:00",
          "2021-08-17T06:00:00+00:00",
          "2021-08-17T07:00:00+00:00",
          "2021-08-17T08:00:00+00:00",
          "2021-08-17T09:00:00+00:00",
          "2021-08-17T11:00:00+00:00",
          "2021-08-17T15:00:00+00:00",
          "2021-08-17T16:00:00+00:00",
          "2021-08-17T17:00:00+00:00",
          "2021-08-17T18:00:00+00:00",
          "2021-08-17T19:00:00+00:00",
          "2021-08-17T20:00:00+00:00",
          "2021-08-17T21:00:00+00:00",
          "2021-08-17T22:00:00+00:00",
          "2021-08-17T23:00:00+00:00",
          "2021-08-18T01:00:00+00:00",
          "2021-08-18T02:00:00+00:00",
          "2021-08-18T03:00:00+00:00",
          "2021-08-18T05:00:00+00:00",
          "2021-08-18T06:00:00+00:00",
          "2021-08-18T07:00:00+00:00",
          "2021-08-18T09:00:00+00:00",
          "2021-08-18T10:00:00+00:00",
          "2021-08-18T11:00:00+00:00",
          "2021-08-18T12:00:00+00:00",
          "2021-08-18T13:00:00+00:00",
          "2021-08-18T14:00:00+00:00",
          "2021-08-18T15:00:00+00:00",
          "2021-08-18T16:00:00+00:00",
          "2021-08-18T20:00:00+00:00",
          "2021-08-18T21:00:00+00:00",
          "2021-08-18T22:00:00+00:00",
          "2021-08-18T23:00:00+00:00",
          "2021-08-19T00:00:00+00:00",
          "2021-08-19T01:00:00+00:00",
          "2021-08-19T02:00:00+00:00",
          "2021-08-19T04:00:00+00:00",
          "2021-08-19T05:00:00+00:00",
          "2021-08-19T07:00:00+00:00",
          "2021-08-19T10:00:00+00:00",
          "2021-08-19T11:00:00+00:00",
          "2021-08-19T13:00:00+00:00",
          "2021-08-19T14:00:00+00:00",
          "2021-08-19T17:00:00+00:00",
          "2021-08-19T19:00:00+00:00",
          "2021-08-19T20:00:00+00:00",
          "2021-08-19T21:00:00+00:00",
          "2021-08-19T23:00:00+00:00",
          "2021-08-20T00:00:00+00:00",
          "2021-08-20T03:00:00+00:00",
          "2021-08-20T04:00:00+00:00",
          "2021-08-20T05:00:00+00:00",
          "2021-08-20T11:00:00+00:00",
          "2021-08-20T13:00:00+00:00",
          "2021-08-20T14:00:00+00:00",
          "2021-08-20T15:00:00+00:00",
          "2021-08-20T16:00:00+00:00",
          "2021-08-20T17:00:00+00:00",
          "2021-08-20T18:00:00+00:00",
          "2021-08-20T20:00:00+00:00",
          "2021-08-22T21:00:00+00:00",
          "2021-08-22T22:00:00+00:00",
          "2021-08-22T23:00:00+00:00",
          "2021-08-23T00:00:00+00:00",
          "2021-08-23T02:00:00+00:00",
          "2021-08-23T03:00:00+00:00",
          "2021-08-23T04:00:00+00:00",
          "2021-08-23T05:00:00+00:00",
          "2021-08-23T07:00:00+00:00",
          "2021-08-23T08:00:00+00:00",
          "2021-08-23T10:00:00+00:00",
          "2021-08-23T11:00:00+00:00",
          "2021-08-23T17:00:00+00:00",
          "2021-08-23T19:00:00+00:00",
          "2021-08-23T23:00:00+00:00",
          "2021-08-24T00:00:00+00:00",
          "2021-08-24T01:00:00+00:00",
          "2021-08-24T03:00:00+00:00",
          "2021-08-24T04:00:00+00:00",
          "2021-08-24T05:00:00+00:00",
          "2021-08-24T06:00:00+00:00",
          "2021-08-24T09:00:00+00:00",
          "2021-08-24T11:00:00+00:00",
          "2021-08-24T12:00:00+00:00",
          "2021-08-24T13:00:00+00:00",
          "2021-08-24T14:00:00+00:00",
          "2021-08-24T17:00:00+00:00",
          "2021-08-24T18:00:00+00:00",
          "2021-08-24T19:00:00+00:00",
          "2021-08-24T20:00:00+00:00",
          "2021-08-24T21:00:00+00:00",
          "2021-08-24T22:00:00+00:00",
          "2021-08-24T23:00:00+00:00",
          "2021-08-25T01:00:00+00:00",
          "2021-08-25T02:00:00+00:00",
          "2021-08-25T03:00:00+00:00",
          "2021-08-25T04:00:00+00:00",
          "2021-08-25T05:00:00+00:00",
          "2021-08-25T06:00:00+00:00",
          "2021-08-25T07:00:00+00:00",
          "2021-08-25T08:00:00+00:00",
          "2021-08-25T09:00:00+00:00",
          "2021-08-25T10:00:00+00:00",
          "2021-08-25T11:00:00+00:00",
          "2021-08-25T12:00:00+00:00",
          "2021-08-25T13:00:00+00:00",
          "2021-08-25T14:00:00+00:00",
          "2021-08-25T15:00:00+00:00",
          "2021-08-25T17:00:00+00:00",
          "2021-08-25T18:00:00+00:00",
          "2021-08-25T20:00:00+00:00",
          "2021-08-25T23:00:00+00:00",
          "2021-08-26T00:00:00+00:00",
          "2021-08-26T02:00:00+00:00",
          "2021-08-26T03:00:00+00:00",
          "2021-08-26T04:00:00+00:00",
          "2021-08-26T05:00:00+00:00",
          "2021-08-26T06:00:00+00:00",
          "2021-08-26T07:00:00+00:00",
          "2021-08-26T09:00:00+00:00",
          "2021-08-26T11:00:00+00:00",
          "2021-08-26T12:00:00+00:00",
          "2021-08-26T15:00:00+00:00",
          "2021-08-26T16:00:00+00:00",
          "2021-08-26T17:00:00+00:00",
          "2021-08-26T18:00:00+00:00",
          "2021-08-26T19:00:00+00:00",
          "2021-08-26T20:00:00+00:00",
          "2021-08-26T22:00:00+00:00",
          "2021-08-27T00:00:00+00:00",
          "2021-08-27T01:00:00+00:00",
          "2021-08-27T02:00:00+00:00",
          "2021-08-27T04:00:00+00:00",
          "2021-08-27T06:00:00+00:00",
          "2021-08-27T07:00:00+00:00",
          "2021-08-27T08:00:00+00:00",
          "2021-08-27T09:00:00+00:00",
          "2021-08-27T10:00:00+00:00",
          "2021-08-27T11:00:00+00:00",
          "2021-08-27T12:00:00+00:00",
          "2021-08-27T13:00:00+00:00",
          "2021-08-27T14:00:00+00:00",
          "2021-08-27T16:00:00+00:00",
          "2021-08-27T17:00:00+00:00",
          "2021-08-27T18:00:00+00:00",
          "2021-08-27T20:00:00+00:00",
          "2021-08-30T00:00:00+00:00",
          "2021-08-30T01:00:00+00:00",
          "2021-08-30T02:00:00+00:00",
          "2021-08-30T03:00:00+00:00",
          "2021-08-30T04:00:00+00:00",
          "2021-08-30T05:00:00+00:00",
          "2021-08-30T06:00:00+00:00",
          "2021-08-30T07:00:00+00:00",
          "2021-08-30T08:00:00+00:00",
          "2021-08-30T10:00:00+00:00",
          "2021-08-30T11:00:00+00:00",
          "2021-08-30T12:00:00+00:00",
          "2021-08-30T13:00:00+00:00",
          "2021-08-30T14:00:00+00:00",
          "2021-08-30T16:00:00+00:00",
          "2021-08-30T17:00:00+00:00",
          "2021-08-30T21:00:00+00:00",
          "2021-08-30T22:00:00+00:00",
          "2021-08-31T00:00:00+00:00",
          "2021-08-31T01:00:00+00:00",
          "2021-08-31T02:00:00+00:00",
          "2021-08-31T03:00:00+00:00",
          "2021-08-31T04:00:00+00:00",
          "2021-08-31T06:00:00+00:00",
          "2021-08-31T08:00:00+00:00",
          "2021-08-31T09:00:00+00:00",
          "2021-08-31T10:00:00+00:00",
          "2021-08-31T14:00:00+00:00",
          "2021-08-31T15:00:00+00:00",
          "2021-08-31T16:00:00+00:00",
          "2021-08-31T17:00:00+00:00",
          "2021-08-31T18:00:00+00:00",
          "2021-08-31T19:00:00+00:00",
          "2021-08-31T20:00:00+00:00",
          "2021-08-31T21:00:00+00:00",
          "2021-08-31T22:00:00+00:00",
          "2021-08-31T23:00:00+00:00",
          "2021-09-01T00:00:00+00:00",
          "2021-09-01T02:00:00+00:00",
          "2021-09-01T04:00:00+00:00",
          "2021-09-01T05:00:00+00:00",
          "2021-09-01T06:00:00+00:00",
          "2021-09-01T07:00:00+00:00",
          "2021-09-01T08:00:00+00:00",
          "2021-09-01T10:00:00+00:00",
          "2021-09-01T11:00:00+00:00",
          "2021-09-01T13:00:00+00:00",
          "2021-09-01T14:00:00+00:00",
          "2021-09-01T15:00:00+00:00",
          "2021-09-01T16:00:00+00:00",
          "2021-09-01T17:00:00+00:00",
          "2021-09-01T18:00:00+00:00",
          "2021-09-01T19:00:00+00:00",
          "2021-09-01T20:00:00+00:00",
          "2021-09-01T21:00:00+00:00",
          "2021-09-01T22:00:00+00:00",
          "2021-09-01T23:00:00+00:00",
          "2021-09-02T00:00:00+00:00",
          "2021-09-02T01:00:00+00:00",
          "2021-09-02T02:00:00+00:00",
          "2021-09-02T03:00:00+00:00",
          "2021-09-02T04:00:00+00:00",
          "2021-09-02T05:00:00+00:00",
          "2021-09-02T06:00:00+00:00",
          "2021-09-02T07:00:00+00:00",
          "2021-09-02T08:00:00+00:00",
          "2021-09-02T09:00:00+00:00",
          "2021-09-02T13:00:00+00:00",
          "2021-09-02T14:00:00+00:00",
          "2021-09-02T15:00:00+00:00",
          "2021-09-02T16:00:00+00:00",
          "2021-09-02T17:00:00+00:00",
          "2021-09-02T20:00:00+00:00",
          "2021-09-02T21:00:00+00:00",
          "2021-09-02T22:00:00+00:00",
          "2021-09-03T00:00:00+00:00",
          "2021-09-03T01:00:00+00:00",
          "2021-09-03T02:00:00+00:00",
          "2021-09-03T03:00:00+00:00",
          "2021-09-03T04:00:00+00:00",
          "2021-09-03T05:00:00+00:00",
          "2021-09-03T06:00:00+00:00",
          "2021-09-03T07:00:00+00:00",
          "2021-09-03T08:00:00+00:00",
          "2021-09-03T10:00:00+00:00",
          "2021-09-03T11:00:00+00:00",
          "2021-09-03T12:00:00+00:00",
          "2021-09-03T13:00:00+00:00",
          "2021-09-03T14:00:00+00:00",
          "2021-09-03T15:00:00+00:00",
          "2021-09-03T16:00:00+00:00",
          "2021-09-03T18:00:00+00:00",
          "2021-09-03T20:00:00+00:00",
          "2021-09-05T21:00:00+00:00",
          "2021-09-06T00:00:00+00:00",
          "2021-09-06T01:00:00+00:00",
          "2021-09-06T02:00:00+00:00",
          "2021-09-06T03:00:00+00:00",
          "2021-09-06T04:00:00+00:00",
          "2021-09-06T05:00:00+00:00",
          "2021-09-06T06:00:00+00:00",
          "2021-09-06T07:00:00+00:00",
          "2021-09-06T08:00:00+00:00",
          "2021-09-06T09:00:00+00:00",
          "2021-09-06T11:00:00+00:00",
          "2021-09-06T12:00:00+00:00",
          "2021-09-06T13:00:00+00:00",
          "2021-09-06T16:00:00+00:00",
          "2021-09-06T17:00:00+00:00",
          "2021-09-06T18:00:00+00:00",
          "2021-09-06T19:00:00+00:00",
          "2021-09-06T20:00:00+00:00",
          "2021-09-06T21:00:00+00:00",
          "2021-09-06T22:00:00+00:00",
          "2021-09-07T00:00:00+00:00",
          "2021-09-07T01:00:00+00:00",
          "2021-09-07T02:00:00+00:00",
          "2021-09-07T03:00:00+00:00",
          "2021-09-07T04:00:00+00:00",
          "2021-09-07T05:00:00+00:00",
          "2021-09-07T06:00:00+00:00",
          "2021-09-07T07:00:00+00:00",
          "2021-09-07T09:00:00+00:00",
          "2021-09-07T12:00:00+00:00",
          "2021-09-07T16:00:00+00:00",
          "2021-09-07T17:00:00+00:00",
          "2021-09-07T18:00:00+00:00",
          "2021-09-07T19:00:00+00:00",
          "2021-09-07T20:00:00+00:00"
         ],
         "y": [
          11.200000000000099,
          16.40000000000086,
          29.10000000000079,
          26.799999999999045,
          -4.900000000000528,
          -11.000000000001233,
          18.899999999998006,
          18.299999999996295,
          88.09999999999829,
          80.69999999999848,
          242.89999999999972,
          282.3000000000014,
          263.1000000000022,
          327.300000000002,
          307.0000000000022,
          504.00000000000057,
          569.4000000000004,
          520.5000000000024,
          565.9000000000032,
          600.0000000000025,
          298.2000000000015,
          288.9000000000017,
          285.5000000000016,
          173.50000000000173,
          238.30000000000214,
          173.3000000000004,
          162.99999999999955,
          163.60000000000014,
          210.10000000000056,
          256.50000000000034,
          281.3999999999992,
          487.7999999999985,
          474.7999999999999,
          543.8000000000012,
          685.9000000000018,
          735.2000000000004,
          764.8000000000011,
          757.2000000000023,
          896.8000000000031,
          878.6000000000029,
          933.8000000000026,
          840.4000000000018,
          870.3000000000022,
          889.600000000002,
          885.0000000000018,
          858.4000000000012,
          835,
          830.0000000000002,
          828.9999999999992,
          889.200000000002,
          888.9000000000023,
          878.7000000000013,
          878.7999999999997,
          810.9999999999964,
          797.1999999999958,
          800.4999999999952,
          830.5999999999948,
          844.3999999999936,
          841.9999999999934,
          795.6999999999955,
          814.6999999999956,
          832.9999999999956,
          919.299999999997,
          920.1999999999973,
          917.2999999999961,
          961.1999999999987,
          929.4999999999978,
          855.2999999999994,
          880.2,
          873.9999999999994,
          896.6999999999994,
          913.6999999999997,
          894.9000000000009,
          839.5000000000011,
          800.7000000000012,
          740.3000000000018,
          705.6000000000031,
          697.4000000000049,
          661.500000000005,
          631.2000000000063,
          609.3000000000055,
          577.6000000000066,
          502.30000000000626,
          433.80000000000496,
          384.6000000000057,
          351.2000000000056,
          268.20000000000584,
          278.80000000000535,
          263.20000000000476,
          260.70000000000505,
          232.4000000000054,
          213.30000000000507,
          223.00000000000685,
          205.8000000000067,
          314.0000000000072,
          446.1000000000066,
          466.8000000000079,
          504.5000000000084,
          519.4000000000083,
          581.2000000000065,
          783.5000000000073,
          766.4000000000074,
          755.9000000000074,
          741.9000000000074,
          685.1000000000083,
          595.1000000000082,
          599.5000000000082,
          591.7000000000102,
          589.7000000000088,
          569.1000000000099,
          609.2000000000106,
          637.8000000000108,
          628.1000000000105,
          646.7000000000102,
          633.100000000011,
          650.8000000000103,
          636.1000000000095,
          614.8000000000072,
          529.2000000000049,
          527.6000000000033,
          529.7000000000038,
          557.9000000000035,
          581.2000000000024,
          562.2000000000031,
          414.7000000000025,
          380.3000000000036,
          355.3000000000036,
          345.7000000000029,
          176.7000000000028,
          157.80000000000172,
          29.7000000000063,
          -38.299999999992295,
          -47.69999999999259,
          -68.39999999999276,
          -80.29999999999274,
          -94.69999999999266,
          -38.79999999999282,
          -87.59999999999278,
          -62.59999999999331,
          -72.99999999999261,
          -34.8999999999917,
          23.900000000008262,
          75.10000000000831,
          8.100000000009032,
          -88.09999999999326,
          -112.09999999999394,
          -143.399999999994,
          -136.49999999999383,
          -234.39999999999623,
          -312.2999999999948,
          -342.499999999995,
          -362.8999999999937,
          -362.79999999999325,
          -342.9999999999923,
          -357.9999999999929,
          -381.9999999999925,
          -430.99999999999056,
          -453.9999999999902,
          -457.69999999999226,
          -490.09999999999246,
          -520.7999999999915,
          -550.7999999999927,
          -405.69999999999243,
          -422.89999999999185,
          -421.6999999999918,
          -435.1999999999936,
          -495.09999999999303,
          -591.899999999993,
          -734.5999999999939,
          -661.7999999999922,
          -584.5999999999946,
          -610.3999999999937,
          -656.7999999999928,
          -659.3999999999933,
          -758.5999999999952,
          -802.799999999996,
          -828.399999999996,
          -946.5999999999954,
          -918.1999999999936,
          -911.8999999999955,
          -902.8999999999969,
          -957.9999999999981,
          -1015.2999999999995,
          -1035.4999999999993,
          -1046.999999999999,
          -1043.0999999999974,
          -1134.1999999999957,
          -1191.099999999997,
          -1215.0999999999985,
          -1265.799999999998,
          -1281.0999999999972,
          -1385.5999999999956,
          -1407.699999999996,
          -1412.099999999994,
          -1404.799999999993,
          -1495.5999999999917,
          -1500.3999999999921,
          -1773.0999999999897,
          -1875.9999999999889,
          -1961.899999999986,
          -1953.3999999999858,
          -1930.5999999999863,
          -1908.8999999999862,
          -1871.0999999999872,
          -1822.2999999999872,
          -1888.6999999999853,
          -1863.9999999999854,
          -1854.699999999985,
          -1831.0999999999847,
          -1779.1999999999844,
          -1740.199999999985,
          -1691.0999999999854,
          -1724.399999999988,
          -1718.2999999999881,
          -1715.0999999999894,
          -1695.6999999999898,
          -1729.2999999999902,
          -1752.8999999999899,
          -1755.9999999999902,
          -1698.0999999999906,
          -1713.6999999999887,
          -1714.8999999999887,
          -1743.0999999999883,
          -1713.699999999989,
          -1586.6999999999903,
          -1586.6999999999903,
          -1520.3999999999871,
          -1544.2999999999874,
          -1553.9999999999866,
          -1539.8999999999874,
          -1559.0999999999888,
          -1571.6999999999891,
          -1574.4999999999875,
          -1580.2999999999868,
          -1604.4999999999877,
          -1591.5999999999876,
          -1594.7999999999886,
          -1594.1999999999891,
          -1620.3999999999876,
          -1683.5999999999856,
          -1688.3999999999849,
          -1709.599999999985,
          -1795.0999999999865,
          -1933.5999999999856,
          -1942.3999999999878,
          -1964.49999999999,
          -1961.5999999999904,
          -1960.7999999999893,
          -1817.1999999999887,
          -1792.3999999999883,
          -1792.0999999999885,
          -1691.9999999999898,
          -1700.8999999999903,
          -1711.69999999999,
          -1733.4999999999918,
          -1743.1999999999912,
          -1744.2999999999906,
          -1714.7999999999906,
          -1720.9999999999918,
          -1693.9999999999936,
          -1661.5999999999945,
          -1611.699999999994,
          -1497.7999999999938,
          -1421.5999999999924,
          -1462.0999999999935,
          -1435.399999999994,
          -1434.699999999994,
          -1411.3999999999935,
          -1416.2999999999936,
          -1421.299999999993,
          -1422.699999999994,
          -1432.6999999999928,
          -1437.199999999993,
          -1433.799999999996,
          -1429.4999999999968,
          -1455.0999999999967,
          -1455.3999999999976,
          -1447.3999999999962,
          -1466.999999999996,
          -1481.399999999997,
          -1492.899999999999,
          -1488.4999999999968,
          -1513.6999999999975,
          -1530.0999999999983,
          -1538.4999999999986,
          -1600.3999999999976,
          -1621.2999999999968,
          -1672.8999999999983,
          -1673.699999999998,
          -1665.1999999999978,
          -1682.7999999999977,
          -1677.599999999998,
          -1713.2999999999977,
          -1732.3999999999985,
          -1766.2000000000003,
          -1733.8999999999983,
          -1731.1999999999985,
          -1739.4999999999995,
          -1741.099999999999,
          -1739.1000000000008,
          -1738.2000000000016,
          -1750.800000000002,
          -1754.2000000000012,
          -1691.8999999999994,
          -1700.5000000000002,
          -1712.9000000000015,
          -1631.2000000000014,
          -1650.0000000000002,
          -1652.5000000000011,
          -1592.5000000000016,
          -1577.2000000000012,
          -1583.100000000001,
          -1380.4000000000035,
          -1295.8000000000043,
          -1266.400000000003,
          -1255.1000000000026,
          -1127.3000000000031,
          -1063.5000000000027,
          -967.0000000000042,
          -965.6000000000039,
          -959.5000000000039,
          -867.0000000000032,
          -829.2000000000032,
          -827.1000000000039,
          -864.2000000000038,
          -905.5000000000034,
          -919.4000000000034,
          -946.9000000000026,
          -977.1000000000039,
          -981.5000000000016,
          -987.9999999999998,
          -1002.0999999999995,
          -997.6999999999998,
          -1060.8000000000018,
          -1176.0000000000007,
          -1211.8,
          -1168.5000000000005,
          -1164.8000000000006,
          -1163.8000000000006,
          -1209.8,
          -1221.799999999999,
          -1229.3999999999999,
          -1253.2000000000003,
          -1270.1,
          -1167.6999999999994,
          -1134.2999999999981,
          -1150.399999999997,
          -1177.9999999999975,
          -1195.4999999999986,
          -1172.3000000000002,
          -1115.3999999999978,
          -1094.399999999997,
          -1148.5999999999945,
          -1172.099999999995,
          -1055.7999999999952,
          -1033.2999999999943,
          -1006.4999999999932,
          -989.3999999999921,
          -1015.4999999999922,
          -936.5999999999949,
          -937.0999999999958,
          -894.4999999999957,
          -928.6999999999955,
          -917.6999999999967,
          -716.6999999999955,
          -704.6999999999958,
          -715.2999999999953,
          -633.6999999999958,
          -664.8999999999949,
          -747.1999999999962,
          -664.5999999999933,
          -541.2999999999919,
          -497.0999999999932,
          -489.19999999999254,
          -520.6999999999946,
          -535.9999999999949,
          -544.999999999995,
          -541.9999999999931,
          -546.9999999999927,
          -460.1999999999932,
          -374.8999999999928,
          -244.59999999999226,
          -50.799999999992735,
          -61.39999999999223,
          -79.29999999999181,
          -145.19999999999084,
          -247.19999999999283,
          -315.89999999999213,
          -304.99999999999176,
          -309.09999999998973,
          -307.9999999999903,
          -227.3999999999918,
          -256.1999999999912,
          -290.1999999999915,
          -248.09999999999087,
          -293.4999999999907,
          -322.4999999999897,
          -330.49999999998954,
          -365.59999999998945,
          -457.99999999998863,
          -424.79999999998876,
          -440.5999999999879,
          -450.099999999988,
          -435.59999999998837,
          -424.79999999999023,
          -469.899999999991,
          -409.49999999999164,
          -450.29999999999245,
          -469.3999999999932,
          -487.09999999999593,
          -455.09999999999724,
          -382.99999999999784,
          -394.19999999999794,
          -331.99999999999903,
          -378.59999999999906,
          -226.00000000000114,
          -307.80000000000246,
          11.699999999996578,
          96.19999999999642,
          161.59999999999565,
          282.9999999999949,
          397.699999999994,
          573.8999999999937,
          642.4999999999935,
          712.0999999999932,
          697.8999999999934,
          666.5999999999917,
          709.5999999999914,
          704.3999999999908,
          790.0999999999907,
          887.199999999989,
          817.7999999999895,
          879.6999999999895,
          1046.4999999999898,
          1089.599999999989,
          1061.999999999988,
          1016.099999999987,
          950.1999999999878,
          946.5999999999887,
          954.6999999999873,
          783.9999999999868,
          782.4999999999859,
          767.0999999999849,
          747.0999999999849,
          947.0999999999862,
          1071.5999999999858,
          1005.1999999999838,
          1082.1999999999841,
          1293.1999999999841,
          1673.1999999999834,
          1783.499999999984,
          1861.699999999985,
          1948.6999999999844,
          1969.2999999999838,
          1958.1999999999832,
          1923.3999999999833,
          1895.8999999999828,
          1706.4999999999832,
          1658.5999999999824,
          1638.8999999999821,
          1627.0999999999813,
          1700.7999999999822,
          1698.5999999999822,
          1703.5999999999826,
          1729.2999999999831,
          1722.4999999999816,
          1751.3999999999821,
          1741.7999999999813,
          1738.9999999999807,
          1738.2999999999827,
          1738.0999999999835,
          1676.499999999984,
          1675.6999999999855,
          1655.0999999999865,
          1717.3999999999874,
          1805.699999999989,
          1759.3999999999874,
          1842.8999999999876,
          1842.6999999999866,
          1916.999999999987,
          1874.299999999986,
          1751.5999999999858,
          1700.9999999999854,
          1692.099999999985,
          1609.1999999999837,
          1580.0999999999826,
          1568.1999999999823,
          1531.2999999999824,
          1509.699999999983,
          1435.4999999999839,
          1424.4999999999839,
          1299.4999999999839,
          1133.9999999999845,
          1102.8999999999837,
          1051.5999999999844,
          978.3999999999824,
          963.3999999999818,
          932.3999999999808,
          967.2999999999796,
          956.4999999999799,
          997.8999999999786,
          1024.1999999999778,
          1071.099999999975,
          1047.9999999999734,
          1015.7999999999754,
          1017.3999999999747,
          1011.499999999975,
          1001.5999999999746,
          1050.999999999974,
          1044.0999999999733,
          1046.599999999972,
          1328.3999999999714,
          1321.9999999999695,
          1341.9999999999698,
          1422.3999999999692,
          1596.1999999999687,
          1523.6999999999655,
          1521.8999999999671,
          1506.1999999999675,
          1502.999999999968,
          1462.4999999999677,
          1461.4999999999677,
          1481.6999999999668,
          1462.899999999968,
          1469.8999999999673,
          1430.2999999999654,
          1419.299999999967,
          1342.999999999968,
          1339.0999999999663,
          1281.6999999999643,
          1190.8999999999635,
          1190.3999999999628,
          1082.6999999999612,
          1016.3999999999601,
          1035.799999999962,
          1366.6999999999618,
          1346.8999999999587,
          1330.8999999999576,
          1418.7999999999572,
          1459.599999999958,
          1547.5999999999583,
          1496.7999999999586,
          1537.299999999958,
          1562.6999999999578,
          1567.0999999999576,
          1554.5999999999576,
          1549.19999999996,
          1553.399999999961,
          1559.6999999999605,
          1565.1999999999612,
          1542.8999999999628,
          1458.0999999999633,
          1317.9999999999613,
          1279.399999999963,
          1219.7999999999633,
          1186.2999999999654,
          1180.2999999999652,
          1184.9999999999654,
          1234.9999999999654,
          1195.199999999967,
          1174.8999999999673,
          1146.0999999999674,
          1125.79999999997,
          1124.4999999999723,
          1115.0999999999729,
          1116.0999999999733,
          1170.6999999999723,
          1163.699999999974,
          1053.3999999999762,
          1003.7999999999771,
          952.4999999999764,
          1002.2999999999754,
          1028.4999999999736,
          1069.0999999999742,
          1088.299999999975,
          1078.3999999999762,
          1065.1999999999764,
          1031.399999999976,
          992.3999999999759,
          930.899999999976,
          869.899999999976,
          829.0999999999751,
          806.2999999999745,
          831.7999999999751,
          875.8999999999753,
          894.8999999999754,
          956.1999999999751,
          889.8999999999749,
          870.899999999973,
          856.6999999999732,
          910.0999999999733,
          932.4999999999723,
          931.2999999999722,
          908.3999999999721,
          893.7999999999735,
          892.6999999999746,
          880.0999999999742,
          838.8999999999752,
          847.1999999999763,
          833.1999999999756,
          819.9999999999757,
          809.3999999999753,
          698.399999999973,
          630.7999999999719,
          615.999999999975,
          605.7999999999746,
          598.5999999999763,
          594.3999999999766,
          583.799999999976,
          717.9999999999768,
          829.2999999999757,
          814.7999999999762,
          796.6999999999775,
          786.4999999999771,
          776.0999999999786,
          729.6999999999803,
          718.3999999999795,
          815.5999999999791,
          941.8999999999785,
          1138.899999999979,
          1183.3999999999796,
          1197.3999999999803,
          1165.49999999998,
          1160.1999999999796,
          1129.7999999999802,
          1092.1999999999791,
          1094.7999999999784,
          1095.4999999999789,
          1078.899999999979,
          1337.2999999999797,
          1316.899999999979,
          1314.5999999999794,
          1369.5999999999801,
          1362.79999999998,
          1375.0999999999806,
          1362.7999999999802,
          1326.49999999998,
          1323.3999999999796,
          1337.9999999999798,
          1388.2999999999806,
          1324.9999999999811,
          1299.9999999999816,
          1287.6999999999812,
          1278.3999999999812,
          1184.7999999999806,
          1165.6999999999798,
          1183.7999999999806,
          1190.79999999998,
          1167.8999999999787,
          1169.0999999999779,
          1176.4999999999786,
          1138.8999999999783,
          1098.3999999999783,
          1088.8999999999783,
          1104.099999999979,
          1119.2999999999786,
          1103.2999999999793,
          1075.9999999999802,
          1082.3999999999799,
          1050.5999999999804,
          1105.8999999999808,
          1127.9999999999811,
          1168.4999999999816,
          1144.8999999999812,
          1139.499999999981,
          1195.9999999999798,
          1183.2999999999806,
          1178.199999999981,
          1149.0999999999801,
          1145.0999999999794,
          1096.299999999978,
          1069.0999999999774,
          1051.899999999977,
          1035.7999999999781,
          962.6999999999804,
          956.6999999999797,
          950.5999999999804,
          970.1999999999808,
          969.6999999999798,
          910.2999999999793,
          880.9999999999801,
          867.9999999999791,
          871.7999999999779,
          854.6999999999787,
          818.79999999998,
          783.1999999999798,
          800.3999999999801,
          805.79999999998,
          799.3999999999807,
          794.79999999998,
          714.9999999999801,
          719.3999999999801,
          749.099999999979,
          772.7999999999788,
          716.9999999999807,
          700.3999999999808,
          604.1999999999804,
          557.9999999999808,
          533.2999999999809,
          569.2999999999791,
          557.4999999999784,
          558.7999999999791,
          433.9999999999776,
          413.19999999997776,
          275.69999999997833,
          248.49999999997732,
          189.19999999997395,
          150.9999999999735,
          132.99999999997328,
          148.2999999999736,
          115.99999999997286,
          317.79999999997517,
          352.39999999997536,
          523.4999999999771,
          515.8999999999771,
          566.7999999999765,
          588.6999999999767,
          698.8999999999743,
          689.0999999999744,
          663.099999999974,
          660.4999999999728,
          652.7999999999723,
          625.2999999999743,
          591.3999999999742,
          582.6999999999738,
          558.8999999999738,
          556.1999999999739,
          636.0999999999733,
          635.4999999999739,
          530.2999999999744,
          380.3999999999749,
          346.19999999997515,
          349.2999999999744,
          322.99999999997306,
          311.39999999997366,
          298.79999999997216,
          350.19999999997174,
          336.4999999999719,
          332.9999999999712,
          344.89999999997144,
          325.49999999997203,
          459.1999999999719,
          489.49999999997056,
          425.3999999999712,
          395.79999999997045,
          367.1999999999707,
          323.3999999999713,
          278.5999999999709,
          279.29999999997216,
          279.09999999996865,
          213.99999999996965,
          35.299999999969145,
          -34.60000000003021,
          -63.20000000002936,
          -20.700000000029647,
          -42.10000000002995,
          12.199999999970508,
          283.39999999997247,
          281.8999999999715,
          255.49999999997175,
          608.5999999999735,
          778.1999999999733,
          915.7999999999732,
          913.199999999974,
          1326.6999999999757,
          1624.5999999999742,
          1603.4999999999736,
          1622.699999999974,
          1733.7999999999734,
          1730.0999999999735,
          1720.0999999999735,
          1706.199999999974,
          1658.799999999973,
          1656.6999999999725,
          1588.6999999999723,
          1609.299999999973,
          1587.4999999999716,
          1581.1999999999725,
          1554.699999999972,
          1523.599999999971,
          1360.5999999999724,
          1351.3999999999721,
          1319.499999999974,
          1283.4999999999736,
          1277.9999999999732,
          1249.3999999999712,
          1234.4999999999714,
          1199.0999999999729,
          1111.4999999999745,
          1061.4999999999773,
          1055.1999999999764,
          1000.799999999977,
          1019.2999999999757,
          1022.899999999976,
          941.5999999999765,
          1109.3999999999755,
          1096.1999999999757,
          1112.7999999999768,
          1106.0999999999751,
          1252.3999999999721,
          1282.9999999999704,
          1333.1999999999707,
          1367.1999999999725,
          1335.599999999972,
          1309.799999999973,
          1367.7999999999731,
          1281.0999999999724,
          1266.099999999972,
          1332.4999999999718,
          1377.8999999999728,
          1380.299999999973,
          1375.4999999999748,
          1413.9999999999739,
          1446.3999999999737,
          1485.1999999999744,
          1489.7999999999756,
          1498.2999999999745,
          1498.099999999973,
          1493.3999999999733,
          1492.3999999999733,
          1494.5999999999744,
          1517.6999999999748,
          1466.9999999999745,
          1471.8999999999755,
          1463.4999999999766,
          1458.8999999999764,
          1311.899999999978,
          1300.5999999999794,
          1267.1999999999791,
          1109.0999999999804,
          1071.2999999999804,
          1034.9999999999802,
          963.7999999999801,
          913.4999999999814,
          854.5999999999815,
          931.7999999999815,
          1074.4999999999839,
          1085.9999999999848,
          1090.3999999999846,
          1054.0999999999867,
          1063.2999999999847,
          1035.4999999999848,
          1030.599999999985,
          998.1999999999837,
          991.0999999999826,
          920.8999999999824,
          901.6999999999816,
          873.499999999979,
          860.5999999999789,
          883.1999999999782,
          881.999999999977,
          875.3999999999771,
          912.299999999979,
          883.3999999999785,
          852.0999999999797,
          687.899999999979,
          612.2999999999802,
          599.9999999999795,
          596.2999999999804,
          589.8999999999807,
          603.1999999999814,
          579.2999999999803,
          665.7999999999807,
          805.8999999999809,
          824.5999999999813,
          838.3999999999807,
          855.6999999999807,
          843.7999999999805,
          778.9999999999801,
          761.2999999999807,
          744.6999999999808,
          664.9999999999804,
          639.3999999999804,
          627.899999999981,
          564.1999999999812,
          555.1999999999808,
          517.2999999999812,
          494.0999999999809,
          471.39999999998054,
          439.4999999999803,
          363.69999999997964,
          356.2999999999808,
          349.79999999998154,
          345.79999999998205,
          374.599999999982,
          332.9999999999809,
          341.69999999998015,
          449.49999999998056,
          511.69999999998555,
          523.1999999999854,
          474.09999999998513,
          462.3999999999847,
          434.2999999999849,
          430.7999999999853,
          412.599999999986,
          330.19999999998794,
          327.39999999998736,
          328.6999999999869,
          318.2999999999856,
          308.5999999999853,
          274.3999999999867,
          209.49999999998872,
          184.79999999998745,
          180.59999999998658,
          202.79999999998657,
          203.9999999999866,
          201.69999999998535,
          205.99999999998465,
          195.69999999998245,
          151.99999999998482,
          131.99999999998482,
          111.09999999998557,
          80.5999999999856,
          72.69999999998589,
          106.59999999998593,
          128.5999999999858,
          101.39999999998525,
          72.79999999998671,
          76.79999999998627,
          4.199999999986815,
          -74.10000000001322,
          -107.90000000001261,
          -155.0000000000109,
          -165.10000000001082,
          -155.9000000000105,
          -176.40000000001032,
          -164.5000000000101,
          -150.80000000001183,
          -172.10000000001148,
          -200.10000000001062,
          -190.10000000001244,
          -11.400000000011943,
          72.59999999998928,
          35.09999999998884,
          -0.3000000000125027,
          -14.400000000013037,
          -103.50000000001324,
          -147.0000000000129,
          -183.80000000001309,
          119.39999999998531,
          415.4999999999834,
          609.2999999999829,
          711.0999999999826,
          754.0999999999823,
          815.6999999999823,
          882.3999999999819,
          887.6999999999827,
          900.799999999983,
          889.099999999983,
          892.299999999984,
          824.9999999999848,
          774.9999999999858,
          774.7999999999856,
          822.4999999999861,
          825.0999999999858,
          875.9999999999851,
          825.8999999999855,
          800.1999999999837,
          803.7999999999839,
          806.5999999999844,
          792.2999999999844,
          775.3999999999846,
          796.899999999985,
          787.2999999999843,
          780.399999999984,
          757.0999999999846,
          741.0999999999849,
          733.6999999999841,
          704.4999999999837,
          691.6999999999837,
          706.299999999985,
          640.9999999999858,
          598.6999999999862,
          618.6999999999854,
          693.7999999999857,
          746.1999999999871,
          756.3999999999872,
          839.7999999999873,
          920.5999999999882,
          959.7999999999886,
          946.5999999999885,
          943.9999999999893,
          945.0999999999888,
          947.499999999989,
          934.8999999999886,
          934.7999999999881,
          900.1999999999886,
          931.5999999999877,
          974.899999999987,
          967.1999999999877,
          851.8999999999859,
          822.8999999999869,
          661.3999999999847,
          305.6999999999849,
          237.89999999998759,
          204.59999999998885,
          237.79999999999035,
          191.7999999999912,
          183.1999999999926,
          73.7999999999931,
          98.89999999999323,
          72.9999999999923,
          67.19999999999204,
          60.399999999991905,
          3.4999999999921343,
          -14.40000000000709,
          -22.700000000007066,
          -34.70000000000796,
          -34.10000000000847,
          -78.50000000000847,
          -159.60000000000736,
          -150.80000000000743,
          -129.90000000000595,
          -162.10000000000593,
          -181.50000000000645,
          -218.3000000000055,
          -237.90000000000512,
          -260.9000000000037,
          -278.20000000000374,
          -318.7000000000051,
          -348.6000000000056,
          -381.000000000004,
          -386.600000000004,
          -404.90000000000174,
          -434.1000000000032,
          -487.10000000000144,
          -485.3000000000014,
          -497.50000000000136,
          -501.1000000000016,
          -537.2000000000028,
          -596.1000000000014,
          -706.700000000001,
          -733.8000000000006,
          -755.8000000000004,
          -780.0999999999999,
          -790.9000000000008,
          -916.1,
          -930.6000000000003,
          -894.0000000000002,
          -559.1000000000012,
          -523.9000000000026,
          -523.5000000000022,
          -533.1000000000029,
          -580.4000000000041,
          -596.6000000000037,
          -637.3000000000069,
          -555.2000000000074,
          -584.7000000000075,
          -356.700000000006,
          -149.40000000000686,
          -172.90000000000822,
          -148.7000000000091,
          -175.6000000000088,
          -143.40000000000992,
          -170.20000000001,
          -180.00000000000847,
          -198.9000000000092,
          -173.90000000000893,
          -175.00000000000992,
          -166.0000000000098,
          -175.40000000000921,
          -186.1000000000074,
          -210.60000000000804,
          -198.3000000000074,
          -225.30000000000888,
          -220.80000000001013,
          -235.20000000001068,
          -239.40000000001044,
          -253.90000000000995,
          -274.90000000000657,
          -258.2000000000049,
          -270.8000000000035,
          -322.00000000000364,
          -353.5000000000041,
          -328.10000000000423,
          -341.70000000000226,
          -356.30000000000354,
          -409.10000000000304,
          -430.8000000000031,
          -437.8000000000045,
          -451.6000000000039,
          -415.90000000000396,
          -418.4000000000037,
          -440.1000000000015,
          -510.29999999999956,
          -493.3999999999992,
          -547.8999999999979,
          -543.3999999999977,
          -528.8999999999969,
          -539.0999999999971,
          -555.699999999997,
          -558.2999999999985,
          -571.500000000001,
          -348.8000000000009,
          -344.1000000000012,
          -292.1000000000014,
          -16.000000000003638,
          -23.400000000003267,
          -52.70000000000314,
          -104.70000000000329,
          -154.30000000000405,
          -118.60000000000412,
          -154.6000000000046,
          -165.90000000000535,
          -197.5000000000056,
          -231.10000000000366,
          -241.10000000000366,
          -138.90000000000362,
          -335.20000000000397,
          -302.60000000000247,
          -268.90000000000373,
          -354.4000000000043,
          -335.80000000000217,
          -340.5999999999995,
          -449.40000000000066,
          -498.9999999999992,
          -545.700000000001,
          -578.5000000000013,
          -581.1000000000005,
          -584.7000000000006,
          -620.9000000000002,
          -622.3000000000012,
          -633.5000000000013,
          -666.5000000000002,
          -728,
          -868.6000000000022,
          -923.300000000003,
          -962.3000000000031,
          -893.4000000000025,
          -853.4000000000025,
          -848.0000000000026,
          -746.6000000000033,
          -673.1000000000023,
          -718.6000000000022,
          -693.9000000000008,
          -696.0000000000014,
          -691.8000000000027,
          -707.8000000000031,
          -416.40000000000373,
          -307.40000000000464,
          -279.1000000000079,
          -268.30000000000894,
          -276.9000000000088,
          -265.5000000000112,
          -326.90000000001373,
          -288.6000000000137,
          -244.4000000000156,
          -262.3000000000152,
          -205.8000000000139,
          -216.10000000001406,
          -252.30000000001326,
          -266.6000000000133,
          -229.20000000001602,
          -266.90000000001686,
          -304.0000000000165,
          -414.3000000000145,
          -433.70000000001477,
          -319.3000000000136,
          -317.7000000000142,
          -314.3000000000141,
          -411.00000000001256,
          -426.2000000000122,
          -446.500000000012,
          -547.5000000000119,
          -566.6000000000128,
          -586.4000000000145,
          -623.800000000017,
          -637.9000000000184,
          -627.9000000000195,
          -634.3000000000188,
          -672.4000000000198,
          -678.4000000000202,
          -661.60000000002,
          -679.6000000000203,
          -560.400000000021,
          -628.8000000000195,
          -615.800000000021,
          -689.5000000000205,
          -667.4000000000201,
          -631.3000000000189,
          -599.9000000000198,
          -599.800000000019,
          -640.1000000000182,
          -657.3000000000177,
          -677.500000000018,
          -731.5000000000186,
          -673.5000000000184,
          -672.3000000000172,
          -618.300000000018,
          -635.2000000000178,
          -425.1000000000173,
          -278.3000000000184,
          -156.70000000002,
          -132.00000000001805,
          -166.6000000000184,
          -71.50000000001934,
          -98.90000000001899,
          -2.000000000018602,
          -42.500000000018716,
          -45.70000000001858,
          -42.500000000019824,
          47.89999999998008,
          65.59999999998058,
          60.4999999999827,
          182.199999999984,
          180.89999999998213,
          187.999999999982,
          170.99999999998167,
          169.99999999998178,
          142.0999999999833,
          137.59999999998269,
          137.3999999999814,
          145.89999999998156,
          124.3999999999806,
          132.39999999997892,
          91.39999999997926,
          129.89999999998076,
          70.79999999997995,
          40.09999999998088,
          28.29999999997907,
          93.09999999997868,
          84.09999999997746,
          75.29999999997753,
          53.79999999997656,
          57.19999999997663,
          92.59999999997763,
          70.79999999997692,
          79.19999999997421,
          86.39999999997475,
          145.5999999999742,
          177.89999999997298,
          193.59999999997257,
          276.0999999999735,
          354.59999999997314,
          420.0999999999734,
          470.7999999999747,
          474.9999999999754,
          521.1999999999761,
          522.9999999999767,
          521.5999999999764,
          533.2999999999753,
          554.9999999999776,
          461.0999999999764,
          548.299999999977,
          537.8999999999775,
          504.79999999997824,
          499.3999999999784,
          679.5999999999799,
          664.6999999999778,
          661.2999999999777,
          728.3999999999776,
          730.4999999999781,
          729.9999999999785,
          793.8999999999793,
          724.5999999999805,
          668.1999999999819,
          643.1999999999827,
          611.9999999999828,
          608.3999999999816,
          781.0999999999842,
          801.499999999985,
          897.7999999999853,
          981.6999999999865,
          977.3999999999859,
          991.1999999999864,
          967.2999999999874,
          933.2999999999889,
          927.6999999999891,
          914.0999999999896,
          881.9999999999892,
          875.5999999999894,
          717.9999999999923,
          772.1999999999942,
          862.999999999994,
          883.7999999999948,
          880.6999999999945,
          845.7999999999945,
          774.1999999999962,
          729.4999999999965,
          729.6999999999974,
          724.899999999997,
          686.499999999997,
          675.2999999999961,
          668.9000000000002,
          662.8000000000002,
          639.0000000000017,
          615.4999999999995,
          604.2999999999995,
          582.8999999999992,
          562.199999999996,
          518.2999999999976,
          532.9999999999973,
          505.5999999999977,
          525.9999999999981,
          457.1999999999964,
          451.79999999999654,
          459.2999999999968,
          414.49999999999784,
          295.09999999999843,
          263.2999999999966,
          266.3999999999969,
          263.2999999999963,
          273.0999999999961,
          388.0999999999923,
          417.99999999999227,
          610.7999999999905,
          643.5999999999912,
          726.0999999999916,
          749.2999999999926,
          732.599999999992,
          704.4999999999922,
          680.3999999999919,
          649.7999999999913,
          629.2999999999915,
          615.2999999999909,
          586.3999999999893,
          585.7999999999898,
          582.7999999999893,
          580.9999999999886,
          568.9999999999882,
          567.099999999989,
          840.1999999999884,
          821.9999999999869,
          802.7999999999865,
          828.7999999999856,
          831.5999999999864,
          827.4999999999861,
          948.499999999985,
          921.9999999999835,
          925.8999999999843,
          897.6999999999838,
          876.5999999999832,
          868.599999999985,
          850.0999999999859,
          858.8999999999859,
          838.8999999999859,
          839.9999999999853,
          841.3999999999863,
          813.4999999999857,
          805.4999999999844,
          864.1999999999833,
          1075.799999999984,
          1074.0999999999858,
          1073.4999999999864,
          1003.5999999999862,
          1186.3999999999846,
          1156.7999999999838,
          1135.39999999998,
          1099.6999999999803,
          1043.9999999999807,
          1016.4999999999807,
          991.9999999999811,
          996.3999999999811,
          1026.7999999999813,
          971.1999999999806,
          974.299999999981,
          969.1999999999808,
          1146.39999999998,
          1137.0999999999792,
          1170.4999999999782,
          1239.9999999999773,
          1444.3999999999774,
          1463.3999999999753,
          1444.8999999999744,
          1402.4999999999732,
          1398.899999999974,
          1350.4999999999732,
          1320.4999999999743,
          1273.299999999975,
          1247.6999999999762,
          1233.399999999976,
          1211.7999999999765,
          1182.2999999999765,
          1143.7999999999774,
          1120.3999999999785,
          1176.1999999999798,
          1154.1999999999798,
          1133.3999999999812,
          1115.7999999999813,
          1141.3999999999812,
          1105.6999999999828,
          1097.1999999999834,
          1087.8999999999846,
          1075.599999999984,
          1105.799999999984,
          1138.1999999999882,
          939.3999999999862,
          930.8999999999863,
          912.4999999999852,
          909.099999999986,
          926.3999999999849,
          920.8999999999866,
          1034.5999999999874,
          1012.1999999999883,
          1108.3999999999892,
          1222.599999999989,
          1284.3999999999896,
          1356.29999999999,
          1315.1999999999916,
          1358.299999999993,
          1505.7999999999922,
          1482.199999999993,
          1471.299999999995,
          1619.2999999999952,
          1624.2999999999947,
          1619.4999999999943,
          1610.3999999999935,
          1560.6999999999912,
          1517.1999999999905,
          1444.0999999999913,
          1467.0999999999901,
          1504.099999999991,
          1508.3999999999903,
          1501.2999999999904,
          1562.5999999999901,
          1559.0999999999906,
          1634.9999999999916,
          1629.7999999999909,
          1575.8999999999915,
          1548.4999999999918,
          1632.6999999999916,
          1560.4999999999939,
          1563.0999999999945,
          1414.5999999999945,
          1320.499999999994,
          1279.999999999994,
          1237.3999999999953,
          1247.7999999999947,
          1254.1999999999935,
          1252.1999999999937,
          1220.4999999999948,
          1211.7999999999945,
          1204.5999999999935,
          1199.4999999999934,
          1221.0999999999929,
          1227.2999999999913,
          1280.3999999999905,
          1272.3999999999921,
          1198.9999999999932,
          1087.4999999999952,
          1084.2999999999954,
          1126.9999999999934,
          1149.6999999999935,
          1157.199999999993,
          1188.5999999999945,
          1148.6999999999948,
          1106.1999999999973,
          1083.9999999999973,
          1045.3999999999965,
          1041.4999999999952,
          1041.3999999999946,
          1037.9999999999945,
          1024.7999999999947,
          998.5999999999941,
          984.199999999993,
          959.8999999999911,
          1108.4999999999902,
          1134.4999999999884,
          1077.499999999989,
          1036.8999999999905,
          1007.0999999999907,
          1128.7999999999852,
          1111.8999999999844,
          1118.6999999999846,
          1111.499999999984,
          1133.999999999981,
          1166.8999999999817,
          1160.199999999982,
          1135.4999999999814,
          1201.8999999999794,
          1229.999999999979,
          1205.299999999979,
          1233.2999999999804,
          1246.6999999999794,
          1235.8999999999796,
          1274.8999999999794,
          1260.0999999999772,
          1273.3999999999767,
          1352.4999999999752,
          1405.699999999975,
          1610.6999999999755,
          1597.2999999999765,
          1718.7999999999813,
          1837.7999999999815,
          1983.8999999999817,
          1975.9999999999823,
          1975.9999999999823,
          1969.1999999999832,
          1985.4999999999839,
          2020.8999999999837,
          1940.2999999999854,
          1964.2999999999872,
          1896.299999999988,
          1934.5999999999885,
          1903.3999999999885,
          1907.5999999999872,
          1888.1999999999866,
          1777.7999999999865,
          1732.4999999999864,
          1706.6999999999882,
          1663.9999999999884,
          1672.4999999999898,
          1611.1999999999923,
          1554.199999999996,
          1540.8999999999965,
          1508.8999999999965,
          1490.8999999999958,
          1516.4999999999982,
          1478.1,
          1559.7000000000005,
          1540.800000000002,
          1532.9000000000012,
          1534.900000000001,
          1549.1000000000006,
          1477.199999999997,
          1451.0999999999988,
          1439.1999999999985,
          1424.2999999999986,
          1342.5,
          1309.800000000001,
          1274.3,
          1242.9000000000008,
          1122.400000000002,
          1079.4000000000017,
          1029.800000000001,
          987.0000000000008,
          957.4000000000016,
          964.9000000000004,
          892.5000000000014,
          915.3000000000025,
          756.1000000000031,
          597.0000000000033,
          511.8000000000028,
          499.3000000000031,
          462.6000000000041,
          452.900000000005,
          469.10000000000275,
          394.30000000000416,
          415.40000000000475,
          441.4000000000052,
          431.1000000000055,
          429.6000000000054,
          419.50000000000585,
          424.200000000003,
          529.2000000000025,
          488.30000000000337,
          559.7000000000036,
          657.8000000000034,
          591.2000000000029,
          547.8000000000028,
          519.5000000000028,
          510.1000000000012,
          493.699999999999,
          501.3000000000003,
          508.2,
          513.1000000000006,
          496.9999999999989,
          474.6999999999988,
          464.39999999999935,
          420.7999999999975,
          424.1999999999976,
          420.3999999999973,
          387.89999999999753,
          310.0999999999947,
          350.4999999999924,
          351.3999999999927,
          365.1999999999918,
          415.5999999999933,
          444.4999999999917,
          300.39999999999134,
          294.09999999999224,
          277.7999999999922,
          264.3999999999927,
          213.59999999999297,
          201.3999999999941,
          175.6999999999932,
          167.09999999999349,
          73.59999999999108,
          -21.20000000001251,
          -27.200000000011315,
          -94.6000000000121,
          -294.1000000000112,
          -333.30000000001047,
          -312.8000000000105,
          -225.50000000001148,
          -222.10000000001222,
          -262.60000000001105,
          -342.6000000000133,
          -358.3000000000122,
          -384.30000000001155,
          -331.2000000000123,
          -369.90000000001095,
          -357.0000000000097,
          -374.30000000001064,
          -386.4000000000139,
          -415.5000000000136,
          -415.0000000000114,
          -426.1000000000108,
          -421.90000000001106,
          -425.80000000000837,
          -501.00000000000693,
          -539.1000000000056,
          -538.5000000000056,
          -546.3000000000059,
          -634.4000000000035,
          -716.6000000000035,
          -722.2000000000041,
          -739.300000000004,
          -658.6000000000038,
          -518.3000000000047,
          -255.20000000000203,
          -196.20000000000232,
          -263.8000000000025,
          -55.700000000002575,
          -82.10000000000517,
          43.99999999999382,
          57.099999999994154,
          25.999999999992472,
          24.999999999992582,
          16.399999999993973,
          4.89999999999524,
          2.49999999999506,
          65.59999999999535,
          63.19999999999575,
          112.79999999999418,
          132.3999999999923,
          137.89999999999281,
          149.59999999999286,
          119.19999999999132,
          104.2999999999914,
          112.29999999999052,
          119.0999999999903,
          113.3999999999923,
          156.89999999999102,
          119.79999999998986,
          112.79999999998859,
          79.0999999999887,
          59.79999999998883,
          61.29999999998746,
          54.599999999986736,
          30.59999999998716,
          -33.50000000001421,
          -34.70000000001541,
          -19.50000000001242,
          -23.000000000012612,
          -50.100000000012514,
          -84.7000000000127,
          -109.40000000001241,
          -133.70000000001394,
          -212.00000000001407,
          -263.70000000001323,
          -288.1000000000148,
          -297.40000000001515,
          -310.20000000001573,
          -330.20000000001573,
          -337.60000000001423,
          -404.7000000000128,
          -441.70000000001374,
          -468.4000000000132,
          -475.50000000001313,
          -500.7000000000122,
          -427.5000000000093,
          -474.80000000000905,
          -492.10000000000804,
          -492.5000000000084,
          -490.3000000000084,
          -508.6000000000077,
          -564.0000000000065,
          -587.6000000000057,
          -609.9000000000052,
          -616.1000000000058,
          -648.7000000000062,
          -632.6000000000062,
          -713.8000000000033,
          -719.3000000000012,
          -748.9000000000004,
          -742.6999999999995,
          -578.0999999999992,
          -492.40000000000066,
          -471.20000000000005,
          -493.19999999999993,
          -501.3999999999993,
          -512.3999999999992,
          -532.3999999999992,
          -543.5999999999987,
          -571.299999999998,
          -585.6999999999969,
          -478.0999999999982,
          -485.69999999999976,
          -487.1,
          -496.5999999999999,
          -424.9999999999994,
          -349.6000000000003,
          -276.60000000000167,
          -220.40000000000097,
          -190.60000000000116,
          -220.60000000000008,
          -255.49999999999778,
          -278.59999999999866,
          -281.3999999999981,
          -295.19999999999857,
          -294.09999999999803,
          -286.89999999999645,
          -296.2999999999964,
          -321.49999999999704,
          -336.29999999999666,
          -337.7999999999965,
          -312.69999999999607,
          -120.09999999999314,
          23.000000000008583,
          114.20000000000928,
          43.40000000000953,
          19.80000000000813,
          35.10000000000622,
          17.200000000006636,
          -33.59999999999252,
          -72.19999999999004,
          -42.399999999990655,
          -35.99999999999092,
          -39.3999999999901,
          -43.29999999999025,
          -58.29999999999082,
          -71.59999999998914,
          -87.39999999998926,
          -114.69999999999047,
          -122.89999999998983,
          -196.5999999999889,
          -200.99999999998886,
          -224.69999999998868,
          -238.69999999998745,
          -292.1999999999883,
          -293.39999999998724,
          -306.89999999998685,
          -301.69999999998606,
          -335.49999999998545,
          -352.79999999998444,
          -357.3999999999866,
          -365.1999999999857,
          -343.59999999998524,
          -319.09999999998735,
          -279.5999999999873,
          -219.39999999998594,
          -111.89999999998446,
          -96.59999999998442,
          -66.19999999998367,
          -58.4999999999843,
          -43.59999999998549,
          -102.39999999998443,
          -138.5999999999862,
          -170.99999999998752,
          -168.699999999988,
          -182.69999999998947,
          -193.19999999998757,
          -241.79999999998896,
          -269.399999999988,
          -339.2999999999874,
          -346.3999999999873,
          -365.5999999999885,
          -367.9999999999887,
          -370.79999999998927,
          -376.09999999998956,
          -438.499999999989,
          -449.7999999999897,
          -468.19999999998817,
          -482.5999999999888,
          -466.7999999999895,
          -437.3999999999901,
          -455.5999999999916,
          -462.5999999999931,
          -477.29999999999393,
          -493.89999999999236,
          -539.9999999999912,
          -527.3999999999909,
          -549.1999999999894,
          -552.0999999999884,
          -581.7999999999876,
          -602.799999999987,
          -657.7999999999885,
          -658.9999999999885,
          -694.9999999999905,
          -752.1999999999899,
          -739.5999999999907,
          -738.9999999999912,
          -730.3999999999915,
          -785.199999999993,
          -788.5999999999931,
          -807.7999999999923,
          -837.599999999991,
          -856.7999999999925,
          -863.8999999999888,
          -888.0999999999901,
          -857.599999999992,
          -856.9999999999919,
          -868.7999999999922,
          -878.3999999999926,
          -902.7999999999926,
          -923.7999999999918,
          -955.1999999999939,
          -976.7999999999955,
          -959.3999999999959,
          -946.7999999999967,
          -1050.399999999996,
          -1055.8999999999962,
          -1136.1999999999991,
          -1233.7000000000007,
          -1207.7000000000003,
          -1249,
          -1287.300000000001,
          -1352.3000000000018,
          -1437.2000000000028,
          -1405.7000000000053,
          -1396.7000000000062,
          -1407.700000000005,
          -1417.1000000000056,
          -1467.3000000000059,
          -1481.0000000000068,
          -1490.5000000000068,
          -1504.0000000000064,
          -1513.400000000008,
          -1521.3000000000088,
          -1535.5000000000098,
          -1553.600000000009,
          -1547.8000000000093,
          -1590.60000000001,
          -1595.0000000000077,
          -1608.6000000000092,
          -1620.4000000000087,
          -1744.2000000000094,
          -1738.6000000000104,
          -1793.0000000000111,
          -1853.1000000000108,
          -1868.2000000000098,
          -1880.1000000000113,
          -1880.7000000000112,
          -1900.7000000000135,
          -1929.8000000000131,
          -1933.1000000000138,
          -1939.8000000000134,
          -1940.400000000014,
          -1949.1000000000142,
          -1947.5000000000136,
          -1921.2000000000123,
          -1951.7000000000123,
          -1990.8000000000109,
          -2063.8000000000093,
          -2087.000000000008,
          -2093.600000000007,
          -2095.900000000007,
          -2100.100000000007,
          -2114.9000000000065,
          -2122.6000000000067,
          -2130.600000000008,
          -2130.900000000008,
          -2196.400000000009,
          -2202.0000000000086,
          -2209.700000000009,
          -2214.2000000000085,
          -2214.100000000008,
          -2292.900000000009,
          -2264.800000000007,
          -2350.3000000000075,
          -2300.7000000000066,
          -2292.0000000000064,
          -1788.400000000003,
          -1814.6000000000045,
          -1825.4000000000042,
          -1651.8000000000065,
          -1672.5000000000068,
          -1521.7000000000073,
          -1321.000000000007,
          -1333.4000000000067,
          -1437.8000000000068,
          -1447.3000000000077,
          -1228.700000000009,
          -1358.600000000011,
          -1305.6000000000124,
          -1441.600000000014,
          -1610.400000000014,
          -1687.7000000000135,
          -1718.0000000000132,
          -1644.9000000000156,
          -1597.100000000016,
          -1442.9000000000149,
          -1503.6000000000163,
          -1534.1000000000163,
          -1536.800000000016,
          -1567.2000000000155,
          -1633.2000000000148,
          -1687.7000000000144,
          -1710.3000000000136,
          -1781.7000000000128,
          -1857.3000000000134,
          -1848.100000000013,
          -1870.800000000012,
          -1902.500000000011,
          -1884.8000000000104,
          -1914.40000000001,
          -1915.4000000000106,
          -1931.400000000011,
          -1925.000000000009,
          -1924.6000000000088,
          -1925.4000000000096,
          -1958.5000000000089,
          -1954.100000000009,
          -1991.5000000000098,
          -1954.6000000000106,
          -1919.2000000000107,
          -1958.7000000000098,
          -1883.6000000000108,
          -1896.9000000000106,
          -1899.2000000000116,
          -1900.6000000000126,
          -1747.3000000000145,
          -1672.4000000000142,
          -1618.9000000000153,
          -1601.700000000016,
          -1632.1000000000154,
          -1638.1000000000147,
          -1644.9000000000126,
          -1652.600000000012,
          -1702.0000000000114,
          -1707.000000000013,
          -1825.8000000000106,
          -1862.500000000013,
          -1923.5000000000143,
          -1962.6000000000129,
          -1958.0000000000139,
          -1839.800000000014,
          -1862.2000000000119,
          -1843.900000000013,
          -1704.8000000000136,
          -1724.0000000000127,
          -1574.8000000000102,
          -1481.600000000007,
          -1516.000000000009,
          -1518.8000000000097,
          -1535.10000000001,
          -1578.50000000001,
          -1631.500000000011,
          -1736.5000000000123,
          -1752.4000000000121,
          -1753.7000000000119,
          -1776.3000000000102,
          -1644.4000000000099,
          -1475.2000000000082,
          -1488.6000000000095,
          -1506.8000000000088,
          -1505.1000000000097,
          -1512.3000000000102,
          -1542.6000000000113,
          -1520.1000000000124,
          -1583.5000000000134,
          -1570.9000000000128,
          -1622.800000000012,
          -1612.2000000000126,
          -1573.200000000014,
          -1541.4000000000158,
          -1579.400000000016,
          -1591.7000000000166,
          -1587.8000000000134,
          -1580.0000000000134,
          -1621.1000000000108,
          -1608.5000000000105,
          -1631.7000000000091,
          -1621.000000000009,
          -1626.2000000000098,
          -1643.800000000011,
          -1650.1000000000113,
          -1644.4000000000106,
          -1674.7000000000107,
          -1712.8000000000088,
          -1751.3000000000088,
          -1676.7000000000107,
          -1606.7000000000073,
          -1597.6000000000076,
          -1606.5000000000098,
          -1612.3000000000075,
          -1614.100000000008,
          -1629.4000000000076,
          -1622.8000000000075,
          -1647.300000000008,
          -1547.200000000009,
          -1555.9000000000083,
          -1564.5000000000068,
          -1584.0000000000075,
          -1616.2000000000078,
          -1625.4000000000071,
          -1574.9000000000053,
          -1474.200000000005,
          -1553.1000000000067,
          -1501.0000000000066,
          -1466.800000000006,
          -1508.6000000000063,
          -1529.5000000000077,
          -1511.600000000007,
          -1551.2000000000066,
          -1546.7000000000082,
          -1599.0000000000086,
          -1451.0000000000093,
          -1462.8000000000088,
          -1538.600000000008,
          -1542.1000000000088,
          -1545.900000000008,
          -1480.2000000000085,
          -1406.000000000011,
          -1410.4000000000106,
          -1401.50000000001,
          -1438.8000000000122,
          -1455.3000000000127,
          -1469.600000000012,
          -1493.2000000000123,
          -1475.3000000000127,
          -1429.0000000000157,
          -1428.0000000000157,
          -1350.0000000000177,
          -1355.200000000017,
          -1367.0000000000166,
          -1367.100000000016,
          -1398.9000000000156,
          -1379.1000000000167,
          -1394.6000000000167,
          -1402.300000000016,
          -1414.4000000000153,
          -1440.7000000000153,
          -1508.4000000000165,
          -1480.9000000000162,
          -1480.5000000000146,
          -1551.8000000000163,
          -1721.8000000000152,
          -1616.3000000000168,
          -1756.5000000000177,
          -1782.3000000000175,
          -1609.300000000017,
          -1603.400000000018,
          -1611.600000000016,
          -1597.4000000000162,
          -1594.7000000000164,
          -1591.0000000000166,
          -1599.200000000017,
          -1597.1000000000167,
          -1598.200000000015,
          -1598.1000000000165,
          -1600.000000000018,
          -1655.7000000000166,
          -1583.5000000000166,
          -1609.900000000017,
          -1534.600000000018,
          -1544.4000000000194,
          -1533.80000000002,
          -1533.6000000000208,
          -1655.4000000000206,
          -1659.8000000000204,
          -1675.6000000000206,
          -1669.1000000000201,
          -1706.90000000002,
          -1673.8000000000209,
          -1727.8000000000222,
          -1812.0000000000225,
          -1769.800000000025,
          -1767.8000000000254,
          -1772.6000000000247,
          -1744.8000000000247,
          -1781.6000000000238,
          -1834.4000000000258,
          -1724.500000000024,
          -1594.300000000026,
          -1433.0000000000264,
          -1382.6000000000258,
          -1484.100000000026,
          -1511.200000000026,
          -1494.100000000026,
          -1465.300000000026,
          -1458.3000000000268,
          -1403.3000000000277,
          -1415.6000000000267,
          -1430.1000000000263,
          -1432.800000000026,
          -1435.4000000000242,
          -1424.5000000000239,
          -1399.600000000024,
          -1399.9000000000242,
          -1437.6000000000247,
          -1424.8000000000252,
          -1433.4000000000237,
          -1440.5000000000236,
          -1452.5000000000246,
          -1459.3000000000247,
          -1459.1000000000245,
          -1496.6000000000245,
          -1505.0000000000239,
          -1617.7000000000257,
          -1691.100000000027,
          -1735.3000000000268,
          -1795.2000000000264,
          -1764.5000000000261,
          -1710.0000000000246,
          -1660.100000000025,
          -1694.3000000000247,
          -1727.700000000026,
          -1732.100000000026,
          -1664.6000000000251,
          -1595.900000000027,
          -1499.8000000000268,
          -1417.9000000000253,
          -1391.0000000000246,
          -1465.900000000022,
          -1476.3000000000222,
          -1550.000000000022,
          -1576.5000000000225,
          -1585.3000000000225,
          -1579.800000000022,
          -1609.0000000000211,
          -1668.4000000000162,
          -1689.7000000000157,
          -1717.7000000000157,
          -1817.900000000015,
          -1944.6000000000129,
          -1969.9000000000133,
          -2000.1000000000113,
          -2050.7000000000107,
          -1933.600000000013,
          -1676.6000000000124,
          -1041.5000000000116,
          -721.0000000000114,
          -722.5000000000101,
          -627.8000000000093,
          -491.3000000000077,
          -457.40000000000765,
          -412.9000000000081,
          -394.30000000000837,
          -325.3000000000086,
          -368.5000000000096,
          -379.7000000000097,
          -249.40000000001237,
          -63.90000000001203,
          -104.00000000001272,
          -142.20000000001207,
          -155.80000000001124,
          -190.30000000001075,
          -207.3000000000111,
          -261.9000000000113,
          -254.60000000001008,
          -226.00000000000884,
          -156.50000000001097,
          -121.40000000000862,
          -76.90000000001018,
          -82.80000000001219,
          -62.900000000012824,
          -20.400000000014174,
          -13.30000000001429,
          -10.50000000001371,
          -30.500000000015238,
          -107.40000000001427,
          -136.20000000001394,
          -268.7000000000141,
          -279.00000000001353,
          -271.70000000001454,
          -337.8000000000146,
          -319.0000000000166,
          -440.800000000016,
          -449.0000000000153,
          -469.20000000001437,
          -479.60000000001367,
          -498.90000000001356,
          -499.00000000001313,
          -507.9000000000126,
          -507.9000000000126,
          -556.600000000013,
          -558.500000000012,
          -530.200000000011,
          -547.0000000000122,
          -547.4000000000126,
          -554.8000000000134,
          -452.2000000000129,
          -455.1000000000124,
          -582.7000000000119,
          -595.7000000000127,
          -768.0000000000123,
          -824.0000000000127,
          -834.7000000000129,
          -831.1000000000126,
          -846.2000000000137,
          -856.0000000000135,
          -734.900000000014,
          -821.4000000000144,
          -853.1000000000133,
          -898.3000000000142,
          -926.7000000000137,
          -765.0000000000138,
          -777.4000000000133,
          -767.500000000013,
          -769.700000000014,
          -706.500000000013,
          -808.800000000012,
          -810.5000000000119,
          -845.7000000000123,
          -852.8000000000122,
          -811.7000000000121,
          -828.7000000000124,
          -778.6000000000137,
          -755.9000000000133,
          -828.4000000000142,
          -805.8000000000148,
          -833.3000000000151,
          -791.6000000000136,
          -798.5000000000143,
          -793.3000000000146,
          -807.3000000000153,
          -849.7000000000155,
          -927.3000000000154,
          -1138.600000000014,
          -1236.9000000000135,
          -1204.800000000012,
          -1252.100000000012,
          -1262.9000000000117,
          -1283.2000000000103,
          -1315.1000000000106,
          -1334.2000000000091,
          -1419.100000000008,
          -1392.2000000000085,
          -1395.9000000000083,
          -1399.500000000009,
          -1394.1000000000092,
          -1329.4000000000094,
          -1318.600000000009,
          -1346.200000000009,
          -1468.600000000011,
          -1469.7000000000107,
          -1487.700000000011,
          -1513.2000000000114,
          -1266.6000000000101,
          -1277.5000000000105,
          -1118.9000000000106,
          -960.9000000000102,
          -846.1000000000087,
          -443.40000000000873,
          -175.4000000000094,
          79.39999999999077,
          254.9999999999905,
          240.79999999999075,
          243.69999999999197,
          282.59999999999366,
          272.29999999999393,
          244.99999999999383,
          244.19999999999413,
          244.19999999999413,
          308.2999999999944,
          304.29999999999484,
          300.19999999999374,
          212.6999999999934,
          183.29999999999396,
          179.2999999999953,
          230.09999999999485,
          198.99999999999494,
          156.1999999999964,
          -107.20000000000488,
          -131.00000000000483,
          -258.90000000000356,
          -429.600000000004,
          -433.7000000000042,
          -389.40000000000316,
          -373.10000000000184,
          -280.2000000000039,
          -296.30000000000257,
          -292.10000000000383,
          -277.30000000000456,
          -301.4000000000048,
          -289.0000000000053,
          -204.2000000000054,
          -250.3000000000043,
          -255.30000000000487,
          -239.5000000000035,
          -266.90000000000316,
          -387.30000000000257,
          -678.700000000001,
          -785.1000000000057,
          -793.9000000000057,
          -721.9000000000058,
          -532.500000000007,
          -447.2000000000062,
          -333.60000000000696,
          -182.9000000000089,
          -166.10000000000875,
          -144.50000000000935,
          -181.60000000000926,
          -193.00000000001106,
          -431.3000000000088,
          -453.00000000000887,
          -427.4000000000099,
          -396.2000000000107,
          -446.2000000000096,
          -496.4000000000069,
          -544.4000000000074,
          -547.3000000000075,
          -555.4000000000078,
          -578.8000000000064,
          -582.2000000000071,
          -595.7000000000046,
          -560.700000000004,
          -571.1000000000033,
          -559.7000000000029,
          -565.8000000000029,
          -546.0000000000005,
          -542.5000000000002,
          -563.3,
          -629.8000000000004,
          -675.5999999999996,
          -680.900000000001,
          -720.900000000001,
          -737.8000000000006,
          -758.5000000000008,
          -765.300000000001,
          -779.5000000000008,
          -773.3000000000012,
          -675.199999999998,
          -699.6999999999975,
          -749.6999999999975,
          -728.1999999999988,
          -737.4999999999998,
          -769.1,
          -790.3000000000023,
          -843.9000000000025,
          -899.7000000000018,
          -792.6000000000054,
          -766.9000000000058,
          -752.4000000000062,
          -754.3000000000064,
          -729.0000000000081,
          -759.9000000000071,
          -823.6000000000088,
          -851.9000000000087,
          -862.4000000000092,
          -849.1000000000075,
          -871.200000000008,
          -877.2000000000096,
          -835.0000000000095,
          -645.1000000000105,
          -507.60000000001315,
          -278.60000000001486,
          -319.50000000001523,
          -363.60000000001327,
          -403.6000000000133,
          -435.0000000000125,
          -438.7000000000123,
          -450.40000000001123,
          -439.20000000001227,
          -434.4000000000119,
          -386.800000000012,
          -403.9000000000119,
          -404.3000000000123,
          -412.00000000001387,
          -485.400000000014,
          -440.40000000001515,
          -285.00000000001387,
          -189.10000000001622,
          -14.200000000015052,
          -24.00000000001486,
          11.999999999983391,
          -12.800000000015832,
          -33.60000000001443,
          44.199999999985664,
          78.99999999998383,
          106.19999999998439,
          163.09999999998473,
          193.5999999999854,
          240.29999999998495,
          311.59999999998354,
          304.1999999999828,
          301.99999999998175,
          310.0999999999804,
          310.19999999998106,
          281.9999999999825,
          230.1999999999813,
          210.39999999998258,
          215.19999999998294,
          193.79999999998307,
          187.5999999999833,
          182.8999999999836,
          173.39999999998102,
          133.0999999999813,
          131.79999999998054,
          106.79999999997948,
          115.59999999998028,
          138.29999999998023,
          137.99999999997826,
          179.69999999997833,
          175.69999999997765,
          188.69999999997623,
          199.39999999997616,
          166.49999999997527,
          142.09999999997592,
          16.399999999972763,
          0.3999999999723052,
          -62.70000000002824,
          -25.100000000028388,
          -29.400000000028804,
          -17.200000000028815,
          0.09999999997016573,
          4.099999999968659,
          -1.700000000030613,
          -10.400000000032009,
          -14.000000000032145,
          62.29999999996811,
          40.29999999996831,
          99.39999999996752,
          96.19999999996654,
          87.49999999996727,
          19.79999999996643,
          -31.10000000003396,
          -67.50000000003261,
          -104.80000000003166,
          -121.4000000000328,
          -39.30000000003372,
          98.99999999996635,
          150.19999999996568,
          115.49999999996714,
          385.2999999999658,
          358.39999999996553,
          383.69999999996475,
          371.69999999996384,
          441.79999999996346,
          420.0999999999634,
          409.99999999996385,
          401.4999999999637,
          404.599999999964,
          425.3999999999648,
          420.9999999999661,
          401.5999999999656,
          367.49999999996425,
          417.299999999963,
          420.5999999999624,
          379.99999999996476,
          354.7999999999652,
          327.49999999996624,
          270.8999999999663,
          255.3999999999662,
          250.19999999996546,
          244.99999999996598,
          247.59999999996523,
          363.0999999999647,
          529.699999999963,
          479.69999999996185,
          490.69999999996173,
          461.2999999999613,
          564.1999999999609,
          528.3999999999596,
          528.3999999999596,
          497.3999999999608,
          520.7999999999603,
          537.69999999996,
          501.29999999995914,
          414.5999999999607,
          311.39999999995996,
          298.6999999999595,
          289.5999999999587,
          297.49999999995714,
          298.39999999995746,
          277.09999999995495,
          419.49999999995634,
          416.89999999995706,
          406.5999999999584,
          489.2999999999562,
          495.9999999999568,
          523.4999999999571,
          522.299999999956,
          497.99999999995555,
          439.1999999999548,
          434.29999999995414,
          412.2999999999521,
          413.5999999999526,
          639.4999999999516,
          642.6999999999514,
          597.599999999949,
          592.9999999999477,
          643.199999999948,
          630.399999999948,
          659.9999999999466,
          794.7999999999479,
          785.1999999999472,
          783.4999999999476,
          768.5999999999459,
          781.1999999999441,
          755.8999999999427,
          623.5999999999415,
          598.1999999999416,
          586.3999999999421,
          581.0999999999418,
          614.6999999999414,
          584.8999999999415,
          570.399999999942,
          546.8999999999412,
          542.8999999999405,
          548.4999999999417,
          519.8999999999409,
          509.09999999994113,
          498.19999999994127,
          360.7999999999393,
          338.99999999994026,
          312.1999999999401,
          357.39999999993864,
          305.2999999999357,
          298.59999999993624,
          323.7999999999359,
          308.79999999993674,
          322.5999999999372,
          322.6999999999375,
          323.19999999993746,
          316.89999999993836,
          317.29999999993765,
          313.1999999999402,
          398.39999999994103,
          453.5999999999417,
          436.49999999994293,
          363.19999999994286,
          395.49999999994463,
          392.69999999994405,
          373.699999999945,
          368.8999999999469,
          415.49999999995,
          333.89999999994905,
          423.49999999994986,
          429.19999999994945,
          424.1999999999483,
          395.4999999999468,
          405.4999999999462,
          395.8999999999455,
          391.5999999999447,
          389.1999999999445,
          390.09999999994454,
          386.2999999999441,
          363.2999999999455,
          204.599999999945,
          171.79999999994453,
          173.19999999994482,
          150.39999999994535,
          169.09999999994574,
          186.59999999994602,
          146.79999999994618,
          135.79999999994516,
          155.29999999994337,
          141.29999999994354,
          152.49999999994301,
          156.09999999994218,
          162.8999999999401,
          160.8999999999381,
          178.39999999993728,
          537.8999999999374,
          593.9999999999386,
          600.1999999999371,
          662.5999999999373,
          653.1999999999356,
          638.9999999999336,
          832.6999999999325,
          865.4999999999332,
          875.5999999999318,
          867.5999999999304,
          884.2999999999306,
          853.5999999999306,
          835.9999999999302,
          835.9999999999302,
          823.1999999999307,
          817.0999999999307,
          820.6999999999308,
          912.5999999999311,
          909.6999999999321,
          911.4999999999321,
          911.2999999999312,
          908.2999999999311,
          1065.399999999931,
          1119.1999999999305,
          1137.9999999999295,
          1118.4999999999281,
          1224.3999999999276,
          1470.4999999999263,
          1498.6999999999275,
          1472.4999999999268,
          1681.8999999999253,
          1666.6999999999257,
          1689.0999999999258,
          1761.199999999927,
          1720.4999999999268,
          1714.6999999999266,
          1789.7999999999267,
          1763.2999999999263,
          1845.099999999926,
          1900.7999999999267,
          1868.5999999999267,
          1865.4999999999263,
          1796.799999999927,
          1776.3999999999266,
          1774.7999999999274,
          1762.199999999927,
          1854.8999999999282,
          2034.8999999999285,
          2046.5999999999285,
          1920.3999999999278,
          1921.799999999928,
          1897.6999999999273,
          1892.8999999999287,
          1871.8999999999287,
          1835.599999999928,
          1846.599999999929,
          1824.9999999999295,
          1765.2999999999315,
          1807.7999999999324,
          1804.5999999999337,
          1799.6999999999339,
          1740.099999999934,
          1698.899999999934,
          1690.6999999999346,
          1659.099999999935,
          1635.499999999934,
          1614.2999999999329,
          1569.599999999933,
          1517.7999999999333,
          1553.0999999999315,
          1510.8999999999326,
          1466.0999999999297,
          1436.29999999993,
          1432.19999999993,
          1584.4999999999286,
          1643.6999999999284,
          1651.2999999999272,
          1802.8999999999278,
          1811.0999999999283,
          2044.8999999999278,
          2252.699999999928,
          2257.7999999999283,
          2236.699999999928,
          2495.7999999999283,
          2487.999999999928,
          2595.1999999999275,
          2760.5999999999244,
          2756.4999999999254,
          2687.999999999927,
          2676.8999999999273,
          2776.0999999999267,
          2828.199999999926,
          2870.999999999927,
          2848.999999999927,
          2824.7999999999283,
          2861.699999999928,
          2850.199999999928,
          2829.299999999929,
          2803.399999999929,
          2797.9999999999295,
          2776.2999999999297,
          2802.79999999993,
          2784.9999999999313,
          2766.599999999932,
          2747.6999999999325,
          2721.5999999999326,
          2728.099999999932,
          2716.099999999932,
          2695.699999999932,
          2979.2999999999315,
          3915.0999999999285,
          3961.2999999999274,
          4080.499999999927,
          4116.599999999927,
          4126.599999999926,
          4111.199999999925,
          4094.4999999999245,
          4086.799999999923,
          4083.5999999999217,
          4103.599999999922,
          4127.699999999922,
          4140.899999999921,
          4077.499999999919,
          4068.4999999999177,
          4340.299999999916,
          4325.799999999915,
          4313.099999999914,
          4271.9999999999145,
          4235.599999999914,
          4220.599999999915,
          4207.599999999914,
          4331.799999999915,
          4164.299999999915,
          4163.999999999912,
          4139.29999999991,
          4112.999999999912,
          4059.7999999999142,
          4019.8999999999132,
          3996.999999999912,
          3997.1999999999107,
          3984.89999999991,
          3975.499999999911,
          3998.29999999991,
          4015.1999999999084,
          3986.3999999999087,
          3963.2999999999074,
          3940.9999999999077,
          3935.399999999908,
          3923.7999999999074,
          3873.5999999999067,
          3856.1999999999075,
          3834.5999999999067,
          3871.099999999907,
          3871.599999999906,
          3882.999999999906,
          3873.499999999906,
          3924.499999999904,
          3955.1999999999034,
          3958.0999999999035,
          3989.3999999999032,
          4031.199999999904,
          4036.799999999903,
          4037.299999999903,
          3967.3999999999032,
          3928.9999999999027,
          3908.399999999901,
          3873.0999999999,
          3903.5999999998976,
          3917.3999999998973,
          3939.299999999894,
          3982.899999999893,
          4084.499999999894,
          4057.899999999895,
          3943.0999999998953,
          3913.6999999998957,
          3915.299999999896,
          3915.099999999896,
          3912.899999999897,
          3868.699999999897,
          3856.2999999998974,
          3869.599999999898,
          3871.799999999898,
          3862.0999999998985,
          3880.299999999898,
          3888.2999999998983,
          3967.299999999897,
          3948.0999999998976,
          3899.699999999898,
          4001.099999999897,
          4062.3999999998964,
          4034.499999999895,
          3982.799999999896,
          3954.699999999896,
          3799.6999999998966,
          3756.699999999897,
          3744.0999999998967,
          3706.6999999998966,
          3677.999999999897,
          3667.9999999998963,
          3667.9999999998963,
          3658.199999999898,
          3624.299999999898,
          3547.2999999998983,
          3523.399999999895,
          3437.3999999998946,
          3508.599999999895,
          3540.7999999998947,
          3543.0999999998953,
          3589.7999999998947,
          3575.899999999891,
          3574.9999999998904,
          3655.7999999998897,
          3644.399999999891,
          3643.1999999998907,
          3641.999999999891,
          3645.9999999998895,
          3570.2999999998888,
          3652.699999999889,
          3710.8999999998887,
          3691.2999999998874,
          3698.499999999888,
          3720.1999999998875,
          3634.399999999887,
          3636.399999999887,
          3633.7999999998874,
          3600.699999999888,
          3556.5999999998876,
          3510.0999999998867,
          3498.7999999998883,
          3477.899999999888,
          3479.499999999888,
          3463.2999999998883,
          3480.9999999998886,
          3542.8999999998878,
          3489.299999999886,
          3521.399999999886,
          3513.199999999885,
          3486.1999999998848,
          3456.9999999998845,
          3459.899999999886,
          3412.999999999887,
          3368.699999999888,
          3350.399999999889,
          3381.699999999891,
          3366.9999999998918,
          3325.899999999893,
          3300.6999999998925,
          3260.699999999891,
          3252.1999999998907,
          3252.7999999998906,
          3234.1999999998907,
          3229.199999999891,
          3223.599999999891,
          3229.0999999998917,
          3231.6999999998925,
          3219.899999999893,
          3205.3999999998937,
          3184.1999999998943,
          3171.6999999998948,
          3154.299999999894,
          3129.0999999998958,
          3147.3999999998955,
          3185.099999999895,
          3330.799999999894,
          3473.599999999892,
          3516.6999999998925,
          3503.199999999893,
          3485.2999999998933,
          3474.2999999998933,
          3472.099999999892,
          3470.8999999998928,
          3466.699999999892,
          3454.3999999998923,
          3414.9999999998918,
          3382.3999999998937,
          3367.699999999893,
          3348.699999999893,
          3321.3999999998928,
          3307.999999999893,
          3323.799999999894,
          3314.8999999998937,
          3372.899999999894,
          3339.299999999895,
          3288.2999999998947,
          3308.399999999894,
          3323.3999999998914,
          3321.49999999989,
          3282.7999999998874,
          3276.799999999886,
          3262.8999999998855,
          3258.599999999884,
          3257.6999999998825,
          3251.799999999883,
          3240.299999999884,
          3253.7999999998838,
          3258.5999999998808,
          3226.899999999881,
          3200.49999999988,
          3214.199999999881,
          3204.99999999988,
          3189.7999999998815,
          3206.0999999998817,
          3216.0999999998808,
          3210.699999999881,
          3185.299999999881,
          3152.4999999998795,
          3173.6999999998784,
          3143.3999999998773,
          3140.499999999878,
          3148.6999999998775,
          3118.299999999878,
          3083.899999999877,
          3115.4999999998763,
          3142.9999999998754,
          3179.8999999998764,
          3180.899999999877,
          3176.2999999998765,
          3174.999999999876,
          3137.2999999998765,
          3145.0999999998767,
          3165.499999999877,
          3155.3999999998773,
          3096.0999999998776,
          3092.599999999878,
          3094.8999999998778,
          3076.1999999998757,
          3047.799999999876,
          3044.2999999998765
         ]
        }
       ],
       "layout": {
        "font": {
         "color": "#e1e1e1",
         "size": 10
        },
        "height": 400,
        "margin": {
         "b": 10,
         "l": 15,
         "r": 15
        },
        "paper_bgcolor": "#1e1e1e",
        "plot_bgcolor": "#1e1e1e",
        "template": {
         "data": {
          "bar": [
           {
            "error_x": {
             "color": "#2a3f5f"
            },
            "error_y": {
             "color": "#2a3f5f"
            },
            "marker": {
             "line": {
              "color": "#E5ECF6",
              "width": 0.5
             },
             "pattern": {
              "fillmode": "overlay",
              "size": 10,
              "solidity": 0.2
             }
            },
            "type": "bar"
           }
          ],
          "barpolar": [
           {
            "marker": {
             "line": {
              "color": "#E5ECF6",
              "width": 0.5
             },
             "pattern": {
              "fillmode": "overlay",
              "size": 10,
              "solidity": 0.2
             }
            },
            "type": "barpolar"
           }
          ],
          "carpet": [
           {
            "aaxis": {
             "endlinecolor": "#2a3f5f",
             "gridcolor": "white",
             "linecolor": "white",
             "minorgridcolor": "white",
             "startlinecolor": "#2a3f5f"
            },
            "baxis": {
             "endlinecolor": "#2a3f5f",
             "gridcolor": "white",
             "linecolor": "white",
             "minorgridcolor": "white",
             "startlinecolor": "#2a3f5f"
            },
            "type": "carpet"
           }
          ],
          "choropleth": [
           {
            "colorbar": {
             "outlinewidth": 0,
             "ticks": ""
            },
            "type": "choropleth"
           }
          ],
          "contour": [
           {
            "colorbar": {
             "outlinewidth": 0,
             "ticks": ""
            },
            "colorscale": [
             [
              0,
              "#0d0887"
             ],
             [
              0.1111111111111111,
              "#46039f"
             ],
             [
              0.2222222222222222,
              "#7201a8"
             ],
             [
              0.3333333333333333,
              "#9c179e"
             ],
             [
              0.4444444444444444,
              "#bd3786"
             ],
             [
              0.5555555555555556,
              "#d8576b"
             ],
             [
              0.6666666666666666,
              "#ed7953"
             ],
             [
              0.7777777777777778,
              "#fb9f3a"
             ],
             [
              0.8888888888888888,
              "#fdca26"
             ],
             [
              1,
              "#f0f921"
             ]
            ],
            "type": "contour"
           }
          ],
          "contourcarpet": [
           {
            "colorbar": {
             "outlinewidth": 0,
             "ticks": ""
            },
            "type": "contourcarpet"
           }
          ],
          "heatmap": [
           {
            "colorbar": {
             "outlinewidth": 0,
             "ticks": ""
            },
            "colorscale": [
             [
              0,
              "#0d0887"
             ],
             [
              0.1111111111111111,
              "#46039f"
             ],
             [
              0.2222222222222222,
              "#7201a8"
             ],
             [
              0.3333333333333333,
              "#9c179e"
             ],
             [
              0.4444444444444444,
              "#bd3786"
             ],
             [
              0.5555555555555556,
              "#d8576b"
             ],
             [
              0.6666666666666666,
              "#ed7953"
             ],
             [
              0.7777777777777778,
              "#fb9f3a"
             ],
             [
              0.8888888888888888,
              "#fdca26"
             ],
             [
              1,
              "#f0f921"
             ]
            ],
            "type": "heatmap"
           }
          ],
          "heatmapgl": [
           {
            "colorbar": {
             "outlinewidth": 0,
             "ticks": ""
            },
            "colorscale": [
             [
              0,
              "#0d0887"
             ],
             [
              0.1111111111111111,
              "#46039f"
             ],
             [
              0.2222222222222222,
              "#7201a8"
             ],
             [
              0.3333333333333333,
              "#9c179e"
             ],
             [
              0.4444444444444444,
              "#bd3786"
             ],
             [
              0.5555555555555556,
              "#d8576b"
             ],
             [
              0.6666666666666666,
              "#ed7953"
             ],
             [
              0.7777777777777778,
              "#fb9f3a"
             ],
             [
              0.8888888888888888,
              "#fdca26"
             ],
             [
              1,
              "#f0f921"
             ]
            ],
            "type": "heatmapgl"
           }
          ],
          "histogram": [
           {
            "marker": {
             "pattern": {
              "fillmode": "overlay",
              "size": 10,
              "solidity": 0.2
             }
            },
            "type": "histogram"
           }
          ],
          "histogram2d": [
           {
            "colorbar": {
             "outlinewidth": 0,
             "ticks": ""
            },
            "colorscale": [
             [
              0,
              "#0d0887"
             ],
             [
              0.1111111111111111,
              "#46039f"
             ],
             [
              0.2222222222222222,
              "#7201a8"
             ],
             [
              0.3333333333333333,
              "#9c179e"
             ],
             [
              0.4444444444444444,
              "#bd3786"
             ],
             [
              0.5555555555555556,
              "#d8576b"
             ],
             [
              0.6666666666666666,
              "#ed7953"
             ],
             [
              0.7777777777777778,
              "#fb9f3a"
             ],
             [
              0.8888888888888888,
              "#fdca26"
             ],
             [
              1,
              "#f0f921"
             ]
            ],
            "type": "histogram2d"
           }
          ],
          "histogram2dcontour": [
           {
            "colorbar": {
             "outlinewidth": 0,
             "ticks": ""
            },
            "colorscale": [
             [
              0,
              "#0d0887"
             ],
             [
              0.1111111111111111,
              "#46039f"
             ],
             [
              0.2222222222222222,
              "#7201a8"
             ],
             [
              0.3333333333333333,
              "#9c179e"
             ],
             [
              0.4444444444444444,
              "#bd3786"
             ],
             [
              0.5555555555555556,
              "#d8576b"
             ],
             [
              0.6666666666666666,
              "#ed7953"
             ],
             [
              0.7777777777777778,
              "#fb9f3a"
             ],
             [
              0.8888888888888888,
              "#fdca26"
             ],
             [
              1,
              "#f0f921"
             ]
            ],
            "type": "histogram2dcontour"
           }
          ],
          "mesh3d": [
           {
            "colorbar": {
             "outlinewidth": 0,
             "ticks": ""
            },
            "type": "mesh3d"
           }
          ],
          "parcoords": [
           {
            "line": {
             "colorbar": {
              "outlinewidth": 0,
              "ticks": ""
             }
            },
            "type": "parcoords"
           }
          ],
          "pie": [
           {
            "automargin": true,
            "type": "pie"
           }
          ],
          "scatter": [
           {
            "marker": {
             "colorbar": {
              "outlinewidth": 0,
              "ticks": ""
             }
            },
            "type": "scatter"
           }
          ],
          "scatter3d": [
           {
            "line": {
             "colorbar": {
              "outlinewidth": 0,
              "ticks": ""
             }
            },
            "marker": {
             "colorbar": {
              "outlinewidth": 0,
              "ticks": ""
             }
            },
            "type": "scatter3d"
           }
          ],
          "scattercarpet": [
           {
            "marker": {
             "colorbar": {
              "outlinewidth": 0,
              "ticks": ""
             }
            },
            "type": "scattercarpet"
           }
          ],
          "scattergeo": [
           {
            "marker": {
             "colorbar": {
              "outlinewidth": 0,
              "ticks": ""
             }
            },
            "type": "scattergeo"
           }
          ],
          "scattergl": [
           {
            "marker": {
             "colorbar": {
              "outlinewidth": 0,
              "ticks": ""
             }
            },
            "type": "scattergl"
           }
          ],
          "scattermapbox": [
           {
            "marker": {
             "colorbar": {
              "outlinewidth": 0,
              "ticks": ""
             }
            },
            "type": "scattermapbox"
           }
          ],
          "scatterpolar": [
           {
            "marker": {
             "colorbar": {
              "outlinewidth": 0,
              "ticks": ""
             }
            },
            "type": "scatterpolar"
           }
          ],
          "scatterpolargl": [
           {
            "marker": {
             "colorbar": {
              "outlinewidth": 0,
              "ticks": ""
             }
            },
            "type": "scatterpolargl"
           }
          ],
          "scatterternary": [
           {
            "marker": {
             "colorbar": {
              "outlinewidth": 0,
              "ticks": ""
             }
            },
            "type": "scatterternary"
           }
          ],
          "surface": [
           {
            "colorbar": {
             "outlinewidth": 0,
             "ticks": ""
            },
            "colorscale": [
             [
              0,
              "#0d0887"
             ],
             [
              0.1111111111111111,
              "#46039f"
             ],
             [
              0.2222222222222222,
              "#7201a8"
             ],
             [
              0.3333333333333333,
              "#9c179e"
             ],
             [
              0.4444444444444444,
              "#bd3786"
             ],
             [
              0.5555555555555556,
              "#d8576b"
             ],
             [
              0.6666666666666666,
              "#ed7953"
             ],
             [
              0.7777777777777778,
              "#fb9f3a"
             ],
             [
              0.8888888888888888,
              "#fdca26"
             ],
             [
              1,
              "#f0f921"
             ]
            ],
            "type": "surface"
           }
          ],
          "table": [
           {
            "cells": {
             "fill": {
              "color": "#EBF0F8"
             },
             "line": {
              "color": "white"
             }
            },
            "header": {
             "fill": {
              "color": "#C8D4E3"
             },
             "line": {
              "color": "white"
             }
            },
            "type": "table"
           }
          ]
         },
         "layout": {
          "annotationdefaults": {
           "arrowcolor": "#2a3f5f",
           "arrowhead": 0,
           "arrowwidth": 1
          },
          "autotypenumbers": "strict",
          "coloraxis": {
           "colorbar": {
            "outlinewidth": 0,
            "ticks": ""
           }
          },
          "colorscale": {
           "diverging": [
            [
             0,
             "#8e0152"
            ],
            [
             0.1,
             "#c51b7d"
            ],
            [
             0.2,
             "#de77ae"
            ],
            [
             0.3,
             "#f1b6da"
            ],
            [
             0.4,
             "#fde0ef"
            ],
            [
             0.5,
             "#f7f7f7"
            ],
            [
             0.6,
             "#e6f5d0"
            ],
            [
             0.7,
             "#b8e186"
            ],
            [
             0.8,
             "#7fbc41"
            ],
            [
             0.9,
             "#4d9221"
            ],
            [
             1,
             "#276419"
            ]
           ],
           "sequential": [
            [
             0,
             "#0d0887"
            ],
            [
             0.1111111111111111,
             "#46039f"
            ],
            [
             0.2222222222222222,
             "#7201a8"
            ],
            [
             0.3333333333333333,
             "#9c179e"
            ],
            [
             0.4444444444444444,
             "#bd3786"
            ],
            [
             0.5555555555555556,
             "#d8576b"
            ],
            [
             0.6666666666666666,
             "#ed7953"
            ],
            [
             0.7777777777777778,
             "#fb9f3a"
            ],
            [
             0.8888888888888888,
             "#fdca26"
            ],
            [
             1,
             "#f0f921"
            ]
           ],
           "sequentialminus": [
            [
             0,
             "#0d0887"
            ],
            [
             0.1111111111111111,
             "#46039f"
            ],
            [
             0.2222222222222222,
             "#7201a8"
            ],
            [
             0.3333333333333333,
             "#9c179e"
            ],
            [
             0.4444444444444444,
             "#bd3786"
            ],
            [
             0.5555555555555556,
             "#d8576b"
            ],
            [
             0.6666666666666666,
             "#ed7953"
            ],
            [
             0.7777777777777778,
             "#fb9f3a"
            ],
            [
             0.8888888888888888,
             "#fdca26"
            ],
            [
             1,
             "#f0f921"
            ]
           ]
          },
          "colorway": [
           "#636efa",
           "#EF553B",
           "#00cc96",
           "#ab63fa",
           "#FFA15A",
           "#19d3f3",
           "#FF6692",
           "#B6E880",
           "#FF97FF",
           "#FECB52"
          ],
          "font": {
           "color": "#2a3f5f"
          },
          "geo": {
           "bgcolor": "white",
           "lakecolor": "white",
           "landcolor": "#E5ECF6",
           "showlakes": true,
           "showland": true,
           "subunitcolor": "white"
          },
          "hoverlabel": {
           "align": "left"
          },
          "hovermode": "closest",
          "mapbox": {
           "style": "light"
          },
          "paper_bgcolor": "white",
          "plot_bgcolor": "#E5ECF6",
          "polar": {
           "angularaxis": {
            "gridcolor": "white",
            "linecolor": "white",
            "ticks": ""
           },
           "bgcolor": "#E5ECF6",
           "radialaxis": {
            "gridcolor": "white",
            "linecolor": "white",
            "ticks": ""
           }
          },
          "scene": {
           "xaxis": {
            "backgroundcolor": "#E5ECF6",
            "gridcolor": "white",
            "gridwidth": 2,
            "linecolor": "white",
            "showbackground": true,
            "ticks": "",
            "zerolinecolor": "white"
           },
           "yaxis": {
            "backgroundcolor": "#E5ECF6",
            "gridcolor": "white",
            "gridwidth": 2,
            "linecolor": "white",
            "showbackground": true,
            "ticks": "",
            "zerolinecolor": "white"
           },
           "zaxis": {
            "backgroundcolor": "#E5ECF6",
            "gridcolor": "white",
            "gridwidth": 2,
            "linecolor": "white",
            "showbackground": true,
            "ticks": "",
            "zerolinecolor": "white"
           }
          },
          "shapedefaults": {
           "line": {
            "color": "#2a3f5f"
           }
          },
          "ternary": {
           "aaxis": {
            "gridcolor": "white",
            "linecolor": "white",
            "ticks": ""
           },
           "baxis": {
            "gridcolor": "white",
            "linecolor": "white",
            "ticks": ""
           },
           "bgcolor": "#E5ECF6",
           "caxis": {
            "gridcolor": "white",
            "linecolor": "white",
            "ticks": ""
           }
          },
          "title": {
           "x": 0.05
          },
          "xaxis": {
           "automargin": true,
           "gridcolor": "white",
           "linecolor": "white",
           "ticks": "",
           "title": {
            "standoff": 15
           },
           "zerolinecolor": "white",
           "zerolinewidth": 2
          },
          "yaxis": {
           "automargin": true,
           "gridcolor": "white",
           "linecolor": "white",
           "ticks": "",
           "title": {
            "standoff": 15
           },
           "zerolinecolor": "white",
           "zerolinewidth": 2
          }
         }
        },
        "title": {
         "text": "MA_8_16"
        },
        "width": 1000,
        "xaxis": {
         "linecolor": "#3a4a54",
         "linewidth": 1,
         "showgrid": false,
         "zeroline": false
        },
        "yaxis": {
         "linecolor": "#3a4a54",
         "linewidth": 1,
         "showgrid": false,
         "zeroline": false
        }
       }
      }
     },
     "metadata": {}
    },
    {
     "output_type": "stream",
     "name": "stdout",
     "text": [
      "                       time      mid_c      DIFF  DIFF_PREV  IS_TRADE  DELTA  \\\n",
      "0 2021-01-20 01:00:00+00:00  103.81000 -0.003531   0.008531        -1  -30.0   \n",
      "1 2021-01-20 02:00:00+00:00    0.88948 -0.000013   0.000024        -1  -33.2   \n",
      "2 2021-01-20 03:00:00+00:00    0.71294  0.000113  -0.000020         1   55.0   \n",
      "3 2021-01-20 06:00:00+00:00    0.69949  0.000014  -0.000153         1   26.9   \n",
      "4 2021-01-20 07:00:00+00:00  116.90800 -0.005094   0.021219        -1  -12.8   \n",
      "\n",
      "   GAIN  MASHORT  MALONG  DURATION  \n",
      "0  30.0        8      32      42.0  \n",
      "1  33.2        8      32      45.0  \n",
      "2  55.0        8      32      51.0  \n",
      "3  26.9        8      32      33.0  \n",
      "4  12.8        8      32      30.0  \n"
     ]
    },
    {
     "output_type": "display_data",
     "data": {
      "application/vnd.plotly.v1+json": {
       "config": {
        "plotlyServerURL": "https://plot.ly"
       },
       "data": [
        {
         "line": {
          "color": "#3d825f",
          "shape": "spline",
          "width": 2
         },
         "mode": "lines",
         "name": "CHF_JPY_GAIN",
         "type": "scatter",
         "x": [
          "2021-01-20T01:00:00+00:00",
          "2021-01-20T02:00:00+00:00",
          "2021-01-20T03:00:00+00:00",
          "2021-01-20T06:00:00+00:00",
          "2021-01-20T07:00:00+00:00",
          "2021-01-20T08:00:00+00:00",
          "2021-01-20T09:00:00+00:00",
          "2021-01-20T10:00:00+00:00",
          "2021-01-20T12:00:00+00:00",
          "2021-01-20T13:00:00+00:00",
          "2021-01-20T15:00:00+00:00",
          "2021-01-20T16:00:00+00:00",
          "2021-01-20T17:00:00+00:00",
          "2021-01-20T18:00:00+00:00",
          "2021-01-20T21:00:00+00:00",
          "2021-01-20T23:00:00+00:00",
          "2021-01-21T05:00:00+00:00",
          "2021-01-21T06:00:00+00:00",
          "2021-01-21T08:00:00+00:00",
          "2021-01-21T11:00:00+00:00",
          "2021-01-21T13:00:00+00:00",
          "2021-01-21T15:00:00+00:00",
          "2021-01-21T16:00:00+00:00",
          "2021-01-21T18:00:00+00:00",
          "2021-01-21T19:00:00+00:00",
          "2021-01-21T21:00:00+00:00",
          "2021-01-21T22:00:00+00:00",
          "2021-01-21T23:00:00+00:00",
          "2021-01-22T06:00:00+00:00",
          "2021-01-22T07:00:00+00:00",
          "2021-01-22T09:00:00+00:00",
          "2021-01-22T11:00:00+00:00",
          "2021-01-22T12:00:00+00:00",
          "2021-01-22T19:00:00+00:00",
          "2021-01-22T21:00:00+00:00",
          "2021-01-24T22:00:00+00:00",
          "2021-01-25T00:00:00+00:00",
          "2021-01-25T03:00:00+00:00",
          "2021-01-25T04:00:00+00:00",
          "2021-01-25T05:00:00+00:00",
          "2021-01-25T07:00:00+00:00",
          "2021-01-25T09:00:00+00:00",
          "2021-01-25T10:00:00+00:00",
          "2021-01-25T11:00:00+00:00",
          "2021-01-25T14:00:00+00:00",
          "2021-01-25T15:00:00+00:00",
          "2021-01-25T16:00:00+00:00",
          "2021-01-25T17:00:00+00:00",
          "2021-01-25T21:00:00+00:00",
          "2021-01-25T22:00:00+00:00",
          "2021-01-26T04:00:00+00:00",
          "2021-01-26T06:00:00+00:00",
          "2021-01-26T07:00:00+00:00",
          "2021-01-26T08:00:00+00:00",
          "2021-01-26T11:00:00+00:00",
          "2021-01-26T13:00:00+00:00",
          "2021-01-26T14:00:00+00:00",
          "2021-01-26T15:00:00+00:00",
          "2021-01-26T17:00:00+00:00",
          "2021-01-26T19:00:00+00:00",
          "2021-01-27T02:00:00+00:00",
          "2021-01-27T03:00:00+00:00",
          "2021-01-27T06:00:00+00:00",
          "2021-01-27T08:00:00+00:00",
          "2021-01-27T10:00:00+00:00",
          "2021-01-27T11:00:00+00:00",
          "2021-01-27T12:00:00+00:00",
          "2021-01-27T13:00:00+00:00",
          "2021-01-27T14:00:00+00:00",
          "2021-01-27T15:00:00+00:00",
          "2021-01-27T18:00:00+00:00",
          "2021-01-27T22:00:00+00:00",
          "2021-01-28T02:00:00+00:00",
          "2021-01-28T10:00:00+00:00",
          "2021-01-28T11:00:00+00:00",
          "2021-01-28T15:00:00+00:00",
          "2021-01-28T17:00:00+00:00",
          "2021-01-28T18:00:00+00:00",
          "2021-01-28T19:00:00+00:00",
          "2021-01-28T20:00:00+00:00",
          "2021-01-28T21:00:00+00:00",
          "2021-01-29T02:00:00+00:00",
          "2021-01-29T04:00:00+00:00",
          "2021-01-29T05:00:00+00:00",
          "2021-01-29T06:00:00+00:00",
          "2021-01-29T09:00:00+00:00",
          "2021-01-29T11:00:00+00:00",
          "2021-01-29T12:00:00+00:00",
          "2021-01-29T13:00:00+00:00",
          "2021-01-29T14:00:00+00:00",
          "2021-01-29T16:00:00+00:00",
          "2021-01-29T20:00:00+00:00",
          "2021-01-29T21:00:00+00:00",
          "2021-01-31T23:00:00+00:00",
          "2021-02-01T01:00:00+00:00",
          "2021-02-01T03:00:00+00:00",
          "2021-02-01T04:00:00+00:00",
          "2021-02-01T05:00:00+00:00",
          "2021-02-01T06:00:00+00:00",
          "2021-02-01T08:00:00+00:00",
          "2021-02-01T09:00:00+00:00",
          "2021-02-01T10:00:00+00:00",
          "2021-02-01T12:00:00+00:00",
          "2021-02-01T13:00:00+00:00",
          "2021-02-01T14:00:00+00:00",
          "2021-02-01T15:00:00+00:00",
          "2021-02-01T17:00:00+00:00",
          "2021-02-01T19:00:00+00:00",
          "2021-02-01T20:00:00+00:00",
          "2021-02-02T00:00:00+00:00",
          "2021-02-02T02:00:00+00:00",
          "2021-02-02T05:00:00+00:00",
          "2021-02-02T06:00:00+00:00",
          "2021-02-02T08:00:00+00:00",
          "2021-02-02T09:00:00+00:00",
          "2021-02-02T11:00:00+00:00",
          "2021-02-02T12:00:00+00:00",
          "2021-02-02T14:00:00+00:00",
          "2021-02-02T15:00:00+00:00",
          "2021-02-02T16:00:00+00:00",
          "2021-02-02T22:00:00+00:00",
          "2021-02-02T23:00:00+00:00",
          "2021-02-03T02:00:00+00:00",
          "2021-02-03T04:00:00+00:00",
          "2021-02-03T06:00:00+00:00",
          "2021-02-03T07:00:00+00:00",
          "2021-02-03T08:00:00+00:00",
          "2021-02-03T11:00:00+00:00",
          "2021-02-03T14:00:00+00:00",
          "2021-02-03T18:00:00+00:00",
          "2021-02-03T20:00:00+00:00",
          "2021-02-03T22:00:00+00:00",
          "2021-02-03T23:00:00+00:00",
          "2021-02-04T00:00:00+00:00",
          "2021-02-04T01:00:00+00:00",
          "2021-02-04T02:00:00+00:00",
          "2021-02-04T03:00:00+00:00",
          "2021-02-04T04:00:00+00:00",
          "2021-02-04T07:00:00+00:00",
          "2021-02-04T08:00:00+00:00",
          "2021-02-04T10:00:00+00:00",
          "2021-02-04T12:00:00+00:00",
          "2021-02-04T13:00:00+00:00",
          "2021-02-04T14:00:00+00:00",
          "2021-02-04T15:00:00+00:00",
          "2021-02-04T16:00:00+00:00",
          "2021-02-04T17:00:00+00:00",
          "2021-02-04T19:00:00+00:00",
          "2021-02-04T21:00:00+00:00",
          "2021-02-05T09:00:00+00:00",
          "2021-02-05T10:00:00+00:00",
          "2021-02-05T13:00:00+00:00",
          "2021-02-05T14:00:00+00:00",
          "2021-02-05T15:00:00+00:00",
          "2021-02-05T16:00:00+00:00",
          "2021-02-05T17:00:00+00:00",
          "2021-02-05T18:00:00+00:00",
          "2021-02-05T19:00:00+00:00",
          "2021-02-05T20:00:00+00:00",
          "2021-02-05T21:00:00+00:00",
          "2021-02-08T06:00:00+00:00",
          "2021-02-08T07:00:00+00:00",
          "2021-02-08T12:00:00+00:00",
          "2021-02-08T13:00:00+00:00",
          "2021-02-08T15:00:00+00:00",
          "2021-02-08T16:00:00+00:00",
          "2021-02-08T17:00:00+00:00",
          "2021-02-08T18:00:00+00:00",
          "2021-02-08T19:00:00+00:00",
          "2021-02-08T20:00:00+00:00",
          "2021-02-08T21:00:00+00:00",
          "2021-02-08T22:00:00+00:00",
          "2021-02-09T04:00:00+00:00",
          "2021-02-09T05:00:00+00:00",
          "2021-02-09T06:00:00+00:00",
          "2021-02-09T08:00:00+00:00",
          "2021-02-09T10:00:00+00:00",
          "2021-02-09T11:00:00+00:00",
          "2021-02-09T12:00:00+00:00",
          "2021-02-09T13:00:00+00:00",
          "2021-02-09T17:00:00+00:00",
          "2021-02-09T20:00:00+00:00",
          "2021-02-09T22:00:00+00:00",
          "2021-02-10T00:00:00+00:00",
          "2021-02-10T04:00:00+00:00",
          "2021-02-10T11:00:00+00:00",
          "2021-02-10T12:00:00+00:00",
          "2021-02-10T14:00:00+00:00",
          "2021-02-10T19:00:00+00:00",
          "2021-02-10T22:00:00+00:00",
          "2021-02-11T00:00:00+00:00",
          "2021-02-11T01:00:00+00:00",
          "2021-02-11T03:00:00+00:00",
          "2021-02-11T04:00:00+00:00",
          "2021-02-11T06:00:00+00:00",
          "2021-02-11T08:00:00+00:00",
          "2021-02-11T09:00:00+00:00",
          "2021-02-11T10:00:00+00:00",
          "2021-02-11T11:00:00+00:00",
          "2021-02-11T13:00:00+00:00",
          "2021-02-11T17:00:00+00:00",
          "2021-02-11T19:00:00+00:00",
          "2021-02-11T21:00:00+00:00",
          "2021-02-12T00:00:00+00:00",
          "2021-02-12T02:00:00+00:00",
          "2021-02-12T04:00:00+00:00",
          "2021-02-12T05:00:00+00:00",
          "2021-02-12T06:00:00+00:00",
          "2021-02-12T07:00:00+00:00",
          "2021-02-12T08:00:00+00:00",
          "2021-02-12T09:00:00+00:00",
          "2021-02-12T10:00:00+00:00",
          "2021-02-12T11:00:00+00:00",
          "2021-02-12T12:00:00+00:00",
          "2021-02-12T13:00:00+00:00",
          "2021-02-12T14:00:00+00:00",
          "2021-02-12T15:00:00+00:00",
          "2021-02-12T16:00:00+00:00",
          "2021-02-12T17:00:00+00:00",
          "2021-02-12T19:00:00+00:00",
          "2021-02-12T20:00:00+00:00",
          "2021-02-12T21:00:00+00:00",
          "2021-02-14T22:00:00+00:00",
          "2021-02-15T05:00:00+00:00",
          "2021-02-15T07:00:00+00:00",
          "2021-02-15T12:00:00+00:00",
          "2021-02-15T14:00:00+00:00",
          "2021-02-15T16:00:00+00:00",
          "2021-02-15T17:00:00+00:00",
          "2021-02-16T04:00:00+00:00",
          "2021-02-16T07:00:00+00:00",
          "2021-02-16T09:00:00+00:00",
          "2021-02-16T10:00:00+00:00",
          "2021-02-16T11:00:00+00:00",
          "2021-02-16T12:00:00+00:00",
          "2021-02-16T14:00:00+00:00",
          "2021-02-16T15:00:00+00:00",
          "2021-02-16T16:00:00+00:00",
          "2021-02-16T17:00:00+00:00",
          "2021-02-16T20:00:00+00:00",
          "2021-02-16T21:00:00+00:00",
          "2021-02-16T22:00:00+00:00",
          "2021-02-16T23:00:00+00:00",
          "2021-02-17T05:00:00+00:00",
          "2021-02-17T06:00:00+00:00",
          "2021-02-17T07:00:00+00:00",
          "2021-02-17T08:00:00+00:00",
          "2021-02-17T11:00:00+00:00",
          "2021-02-17T13:00:00+00:00",
          "2021-02-17T14:00:00+00:00",
          "2021-02-17T15:00:00+00:00",
          "2021-02-17T20:00:00+00:00",
          "2021-02-17T22:00:00+00:00",
          "2021-02-18T00:00:00+00:00",
          "2021-02-18T03:00:00+00:00",
          "2021-02-18T08:00:00+00:00",
          "2021-02-18T09:00:00+00:00",
          "2021-02-18T10:00:00+00:00",
          "2021-02-18T11:00:00+00:00",
          "2021-02-18T13:00:00+00:00",
          "2021-02-18T14:00:00+00:00",
          "2021-02-18T15:00:00+00:00",
          "2021-02-18T18:00:00+00:00",
          "2021-02-19T00:00:00+00:00",
          "2021-02-19T01:00:00+00:00",
          "2021-02-19T03:00:00+00:00",
          "2021-02-19T06:00:00+00:00",
          "2021-02-19T09:00:00+00:00",
          "2021-02-19T11:00:00+00:00",
          "2021-02-19T12:00:00+00:00",
          "2021-02-19T14:00:00+00:00",
          "2021-02-19T18:00:00+00:00",
          "2021-02-19T21:00:00+00:00",
          "2021-02-22T04:00:00+00:00",
          "2021-02-22T08:00:00+00:00",
          "2021-02-22T12:00:00+00:00",
          "2021-02-22T13:00:00+00:00",
          "2021-02-22T14:00:00+00:00",
          "2021-02-22T15:00:00+00:00",
          "2021-02-22T16:00:00+00:00",
          "2021-02-22T17:00:00+00:00",
          "2021-02-22T18:00:00+00:00",
          "2021-02-22T19:00:00+00:00",
          "2021-02-22T21:00:00+00:00",
          "2021-02-23T00:00:00+00:00",
          "2021-02-23T03:00:00+00:00",
          "2021-02-23T04:00:00+00:00",
          "2021-02-23T05:00:00+00:00",
          "2021-02-23T08:00:00+00:00",
          "2021-02-23T09:00:00+00:00",
          "2021-02-23T10:00:00+00:00",
          "2021-02-23T11:00:00+00:00",
          "2021-02-23T12:00:00+00:00",
          "2021-02-23T13:00:00+00:00",
          "2021-02-23T14:00:00+00:00",
          "2021-02-23T15:00:00+00:00",
          "2021-02-23T20:00:00+00:00",
          "2021-02-24T08:00:00+00:00",
          "2021-02-24T09:00:00+00:00",
          "2021-02-24T14:00:00+00:00",
          "2021-02-24T15:00:00+00:00",
          "2021-02-24T17:00:00+00:00",
          "2021-02-24T23:00:00+00:00",
          "2021-02-25T02:00:00+00:00",
          "2021-02-25T04:00:00+00:00",
          "2021-02-25T07:00:00+00:00",
          "2021-02-25T13:00:00+00:00",
          "2021-02-25T15:00:00+00:00",
          "2021-02-25T17:00:00+00:00",
          "2021-02-25T18:00:00+00:00",
          "2021-02-25T19:00:00+00:00",
          "2021-02-25T20:00:00+00:00",
          "2021-02-25T21:00:00+00:00",
          "2021-02-26T00:00:00+00:00",
          "2021-02-26T02:00:00+00:00",
          "2021-02-26T03:00:00+00:00",
          "2021-02-26T05:00:00+00:00",
          "2021-02-26T08:00:00+00:00",
          "2021-02-26T09:00:00+00:00",
          "2021-02-26T11:00:00+00:00",
          "2021-02-26T13:00:00+00:00",
          "2021-02-26T17:00:00+00:00",
          "2021-02-26T18:00:00+00:00",
          "2021-02-26T20:00:00+00:00",
          "2021-02-28T22:00:00+00:00",
          "2021-03-01T03:00:00+00:00",
          "2021-03-01T06:00:00+00:00",
          "2021-03-01T07:00:00+00:00",
          "2021-03-01T08:00:00+00:00",
          "2021-03-01T09:00:00+00:00",
          "2021-03-01T10:00:00+00:00",
          "2021-03-01T11:00:00+00:00",
          "2021-03-01T12:00:00+00:00",
          "2021-03-01T14:00:00+00:00",
          "2021-03-01T15:00:00+00:00",
          "2021-03-01T17:00:00+00:00",
          "2021-03-01T19:00:00+00:00",
          "2021-03-01T23:00:00+00:00",
          "2021-03-02T00:00:00+00:00",
          "2021-03-02T02:00:00+00:00",
          "2021-03-02T04:00:00+00:00",
          "2021-03-02T07:00:00+00:00",
          "2021-03-02T08:00:00+00:00",
          "2021-03-02T10:00:00+00:00",
          "2021-03-02T11:00:00+00:00",
          "2021-03-02T13:00:00+00:00",
          "2021-03-02T14:00:00+00:00",
          "2021-03-02T15:00:00+00:00",
          "2021-03-02T16:00:00+00:00",
          "2021-03-02T17:00:00+00:00",
          "2021-03-02T19:00:00+00:00",
          "2021-03-02T20:00:00+00:00",
          "2021-03-02T21:00:00+00:00",
          "2021-03-02T22:00:00+00:00",
          "2021-03-03T06:00:00+00:00",
          "2021-03-03T07:00:00+00:00",
          "2021-03-03T09:00:00+00:00",
          "2021-03-03T11:00:00+00:00",
          "2021-03-03T12:00:00+00:00",
          "2021-03-03T13:00:00+00:00",
          "2021-03-03T15:00:00+00:00",
          "2021-03-03T16:00:00+00:00",
          "2021-03-03T17:00:00+00:00",
          "2021-03-03T18:00:00+00:00",
          "2021-03-03T23:00:00+00:00",
          "2021-03-04T00:00:00+00:00",
          "2021-03-04T02:00:00+00:00",
          "2021-03-04T07:00:00+00:00",
          "2021-03-04T08:00:00+00:00",
          "2021-03-04T09:00:00+00:00",
          "2021-03-04T12:00:00+00:00",
          "2021-03-04T15:00:00+00:00",
          "2021-03-04T16:00:00+00:00",
          "2021-03-04T19:00:00+00:00",
          "2021-03-04T21:00:00+00:00",
          "2021-03-04T22:00:00+00:00",
          "2021-03-04T23:00:00+00:00",
          "2021-03-05T00:00:00+00:00",
          "2021-03-05T01:00:00+00:00",
          "2021-03-05T07:00:00+00:00",
          "2021-03-05T10:00:00+00:00",
          "2021-03-05T11:00:00+00:00",
          "2021-03-05T13:00:00+00:00",
          "2021-03-05T14:00:00+00:00",
          "2021-03-05T15:00:00+00:00",
          "2021-03-05T18:00:00+00:00",
          "2021-03-05T20:00:00+00:00",
          "2021-03-05T21:00:00+00:00",
          "2021-03-07T22:00:00+00:00",
          "2021-03-07T23:00:00+00:00",
          "2021-03-08T00:00:00+00:00",
          "2021-03-08T05:00:00+00:00",
          "2021-03-08T08:00:00+00:00",
          "2021-03-08T09:00:00+00:00",
          "2021-03-08T10:00:00+00:00",
          "2021-03-08T11:00:00+00:00",
          "2021-03-08T12:00:00+00:00",
          "2021-03-08T13:00:00+00:00",
          "2021-03-08T14:00:00+00:00",
          "2021-03-08T17:00:00+00:00",
          "2021-03-08T18:00:00+00:00",
          "2021-03-08T19:00:00+00:00",
          "2021-03-08T20:00:00+00:00",
          "2021-03-08T21:00:00+00:00",
          "2021-03-08T23:00:00+00:00",
          "2021-03-09T00:00:00+00:00",
          "2021-03-09T03:00:00+00:00",
          "2021-03-09T05:00:00+00:00",
          "2021-03-09T06:00:00+00:00",
          "2021-03-09T07:00:00+00:00",
          "2021-03-09T08:00:00+00:00",
          "2021-03-09T09:00:00+00:00",
          "2021-03-09T10:00:00+00:00",
          "2021-03-09T12:00:00+00:00",
          "2021-03-09T13:00:00+00:00",
          "2021-03-09T14:00:00+00:00",
          "2021-03-09T15:00:00+00:00",
          "2021-03-09T16:00:00+00:00",
          "2021-03-09T17:00:00+00:00",
          "2021-03-09T18:00:00+00:00",
          "2021-03-09T19:00:00+00:00",
          "2021-03-09T20:00:00+00:00",
          "2021-03-09T22:00:00+00:00",
          "2021-03-10T02:00:00+00:00",
          "2021-03-10T05:00:00+00:00",
          "2021-03-10T06:00:00+00:00",
          "2021-03-10T07:00:00+00:00",
          "2021-03-10T08:00:00+00:00",
          "2021-03-10T09:00:00+00:00",
          "2021-03-10T10:00:00+00:00",
          "2021-03-10T11:00:00+00:00",
          "2021-03-10T13:00:00+00:00",
          "2021-03-10T14:00:00+00:00",
          "2021-03-10T15:00:00+00:00",
          "2021-03-10T16:00:00+00:00",
          "2021-03-11T01:00:00+00:00",
          "2021-03-11T02:00:00+00:00",
          "2021-03-11T06:00:00+00:00",
          "2021-03-11T08:00:00+00:00",
          "2021-03-11T12:00:00+00:00",
          "2021-03-11T13:00:00+00:00",
          "2021-03-11T16:00:00+00:00",
          "2021-03-11T17:00:00+00:00",
          "2021-03-11T18:00:00+00:00",
          "2021-03-11T21:00:00+00:00",
          "2021-03-12T00:00:00+00:00",
          "2021-03-12T03:00:00+00:00",
          "2021-03-12T04:00:00+00:00",
          "2021-03-12T07:00:00+00:00",
          "2021-03-12T08:00:00+00:00",
          "2021-03-12T09:00:00+00:00",
          "2021-03-12T10:00:00+00:00",
          "2021-03-12T12:00:00+00:00",
          "2021-03-12T14:00:00+00:00",
          "2021-03-12T16:00:00+00:00",
          "2021-03-14T21:00:00+00:00",
          "2021-03-14T22:00:00+00:00",
          "2021-03-14T23:00:00+00:00",
          "2021-03-15T01:00:00+00:00",
          "2021-03-15T02:00:00+00:00",
          "2021-03-15T04:00:00+00:00",
          "2021-03-15T08:00:00+00:00",
          "2021-03-15T10:00:00+00:00",
          "2021-03-15T12:00:00+00:00",
          "2021-03-15T14:00:00+00:00",
          "2021-03-15T15:00:00+00:00",
          "2021-03-15T16:00:00+00:00",
          "2021-03-15T17:00:00+00:00",
          "2021-03-15T18:00:00+00:00",
          "2021-03-15T19:00:00+00:00",
          "2021-03-15T21:00:00+00:00",
          "2021-03-16T00:00:00+00:00",
          "2021-03-16T02:00:00+00:00",
          "2021-03-16T05:00:00+00:00",
          "2021-03-16T06:00:00+00:00",
          "2021-03-16T08:00:00+00:00",
          "2021-03-16T09:00:00+00:00",
          "2021-03-16T10:00:00+00:00",
          "2021-03-16T12:00:00+00:00",
          "2021-03-16T13:00:00+00:00",
          "2021-03-16T14:00:00+00:00",
          "2021-03-16T15:00:00+00:00",
          "2021-03-16T16:00:00+00:00",
          "2021-03-16T17:00:00+00:00",
          "2021-03-16T18:00:00+00:00",
          "2021-03-16T19:00:00+00:00",
          "2021-03-16T22:00:00+00:00",
          "2021-03-17T04:00:00+00:00",
          "2021-03-17T05:00:00+00:00",
          "2021-03-17T06:00:00+00:00",
          "2021-03-17T09:00:00+00:00",
          "2021-03-17T12:00:00+00:00",
          "2021-03-17T13:00:00+00:00",
          "2021-03-17T14:00:00+00:00",
          "2021-03-17T17:00:00+00:00",
          "2021-03-17T18:00:00+00:00",
          "2021-03-17T19:00:00+00:00",
          "2021-03-17T20:00:00+00:00",
          "2021-03-17T21:00:00+00:00",
          "2021-03-17T23:00:00+00:00",
          "2021-03-18T00:00:00+00:00",
          "2021-03-18T02:00:00+00:00",
          "2021-03-18T05:00:00+00:00",
          "2021-03-18T08:00:00+00:00",
          "2021-03-18T11:00:00+00:00",
          "2021-03-18T12:00:00+00:00",
          "2021-03-18T13:00:00+00:00",
          "2021-03-18T14:00:00+00:00",
          "2021-03-18T15:00:00+00:00",
          "2021-03-18T16:00:00+00:00",
          "2021-03-18T17:00:00+00:00",
          "2021-03-18T18:00:00+00:00",
          "2021-03-18T19:00:00+00:00",
          "2021-03-18T20:00:00+00:00",
          "2021-03-19T00:00:00+00:00",
          "2021-03-19T04:00:00+00:00",
          "2021-03-19T14:00:00+00:00",
          "2021-03-19T15:00:00+00:00",
          "2021-03-19T16:00:00+00:00",
          "2021-03-19T17:00:00+00:00",
          "2021-03-19T19:00:00+00:00",
          "2021-03-22T00:00:00+00:00",
          "2021-03-22T01:00:00+00:00",
          "2021-03-22T02:00:00+00:00",
          "2021-03-22T03:00:00+00:00",
          "2021-03-22T05:00:00+00:00",
          "2021-03-22T10:00:00+00:00",
          "2021-03-22T12:00:00+00:00",
          "2021-03-22T13:00:00+00:00",
          "2021-03-22T14:00:00+00:00",
          "2021-03-22T15:00:00+00:00",
          "2021-03-22T17:00:00+00:00",
          "2021-03-22T18:00:00+00:00",
          "2021-03-22T20:00:00+00:00",
          "2021-03-22T21:00:00+00:00",
          "2021-03-22T23:00:00+00:00",
          "2021-03-23T00:00:00+00:00",
          "2021-03-23T05:00:00+00:00",
          "2021-03-23T09:00:00+00:00",
          "2021-03-23T13:00:00+00:00",
          "2021-03-23T16:00:00+00:00",
          "2021-03-23T19:00:00+00:00",
          "2021-03-23T23:00:00+00:00",
          "2021-03-24T06:00:00+00:00",
          "2021-03-24T12:00:00+00:00",
          "2021-03-24T13:00:00+00:00",
          "2021-03-24T14:00:00+00:00",
          "2021-03-24T16:00:00+00:00",
          "2021-03-24T17:00:00+00:00",
          "2021-03-24T18:00:00+00:00",
          "2021-03-24T19:00:00+00:00",
          "2021-03-24T20:00:00+00:00",
          "2021-03-24T23:00:00+00:00",
          "2021-03-25T00:00:00+00:00",
          "2021-03-25T01:00:00+00:00",
          "2021-03-25T03:00:00+00:00",
          "2021-03-25T04:00:00+00:00",
          "2021-03-25T06:00:00+00:00",
          "2021-03-25T09:00:00+00:00",
          "2021-03-25T12:00:00+00:00",
          "2021-03-25T13:00:00+00:00",
          "2021-03-25T14:00:00+00:00",
          "2021-03-25T17:00:00+00:00",
          "2021-03-25T18:00:00+00:00",
          "2021-03-25T19:00:00+00:00",
          "2021-03-25T21:00:00+00:00",
          "2021-03-26T00:00:00+00:00",
          "2021-03-26T01:00:00+00:00",
          "2021-03-26T04:00:00+00:00",
          "2021-03-26T05:00:00+00:00",
          "2021-03-26T06:00:00+00:00",
          "2021-03-26T11:00:00+00:00",
          "2021-03-26T15:00:00+00:00",
          "2021-03-26T16:00:00+00:00",
          "2021-03-26T20:00:00+00:00",
          "2021-03-28T21:00:00+00:00",
          "2021-03-28T22:00:00+00:00",
          "2021-03-29T00:00:00+00:00",
          "2021-03-29T03:00:00+00:00",
          "2021-03-29T05:00:00+00:00",
          "2021-03-29T06:00:00+00:00",
          "2021-03-29T07:00:00+00:00",
          "2021-03-29T08:00:00+00:00",
          "2021-03-29T09:00:00+00:00",
          "2021-03-29T10:00:00+00:00",
          "2021-03-29T12:00:00+00:00",
          "2021-03-29T14:00:00+00:00",
          "2021-03-29T16:00:00+00:00",
          "2021-03-29T18:00:00+00:00",
          "2021-03-29T19:00:00+00:00",
          "2021-03-29T20:00:00+00:00",
          "2021-03-29T21:00:00+00:00",
          "2021-03-29T22:00:00+00:00",
          "2021-03-29T23:00:00+00:00",
          "2021-03-30T01:00:00+00:00",
          "2021-03-30T02:00:00+00:00",
          "2021-03-30T07:00:00+00:00",
          "2021-03-30T08:00:00+00:00",
          "2021-03-30T11:00:00+00:00",
          "2021-03-30T12:00:00+00:00",
          "2021-03-30T13:00:00+00:00",
          "2021-03-30T15:00:00+00:00",
          "2021-03-30T16:00:00+00:00",
          "2021-03-30T17:00:00+00:00",
          "2021-03-30T18:00:00+00:00",
          "2021-03-30T19:00:00+00:00",
          "2021-03-30T20:00:00+00:00",
          "2021-03-30T21:00:00+00:00",
          "2021-03-30T22:00:00+00:00",
          "2021-03-31T00:00:00+00:00",
          "2021-03-31T02:00:00+00:00",
          "2021-03-31T05:00:00+00:00",
          "2021-03-31T06:00:00+00:00",
          "2021-03-31T07:00:00+00:00",
          "2021-03-31T08:00:00+00:00",
          "2021-03-31T09:00:00+00:00",
          "2021-03-31T11:00:00+00:00",
          "2021-03-31T12:00:00+00:00",
          "2021-03-31T14:00:00+00:00",
          "2021-03-31T17:00:00+00:00",
          "2021-03-31T19:00:00+00:00",
          "2021-03-31T20:00:00+00:00",
          "2021-03-31T22:00:00+00:00",
          "2021-03-31T23:00:00+00:00",
          "2021-04-01T02:00:00+00:00",
          "2021-04-01T04:00:00+00:00",
          "2021-04-01T06:00:00+00:00",
          "2021-04-01T07:00:00+00:00",
          "2021-04-01T09:00:00+00:00",
          "2021-04-01T10:00:00+00:00",
          "2021-04-01T11:00:00+00:00",
          "2021-04-01T12:00:00+00:00",
          "2021-04-01T13:00:00+00:00",
          "2021-04-01T14:00:00+00:00",
          "2021-04-01T15:00:00+00:00",
          "2021-04-01T16:00:00+00:00",
          "2021-04-01T17:00:00+00:00",
          "2021-04-01T22:00:00+00:00",
          "2021-04-01T23:00:00+00:00",
          "2021-04-02T00:00:00+00:00",
          "2021-04-02T02:00:00+00:00",
          "2021-04-02T04:00:00+00:00",
          "2021-04-02T07:00:00+00:00",
          "2021-04-02T08:00:00+00:00",
          "2021-04-02T09:00:00+00:00",
          "2021-04-02T11:00:00+00:00",
          "2021-04-02T12:00:00+00:00",
          "2021-04-02T14:00:00+00:00",
          "2021-04-02T16:00:00+00:00",
          "2021-04-02T17:00:00+00:00",
          "2021-04-02T18:00:00+00:00",
          "2021-04-02T19:00:00+00:00",
          "2021-04-05T01:00:00+00:00",
          "2021-04-05T02:00:00+00:00",
          "2021-04-05T03:00:00+00:00",
          "2021-04-05T04:00:00+00:00",
          "2021-04-05T05:00:00+00:00",
          "2021-04-05T07:00:00+00:00",
          "2021-04-05T08:00:00+00:00",
          "2021-04-05T09:00:00+00:00",
          "2021-04-05T10:00:00+00:00",
          "2021-04-05T12:00:00+00:00",
          "2021-04-05T13:00:00+00:00",
          "2021-04-05T14:00:00+00:00",
          "2021-04-05T15:00:00+00:00",
          "2021-04-05T16:00:00+00:00",
          "2021-04-05T17:00:00+00:00",
          "2021-04-05T18:00:00+00:00",
          "2021-04-05T19:00:00+00:00",
          "2021-04-05T20:00:00+00:00",
          "2021-04-05T22:00:00+00:00",
          "2021-04-05T23:00:00+00:00",
          "2021-04-06T02:00:00+00:00",
          "2021-04-06T03:00:00+00:00",
          "2021-04-06T05:00:00+00:00",
          "2021-04-06T06:00:00+00:00",
          "2021-04-06T07:00:00+00:00",
          "2021-04-06T08:00:00+00:00",
          "2021-04-06T10:00:00+00:00",
          "2021-04-06T11:00:00+00:00",
          "2021-04-06T12:00:00+00:00",
          "2021-04-06T15:00:00+00:00",
          "2021-04-06T16:00:00+00:00",
          "2021-04-06T18:00:00+00:00",
          "2021-04-06T20:00:00+00:00",
          "2021-04-06T21:00:00+00:00",
          "2021-04-07T05:00:00+00:00",
          "2021-04-07T11:00:00+00:00",
          "2021-04-07T15:00:00+00:00",
          "2021-04-07T17:00:00+00:00",
          "2021-04-07T22:00:00+00:00",
          "2021-04-07T23:00:00+00:00",
          "2021-04-08T02:00:00+00:00",
          "2021-04-08T05:00:00+00:00",
          "2021-04-08T06:00:00+00:00",
          "2021-04-08T07:00:00+00:00",
          "2021-04-08T10:00:00+00:00",
          "2021-04-08T12:00:00+00:00",
          "2021-04-08T13:00:00+00:00",
          "2021-04-08T19:00:00+00:00",
          "2021-04-08T20:00:00+00:00",
          "2021-04-08T22:00:00+00:00",
          "2021-04-08T23:00:00+00:00",
          "2021-04-09T00:00:00+00:00",
          "2021-04-09T03:00:00+00:00",
          "2021-04-09T06:00:00+00:00",
          "2021-04-09T08:00:00+00:00",
          "2021-04-09T09:00:00+00:00",
          "2021-04-09T10:00:00+00:00",
          "2021-04-09T11:00:00+00:00",
          "2021-04-09T12:00:00+00:00",
          "2021-04-09T13:00:00+00:00",
          "2021-04-09T14:00:00+00:00",
          "2021-04-09T15:00:00+00:00",
          "2021-04-09T16:00:00+00:00",
          "2021-04-09T18:00:00+00:00",
          "2021-04-09T19:00:00+00:00",
          "2021-04-09T20:00:00+00:00",
          "2021-04-11T21:00:00+00:00",
          "2021-04-11T23:00:00+00:00",
          "2021-04-12T02:00:00+00:00",
          "2021-04-12T03:00:00+00:00",
          "2021-04-12T05:00:00+00:00",
          "2021-04-12T06:00:00+00:00",
          "2021-04-12T07:00:00+00:00",
          "2021-04-12T08:00:00+00:00",
          "2021-04-12T09:00:00+00:00",
          "2021-04-12T10:00:00+00:00",
          "2021-04-12T11:00:00+00:00",
          "2021-04-12T12:00:00+00:00",
          "2021-04-12T13:00:00+00:00",
          "2021-04-12T16:00:00+00:00",
          "2021-04-12T17:00:00+00:00",
          "2021-04-12T18:00:00+00:00",
          "2021-04-13T01:00:00+00:00",
          "2021-04-13T04:00:00+00:00",
          "2021-04-13T05:00:00+00:00",
          "2021-04-13T07:00:00+00:00",
          "2021-04-13T09:00:00+00:00",
          "2021-04-13T10:00:00+00:00",
          "2021-04-13T11:00:00+00:00",
          "2021-04-13T12:00:00+00:00",
          "2021-04-13T13:00:00+00:00",
          "2021-04-13T14:00:00+00:00",
          "2021-04-13T15:00:00+00:00",
          "2021-04-13T16:00:00+00:00",
          "2021-04-13T17:00:00+00:00",
          "2021-04-13T18:00:00+00:00",
          "2021-04-13T20:00:00+00:00",
          "2021-04-13T21:00:00+00:00",
          "2021-04-13T22:00:00+00:00",
          "2021-04-14T00:00:00+00:00",
          "2021-04-14T07:00:00+00:00",
          "2021-04-14T08:00:00+00:00",
          "2021-04-14T10:00:00+00:00",
          "2021-04-14T13:00:00+00:00",
          "2021-04-14T14:00:00+00:00",
          "2021-04-14T18:00:00+00:00",
          "2021-04-14T21:00:00+00:00",
          "2021-04-15T04:00:00+00:00",
          "2021-04-15T08:00:00+00:00",
          "2021-04-15T09:00:00+00:00",
          "2021-04-15T10:00:00+00:00",
          "2021-04-15T11:00:00+00:00",
          "2021-04-15T12:00:00+00:00",
          "2021-04-15T15:00:00+00:00",
          "2021-04-15T16:00:00+00:00",
          "2021-04-15T17:00:00+00:00",
          "2021-04-15T18:00:00+00:00",
          "2021-04-15T19:00:00+00:00",
          "2021-04-16T01:00:00+00:00",
          "2021-04-16T03:00:00+00:00",
          "2021-04-16T05:00:00+00:00",
          "2021-04-16T06:00:00+00:00",
          "2021-04-16T07:00:00+00:00",
          "2021-04-16T08:00:00+00:00",
          "2021-04-16T09:00:00+00:00",
          "2021-04-16T10:00:00+00:00",
          "2021-04-16T13:00:00+00:00",
          "2021-04-16T14:00:00+00:00",
          "2021-04-16T15:00:00+00:00",
          "2021-04-16T16:00:00+00:00",
          "2021-04-16T18:00:00+00:00",
          "2021-04-16T19:00:00+00:00",
          "2021-04-18T22:00:00+00:00",
          "2021-04-19T01:00:00+00:00",
          "2021-04-19T02:00:00+00:00",
          "2021-04-19T03:00:00+00:00",
          "2021-04-19T04:00:00+00:00",
          "2021-04-19T07:00:00+00:00",
          "2021-04-19T08:00:00+00:00",
          "2021-04-19T09:00:00+00:00",
          "2021-04-19T10:00:00+00:00",
          "2021-04-19T13:00:00+00:00",
          "2021-04-19T15:00:00+00:00",
          "2021-04-19T17:00:00+00:00",
          "2021-04-19T19:00:00+00:00",
          "2021-04-19T20:00:00+00:00",
          "2021-04-19T21:00:00+00:00",
          "2021-04-19T22:00:00+00:00",
          "2021-04-19T23:00:00+00:00",
          "2021-04-20T00:00:00+00:00",
          "2021-04-20T01:00:00+00:00",
          "2021-04-20T05:00:00+00:00",
          "2021-04-20T07:00:00+00:00",
          "2021-04-20T08:00:00+00:00",
          "2021-04-20T11:00:00+00:00",
          "2021-04-20T12:00:00+00:00",
          "2021-04-20T13:00:00+00:00",
          "2021-04-20T15:00:00+00:00",
          "2021-04-20T16:00:00+00:00",
          "2021-04-20T17:00:00+00:00",
          "2021-04-20T18:00:00+00:00",
          "2021-04-20T19:00:00+00:00",
          "2021-04-20T23:00:00+00:00",
          "2021-04-21T10:00:00+00:00",
          "2021-04-21T11:00:00+00:00",
          "2021-04-21T13:00:00+00:00",
          "2021-04-21T14:00:00+00:00",
          "2021-04-21T15:00:00+00:00",
          "2021-04-21T16:00:00+00:00",
          "2021-04-21T17:00:00+00:00",
          "2021-04-21T20:00:00+00:00",
          "2021-04-21T22:00:00+00:00",
          "2021-04-22T01:00:00+00:00",
          "2021-04-22T02:00:00+00:00",
          "2021-04-22T06:00:00+00:00",
          "2021-04-22T07:00:00+00:00",
          "2021-04-22T08:00:00+00:00",
          "2021-04-22T09:00:00+00:00",
          "2021-04-22T12:00:00+00:00",
          "2021-04-22T14:00:00+00:00",
          "2021-04-22T15:00:00+00:00",
          "2021-04-22T17:00:00+00:00",
          "2021-04-22T18:00:00+00:00",
          "2021-04-22T19:00:00+00:00",
          "2021-04-22T21:00:00+00:00",
          "2021-04-22T23:00:00+00:00",
          "2021-04-23T02:00:00+00:00",
          "2021-04-23T05:00:00+00:00",
          "2021-04-23T08:00:00+00:00",
          "2021-04-23T10:00:00+00:00",
          "2021-04-23T11:00:00+00:00",
          "2021-04-23T12:00:00+00:00",
          "2021-04-23T13:00:00+00:00",
          "2021-04-23T14:00:00+00:00",
          "2021-04-23T17:00:00+00:00",
          "2021-04-23T19:00:00+00:00",
          "2021-04-23T20:00:00+00:00",
          "2021-04-25T21:00:00+00:00",
          "2021-04-25T22:00:00+00:00",
          "2021-04-26T00:00:00+00:00",
          "2021-04-26T07:00:00+00:00",
          "2021-04-26T10:00:00+00:00",
          "2021-04-26T11:00:00+00:00",
          "2021-04-26T12:00:00+00:00",
          "2021-04-26T13:00:00+00:00",
          "2021-04-26T15:00:00+00:00",
          "2021-04-26T17:00:00+00:00",
          "2021-04-26T20:00:00+00:00",
          "2021-04-27T03:00:00+00:00",
          "2021-04-27T06:00:00+00:00",
          "2021-04-27T07:00:00+00:00",
          "2021-04-27T09:00:00+00:00",
          "2021-04-27T10:00:00+00:00",
          "2021-04-27T11:00:00+00:00",
          "2021-04-27T12:00:00+00:00",
          "2021-04-27T13:00:00+00:00",
          "2021-04-27T14:00:00+00:00",
          "2021-04-27T16:00:00+00:00",
          "2021-04-27T17:00:00+00:00",
          "2021-04-27T18:00:00+00:00",
          "2021-04-27T20:00:00+00:00",
          "2021-04-28T00:00:00+00:00",
          "2021-04-28T03:00:00+00:00",
          "2021-04-28T04:00:00+00:00",
          "2021-04-28T05:00:00+00:00",
          "2021-04-28T06:00:00+00:00",
          "2021-04-28T08:00:00+00:00",
          "2021-04-28T09:00:00+00:00",
          "2021-04-28T10:00:00+00:00",
          "2021-04-28T11:00:00+00:00",
          "2021-04-28T12:00:00+00:00",
          "2021-04-28T13:00:00+00:00",
          "2021-04-28T14:00:00+00:00",
          "2021-04-28T15:00:00+00:00",
          "2021-04-28T16:00:00+00:00",
          "2021-04-28T17:00:00+00:00",
          "2021-04-28T18:00:00+00:00",
          "2021-04-28T20:00:00+00:00",
          "2021-04-28T23:00:00+00:00",
          "2021-04-29T00:00:00+00:00",
          "2021-04-29T03:00:00+00:00",
          "2021-04-29T05:00:00+00:00",
          "2021-04-29T09:00:00+00:00",
          "2021-04-29T10:00:00+00:00",
          "2021-04-29T14:00:00+00:00",
          "2021-04-29T16:00:00+00:00",
          "2021-04-29T20:00:00+00:00",
          "2021-04-29T23:00:00+00:00",
          "2021-04-30T00:00:00+00:00",
          "2021-04-30T01:00:00+00:00",
          "2021-04-30T02:00:00+00:00",
          "2021-04-30T06:00:00+00:00",
          "2021-04-30T07:00:00+00:00",
          "2021-04-30T08:00:00+00:00",
          "2021-04-30T12:00:00+00:00",
          "2021-04-30T13:00:00+00:00",
          "2021-04-30T14:00:00+00:00",
          "2021-04-30T15:00:00+00:00",
          "2021-04-30T17:00:00+00:00",
          "2021-05-03T03:00:00+00:00",
          "2021-05-03T07:00:00+00:00",
          "2021-05-03T11:00:00+00:00",
          "2021-05-03T12:00:00+00:00",
          "2021-05-03T13:00:00+00:00",
          "2021-05-03T14:00:00+00:00",
          "2021-05-03T15:00:00+00:00",
          "2021-05-03T16:00:00+00:00",
          "2021-05-03T17:00:00+00:00",
          "2021-05-03T18:00:00+00:00",
          "2021-05-04T03:00:00+00:00",
          "2021-05-04T04:00:00+00:00",
          "2021-05-04T05:00:00+00:00",
          "2021-05-04T06:00:00+00:00",
          "2021-05-04T07:00:00+00:00",
          "2021-05-04T08:00:00+00:00",
          "2021-05-04T09:00:00+00:00",
          "2021-05-04T12:00:00+00:00",
          "2021-05-04T13:00:00+00:00",
          "2021-05-04T14:00:00+00:00",
          "2021-05-04T16:00:00+00:00",
          "2021-05-04T19:00:00+00:00",
          "2021-05-04T21:00:00+00:00",
          "2021-05-04T22:00:00+00:00",
          "2021-05-05T00:00:00+00:00",
          "2021-05-05T01:00:00+00:00",
          "2021-05-05T02:00:00+00:00",
          "2021-05-05T03:00:00+00:00",
          "2021-05-05T04:00:00+00:00",
          "2021-05-05T05:00:00+00:00",
          "2021-05-05T06:00:00+00:00",
          "2021-05-05T07:00:00+00:00",
          "2021-05-05T08:00:00+00:00",
          "2021-05-05T10:00:00+00:00",
          "2021-05-05T15:00:00+00:00",
          "2021-05-05T16:00:00+00:00",
          "2021-05-05T17:00:00+00:00",
          "2021-05-05T19:00:00+00:00",
          "2021-05-05T22:00:00+00:00",
          "2021-05-05T23:00:00+00:00",
          "2021-05-06T04:00:00+00:00",
          "2021-05-06T05:00:00+00:00",
          "2021-05-06T06:00:00+00:00",
          "2021-05-06T07:00:00+00:00",
          "2021-05-06T09:00:00+00:00",
          "2021-05-06T10:00:00+00:00",
          "2021-05-06T11:00:00+00:00",
          "2021-05-06T13:00:00+00:00",
          "2021-05-06T14:00:00+00:00",
          "2021-05-06T16:00:00+00:00",
          "2021-05-06T17:00:00+00:00",
          "2021-05-06T18:00:00+00:00",
          "2021-05-07T04:00:00+00:00",
          "2021-05-07T07:00:00+00:00",
          "2021-05-07T10:00:00+00:00",
          "2021-05-07T12:00:00+00:00",
          "2021-05-07T13:00:00+00:00",
          "2021-05-07T14:00:00+00:00",
          "2021-05-07T16:00:00+00:00",
          "2021-05-09T22:00:00+00:00",
          "2021-05-10T00:00:00+00:00",
          "2021-05-10T01:00:00+00:00",
          "2021-05-10T02:00:00+00:00",
          "2021-05-10T03:00:00+00:00",
          "2021-05-10T05:00:00+00:00",
          "2021-05-10T06:00:00+00:00",
          "2021-05-10T08:00:00+00:00",
          "2021-05-10T09:00:00+00:00",
          "2021-05-10T10:00:00+00:00",
          "2021-05-10T12:00:00+00:00",
          "2021-05-10T13:00:00+00:00",
          "2021-05-10T14:00:00+00:00",
          "2021-05-10T17:00:00+00:00",
          "2021-05-10T20:00:00+00:00",
          "2021-05-10T21:00:00+00:00",
          "2021-05-10T22:00:00+00:00",
          "2021-05-10T23:00:00+00:00",
          "2021-05-11T08:00:00+00:00",
          "2021-05-11T09:00:00+00:00",
          "2021-05-11T10:00:00+00:00",
          "2021-05-11T11:00:00+00:00",
          "2021-05-11T12:00:00+00:00",
          "2021-05-11T13:00:00+00:00",
          "2021-05-11T15:00:00+00:00",
          "2021-05-11T17:00:00+00:00",
          "2021-05-12T00:00:00+00:00",
          "2021-05-12T01:00:00+00:00",
          "2021-05-12T02:00:00+00:00",
          "2021-05-12T04:00:00+00:00",
          "2021-05-12T05:00:00+00:00",
          "2021-05-12T09:00:00+00:00",
          "2021-05-12T10:00:00+00:00",
          "2021-05-12T11:00:00+00:00",
          "2021-05-12T12:00:00+00:00",
          "2021-05-12T15:00:00+00:00",
          "2021-05-12T16:00:00+00:00",
          "2021-05-12T20:00:00+00:00",
          "2021-05-12T21:00:00+00:00",
          "2021-05-12T22:00:00+00:00",
          "2021-05-13T03:00:00+00:00",
          "2021-05-13T09:00:00+00:00",
          "2021-05-13T10:00:00+00:00",
          "2021-05-13T11:00:00+00:00",
          "2021-05-13T13:00:00+00:00",
          "2021-05-13T14:00:00+00:00",
          "2021-05-13T16:00:00+00:00",
          "2021-05-13T17:00:00+00:00",
          "2021-05-13T18:00:00+00:00",
          "2021-05-13T19:00:00+00:00",
          "2021-05-13T20:00:00+00:00",
          "2021-05-13T21:00:00+00:00",
          "2021-05-13T23:00:00+00:00",
          "2021-05-14T00:00:00+00:00",
          "2021-05-14T01:00:00+00:00",
          "2021-05-14T02:00:00+00:00",
          "2021-05-14T05:00:00+00:00",
          "2021-05-14T06:00:00+00:00",
          "2021-05-14T11:00:00+00:00",
          "2021-05-14T12:00:00+00:00",
          "2021-05-14T13:00:00+00:00",
          "2021-05-14T14:00:00+00:00",
          "2021-05-14T16:00:00+00:00",
          "2021-05-14T17:00:00+00:00",
          "2021-05-14T19:00:00+00:00",
          "2021-05-17T00:00:00+00:00",
          "2021-05-17T04:00:00+00:00",
          "2021-05-17T06:00:00+00:00",
          "2021-05-17T07:00:00+00:00",
          "2021-05-17T08:00:00+00:00",
          "2021-05-17T10:00:00+00:00",
          "2021-05-17T11:00:00+00:00",
          "2021-05-17T12:00:00+00:00",
          "2021-05-17T13:00:00+00:00",
          "2021-05-17T14:00:00+00:00",
          "2021-05-17T15:00:00+00:00",
          "2021-05-17T16:00:00+00:00",
          "2021-05-17T17:00:00+00:00",
          "2021-05-17T18:00:00+00:00",
          "2021-05-17T20:00:00+00:00",
          "2021-05-18T00:00:00+00:00",
          "2021-05-18T02:00:00+00:00",
          "2021-05-18T03:00:00+00:00",
          "2021-05-18T04:00:00+00:00",
          "2021-05-18T07:00:00+00:00",
          "2021-05-18T08:00:00+00:00",
          "2021-05-18T10:00:00+00:00",
          "2021-05-18T11:00:00+00:00",
          "2021-05-18T12:00:00+00:00",
          "2021-05-18T13:00:00+00:00",
          "2021-05-18T14:00:00+00:00",
          "2021-05-18T16:00:00+00:00",
          "2021-05-18T20:00:00+00:00",
          "2021-05-18T21:00:00+00:00",
          "2021-05-18T22:00:00+00:00",
          "2021-05-19T00:00:00+00:00",
          "2021-05-19T03:00:00+00:00",
          "2021-05-19T07:00:00+00:00",
          "2021-05-19T08:00:00+00:00",
          "2021-05-19T09:00:00+00:00",
          "2021-05-19T10:00:00+00:00",
          "2021-05-19T11:00:00+00:00",
          "2021-05-19T12:00:00+00:00",
          "2021-05-19T13:00:00+00:00",
          "2021-05-19T15:00:00+00:00",
          "2021-05-19T16:00:00+00:00",
          "2021-05-19T17:00:00+00:00",
          "2021-05-19T18:00:00+00:00",
          "2021-05-19T21:00:00+00:00",
          "2021-05-19T22:00:00+00:00",
          "2021-05-20T05:00:00+00:00",
          "2021-05-20T06:00:00+00:00",
          "2021-05-20T07:00:00+00:00",
          "2021-05-20T08:00:00+00:00",
          "2021-05-20T10:00:00+00:00",
          "2021-05-20T11:00:00+00:00",
          "2021-05-20T12:00:00+00:00",
          "2021-05-20T13:00:00+00:00",
          "2021-05-20T14:00:00+00:00",
          "2021-05-20T15:00:00+00:00",
          "2021-05-20T16:00:00+00:00",
          "2021-05-20T17:00:00+00:00",
          "2021-05-20T18:00:00+00:00",
          "2021-05-20T19:00:00+00:00",
          "2021-05-20T20:00:00+00:00",
          "2021-05-20T21:00:00+00:00",
          "2021-05-20T23:00:00+00:00",
          "2021-05-21T02:00:00+00:00",
          "2021-05-21T04:00:00+00:00",
          "2021-05-21T06:00:00+00:00",
          "2021-05-21T07:00:00+00:00",
          "2021-05-21T10:00:00+00:00",
          "2021-05-21T11:00:00+00:00",
          "2021-05-21T12:00:00+00:00",
          "2021-05-21T13:00:00+00:00",
          "2021-05-21T14:00:00+00:00",
          "2021-05-21T15:00:00+00:00",
          "2021-05-21T16:00:00+00:00",
          "2021-05-21T17:00:00+00:00",
          "2021-05-21T18:00:00+00:00",
          "2021-05-21T20:00:00+00:00",
          "2021-05-23T22:00:00+00:00",
          "2021-05-24T01:00:00+00:00",
          "2021-05-24T02:00:00+00:00",
          "2021-05-24T03:00:00+00:00",
          "2021-05-24T04:00:00+00:00",
          "2021-05-24T05:00:00+00:00",
          "2021-05-24T07:00:00+00:00",
          "2021-05-24T08:00:00+00:00",
          "2021-05-24T10:00:00+00:00",
          "2021-05-24T11:00:00+00:00",
          "2021-05-24T12:00:00+00:00",
          "2021-05-24T13:00:00+00:00",
          "2021-05-24T15:00:00+00:00",
          "2021-05-24T16:00:00+00:00",
          "2021-05-24T17:00:00+00:00",
          "2021-05-24T19:00:00+00:00",
          "2021-05-24T22:00:00+00:00",
          "2021-05-25T01:00:00+00:00",
          "2021-05-25T02:00:00+00:00",
          "2021-05-25T05:00:00+00:00",
          "2021-05-25T07:00:00+00:00",
          "2021-05-25T10:00:00+00:00",
          "2021-05-25T12:00:00+00:00",
          "2021-05-25T13:00:00+00:00",
          "2021-05-25T15:00:00+00:00",
          "2021-05-25T16:00:00+00:00",
          "2021-05-25T17:00:00+00:00",
          "2021-05-25T19:00:00+00:00",
          "2021-05-25T23:00:00+00:00",
          "2021-05-26T02:00:00+00:00",
          "2021-05-26T06:00:00+00:00",
          "2021-05-26T07:00:00+00:00",
          "2021-05-26T08:00:00+00:00",
          "2021-05-26T09:00:00+00:00",
          "2021-05-26T10:00:00+00:00",
          "2021-05-26T11:00:00+00:00",
          "2021-05-26T12:00:00+00:00",
          "2021-05-26T13:00:00+00:00",
          "2021-05-26T14:00:00+00:00",
          "2021-05-27T03:00:00+00:00",
          "2021-05-27T05:00:00+00:00",
          "2021-05-27T06:00:00+00:00",
          "2021-05-27T07:00:00+00:00",
          "2021-05-27T08:00:00+00:00",
          "2021-05-27T10:00:00+00:00",
          "2021-05-27T11:00:00+00:00",
          "2021-05-27T12:00:00+00:00",
          "2021-05-27T13:00:00+00:00",
          "2021-05-27T14:00:00+00:00",
          "2021-05-27T20:00:00+00:00",
          "2021-05-27T21:00:00+00:00",
          "2021-05-28T00:00:00+00:00",
          "2021-05-28T01:00:00+00:00",
          "2021-05-28T06:00:00+00:00",
          "2021-05-28T08:00:00+00:00",
          "2021-05-28T10:00:00+00:00",
          "2021-05-28T11:00:00+00:00",
          "2021-05-28T13:00:00+00:00",
          "2021-05-28T15:00:00+00:00",
          "2021-05-28T18:00:00+00:00",
          "2021-05-28T19:00:00+00:00",
          "2021-05-28T20:00:00+00:00",
          "2021-05-30T21:00:00+00:00",
          "2021-05-30T23:00:00+00:00",
          "2021-05-31T00:00:00+00:00",
          "2021-05-31T01:00:00+00:00",
          "2021-05-31T03:00:00+00:00",
          "2021-05-31T07:00:00+00:00",
          "2021-05-31T08:00:00+00:00",
          "2021-05-31T09:00:00+00:00",
          "2021-05-31T10:00:00+00:00",
          "2021-05-31T11:00:00+00:00",
          "2021-05-31T12:00:00+00:00",
          "2021-05-31T13:00:00+00:00",
          "2021-05-31T14:00:00+00:00",
          "2021-05-31T15:00:00+00:00",
          "2021-05-31T17:00:00+00:00",
          "2021-05-31T19:00:00+00:00",
          "2021-05-31T20:00:00+00:00",
          "2021-05-31T22:00:00+00:00",
          "2021-06-01T01:00:00+00:00",
          "2021-06-01T02:00:00+00:00",
          "2021-06-01T03:00:00+00:00",
          "2021-06-01T07:00:00+00:00",
          "2021-06-01T08:00:00+00:00",
          "2021-06-01T09:00:00+00:00",
          "2021-06-01T10:00:00+00:00",
          "2021-06-01T11:00:00+00:00",
          "2021-06-01T12:00:00+00:00",
          "2021-06-01T13:00:00+00:00",
          "2021-06-01T14:00:00+00:00",
          "2021-06-01T15:00:00+00:00",
          "2021-06-01T17:00:00+00:00",
          "2021-06-01T20:00:00+00:00",
          "2021-06-01T21:00:00+00:00",
          "2021-06-02T01:00:00+00:00",
          "2021-06-02T02:00:00+00:00",
          "2021-06-02T05:00:00+00:00",
          "2021-06-02T06:00:00+00:00",
          "2021-06-02T07:00:00+00:00",
          "2021-06-02T08:00:00+00:00",
          "2021-06-02T10:00:00+00:00",
          "2021-06-02T11:00:00+00:00",
          "2021-06-02T12:00:00+00:00",
          "2021-06-02T13:00:00+00:00",
          "2021-06-02T17:00:00+00:00",
          "2021-06-02T18:00:00+00:00",
          "2021-06-02T20:00:00+00:00",
          "2021-06-02T22:00:00+00:00",
          "2021-06-03T00:00:00+00:00",
          "2021-06-03T03:00:00+00:00",
          "2021-06-03T05:00:00+00:00",
          "2021-06-03T06:00:00+00:00",
          "2021-06-03T07:00:00+00:00",
          "2021-06-03T10:00:00+00:00",
          "2021-06-03T11:00:00+00:00",
          "2021-06-03T12:00:00+00:00",
          "2021-06-03T14:00:00+00:00",
          "2021-06-03T16:00:00+00:00",
          "2021-06-03T19:00:00+00:00",
          "2021-06-03T23:00:00+00:00",
          "2021-06-04T02:00:00+00:00",
          "2021-06-04T03:00:00+00:00",
          "2021-06-04T05:00:00+00:00",
          "2021-06-04T06:00:00+00:00",
          "2021-06-04T10:00:00+00:00",
          "2021-06-04T12:00:00+00:00",
          "2021-06-04T13:00:00+00:00",
          "2021-06-04T14:00:00+00:00",
          "2021-06-04T15:00:00+00:00",
          "2021-06-04T16:00:00+00:00",
          "2021-06-04T17:00:00+00:00",
          "2021-06-07T00:00:00+00:00",
          "2021-06-07T03:00:00+00:00",
          "2021-06-07T08:00:00+00:00",
          "2021-06-07T13:00:00+00:00",
          "2021-06-07T17:00:00+00:00",
          "2021-06-07T19:00:00+00:00",
          "2021-06-07T20:00:00+00:00",
          "2021-06-07T21:00:00+00:00",
          "2021-06-07T22:00:00+00:00",
          "2021-06-08T00:00:00+00:00",
          "2021-06-08T01:00:00+00:00",
          "2021-06-08T03:00:00+00:00",
          "2021-06-08T04:00:00+00:00",
          "2021-06-08T06:00:00+00:00",
          "2021-06-08T07:00:00+00:00",
          "2021-06-08T08:00:00+00:00",
          "2021-06-08T09:00:00+00:00",
          "2021-06-08T11:00:00+00:00",
          "2021-06-08T14:00:00+00:00",
          "2021-06-08T17:00:00+00:00",
          "2021-06-08T19:00:00+00:00",
          "2021-06-08T20:00:00+00:00",
          "2021-06-08T22:00:00+00:00",
          "2021-06-09T02:00:00+00:00",
          "2021-06-09T03:00:00+00:00",
          "2021-06-09T06:00:00+00:00",
          "2021-06-09T07:00:00+00:00",
          "2021-06-09T08:00:00+00:00",
          "2021-06-09T10:00:00+00:00",
          "2021-06-09T11:00:00+00:00",
          "2021-06-09T13:00:00+00:00",
          "2021-06-09T14:00:00+00:00",
          "2021-06-09T16:00:00+00:00",
          "2021-06-09T18:00:00+00:00",
          "2021-06-09T19:00:00+00:00",
          "2021-06-09T20:00:00+00:00",
          "2021-06-09T21:00:00+00:00",
          "2021-06-09T23:00:00+00:00",
          "2021-06-10T00:00:00+00:00",
          "2021-06-10T02:00:00+00:00",
          "2021-06-10T04:00:00+00:00",
          "2021-06-10T06:00:00+00:00",
          "2021-06-10T07:00:00+00:00",
          "2021-06-10T08:00:00+00:00",
          "2021-06-10T10:00:00+00:00",
          "2021-06-10T12:00:00+00:00",
          "2021-06-10T13:00:00+00:00",
          "2021-06-10T14:00:00+00:00",
          "2021-06-10T15:00:00+00:00",
          "2021-06-10T16:00:00+00:00",
          "2021-06-10T18:00:00+00:00",
          "2021-06-10T20:00:00+00:00",
          "2021-06-10T21:00:00+00:00",
          "2021-06-10T22:00:00+00:00",
          "2021-06-11T00:00:00+00:00",
          "2021-06-11T01:00:00+00:00",
          "2021-06-11T02:00:00+00:00",
          "2021-06-11T03:00:00+00:00",
          "2021-06-11T04:00:00+00:00",
          "2021-06-11T05:00:00+00:00",
          "2021-06-11T06:00:00+00:00",
          "2021-06-11T07:00:00+00:00",
          "2021-06-11T10:00:00+00:00",
          "2021-06-11T11:00:00+00:00",
          "2021-06-11T12:00:00+00:00",
          "2021-06-11T13:00:00+00:00",
          "2021-06-11T14:00:00+00:00",
          "2021-06-11T15:00:00+00:00",
          "2021-06-11T16:00:00+00:00",
          "2021-06-11T18:00:00+00:00",
          "2021-06-13T21:00:00+00:00",
          "2021-06-13T23:00:00+00:00",
          "2021-06-14T03:00:00+00:00",
          "2021-06-14T04:00:00+00:00",
          "2021-06-14T06:00:00+00:00",
          "2021-06-14T08:00:00+00:00",
          "2021-06-14T09:00:00+00:00",
          "2021-06-14T10:00:00+00:00",
          "2021-06-14T11:00:00+00:00",
          "2021-06-14T13:00:00+00:00",
          "2021-06-14T14:00:00+00:00",
          "2021-06-14T15:00:00+00:00",
          "2021-06-14T16:00:00+00:00",
          "2021-06-14T17:00:00+00:00",
          "2021-06-14T18:00:00+00:00",
          "2021-06-14T19:00:00+00:00",
          "2021-06-14T20:00:00+00:00",
          "2021-06-14T23:00:00+00:00",
          "2021-06-15T00:00:00+00:00",
          "2021-06-15T01:00:00+00:00",
          "2021-06-15T02:00:00+00:00",
          "2021-06-15T07:00:00+00:00",
          "2021-06-15T08:00:00+00:00",
          "2021-06-15T09:00:00+00:00",
          "2021-06-15T10:00:00+00:00",
          "2021-06-15T11:00:00+00:00",
          "2021-06-15T12:00:00+00:00",
          "2021-06-15T13:00:00+00:00",
          "2021-06-15T14:00:00+00:00",
          "2021-06-15T15:00:00+00:00",
          "2021-06-15T19:00:00+00:00",
          "2021-06-15T23:00:00+00:00",
          "2021-06-16T04:00:00+00:00",
          "2021-06-16T05:00:00+00:00",
          "2021-06-16T06:00:00+00:00",
          "2021-06-16T07:00:00+00:00",
          "2021-06-16T08:00:00+00:00",
          "2021-06-16T09:00:00+00:00",
          "2021-06-16T12:00:00+00:00",
          "2021-06-16T13:00:00+00:00",
          "2021-06-16T14:00:00+00:00",
          "2021-06-16T15:00:00+00:00",
          "2021-06-16T16:00:00+00:00",
          "2021-06-16T18:00:00+00:00",
          "2021-06-16T19:00:00+00:00",
          "2021-06-16T21:00:00+00:00",
          "2021-06-16T23:00:00+00:00",
          "2021-06-17T01:00:00+00:00",
          "2021-06-17T04:00:00+00:00",
          "2021-06-17T09:00:00+00:00",
          "2021-06-17T10:00:00+00:00",
          "2021-06-17T12:00:00+00:00",
          "2021-06-17T15:00:00+00:00",
          "2021-06-17T18:00:00+00:00",
          "2021-06-17T21:00:00+00:00",
          "2021-06-18T04:00:00+00:00",
          "2021-06-18T06:00:00+00:00",
          "2021-06-18T07:00:00+00:00",
          "2021-06-18T08:00:00+00:00",
          "2021-06-18T09:00:00+00:00",
          "2021-06-18T16:00:00+00:00",
          "2021-06-18T19:00:00+00:00",
          "2021-06-20T21:00:00+00:00",
          "2021-06-20T23:00:00+00:00",
          "2021-06-21T01:00:00+00:00",
          "2021-06-21T02:00:00+00:00",
          "2021-06-21T05:00:00+00:00",
          "2021-06-21T06:00:00+00:00",
          "2021-06-21T10:00:00+00:00",
          "2021-06-21T11:00:00+00:00",
          "2021-06-21T12:00:00+00:00",
          "2021-06-21T13:00:00+00:00",
          "2021-06-21T14:00:00+00:00",
          "2021-06-21T15:00:00+00:00",
          "2021-06-21T16:00:00+00:00",
          "2021-06-21T18:00:00+00:00",
          "2021-06-22T03:00:00+00:00",
          "2021-06-22T04:00:00+00:00",
          "2021-06-22T06:00:00+00:00",
          "2021-06-22T09:00:00+00:00",
          "2021-06-22T10:00:00+00:00",
          "2021-06-22T11:00:00+00:00",
          "2021-06-22T12:00:00+00:00",
          "2021-06-22T13:00:00+00:00",
          "2021-06-22T14:00:00+00:00",
          "2021-06-22T15:00:00+00:00",
          "2021-06-22T16:00:00+00:00",
          "2021-06-22T17:00:00+00:00",
          "2021-06-22T18:00:00+00:00",
          "2021-06-22T19:00:00+00:00",
          "2021-06-22T20:00:00+00:00",
          "2021-06-22T22:00:00+00:00",
          "2021-06-23T01:00:00+00:00",
          "2021-06-23T11:00:00+00:00",
          "2021-06-23T18:00:00+00:00",
          "2021-06-23T21:00:00+00:00",
          "2021-06-23T22:00:00+00:00",
          "2021-06-24T00:00:00+00:00",
          "2021-06-24T01:00:00+00:00",
          "2021-06-24T03:00:00+00:00",
          "2021-06-24T07:00:00+00:00",
          "2021-06-24T08:00:00+00:00",
          "2021-06-24T09:00:00+00:00",
          "2021-06-24T10:00:00+00:00",
          "2021-06-24T11:00:00+00:00",
          "2021-06-24T12:00:00+00:00",
          "2021-06-24T14:00:00+00:00",
          "2021-06-24T15:00:00+00:00",
          "2021-06-24T18:00:00+00:00",
          "2021-06-24T19:00:00+00:00",
          "2021-06-24T22:00:00+00:00",
          "2021-06-25T01:00:00+00:00",
          "2021-06-25T02:00:00+00:00",
          "2021-06-25T08:00:00+00:00",
          "2021-06-25T12:00:00+00:00",
          "2021-06-25T14:00:00+00:00",
          "2021-06-25T15:00:00+00:00",
          "2021-06-25T17:00:00+00:00",
          "2021-06-25T19:00:00+00:00",
          "2021-06-27T21:00:00+00:00",
          "2021-06-27T22:00:00+00:00",
          "2021-06-28T01:00:00+00:00",
          "2021-06-28T02:00:00+00:00",
          "2021-06-28T03:00:00+00:00",
          "2021-06-28T06:00:00+00:00",
          "2021-06-28T07:00:00+00:00",
          "2021-06-28T08:00:00+00:00",
          "2021-06-28T09:00:00+00:00",
          "2021-06-28T10:00:00+00:00",
          "2021-06-28T11:00:00+00:00",
          "2021-06-28T12:00:00+00:00",
          "2021-06-28T16:00:00+00:00",
          "2021-06-28T17:00:00+00:00",
          "2021-06-28T20:00:00+00:00",
          "2021-06-29T03:00:00+00:00",
          "2021-06-29T06:00:00+00:00",
          "2021-06-29T09:00:00+00:00",
          "2021-06-29T11:00:00+00:00",
          "2021-06-29T15:00:00+00:00",
          "2021-06-30T00:00:00+00:00",
          "2021-06-30T02:00:00+00:00",
          "2021-06-30T04:00:00+00:00",
          "2021-06-30T05:00:00+00:00",
          "2021-06-30T09:00:00+00:00",
          "2021-06-30T11:00:00+00:00",
          "2021-06-30T12:00:00+00:00",
          "2021-06-30T13:00:00+00:00",
          "2021-06-30T14:00:00+00:00",
          "2021-06-30T15:00:00+00:00",
          "2021-06-30T16:00:00+00:00",
          "2021-06-30T17:00:00+00:00",
          "2021-06-30T18:00:00+00:00",
          "2021-06-30T19:00:00+00:00",
          "2021-06-30T23:00:00+00:00",
          "2021-07-01T04:00:00+00:00",
          "2021-07-01T05:00:00+00:00",
          "2021-07-01T10:00:00+00:00",
          "2021-07-01T11:00:00+00:00",
          "2021-07-01T12:00:00+00:00",
          "2021-07-01T14:00:00+00:00",
          "2021-07-01T16:00:00+00:00",
          "2021-07-01T17:00:00+00:00",
          "2021-07-01T18:00:00+00:00",
          "2021-07-01T20:00:00+00:00",
          "2021-07-01T21:00:00+00:00",
          "2021-07-01T22:00:00+00:00",
          "2021-07-01T23:00:00+00:00",
          "2021-07-02T00:00:00+00:00",
          "2021-07-02T02:00:00+00:00",
          "2021-07-02T03:00:00+00:00",
          "2021-07-02T07:00:00+00:00",
          "2021-07-02T08:00:00+00:00",
          "2021-07-02T09:00:00+00:00",
          "2021-07-02T10:00:00+00:00",
          "2021-07-02T11:00:00+00:00",
          "2021-07-02T12:00:00+00:00",
          "2021-07-02T13:00:00+00:00",
          "2021-07-02T15:00:00+00:00",
          "2021-07-02T16:00:00+00:00",
          "2021-07-02T17:00:00+00:00",
          "2021-07-02T18:00:00+00:00",
          "2021-07-04T21:00:00+00:00",
          "2021-07-04T22:00:00+00:00",
          "2021-07-04T23:00:00+00:00",
          "2021-07-05T06:00:00+00:00",
          "2021-07-05T09:00:00+00:00",
          "2021-07-05T10:00:00+00:00",
          "2021-07-05T11:00:00+00:00",
          "2021-07-05T12:00:00+00:00",
          "2021-07-05T13:00:00+00:00",
          "2021-07-05T18:00:00+00:00",
          "2021-07-05T19:00:00+00:00",
          "2021-07-05T20:00:00+00:00",
          "2021-07-05T21:00:00+00:00",
          "2021-07-05T22:00:00+00:00",
          "2021-07-05T23:00:00+00:00",
          "2021-07-06T04:00:00+00:00",
          "2021-07-06T05:00:00+00:00",
          "2021-07-06T06:00:00+00:00",
          "2021-07-06T10:00:00+00:00",
          "2021-07-06T11:00:00+00:00",
          "2021-07-06T12:00:00+00:00",
          "2021-07-06T13:00:00+00:00",
          "2021-07-06T14:00:00+00:00",
          "2021-07-06T16:00:00+00:00",
          "2021-07-06T17:00:00+00:00",
          "2021-07-06T18:00:00+00:00",
          "2021-07-06T19:00:00+00:00",
          "2021-07-07T11:00:00+00:00",
          "2021-07-07T12:00:00+00:00",
          "2021-07-07T13:00:00+00:00",
          "2021-07-07T15:00:00+00:00",
          "2021-07-07T16:00:00+00:00",
          "2021-07-07T17:00:00+00:00",
          "2021-07-07T18:00:00+00:00",
          "2021-07-07T19:00:00+00:00",
          "2021-07-07T23:00:00+00:00",
          "2021-07-08T00:00:00+00:00",
          "2021-07-08T01:00:00+00:00",
          "2021-07-08T02:00:00+00:00",
          "2021-07-08T03:00:00+00:00",
          "2021-07-08T04:00:00+00:00",
          "2021-07-08T06:00:00+00:00",
          "2021-07-08T07:00:00+00:00",
          "2021-07-08T08:00:00+00:00",
          "2021-07-08T10:00:00+00:00",
          "2021-07-08T14:00:00+00:00",
          "2021-07-09T01:00:00+00:00",
          "2021-07-09T06:00:00+00:00",
          "2021-07-09T07:00:00+00:00",
          "2021-07-09T08:00:00+00:00",
          "2021-07-09T09:00:00+00:00",
          "2021-07-09T10:00:00+00:00",
          "2021-07-09T11:00:00+00:00",
          "2021-07-09T12:00:00+00:00",
          "2021-07-09T13:00:00+00:00",
          "2021-07-09T14:00:00+00:00",
          "2021-07-09T16:00:00+00:00",
          "2021-07-09T17:00:00+00:00",
          "2021-07-09T20:00:00+00:00",
          "2021-07-12T06:00:00+00:00",
          "2021-07-12T09:00:00+00:00",
          "2021-07-12T10:00:00+00:00",
          "2021-07-12T11:00:00+00:00",
          "2021-07-12T12:00:00+00:00",
          "2021-07-12T15:00:00+00:00",
          "2021-07-12T16:00:00+00:00",
          "2021-07-12T17:00:00+00:00",
          "2021-07-12T18:00:00+00:00",
          "2021-07-12T19:00:00+00:00",
          "2021-07-12T20:00:00+00:00",
          "2021-07-12T21:00:00+00:00",
          "2021-07-13T00:00:00+00:00",
          "2021-07-13T01:00:00+00:00",
          "2021-07-13T03:00:00+00:00",
          "2021-07-13T04:00:00+00:00",
          "2021-07-13T05:00:00+00:00",
          "2021-07-13T08:00:00+00:00",
          "2021-07-13T09:00:00+00:00",
          "2021-07-13T10:00:00+00:00",
          "2021-07-13T11:00:00+00:00",
          "2021-07-13T12:00:00+00:00",
          "2021-07-13T13:00:00+00:00",
          "2021-07-13T14:00:00+00:00",
          "2021-07-13T15:00:00+00:00",
          "2021-07-13T17:00:00+00:00",
          "2021-07-13T18:00:00+00:00",
          "2021-07-13T20:00:00+00:00",
          "2021-07-13T21:00:00+00:00",
          "2021-07-13T23:00:00+00:00",
          "2021-07-14T02:00:00+00:00",
          "2021-07-14T03:00:00+00:00",
          "2021-07-14T04:00:00+00:00",
          "2021-07-14T07:00:00+00:00",
          "2021-07-14T09:00:00+00:00",
          "2021-07-14T10:00:00+00:00",
          "2021-07-14T11:00:00+00:00",
          "2021-07-14T12:00:00+00:00",
          "2021-07-14T14:00:00+00:00",
          "2021-07-14T15:00:00+00:00",
          "2021-07-14T16:00:00+00:00",
          "2021-07-14T17:00:00+00:00",
          "2021-07-14T18:00:00+00:00",
          "2021-07-14T19:00:00+00:00",
          "2021-07-14T21:00:00+00:00",
          "2021-07-15T02:00:00+00:00",
          "2021-07-15T04:00:00+00:00",
          "2021-07-15T05:00:00+00:00",
          "2021-07-15T07:00:00+00:00",
          "2021-07-15T08:00:00+00:00",
          "2021-07-15T12:00:00+00:00",
          "2021-07-15T15:00:00+00:00",
          "2021-07-15T16:00:00+00:00",
          "2021-07-15T17:00:00+00:00",
          "2021-07-15T20:00:00+00:00",
          "2021-07-15T22:00:00+00:00",
          "2021-07-15T23:00:00+00:00",
          "2021-07-16T01:00:00+00:00",
          "2021-07-16T02:00:00+00:00",
          "2021-07-16T03:00:00+00:00",
          "2021-07-16T04:00:00+00:00",
          "2021-07-16T05:00:00+00:00",
          "2021-07-16T07:00:00+00:00",
          "2021-07-16T08:00:00+00:00",
          "2021-07-16T09:00:00+00:00",
          "2021-07-16T10:00:00+00:00",
          "2021-07-16T13:00:00+00:00",
          "2021-07-16T14:00:00+00:00",
          "2021-07-16T16:00:00+00:00",
          "2021-07-16T20:00:00+00:00",
          "2021-07-18T21:00:00+00:00",
          "2021-07-18T22:00:00+00:00",
          "2021-07-19T00:00:00+00:00",
          "2021-07-19T05:00:00+00:00",
          "2021-07-19T06:00:00+00:00",
          "2021-07-19T11:00:00+00:00",
          "2021-07-19T16:00:00+00:00",
          "2021-07-19T19:00:00+00:00",
          "2021-07-19T21:00:00+00:00",
          "2021-07-19T23:00:00+00:00",
          "2021-07-20T05:00:00+00:00",
          "2021-07-20T12:00:00+00:00",
          "2021-07-20T13:00:00+00:00",
          "2021-07-20T14:00:00+00:00",
          "2021-07-20T15:00:00+00:00",
          "2021-07-20T17:00:00+00:00",
          "2021-07-20T18:00:00+00:00",
          "2021-07-20T20:00:00+00:00",
          "2021-07-20T21:00:00+00:00",
          "2021-07-21T00:00:00+00:00",
          "2021-07-21T06:00:00+00:00",
          "2021-07-21T08:00:00+00:00",
          "2021-07-21T09:00:00+00:00",
          "2021-07-21T10:00:00+00:00",
          "2021-07-21T12:00:00+00:00",
          "2021-07-21T13:00:00+00:00",
          "2021-07-21T14:00:00+00:00",
          "2021-07-21T15:00:00+00:00",
          "2021-07-22T02:00:00+00:00",
          "2021-07-22T07:00:00+00:00",
          "2021-07-22T08:00:00+00:00",
          "2021-07-22T09:00:00+00:00",
          "2021-07-22T15:00:00+00:00",
          "2021-07-22T16:00:00+00:00",
          "2021-07-22T17:00:00+00:00",
          "2021-07-22T18:00:00+00:00",
          "2021-07-22T19:00:00+00:00",
          "2021-07-23T00:00:00+00:00",
          "2021-07-23T03:00:00+00:00",
          "2021-07-23T04:00:00+00:00",
          "2021-07-23T06:00:00+00:00",
          "2021-07-23T09:00:00+00:00",
          "2021-07-23T10:00:00+00:00",
          "2021-07-23T12:00:00+00:00",
          "2021-07-23T17:00:00+00:00",
          "2021-07-23T18:00:00+00:00",
          "2021-07-25T21:00:00+00:00",
          "2021-07-25T22:00:00+00:00",
          "2021-07-25T23:00:00+00:00",
          "2021-07-26T00:00:00+00:00",
          "2021-07-26T01:00:00+00:00",
          "2021-07-26T03:00:00+00:00",
          "2021-07-26T05:00:00+00:00",
          "2021-07-26T06:00:00+00:00",
          "2021-07-26T07:00:00+00:00",
          "2021-07-26T08:00:00+00:00",
          "2021-07-26T10:00:00+00:00",
          "2021-07-26T11:00:00+00:00",
          "2021-07-26T12:00:00+00:00",
          "2021-07-26T13:00:00+00:00",
          "2021-07-26T14:00:00+00:00",
          "2021-07-26T15:00:00+00:00",
          "2021-07-26T16:00:00+00:00",
          "2021-07-26T18:00:00+00:00",
          "2021-07-26T20:00:00+00:00",
          "2021-07-26T22:00:00+00:00",
          "2021-07-27T01:00:00+00:00",
          "2021-07-27T04:00:00+00:00",
          "2021-07-27T06:00:00+00:00",
          "2021-07-27T07:00:00+00:00",
          "2021-07-27T08:00:00+00:00",
          "2021-07-27T09:00:00+00:00",
          "2021-07-27T11:00:00+00:00",
          "2021-07-27T12:00:00+00:00",
          "2021-07-27T13:00:00+00:00",
          "2021-07-27T15:00:00+00:00",
          "2021-07-27T16:00:00+00:00",
          "2021-07-27T21:00:00+00:00",
          "2021-07-28T01:00:00+00:00",
          "2021-07-28T02:00:00+00:00",
          "2021-07-28T03:00:00+00:00",
          "2021-07-28T10:00:00+00:00",
          "2021-07-28T11:00:00+00:00",
          "2021-07-28T12:00:00+00:00",
          "2021-07-28T13:00:00+00:00",
          "2021-07-28T14:00:00+00:00",
          "2021-07-28T16:00:00+00:00",
          "2021-07-28T18:00:00+00:00",
          "2021-07-28T20:00:00+00:00",
          "2021-07-28T22:00:00+00:00",
          "2021-07-28T23:00:00+00:00",
          "2021-07-29T00:00:00+00:00",
          "2021-07-29T01:00:00+00:00",
          "2021-07-29T04:00:00+00:00",
          "2021-07-29T07:00:00+00:00",
          "2021-07-29T08:00:00+00:00",
          "2021-07-29T09:00:00+00:00",
          "2021-07-29T10:00:00+00:00",
          "2021-07-29T13:00:00+00:00",
          "2021-07-29T14:00:00+00:00",
          "2021-07-29T17:00:00+00:00",
          "2021-07-29T21:00:00+00:00",
          "2021-07-29T22:00:00+00:00",
          "2021-07-30T02:00:00+00:00",
          "2021-07-30T03:00:00+00:00",
          "2021-07-30T07:00:00+00:00",
          "2021-07-30T08:00:00+00:00",
          "2021-07-30T09:00:00+00:00",
          "2021-07-30T10:00:00+00:00",
          "2021-07-30T12:00:00+00:00",
          "2021-07-30T13:00:00+00:00",
          "2021-07-30T14:00:00+00:00",
          "2021-07-30T15:00:00+00:00",
          "2021-07-30T16:00:00+00:00",
          "2021-07-30T20:00:00+00:00",
          "2021-08-01T21:00:00+00:00",
          "2021-08-01T22:00:00+00:00",
          "2021-08-02T07:00:00+00:00",
          "2021-08-02T09:00:00+00:00",
          "2021-08-02T10:00:00+00:00",
          "2021-08-02T11:00:00+00:00",
          "2021-08-02T12:00:00+00:00",
          "2021-08-02T13:00:00+00:00",
          "2021-08-02T14:00:00+00:00",
          "2021-08-02T16:00:00+00:00",
          "2021-08-02T18:00:00+00:00",
          "2021-08-02T19:00:00+00:00",
          "2021-08-02T22:00:00+00:00",
          "2021-08-02T23:00:00+00:00",
          "2021-08-03T04:00:00+00:00",
          "2021-08-03T08:00:00+00:00",
          "2021-08-03T16:00:00+00:00",
          "2021-08-03T21:00:00+00:00",
          "2021-08-04T05:00:00+00:00",
          "2021-08-04T07:00:00+00:00",
          "2021-08-04T08:00:00+00:00",
          "2021-08-04T09:00:00+00:00",
          "2021-08-04T10:00:00+00:00",
          "2021-08-04T11:00:00+00:00",
          "2021-08-04T12:00:00+00:00",
          "2021-08-04T13:00:00+00:00",
          "2021-08-04T14:00:00+00:00",
          "2021-08-04T15:00:00+00:00",
          "2021-08-04T16:00:00+00:00",
          "2021-08-04T18:00:00+00:00",
          "2021-08-04T19:00:00+00:00",
          "2021-08-04T22:00:00+00:00",
          "2021-08-05T01:00:00+00:00",
          "2021-08-05T05:00:00+00:00",
          "2021-08-05T06:00:00+00:00",
          "2021-08-05T11:00:00+00:00",
          "2021-08-05T14:00:00+00:00",
          "2021-08-05T15:00:00+00:00",
          "2021-08-05T16:00:00+00:00",
          "2021-08-05T18:00:00+00:00",
          "2021-08-05T23:00:00+00:00",
          "2021-08-06T00:00:00+00:00",
          "2021-08-06T01:00:00+00:00",
          "2021-08-06T04:00:00+00:00",
          "2021-08-06T08:00:00+00:00",
          "2021-08-06T09:00:00+00:00",
          "2021-08-06T10:00:00+00:00",
          "2021-08-06T11:00:00+00:00",
          "2021-08-06T12:00:00+00:00",
          "2021-08-06T14:00:00+00:00",
          "2021-08-06T16:00:00+00:00",
          "2021-08-06T19:00:00+00:00",
          "2021-08-06T20:00:00+00:00",
          "2021-08-09T02:00:00+00:00",
          "2021-08-09T06:00:00+00:00",
          "2021-08-09T07:00:00+00:00",
          "2021-08-09T08:00:00+00:00",
          "2021-08-09T09:00:00+00:00",
          "2021-08-09T10:00:00+00:00",
          "2021-08-09T12:00:00+00:00",
          "2021-08-09T14:00:00+00:00",
          "2021-08-09T15:00:00+00:00",
          "2021-08-09T16:00:00+00:00",
          "2021-08-09T18:00:00+00:00",
          "2021-08-09T19:00:00+00:00",
          "2021-08-09T23:00:00+00:00",
          "2021-08-10T04:00:00+00:00",
          "2021-08-10T05:00:00+00:00",
          "2021-08-10T06:00:00+00:00",
          "2021-08-10T07:00:00+00:00",
          "2021-08-10T08:00:00+00:00",
          "2021-08-10T10:00:00+00:00",
          "2021-08-10T11:00:00+00:00",
          "2021-08-10T12:00:00+00:00",
          "2021-08-10T13:00:00+00:00",
          "2021-08-10T14:00:00+00:00",
          "2021-08-10T15:00:00+00:00",
          "2021-08-10T16:00:00+00:00",
          "2021-08-11T01:00:00+00:00",
          "2021-08-11T03:00:00+00:00",
          "2021-08-11T06:00:00+00:00",
          "2021-08-11T12:00:00+00:00",
          "2021-08-11T14:00:00+00:00",
          "2021-08-11T15:00:00+00:00",
          "2021-08-11T16:00:00+00:00",
          "2021-08-11T17:00:00+00:00",
          "2021-08-11T18:00:00+00:00",
          "2021-08-11T19:00:00+00:00",
          "2021-08-11T20:00:00+00:00",
          "2021-08-11T22:00:00+00:00",
          "2021-08-12T00:00:00+00:00",
          "2021-08-12T05:00:00+00:00",
          "2021-08-12T06:00:00+00:00",
          "2021-08-12T07:00:00+00:00",
          "2021-08-12T08:00:00+00:00",
          "2021-08-12T09:00:00+00:00",
          "2021-08-12T10:00:00+00:00",
          "2021-08-12T11:00:00+00:00",
          "2021-08-12T12:00:00+00:00",
          "2021-08-12T13:00:00+00:00",
          "2021-08-12T14:00:00+00:00",
          "2021-08-12T15:00:00+00:00",
          "2021-08-12T16:00:00+00:00",
          "2021-08-12T22:00:00+00:00",
          "2021-08-13T04:00:00+00:00",
          "2021-08-13T05:00:00+00:00",
          "2021-08-13T07:00:00+00:00",
          "2021-08-13T10:00:00+00:00",
          "2021-08-13T11:00:00+00:00",
          "2021-08-13T13:00:00+00:00",
          "2021-08-13T14:00:00+00:00",
          "2021-08-13T15:00:00+00:00",
          "2021-08-13T19:00:00+00:00",
          "2021-08-16T01:00:00+00:00",
          "2021-08-16T03:00:00+00:00",
          "2021-08-16T05:00:00+00:00",
          "2021-08-16T11:00:00+00:00",
          "2021-08-16T13:00:00+00:00",
          "2021-08-16T14:00:00+00:00",
          "2021-08-16T15:00:00+00:00",
          "2021-08-16T16:00:00+00:00",
          "2021-08-16T17:00:00+00:00",
          "2021-08-16T20:00:00+00:00",
          "2021-08-17T00:00:00+00:00",
          "2021-08-17T02:00:00+00:00",
          "2021-08-17T03:00:00+00:00",
          "2021-08-17T09:00:00+00:00",
          "2021-08-17T13:00:00+00:00",
          "2021-08-17T17:00:00+00:00",
          "2021-08-17T21:00:00+00:00",
          "2021-08-18T00:00:00+00:00",
          "2021-08-18T03:00:00+00:00",
          "2021-08-18T05:00:00+00:00",
          "2021-08-18T06:00:00+00:00",
          "2021-08-18T07:00:00+00:00",
          "2021-08-18T08:00:00+00:00",
          "2021-08-18T09:00:00+00:00",
          "2021-08-18T10:00:00+00:00",
          "2021-08-18T11:00:00+00:00",
          "2021-08-18T12:00:00+00:00",
          "2021-08-18T13:00:00+00:00",
          "2021-08-18T14:00:00+00:00",
          "2021-08-18T15:00:00+00:00",
          "2021-08-18T16:00:00+00:00",
          "2021-08-18T19:00:00+00:00",
          "2021-08-18T23:00:00+00:00",
          "2021-08-19T01:00:00+00:00",
          "2021-08-19T07:00:00+00:00",
          "2021-08-19T08:00:00+00:00",
          "2021-08-19T09:00:00+00:00",
          "2021-08-19T11:00:00+00:00",
          "2021-08-19T12:00:00+00:00",
          "2021-08-19T13:00:00+00:00",
          "2021-08-19T17:00:00+00:00",
          "2021-08-19T18:00:00+00:00",
          "2021-08-20T04:00:00+00:00",
          "2021-08-20T07:00:00+00:00",
          "2021-08-20T11:00:00+00:00",
          "2021-08-20T14:00:00+00:00",
          "2021-08-20T15:00:00+00:00",
          "2021-08-20T16:00:00+00:00",
          "2021-08-20T17:00:00+00:00",
          "2021-08-20T18:00:00+00:00",
          "2021-08-20T19:00:00+00:00",
          "2021-08-20T20:00:00+00:00",
          "2021-08-22T21:00:00+00:00",
          "2021-08-22T22:00:00+00:00",
          "2021-08-22T23:00:00+00:00",
          "2021-08-23T01:00:00+00:00",
          "2021-08-23T04:00:00+00:00",
          "2021-08-23T11:00:00+00:00",
          "2021-08-23T12:00:00+00:00",
          "2021-08-23T18:00:00+00:00",
          "2021-08-24T08:00:00+00:00",
          "2021-08-24T09:00:00+00:00",
          "2021-08-24T13:00:00+00:00",
          "2021-08-24T15:00:00+00:00",
          "2021-08-24T18:00:00+00:00",
          "2021-08-24T19:00:00+00:00",
          "2021-08-24T20:00:00+00:00",
          "2021-08-24T21:00:00+00:00",
          "2021-08-24T23:00:00+00:00",
          "2021-08-25T01:00:00+00:00",
          "2021-08-25T05:00:00+00:00",
          "2021-08-25T06:00:00+00:00",
          "2021-08-25T08:00:00+00:00",
          "2021-08-25T09:00:00+00:00",
          "2021-08-25T11:00:00+00:00",
          "2021-08-25T13:00:00+00:00",
          "2021-08-25T15:00:00+00:00",
          "2021-08-25T17:00:00+00:00",
          "2021-08-25T18:00:00+00:00",
          "2021-08-25T21:00:00+00:00",
          "2021-08-25T22:00:00+00:00",
          "2021-08-26T03:00:00+00:00",
          "2021-08-26T07:00:00+00:00",
          "2021-08-26T09:00:00+00:00",
          "2021-08-26T10:00:00+00:00",
          "2021-08-26T12:00:00+00:00",
          "2021-08-26T13:00:00+00:00",
          "2021-08-26T14:00:00+00:00",
          "2021-08-26T15:00:00+00:00",
          "2021-08-26T16:00:00+00:00",
          "2021-08-26T17:00:00+00:00",
          "2021-08-26T18:00:00+00:00",
          "2021-08-26T19:00:00+00:00",
          "2021-08-26T20:00:00+00:00",
          "2021-08-26T22:00:00+00:00",
          "2021-08-27T00:00:00+00:00",
          "2021-08-27T02:00:00+00:00",
          "2021-08-27T09:00:00+00:00",
          "2021-08-27T10:00:00+00:00",
          "2021-08-27T11:00:00+00:00",
          "2021-08-27T12:00:00+00:00",
          "2021-08-27T13:00:00+00:00",
          "2021-08-27T14:00:00+00:00",
          "2021-08-27T16:00:00+00:00",
          "2021-08-27T18:00:00+00:00",
          "2021-08-29T21:00:00+00:00",
          "2021-08-30T05:00:00+00:00",
          "2021-08-30T07:00:00+00:00",
          "2021-08-30T08:00:00+00:00",
          "2021-08-30T09:00:00+00:00",
          "2021-08-30T10:00:00+00:00",
          "2021-08-30T12:00:00+00:00",
          "2021-08-30T14:00:00+00:00",
          "2021-08-30T16:00:00+00:00",
          "2021-08-30T18:00:00+00:00",
          "2021-08-30T20:00:00+00:00",
          "2021-08-30T21:00:00+00:00",
          "2021-08-30T22:00:00+00:00",
          "2021-08-31T00:00:00+00:00",
          "2021-08-31T01:00:00+00:00",
          "2021-08-31T02:00:00+00:00",
          "2021-08-31T04:00:00+00:00",
          "2021-08-31T05:00:00+00:00",
          "2021-08-31T09:00:00+00:00",
          "2021-08-31T12:00:00+00:00",
          "2021-08-31T13:00:00+00:00",
          "2021-08-31T14:00:00+00:00",
          "2021-08-31T15:00:00+00:00",
          "2021-08-31T16:00:00+00:00",
          "2021-08-31T19:00:00+00:00",
          "2021-08-31T20:00:00+00:00",
          "2021-08-31T22:00:00+00:00",
          "2021-09-01T00:00:00+00:00",
          "2021-09-01T01:00:00+00:00",
          "2021-09-01T02:00:00+00:00",
          "2021-09-01T04:00:00+00:00",
          "2021-09-01T05:00:00+00:00",
          "2021-09-01T07:00:00+00:00",
          "2021-09-01T08:00:00+00:00",
          "2021-09-01T09:00:00+00:00",
          "2021-09-01T10:00:00+00:00",
          "2021-09-01T12:00:00+00:00",
          "2021-09-01T13:00:00+00:00",
          "2021-09-01T14:00:00+00:00",
          "2021-09-01T15:00:00+00:00",
          "2021-09-01T16:00:00+00:00",
          "2021-09-01T18:00:00+00:00",
          "2021-09-01T19:00:00+00:00",
          "2021-09-01T21:00:00+00:00",
          "2021-09-02T00:00:00+00:00",
          "2021-09-02T01:00:00+00:00",
          "2021-09-02T06:00:00+00:00",
          "2021-09-02T08:00:00+00:00",
          "2021-09-02T09:00:00+00:00",
          "2021-09-02T12:00:00+00:00",
          "2021-09-02T13:00:00+00:00",
          "2021-09-02T15:00:00+00:00",
          "2021-09-02T17:00:00+00:00",
          "2021-09-02T18:00:00+00:00",
          "2021-09-02T20:00:00+00:00",
          "2021-09-03T03:00:00+00:00",
          "2021-09-03T04:00:00+00:00",
          "2021-09-03T07:00:00+00:00",
          "2021-09-03T11:00:00+00:00",
          "2021-09-03T14:00:00+00:00",
          "2021-09-03T16:00:00+00:00",
          "2021-09-03T18:00:00+00:00",
          "2021-09-03T19:00:00+00:00",
          "2021-09-03T20:00:00+00:00",
          "2021-09-05T21:00:00+00:00",
          "2021-09-05T23:00:00+00:00",
          "2021-09-06T01:00:00+00:00",
          "2021-09-06T02:00:00+00:00",
          "2021-09-06T03:00:00+00:00",
          "2021-09-06T05:00:00+00:00",
          "2021-09-06T08:00:00+00:00",
          "2021-09-06T09:00:00+00:00",
          "2021-09-06T12:00:00+00:00",
          "2021-09-06T14:00:00+00:00",
          "2021-09-06T15:00:00+00:00",
          "2021-09-06T17:00:00+00:00",
          "2021-09-06T18:00:00+00:00",
          "2021-09-06T19:00:00+00:00",
          "2021-09-06T20:00:00+00:00",
          "2021-09-06T21:00:00+00:00",
          "2021-09-06T22:00:00+00:00",
          "2021-09-06T23:00:00+00:00",
          "2021-09-07T01:00:00+00:00",
          "2021-09-07T02:00:00+00:00",
          "2021-09-07T04:00:00+00:00",
          "2021-09-07T13:00:00+00:00",
          "2021-09-07T18:00:00+00:00"
         ],
         "y": [
          29.999999999999716,
          63.20000000000072,
          118.20000000000022,
          145.10000000000102,
          157.90000000000103,
          186.70000000000095,
          377.30000000000064,
          372.3000000000009,
          352.7000000000002,
          306.6000000000002,
          277.6000000000001,
          248.19999999999843,
          244.59999999999704,
          173.29999999999765,
          161.49999999999807,
          253.39999999999839,
          278.2999999999983,
          298.5999999999981,
          257.9999999999975,
          348.4999999999975,
          405.1999999999968,
          449.799999999997,
          549.6999999999964,
          525.2999999999953,
          557.1999999999948,
          633.4999999999951,
          652.4999999999949,
          672.2999999999959,
          651.6999999999953,
          598.6999999999954,
          567.0999999999951,
          535.399999999994,
          542.1999999999941,
          552.6999999999941,
          530.2999999999938,
          453.8999999999934,
          448.39999999999304,
          477.8999999999931,
          450.6999999999937,
          372.19999999999345,
          341.1999999999932,
          311.99999999999494,
          283.49999999999477,
          288.99999999999517,
          256.19999999999567,
          167.9999999999947,
          104.79999999999413,
          100.79999999999235,
          35.59999999999296,
          19.399999999994655,
          -4.600000000004922,
          -116.10000000000373,
          -240.20000000000516,
          -268.9000000000067,
          -359.2000000000064,
          -440.3000000000057,
          -439.20000000000516,
          -486.9000000000038,
          -524.8000000000043,
          -468.200000000004,
          -463.7000000000056,
          -319.40000000000623,
          -303.2000000000067,
          -213.40000000000575,
          -248.50000000000477,
          -203.90000000000293,
          -190.6000000000029,
          -226.100000000004,
          -256.600000000004,
          -235.8000000000032,
          -214.6000000000042,
          -144.7000000000044,
          -163.30000000000413,
          -226.7000000000056,
          -241.4000000000064,
          -215.30000000000692,
          -183.80000000000706,
          -213.60000000000676,
          -167.0000000000079,
          -253.4000000000077,
          -222.30000000000825,
          -308.10000000000855,
          -352.60000000000923,
          -379.8000000000098,
          -398.8000000000099,
          -374.70000000000994,
          -388.30000000000797,
          -419.300000000009,
          -420.100000000012,
          -439.10000000001213,
          -324.3000000000128,
          -337.7000000000129,
          -368.900000000013,
          -435.10000000001367,
          -368.500000000014,
          -428.50000000001404,
          -300.50000000001484,
          -306.3000000000151,
          -337.9000000000156,
          -290.50000000001376,
          -341.9000000000152,
          -312.600000000016,
          -335.80000000001587,
          -322.600000000016,
          -303.80000000001496,
          -324.3000000000148,
          -375.9000000000126,
          -362.6000000000121,
          -447.10000000001276,
          -495.9000000000127,
          -500.90000000001214,
          -444.90000000001163,
          -460.6000000000113,
          -445.40000000000975,
          -459.90000000001,
          -487.1000000000064,
          -531.1000000000071,
          -583.7000000000075,
          -598.1000000000064,
          -632.3000000000063,
          -631.0000000000068,
          -626.4000000000067,
          -651.2000000000071,
          -653.8000000000068,
          -652.0000000000067,
          -651.1000000000067,
          -653.0000000000073,
          -687.5000000000068,
          -715.2000000000062,
          -714.2000000000063,
          -715.2000000000069,
          -778.8000000000064,
          -830.6000000000047,
          -917.7000000000046,
          -946.8000000000045,
          -931.4000000000035,
          -944.000000000004,
          -928.2000000000027,
          -935.7000000000029,
          -1012.8000000000013,
          -1016.600000000001,
          -1022.6000000000013,
          -1024.5000000000005,
          -1005.3999999999992,
          -1017.7999999999982,
          -969.3999999999999,
          -982.8,
          -955.5000000000003,
          -965.8000000000012,
          -941.8000000000018,
          -818.000000000002,
          -586.3000000000029,
          -602.5000000000035,
          -563.1000000000041,
          -582.8000000000044,
          -578.5000000000051,
          -597.1000000000048,
          -597.6000000000037,
          -607.7000000000036,
          -612.0000000000028,
          -616.2000000000025,
          -644.9000000000017,
          -772.1000000000023,
          -775.4000000000038,
          -846.3000000000043,
          -804.6000000000041,
          -798.3000000000038,
          -808.5000000000036,
          -725.700000000003,
          -698.3000000000034,
          -720.5000000000034,
          -744.1000000000048,
          -739.2000000000038,
          -718.5000000000036,
          -710.9000000000049,
          -715.1000000000057,
          -731.9000000000062,
          -704.5000000000066,
          -659.5000000000072,
          -585.1000000000082,
          -512.8000000000072,
          -514.6000000000068,
          -516.000000000006,
          -486.4000000000061,
          -484.30000000000626,
          -497.50000000000614,
          -518.7000000000064,
          -524.1000000000084,
          -541.1000000000088,
          -543.500000000009,
          -566.1000000000105,
          -645.8000000000135,
          -648.0000000000126,
          -667.2000000000119,
          -666.6000000000118,
          -685.2000000000115,
          -759.700000000012,
          -711.8000000000136,
          -662.6000000000134,
          -702.6000000000156,
          -707.600000000015,
          -729.2000000000144,
          -744.6000000000142,
          -747.800000000014,
          -801.0000000000131,
          -812.4000000000145,
          -781.3000000000151,
          -780.0000000000132,
          -795.200000000015,
          -823.6000000000156,
          -804.4000000000163,
          -814.2000000000162,
          -828.2000000000169,
          -626.8000000000187,
          -589.8000000000184,
          -574.1000000000188,
          -566.3000000000185,
          -474.00000000001825,
          -455.6000000000176,
          -397.3000000000178,
          -390.0000000000188,
          -315.600000000019,
          -332.40000000001805,
          -348.2000000000183,
          -379.3000000000189,
          -395.0000000000185,
          -401.4000000000182,
          -429.9000000000184,
          -444.8000000000183,
          -464.60000000001816,
          -570.6000000000175,
          -589.5000000000181,
          -635.5000000000175,
          -666.5000000000185,
          -697.2000000000187,
          -757.1000000000203,
          -776.7000000000214,
          -499.40000000002,
          -68.00000000002154,
          -79.90000000002125,
          -92.90000000002222,
          -108.00000000002326,
          -107.40000000002324,
          -103.00000000002355,
          -35.100000000024764,
          -8.900000000024718,
          7.699999999974118,
          -34.300000000027474,
          -100.30000000002909,
          20.399999999971158,
          40.09999999997143,
          58.79999999997119,
          1.5999999999717218,
          -2.987832203871221e-11,
          134.7999999999706,
          195.59999999997035,
          446.5999999999707,
          449.8999999999701,
          472.99999999997084,
          434.1999999999709,
          429.89999999997025,
          395.6999999999705,
          396.09999999997046,
          373.89999999997104,
          383.8999999999722,
          332.8999999999737,
          425.499999999972,
          672.5999999999719,
          641.9999999999714,
          638.9999999999716,
          565.3999999999735,
          563.799999999973,
          559.0999999999733,
          498.09999999997194,
          452.3999999999723,
          469.6999999999746,
          452.69999999997424,
          440.39999999997474,
          409.3999999999745,
          388.4999999999742,
          366.4999999999744,
          273.599999999975,
          228.2999999999741,
          211.49999999997505,
          187.09999999997507,
          149.299999999975,
          137.099999999975,
          109.29999999997497,
          198.19999999997452,
          271.39999999997445,
          410.3999999999747,
          516.799999999974,
          595.1999999999732,
          782.4999999999736,
          791.1999999999729,
          1060.8999999999724,
          1072.499999999973,
          1249.4999999999734,
          1208.899999999974,
          1236.0999999999744,
          1251.499999999975,
          1267.7999999999763,
          1255.899999999976,
          1183.8999999999774,
          1185.0999999999774,
          1334.3999999999762,
          1368.8999999999758,
          1536.4999999999768,
          1621.299999999976,
          1687.3999999999762,
          1951.5999999999754,
          2070.8999999999746,
          2104.2999999999734,
          2183.2999999999734,
          2214.299999999974,
          2209.2999999999743,
          2051.6999999999744,
          2015.499999999975,
          2042.4999999999745,
          2054.599999999974,
          2136.999999999974,
          2041.1999999999725,
          2052.9999999999723,
          2037.9999999999718,
          2107.29999999997,
          2038.79999999997,
          1971.4999999999711,
          2011.5999999999722,
          1981.4999999999725,
          1982.1999999999737,
          2145.499999999973,
          2265.2999999999743,
          2302.3999999999737,
          2263.099999999974,
          2230.9999999999723,
          2171.099999999971,
          2150.799999999971,
          2145.199999999971,
          2110.0999999999713,
          2048.5999999999704,
          2012.7999999999702,
          1927.5999999999701,
          1828.1999999999696,
          1887.7999999999693,
          1862.7999999999697,
          1893.0999999999706,
          1875.5999999999704,
          1885.3999999999687,
          1847.59999999997,
          1826.2999999999702,
          1766.5999999999708,
          1772.6999999999707,
          1733.5999999999722,
          1716.6999999999714,
          1917.5999999999715,
          1895.1999999999714,
          2055.599999999972,
          2063.999999999972,
          2162.69999999997,
          2277.29999999997,
          2370.8999999999705,
          2355.8999999999714,
          2499.599999999969,
          2482.09999999997,
          2405.5999999999704,
          2329.199999999971,
          2297.799999999972,
          2286.899999999973,
          2578.299999999972,
          2483.1999999999716,
          2568.299999999972,
          2513.6999999999716,
          2403.3999999999705,
          2462.799999999969,
          2431.6999999999694,
          2424.899999999969,
          2401.8999999999687,
          2388.899999999968,
          2353.2999999999683,
          2319.5999999999676,
          2249.199999999966,
          2217.999999999966,
          2183.999999999965,
          2136.599999999966,
          2117.1999999999643,
          2124.2999999999643,
          1961.3999999999662,
          1931.7999999999677,
          1841.2999999999672,
          1815.7999999999677,
          1759.4999999999688,
          1746.4999999999693,
          1665.2999999999686,
          1613.999999999968,
          1550.4999999999693,
          1605.4999999999677,
          1456.6999999999666,
          1452.199999999966,
          1443.9999999999654,
          1393.0999999999651,
          1406.5999999999656,
          1429.1999999999668,
          1408.1999999999668,
          1394.1999999999662,
          1384.8999999999673,
          1379.8999999999662,
          1345.4999999999652,
          1333.099999999964,
          1381.4999999999636,
          1300.399999999962,
          1256.9999999999618,
          1217.3999999999598,
          1221.4999999999588,
          1146.6999999999573,
          1168.6999999999541,
          1179.699999999953,
          1172.099999999953,
          1145.299999999953,
          1115.3999999999535,
          1116.999999999953,
          1098.9999999999523,
          1080.1999999999507,
          1040.6999999999498,
          1019.0999999999503,
          1005.4999999999501,
          996.1999999999498,
          936.0999999999491,
          819.4999999999475,
          906.2999999999449,
          927.8999999999444,
          959.6999999999441,
          943.0999999999431,
          917.4999999999403,
          808.6999999999405,
          979.8999999999407,
          1122.0999999999403,
          1268.3999999999396,
          1523.99999999994,
          1473.599999999939,
          1435.999999999939,
          1399.9999999999386,
          1379.7999999999383,
          1456.1999999999382,
          1409.6999999999377,
          1476.5999999999374,
          1515.499999999937,
          1459.399999999938,
          1453.9999999999382,
          1443.8999999999376,
          1432.3999999999355,
          1413.4999999999338,
          1372.9999999999336,
          1339.799999999934,
          1291.4999999999336,
          1268.699999999933,
          1302.1999999999339,
          1271.1999999999337,
          1224.2999999999329,
          1197.1999999999327,
          1197.2999999999333,
          1153.3999999999332,
          1127.9999999999334,
          1087.999999999931,
          1082.5999999999308,
          1147.699999999931,
          1115.1999999999289,
          1111.3999999999285,
          1120.9999999999281,
          1088.799999999928,
          1067.1999999999264,
          1062.3999999999262,
          1060.5999999999262,
          1049.7999999999258,
          1000.9999999999259,
          932.999999999928,
          807.9999999999285,
          735.1999999999289,
          714.8999999999292,
          698.2999999999281,
          583.6999999999292,
          559.6999999999297,
          544.6999999999291,
          503.89999999992824,
          483.29999999992765,
          425.79999999992566,
          430.9999999999253,
          464.7999999999247,
          512.7999999999261,
          481.69999999992535,
          449.39999999992693,
          350.39999999992784,
          261.89999999992904,
          263.0999999999291,
          196.1999999999283,
          109.49999999992876,
          8.199999999930156,
          -62.0000000000701,
          -229.30000000007135,
          -444.00000000007225,
          -509.10000000007017,
          -530.2000000000708,
          -580.3000000000703,
          -655.0000000000712,
          -674.9000000000706,
          -655.9000000000705,
          -676.6000000000683,
          -705.8000000000685,
          -771.3000000000713,
          -721.4000000000696,
          -569.3000000000693,
          -547.8000000000684,
          -403.8000000000684,
          -420.3000000000677,
          -412.80000000006856,
          -437.70000000006735,
          -374.1000000000659,
          -337.3000000000657,
          -349.7000000000648,
          -443.50000000006645,
          -475.70000000006644,
          -496.10000000006687,
          -489.2000000000661,
          -109.80000000006748,
          -105.10000000006778,
          -134.7000000000685,
          -154.90000000006873,
          -203.40000000006782,
          -342.1000000000681,
          -345.80000000007016,
          -468.00000000007054,
          -510.50000000007026,
          -472.4000000000716,
          -505.90000000007126,
          -538.7000000000708,
          -584.1000000000715,
          -79.90000000007211,
          55.699999999926945,
          292.49999999993037,
          612.299999999929,
          591.09999999993,
          637.19999999993,
          631.8999999999297,
          628.0999999999292,
          603.8999999999284,
          693.4999999999284,
          682.6999999999293,
          631.999999999928,
          593.4999999999278,
          587.9999999999274,
          563.1999999999292,
          554.0999999999295,
          554.6999999999296,
          540.49999999993,
          514.9999999999304,
          457.8999999999316,
          432.7999999999311,
          770.8999999999297,
          762.1999999999293,
          831.5999999999287,
          944.3999999999305,
          912.6999999999293,
          986.5999999999306,
          1033.79999999993,
          946.0999999999317,
          912.1999999999321,
          943.2999999999327,
          977.5999999999316,
          975.9999999999325,
          987.4999999999324,
          1014.2999999999324,
          980.7999999999328,
          1052.1999999999325,
          1031.399999999934,
          1011.599999999933,
          1011.1999999999325,
          1019.8999999999318,
          1027.2999999999313,
          1046.6999999999296,
          1032.8999999999303,
          1037.6999999999312,
          862.6999999999305,
          831.1999999999306,
          730.6999999999294,
          719.899999999929,
          646.7999999999298,
          747.0999999999298,
          816.9999999999292,
          895.4999999999299,
          844.9999999999299,
          812.5999999999284,
          782.2999999999258,
          733.199999999925,
          742.7999999999254,
          743.0999999999251,
          761.8999999999251,
          762.4999999999251,
          754.2999999999257,
          707.2999999999242,
          669.0999999999227,
          651.7999999999226,
          656.3999999999228,
          655.0999999999232,
          615.799999999921,
          602.9999999999194,
          566.7999999999188,
          573.2999999999199,
          563.4999999999179,
          698.4999999999173,
          673.4999999999156,
          741.4999999999164,
          765.1999999999163,
          737.7999999999143,
          733.1999999999142,
          733.5999999999146,
          748.5999999999152,
          743.299999999916,
          716.0999999999156,
          650.899999999918,
          618.4999999999189,
          587.2999999999199,
          584.7999999999213,
          577.8999999999227,
          548.0999999999228,
          531.4999999999231,
          456.69999999992325,
          431.69999999992376,
          482.19999999992376,
          452.2999999999245,
          428.79999999992145,
          356.39999999992233,
          376.79999999992276,
          383.89999999992267,
          394.99999999992434,
          437.39999999992483,
          433.8999999999263,
          470.8999999999277,
          448.89999999992773,
          448.3999999999289,
          433.499999999929,
          442.2999999999289,
          417.8999999999289,
          381.9999999999291,
          378.6999999999297,
          356.6999999999299,
          309.29999999993026,
          280.8999999999304,
          276.0999999999302,
          238.89999999992855,
          190.0999999999286,
          168.69999999992874,
          92.5999999999309,
          62.49999999993244,
          54.699999999932416,
          25.499999999932257,
          10.699999999932999,
          -5.500000000067658,
          -41.50000000006902,
          -72.40000000006886,
          -164.5000000000689,
          -224.10000000006966,
          -268.10000000006926,
          -287.10000000007017,
          -188.90000000006998,
          -205.30000000007084,
          -90.40000000007191,
          -4.400000000071401,
          -16.100000000070423,
          379.49999999992883,
          564.4999999999284,
          525.0999999999278,
          544.2999999999286,
          698.0999999999281,
          683.6999999999289,
          688.799999999929,
          779.4999999999301,
          997.8999999999301,
          950.7999999999302,
          893.2999999999287,
          1220.4999999999281,
          1176.3999999999278,
          1181.199999999928,
          1234.3999999999278,
          1276.8999999999264,
          1261.399999999925,
          1263.5999999999242,
          1237.4999999999243,
          1202.4999999999236,
          1207.8999999999235,
          1311.4999999999227,
          1299.499999999923,
          1311.3999999999228,
          1269.4999999999231,
          1236.2999999999233,
          1331.199999999924,
          1321.2999999999238,
          1334.2999999999245,
          1270.099999999927,
          1257.4999999999266,
          1244.2999999999267,
          1237.899999999927,
          1202.5999999999287,
          1219.0999999999294,
          1215.6999999999302,
          1180.2999999999315,
          1180.399999999931,
          1033.2999999999338,
          1028.1999999999337,
          966.1999999999322,
          935.7999999999329,
          895.7999999999337,
          868.6999999999338,
          771.0999999999343,
          758.6999999999352,
          737.4999999999351,
          708.1999999999341,
          707.3999999999355,
          737.799999999936,
          699.5999999999344,
          676.4999999999352,
          655.8999999999357,
          656.6999999999367,
          580.3999999999355,
          492.4999999999374,
          477.3999999999392,
          431.69999999993894,
          426.4999999999395,
          406.59999999994017,
          333.399999999938,
          313.7999999999384,
          249.99999999993628,
          301.69999999993524,
          261.9999999999347,
          240.29999999993464,
          223.79999999993535,
          194.79999999993615,
          83.59999999993694,
          41.29999999993516,
          9.099999999935157,
          140.09999999993516,
          143.1999999999329,
          244.19999999993288,
          259.0999999999344,
          286.29999999993277,
          606.6999999999346,
          576.3999999999337,
          557.9999999999342,
          479.4999999999351,
          448.49999999993497,
          475.6999999999355,
          560.4999999999361,
          753.0999999999367,
          720.0999999999383,
          656.0999999999386,
          646.9999999999378,
          660.7999999999372,
          619.9999999999385,
          602.799999999939,
          579.9999999999382,
          522.5999999999374,
          493.89999999993677,
          474.4999999999359,
          448.1999999999368,
          426.29999999993765,
          398.4999999999376,
          377.0999999999384,
          353.1999999999389,
          367.8999999999386,
          255.39999999994097,
          225.6999999999396,
          204.39999999993995,
          145.9999999999393,
          144.19999999993922,
          112.9999999999391,
          115.99999999993935,
          15.69999999994063,
          -66.40000000005934,
          -129.40000000006017,
          -207.5000000000611,
          -88.00000000006223,
          48.19999999993742,
          85.29999999993733,
          191.09999999993767,
          226.49999999993867,
          193.99999999993892,
          223.19999999993908,
          99.4999999999397,
          65.19999999993935,
          74.89999999993877,
          31.399999999939126,
          46.19999999993949,
          -23.40000000006127,
          52.39999999993904,
          203.49999999994083,
          158.3999999999388,
          157.599999999938,
          95.19999999993652,
          95.69999999993607,
          92.299999999936,
          32.799999999935906,
          3.2999999999371568,
          -19.70000000006324,
          -34.50000000006361,
          -93.20000000006402,
          -134.20000000006394,
          -297.40000000006467,
          -337.2000000000643,
          -345.70000000006445,
          -392.1000000000642,
          -381.30000000006453,
          -447.30000000006527,
          -342.90000000006415,
          -376.50000000006463,
          -525.6000000000647,
          -537.8000000000665,
          -614.4000000000665,
          -670.6000000000682,
          -681.9000000000701,
          -504.1000000000688,
          -450.3000000000694,
          -544.000000000068,
          -561.4000000000672,
          -474.40000000006785,
          -531.9000000000698,
          -545.1000000000703,
          -596.4000000000722,
          -551.2000000000736,
          -573.0000000000739,
          -558.9000000000759,
          -576.5000000000753,
          -599.8000000000758,
          -554.4000000000759,
          -559.8000000000758,
          -577.3000000000754,
          -653.1000000000769,
          -697.3000000000776,
          -714.5000000000771,
          -734.8000000000768,
          -740.2000000000755,
          -734.7000000000751,
          -776.0000000000748,
          -710.2000000000778,
          -538.000000000077,
          -554.5000000000784,
          -624.2000000000775,
          -684.0000000000784,
          -679.0000000000787,
          -550.9000000000781,
          -553.600000000078,
          -287.50000000007765,
          -51.60000000007676,
          -63.80000000007675,
          -46.00000000007671,
          -37.90000000007916,
          -30.400000000078876,
          -18.400000000080553,
          -18.600000000081863,
          22.499999999917783,
          171.89999999991863,
          203.69999999991825,
          190.89999999991656,
          156.29999999991637,
          122.19999999991501,
          111.7999999999146,
          86.39999999991474,
          75.59999999991504,
          68.69999999991424,
          46.09999999991273,
          32.39999999991291,
          -32.20000000008841,
          -81.70000000008851,
          -101.70000000008852,
          -121.8000000000892,
          -128.20000000008895,
          -145.70000000008923,
          -214.90000000008962,
          -78.90000000008794,
          -40.70000000008749,
          -66.30000000008867,
          98.39999999991117,
          96.69999999991003,
          89.49999999990949,
          195.0999999999085,
          205.0999999999085,
          194.499999999909,
          210.89999999990985,
          234.89999999990943,
          255.59999999990958,
          290.2999999999082,
          295.6999999999081,
          258.99999999990905,
          257.59999999990987,
          237.79999999991006,
          328.79999999991,
          331.9999999999099,
          356.19999999990966,
          350.3999999999104,
          334.69999999990966,
          371.7999999999096,
          370.3999999999078,
          410.8999999999055,
          459.5999999999048,
          447.39999999990414,
          477.9999999999039,
          438.3999999999024,
          292.19999999990364,
          278.99999999990376,
          269.09999999990345,
          281.6999999999039,
          250.2999999999047,
          351.39999999990533,
          339.5999999999057,
          318.49999999990587,
          218.49999999990303,
          215.49999999990337,
          194.3999999999028,
          151.89999999990192,
          111.49999999990149,
          83.89999999990053,
          -49.90000000010005,
          -84.40000000009958,
          -45.50000000010142,
          -35.400000000101514,
          -84.70000000010252,
          -91.50000000010266,
          -102.10000000010326,
          -118.80000000010386,
          -141.9000000001044,
          -155.00000000010584,
          -226.70000000010634,
          -252.30000000010642,
          -282.6000000001073,
          -301.4000000001083,
          -291.5000000001089,
          -268.10000000010854,
          -262.7000000001087,
          -229.90000000010923,
          -1.6000000001101853,
          36.599999999890315,
          131.99999999989134,
          113.19999999989142,
          92.69999999989034,
          70.09999999988884,
          166.29999999988843,
          147.7999999998882,
          272.79999999988775,
          266.39999999988845,
          266.39999999988845,
          261.39999999988873,
          250.59999999988975,
          232.09999999989236,
          322.39999999989107,
          401.19999999989307,
          338.49999999989484,
          440.89999999989413,
          650.4999999998928,
          613.8999999998921,
          598.0999999998913,
          515.499999999892,
          502.59999999989185,
          500.59999999989225,
          429.09999999989236,
          414.49999999989217,
          419.0999999998928,
          623.4999999998929,
          782.5999999998937,
          689.9999999998955,
          669.9999999998955,
          778.899999999893,
          713.3999999998916,
          620.8999999998896,
          620.0999999998888,
          909.4999999998885,
          1102.1999999998875,
          1093.9999999998881,
          1070.4999999998875,
          1064.1999999998873,
          1058.0999999998874,
          1049.0999999998871,
          1063.6999999998873,
          1059.4999999998863,
          1050.099999999887,
          1044.0999999998867,
          1032.4999999998868,
          1101.8999999998846,
          1062.299999999885,
          1134.2999999998835,
          1188.5999999998828,
          1369.8999999998837,
          1384.9999999998847,
          1382.4999999998838,
          1359.299999999884,
          1302.6999999998827,
          1243.0999999998833,
          1227.4999999998827,
          1196.2999999998829,
          1195.499999999882,
          1289.8999999998832,
          1265.6999999998845,
          1314.7999999998842,
          1370.6999999998839,
          1405.3999999998846,
          1441.6999999998839,
          1448.1999999998836,
          1400.5999999998849,
          1401.9999999998852,
          1468.4999999998859,
          1457.4999999998845,
          1448.099999999885,
          1502.999999999885,
          1513.7999999998847,
          1500.799999999886,
          1543.0999999998855,
          1556.2999999998876,
          1529.8999999998866,
          1527.3999999998875,
          1566.3999999998887,
          1562.7999999998883,
          1607.1999999998884,
          1568.1999999998866,
          1596.599999999887,
          1600.5999999998864,
          1606.799999999885,
          1605.299999999884,
          1597.999999999885,
          1744.399999999887,
          1713.2999999998876,
          1732.199999999887,
          1844.5999999998862,
          1885.399999999887,
          1864.5999999998871,
          1842.8999999998873,
          1800.1999999998852,
          1794.4999999998856,
          1790.7999999998858,
          1753.6999999998848,
          1729.5999999998855,
          1700.699999999885,
          1698.499999999883,
          1704.3999999998832,
          1663.399999999883,
          1604.3999999998855,
          1592.6999999998866,
          1576.099999999887,
          1581.0999999998864,
          1544.099999999886,
          1536.299999999886,
          1514.0999999998855,
          1491.9999999998852,
          1500.4999999998859,
          1447.8999999998866,
          1434.0999999998883,
          1433.4999999998888,
          1414.3999999998887,
          1369.3999999998891,
          1338.199999999889,
          1338.2999999998892,
          1315.0999999998894,
          1299.8999999998875,
          1355.3999999998848,
          1308.1999999998843,
          1333.7999999998844,
          1475.699999999885,
          1483.299999999886,
          1538.4999999998854,
          1548.099999999886,
          1602.2999999998858,
          1629.9999999998863,
          1632.0999999998855,
          1608.0999999998846,
          1622.0999999998833,
          1583.899999999884,
          1556.7999999998851,
          1526.5999999998833,
          1541.8999999998837,
          1526.0999999998849,
          1488.4999999998845,
          1476.4999999998859,
          1481.6999999998866,
          1454.4999999998875,
          1466.6999999998875,
          1434.4999999998875,
          1410.4999999998868,
          1364.2999999998883,
          1339.3999999998896,
          1260.3999999998894,
          1290.4999999998904,
          1315.0999999998905,
          1306.29999999989,
          1276.999999999891,
          1247.199999999889,
          1212.599999999888,
          1195.5999999998876,
          1167.3999999998853,
          1138.3999999998855,
          1179.3999999998855,
          1160.7999999998858,
          1046.1999999998857,
          1066.3999999998855,
          974.3999999998846,
          947.7999999998847,
          906.199999999885,
          886.9999999998843,
          783.7999999998843,
          677.5999999998853,
          631.8999999998857,
          620.899999999887,
          616.2999999998863,
          528.5999999998872,
          510.5999999998859,
          531.4999999998845,
          548.1999999998851,
          544.4999999998853,
          543.0999999998861,
          534.3999999998869,
          529.5999999998864,
          552.2999999998864,
          804.9999999998877,
          754.1999999998883,
          747.3999999998885,
          724.1999999998875,
          785.6999999998868,
          1014.699999999887,
          1144.7999999998879,
          1088.3999999998873,
          1080.4999999998888,
          1082.5999999998892,
          1045.7999999998879,
          1000.0999999998864,
          989.8999999998861,
          963.4999999998863,
          926.0999999998878,
          923.1999999998877,
          936.9999999998871,
          918.1999999998868,
          892.4999999998872,
          843.999999999887,
          883.4999999998882,
          850.1999999998884,
          694.6999999998891,
          624.79999999989,
          726.6999999998915,
          683.0999999998922,
          673.1999999998918,
          799.9999999998945,
          720.4999999998954,
          762.4999999998952,
          795.3999999998931,
          778.5999999998925,
          755.9999999998943,
          759.6999999998941,
          646.4999999998965,
          639.8999999998957,
          620.3999999998956,
          557.7999999998951,
          589.6999999998955,
          697.6999999998958,
          878.899999999897,
          880.6999999998985,
          868.8999999998989,
          1003.9999999998975,
          954.1999999998953,
          964.3999999998955,
          1010.3999999998971,
          1016.1999999998974,
          1013.099999999897,
          1017.9999999998963,
          1022.5999999998953,
          984.0999999998962,
          943.3999999998961,
          955.1999999998956,
          954.1999999998945,
          928.0999999998945,
          964.3999999998966,
          971.0999999998949,
          951.5999999998937,
          935.9999999998937,
          912.8999999998933,
          893.7999999998931,
          883.5999999998929,
          852.4999999998935,
          787.1999999998942,
          692.1999999998935,
          672.2999999998941,
          654.3999999998923,
          638.6999999998927,
          547.4999999998926,
          473.6999999998932,
          417.69999999989267,
          416.79999999989235,
          389.69999999989085,
          376.29999999989076,
          329.7999999998904,
          298.0999999998904,
          277.5999999998893,
          230.39999999988953,
          210.59999999988972,
          292.1999999998892,
          353.99999999988984,
          407.199999999889,
          392.09999999989,
          378.3999999998899,
          335.8999999998891,
          326.69999999988875,
          276.9999999998894,
          248.1999999998883,
          162.39999999988976,
          159.1999999998901,
          126.89999999988945,
          97.99999999989072,
          140.89999999989087,
          154.79999999989187,
          240.39999999989087,
          227.8999999998938,
          243.49999999989384,
          137.7999999998932,
          134.19999999989403,
          75.19999999989386,
          45.79999999989444,
          -30.80000000010574,
          -68.40000000010559,
          -77.800000000105,
          -92.50000000010556,
          -103.50000000010354,
          -41.90000000010215,
          -52.80000000010251,
          -70.80000000010274,
          -53.80000000010239,
          -66.50000000010192,
          -160.3000000001025,
          -136.3000000001007,
          -155.9000000001005,
          -174.90000000010028,
          -153.60000000010052,
          -138.00000000010135,
          -165.50000000010192,
          -194.50000000010206,
          -140.10000000010095,
          -101.3000000001018,
          -127.60000000010344,
          -65.40000000010447,
          -8.200000000102776,
          -10.600000000102956,
          6.299999999897537,
          16.499999999897746,
          -9.500000000101611,
          -37.50000000010297,
          -68.500000000104,
          -95.50000000010324,
          -101.30000000010128,
          -84.50000000010064,
          -41.000000000100414,
          -56.20000000010194,
          -60.70000000010255,
          6.6999999998971305,
          41.29999999989732,
          130.09999999989952,
          141.9999999998991,
          100.19999999989935,
          48.499999999899266,
          39.399999999900935,
          -6.300000000099054,
          -1.6000000000993495,
          -16.80000000009803,
          -107.10000000009896,
          -129.3000000000998,
          -164.10000000010018,
          -165.30000000010023,
          -218.10000000009742,
          -303.2000000000976,
          -324.20000000009844,
          -318.4000000000993,
          -348.30000000009977,
          -392.7000000000989,
          -559.7000000001005,
          -581.300000000101,
          -675.9000000001031,
          -679.100000000104,
          -696.3000000001035,
          -685.7000000001051,
          -694.6000000001056,
          -706.6000000001065,
          -753.7000000001065,
          -765.1000000001069,
          -805.8000000001063,
          -817.5000000001052,
          -811.3000000001045,
          -843.900000000105,
          -859.3000000001061,
          -939.2000000001065,
          -960.0000000001063,
          -965.6000000001063,
          -1011.2000000001045,
          -1111.9000000001042,
          -1079.3000000001039,
          -1097.7000000001035,
          -1105.9000000001029,
          -1146.100000000102,
          -1156.0000000001025,
          -1170.3000000001025,
          -1172.3000000001023,
          -1190.2000000001017,
          -1217.0000000001019,
          -1239.900000000103,
          -1268.3000000001023,
          -1298.7000000001026,
          -1405.700000000103,
          -1332.5000000001028,
          -1352.2000000001024,
          -1333.6000000001027,
          -1351.8000000001043,
          -1393.000000000105,
          -1447.8000000001052,
          -1451.2000000001053,
          -1473.8000000001045,
          -1482.000000000105,
          -1510.2000000001055,
          -1525.4000000001074,
          -1533.500000000107,
          -1569.100000000106,
          -1694.500000000106,
          -1727.0000000001057,
          -1718.4000000001072,
          -1702.900000000107,
          -1768.6000000001077,
          -1808.0000000001096,
          -1876.9000000001083,
          -1925.300000000108,
          -1936.8000000001077,
          -1943.90000000011,
          -1942.400000000109,
          -1948.4000000001083,
          -1957.6000000001086,
          -1926.2000000001117,
          -1961.9000000001124,
          -1987.600000000112,
          -2041.3000000001118,
          -2103.200000000112,
          -2154.3000000001116,
          -2194.3000000001116,
          -2026.4000000001133,
          -2031.6000000001127,
          -2063.800000000113,
          -2137.500000000114,
          -2145.4000000001124,
          -2144.4000000001133,
          -2167.200000000114,
          -2169.4000000001147,
          -2437.0000000001146,
          -2346.5000000001155,
          -2011.3000000001139,
          -2017.6000000001152,
          -1816.400000000115,
          -1529.000000000115,
          -1616.4000000001147,
          -1623.400000000114,
          -1632.200000000114,
          -1239.3000000001148,
          -1123.9000000001136,
          -1139.6000000001143,
          -1101.8000000001152,
          -1112.5000000001164,
          -1243.3000000001161,
          -1263.100000000117,
          -1257.700000000116,
          -1231.9000000001158,
          -1235.9000000001154,
          -1226.300000000115,
          -1237.9000000001145,
          -1237.7000000001142,
          -1224.9000000001147,
          -1231.8000000001143,
          -1266.0000000001141,
          -1274.300000000113,
          -1289.400000000113,
          -1279.3000000001132,
          -1275.2000000001135,
          -1273.4000000001129,
          -1298.2000000001121,
          -1387.5000000001132,
          -1391.700000000113,
          -1385.7000000001137,
          -1383.3000000001136,
          -1384.0000000001137,
          -1190.0000000001144,
          -956.8000000001146,
          -760.7000000001153,
          -663.7000000001154,
          -617.8000000001146,
          -650.6000000001152,
          -661.8000000001152,
          -682.0000000001144,
          -663.9000000001157,
          -673.5000000001164,
          -553.3000000001161,
          -412.00000000011863,
          -440.5000000001188,
          -358.500000000119,
          -388.80000000011876,
          -421.20000000011566,
          -415.0000000001128,
          -399.4000000001149,
          -397.70000000011487,
          -397.70000000011487,
          -404.7000000001152,
          -403.7000000001153,
          -452.6000000001159,
          -420.30000000011637,
          -439.30000000011427,
          -454.80000000011364,
          -477.40000000011514,
          -500.10000000011286,
          -508.50000000011346,
          -532.2000000001133,
          -529.5000000001127,
          -545.4000000001118,
          -539.9000000001112,
          -431.10000000010973,
          -442.20000000011026,
          -528.5000000001116,
          -562.1000000001119,
          -576.0000000001119,
          -587.700000000113,
          -592.1000000001119,
          -620.400000000112,
          -626.3000000001128,
          -645.600000000114,
          -635.4000000001139,
          -585.6000000001148,
          -611.4000000001151,
          -633.8000000001141,
          -638.700000000114,
          -652.9000000001138,
          -504.2000000001126,
          -456.00000000011215,
          -411.50000000011283,
          -383.7000000001117,
          -377.60000000011047,
          -419.2000000001132,
          -298.4000000001123,
          -245.8000000001141,
          -286.6000000001127,
          -221.6000000001132,
          -286.4000000001128,
          -296.6000000001122,
          -312.60000000011087,
          -269.7000000001102,
          -270.500000000111,
          -268.70000000011254,
          -282.6000000001126,
          -302.10000000011377,
          -314.4000000001144,
          -327.8000000001156,
          -342.100000000116,
          -378.90000000011617,
          -382.9000000001157,
          -384.30000000011603,
          -373.1000000001159,
          -432.0000000001143,
          -460.7000000001147,
          -405.5000000001156,
          -415.7000000001143,
          -433.7000000001145,
          -409.40000000011565,
          -383.100000000115,
          -392.80000000011637,
          -376.3000000001154,
          -379.20000000011555,
          -385.0000000001158,
          -404.6000000001165,
          -404.200000000115,
          -441.60000000011576,
          -508.100000000114,
          -526.600000000113,
          -562.8000000001126,
          -662.2000000001132,
          -795.5000000001116,
          -803.1000000001114,
          -804.3000000001115,
          -818.9000000001123,
          -865.3000000001122,
          -898.000000000112,
          -986.8000000001119,
          -1043.400000000112,
          -1063.4000000001108,
          -1088.8000000001098,
          -928.0000000001094,
          -959.800000000109,
          -978.4000000001083,
          -890.2000000001099,
          -882.4000000001109,
          -908.900000000111,
          -887.3000000001116,
          -947.1000000001111,
          -975.5000000001106,
          -1002.8000000001102,
          -998.500000000111,
          -1004.4000000001097,
          -954.2000000001087,
          -804.100000000109,
          -835.4000000001092,
          -923.6000000001097,
          -982.7000000001105,
          -1016.500000000109,
          -1012.100000000109,
          -1151.0000000001098,
          -1188.4000000001106,
          -1228.0000000001114,
          -1370.600000000112,
          -1481.8000000001123,
          -1502.2000000001126,
          -1419.400000000112,
          -1466.9000000001129,
          -1300.2000000001117,
          -1220.8000000001116,
          -1077.4000000001115,
          -960.0000000001107,
          -970.6000000001113,
          -1032.9000000001104,
          -999.6000000001109,
          -1007.3000000001114,
          -1138.7000000001117,
          -1195.6000000001104,
          -1291.9000000001106,
          -1350.200000000109,
          -1416.8000000001095,
          -1473.9000000001072,
          -1504.5000000001069,
          -1433.0000000001048,
          -1223.1000000001043,
          -1252.900000000104,
          -1208.3000000001043,
          -1129.9000000001047,
          -1050.1000000001036,
          -929.8000000001015,
          -896.4000000001014,
          -839.5000000001016,
          -837.700000000101,
          -823.5000000001012,
          -826.1000000001004,
          -792.900000000101,
          -805.0000000001004,
          -810.7000000001001,
          -857.8000000001,
          -807.4000000000985,
          -703.6000000000989,
          -628.6000000000984,
          -612.9000000000983,
          -674.1000000000973,
          -684.8000000000975,
          -742.8000000000977,
          -762.000000000098,
          -774.4000000000971,
          -807.4000000000979,
          -822.8000000000977,
          -860.800000000098,
          -977.5000000000981,
          -1091.1000000000977,
          -1195.5000000001,
          -1193.7000000000994,
          -1246.200000000097,
          -1310.200000000097,
          -1360.200000000097,
          -1330.200000000098,
          -1339.6000000000963,
          -1339.900000000096,
          -1412.5000000000964,
          -1477.700000000095,
          -1552.2000000000935,
          -1555.4000000000945,
          -1542.9000000000947,
          -1512.7000000000944,
          -1517.1000000000943,
          -1543.6000000000925,
          -1536.2000000000914,
          -1824.6000000000918,
          -1874.1000000000918,
          -1933.9000000000926,
          -2005.0000000000932,
          -2193.400000000093,
          -2252.100000000092,
          -2252.600000000092,
          -2324.100000000092,
          -2356.0000000000923,
          -2371.0000000000928,
          -2462.8000000000925,
          -2459.9000000000924,
          -2499.4000000000915,
          -2436.9000000000906,
          -2515.500000000091,
          -2586.900000000091,
          -2627.6000000000927,
          -2641.8000000000925,
          -2643.900000000093,
          -2462.100000000092,
          -2424.9000000000933,
          -2440.300000000093,
          -2514.300000000094,
          -2302.800000000094,
          -2334.0000000000937,
          -2390.700000000093,
          -2386.300000000093,
          -2391.600000000092,
          -2385.4000000000915,
          -2441.2000000000908,
          -2545.100000000091,
          -2397.1000000000918,
          -2400.0000000000914,
          -2414.0000000000914,
          -2407.9000000000915,
          -2410.900000000091,
          -2416.3000000000907,
          -2425.700000000091,
          -2545.9000000000883,
          -2636.800000000088,
          -2662.800000000089,
          -2704.6000000000895,
          -2747.700000000088,
          -2775.700000000088,
          -2695.300000000089,
          -2717.400000000089,
          -2727.500000000089,
          -2416.10000000009,
          -2264.9000000000906,
          -2219.1000000000895,
          -2226.800000000089,
          -1880.100000000088,
          -1880.3000000000893,
          -1837.0000000000898,
          -1896.8000000000886,
          -1927.200000000089,
          -1927.6000000000872,
          -1928.6000000000872,
          -1863.7000000000874,
          -1685.700000000087,
          -1714.9000000000872,
          -1661.900000000087,
          -1284.9000000000888,
          -1139.2000000000899,
          -1125.1000000000909,
          -1043.8000000000907,
          -712.8000000000922,
          -661.2000000000917,
          -686.2000000000922,
          -702.600000000092,
          -721.8000000000934,
          -642.6000000000942,
          -597.7000000000942,
          -525.4000000000946,
          -468.10000000009444,
          -461.90000000009377,
          -516.7000000000953,
          -503.8000000000974,
          -505.9000000000978,
          -484.80000000009835,
          -498.0000000000982,
          -513.2000000000983,
          -604.7000000000983,
          -607.4000000000982,
          -611.8000000000982,
          -616.0000000000983,
          -616.3000000000984,
          -619.8000000000991,
          -621.9000000000975,
          -632.7000000000994,
          -677.9000000001015,
          -723.1000000001023,
          -734.1000000001019,
          -748.9000000001033,
          -744.1000000001029,
          -754.7000000001035,
          -746.6000000001037,
          -733.5000000001023,
          -767.9000000001046,
          -541.6000000001053,
          -438.30000000010364,
          -465.60000000010325,
          -493.9000000001048,
          -530.2000000001048,
          -496.10000000010564,
          -509.8000000001066,
          -511.40000000010707,
          -544.500000000106,
          -568.5000000001055,
          -657.9000000001049,
          -702.5000000001047,
          -788.800000000105,
          -856.2000000001046,
          -858.5000000001053,
          -853.3000000001056,
          -870.7000000001052,
          -816.8000000001051,
          -811.0000000001058,
          -807.8000000001061,
          -794.5000000001058,
          -919.7000000001046,
          -1056.4000000001054,
          -1077.8000000001057,
          -1107.2000000001062,
          -1054.2000000001053,
          -1066.8000000001057,
          -1021.9000000001045,
          -1028.9000000001038,
          -1046.7000000001049,
          -1014.7000000001051,
          -891.2000000001033,
          -766.800000000102,
          -820.2000000001021,
          -841.700000000102,
          -759.2000000001022,
          -700.2000000001021,
          -711.0000000001019,
          -689.3000000001018,
          -660.9000000001013,
          -677.2000000001015,
          -654.2000000001018,
          -649.9000000001012,
          -663.9000000001007,
          -661.1000000001002,
          -670.7000000001009,
          -669.0000000001008,
          -680.3000000001016,
          -704.8000000001,
          -709.8000000001006,
          -635.4000000000995,
          -691.0000000000978,
          -661.6000000000972,
          -688.1000000000972,
          -697.9000000000972,
          -722.5000000000975,
          -790.3000000000987,
          -814.3000000000997,
          -778.7000000001007,
          -866.3000000000987,
          -906.2000000000988,
          -857.8000000000982,
          -806.9000000000987,
          -744.5000000000985,
          -677.6000000000961,
          -609.6000000000947,
          -600.3000000000937,
          -623.7000000000918,
          -645.3000000000934,
          -607.0000000000939,
          -625.8000000000927,
          -613.4000000000932,
          -399.800000000094,
          -283.60000000009325,
          -202.10000000009336,
          -154.50000000009237,
          99.49999999990851,
          89.49999999990739,
          156.39999999990712,
          242.9999999999071,
          223.499999999907,
          352.69999999990523,
          543.9999999999061,
          638.2999999999045,
          590.8999999999047,
          578.8999999999038,
          527.3999999999039,
          509.3999999999039,
          457.3999999999046,
          334.59999999990373,
          254.09999999990373,
          648.4999999999048,
          705.6999999999036,
          715.3999999999045,
          679.899999999905,
          697.5999999999055,
          670.399999999905,
          702.1999999999047,
          722.5999999999051,
          765.0999999999049,
          720.3999999999052,
          716.3999999999056,
          704.9999999999064,
          743.9999999999065,
          713.3999999999081,
          707.1999999999075,
          849.8999999999075,
          876.9999999999075,
          842.7999999999076,
          836.0999999999083,
          901.999999999908,
          919.2999999999081,
          996.899999999908,
          972.8999999999085,
          1005.9999999999077,
          1009.0999999999083,
          1005.2999999999072,
          993.899999999908,
          976.1999999999059,
          960.2999999999062,
          956.9999999999068,
          923.3999999999065,
          901.5999999999058,
          890.599999999907,
          880.1999999999057,
          891.9999999999053,
          835.699999999905,
          812.499999999905,
          784.9999999999058,
          737.5999999999061,
          736.4999999999055,
          692.8999999999053,
          685.1999999999048,
          731.399999999905,
          730.2999999999054,
          722.5999999999055,
          642.2999999999057,
          663.899999999905,
          691.799999999906,
          755.5999999999066,
          760.6999999999067,
          778.6999999999069,
          793.0999999999069,
          782.3999999999068,
          770.3999999999078,
          758.3999999999091,
          736.4999999999089,
          735.499999999909,
          693.4999999999081,
          687.9999999999095,
          676.399999999909,
          635.699999999911,
          623.2999999999115,
          748.4999999999123,
          885.7999999999129,
          882.4999999999142,
          866.199999999914,
          995.1999999999164,
          975.099999999917,
          1180.7999999999158,
          1237.1999999999168,
          1397.199999999917,
          1394.9999999999159,
          1372.7999999999158,
          1276.2999999999154,
          1446.2999999999165,
          1433.6999999999161,
          1434.999999999918,
          1424.7999999999174,
          1434.1999999999168,
          1456.5999999999185,
          1643.9999999999195,
          1765.599999999919,
          1832.7999999999195,
          1913.4999999999175,
          1779.1999999999182,
          1779.699999999917,
          1744.7999999999172,
          1832.3999999999182,
          1774.4999999999188,
          1760.8999999999185,
          1742.0999999999185,
          2000.599999999919,
          1996.8999999999198,
          1972.8999999999203,
          2079.399999999921,
          2165.7999999999206,
          2178.7999999999215,
          2051.399999999922,
          2059.599999999922,
          2106.8999999999223,
          2133.199999999923,
          2108.8999999999214,
          2123.899999999922,
          2109.799999999923,
          2116.9999999999222,
          1896.4999999999236,
          1886.6999999999236,
          1869.7999999999224,
          1849.5999999999233,
          1828.9999999999238,
          1853.9999999999245,
          1724.6999999999266,
          1869.5999999999278,
          1859.5999999999271,
          1836.7999999999265,
          1806.199999999926,
          2085.7999999999256,
          2103.999999999926,
          2286.2999999999256,
          2395.7999999999256,
          2565.8999999999264,
          2549.0999999999285,
          2616.1999999999266,
          2594.1999999999266,
          2574.5999999999267,
          2627.5999999999262,
          2611.5999999999267,
          2844.199999999927,
          2823.299999999928,
          2808.099999999928,
          2796.199999999928,
          2767.0999999999267,
          2763.399999999927,
          2755.2999999999265,
          2790.4999999999254,
          2815.9999999999286,
          3188.999999999928,
          3387.89999999993,
          3794.29999999993,
          3804.29999999993,
          3980.0999999999294,
          4055.0999999999294,
          4128.69999999993,
          4140.799999999929,
          4295.799999999927,
          4296.899999999927,
          4271.699999999925,
          4296.699999999924,
          4272.7999999999265,
          4241.199999999926,
          4215.099999999927,
          4253.499999999927,
          4257.399999999929,
          4301.99999999993,
          4314.79999999993,
          4348.69999999993,
          4369.999999999929,
          4328.09999999993,
          4326.799999999931,
          4321.8999999999305,
          4353.799999999929,
          4362.299999999928,
          4350.299999999929,
          4329.79999999993,
          4294.8999999999305,
          4277.59999999993,
          4239.39999999993,
          4232.49999999993,
          4205.49999999993,
          4214.89999999993,
          4247.69999999993,
          4238.799999999929,
          4178.799999999929,
          4088.899999999928,
          4114.099999999928,
          4072.1999999999293,
          4058.999999999929,
          4054.39999999993,
          4028.39999999993,
          4005.69999999993,
          3991.0999999999294,
          3976.1999999999293,
          3973.3999999999287,
          3953.099999999929,
          3991.89999999993,
          3987.3999999999296,
          4060.3999999999287,
          4173.799999999927,
          4091.9999999999236,
          4019.899999999924,
          3963.299999999925,
          3960.2999999999256,
          3936.7999999999247,
          3857.699999999924,
          3860.5999999999253,
          3980.5999999999253,
          3965.4999999999263,
          3955.999999999924,
          3893.3999999999237,
          3885.3999999999223,
          3854.3999999999232,
          3850.799999999923,
          3769.8999999999214,
          3712.2999999999215,
          3707.1999999999216,
          3800.7999999999197,
          3855.29999999992,
          3867.8999999999205,
          3839.7999999999206,
          3813.799999999921,
          3719.299999999922,
          3608.4999999999227,
          3565.8999999999232,
          3549.599999999923,
          3545.299999999924,
          3521.699999999925,
          3458.999999999925,
          3429.9999999999236,
          3382.999999999924,
          3391.7999999999233,
          3367.6999999999243,
          3395.099999999924,
          3374.1999999999234,
          3361.9999999999236,
          3273.4999999999245,
          3339.499999999926,
          3307.6999999999266,
          3271.0999999999267,
          3307.299999999926,
          3358.099999999926,
          3346.299999999926,
          3267.0999999999244,
          3252.799999999925,
          3322.699999999923,
          3310.199999999923,
          3280.199999999924,
          3273.999999999924,
          3213.0999999999244,
          3283.999999999925,
          3321.299999999925,
          3425.5999999999262,
          3452.699999999926,
          3484.5999999999262,
          3480.799999999927,
          3484.3999999999273,
          3496.299999999925,
          3478.5999999999244,
          3475.499999999924,
          3478.199999999924,
          3470.199999999924,
          3474.999999999924,
          3466.7999999999233,
          3462.7999999999242,
          3453.899999999924,
          3446.9999999999254,
          3436.8999999999264,
          3409.7999999999265,
          3407.999999999929,
          3402.5999999999294,
          3386.199999999931,
          3380.999999999932,
          3384.1999999999325,
          3387.999999999933,
          3363.799999999933,
          3355.799999999933,
          3312.099999999933,
          3284.3999999999337,
          3271.7999999999347,
          3256.299999999935,
          3261.7999999999347,
          3257.1999999999357,
          3264.7999999999342,
          3240.699999999934,
          3227.7999999999347,
          3156.7999999999347,
          3106.9999999999322,
          3086.4999999999336,
          3065.7999999999333,
          3033.8999999999332
         ]
        }
       ],
       "layout": {
        "font": {
         "color": "#e1e1e1",
         "size": 10
        },
        "height": 400,
        "margin": {
         "b": 10,
         "l": 15,
         "r": 15
        },
        "paper_bgcolor": "#1e1e1e",
        "plot_bgcolor": "#1e1e1e",
        "template": {
         "data": {
          "bar": [
           {
            "error_x": {
             "color": "#2a3f5f"
            },
            "error_y": {
             "color": "#2a3f5f"
            },
            "marker": {
             "line": {
              "color": "#E5ECF6",
              "width": 0.5
             },
             "pattern": {
              "fillmode": "overlay",
              "size": 10,
              "solidity": 0.2
             }
            },
            "type": "bar"
           }
          ],
          "barpolar": [
           {
            "marker": {
             "line": {
              "color": "#E5ECF6",
              "width": 0.5
             },
             "pattern": {
              "fillmode": "overlay",
              "size": 10,
              "solidity": 0.2
             }
            },
            "type": "barpolar"
           }
          ],
          "carpet": [
           {
            "aaxis": {
             "endlinecolor": "#2a3f5f",
             "gridcolor": "white",
             "linecolor": "white",
             "minorgridcolor": "white",
             "startlinecolor": "#2a3f5f"
            },
            "baxis": {
             "endlinecolor": "#2a3f5f",
             "gridcolor": "white",
             "linecolor": "white",
             "minorgridcolor": "white",
             "startlinecolor": "#2a3f5f"
            },
            "type": "carpet"
           }
          ],
          "choropleth": [
           {
            "colorbar": {
             "outlinewidth": 0,
             "ticks": ""
            },
            "type": "choropleth"
           }
          ],
          "contour": [
           {
            "colorbar": {
             "outlinewidth": 0,
             "ticks": ""
            },
            "colorscale": [
             [
              0,
              "#0d0887"
             ],
             [
              0.1111111111111111,
              "#46039f"
             ],
             [
              0.2222222222222222,
              "#7201a8"
             ],
             [
              0.3333333333333333,
              "#9c179e"
             ],
             [
              0.4444444444444444,
              "#bd3786"
             ],
             [
              0.5555555555555556,
              "#d8576b"
             ],
             [
              0.6666666666666666,
              "#ed7953"
             ],
             [
              0.7777777777777778,
              "#fb9f3a"
             ],
             [
              0.8888888888888888,
              "#fdca26"
             ],
             [
              1,
              "#f0f921"
             ]
            ],
            "type": "contour"
           }
          ],
          "contourcarpet": [
           {
            "colorbar": {
             "outlinewidth": 0,
             "ticks": ""
            },
            "type": "contourcarpet"
           }
          ],
          "heatmap": [
           {
            "colorbar": {
             "outlinewidth": 0,
             "ticks": ""
            },
            "colorscale": [
             [
              0,
              "#0d0887"
             ],
             [
              0.1111111111111111,
              "#46039f"
             ],
             [
              0.2222222222222222,
              "#7201a8"
             ],
             [
              0.3333333333333333,
              "#9c179e"
             ],
             [
              0.4444444444444444,
              "#bd3786"
             ],
             [
              0.5555555555555556,
              "#d8576b"
             ],
             [
              0.6666666666666666,
              "#ed7953"
             ],
             [
              0.7777777777777778,
              "#fb9f3a"
             ],
             [
              0.8888888888888888,
              "#fdca26"
             ],
             [
              1,
              "#f0f921"
             ]
            ],
            "type": "heatmap"
           }
          ],
          "heatmapgl": [
           {
            "colorbar": {
             "outlinewidth": 0,
             "ticks": ""
            },
            "colorscale": [
             [
              0,
              "#0d0887"
             ],
             [
              0.1111111111111111,
              "#46039f"
             ],
             [
              0.2222222222222222,
              "#7201a8"
             ],
             [
              0.3333333333333333,
              "#9c179e"
             ],
             [
              0.4444444444444444,
              "#bd3786"
             ],
             [
              0.5555555555555556,
              "#d8576b"
             ],
             [
              0.6666666666666666,
              "#ed7953"
             ],
             [
              0.7777777777777778,
              "#fb9f3a"
             ],
             [
              0.8888888888888888,
              "#fdca26"
             ],
             [
              1,
              "#f0f921"
             ]
            ],
            "type": "heatmapgl"
           }
          ],
          "histogram": [
           {
            "marker": {
             "pattern": {
              "fillmode": "overlay",
              "size": 10,
              "solidity": 0.2
             }
            },
            "type": "histogram"
           }
          ],
          "histogram2d": [
           {
            "colorbar": {
             "outlinewidth": 0,
             "ticks": ""
            },
            "colorscale": [
             [
              0,
              "#0d0887"
             ],
             [
              0.1111111111111111,
              "#46039f"
             ],
             [
              0.2222222222222222,
              "#7201a8"
             ],
             [
              0.3333333333333333,
              "#9c179e"
             ],
             [
              0.4444444444444444,
              "#bd3786"
             ],
             [
              0.5555555555555556,
              "#d8576b"
             ],
             [
              0.6666666666666666,
              "#ed7953"
             ],
             [
              0.7777777777777778,
              "#fb9f3a"
             ],
             [
              0.8888888888888888,
              "#fdca26"
             ],
             [
              1,
              "#f0f921"
             ]
            ],
            "type": "histogram2d"
           }
          ],
          "histogram2dcontour": [
           {
            "colorbar": {
             "outlinewidth": 0,
             "ticks": ""
            },
            "colorscale": [
             [
              0,
              "#0d0887"
             ],
             [
              0.1111111111111111,
              "#46039f"
             ],
             [
              0.2222222222222222,
              "#7201a8"
             ],
             [
              0.3333333333333333,
              "#9c179e"
             ],
             [
              0.4444444444444444,
              "#bd3786"
             ],
             [
              0.5555555555555556,
              "#d8576b"
             ],
             [
              0.6666666666666666,
              "#ed7953"
             ],
             [
              0.7777777777777778,
              "#fb9f3a"
             ],
             [
              0.8888888888888888,
              "#fdca26"
             ],
             [
              1,
              "#f0f921"
             ]
            ],
            "type": "histogram2dcontour"
           }
          ],
          "mesh3d": [
           {
            "colorbar": {
             "outlinewidth": 0,
             "ticks": ""
            },
            "type": "mesh3d"
           }
          ],
          "parcoords": [
           {
            "line": {
             "colorbar": {
              "outlinewidth": 0,
              "ticks": ""
             }
            },
            "type": "parcoords"
           }
          ],
          "pie": [
           {
            "automargin": true,
            "type": "pie"
           }
          ],
          "scatter": [
           {
            "marker": {
             "colorbar": {
              "outlinewidth": 0,
              "ticks": ""
             }
            },
            "type": "scatter"
           }
          ],
          "scatter3d": [
           {
            "line": {
             "colorbar": {
              "outlinewidth": 0,
              "ticks": ""
             }
            },
            "marker": {
             "colorbar": {
              "outlinewidth": 0,
              "ticks": ""
             }
            },
            "type": "scatter3d"
           }
          ],
          "scattercarpet": [
           {
            "marker": {
             "colorbar": {
              "outlinewidth": 0,
              "ticks": ""
             }
            },
            "type": "scattercarpet"
           }
          ],
          "scattergeo": [
           {
            "marker": {
             "colorbar": {
              "outlinewidth": 0,
              "ticks": ""
             }
            },
            "type": "scattergeo"
           }
          ],
          "scattergl": [
           {
            "marker": {
             "colorbar": {
              "outlinewidth": 0,
              "ticks": ""
             }
            },
            "type": "scattergl"
           }
          ],
          "scattermapbox": [
           {
            "marker": {
             "colorbar": {
              "outlinewidth": 0,
              "ticks": ""
             }
            },
            "type": "scattermapbox"
           }
          ],
          "scatterpolar": [
           {
            "marker": {
             "colorbar": {
              "outlinewidth": 0,
              "ticks": ""
             }
            },
            "type": "scatterpolar"
           }
          ],
          "scatterpolargl": [
           {
            "marker": {
             "colorbar": {
              "outlinewidth": 0,
              "ticks": ""
             }
            },
            "type": "scatterpolargl"
           }
          ],
          "scatterternary": [
           {
            "marker": {
             "colorbar": {
              "outlinewidth": 0,
              "ticks": ""
             }
            },
            "type": "scatterternary"
           }
          ],
          "surface": [
           {
            "colorbar": {
             "outlinewidth": 0,
             "ticks": ""
            },
            "colorscale": [
             [
              0,
              "#0d0887"
             ],
             [
              0.1111111111111111,
              "#46039f"
             ],
             [
              0.2222222222222222,
              "#7201a8"
             ],
             [
              0.3333333333333333,
              "#9c179e"
             ],
             [
              0.4444444444444444,
              "#bd3786"
             ],
             [
              0.5555555555555556,
              "#d8576b"
             ],
             [
              0.6666666666666666,
              "#ed7953"
             ],
             [
              0.7777777777777778,
              "#fb9f3a"
             ],
             [
              0.8888888888888888,
              "#fdca26"
             ],
             [
              1,
              "#f0f921"
             ]
            ],
            "type": "surface"
           }
          ],
          "table": [
           {
            "cells": {
             "fill": {
              "color": "#EBF0F8"
             },
             "line": {
              "color": "white"
             }
            },
            "header": {
             "fill": {
              "color": "#C8D4E3"
             },
             "line": {
              "color": "white"
             }
            },
            "type": "table"
           }
          ]
         },
         "layout": {
          "annotationdefaults": {
           "arrowcolor": "#2a3f5f",
           "arrowhead": 0,
           "arrowwidth": 1
          },
          "autotypenumbers": "strict",
          "coloraxis": {
           "colorbar": {
            "outlinewidth": 0,
            "ticks": ""
           }
          },
          "colorscale": {
           "diverging": [
            [
             0,
             "#8e0152"
            ],
            [
             0.1,
             "#c51b7d"
            ],
            [
             0.2,
             "#de77ae"
            ],
            [
             0.3,
             "#f1b6da"
            ],
            [
             0.4,
             "#fde0ef"
            ],
            [
             0.5,
             "#f7f7f7"
            ],
            [
             0.6,
             "#e6f5d0"
            ],
            [
             0.7,
             "#b8e186"
            ],
            [
             0.8,
             "#7fbc41"
            ],
            [
             0.9,
             "#4d9221"
            ],
            [
             1,
             "#276419"
            ]
           ],
           "sequential": [
            [
             0,
             "#0d0887"
            ],
            [
             0.1111111111111111,
             "#46039f"
            ],
            [
             0.2222222222222222,
             "#7201a8"
            ],
            [
             0.3333333333333333,
             "#9c179e"
            ],
            [
             0.4444444444444444,
             "#bd3786"
            ],
            [
             0.5555555555555556,
             "#d8576b"
            ],
            [
             0.6666666666666666,
             "#ed7953"
            ],
            [
             0.7777777777777778,
             "#fb9f3a"
            ],
            [
             0.8888888888888888,
             "#fdca26"
            ],
            [
             1,
             "#f0f921"
            ]
           ],
           "sequentialminus": [
            [
             0,
             "#0d0887"
            ],
            [
             0.1111111111111111,
             "#46039f"
            ],
            [
             0.2222222222222222,
             "#7201a8"
            ],
            [
             0.3333333333333333,
             "#9c179e"
            ],
            [
             0.4444444444444444,
             "#bd3786"
            ],
            [
             0.5555555555555556,
             "#d8576b"
            ],
            [
             0.6666666666666666,
             "#ed7953"
            ],
            [
             0.7777777777777778,
             "#fb9f3a"
            ],
            [
             0.8888888888888888,
             "#fdca26"
            ],
            [
             1,
             "#f0f921"
            ]
           ]
          },
          "colorway": [
           "#636efa",
           "#EF553B",
           "#00cc96",
           "#ab63fa",
           "#FFA15A",
           "#19d3f3",
           "#FF6692",
           "#B6E880",
           "#FF97FF",
           "#FECB52"
          ],
          "font": {
           "color": "#2a3f5f"
          },
          "geo": {
           "bgcolor": "white",
           "lakecolor": "white",
           "landcolor": "#E5ECF6",
           "showlakes": true,
           "showland": true,
           "subunitcolor": "white"
          },
          "hoverlabel": {
           "align": "left"
          },
          "hovermode": "closest",
          "mapbox": {
           "style": "light"
          },
          "paper_bgcolor": "white",
          "plot_bgcolor": "#E5ECF6",
          "polar": {
           "angularaxis": {
            "gridcolor": "white",
            "linecolor": "white",
            "ticks": ""
           },
           "bgcolor": "#E5ECF6",
           "radialaxis": {
            "gridcolor": "white",
            "linecolor": "white",
            "ticks": ""
           }
          },
          "scene": {
           "xaxis": {
            "backgroundcolor": "#E5ECF6",
            "gridcolor": "white",
            "gridwidth": 2,
            "linecolor": "white",
            "showbackground": true,
            "ticks": "",
            "zerolinecolor": "white"
           },
           "yaxis": {
            "backgroundcolor": "#E5ECF6",
            "gridcolor": "white",
            "gridwidth": 2,
            "linecolor": "white",
            "showbackground": true,
            "ticks": "",
            "zerolinecolor": "white"
           },
           "zaxis": {
            "backgroundcolor": "#E5ECF6",
            "gridcolor": "white",
            "gridwidth": 2,
            "linecolor": "white",
            "showbackground": true,
            "ticks": "",
            "zerolinecolor": "white"
           }
          },
          "shapedefaults": {
           "line": {
            "color": "#2a3f5f"
           }
          },
          "ternary": {
           "aaxis": {
            "gridcolor": "white",
            "linecolor": "white",
            "ticks": ""
           },
           "baxis": {
            "gridcolor": "white",
            "linecolor": "white",
            "ticks": ""
           },
           "bgcolor": "#E5ECF6",
           "caxis": {
            "gridcolor": "white",
            "linecolor": "white",
            "ticks": ""
           }
          },
          "title": {
           "x": 0.05
          },
          "xaxis": {
           "automargin": true,
           "gridcolor": "white",
           "linecolor": "white",
           "ticks": "",
           "title": {
            "standoff": 15
           },
           "zerolinecolor": "white",
           "zerolinewidth": 2
          },
          "yaxis": {
           "automargin": true,
           "gridcolor": "white",
           "linecolor": "white",
           "ticks": "",
           "title": {
            "standoff": 15
           },
           "zerolinecolor": "white",
           "zerolinewidth": 2
          }
         }
        },
        "title": {
         "text": "MA_8_32"
        },
        "width": 1000,
        "xaxis": {
         "linecolor": "#3a4a54",
         "linewidth": 1,
         "showgrid": false,
         "zeroline": false
        },
        "yaxis": {
         "linecolor": "#3a4a54",
         "linewidth": 1,
         "showgrid": false,
         "zeroline": false
        }
       }
      }
     },
     "metadata": {}
    },
    {
     "output_type": "stream",
     "name": "stdout",
     "text": [
      "                       time      mid_c      DIFF  DIFF_PREV  IS_TRADE  DELTA  \\\n",
      "0 2021-01-21 10:00:00+00:00    2.81033  0.000021  -0.000600         0  -31.1   \n",
      "1 2021-01-21 13:00:00+00:00    1.72984 -0.000656   0.000005        -1   34.5   \n",
      "2 2021-01-21 14:00:00+00:00  116.93000  0.050391  -0.047891         1  -15.2   \n",
      "3 2021-01-21 15:00:00+00:00  125.84300  0.033984  -0.022562         1    3.2   \n",
      "4 2021-01-21 17:00:00+00:00    1.73329  0.000620  -0.000220         1  198.8   \n",
      "\n",
      "    GAIN  MASHORT  MALONG  DURATION  \n",
      "0  -29.9        8     128      31.0  \n",
      "1  -34.5        4      64       4.0  \n",
      "2  -15.2        4      64      97.0  \n",
      "3    3.2        4      64      96.0  \n",
      "4  198.8        4      64     190.0  \n"
     ]
    },
    {
     "output_type": "display_data",
     "data": {
      "application/vnd.plotly.v1+json": {
       "config": {
        "plotlyServerURL": "https://plot.ly"
       },
       "data": [
        {
         "line": {
          "color": "#3d825f",
          "shape": "spline",
          "width": 2
         },
         "mode": "lines",
         "name": "CHF_JPY_GAIN",
         "type": "scatter",
         "x": [
          "2021-01-21T10:00:00+00:00",
          "2021-01-21T13:00:00+00:00",
          "2021-01-21T14:00:00+00:00",
          "2021-01-21T15:00:00+00:00",
          "2021-01-21T17:00:00+00:00",
          "2021-01-21T21:00:00+00:00",
          "2021-01-21T23:00:00+00:00",
          "2021-01-22T02:00:00+00:00",
          "2021-01-22T03:00:00+00:00",
          "2021-01-22T04:00:00+00:00",
          "2021-01-22T05:00:00+00:00",
          "2021-01-22T06:00:00+00:00",
          "2021-01-22T08:00:00+00:00",
          "2021-01-22T09:00:00+00:00",
          "2021-01-22T10:00:00+00:00",
          "2021-01-22T14:00:00+00:00",
          "2021-01-22T16:00:00+00:00",
          "2021-01-22T18:00:00+00:00",
          "2021-01-22T20:00:00+00:00",
          "2021-01-22T21:00:00+00:00",
          "2021-01-24T22:00:00+00:00",
          "2021-01-25T01:00:00+00:00",
          "2021-01-25T02:00:00+00:00",
          "2021-01-25T03:00:00+00:00",
          "2021-01-25T04:00:00+00:00",
          "2021-01-25T05:00:00+00:00",
          "2021-01-25T08:00:00+00:00",
          "2021-01-25T09:00:00+00:00",
          "2021-01-25T11:00:00+00:00",
          "2021-01-25T12:00:00+00:00",
          "2021-01-25T15:00:00+00:00",
          "2021-01-25T16:00:00+00:00",
          "2021-01-25T17:00:00+00:00",
          "2021-01-25T23:00:00+00:00",
          "2021-01-26T00:00:00+00:00",
          "2021-01-26T01:00:00+00:00",
          "2021-01-26T03:00:00+00:00",
          "2021-01-26T04:00:00+00:00",
          "2021-01-26T07:00:00+00:00",
          "2021-01-26T10:00:00+00:00",
          "2021-01-26T11:00:00+00:00",
          "2021-01-26T12:00:00+00:00",
          "2021-01-26T13:00:00+00:00",
          "2021-01-26T14:00:00+00:00",
          "2021-01-26T15:00:00+00:00",
          "2021-01-26T17:00:00+00:00",
          "2021-01-26T20:00:00+00:00",
          "2021-01-27T04:00:00+00:00",
          "2021-01-27T07:00:00+00:00",
          "2021-01-27T08:00:00+00:00",
          "2021-01-27T09:00:00+00:00",
          "2021-01-27T10:00:00+00:00",
          "2021-01-27T11:00:00+00:00",
          "2021-01-27T13:00:00+00:00",
          "2021-01-27T14:00:00+00:00",
          "2021-01-27T15:00:00+00:00",
          "2021-01-27T16:00:00+00:00",
          "2021-01-27T18:00:00+00:00",
          "2021-01-27T19:00:00+00:00",
          "2021-01-27T21:00:00+00:00",
          "2021-01-28T02:00:00+00:00",
          "2021-01-28T09:00:00+00:00",
          "2021-01-28T12:00:00+00:00",
          "2021-01-28T15:00:00+00:00",
          "2021-01-28T16:00:00+00:00",
          "2021-01-28T17:00:00+00:00",
          "2021-01-28T18:00:00+00:00",
          "2021-01-28T19:00:00+00:00",
          "2021-01-28T21:00:00+00:00",
          "2021-01-28T22:00:00+00:00",
          "2021-01-28T23:00:00+00:00",
          "2021-01-29T05:00:00+00:00",
          "2021-01-29T09:00:00+00:00",
          "2021-01-29T10:00:00+00:00",
          "2021-01-29T11:00:00+00:00",
          "2021-01-29T12:00:00+00:00",
          "2021-01-29T13:00:00+00:00",
          "2021-01-29T14:00:00+00:00",
          "2021-01-29T15:00:00+00:00",
          "2021-01-29T16:00:00+00:00",
          "2021-01-29T18:00:00+00:00",
          "2021-01-31T22:00:00+00:00",
          "2021-02-01T02:00:00+00:00",
          "2021-02-01T05:00:00+00:00",
          "2021-02-01T09:00:00+00:00",
          "2021-02-01T11:00:00+00:00",
          "2021-02-01T12:00:00+00:00",
          "2021-02-01T13:00:00+00:00",
          "2021-02-01T15:00:00+00:00",
          "2021-02-01T18:00:00+00:00",
          "2021-02-01T19:00:00+00:00",
          "2021-02-01T23:00:00+00:00",
          "2021-02-02T00:00:00+00:00",
          "2021-02-02T01:00:00+00:00",
          "2021-02-02T04:00:00+00:00",
          "2021-02-02T07:00:00+00:00",
          "2021-02-02T08:00:00+00:00",
          "2021-02-02T09:00:00+00:00",
          "2021-02-02T11:00:00+00:00",
          "2021-02-02T13:00:00+00:00",
          "2021-02-02T14:00:00+00:00",
          "2021-02-02T15:00:00+00:00",
          "2021-02-02T18:00:00+00:00",
          "2021-02-02T19:00:00+00:00",
          "2021-02-02T21:00:00+00:00",
          "2021-02-02T22:00:00+00:00",
          "2021-02-03T00:00:00+00:00",
          "2021-02-03T12:00:00+00:00",
          "2021-02-03T14:00:00+00:00",
          "2021-02-03T18:00:00+00:00",
          "2021-02-03T19:00:00+00:00",
          "2021-02-03T21:00:00+00:00",
          "2021-02-04T11:00:00+00:00",
          "2021-02-04T12:00:00+00:00",
          "2021-02-04T13:00:00+00:00",
          "2021-02-04T14:00:00+00:00",
          "2021-02-04T15:00:00+00:00",
          "2021-02-04T16:00:00+00:00",
          "2021-02-04T17:00:00+00:00",
          "2021-02-05T01:00:00+00:00",
          "2021-02-05T02:00:00+00:00",
          "2021-02-05T04:00:00+00:00",
          "2021-02-05T10:00:00+00:00",
          "2021-02-05T11:00:00+00:00",
          "2021-02-05T14:00:00+00:00",
          "2021-02-05T15:00:00+00:00",
          "2021-02-05T16:00:00+00:00",
          "2021-02-05T17:00:00+00:00",
          "2021-02-05T20:00:00+00:00",
          "2021-02-05T21:00:00+00:00",
          "2021-02-08T01:00:00+00:00",
          "2021-02-08T02:00:00+00:00",
          "2021-02-08T03:00:00+00:00",
          "2021-02-08T04:00:00+00:00",
          "2021-02-08T11:00:00+00:00",
          "2021-02-08T13:00:00+00:00",
          "2021-02-08T14:00:00+00:00",
          "2021-02-08T15:00:00+00:00",
          "2021-02-08T16:00:00+00:00",
          "2021-02-08T17:00:00+00:00",
          "2021-02-08T21:00:00+00:00",
          "2021-02-08T22:00:00+00:00",
          "2021-02-09T03:00:00+00:00",
          "2021-02-09T04:00:00+00:00",
          "2021-02-09T05:00:00+00:00",
          "2021-02-09T06:00:00+00:00",
          "2021-02-09T07:00:00+00:00",
          "2021-02-09T08:00:00+00:00",
          "2021-02-09T09:00:00+00:00",
          "2021-02-09T10:00:00+00:00",
          "2021-02-09T11:00:00+00:00",
          "2021-02-09T14:00:00+00:00",
          "2021-02-09T15:00:00+00:00",
          "2021-02-09T16:00:00+00:00",
          "2021-02-09T19:00:00+00:00",
          "2021-02-10T02:00:00+00:00",
          "2021-02-10T04:00:00+00:00",
          "2021-02-10T06:00:00+00:00",
          "2021-02-10T08:00:00+00:00",
          "2021-02-10T09:00:00+00:00",
          "2021-02-10T11:00:00+00:00",
          "2021-02-10T12:00:00+00:00",
          "2021-02-10T21:00:00+00:00",
          "2021-02-10T23:00:00+00:00",
          "2021-02-11T05:00:00+00:00",
          "2021-02-11T06:00:00+00:00",
          "2021-02-11T07:00:00+00:00",
          "2021-02-11T10:00:00+00:00",
          "2021-02-11T11:00:00+00:00",
          "2021-02-11T13:00:00+00:00",
          "2021-02-11T14:00:00+00:00",
          "2021-02-11T17:00:00+00:00",
          "2021-02-11T19:00:00+00:00",
          "2021-02-11T22:00:00+00:00",
          "2021-02-11T23:00:00+00:00",
          "2021-02-12T02:00:00+00:00",
          "2021-02-12T03:00:00+00:00",
          "2021-02-12T04:00:00+00:00",
          "2021-02-12T06:00:00+00:00",
          "2021-02-12T07:00:00+00:00",
          "2021-02-12T08:00:00+00:00",
          "2021-02-12T09:00:00+00:00",
          "2021-02-12T10:00:00+00:00",
          "2021-02-12T13:00:00+00:00",
          "2021-02-12T14:00:00+00:00",
          "2021-02-12T15:00:00+00:00",
          "2021-02-12T16:00:00+00:00",
          "2021-02-12T17:00:00+00:00",
          "2021-02-12T18:00:00+00:00",
          "2021-02-12T19:00:00+00:00",
          "2021-02-12T20:00:00+00:00",
          "2021-02-12T21:00:00+00:00",
          "2021-02-14T22:00:00+00:00",
          "2021-02-15T00:00:00+00:00",
          "2021-02-15T01:00:00+00:00",
          "2021-02-15T04:00:00+00:00",
          "2021-02-15T11:00:00+00:00",
          "2021-02-15T15:00:00+00:00",
          "2021-02-16T09:00:00+00:00",
          "2021-02-16T10:00:00+00:00",
          "2021-02-16T13:00:00+00:00",
          "2021-02-16T14:00:00+00:00",
          "2021-02-16T15:00:00+00:00",
          "2021-02-16T16:00:00+00:00",
          "2021-02-16T17:00:00+00:00",
          "2021-02-17T00:00:00+00:00",
          "2021-02-17T01:00:00+00:00",
          "2021-02-17T04:00:00+00:00",
          "2021-02-17T05:00:00+00:00",
          "2021-02-17T07:00:00+00:00",
          "2021-02-17T08:00:00+00:00",
          "2021-02-17T09:00:00+00:00",
          "2021-02-17T10:00:00+00:00",
          "2021-02-17T11:00:00+00:00",
          "2021-02-17T13:00:00+00:00",
          "2021-02-17T14:00:00+00:00",
          "2021-02-17T16:00:00+00:00",
          "2021-02-17T18:00:00+00:00",
          "2021-02-17T19:00:00+00:00",
          "2021-02-18T08:00:00+00:00",
          "2021-02-18T10:00:00+00:00",
          "2021-02-18T11:00:00+00:00",
          "2021-02-18T14:00:00+00:00",
          "2021-02-18T15:00:00+00:00",
          "2021-02-18T16:00:00+00:00",
          "2021-02-18T18:00:00+00:00",
          "2021-02-18T19:00:00+00:00",
          "2021-02-18T20:00:00+00:00",
          "2021-02-18T21:00:00+00:00",
          "2021-02-18T22:00:00+00:00",
          "2021-02-19T00:00:00+00:00",
          "2021-02-19T03:00:00+00:00",
          "2021-02-19T07:00:00+00:00",
          "2021-02-19T08:00:00+00:00",
          "2021-02-19T09:00:00+00:00",
          "2021-02-19T12:00:00+00:00",
          "2021-02-19T13:00:00+00:00",
          "2021-02-19T20:00:00+00:00",
          "2021-02-21T22:00:00+00:00",
          "2021-02-22T02:00:00+00:00",
          "2021-02-22T04:00:00+00:00",
          "2021-02-22T07:00:00+00:00",
          "2021-02-22T08:00:00+00:00",
          "2021-02-22T12:00:00+00:00",
          "2021-02-22T14:00:00+00:00",
          "2021-02-22T15:00:00+00:00",
          "2021-02-22T16:00:00+00:00",
          "2021-02-23T00:00:00+00:00",
          "2021-02-23T04:00:00+00:00",
          "2021-02-23T07:00:00+00:00",
          "2021-02-23T08:00:00+00:00",
          "2021-02-23T09:00:00+00:00",
          "2021-02-23T13:00:00+00:00",
          "2021-02-23T14:00:00+00:00",
          "2021-02-23T15:00:00+00:00",
          "2021-02-23T16:00:00+00:00",
          "2021-02-23T18:00:00+00:00",
          "2021-02-23T19:00:00+00:00",
          "2021-02-23T20:00:00+00:00",
          "2021-02-24T01:00:00+00:00",
          "2021-02-24T09:00:00+00:00",
          "2021-02-24T14:00:00+00:00",
          "2021-02-24T15:00:00+00:00",
          "2021-02-24T20:00:00+00:00",
          "2021-02-25T02:00:00+00:00",
          "2021-02-25T09:00:00+00:00",
          "2021-02-25T16:00:00+00:00",
          "2021-02-25T17:00:00+00:00",
          "2021-02-25T19:00:00+00:00",
          "2021-02-25T20:00:00+00:00",
          "2021-02-25T21:00:00+00:00",
          "2021-02-25T22:00:00+00:00",
          "2021-02-25T23:00:00+00:00",
          "2021-02-26T00:00:00+00:00",
          "2021-02-26T01:00:00+00:00",
          "2021-02-26T02:00:00+00:00",
          "2021-02-26T03:00:00+00:00",
          "2021-02-26T12:00:00+00:00",
          "2021-02-26T15:00:00+00:00",
          "2021-02-26T16:00:00+00:00",
          "2021-02-26T17:00:00+00:00",
          "2021-02-26T18:00:00+00:00",
          "2021-03-01T02:00:00+00:00",
          "2021-03-01T09:00:00+00:00",
          "2021-03-01T10:00:00+00:00",
          "2021-03-01T11:00:00+00:00",
          "2021-03-01T12:00:00+00:00",
          "2021-03-01T13:00:00+00:00",
          "2021-03-01T14:00:00+00:00",
          "2021-03-01T17:00:00+00:00",
          "2021-03-01T20:00:00+00:00",
          "2021-03-02T11:00:00+00:00",
          "2021-03-02T12:00:00+00:00",
          "2021-03-02T13:00:00+00:00",
          "2021-03-02T16:00:00+00:00",
          "2021-03-02T18:00:00+00:00",
          "2021-03-02T21:00:00+00:00",
          "2021-03-02T22:00:00+00:00",
          "2021-03-03T06:00:00+00:00",
          "2021-03-03T10:00:00+00:00",
          "2021-03-03T13:00:00+00:00",
          "2021-03-03T14:00:00+00:00",
          "2021-03-03T15:00:00+00:00",
          "2021-03-03T16:00:00+00:00",
          "2021-03-03T17:00:00+00:00",
          "2021-03-03T18:00:00+00:00",
          "2021-03-03T19:00:00+00:00",
          "2021-03-03T20:00:00+00:00",
          "2021-03-03T21:00:00+00:00",
          "2021-03-03T22:00:00+00:00",
          "2021-03-04T01:00:00+00:00",
          "2021-03-04T02:00:00+00:00",
          "2021-03-04T03:00:00+00:00",
          "2021-03-04T06:00:00+00:00",
          "2021-03-04T08:00:00+00:00",
          "2021-03-04T09:00:00+00:00",
          "2021-03-04T10:00:00+00:00",
          "2021-03-04T11:00:00+00:00",
          "2021-03-04T13:00:00+00:00",
          "2021-03-04T15:00:00+00:00",
          "2021-03-04T17:00:00+00:00",
          "2021-03-04T18:00:00+00:00",
          "2021-03-04T19:00:00+00:00",
          "2021-03-04T20:00:00+00:00",
          "2021-03-05T00:00:00+00:00",
          "2021-03-05T03:00:00+00:00",
          "2021-03-05T04:00:00+00:00",
          "2021-03-05T08:00:00+00:00",
          "2021-03-05T11:00:00+00:00",
          "2021-03-05T12:00:00+00:00",
          "2021-03-05T13:00:00+00:00",
          "2021-03-05T15:00:00+00:00",
          "2021-03-05T16:00:00+00:00",
          "2021-03-05T17:00:00+00:00",
          "2021-03-05T18:00:00+00:00",
          "2021-03-05T20:00:00+00:00",
          "2021-03-05T21:00:00+00:00",
          "2021-03-07T22:00:00+00:00",
          "2021-03-07T23:00:00+00:00",
          "2021-03-08T03:00:00+00:00",
          "2021-03-08T04:00:00+00:00",
          "2021-03-08T05:00:00+00:00",
          "2021-03-08T06:00:00+00:00",
          "2021-03-08T07:00:00+00:00",
          "2021-03-08T09:00:00+00:00",
          "2021-03-08T15:00:00+00:00",
          "2021-03-08T16:00:00+00:00",
          "2021-03-08T17:00:00+00:00",
          "2021-03-08T22:00:00+00:00",
          "2021-03-09T01:00:00+00:00",
          "2021-03-09T03:00:00+00:00",
          "2021-03-09T04:00:00+00:00",
          "2021-03-09T06:00:00+00:00",
          "2021-03-09T07:00:00+00:00",
          "2021-03-09T08:00:00+00:00",
          "2021-03-09T10:00:00+00:00",
          "2021-03-09T12:00:00+00:00",
          "2021-03-09T15:00:00+00:00",
          "2021-03-09T16:00:00+00:00",
          "2021-03-09T18:00:00+00:00",
          "2021-03-09T19:00:00+00:00",
          "2021-03-09T20:00:00+00:00",
          "2021-03-09T21:00:00+00:00",
          "2021-03-10T01:00:00+00:00",
          "2021-03-10T02:00:00+00:00",
          "2021-03-10T03:00:00+00:00",
          "2021-03-10T04:00:00+00:00",
          "2021-03-10T05:00:00+00:00",
          "2021-03-10T06:00:00+00:00",
          "2021-03-10T07:00:00+00:00",
          "2021-03-10T08:00:00+00:00",
          "2021-03-10T09:00:00+00:00",
          "2021-03-10T11:00:00+00:00",
          "2021-03-10T12:00:00+00:00",
          "2021-03-10T13:00:00+00:00",
          "2021-03-10T16:00:00+00:00",
          "2021-03-10T17:00:00+00:00",
          "2021-03-10T18:00:00+00:00",
          "2021-03-11T00:00:00+00:00",
          "2021-03-11T01:00:00+00:00",
          "2021-03-11T05:00:00+00:00",
          "2021-03-11T09:00:00+00:00",
          "2021-03-11T10:00:00+00:00",
          "2021-03-11T11:00:00+00:00",
          "2021-03-11T14:00:00+00:00",
          "2021-03-11T15:00:00+00:00",
          "2021-03-11T16:00:00+00:00",
          "2021-03-11T17:00:00+00:00",
          "2021-03-11T18:00:00+00:00",
          "2021-03-11T19:00:00+00:00",
          "2021-03-11T21:00:00+00:00",
          "2021-03-12T01:00:00+00:00",
          "2021-03-12T02:00:00+00:00",
          "2021-03-12T03:00:00+00:00",
          "2021-03-12T06:00:00+00:00",
          "2021-03-12T08:00:00+00:00",
          "2021-03-12T09:00:00+00:00",
          "2021-03-12T10:00:00+00:00",
          "2021-03-12T11:00:00+00:00",
          "2021-03-12T14:00:00+00:00",
          "2021-03-12T15:00:00+00:00",
          "2021-03-12T21:00:00+00:00",
          "2021-03-14T22:00:00+00:00",
          "2021-03-14T23:00:00+00:00",
          "2021-03-15T02:00:00+00:00",
          "2021-03-15T03:00:00+00:00",
          "2021-03-15T05:00:00+00:00",
          "2021-03-15T07:00:00+00:00",
          "2021-03-15T09:00:00+00:00",
          "2021-03-15T10:00:00+00:00",
          "2021-03-15T12:00:00+00:00",
          "2021-03-15T13:00:00+00:00",
          "2021-03-15T14:00:00+00:00",
          "2021-03-15T15:00:00+00:00",
          "2021-03-15T19:00:00+00:00",
          "2021-03-15T22:00:00+00:00",
          "2021-03-15T23:00:00+00:00",
          "2021-03-16T01:00:00+00:00",
          "2021-03-16T07:00:00+00:00",
          "2021-03-16T09:00:00+00:00",
          "2021-03-16T10:00:00+00:00",
          "2021-03-16T13:00:00+00:00",
          "2021-03-16T14:00:00+00:00",
          "2021-03-16T15:00:00+00:00",
          "2021-03-16T16:00:00+00:00",
          "2021-03-16T20:00:00+00:00",
          "2021-03-17T00:00:00+00:00",
          "2021-03-17T01:00:00+00:00",
          "2021-03-17T02:00:00+00:00",
          "2021-03-17T07:00:00+00:00",
          "2021-03-17T09:00:00+00:00",
          "2021-03-17T11:00:00+00:00",
          "2021-03-17T13:00:00+00:00",
          "2021-03-17T16:00:00+00:00",
          "2021-03-17T17:00:00+00:00",
          "2021-03-17T18:00:00+00:00",
          "2021-03-17T19:00:00+00:00",
          "2021-03-17T20:00:00+00:00",
          "2021-03-17T21:00:00+00:00",
          "2021-03-17T22:00:00+00:00",
          "2021-03-17T23:00:00+00:00",
          "2021-03-18T00:00:00+00:00",
          "2021-03-18T08:00:00+00:00",
          "2021-03-18T10:00:00+00:00",
          "2021-03-18T11:00:00+00:00",
          "2021-03-18T12:00:00+00:00",
          "2021-03-18T13:00:00+00:00",
          "2021-03-18T14:00:00+00:00",
          "2021-03-18T15:00:00+00:00",
          "2021-03-18T16:00:00+00:00",
          "2021-03-18T17:00:00+00:00",
          "2021-03-18T19:00:00+00:00",
          "2021-03-18T21:00:00+00:00",
          "2021-03-19T01:00:00+00:00",
          "2021-03-19T05:00:00+00:00",
          "2021-03-19T07:00:00+00:00",
          "2021-03-19T09:00:00+00:00",
          "2021-03-19T12:00:00+00:00",
          "2021-03-19T14:00:00+00:00",
          "2021-03-19T15:00:00+00:00",
          "2021-03-19T16:00:00+00:00",
          "2021-03-19T17:00:00+00:00",
          "2021-03-19T18:00:00+00:00",
          "2021-03-19T20:00:00+00:00",
          "2021-03-21T21:00:00+00:00",
          "2021-03-21T23:00:00+00:00",
          "2021-03-22T06:00:00+00:00",
          "2021-03-22T07:00:00+00:00",
          "2021-03-22T08:00:00+00:00",
          "2021-03-22T10:00:00+00:00",
          "2021-03-22T11:00:00+00:00",
          "2021-03-22T12:00:00+00:00",
          "2021-03-22T13:00:00+00:00",
          "2021-03-22T17:00:00+00:00",
          "2021-03-22T23:00:00+00:00",
          "2021-03-23T02:00:00+00:00",
          "2021-03-23T03:00:00+00:00",
          "2021-03-23T07:00:00+00:00",
          "2021-03-23T08:00:00+00:00",
          "2021-03-23T09:00:00+00:00",
          "2021-03-23T10:00:00+00:00",
          "2021-03-23T15:00:00+00:00",
          "2021-03-23T16:00:00+00:00",
          "2021-03-23T17:00:00+00:00",
          "2021-03-23T19:00:00+00:00",
          "2021-03-23T21:00:00+00:00",
          "2021-03-24T00:00:00+00:00",
          "2021-03-24T02:00:00+00:00",
          "2021-03-24T07:00:00+00:00",
          "2021-03-24T12:00:00+00:00",
          "2021-03-24T13:00:00+00:00",
          "2021-03-24T16:00:00+00:00",
          "2021-03-24T19:00:00+00:00",
          "2021-03-25T02:00:00+00:00",
          "2021-03-25T10:00:00+00:00",
          "2021-03-25T11:00:00+00:00",
          "2021-03-25T12:00:00+00:00",
          "2021-03-25T13:00:00+00:00",
          "2021-03-25T15:00:00+00:00",
          "2021-03-25T17:00:00+00:00",
          "2021-03-25T18:00:00+00:00",
          "2021-03-25T19:00:00+00:00",
          "2021-03-25T20:00:00+00:00",
          "2021-03-25T23:00:00+00:00",
          "2021-03-26T00:00:00+00:00",
          "2021-03-26T02:00:00+00:00",
          "2021-03-26T06:00:00+00:00",
          "2021-03-26T08:00:00+00:00",
          "2021-03-26T09:00:00+00:00",
          "2021-03-26T17:00:00+00:00",
          "2021-03-28T21:00:00+00:00",
          "2021-03-29T00:00:00+00:00",
          "2021-03-29T02:00:00+00:00",
          "2021-03-29T04:00:00+00:00",
          "2021-03-29T07:00:00+00:00",
          "2021-03-29T10:00:00+00:00",
          "2021-03-29T11:00:00+00:00",
          "2021-03-29T12:00:00+00:00",
          "2021-03-29T14:00:00+00:00",
          "2021-03-29T15:00:00+00:00",
          "2021-03-29T16:00:00+00:00",
          "2021-03-29T20:00:00+00:00",
          "2021-03-29T21:00:00+00:00",
          "2021-03-29T22:00:00+00:00",
          "2021-03-29T23:00:00+00:00",
          "2021-03-30T01:00:00+00:00",
          "2021-03-30T04:00:00+00:00",
          "2021-03-30T05:00:00+00:00",
          "2021-03-30T06:00:00+00:00",
          "2021-03-30T07:00:00+00:00",
          "2021-03-30T09:00:00+00:00",
          "2021-03-30T10:00:00+00:00",
          "2021-03-30T12:00:00+00:00",
          "2021-03-30T13:00:00+00:00",
          "2021-03-30T14:00:00+00:00",
          "2021-03-30T15:00:00+00:00",
          "2021-03-30T17:00:00+00:00",
          "2021-03-30T23:00:00+00:00",
          "2021-03-31T00:00:00+00:00",
          "2021-03-31T03:00:00+00:00",
          "2021-03-31T08:00:00+00:00",
          "2021-03-31T09:00:00+00:00",
          "2021-03-31T10:00:00+00:00",
          "2021-03-31T11:00:00+00:00",
          "2021-03-31T12:00:00+00:00",
          "2021-03-31T13:00:00+00:00",
          "2021-03-31T14:00:00+00:00",
          "2021-03-31T18:00:00+00:00",
          "2021-03-31T21:00:00+00:00",
          "2021-04-01T02:00:00+00:00",
          "2021-04-01T03:00:00+00:00",
          "2021-04-01T07:00:00+00:00",
          "2021-04-01T09:00:00+00:00",
          "2021-04-01T10:00:00+00:00",
          "2021-04-01T13:00:00+00:00",
          "2021-04-01T14:00:00+00:00",
          "2021-04-01T15:00:00+00:00",
          "2021-04-01T16:00:00+00:00",
          "2021-04-01T19:00:00+00:00",
          "2021-04-01T20:00:00+00:00",
          "2021-04-01T21:00:00+00:00",
          "2021-04-01T22:00:00+00:00",
          "2021-04-01T23:00:00+00:00",
          "2021-04-02T00:00:00+00:00",
          "2021-04-02T04:00:00+00:00",
          "2021-04-02T07:00:00+00:00",
          "2021-04-02T09:00:00+00:00",
          "2021-04-02T11:00:00+00:00",
          "2021-04-02T12:00:00+00:00",
          "2021-04-02T16:00:00+00:00",
          "2021-04-02T20:00:00+00:00",
          "2021-04-04T21:00:00+00:00",
          "2021-04-05T01:00:00+00:00",
          "2021-04-05T05:00:00+00:00",
          "2021-04-05T06:00:00+00:00",
          "2021-04-05T07:00:00+00:00",
          "2021-04-05T09:00:00+00:00",
          "2021-04-05T10:00:00+00:00",
          "2021-04-05T11:00:00+00:00",
          "2021-04-05T13:00:00+00:00",
          "2021-04-05T14:00:00+00:00",
          "2021-04-05T15:00:00+00:00",
          "2021-04-05T16:00:00+00:00",
          "2021-04-05T17:00:00+00:00",
          "2021-04-05T19:00:00+00:00",
          "2021-04-05T22:00:00+00:00",
          "2021-04-06T00:00:00+00:00",
          "2021-04-06T02:00:00+00:00",
          "2021-04-06T04:00:00+00:00",
          "2021-04-06T05:00:00+00:00",
          "2021-04-06T06:00:00+00:00",
          "2021-04-06T07:00:00+00:00",
          "2021-04-06T08:00:00+00:00",
          "2021-04-06T09:00:00+00:00",
          "2021-04-06T10:00:00+00:00",
          "2021-04-06T12:00:00+00:00",
          "2021-04-06T14:00:00+00:00",
          "2021-04-06T15:00:00+00:00",
          "2021-04-06T16:00:00+00:00",
          "2021-04-06T17:00:00+00:00",
          "2021-04-07T01:00:00+00:00",
          "2021-04-07T06:00:00+00:00",
          "2021-04-07T08:00:00+00:00",
          "2021-04-07T09:00:00+00:00",
          "2021-04-07T12:00:00+00:00",
          "2021-04-07T19:00:00+00:00",
          "2021-04-08T03:00:00+00:00",
          "2021-04-08T05:00:00+00:00",
          "2021-04-08T11:00:00+00:00",
          "2021-04-08T12:00:00+00:00",
          "2021-04-08T15:00:00+00:00",
          "2021-04-08T16:00:00+00:00",
          "2021-04-09T04:00:00+00:00",
          "2021-04-09T06:00:00+00:00",
          "2021-04-09T08:00:00+00:00",
          "2021-04-09T09:00:00+00:00",
          "2021-04-09T10:00:00+00:00",
          "2021-04-09T11:00:00+00:00",
          "2021-04-09T12:00:00+00:00",
          "2021-04-09T16:00:00+00:00",
          "2021-04-09T18:00:00+00:00",
          "2021-04-11T22:00:00+00:00",
          "2021-04-12T02:00:00+00:00",
          "2021-04-12T04:00:00+00:00",
          "2021-04-12T08:00:00+00:00",
          "2021-04-12T09:00:00+00:00",
          "2021-04-12T10:00:00+00:00",
          "2021-04-12T11:00:00+00:00",
          "2021-04-12T12:00:00+00:00",
          "2021-04-12T13:00:00+00:00",
          "2021-04-12T14:00:00+00:00",
          "2021-04-12T16:00:00+00:00",
          "2021-04-12T18:00:00+00:00",
          "2021-04-12T20:00:00+00:00",
          "2021-04-12T21:00:00+00:00",
          "2021-04-12T22:00:00+00:00",
          "2021-04-13T01:00:00+00:00",
          "2021-04-13T03:00:00+00:00",
          "2021-04-13T06:00:00+00:00",
          "2021-04-13T07:00:00+00:00",
          "2021-04-13T08:00:00+00:00",
          "2021-04-13T09:00:00+00:00",
          "2021-04-13T11:00:00+00:00",
          "2021-04-13T12:00:00+00:00",
          "2021-04-13T13:00:00+00:00",
          "2021-04-13T15:00:00+00:00",
          "2021-04-13T16:00:00+00:00",
          "2021-04-13T17:00:00+00:00",
          "2021-04-13T19:00:00+00:00",
          "2021-04-13T20:00:00+00:00",
          "2021-04-13T21:00:00+00:00",
          "2021-04-13T22:00:00+00:00",
          "2021-04-13T23:00:00+00:00",
          "2021-04-14T00:00:00+00:00",
          "2021-04-14T02:00:00+00:00",
          "2021-04-14T04:00:00+00:00",
          "2021-04-14T07:00:00+00:00",
          "2021-04-14T09:00:00+00:00",
          "2021-04-14T10:00:00+00:00",
          "2021-04-14T12:00:00+00:00",
          "2021-04-14T15:00:00+00:00",
          "2021-04-14T16:00:00+00:00",
          "2021-04-14T17:00:00+00:00",
          "2021-04-14T19:00:00+00:00",
          "2021-04-15T04:00:00+00:00",
          "2021-04-15T07:00:00+00:00",
          "2021-04-15T10:00:00+00:00",
          "2021-04-15T14:00:00+00:00",
          "2021-04-15T15:00:00+00:00",
          "2021-04-15T16:00:00+00:00",
          "2021-04-15T17:00:00+00:00",
          "2021-04-15T18:00:00+00:00",
          "2021-04-15T19:00:00+00:00",
          "2021-04-15T20:00:00+00:00",
          "2021-04-16T00:00:00+00:00",
          "2021-04-16T02:00:00+00:00",
          "2021-04-16T03:00:00+00:00",
          "2021-04-16T04:00:00+00:00",
          "2021-04-16T05:00:00+00:00",
          "2021-04-16T06:00:00+00:00",
          "2021-04-16T07:00:00+00:00",
          "2021-04-16T11:00:00+00:00",
          "2021-04-16T12:00:00+00:00",
          "2021-04-16T13:00:00+00:00",
          "2021-04-16T14:00:00+00:00",
          "2021-04-16T15:00:00+00:00",
          "2021-04-16T16:00:00+00:00",
          "2021-04-18T22:00:00+00:00",
          "2021-04-19T00:00:00+00:00",
          "2021-04-19T01:00:00+00:00",
          "2021-04-19T07:00:00+00:00",
          "2021-04-19T08:00:00+00:00",
          "2021-04-19T09:00:00+00:00",
          "2021-04-19T10:00:00+00:00",
          "2021-04-19T12:00:00+00:00",
          "2021-04-19T16:00:00+00:00",
          "2021-04-19T21:00:00+00:00",
          "2021-04-20T01:00:00+00:00",
          "2021-04-20T02:00:00+00:00",
          "2021-04-20T03:00:00+00:00",
          "2021-04-20T08:00:00+00:00",
          "2021-04-20T10:00:00+00:00",
          "2021-04-20T11:00:00+00:00",
          "2021-04-20T16:00:00+00:00",
          "2021-04-20T17:00:00+00:00",
          "2021-04-20T18:00:00+00:00",
          "2021-04-20T20:00:00+00:00",
          "2021-04-21T02:00:00+00:00",
          "2021-04-21T04:00:00+00:00",
          "2021-04-21T07:00:00+00:00",
          "2021-04-21T08:00:00+00:00",
          "2021-04-21T10:00:00+00:00",
          "2021-04-21T13:00:00+00:00",
          "2021-04-21T14:00:00+00:00",
          "2021-04-21T15:00:00+00:00",
          "2021-04-21T16:00:00+00:00",
          "2021-04-21T17:00:00+00:00",
          "2021-04-21T20:00:00+00:00",
          "2021-04-22T00:00:00+00:00",
          "2021-04-22T04:00:00+00:00",
          "2021-04-22T06:00:00+00:00",
          "2021-04-22T07:00:00+00:00",
          "2021-04-22T08:00:00+00:00",
          "2021-04-22T09:00:00+00:00",
          "2021-04-22T11:00:00+00:00",
          "2021-04-22T12:00:00+00:00",
          "2021-04-22T13:00:00+00:00",
          "2021-04-22T14:00:00+00:00",
          "2021-04-22T15:00:00+00:00",
          "2021-04-22T18:00:00+00:00",
          "2021-04-22T19:00:00+00:00",
          "2021-04-23T06:00:00+00:00",
          "2021-04-23T07:00:00+00:00",
          "2021-04-23T08:00:00+00:00",
          "2021-04-23T10:00:00+00:00",
          "2021-04-23T12:00:00+00:00",
          "2021-04-23T14:00:00+00:00",
          "2021-04-23T16:00:00+00:00",
          "2021-04-23T17:00:00+00:00",
          "2021-04-23T18:00:00+00:00",
          "2021-04-26T02:00:00+00:00",
          "2021-04-26T04:00:00+00:00",
          "2021-04-26T05:00:00+00:00",
          "2021-04-26T06:00:00+00:00",
          "2021-04-26T09:00:00+00:00",
          "2021-04-26T10:00:00+00:00",
          "2021-04-26T12:00:00+00:00",
          "2021-04-26T13:00:00+00:00",
          "2021-04-26T15:00:00+00:00",
          "2021-04-26T17:00:00+00:00",
          "2021-04-26T19:00:00+00:00",
          "2021-04-26T21:00:00+00:00",
          "2021-04-27T01:00:00+00:00",
          "2021-04-27T02:00:00+00:00",
          "2021-04-27T08:00:00+00:00",
          "2021-04-27T11:00:00+00:00",
          "2021-04-27T13:00:00+00:00",
          "2021-04-27T14:00:00+00:00",
          "2021-04-27T15:00:00+00:00",
          "2021-04-27T17:00:00+00:00",
          "2021-04-27T18:00:00+00:00",
          "2021-04-27T19:00:00+00:00",
          "2021-04-27T21:00:00+00:00",
          "2021-04-28T01:00:00+00:00",
          "2021-04-28T02:00:00+00:00",
          "2021-04-28T03:00:00+00:00",
          "2021-04-28T05:00:00+00:00",
          "2021-04-28T06:00:00+00:00",
          "2021-04-28T07:00:00+00:00",
          "2021-04-28T10:00:00+00:00",
          "2021-04-28T11:00:00+00:00",
          "2021-04-28T12:00:00+00:00",
          "2021-04-28T13:00:00+00:00",
          "2021-04-28T14:00:00+00:00",
          "2021-04-28T15:00:00+00:00",
          "2021-04-28T16:00:00+00:00",
          "2021-04-28T20:00:00+00:00",
          "2021-04-29T01:00:00+00:00",
          "2021-04-29T03:00:00+00:00",
          "2021-04-29T04:00:00+00:00",
          "2021-04-29T06:00:00+00:00",
          "2021-04-29T07:00:00+00:00",
          "2021-04-29T09:00:00+00:00",
          "2021-04-29T10:00:00+00:00",
          "2021-04-29T14:00:00+00:00",
          "2021-04-29T16:00:00+00:00",
          "2021-04-29T19:00:00+00:00",
          "2021-04-29T22:00:00+00:00",
          "2021-04-29T23:00:00+00:00",
          "2021-04-30T03:00:00+00:00",
          "2021-04-30T08:00:00+00:00",
          "2021-04-30T09:00:00+00:00",
          "2021-04-30T10:00:00+00:00",
          "2021-04-30T11:00:00+00:00",
          "2021-04-30T12:00:00+00:00",
          "2021-04-30T13:00:00+00:00",
          "2021-04-30T15:00:00+00:00",
          "2021-05-03T05:00:00+00:00",
          "2021-05-03T07:00:00+00:00",
          "2021-05-03T08:00:00+00:00",
          "2021-05-03T11:00:00+00:00",
          "2021-05-03T12:00:00+00:00",
          "2021-05-03T13:00:00+00:00",
          "2021-05-03T14:00:00+00:00",
          "2021-05-03T15:00:00+00:00",
          "2021-05-03T16:00:00+00:00",
          "2021-05-03T18:00:00+00:00",
          "2021-05-03T20:00:00+00:00",
          "2021-05-03T22:00:00+00:00",
          "2021-05-04T02:00:00+00:00",
          "2021-05-04T03:00:00+00:00",
          "2021-05-04T04:00:00+00:00",
          "2021-05-04T06:00:00+00:00",
          "2021-05-04T08:00:00+00:00",
          "2021-05-04T10:00:00+00:00",
          "2021-05-04T12:00:00+00:00",
          "2021-05-04T13:00:00+00:00",
          "2021-05-04T14:00:00+00:00",
          "2021-05-04T16:00:00+00:00",
          "2021-05-04T17:00:00+00:00",
          "2021-05-04T21:00:00+00:00",
          "2021-05-05T00:00:00+00:00",
          "2021-05-05T02:00:00+00:00",
          "2021-05-05T03:00:00+00:00",
          "2021-05-05T04:00:00+00:00",
          "2021-05-05T05:00:00+00:00",
          "2021-05-05T06:00:00+00:00",
          "2021-05-05T10:00:00+00:00",
          "2021-05-05T11:00:00+00:00",
          "2021-05-05T12:00:00+00:00",
          "2021-05-05T13:00:00+00:00",
          "2021-05-05T14:00:00+00:00",
          "2021-05-05T20:00:00+00:00",
          "2021-05-06T00:00:00+00:00",
          "2021-05-06T01:00:00+00:00",
          "2021-05-06T04:00:00+00:00",
          "2021-05-06T07:00:00+00:00",
          "2021-05-06T08:00:00+00:00",
          "2021-05-06T09:00:00+00:00",
          "2021-05-06T10:00:00+00:00",
          "2021-05-06T11:00:00+00:00",
          "2021-05-06T13:00:00+00:00",
          "2021-05-06T14:00:00+00:00",
          "2021-05-06T15:00:00+00:00",
          "2021-05-06T16:00:00+00:00",
          "2021-05-07T01:00:00+00:00",
          "2021-05-07T06:00:00+00:00",
          "2021-05-07T08:00:00+00:00",
          "2021-05-07T10:00:00+00:00",
          "2021-05-07T12:00:00+00:00",
          "2021-05-07T13:00:00+00:00",
          "2021-05-07T14:00:00+00:00",
          "2021-05-07T17:00:00+00:00",
          "2021-05-10T00:00:00+00:00",
          "2021-05-10T01:00:00+00:00",
          "2021-05-10T03:00:00+00:00",
          "2021-05-10T05:00:00+00:00",
          "2021-05-10T06:00:00+00:00",
          "2021-05-10T07:00:00+00:00",
          "2021-05-10T08:00:00+00:00",
          "2021-05-10T09:00:00+00:00",
          "2021-05-10T10:00:00+00:00",
          "2021-05-10T15:00:00+00:00",
          "2021-05-10T17:00:00+00:00",
          "2021-05-10T21:00:00+00:00",
          "2021-05-11T03:00:00+00:00",
          "2021-05-11T04:00:00+00:00",
          "2021-05-11T05:00:00+00:00",
          "2021-05-11T07:00:00+00:00",
          "2021-05-11T08:00:00+00:00",
          "2021-05-11T09:00:00+00:00",
          "2021-05-11T10:00:00+00:00",
          "2021-05-11T11:00:00+00:00",
          "2021-05-11T12:00:00+00:00",
          "2021-05-11T13:00:00+00:00",
          "2021-05-11T14:00:00+00:00",
          "2021-05-11T16:00:00+00:00",
          "2021-05-11T17:00:00+00:00",
          "2021-05-11T18:00:00+00:00",
          "2021-05-11T19:00:00+00:00",
          "2021-05-11T23:00:00+00:00",
          "2021-05-12T02:00:00+00:00",
          "2021-05-12T03:00:00+00:00",
          "2021-05-12T05:00:00+00:00",
          "2021-05-12T07:00:00+00:00",
          "2021-05-12T08:00:00+00:00",
          "2021-05-12T10:00:00+00:00",
          "2021-05-12T12:00:00+00:00",
          "2021-05-12T15:00:00+00:00",
          "2021-05-12T17:00:00+00:00",
          "2021-05-12T18:00:00+00:00",
          "2021-05-13T06:00:00+00:00",
          "2021-05-13T08:00:00+00:00",
          "2021-05-13T10:00:00+00:00",
          "2021-05-13T14:00:00+00:00",
          "2021-05-13T17:00:00+00:00",
          "2021-05-13T18:00:00+00:00",
          "2021-05-13T19:00:00+00:00",
          "2021-05-13T21:00:00+00:00",
          "2021-05-13T22:00:00+00:00",
          "2021-05-14T01:00:00+00:00",
          "2021-05-14T06:00:00+00:00",
          "2021-05-14T07:00:00+00:00",
          "2021-05-14T09:00:00+00:00",
          "2021-05-14T11:00:00+00:00",
          "2021-05-14T12:00:00+00:00",
          "2021-05-14T13:00:00+00:00",
          "2021-05-14T17:00:00+00:00",
          "2021-05-14T18:00:00+00:00",
          "2021-05-17T02:00:00+00:00",
          "2021-05-17T06:00:00+00:00",
          "2021-05-17T09:00:00+00:00",
          "2021-05-17T10:00:00+00:00",
          "2021-05-17T11:00:00+00:00",
          "2021-05-17T13:00:00+00:00",
          "2021-05-17T14:00:00+00:00",
          "2021-05-17T15:00:00+00:00",
          "2021-05-17T16:00:00+00:00",
          "2021-05-17T18:00:00+00:00",
          "2021-05-17T19:00:00+00:00",
          "2021-05-18T00:00:00+00:00",
          "2021-05-18T03:00:00+00:00",
          "2021-05-18T05:00:00+00:00",
          "2021-05-18T08:00:00+00:00",
          "2021-05-18T09:00:00+00:00",
          "2021-05-18T10:00:00+00:00",
          "2021-05-18T11:00:00+00:00",
          "2021-05-18T13:00:00+00:00",
          "2021-05-18T18:00:00+00:00",
          "2021-05-18T19:00:00+00:00",
          "2021-05-18T20:00:00+00:00",
          "2021-05-18T22:00:00+00:00",
          "2021-05-18T23:00:00+00:00",
          "2021-05-19T01:00:00+00:00",
          "2021-05-19T02:00:00+00:00",
          "2021-05-19T04:00:00+00:00",
          "2021-05-19T06:00:00+00:00",
          "2021-05-19T07:00:00+00:00",
          "2021-05-19T09:00:00+00:00",
          "2021-05-19T10:00:00+00:00",
          "2021-05-19T13:00:00+00:00",
          "2021-05-19T14:00:00+00:00",
          "2021-05-19T15:00:00+00:00",
          "2021-05-19T17:00:00+00:00",
          "2021-05-19T20:00:00+00:00",
          "2021-05-19T21:00:00+00:00",
          "2021-05-20T00:00:00+00:00",
          "2021-05-20T01:00:00+00:00",
          "2021-05-20T02:00:00+00:00",
          "2021-05-20T04:00:00+00:00",
          "2021-05-20T07:00:00+00:00",
          "2021-05-20T08:00:00+00:00",
          "2021-05-20T13:00:00+00:00",
          "2021-05-20T14:00:00+00:00",
          "2021-05-20T15:00:00+00:00",
          "2021-05-20T16:00:00+00:00",
          "2021-05-20T17:00:00+00:00",
          "2021-05-20T18:00:00+00:00",
          "2021-05-20T19:00:00+00:00",
          "2021-05-20T21:00:00+00:00",
          "2021-05-20T23:00:00+00:00",
          "2021-05-21T01:00:00+00:00",
          "2021-05-21T03:00:00+00:00",
          "2021-05-21T06:00:00+00:00",
          "2021-05-21T07:00:00+00:00",
          "2021-05-21T09:00:00+00:00",
          "2021-05-21T11:00:00+00:00",
          "2021-05-21T12:00:00+00:00",
          "2021-05-21T14:00:00+00:00",
          "2021-05-21T15:00:00+00:00",
          "2021-05-21T16:00:00+00:00",
          "2021-05-21T17:00:00+00:00",
          "2021-05-21T20:00:00+00:00",
          "2021-05-23T23:00:00+00:00",
          "2021-05-24T00:00:00+00:00",
          "2021-05-24T03:00:00+00:00",
          "2021-05-24T07:00:00+00:00",
          "2021-05-24T08:00:00+00:00",
          "2021-05-24T09:00:00+00:00",
          "2021-05-24T10:00:00+00:00",
          "2021-05-24T13:00:00+00:00",
          "2021-05-24T14:00:00+00:00",
          "2021-05-24T15:00:00+00:00",
          "2021-05-24T16:00:00+00:00",
          "2021-05-24T18:00:00+00:00",
          "2021-05-24T19:00:00+00:00",
          "2021-05-25T02:00:00+00:00",
          "2021-05-25T03:00:00+00:00",
          "2021-05-25T04:00:00+00:00",
          "2021-05-25T05:00:00+00:00",
          "2021-05-25T06:00:00+00:00",
          "2021-05-25T07:00:00+00:00",
          "2021-05-25T11:00:00+00:00",
          "2021-05-25T12:00:00+00:00",
          "2021-05-25T13:00:00+00:00",
          "2021-05-25T15:00:00+00:00",
          "2021-05-25T18:00:00+00:00",
          "2021-05-25T19:00:00+00:00",
          "2021-05-25T20:00:00+00:00",
          "2021-05-26T03:00:00+00:00",
          "2021-05-26T04:00:00+00:00",
          "2021-05-26T05:00:00+00:00",
          "2021-05-26T07:00:00+00:00",
          "2021-05-26T08:00:00+00:00",
          "2021-05-26T09:00:00+00:00",
          "2021-05-26T13:00:00+00:00",
          "2021-05-26T14:00:00+00:00",
          "2021-05-26T17:00:00+00:00",
          "2021-05-26T18:00:00+00:00",
          "2021-05-27T01:00:00+00:00",
          "2021-05-27T08:00:00+00:00",
          "2021-05-27T09:00:00+00:00",
          "2021-05-27T11:00:00+00:00",
          "2021-05-27T12:00:00+00:00",
          "2021-05-27T13:00:00+00:00",
          "2021-05-27T16:00:00+00:00",
          "2021-05-27T18:00:00+00:00",
          "2021-05-28T01:00:00+00:00",
          "2021-05-28T02:00:00+00:00",
          "2021-05-28T05:00:00+00:00",
          "2021-05-28T07:00:00+00:00",
          "2021-05-28T09:00:00+00:00",
          "2021-05-28T10:00:00+00:00",
          "2021-05-28T14:00:00+00:00",
          "2021-05-28T15:00:00+00:00",
          "2021-05-28T16:00:00+00:00",
          "2021-05-28T18:00:00+00:00",
          "2021-05-31T01:00:00+00:00",
          "2021-05-31T07:00:00+00:00",
          "2021-05-31T08:00:00+00:00",
          "2021-05-31T10:00:00+00:00",
          "2021-05-31T13:00:00+00:00",
          "2021-05-31T14:00:00+00:00",
          "2021-05-31T15:00:00+00:00",
          "2021-05-31T16:00:00+00:00",
          "2021-05-31T18:00:00+00:00",
          "2021-05-31T20:00:00+00:00",
          "2021-05-31T22:00:00+00:00",
          "2021-06-01T02:00:00+00:00",
          "2021-06-01T03:00:00+00:00",
          "2021-06-01T05:00:00+00:00",
          "2021-06-01T07:00:00+00:00",
          "2021-06-01T08:00:00+00:00",
          "2021-06-01T09:00:00+00:00",
          "2021-06-01T10:00:00+00:00",
          "2021-06-01T11:00:00+00:00",
          "2021-06-01T14:00:00+00:00",
          "2021-06-01T16:00:00+00:00",
          "2021-06-01T17:00:00+00:00",
          "2021-06-01T18:00:00+00:00",
          "2021-06-01T21:00:00+00:00",
          "2021-06-02T02:00:00+00:00",
          "2021-06-02T03:00:00+00:00",
          "2021-06-02T04:00:00+00:00",
          "2021-06-02T07:00:00+00:00",
          "2021-06-02T08:00:00+00:00",
          "2021-06-02T09:00:00+00:00",
          "2021-06-02T10:00:00+00:00",
          "2021-06-02T12:00:00+00:00",
          "2021-06-02T14:00:00+00:00",
          "2021-06-02T15:00:00+00:00",
          "2021-06-02T16:00:00+00:00",
          "2021-06-02T19:00:00+00:00",
          "2021-06-02T23:00:00+00:00",
          "2021-06-03T00:00:00+00:00",
          "2021-06-03T02:00:00+00:00",
          "2021-06-03T04:00:00+00:00",
          "2021-06-03T08:00:00+00:00",
          "2021-06-03T09:00:00+00:00",
          "2021-06-03T10:00:00+00:00",
          "2021-06-03T11:00:00+00:00",
          "2021-06-03T13:00:00+00:00",
          "2021-06-03T17:00:00+00:00",
          "2021-06-03T20:00:00+00:00",
          "2021-06-03T22:00:00+00:00",
          "2021-06-04T01:00:00+00:00",
          "2021-06-04T03:00:00+00:00",
          "2021-06-04T05:00:00+00:00",
          "2021-06-04T08:00:00+00:00",
          "2021-06-04T12:00:00+00:00",
          "2021-06-04T13:00:00+00:00",
          "2021-06-04T14:00:00+00:00",
          "2021-06-04T15:00:00+00:00",
          "2021-06-04T16:00:00+00:00",
          "2021-06-04T18:00:00+00:00",
          "2021-06-04T19:00:00+00:00",
          "2021-06-06T21:00:00+00:00",
          "2021-06-07T01:00:00+00:00",
          "2021-06-07T04:00:00+00:00",
          "2021-06-07T06:00:00+00:00",
          "2021-06-07T07:00:00+00:00",
          "2021-06-07T08:00:00+00:00",
          "2021-06-07T09:00:00+00:00",
          "2021-06-07T10:00:00+00:00",
          "2021-06-07T11:00:00+00:00",
          "2021-06-07T13:00:00+00:00",
          "2021-06-07T15:00:00+00:00",
          "2021-06-08T03:00:00+00:00",
          "2021-06-08T07:00:00+00:00",
          "2021-06-08T08:00:00+00:00",
          "2021-06-08T09:00:00+00:00",
          "2021-06-08T10:00:00+00:00",
          "2021-06-08T11:00:00+00:00",
          "2021-06-08T12:00:00+00:00",
          "2021-06-08T15:00:00+00:00",
          "2021-06-08T16:00:00+00:00",
          "2021-06-08T18:00:00+00:00",
          "2021-06-08T22:00:00+00:00",
          "2021-06-08T23:00:00+00:00",
          "2021-06-09T02:00:00+00:00",
          "2021-06-09T03:00:00+00:00",
          "2021-06-09T07:00:00+00:00",
          "2021-06-09T10:00:00+00:00",
          "2021-06-09T12:00:00+00:00",
          "2021-06-09T13:00:00+00:00",
          "2021-06-09T15:00:00+00:00",
          "2021-06-09T16:00:00+00:00",
          "2021-06-09T18:00:00+00:00",
          "2021-06-10T00:00:00+00:00",
          "2021-06-10T04:00:00+00:00",
          "2021-06-10T06:00:00+00:00",
          "2021-06-10T09:00:00+00:00",
          "2021-06-10T11:00:00+00:00",
          "2021-06-10T12:00:00+00:00",
          "2021-06-10T13:00:00+00:00",
          "2021-06-10T14:00:00+00:00",
          "2021-06-10T15:00:00+00:00",
          "2021-06-10T17:00:00+00:00",
          "2021-06-10T18:00:00+00:00",
          "2021-06-10T19:00:00+00:00",
          "2021-06-10T20:00:00+00:00",
          "2021-06-10T21:00:00+00:00",
          "2021-06-11T01:00:00+00:00",
          "2021-06-11T02:00:00+00:00",
          "2021-06-11T03:00:00+00:00",
          "2021-06-11T05:00:00+00:00",
          "2021-06-11T06:00:00+00:00",
          "2021-06-11T07:00:00+00:00",
          "2021-06-11T09:00:00+00:00",
          "2021-06-11T10:00:00+00:00",
          "2021-06-11T11:00:00+00:00",
          "2021-06-11T12:00:00+00:00",
          "2021-06-11T13:00:00+00:00",
          "2021-06-11T14:00:00+00:00",
          "2021-06-11T16:00:00+00:00",
          "2021-06-11T17:00:00+00:00",
          "2021-06-14T00:00:00+00:00",
          "2021-06-14T04:00:00+00:00",
          "2021-06-14T07:00:00+00:00",
          "2021-06-14T08:00:00+00:00",
          "2021-06-14T10:00:00+00:00",
          "2021-06-14T11:00:00+00:00",
          "2021-06-14T12:00:00+00:00",
          "2021-06-14T13:00:00+00:00",
          "2021-06-14T14:00:00+00:00",
          "2021-06-14T15:00:00+00:00",
          "2021-06-14T16:00:00+00:00",
          "2021-06-14T17:00:00+00:00",
          "2021-06-15T00:00:00+00:00",
          "2021-06-15T01:00:00+00:00",
          "2021-06-15T02:00:00+00:00",
          "2021-06-15T04:00:00+00:00",
          "2021-06-15T05:00:00+00:00",
          "2021-06-15T07:00:00+00:00",
          "2021-06-15T08:00:00+00:00",
          "2021-06-15T10:00:00+00:00",
          "2021-06-15T11:00:00+00:00",
          "2021-06-15T12:00:00+00:00",
          "2021-06-15T14:00:00+00:00",
          "2021-06-15T15:00:00+00:00",
          "2021-06-15T18:00:00+00:00",
          "2021-06-15T19:00:00+00:00",
          "2021-06-16T01:00:00+00:00",
          "2021-06-16T02:00:00+00:00",
          "2021-06-16T04:00:00+00:00",
          "2021-06-16T07:00:00+00:00",
          "2021-06-16T08:00:00+00:00",
          "2021-06-16T09:00:00+00:00",
          "2021-06-16T10:00:00+00:00",
          "2021-06-16T11:00:00+00:00",
          "2021-06-16T12:00:00+00:00",
          "2021-06-16T15:00:00+00:00",
          "2021-06-16T16:00:00+00:00",
          "2021-06-16T17:00:00+00:00",
          "2021-06-16T18:00:00+00:00",
          "2021-06-16T19:00:00+00:00",
          "2021-06-16T20:00:00+00:00",
          "2021-06-16T23:00:00+00:00",
          "2021-06-17T01:00:00+00:00",
          "2021-06-17T02:00:00+00:00",
          "2021-06-17T05:00:00+00:00",
          "2021-06-17T07:00:00+00:00",
          "2021-06-17T10:00:00+00:00",
          "2021-06-17T11:00:00+00:00",
          "2021-06-17T13:00:00+00:00",
          "2021-06-17T15:00:00+00:00",
          "2021-06-17T20:00:00+00:00",
          "2021-06-17T22:00:00+00:00",
          "2021-06-17T23:00:00+00:00",
          "2021-06-18T01:00:00+00:00",
          "2021-06-18T02:00:00+00:00",
          "2021-06-18T05:00:00+00:00",
          "2021-06-18T08:00:00+00:00",
          "2021-06-18T09:00:00+00:00",
          "2021-06-18T10:00:00+00:00",
          "2021-06-18T11:00:00+00:00",
          "2021-06-18T13:00:00+00:00",
          "2021-06-18T15:00:00+00:00",
          "2021-06-18T17:00:00+00:00",
          "2021-06-18T18:00:00+00:00",
          "2021-06-18T20:00:00+00:00",
          "2021-06-20T21:00:00+00:00",
          "2021-06-21T03:00:00+00:00",
          "2021-06-21T04:00:00+00:00",
          "2021-06-21T05:00:00+00:00",
          "2021-06-21T06:00:00+00:00",
          "2021-06-21T08:00:00+00:00",
          "2021-06-21T09:00:00+00:00",
          "2021-06-21T12:00:00+00:00",
          "2021-06-21T13:00:00+00:00",
          "2021-06-21T15:00:00+00:00",
          "2021-06-21T16:00:00+00:00",
          "2021-06-21T17:00:00+00:00",
          "2021-06-21T18:00:00+00:00",
          "2021-06-21T19:00:00+00:00",
          "2021-06-21T20:00:00+00:00",
          "2021-06-22T03:00:00+00:00",
          "2021-06-22T05:00:00+00:00",
          "2021-06-22T06:00:00+00:00",
          "2021-06-22T08:00:00+00:00",
          "2021-06-22T09:00:00+00:00",
          "2021-06-22T10:00:00+00:00",
          "2021-06-22T11:00:00+00:00",
          "2021-06-22T12:00:00+00:00",
          "2021-06-22T13:00:00+00:00",
          "2021-06-22T14:00:00+00:00",
          "2021-06-22T16:00:00+00:00",
          "2021-06-22T18:00:00+00:00",
          "2021-06-22T22:00:00+00:00",
          "2021-06-23T10:00:00+00:00",
          "2021-06-23T21:00:00+00:00",
          "2021-06-24T00:00:00+00:00",
          "2021-06-24T03:00:00+00:00",
          "2021-06-24T11:00:00+00:00",
          "2021-06-24T12:00:00+00:00",
          "2021-06-24T13:00:00+00:00",
          "2021-06-24T15:00:00+00:00",
          "2021-06-24T16:00:00+00:00",
          "2021-06-24T17:00:00+00:00",
          "2021-06-24T18:00:00+00:00",
          "2021-06-25T05:00:00+00:00",
          "2021-06-25T06:00:00+00:00",
          "2021-06-25T07:00:00+00:00",
          "2021-06-25T09:00:00+00:00",
          "2021-06-25T16:00:00+00:00",
          "2021-06-25T17:00:00+00:00",
          "2021-06-25T18:00:00+00:00",
          "2021-06-25T19:00:00+00:00",
          "2021-06-25T20:00:00+00:00",
          "2021-06-27T22:00:00+00:00",
          "2021-06-27T23:00:00+00:00",
          "2021-06-28T00:00:00+00:00",
          "2021-06-28T01:00:00+00:00",
          "2021-06-28T02:00:00+00:00",
          "2021-06-28T03:00:00+00:00",
          "2021-06-28T06:00:00+00:00",
          "2021-06-28T09:00:00+00:00",
          "2021-06-28T10:00:00+00:00",
          "2021-06-28T11:00:00+00:00",
          "2021-06-28T12:00:00+00:00",
          "2021-06-28T13:00:00+00:00",
          "2021-06-28T14:00:00+00:00",
          "2021-06-28T16:00:00+00:00",
          "2021-06-29T00:00:00+00:00",
          "2021-06-29T01:00:00+00:00",
          "2021-06-29T04:00:00+00:00",
          "2021-06-29T07:00:00+00:00",
          "2021-06-29T16:00:00+00:00",
          "2021-06-29T20:00:00+00:00",
          "2021-06-30T02:00:00+00:00",
          "2021-06-30T07:00:00+00:00",
          "2021-06-30T08:00:00+00:00",
          "2021-06-30T10:00:00+00:00",
          "2021-06-30T12:00:00+00:00",
          "2021-06-30T13:00:00+00:00",
          "2021-06-30T14:00:00+00:00",
          "2021-06-30T15:00:00+00:00",
          "2021-06-30T16:00:00+00:00",
          "2021-06-30T17:00:00+00:00",
          "2021-06-30T18:00:00+00:00",
          "2021-06-30T19:00:00+00:00",
          "2021-06-30T20:00:00+00:00",
          "2021-06-30T21:00:00+00:00",
          "2021-06-30T23:00:00+00:00",
          "2021-07-01T00:00:00+00:00",
          "2021-07-01T01:00:00+00:00",
          "2021-07-01T02:00:00+00:00",
          "2021-07-01T04:00:00+00:00",
          "2021-07-01T05:00:00+00:00",
          "2021-07-01T06:00:00+00:00",
          "2021-07-01T08:00:00+00:00",
          "2021-07-01T10:00:00+00:00",
          "2021-07-01T11:00:00+00:00",
          "2021-07-01T13:00:00+00:00",
          "2021-07-01T15:00:00+00:00",
          "2021-07-01T16:00:00+00:00",
          "2021-07-01T17:00:00+00:00",
          "2021-07-01T18:00:00+00:00",
          "2021-07-01T19:00:00+00:00",
          "2021-07-02T01:00:00+00:00",
          "2021-07-02T05:00:00+00:00",
          "2021-07-02T06:00:00+00:00",
          "2021-07-02T07:00:00+00:00",
          "2021-07-02T08:00:00+00:00",
          "2021-07-02T10:00:00+00:00",
          "2021-07-02T11:00:00+00:00",
          "2021-07-02T12:00:00+00:00",
          "2021-07-02T13:00:00+00:00",
          "2021-07-02T14:00:00+00:00",
          "2021-07-02T16:00:00+00:00",
          "2021-07-02T17:00:00+00:00",
          "2021-07-02T18:00:00+00:00",
          "2021-07-02T19:00:00+00:00",
          "2021-07-02T20:00:00+00:00",
          "2021-07-05T07:00:00+00:00",
          "2021-07-05T08:00:00+00:00",
          "2021-07-05T10:00:00+00:00",
          "2021-07-05T11:00:00+00:00",
          "2021-07-05T15:00:00+00:00",
          "2021-07-05T16:00:00+00:00",
          "2021-07-05T17:00:00+00:00",
          "2021-07-05T18:00:00+00:00",
          "2021-07-05T20:00:00+00:00",
          "2021-07-05T23:00:00+00:00",
          "2021-07-06T01:00:00+00:00",
          "2021-07-06T03:00:00+00:00",
          "2021-07-06T09:00:00+00:00",
          "2021-07-06T10:00:00+00:00",
          "2021-07-06T11:00:00+00:00",
          "2021-07-06T12:00:00+00:00",
          "2021-07-06T13:00:00+00:00",
          "2021-07-06T14:00:00+00:00",
          "2021-07-06T15:00:00+00:00",
          "2021-07-06T16:00:00+00:00",
          "2021-07-06T17:00:00+00:00",
          "2021-07-06T20:00:00+00:00",
          "2021-07-06T21:00:00+00:00",
          "2021-07-07T01:00:00+00:00",
          "2021-07-07T02:00:00+00:00",
          "2021-07-07T05:00:00+00:00",
          "2021-07-07T06:00:00+00:00",
          "2021-07-07T07:00:00+00:00",
          "2021-07-07T11:00:00+00:00",
          "2021-07-07T12:00:00+00:00",
          "2021-07-07T14:00:00+00:00",
          "2021-07-07T15:00:00+00:00",
          "2021-07-07T16:00:00+00:00",
          "2021-07-07T17:00:00+00:00",
          "2021-07-07T18:00:00+00:00",
          "2021-07-08T01:00:00+00:00",
          "2021-07-08T02:00:00+00:00",
          "2021-07-08T07:00:00+00:00",
          "2021-07-08T08:00:00+00:00",
          "2021-07-08T10:00:00+00:00",
          "2021-07-08T13:00:00+00:00",
          "2021-07-08T14:00:00+00:00",
          "2021-07-09T10:00:00+00:00",
          "2021-07-09T11:00:00+00:00",
          "2021-07-09T12:00:00+00:00",
          "2021-07-09T13:00:00+00:00",
          "2021-07-09T15:00:00+00:00",
          "2021-07-09T17:00:00+00:00",
          "2021-07-09T19:00:00+00:00",
          "2021-07-09T20:00:00+00:00",
          "2021-07-12T00:00:00+00:00",
          "2021-07-12T09:00:00+00:00",
          "2021-07-12T12:00:00+00:00",
          "2021-07-12T13:00:00+00:00",
          "2021-07-12T14:00:00+00:00",
          "2021-07-12T15:00:00+00:00",
          "2021-07-12T16:00:00+00:00",
          "2021-07-13T02:00:00+00:00",
          "2021-07-13T05:00:00+00:00",
          "2021-07-13T07:00:00+00:00",
          "2021-07-13T08:00:00+00:00",
          "2021-07-13T09:00:00+00:00",
          "2021-07-13T10:00:00+00:00",
          "2021-07-13T11:00:00+00:00",
          "2021-07-13T12:00:00+00:00",
          "2021-07-13T13:00:00+00:00",
          "2021-07-13T14:00:00+00:00",
          "2021-07-13T15:00:00+00:00",
          "2021-07-13T18:00:00+00:00",
          "2021-07-13T19:00:00+00:00",
          "2021-07-13T20:00:00+00:00",
          "2021-07-13T21:00:00+00:00",
          "2021-07-13T22:00:00+00:00",
          "2021-07-13T23:00:00+00:00",
          "2021-07-14T01:00:00+00:00",
          "2021-07-14T02:00:00+00:00",
          "2021-07-14T03:00:00+00:00",
          "2021-07-14T07:00:00+00:00",
          "2021-07-14T08:00:00+00:00",
          "2021-07-14T09:00:00+00:00",
          "2021-07-14T12:00:00+00:00",
          "2021-07-14T13:00:00+00:00",
          "2021-07-14T14:00:00+00:00",
          "2021-07-14T15:00:00+00:00",
          "2021-07-14T16:00:00+00:00",
          "2021-07-14T17:00:00+00:00",
          "2021-07-14T18:00:00+00:00",
          "2021-07-14T19:00:00+00:00",
          "2021-07-14T21:00:00+00:00",
          "2021-07-15T00:00:00+00:00",
          "2021-07-15T03:00:00+00:00",
          "2021-07-15T10:00:00+00:00",
          "2021-07-15T11:00:00+00:00",
          "2021-07-15T12:00:00+00:00",
          "2021-07-15T13:00:00+00:00",
          "2021-07-15T14:00:00+00:00",
          "2021-07-15T17:00:00+00:00",
          "2021-07-15T18:00:00+00:00",
          "2021-07-15T19:00:00+00:00",
          "2021-07-15T22:00:00+00:00",
          "2021-07-15T23:00:00+00:00",
          "2021-07-16T00:00:00+00:00",
          "2021-07-16T01:00:00+00:00",
          "2021-07-16T05:00:00+00:00",
          "2021-07-16T06:00:00+00:00",
          "2021-07-16T07:00:00+00:00",
          "2021-07-16T08:00:00+00:00",
          "2021-07-16T10:00:00+00:00",
          "2021-07-16T13:00:00+00:00",
          "2021-07-16T15:00:00+00:00",
          "2021-07-16T17:00:00+00:00",
          "2021-07-16T18:00:00+00:00",
          "2021-07-16T19:00:00+00:00",
          "2021-07-16T20:00:00+00:00",
          "2021-07-18T23:00:00+00:00",
          "2021-07-19T00:00:00+00:00",
          "2021-07-19T06:00:00+00:00",
          "2021-07-19T07:00:00+00:00",
          "2021-07-19T12:00:00+00:00",
          "2021-07-19T15:00:00+00:00",
          "2021-07-19T16:00:00+00:00",
          "2021-07-20T01:00:00+00:00",
          "2021-07-20T05:00:00+00:00",
          "2021-07-20T10:00:00+00:00",
          "2021-07-20T12:00:00+00:00",
          "2021-07-20T14:00:00+00:00",
          "2021-07-20T15:00:00+00:00",
          "2021-07-20T16:00:00+00:00",
          "2021-07-20T18:00:00+00:00",
          "2021-07-20T19:00:00+00:00",
          "2021-07-20T20:00:00+00:00",
          "2021-07-20T21:00:00+00:00",
          "2021-07-21T00:00:00+00:00",
          "2021-07-21T04:00:00+00:00",
          "2021-07-21T06:00:00+00:00",
          "2021-07-21T08:00:00+00:00",
          "2021-07-21T10:00:00+00:00",
          "2021-07-21T11:00:00+00:00",
          "2021-07-21T12:00:00+00:00",
          "2021-07-21T13:00:00+00:00",
          "2021-07-21T14:00:00+00:00",
          "2021-07-21T15:00:00+00:00",
          "2021-07-21T16:00:00+00:00",
          "2021-07-22T04:00:00+00:00",
          "2021-07-22T16:00:00+00:00",
          "2021-07-22T17:00:00+00:00",
          "2021-07-22T18:00:00+00:00",
          "2021-07-22T19:00:00+00:00",
          "2021-07-22T20:00:00+00:00",
          "2021-07-22T22:00:00+00:00",
          "2021-07-23T01:00:00+00:00",
          "2021-07-23T04:00:00+00:00",
          "2021-07-23T08:00:00+00:00",
          "2021-07-23T09:00:00+00:00",
          "2021-07-23T10:00:00+00:00",
          "2021-07-23T13:00:00+00:00",
          "2021-07-23T15:00:00+00:00",
          "2021-07-23T18:00:00+00:00",
          "2021-07-23T20:00:00+00:00",
          "2021-07-25T21:00:00+00:00",
          "2021-07-26T02:00:00+00:00",
          "2021-07-26T03:00:00+00:00",
          "2021-07-26T04:00:00+00:00",
          "2021-07-26T05:00:00+00:00",
          "2021-07-26T06:00:00+00:00",
          "2021-07-26T07:00:00+00:00",
          "2021-07-26T08:00:00+00:00",
          "2021-07-26T09:00:00+00:00",
          "2021-07-26T10:00:00+00:00",
          "2021-07-26T11:00:00+00:00",
          "2021-07-26T12:00:00+00:00",
          "2021-07-26T13:00:00+00:00",
          "2021-07-26T14:00:00+00:00",
          "2021-07-26T18:00:00+00:00",
          "2021-07-27T00:00:00+00:00",
          "2021-07-27T05:00:00+00:00",
          "2021-07-27T06:00:00+00:00",
          "2021-07-27T07:00:00+00:00",
          "2021-07-27T08:00:00+00:00",
          "2021-07-27T09:00:00+00:00",
          "2021-07-27T10:00:00+00:00",
          "2021-07-27T11:00:00+00:00",
          "2021-07-27T13:00:00+00:00",
          "2021-07-27T14:00:00+00:00",
          "2021-07-27T15:00:00+00:00",
          "2021-07-27T22:00:00+00:00",
          "2021-07-28T00:00:00+00:00",
          "2021-07-28T10:00:00+00:00",
          "2021-07-28T11:00:00+00:00",
          "2021-07-28T12:00:00+00:00",
          "2021-07-28T13:00:00+00:00",
          "2021-07-28T14:00:00+00:00",
          "2021-07-28T17:00:00+00:00",
          "2021-07-28T18:00:00+00:00",
          "2021-07-28T19:00:00+00:00",
          "2021-07-28T20:00:00+00:00",
          "2021-07-29T04:00:00+00:00",
          "2021-07-29T05:00:00+00:00",
          "2021-07-29T06:00:00+00:00",
          "2021-07-29T08:00:00+00:00",
          "2021-07-29T10:00:00+00:00",
          "2021-07-29T14:00:00+00:00",
          "2021-07-29T15:00:00+00:00",
          "2021-07-29T17:00:00+00:00",
          "2021-07-30T01:00:00+00:00",
          "2021-07-30T04:00:00+00:00",
          "2021-07-30T06:00:00+00:00",
          "2021-07-30T16:00:00+00:00",
          "2021-07-30T17:00:00+00:00",
          "2021-07-30T20:00:00+00:00",
          "2021-08-01T21:00:00+00:00",
          "2021-08-01T23:00:00+00:00",
          "2021-08-02T00:00:00+00:00",
          "2021-08-02T02:00:00+00:00",
          "2021-08-02T03:00:00+00:00",
          "2021-08-02T04:00:00+00:00",
          "2021-08-02T05:00:00+00:00",
          "2021-08-02T06:00:00+00:00",
          "2021-08-02T09:00:00+00:00",
          "2021-08-02T12:00:00+00:00",
          "2021-08-02T14:00:00+00:00",
          "2021-08-02T15:00:00+00:00",
          "2021-08-02T16:00:00+00:00",
          "2021-08-02T18:00:00+00:00",
          "2021-08-03T01:00:00+00:00",
          "2021-08-03T03:00:00+00:00",
          "2021-08-03T07:00:00+00:00",
          "2021-08-03T08:00:00+00:00",
          "2021-08-03T09:00:00+00:00",
          "2021-08-03T10:00:00+00:00",
          "2021-08-03T13:00:00+00:00",
          "2021-08-03T14:00:00+00:00",
          "2021-08-03T15:00:00+00:00",
          "2021-08-03T16:00:00+00:00",
          "2021-08-03T18:00:00+00:00",
          "2021-08-03T19:00:00+00:00",
          "2021-08-04T05:00:00+00:00",
          "2021-08-04T08:00:00+00:00",
          "2021-08-04T11:00:00+00:00",
          "2021-08-04T12:00:00+00:00",
          "2021-08-04T13:00:00+00:00",
          "2021-08-04T14:00:00+00:00",
          "2021-08-04T15:00:00+00:00",
          "2021-08-04T16:00:00+00:00",
          "2021-08-04T17:00:00+00:00",
          "2021-08-04T20:00:00+00:00",
          "2021-08-04T22:00:00+00:00",
          "2021-08-05T00:00:00+00:00",
          "2021-08-05T02:00:00+00:00",
          "2021-08-05T03:00:00+00:00",
          "2021-08-05T06:00:00+00:00",
          "2021-08-05T08:00:00+00:00",
          "2021-08-05T13:00:00+00:00",
          "2021-08-05T14:00:00+00:00",
          "2021-08-05T15:00:00+00:00",
          "2021-08-05T16:00:00+00:00",
          "2021-08-05T17:00:00+00:00",
          "2021-08-06T00:00:00+00:00",
          "2021-08-06T01:00:00+00:00",
          "2021-08-06T03:00:00+00:00",
          "2021-08-06T08:00:00+00:00",
          "2021-08-06T10:00:00+00:00",
          "2021-08-06T11:00:00+00:00",
          "2021-08-06T13:00:00+00:00",
          "2021-08-06T14:00:00+00:00",
          "2021-08-06T15:00:00+00:00",
          "2021-08-06T17:00:00+00:00",
          "2021-08-06T18:00:00+00:00",
          "2021-08-06T19:00:00+00:00",
          "2021-08-06T20:00:00+00:00",
          "2021-08-08T22:00:00+00:00",
          "2021-08-09T03:00:00+00:00",
          "2021-08-09T04:00:00+00:00",
          "2021-08-09T07:00:00+00:00",
          "2021-08-09T10:00:00+00:00",
          "2021-08-09T15:00:00+00:00",
          "2021-08-09T16:00:00+00:00",
          "2021-08-09T17:00:00+00:00",
          "2021-08-10T05:00:00+00:00",
          "2021-08-10T07:00:00+00:00",
          "2021-08-10T09:00:00+00:00",
          "2021-08-10T11:00:00+00:00",
          "2021-08-10T13:00:00+00:00",
          "2021-08-10T15:00:00+00:00",
          "2021-08-10T19:00:00+00:00",
          "2021-08-10T21:00:00+00:00",
          "2021-08-11T02:00:00+00:00",
          "2021-08-11T06:00:00+00:00",
          "2021-08-11T07:00:00+00:00",
          "2021-08-11T08:00:00+00:00",
          "2021-08-11T10:00:00+00:00",
          "2021-08-11T12:00:00+00:00",
          "2021-08-11T13:00:00+00:00",
          "2021-08-11T14:00:00+00:00",
          "2021-08-11T15:00:00+00:00",
          "2021-08-11T18:00:00+00:00",
          "2021-08-12T02:00:00+00:00",
          "2021-08-12T04:00:00+00:00",
          "2021-08-12T11:00:00+00:00",
          "2021-08-12T13:00:00+00:00",
          "2021-08-12T14:00:00+00:00",
          "2021-08-12T15:00:00+00:00",
          "2021-08-12T16:00:00+00:00",
          "2021-08-12T17:00:00+00:00",
          "2021-08-12T18:00:00+00:00",
          "2021-08-12T23:00:00+00:00",
          "2021-08-13T10:00:00+00:00",
          "2021-08-13T14:00:00+00:00",
          "2021-08-13T15:00:00+00:00",
          "2021-08-15T21:00:00+00:00",
          "2021-08-15T22:00:00+00:00",
          "2021-08-15T23:00:00+00:00",
          "2021-08-16T00:00:00+00:00",
          "2021-08-16T03:00:00+00:00",
          "2021-08-16T11:00:00+00:00",
          "2021-08-16T12:00:00+00:00",
          "2021-08-16T13:00:00+00:00",
          "2021-08-16T16:00:00+00:00",
          "2021-08-16T20:00:00+00:00",
          "2021-08-16T21:00:00+00:00",
          "2021-08-17T01:00:00+00:00",
          "2021-08-17T02:00:00+00:00",
          "2021-08-17T04:00:00+00:00",
          "2021-08-17T06:00:00+00:00",
          "2021-08-17T08:00:00+00:00",
          "2021-08-17T11:00:00+00:00",
          "2021-08-17T15:00:00+00:00",
          "2021-08-17T19:00:00+00:00",
          "2021-08-17T21:00:00+00:00",
          "2021-08-17T22:00:00+00:00",
          "2021-08-18T09:00:00+00:00",
          "2021-08-18T10:00:00+00:00",
          "2021-08-18T12:00:00+00:00",
          "2021-08-18T13:00:00+00:00",
          "2021-08-18T14:00:00+00:00",
          "2021-08-18T15:00:00+00:00",
          "2021-08-18T16:00:00+00:00",
          "2021-08-18T18:00:00+00:00",
          "2021-08-18T20:00:00+00:00",
          "2021-08-18T21:00:00+00:00",
          "2021-08-19T03:00:00+00:00",
          "2021-08-19T04:00:00+00:00",
          "2021-08-19T07:00:00+00:00",
          "2021-08-19T08:00:00+00:00",
          "2021-08-19T11:00:00+00:00",
          "2021-08-19T12:00:00+00:00",
          "2021-08-19T13:00:00+00:00",
          "2021-08-19T14:00:00+00:00",
          "2021-08-19T17:00:00+00:00",
          "2021-08-19T19:00:00+00:00",
          "2021-08-20T03:00:00+00:00",
          "2021-08-20T04:00:00+00:00",
          "2021-08-20T06:00:00+00:00",
          "2021-08-20T08:00:00+00:00",
          "2021-08-20T13:00:00+00:00",
          "2021-08-20T14:00:00+00:00",
          "2021-08-20T17:00:00+00:00",
          "2021-08-20T18:00:00+00:00",
          "2021-08-20T19:00:00+00:00",
          "2021-08-22T21:00:00+00:00",
          "2021-08-22T23:00:00+00:00",
          "2021-08-23T01:00:00+00:00",
          "2021-08-23T03:00:00+00:00",
          "2021-08-23T04:00:00+00:00",
          "2021-08-23T06:00:00+00:00",
          "2021-08-23T07:00:00+00:00",
          "2021-08-23T08:00:00+00:00",
          "2021-08-23T10:00:00+00:00",
          "2021-08-23T11:00:00+00:00",
          "2021-08-23T12:00:00+00:00",
          "2021-08-23T14:00:00+00:00",
          "2021-08-23T16:00:00+00:00",
          "2021-08-24T06:00:00+00:00",
          "2021-08-24T09:00:00+00:00",
          "2021-08-24T16:00:00+00:00",
          "2021-08-24T18:00:00+00:00",
          "2021-08-24T20:00:00+00:00",
          "2021-08-24T23:00:00+00:00",
          "2021-08-25T02:00:00+00:00",
          "2021-08-25T03:00:00+00:00",
          "2021-08-25T05:00:00+00:00",
          "2021-08-25T08:00:00+00:00",
          "2021-08-25T09:00:00+00:00",
          "2021-08-25T10:00:00+00:00",
          "2021-08-25T12:00:00+00:00",
          "2021-08-25T15:00:00+00:00",
          "2021-08-25T17:00:00+00:00",
          "2021-08-25T21:00:00+00:00",
          "2021-08-25T22:00:00+00:00",
          "2021-08-26T02:00:00+00:00",
          "2021-08-26T03:00:00+00:00",
          "2021-08-26T08:00:00+00:00",
          "2021-08-26T11:00:00+00:00",
          "2021-08-26T13:00:00+00:00",
          "2021-08-26T14:00:00+00:00",
          "2021-08-26T15:00:00+00:00",
          "2021-08-26T16:00:00+00:00",
          "2021-08-26T18:00:00+00:00",
          "2021-08-27T00:00:00+00:00",
          "2021-08-27T01:00:00+00:00",
          "2021-08-27T04:00:00+00:00",
          "2021-08-27T08:00:00+00:00",
          "2021-08-27T09:00:00+00:00",
          "2021-08-27T10:00:00+00:00",
          "2021-08-27T13:00:00+00:00",
          "2021-08-27T14:00:00+00:00",
          "2021-08-27T15:00:00+00:00",
          "2021-08-27T16:00:00+00:00",
          "2021-08-27T17:00:00+00:00",
          "2021-08-27T18:00:00+00:00",
          "2021-08-27T19:00:00+00:00",
          "2021-08-29T21:00:00+00:00",
          "2021-08-29T22:00:00+00:00",
          "2021-08-30T00:00:00+00:00",
          "2021-08-30T03:00:00+00:00",
          "2021-08-30T07:00:00+00:00",
          "2021-08-30T08:00:00+00:00",
          "2021-08-30T09:00:00+00:00",
          "2021-08-30T10:00:00+00:00",
          "2021-08-30T11:00:00+00:00",
          "2021-08-30T12:00:00+00:00",
          "2021-08-30T23:00:00+00:00",
          "2021-08-31T03:00:00+00:00",
          "2021-08-31T05:00:00+00:00",
          "2021-08-31T06:00:00+00:00",
          "2021-08-31T09:00:00+00:00",
          "2021-08-31T12:00:00+00:00",
          "2021-08-31T13:00:00+00:00",
          "2021-08-31T14:00:00+00:00",
          "2021-08-31T15:00:00+00:00",
          "2021-08-31T16:00:00+00:00",
          "2021-08-31T17:00:00+00:00",
          "2021-08-31T18:00:00+00:00",
          "2021-08-31T20:00:00+00:00",
          "2021-09-01T00:00:00+00:00",
          "2021-09-01T03:00:00+00:00",
          "2021-09-01T07:00:00+00:00",
          "2021-09-01T08:00:00+00:00",
          "2021-09-01T12:00:00+00:00",
          "2021-09-01T14:00:00+00:00",
          "2021-09-01T15:00:00+00:00",
          "2021-09-01T17:00:00+00:00",
          "2021-09-01T19:00:00+00:00",
          "2021-09-02T03:00:00+00:00",
          "2021-09-02T06:00:00+00:00",
          "2021-09-02T07:00:00+00:00",
          "2021-09-02T08:00:00+00:00",
          "2021-09-02T09:00:00+00:00",
          "2021-09-02T10:00:00+00:00",
          "2021-09-02T14:00:00+00:00",
          "2021-09-02T15:00:00+00:00",
          "2021-09-02T16:00:00+00:00",
          "2021-09-03T05:00:00+00:00",
          "2021-09-03T11:00:00+00:00",
          "2021-09-03T16:00:00+00:00",
          "2021-09-03T18:00:00+00:00",
          "2021-09-05T21:00:00+00:00",
          "2021-09-06T00:00:00+00:00",
          "2021-09-06T02:00:00+00:00",
          "2021-09-06T03:00:00+00:00",
          "2021-09-06T04:00:00+00:00",
          "2021-09-06T05:00:00+00:00",
          "2021-09-06T09:00:00+00:00",
          "2021-09-06T11:00:00+00:00",
          "2021-09-06T12:00:00+00:00",
          "2021-09-06T14:00:00+00:00",
          "2021-09-06T16:00:00+00:00",
          "2021-09-06T17:00:00+00:00",
          "2021-09-06T19:00:00+00:00",
          "2021-09-06T20:00:00+00:00",
          "2021-09-06T23:00:00+00:00",
          "2021-09-07T00:00:00+00:00",
          "2021-09-07T01:00:00+00:00",
          "2021-09-07T02:00:00+00:00",
          "2021-09-07T03:00:00+00:00",
          "2021-09-07T04:00:00+00:00",
          "2021-09-07T05:00:00+00:00",
          "2021-09-07T06:00:00+00:00",
          "2021-09-07T09:00:00+00:00",
          "2021-09-07T10:00:00+00:00",
          "2021-09-07T11:00:00+00:00",
          "2021-09-07T15:00:00+00:00",
          "2021-09-07T21:00:00+00:00"
         ],
         "y": [
          -29.90000000000048,
          -64.4,
          -79.60000000000011,
          -76.40000000000046,
          122.3999999999985,
          145.199999999998,
          202.8000000000001,
          213.6000000000005,
          216.49999999999952,
          219.09999999999877,
          256.0999999999991,
          237.69999999999848,
          190.5000000000001,
          150.5999999999993,
          117.79999999999902,
          119.79999999999879,
          94.29999999999853,
          63.89999999999811,
          56.399999999997824,
          28.699999999996212,
          -12.600000000003458,
          -10.900000000003423,
          -24.3000000000035,
          -35.30000000000451,
          -31.70000000000535,
          -0.3000000000039229,
          -5.000000000003627,
          -22.800000000002555,
          -42.000000000001776,
          -56.40000000000063,
          -160.40000000000109,
          -173.10000000000102,
          -178.70000000000107,
          -183.00000000000148,
          -191.20000000000192,
          -211.7000000000019,
          -228.6000000000016,
          -239.60000000000258,
          -284.60000000000207,
          -303.90000000000185,
          -332.80000000000246,
          -350.6000000000014,
          -248.40000000000288,
          -293.30000000000206,
          -338.30000000000155,
          -353.20000000000164,
          -375.1000000000019,
          -395.20000000000294,
          -365.100000000003,
          -372.00000000000324,
          -427.0000000000047,
          -287.2000000000051,
          -279.3000000000046,
          -292.20000000000476,
          -377.4000000000053,
          -362.8000000000057,
          -373.200000000005,
          -341.9000000000052,
          -346.10000000000537,
          -385.5000000000059,
          -415.9000000000074,
          -451.10000000000707,
          -461.00000000000756,
          -525.800000000009,
          -547.8000000000088,
          -581.200000000011,
          -589.1000000000116,
          -599.2000000000133,
          -638.5000000000134,
          -643.7000000000141,
          -532.7000000000141,
          -568.1000000000129,
          -649.4000000000148,
          -657.6000000000134,
          -623.7000000000145,
          -657.5000000000139,
          -740.6000000000142,
          -745.7000000000154,
          -770.4000000000174,
          -792.1000000000174,
          -805.7000000000177,
          -753.0000000000166,
          -616.9000000000165,
          -570.300000000017,
          -500.30000000001803,
          -501.70000000001835,
          -480.30000000001695,
          -459.6000000000168,
          -536.9000000000158,
          -544.0000000000157,
          -558.1000000000148,
          -569.9000000000144,
          -584.8000000000145,
          -521.500000000015,
          -498.3000000000154,
          -480.40000000001663,
          -515.6000000000163,
          -609.2000000000155,
          -644.5000000000158,
          -709.7000000000173,
          -764.900000000017,
          -804.700000000018,
          -816.5000000000176,
          -835.7000000000169,
          -845.5000000000168,
          -847.8000000000175,
          -863.1000000000166,
          -895.9000000000161,
          -918.5000000000155,
          -926.400000000015,
          -946.8000000000143,
          -1051.7000000000153,
          -1077.5000000000155,
          -1068.5000000000164,
          -1035.0000000000155,
          -1117.500000000014,
          -964.0000000000143,
          -978.2000000000141,
          -1021.6000000000139,
          -1037.8000000000134,
          -1064.9000000000144,
          -1076.900000000013,
          -979.5000000000123,
          -962.5000000000108,
          -982.5000000000111,
          -883.7000000000122,
          -813.3000000000106,
          -818.7000000000116,
          -840.7000000000114,
          -859.3000000000111,
          -868.3000000000112,
          -874.700000000011,
          -927.6000000000112,
          -956.3000000000116,
          -1024.0000000000098,
          -1030.0000000000102,
          -1110.4000000000108,
          -1162.500000000012,
          -1181.7000000000112,
          -1184.1000000000104,
          -1215.900000000009,
          -1234.8000000000084,
          -1225.2000000000098,
          -1226.1000000000092,
          -1205.700000000009,
          -1265.9000000000078,
          -1250.4000000000085,
          -1258.7000000000085,
          -1269.2000000000075,
          -1252.4000000000065,
          -1236.6000000000067,
          -1232.0000000000077,
          -1240.200000000007,
          -1136.2000000000064,
          -1123.8000000000063,
          -1127.6000000000056,
          -1142.5000000000064,
          -1161.4000000000071,
          -1183.9000000000065,
          -1205.7000000000069,
          -1232.9000000000062,
          -1248.8000000000054,
          -1258.5000000000048,
          -1262.9000000000044,
          -1159.5000000000039,
          -1166.9000000000037,
          -1184.400000000005,
          -1240.7000000000053,
          -1140.5000000000057,
          -1200.1000000000047,
          -1284.5000000000048,
          -1341.2000000000055,
          -1349.5000000000055,
          -1375.6000000000045,
          -1395.9000000000042,
          -1423.5000000000036,
          -1437.100000000003,
          -1439.8000000000052,
          -1404.4000000000065,
          -1416.1000000000054,
          -1271.2000000000062,
          -1279.8000000000059,
          -1290.8000000000068,
          -898.6000000000065,
          -696.4000000000055,
          -683.600000000006,
          -639.6000000000056,
          -628.3000000000037,
          -626.8000000000028,
          -625.7000000000022,
          -621.9000000000017,
          -638.8000000000013,
          -673.2000000000013,
          -670.4000000000018,
          -678.1999999999996,
          -703.5999999999995,
          -744.1000000000006,
          -753.9000000000004,
          -788.900000000001,
          -845.7000000000023,
          -814.100000000004,
          -835.8000000000052,
          -764.100000000004,
          -780.7000000000039,
          -786.4000000000035,
          -868.5000000000018,
          -868.0000000000008,
          -875.0000000000023,
          -717.5000000000018,
          -734.500000000002,
          -744.300000000002,
          -756.4000000000011,
          -765.7000000000021,
          -758.9000000000024,
          -633.3000000000023,
          -432.80000000000337,
          -307.40000000000435,
          -312.50000000000443,
          -357.4000000000055,
          -334.8000000000062,
          -33.700000000006185,
          -53.000000000006054,
          -75.40000000000626,
          -100.10000000000598,
          -109.40000000000695,
          171.39999999999407,
          325.79999999999416,
          332.59999999999206,
          509.4999999999926,
          510.19999999999277,
          472.799999999992,
          449.0999999999922,
          512.8999999999927,
          503.3999999999914,
          536.39999999999,
          518.3999999999893,
          489.19999999998896,
          481.19999999998873,
          465.6999999999882,
          447.8999999999882,
          419.29999999998734,
          392.49999999998727,
          414.29999999998574,
          422.99999999998596,
          391.5999999999868,
          374.9999999999871,
          349.2999999999866,
          331.3999999999864,
          428.8999999999858,
          407.19999999998595,
          444.0999999999858,
          431.49999999998533,
          394.2999999999853,
          362.399999999985,
          307.99999999998613,
          293.9999999999861,
          291.9999999999863,
          343.6999999999859,
          426.59999999998666,
          731.6999999999869,
          767.2999999999869,
          733.1999999999855,
          727.9999999999848,
          725.699999999983,
          738.799999999983,
          756.399999999984,
          712.199999999983,
          800.9999999999852,
          866.0999999999865,
          890.2999999999856,
          988.0999999999857,
          975.7999999999851,
          971.5999999999854,
          922.7999999999854,
          1001.1999999999839,
          1035.0999999999838,
          1097.0999999999835,
          1041.9999999999827,
          983.8999999999838,
          1204.0999999999842,
          1133.899999999984,
          1116.2999999999852,
          1092.5999999999854,
          1141.0999999999854,
          1151.0999999999842,
          1252.4999999999845,
          1386.6999999999855,
          1395.4999999999854,
          1456.8999999999858,
          1607.0999999999854,
          1621.099999999985,
          1552.8999999999844,
          1634.8999999999842,
          1643.2999999999845,
          1505.4999999999852,
          1473.6999999999834,
          1454.9999999999832,
          1434.8999999999826,
          1573.599999999983,
          1563.7999999999834,
          1616.9999999999854,
          1651.3999999999855,
          1622.5999999999856,
          1622.7999999999865,
          1620.1999999999873,
          1616.3999999999892,
          1598.6999999999912,
          1547.5999999999922,
          1507.9999999999902,
          1474.599999999989,
          1469.9999999999877,
          1622.599999999986,
          1635.1999999999864,
          1609.0999999999854,
          1788.7999999999836,
          1764.799999999984,
          1728.699999999985,
          1705.0999999999858,
          1592.6999999999844,
          1553.4999999999852,
          1545.1999999999864,
          1603.9999999999875,
          1583.5999999999872,
          1573.0999999999867,
          1569.6999999999866,
          1564.0999999999883,
          1534.2999999999881,
          1504.9999999999875,
          1451.0999999999874,
          1439.499999999988,
          1483.4999999999875,
          1444.899999999985,
          1486.5999999999829,
          1447.7999999999809,
          1592.3999999999805,
          1520.0999999999822,
          1510.399999999983,
          1493.5999999999838,
          1399.6999999999837,
          1395.0999999999847,
          1423.2999999999865,
          1419.2999999999874,
          1413.8999999999887,
          1363.8999999999887,
          1285.4999999999902,
          1265.0999999999897,
          1324.09999999999,
          1292.1999999999896,
          1275.1999999999894,
          1257.7999999999915,
          1239.2999999999925,
          1237.199999999992,
          1223.1999999999914,
          1228.9999999999916,
          1190.8999999999908,
          1165.3999999999915,
          1164.7999999999909,
          1129.9999999999916,
          1076.2999999999918,
          1032.1999999999916,
          997.4999999999923,
          976.099999999992,
          936.3999999999917,
          972.2999999999926,
          879.5999999999908,
          841.1999999999924,
          824.7999999999927,
          802.1999999999912,
          808.1999999999905,
          788.0999999999897,
          805.4999999999893,
          826.3999999999886,
          979.2999999999902,
          977.0999999999902,
          946.7999999999909,
          930.7999999999912,
          915.4999999999931,
          892.4999999999927,
          871.4999999999928,
          1016.4999999999932,
          1093.2999999999934,
          1053.2999999999934,
          1033.2999999999934,
          1026.8999999999937,
          1008.6999999999933,
          997.2999999999919,
          980.2999999999915,
          1452.299999999993,
          1394.899999999991,
          1366.8999999999908,
          1328.6999999999914,
          1347.3999999999912,
          1339.2999999999915,
          1307.499999999992,
          1280.0999999999924,
          1250.7999999999925,
          1217.699999999991,
          1176.2999999999895,
          1121.999999999989,
          1108.7999999999909,
          1133.5999999999888,
          1135.1999999999903,
          1129.0999999999904,
          1125.29999999999,
          1096.3999999999894,
          1084.1999999999894,
          1026.3999999999883,
          976.7999999999876,
          948.3999999999869,
          975.2999999999877,
          1006.0999999999874,
          1027.899999999986,
          1003.7999999999857,
          940.5999999999881,
          928.7999999999885,
          909.8999999999879,
          904.8999999999874,
          901.4999999999873,
          886.6999999999869,
          816.899999999987,
          757.8999999999862,
          613.5999999999862,
          601.4999999999857,
          570.4999999999858,
          559.3999999999852,
          545.6999999999854,
          538.0999999999844,
          453.3999999999847,
          392.7999999999852,
          300.5999999999856,
          283.79999999998654,
          187.39999999998784,
          31.199999999990524,
          -82.4000000000113,
          -214.7000000000125,
          -449.90000000001504,
          -602.2000000000153,
          -755.6000000000122,
          -780.6000000000116,
          -784.2000000000119,
          -815.6000000000133,
          -831.6000000000138,
          -815.0000000000139,
          -811.4000000000151,
          -822.8000000000155,
          -861.4000000000142,
          -897.8000000000145,
          -894.6000000000157,
          -105.8000000000153,
          105.39999999998204,
          121.999999999982,
          77.89999999998174,
          283.8999999999809,
          248.8999999999803,
          230.09999999998038,
          170.49999999998073,
          148.59999999998047,
          301.6999999999798,
          333.99999999998045,
          363.6999999999785,
          341.6999999999765,
          333.19999999997634,
          313.19999999997634,
          434.79999999997585,
          413.79999999997597,
          408.6999999999759,
          384.1999999999775,
          356.1999999999761,
          343.59999999997797,
          243.799999999977,
          202.89999999997661,
          151.89999999997752,
          88.59999999997694,
          55.19999999997645,
          432.29999999997557,
          430.2999999999758,
          406.2999999999762,
          488.0999999999774,
          535.9999999999773,
          803.5999999999773,
          801.8999999999772,
          818.5999999999767,
          807.8999999999754,
          791.2999999999755,
          806.4999999999752,
          799.699999999975,
          779.0999999999756,
          751.7999999999765,
          793.6999999999779,
          770.1999999999771,
          942.199999999977,
          916.7999999999765,
          862.4999999999765,
          993.8999999999771,
          1171.8999999999776,
          1158.2999999999772,
          1482.5999999999767,
          1436.899999999976,
          1430.2999999999763,
          1433.3999999999767,
          1429.7999999999754,
          1580.399999999974,
          1624.999999999974,
          1614.999999999973,
          1710.5999999999717,
          1840.4999999999723,
          1813.4999999999698,
          1839.5999999999697,
          1897.5999999999708,
          1875.3999999999696,
          1849.3999999999703,
          1834.6999999999716,
          1797.8999999999726,
          1782.5999999999722,
          1760.9999999999727,
          1781.5999999999722,
          1758.7999999999715,
          1726.8999999999712,
          1694.1999999999703,
          1657.7999999999695,
          1644.4999999999688,
          1648.399999999969,
          1617.8999999999712,
          1583.3999999999717,
          1575.5999999999717,
          1556.1999999999712,
          1545.999999999971,
          1558.7999999999715,
          1550.1999999999707,
          1534.1999999999725,
          1518.999999999973,
          1517.7999999999718,
          1502.099999999971,
          1483.3999999999708,
          1484.9999999999714,
          1472.5999999999713,
          1454.2999999999713,
          1442.2999999999727,
          1507.599999999972,
          1504.5999999999713,
          1477.1999999999716,
          1520.7999999999709,
          1580.4999999999723,
          1569.8999999999717,
          1535.9999999999716,
          1532.2999999999718,
          1530.8999999999714,
          1511.999999999972,
          1502.3999999999712,
          1484.399999999971,
          1424.899999999972,
          1413.4999999999727,
          1433.4999999999727,
          1506.0999999999706,
          1516.7999999999706,
          1521.3999999999712,
          1537.3999999999705,
          1511.199999999971,
          1491.899999999971,
          1477.8999999999703,
          1464.5999999999697,
          1463.9999999999702,
          1443.8999999999717,
          1428.9999999999718,
          1419.1999999999719,
          1378.9999999999727,
          1358.3999999999733,
          1340.5999999999735,
          1320.9999999999736,
          1310.2999999999738,
          1286.7999999999731,
          1279.199999999974,
          1368.099999999975,
          1350.2999999999752,
          1321.1999999999757,
          1258.7999999999754,
          1196.5999999999765,
          1331.4999999999777,
          1324.8999999999774,
          1431.799999999977,
          1529.1999999999766,
          1581.2999999999765,
          1720.4999999999782,
          1821.9999999999782,
          1798.5999999999801,
          1786.4999999999786,
          1758.5999999999779,
          1718.6999999999784,
          1832.2999999999788,
          1796.0999999999792,
          1835.0999999999792,
          2147.199999999981,
          2259.499999999981,
          2462.3999999999814,
          2506.0999999999813,
          2560.1999999999803,
          2687.69999999998,
          2675.0999999999794,
          2652.299999999979,
          2649.299999999978,
          2631.799999999979,
          2594.39999999998,
          2535.39999999998,
          2514.7999999999793,
          2612.0999999999794,
          2593.5999999999794,
          2581.399999999981,
          2579.7999999999815,
          2543.7999999999815,
          2507.1999999999816,
          2519.999999999982,
          2499.199999999981,
          2504.899999999982,
          2468.0999999999826,
          2456.8999999999824,
          2438.999999999985,
          2389.899999999988,
          2330.39999999999,
          2281.69999999999,
          2269.699999999989,
          2266.5999999999885,
          2257.5999999999885,
          2228.899999999989,
          2196.1999999999907,
          2192.7999999999906,
          2209.09999999999,
          2176.19999999999,
          2126.599999999993,
          2115.2999999999934,
          2096.799999999993,
          2072.399999999994,
          2057.6999999999966,
          2021.5999999999976,
          2007.5999999999976,
          1995.8999999999976,
          1973.099999999997,
          1949.599999999997,
          1868.0999999999985,
          1836.6999999999994,
          1821.5999999999983,
          1770.5999999999992,
          1862.4999999999998,
          1866.6999999999998,
          1893.3999999999994,
          1879.1999999999996,
          1970.9999999999998,
          1903.7999999999993,
          2052.7,
          2130.7999999999997,
          2130.499999999998,
          2128.099999999998,
          2108.100000000001,
          2133.1000000000004,
          2142.2,
          2302.700000000001,
          2343.800000000001,
          2328.0000000000023,
          2307.0999999999995,
          2262.399999999999,
          2203.399999999999,
          2161.0999999999995,
          2140.799999999999,
          2110.4999999999986,
          2095.899999999997,
          2074.4999999999973,
          2000.1999999999975,
          1964.599999999998,
          1937.499999999998,
          1872.599999999997,
          1865.5999999999967,
          1855.3999999999965,
          1843.5999999999979,
          1833.1999999999985,
          1810.4999999999984,
          1765.2999999999988,
          1686.9999999999966,
          1677.7999999999963,
          1653.3999999999965,
          1618.6999999999957,
          1543.2999999999947,
          1402.3999999999944,
          1535.5999999999945,
          1611.8999999999915,
          1593.8999999999912,
          1699.9999999999902,
          1616.09999999999,
          1577.0999999999908,
          1580.7999999999915,
          1526.999999999992,
          1499.0999999999924,
          1485.4999999999932,
          1472.099999999993,
          1501.899999999992,
          1446.199999999989,
          1416.6999999999866,
          1387.4999999999864,
          1378.099999999987,
          1342.8999999999864,
          1302.5999999999867,
          1259.3999999999878,
          1227.999999999987,
          1221.9999999999868,
          1185.7999999999872,
          1126.6999999999869,
          1103.5999999999888,
          1167.799999999987,
          1155.8999999999867,
          1136.5999999999856,
          1105.7999999999836,
          1044.2999999999815,
          996.7999999999801,
          1135.399999999981,
          1190.4999999999811,
          1155.4999999999802,
          1450.49999999998,
          1830.9999999999795,
          1850.39999999998,
          1911.1999999999787,
          1916.3999999999771,
          1908.7999999999763,
          1906.5999999999751,
          1823.0999999999722,
          1807.3999999999714,
          1776.6999999999703,
          1764.4999999999702,
          1703.5999999999722,
          1691.199999999973,
          1661.9999999999757,
          1618.999999999976,
          1613.1999999999766,
          1602.3999999999762,
          1601.5999999999754,
          1605.9999999999764,
          1744.9999999999777,
          1709.7999999999774,
          1655.7999999999768,
          1628.9999999999766,
          1605.1999999999766,
          1590.0999999999765,
          1693.599999999976,
          1648.499999999977,
          1644.7999999999772,
          1638.8999999999774,
          1641.1999999999769,
          1832.9999999999745,
          1818.1999999999748,
          2205.399999999974,
          2252.799999999973,
          2222.799999999973,
          2204.4999999999727,
          2183.999999999972,
          2328.299999999971,
          2316.4999999999704,
          2282.19999999997,
          2252.39999999997,
          2189.2999999999674,
          2182.299999999966,
          2178.699999999965,
          2090.1999999999643,
          2081.6999999999643,
          2063.199999999963,
          2045.6999999999628,
          2045.1999999999616,
          2028.299999999962,
          1970.5999999999615,
          1951.5999999999613,
          1927.7999999999608,
          1925.799999999961,
          1936.6999999999591,
          1889.899999999959,
          1929.9999999999595,
          1904.79999999996,
          1909.9999999999595,
          1908.9999999999595,
          1900.7999999999613,
          1905.499999999961,
          1887.699999999961,
          1873.5999999999603,
          1923.8999999999603,
          1911.79999999996,
          1888.2999999999593,
          1846.4999999999607,
          1839.099999999961,
          1892.0999999999608,
          1862.3999999999617,
          1841.8999999999605,
          1838.4999999999604,
          1828.8999999999596,
          1794.7999999999572,
          1798.999999999956,
          1784.599999999958,
          1797.8999999999578,
          1806.4999999999575,
          1815.8999999999578,
          1782.899999999957,
          1873.7999999999572,
          1873.7999999999572,
          1844.1999999999564,
          1808.199999999958,
          1734.799999999957,
          1762.9999999999563,
          1737.7999999999556,
          1749.0999999999585,
          1724.499999999958,
          1691.6999999999584,
          1694.899999999958,
          1676.2999999999583,
          1634.6999999999587,
          1663.0999999999583,
          1653.499999999957,
          1617.2999999999574,
          1588.0999999999572,
          1555.199999999957,
          1566.3999999999571,
          1555.599999999958,
          1539.0999999999588,
          1480.6999999999584,
          1426.0999999999572,
          1454.099999999958,
          1438.699999999957,
          1440.2999999999577,
          1566.899999999958,
          1722.299999999957,
          1795.1999999999566,
          1781.1999999999555,
          1770.3999999999564,
          1740.499999999956,
          1819.3999999999555,
          1798.3999999999555,
          1845.2999999999563,
          1838.6999999999575,
          1878.2999999999572,
          1867.0999999999572,
          1839.6999999999575,
          1819.7999999999577,
          1892.7999999999581,
          1971.3999999999578,
          2113.0999999999617,
          2134.3999999999605,
          2074.099999999962,
          2058.799999999962,
          2020.5999999999626,
          1996.8999999999628,
          1969.999999999962,
          1956.099999999962,
          2131.0999999999626,
          2112.4999999999627,
          2018.099999999964,
          2003.8999999999642,
          1951.499999999964,
          1930.2999999999652,
          1877.2999999999643,
          2049.4999999999623,
          2098.4999999999613,
          2373.4999999999623,
          2354.3999999999614,
          2400.899999999962,
          2484.499999999963,
          2461.099999999963,
          2430.399999999962,
          2399.5999999999613,
          2372.1999999999616,
          2363.8999999999605,
          2350.999999999959,
          2422.3999999999605,
          2410.2999999999593,
          2397.699999999959,
          2419.2999999999583,
          2400.6999999999575,
          2387.099999999957,
          2363.0999999999576,
          2347.8999999999564,
          2304.2999999999556,
          2360.099999999955,
          2402.099999999955,
          2354.499999999955,
          2365.5999999999544,
          2389.599999999954,
          2382.1999999999543,
          2448.9999999999536,
          2477.5999999999544,
          2455.999999999955,
          2426.999999999955,
          2407.399999999955,
          2392.6999999999543,
          2371.599999999956,
          2339.5999999999567,
          2337.0999999999563,
          2322.3999999999555,
          2315.7999999999565,
          2344.999999999957,
          2335.999999999957,
          2331.4999999999563,
          2305.7999999999574,
          2309.1999999999575,
          2230.999999999958,
          2221.2999999999574,
          2177.199999999957,
          2235.499999999957,
          2278.0999999999563,
          2266.7999999999565,
          2212.799999999958,
          2269.399999999959,
          2269.399999999959,
          2165.6999999999566,
          2210.199999999957,
          2177.099999999958,
          2139.099999999956,
          2149.2999999999547,
          2126.3999999999546,
          2126.8999999999546,
          2078.099999999955,
          2135.3999999999564,
          2119.399999999957,
          2109.6999999999575,
          1998.2999999999577,
          1957.0999999999588,
          1936.5999999999565,
          1929.1999999999566,
          1929.599999999957,
          1929.7999999999565,
          1890.5999999999574,
          1903.6999999999575,
          1966.8999999999585,
          1965.1999999999584,
          2015.799999999959,
          2050.5999999999585,
          2026.599999999959,
          2021.8999999999592,
          2021.099999999958,
          2065.9999999999577,
          2064.8999999999573,
          2059.2999999999583,
          2051.599999999959,
          2077.0999999999594,
          2054.7999999999597,
          2072.09999999996,
          2042.59999999996,
          2006.2999999999597,
          1911.6999999999587,
          1866.9999999999598,
          1763.6999999999596,
          1751.499999999961,
          1723.4999999999618,
          1657.199999999965,
          1647.3999999999664,
          1633.3999999999678,
          1616.7999999999681,
          1592.3999999999683,
          1571.999999999968,
          1500.3999999999673,
          1492.8999999999685,
          1452.799999999968,
          1489.1999999999678,
          1468.399999999967,
          1399.1999999999687,
          1419.3999999999678,
          1404.499999999968,
          1424.0999999999672,
          1374.3999999999664,
          1345.2999999999668,
          1298.899999999967,
          1276.6999999999675,
          1247.4999999999673,
          1200.999999999969,
          1151.6999999999707,
          972.9999999999734,
          907.6999999999744,
          908.3999999999739,
          863.1999999999731,
          807.0999999999757,
          799.3999999999752,
          791.0999999999754,
          775.0999999999772,
          703.699999999978,
          702.6999999999775,
          673.5999999999779,
          639.4999999999787,
          639.0999999999794,
          845.9999999999809,
          1037.0999999999801,
          1313.8999999999805,
          1275.5999999999806,
          1265.0999999999801,
          1236.199999999979,
          1210.3999999999787,
          1179.0999999999801,
          1171.2999999999802,
          1170.2999999999802,
          1156.9999999999795,
          1125.7999999999795,
          1112.5999999999797,
          1099.3999999999792,
          1071.899999999981,
          1056.0999999999822,
          1045.0999999999813,
          1037.8999999999808,
          1007.5999999999797,
          990.1999999999789,
          963.7999999999791,
          951.6999999999798,
          923.2999999999806,
          884.099999999981,
          928.4999999999848,
          828.8999999999857,
          784.699999999987,
          826.7999999999874,
          848.8999999999868,
          828.1999999999874,
          806.4999999999861,
          943.7999999999852,
          1004.6999999999845,
          1011.399999999986,
          1034.8999999999862,
          1063.0999999999865,
          1018.399999999989,
          1059.1999999999875,
          1064.9999999999877,
          1053.0999999999874,
          1036.8999999999867,
          1125.2999999999886,
          1131.4999999999893,
          1117.69999999999,
          1126.8999999999899,
          1126.099999999989,
          1140.5999999999885,
          1141.1999999999884,
          1141.8999999999885,
          1107.8999999999883,
          1040.2999999999872,
          1028.4999999999866,
          999.3999999999863,
          862.1999999999869,
          824.6999999999869,
          807.599999999987,
          783.899999999986,
          780.8999999999859,
          762.7999999999847,
          717.0999999999854,
          709.8999999999849,
          717.6999999999849,
          664.8999999999841,
          642.4999999999832,
          606.6999999999817,
          567.3999999999819,
          605.9999999999817,
          566.7999999999821,
          520.4999999999841,
          472.0999999999838,
          454.79999999998364,
          444.5999999999834,
          417.49999999998477,
          374.09999999998576,
          477.39999999998577,
          593.3999999999841,
          571.0999999999846,
          605.9999999999869,
          554.6999999999883,
          493.39999999998975,
          521.89999999999,
          501.89999999999173,
          498.8999999999921,
          494.3999999999919,
          486.1999999999911,
          498.3999999999911,
          468.7999999999919,
          478.89999999999145,
          462.79999999999035,
          452.5999999999914,
          404.59999999999,
          310.3999999999902,
          216.59999999998996,
          199.69999999998805,
          185.2999999999875,
          194.899999999986,
          202.49999999998533,
          203.2999999999863,
          191.8999999999873,
          215.8999999999882,
          247.0999999999883,
          206.0999999999884,
          241.59999999998755,
          211.59999999998797,
          215.09999999998757,
          250.1999999999866,
          215.1999999999838,
          191.1999999999831,
          145.49999999998346,
          123.99999999998249,
          108.79999999998283,
          95.99999999998334,
          92.89999999998302,
          112.29999999998134,
          96.29999999998088,
          8.799999999979605,
          32.79999999997918,
          24.099999999978806,
          51.09999999997841,
          5.599999999977868,
          32.39999999997691,
          6.699999999977301,
          0.29999999997800586,
          -6.700000000022733,
          14.19999999997652,
          -19.500000000023014,
          -107.80000000002417,
          -120.00000000002305,
          -135.4000000000218,
          -138.60000000002145,
          -202.2000000000221,
          -209.90000000002192,
          -241.80000000002218,
          -288.80000000002195,
          -399.10000000001975,
          -466.00000000001796,
          -484.60000000001725,
          -505.0000000000177,
          -497.5000000000196,
          -524.4000000000187,
          -557.200000000019,
          -592.0000000000183,
          -601.8000000000203,
          -618.8000000000206,
          -699.8000000000227,
          -741.8000000000236,
          -711.7000000000245,
          -816.8000000000236,
          -847.5000000000258,
          -849.1000000000263,
          -860.1000000000263,
          -877.800000000027,
          -870.2000000000272,
          -903.200000000028,
          -958.6000000000265,
          -985.4000000000267,
          -991.0000000000279,
          -994.5000000000275,
          -1082.0000000000266,
          -1095.600000000029,
          -1046.9000000000308,
          -1028.6000000000313,
          -771.6000000000329,
          -795.4000000000334,
          -818.9000000000333,
          -826.1000000000338,
          -845.7000000000336,
          -869.7000000000317,
          -898.5000000000316,
          -946.6000000000327,
          -965.2000000000335,
          -988.4000000000344,
          -999.6000000000345,
          -1032.4000000000362,
          -1082.200000000038,
          -1177.7000000000376,
          -1185.7000000000373,
          -1195.4000000000372,
          -1199.300000000036,
          -1230.300000000035,
          -1232.700000000035,
          -1245.3000000000354,
          -1270.4000000000356,
          -1373.4000000000376,
          -1378.8000000000375,
          -1464.60000000004,
          -1542.40000000004,
          -1488.3000000000402,
          -1477.7000000000417,
          -1567.4000000000442,
          -1571.6000000000452,
          -1590.1000000000454,
          -1612.3000000000454,
          -1633.7000000000473,
          -1634.4000000000478,
          -1714.200000000049,
          -1830.0000000000505,
          -1836.40000000005,
          -1873.7000000000514,
          -1928.000000000052,
          -1532.8000000000507,
          -1333.4000000000522,
          -1032.5000000000537,
          -1040.8000000000525,
          -1113.100000000052,
          -1006.3000000000527,
          -1015.0000000000531,
          -1018.5000000000516,
          -1092.2000000000514,
          -1198.5000000000516,
          -1202.3000000000497,
          -1151.6000000000486,
          -1086.4000000000499,
          -1099.2000000000494,
          -1150.2000000000505,
          -1154.20000000005,
          -1170.0000000000502,
          -1174.4000000000515,
          -1181.5000000000528,
          -1207.7000000000535,
          -1173.8000000000534,
          -1181.3000000000536,
          -1189.3000000000538,
          -1216.900000000055,
          -1218.5000000000555,
          -1250.4000000000547,
          -1270.4000000000547,
          -1274.6000000000545,
          -1311.0000000000553,
          -1327.6000000000552,
          -1365.6000000000531,
          -1395.4000000000528,
          -1417.5000000000532,
          -1493.0000000000528,
          -1528.3000000000532,
          -1530.2000000000535,
          -1532.5000000000541,
          -1518.5000000000534,
          -1525.900000000053,
          -1489.100000000054,
          -1489.900000000055,
          -1526.1000000000545,
          -1441.8000000000548,
          -1249.100000000055,
          -1127.4000000000556,
          -1091.3000000000545,
          -1118.500000000054,
          -1115.5000000000541,
          -1137.4000000000544,
          -1083.100000000054,
          -1137.500000000055,
          -796.2000000000529,
          -852.8000000000518,
          -860.4000000000494,
          -870.8000000000499,
          -847.0000000000493,
          -906.0000000000495,
          -914.6000000000503,
          -886.8000000000502,
          -900.2000000000503,
          -864.2000000000498,
          -869.7000000000503,
          -872.1000000000505,
          -890.3000000000509,
          -893.4000000000513,
          -914.8000000000504,
          -742.0000000000477,
          -781.4000000000483,
          -808.6000000000488,
          -820.500000000049,
          -819.9000000000495,
          -828.7000000000503,
          -826.7000000000507,
          -832.2000000000512,
          -832.6000000000503,
          -862.8000000000515,
          -817.1000000000508,
          -825.0000000000515,
          -833.6000000000512,
          -837.3000000000518,
          -850.2000000000519,
          -872.0000000000516,
          -831.2000000000513,
          -805.0000000000517,
          -817.9000000000518,
          -768.900000000052,
          -803.0000000000534,
          -868.8000000000526,
          -733.9000000000548,
          -623.9000000000547,
          -667.7000000000552,
          -679.9000000000551,
          -722.1000000000548,
          -717.1000000000531,
          -737.7000000000526,
          -740.9000000000524,
          -748.4000000000516,
          -747.0000000000513,
          -751.6000000000503,
          -746.0000000000514,
          -753.7000000000507,
          -769.9000000000503,
          -764.7000000000496,
          -792.20000000005,
          -810.00000000005,
          -856.3000000000513,
          -848.4000000000506,
          -870.8000000000508,
          -848.1000000000504,
          -880.3000000000507,
          -896.7000000000504,
          -925.2000000000506,
          -941.0000000000513,
          -953.0000000000517,
          -965.8000000000518,
          -985.6000000000511,
          -962.0000000000518,
          -983.0000000000526,
          -994.0000000000514,
          -1047.6000000000518,
          -1042.500000000053,
          -986.3000000000534,
          -1011.300000000054,
          -1000.3000000000529,
          -1081.6000000000515,
          -1099.7000000000512,
          -1160.1000000000495,
          -1216.4000000000497,
          -1255.8000000000513,
          -1261.2000000000512,
          -1259.0000000000512,
          -1262.4000000000513,
          -1271.000000000052,
          -1161.1000000000538,
          -1217.1000000000543,
          -1279.4000000000567,
          -1152.5000000000562,
          -1108.800000000058,
          -1111.8000000000586,
          -1081.3000000000586,
          -1067.6000000000588,
          -1131.0000000000587,
          -1037.700000000058,
          -1063.100000000058,
          -1057.200000000058,
          -1075.3000000000568,
          -1031.7000000000576,
          -1075.000000000057,
          -1095.6000000000565,
          -1130.600000000056,
          -1136.800000000056,
          -1146.8000000000548,
          -1151.6000000000552,
          -1081.5000000000555,
          -901.3000000000541,
          -908.5000000000543,
          -936.100000000054,
          -800.3000000000536,
          -730.4000000000528,
          -783.4000000000536,
          -675.000000000054,
          -577.2000000000539,
          -561.7000000000545,
          -525.000000000054,
          -591.1000000000519,
          -585.5000000000518,
          -580.3000000000521,
          -627.0000000000506,
          -641.7000000000492,
          -695.4000000000501,
          -696.3000000000493,
          -779.5000000000504,
          -799.3000000000502,
          -878.600000000049,
          -889.2000000000475,
          -876.7000000000477,
          -881.5000000000481,
          -781.0000000000481,
          -598.6000000000478,
          -607.800000000048,
          -509.7000000000493,
          -444.10000000004806,
          -453.50000000004746,
          -434.50000000004735,
          -423.5000000000463,
          -406.1000000000467,
          -373.0000000000464,
          -376.80000000004685,
          -375.5000000000463,
          -419.9000000000463,
          -408.0000000000463,
          -395.20000000004603,
          -457.90000000004665,
          -461.60000000004646,
          -488.10000000004686,
          -492.4000000000461,
          -546.5000000000455,
          -543.5000000000435,
          -596.7000000000432,
          -694.8000000000442,
          -635.7000000000455,
          -642.4000000000473,
          -697.7000000000476,
          -741.8000000000478,
          -732.1000000000487,
          -900.2000000000464,
          -936.900000000047,
          -936.0000000000479,
          -828.9000000000481,
          -1344.8000000000475,
          -1415.3000000000463,
          -1475.3000000000468,
          -1500.4000000000462,
          -1571.9000000000462,
          -1602.4000000000462,
          -1654.6000000000463,
          -1669.600000000044,
          -1694.000000000044,
          -1706.500000000044,
          -1670.3000000000445,
          -1663.5000000000434,
          -1688.3000000000427,
          -1730.2000000000419,
          -1708.5000000000418,
          -1738.7000000000412,
          -1805.500000000042,
          -1872.9000000000403,
          -1483.0000000000402,
          -1445.4000000000403,
          -1186.9000000000387,
          -1194.1000000000392,
          -1206.8000000000393,
          -1235.0000000000398,
          -1254.5000000000387,
          -1285.0000000000387,
          -1301.800000000038,
          -1304.4000000000383,
          -1381.4000000000399,
          -1407.9000000000392,
          -1500.6000000000392,
          -1597.9000000000406,
          -1483.5000000000416,
          -1443.900000000042,
          -1451.1000000000424,
          -1487.1000000000429,
          -1502.5000000000439,
          -1548.4000000000437,
          -1556.4000000000428,
          -1574.2000000000426,
          -1582.600000000042,
          -1598.9000000000422,
          -1614.800000000042,
          -1659.9000000000408,
          -1668.3000000000413,
          -1566.5000000000405,
          -1588.800000000041,
          -1531.9000000000415,
          -1495.700000000042,
          -1313.400000000041,
          -1315.700000000042,
          -1325.6000000000415,
          -1337.6000000000413,
          -1293.9000000000415,
          -1341.0000000000437,
          -1371.0000000000437,
          -1368.1000000000424,
          -1384.2000000000414,
          -1336.7000000000412,
          -1255.800000000042,
          -1285.0000000000423,
          -1305.8000000000432,
          -1326.8000000000432,
          -1295.9000000000433,
          -1247.900000000043,
          -1128.5000000000425,
          -1017.5000000000425,
          -1045.9000000000442,
          -1063.9000000000449,
          -1129.900000000046,
          -1170.7000000000469,
          -1077.1000000000486,
          -1014.5000000000481,
          -994.8000000000478,
          -845.0000000000459,
          -778.4000000000449,
          -772.3000000000437,
          -410.90000000004426,
          -441.5000000000449,
          -466.30000000004526,
          -482.3000000000457,
          -474.5000000000457,
          -508.10000000004334,
          -516.0000000000429,
          -515.0000000000409,
          -519.5000000000397,
          -525.7000000000403,
          -539.1000000000404,
          -573.7000000000405,
          -624.3000000000411,
          -637.3000000000396,
          -554.800000000041,
          -566.4000000000415,
          -596.4000000000426,
          -602.5000000000426,
          -423.100000000042,
          -457.70000000004217,
          -450.00000000003945,
          -506.8000000000396,
          -375.8000000000393,
          -401.5000000000398,
          -442.20000000003915,
          -437.4000000000388,
          -474.20000000003785,
          -518.3000000000367,
          -579.4000000000366,
          -606.8000000000363,
          -637.8000000000352,
          -586.2000000000369,
          -532.8000000000368,
          -520.8000000000363,
          -449.4000000000371,
          -441.7000000000373,
          -510.50000000003575,
          -599.9000000000364,
          -687.4000000000335,
          -697.2000000000334,
          -709.200000000032,
          -723.5000000000321,
          -704.4000000000318,
          -754.1000000000324,
          -768.600000000032,
          -726.7000000000317,
          -667.1000000000313,
          -691.1000000000308,
          -714.0000000000299,
          -739.2000000000285,
          -740.1000000000286,
          -533.0000000000257,
          -543.900000000026,
          -586.5000000000275,
          -566.7000000000265,
          -550.6000000000276,
          -552.9000000000271,
          -570.500000000027,
          -597.600000000027,
          -627.4000000000268,
          -692.8000000000267,
          -621.4000000000252,
          -670.0000000000239,
          -659.4000000000244,
          -669.2000000000243,
          -658.4000000000234,
          -608.5000000000235,
          -686.1000000000231,
          -666.0000000000223,
          -673.0000000000216,
          -679.6000000000219,
          -689.8000000000222,
          -631.5000000000224,
          -587.3000000000214,
          -613.9000000000202,
          -644.900000000019,
          -664.4000000000179,
          -488.50000000001796,
          -461.7000000000179,
          -419.00000000001717,
          -310.50000000001694,
          -325.7000000000166,
          -300.3000000000167,
          -71.50000000001663,
          -91.30000000001644,
          -101.20000000001681,
          -113.60000000001634,
          -139.70000000001636,
          -234.70000000001752,
          -306.30000000001786,
          -329.20000000001687,
          -212.20000000001644,
          -160.8000000000161,
          -173.50000000001492,
          -97.40000000001535,
          53.39999999998446,
          -39.80000000001442,
          -59.70000000001379,
          -160.0000000000129,
          -209.50000000001302,
          -103.20000000001163,
          -55.300000000010286,
          170.9999999999912,
          313.7999999999919,
          352.8999999999924,
          488.0999999999922,
          472.8999999999935,
          449.2999999999943,
          439.99999999999335,
          426.49999999999375,
          414.29999999999376,
          412.299999999994,
          408.29999999999444,
          400.5999999999951,
          411.19999999999567,
          407.8999999999962,
          410.79999999999524,
          444.79999999999484,
          436.3999999999953,
          404.3999999999966,
          445.6999999999963,
          424.29999999999643,
          392.8999999999949,
          511.79999999999535,
          506.9999999999972,
          515.4999999999952,
          499.3999999999965,
          487.1999999999965,
          468.79999999999586,
          403.6999999999957,
          382.69999999999584,
          370.6999999999968,
          365.49999999999756,
          365.99999999999864,
          320.8999999999993,
          289.3999999999994,
          279.7000000000003,
          259.4000000000005,
          280.4999999999989,
          239.69999999999808,
          230.9999999999988,
          275.2999999999976,
          301.9999999999971,
          304.49999999999767,
          293.199999999998,
          285.9999999999986,
          277.99999999999835,
          270.19999999999834,
          261.4999999999991,
          255.3999999999991,
          200.3999999999996,
          192.79999999999978,
          164.0999999999983,
          188.59999999999891,
          275.79999999999893,
          273.3000000000012,
          249.4000000000017,
          454.7000000000004,
          390.8000000000003,
          941.5999999999993,
          917.1000000000009,
          1232.2000000000012,
          1334.1000000000017,
          1421.800000000001,
          1413.7999999999997,
          1575.5999999999995,
          1524.4,
          1494.3999999999967,
          1484.899999999997,
          1468.9999999999964,
          1723.1999999999964,
          1721.5999999999958,
          1727.7999999999965,
          1732.6999999999957,
          1733.2999999999956,
          1738.0999999999958,
          1727.299999999996,
          1630.6999999999962,
          1579.8999999999965,
          1731.8999999999953,
          1965.2999999999968,
          1944.6999999999962,
          1928.7999999999963,
          1914.0999999999976,
          1980.1999999999978,
          1935.7999999999977,
          1934.399999999998,
          1896.2999999999972,
          1883.699999999998,
          1867.399999999999,
          1875.699999999999,
          1806.2999999999995,
          1685.400000000002,
          1662.4000000000021,
          1597.6000000000017,
          1564.600000000003,
          1619.2000000000032,
          1738.7000000000035,
          1812.1000000000029,
          1808.5000000000025,
          1871.9000000000026,
          1875.8000000000059,
          1888.700000000006,
          1877.6000000000056,
          1884.2000000000044,
          1875.9000000000055,
          1852.2000000000057,
          1843.100000000006,
          1822.5000000000066,
          1800.9000000000071,
          1795.4000000000065,
          1780.2000000000057,
          1770.0000000000055,
          1941.600000000006,
          1937.1000000000058,
          2117.0000000000064,
          2165.9000000000046,
          2193.100000000004,
          2207.1000000000035,
          2200.2000000000035,
          2290.9000000000024,
          2506.100000000002,
          2704.800000000002,
          2761.600000000002,
          2829.2000000000007,
          2927.900000000001,
          3054.100000000001,
          3193.7000000000007,
          3197.7000000000003,
          3187.800000000001,
          3173.100000000002,
          3155.1000000000013,
          3132.6999999999994,
          3155.9000000000005,
          3140.500000000001,
          3114.800000000001,
          3101.1000000000013,
          3092.8,
          3242.3000000000006,
          3230.6000000000004,
          3210.8000000000006,
          3201.2000000000016,
          3198.7000000000025,
          3182.9000000000024,
          3166.900000000003,
          3157.3000000000034,
          3152.300000000003,
          3134.700000000003,
          3101.2000000000035,
          3122.300000000004,
          3099.600000000005,
          3064.200000000006,
          3034.2000000000053,
          2996.200000000005,
          2987.400000000005,
          2976.7000000000053,
          2835.1000000000076,
          2817.3000000000065,
          2792.6000000000067,
          2804.3000000000056,
          2934.3000000000043,
          2926.2000000000035,
          2965.000000000005,
          2839.0000000000055,
          3289.6000000000063,
          3250.2000000000066,
          3100.900000000006,
          3096.000000000007,
          3091.7000000000075,
          3094.500000000008,
          3087.500000000009,
          3074.5000000000095,
          3066.5000000000095,
          3047.5000000000095,
          3167.600000000009,
          3191.6000000000085,
          3181.9000000000083,
          3156.8000000000084,
          3125.600000000008,
          3121.200000000008,
          3115.500000000008,
          3079.300000000009,
          3043.1000000000095,
          3005.0000000000095,
          2990.600000000009,
          2935.700000000009,
          2905.40000000001,
          2904.500000000011,
          2894.4000000000096,
          2856.700000000009,
          2823.9000000000065,
          2753.6000000000054,
          2738.2000000000044,
          2691.000000000006,
          2653.8000000000043,
          2594.9000000000046,
          2623.000000000002,
          2668.800000000002,
          2636.0000000000005,
          2614.400000000001,
          2593.3000000000006,
          2570.6000000000004,
          2565.2000000000016,
          2555.400000000002,
          2613.6000000000017,
          2637.3000000000015,
          2643.5000000000014,
          2627.2000000000003,
          2606.999999999999,
          2599.5999999999995,
          2599.0000000000005,
          2585.199999999999,
          2590.0999999999995,
          2581.7999999999997,
          2578.1,
          2570.6000000000017,
          2561.5000000000036,
          2555.800000000004,
          2537.800000000006,
          2530.1000000000045,
          2522.3000000000056,
          2503.5000000000045,
          2481.8000000000043,
          2458.500000000005,
          2443.5000000000073,
          2420.7000000000066,
          2420.100000000006,
          2419.100000000006,
          2406.5000000000055,
          2402.700000000006,
          2377.0000000000064,
          2361.4000000000074,
          2316.7000000000066,
          2311.1000000000067,
          2243.700000000006,
          2155.500000000006,
          2130.0000000000064,
          2090.500000000005,
          2037.3000000000052,
          2012.3000000000036,
          1994.7000000000037,
          1992.000000000005
         ]
        }
       ],
       "layout": {
        "font": {
         "color": "#e1e1e1",
         "size": 10
        },
        "height": 400,
        "margin": {
         "b": 10,
         "l": 15,
         "r": 15
        },
        "paper_bgcolor": "#1e1e1e",
        "plot_bgcolor": "#1e1e1e",
        "template": {
         "data": {
          "bar": [
           {
            "error_x": {
             "color": "#2a3f5f"
            },
            "error_y": {
             "color": "#2a3f5f"
            },
            "marker": {
             "line": {
              "color": "#E5ECF6",
              "width": 0.5
             },
             "pattern": {
              "fillmode": "overlay",
              "size": 10,
              "solidity": 0.2
             }
            },
            "type": "bar"
           }
          ],
          "barpolar": [
           {
            "marker": {
             "line": {
              "color": "#E5ECF6",
              "width": 0.5
             },
             "pattern": {
              "fillmode": "overlay",
              "size": 10,
              "solidity": 0.2
             }
            },
            "type": "barpolar"
           }
          ],
          "carpet": [
           {
            "aaxis": {
             "endlinecolor": "#2a3f5f",
             "gridcolor": "white",
             "linecolor": "white",
             "minorgridcolor": "white",
             "startlinecolor": "#2a3f5f"
            },
            "baxis": {
             "endlinecolor": "#2a3f5f",
             "gridcolor": "white",
             "linecolor": "white",
             "minorgridcolor": "white",
             "startlinecolor": "#2a3f5f"
            },
            "type": "carpet"
           }
          ],
          "choropleth": [
           {
            "colorbar": {
             "outlinewidth": 0,
             "ticks": ""
            },
            "type": "choropleth"
           }
          ],
          "contour": [
           {
            "colorbar": {
             "outlinewidth": 0,
             "ticks": ""
            },
            "colorscale": [
             [
              0,
              "#0d0887"
             ],
             [
              0.1111111111111111,
              "#46039f"
             ],
             [
              0.2222222222222222,
              "#7201a8"
             ],
             [
              0.3333333333333333,
              "#9c179e"
             ],
             [
              0.4444444444444444,
              "#bd3786"
             ],
             [
              0.5555555555555556,
              "#d8576b"
             ],
             [
              0.6666666666666666,
              "#ed7953"
             ],
             [
              0.7777777777777778,
              "#fb9f3a"
             ],
             [
              0.8888888888888888,
              "#fdca26"
             ],
             [
              1,
              "#f0f921"
             ]
            ],
            "type": "contour"
           }
          ],
          "contourcarpet": [
           {
            "colorbar": {
             "outlinewidth": 0,
             "ticks": ""
            },
            "type": "contourcarpet"
           }
          ],
          "heatmap": [
           {
            "colorbar": {
             "outlinewidth": 0,
             "ticks": ""
            },
            "colorscale": [
             [
              0,
              "#0d0887"
             ],
             [
              0.1111111111111111,
              "#46039f"
             ],
             [
              0.2222222222222222,
              "#7201a8"
             ],
             [
              0.3333333333333333,
              "#9c179e"
             ],
             [
              0.4444444444444444,
              "#bd3786"
             ],
             [
              0.5555555555555556,
              "#d8576b"
             ],
             [
              0.6666666666666666,
              "#ed7953"
             ],
             [
              0.7777777777777778,
              "#fb9f3a"
             ],
             [
              0.8888888888888888,
              "#fdca26"
             ],
             [
              1,
              "#f0f921"
             ]
            ],
            "type": "heatmap"
           }
          ],
          "heatmapgl": [
           {
            "colorbar": {
             "outlinewidth": 0,
             "ticks": ""
            },
            "colorscale": [
             [
              0,
              "#0d0887"
             ],
             [
              0.1111111111111111,
              "#46039f"
             ],
             [
              0.2222222222222222,
              "#7201a8"
             ],
             [
              0.3333333333333333,
              "#9c179e"
             ],
             [
              0.4444444444444444,
              "#bd3786"
             ],
             [
              0.5555555555555556,
              "#d8576b"
             ],
             [
              0.6666666666666666,
              "#ed7953"
             ],
             [
              0.7777777777777778,
              "#fb9f3a"
             ],
             [
              0.8888888888888888,
              "#fdca26"
             ],
             [
              1,
              "#f0f921"
             ]
            ],
            "type": "heatmapgl"
           }
          ],
          "histogram": [
           {
            "marker": {
             "pattern": {
              "fillmode": "overlay",
              "size": 10,
              "solidity": 0.2
             }
            },
            "type": "histogram"
           }
          ],
          "histogram2d": [
           {
            "colorbar": {
             "outlinewidth": 0,
             "ticks": ""
            },
            "colorscale": [
             [
              0,
              "#0d0887"
             ],
             [
              0.1111111111111111,
              "#46039f"
             ],
             [
              0.2222222222222222,
              "#7201a8"
             ],
             [
              0.3333333333333333,
              "#9c179e"
             ],
             [
              0.4444444444444444,
              "#bd3786"
             ],
             [
              0.5555555555555556,
              "#d8576b"
             ],
             [
              0.6666666666666666,
              "#ed7953"
             ],
             [
              0.7777777777777778,
              "#fb9f3a"
             ],
             [
              0.8888888888888888,
              "#fdca26"
             ],
             [
              1,
              "#f0f921"
             ]
            ],
            "type": "histogram2d"
           }
          ],
          "histogram2dcontour": [
           {
            "colorbar": {
             "outlinewidth": 0,
             "ticks": ""
            },
            "colorscale": [
             [
              0,
              "#0d0887"
             ],
             [
              0.1111111111111111,
              "#46039f"
             ],
             [
              0.2222222222222222,
              "#7201a8"
             ],
             [
              0.3333333333333333,
              "#9c179e"
             ],
             [
              0.4444444444444444,
              "#bd3786"
             ],
             [
              0.5555555555555556,
              "#d8576b"
             ],
             [
              0.6666666666666666,
              "#ed7953"
             ],
             [
              0.7777777777777778,
              "#fb9f3a"
             ],
             [
              0.8888888888888888,
              "#fdca26"
             ],
             [
              1,
              "#f0f921"
             ]
            ],
            "type": "histogram2dcontour"
           }
          ],
          "mesh3d": [
           {
            "colorbar": {
             "outlinewidth": 0,
             "ticks": ""
            },
            "type": "mesh3d"
           }
          ],
          "parcoords": [
           {
            "line": {
             "colorbar": {
              "outlinewidth": 0,
              "ticks": ""
             }
            },
            "type": "parcoords"
           }
          ],
          "pie": [
           {
            "automargin": true,
            "type": "pie"
           }
          ],
          "scatter": [
           {
            "marker": {
             "colorbar": {
              "outlinewidth": 0,
              "ticks": ""
             }
            },
            "type": "scatter"
           }
          ],
          "scatter3d": [
           {
            "line": {
             "colorbar": {
              "outlinewidth": 0,
              "ticks": ""
             }
            },
            "marker": {
             "colorbar": {
              "outlinewidth": 0,
              "ticks": ""
             }
            },
            "type": "scatter3d"
           }
          ],
          "scattercarpet": [
           {
            "marker": {
             "colorbar": {
              "outlinewidth": 0,
              "ticks": ""
             }
            },
            "type": "scattercarpet"
           }
          ],
          "scattergeo": [
           {
            "marker": {
             "colorbar": {
              "outlinewidth": 0,
              "ticks": ""
             }
            },
            "type": "scattergeo"
           }
          ],
          "scattergl": [
           {
            "marker": {
             "colorbar": {
              "outlinewidth": 0,
              "ticks": ""
             }
            },
            "type": "scattergl"
           }
          ],
          "scattermapbox": [
           {
            "marker": {
             "colorbar": {
              "outlinewidth": 0,
              "ticks": ""
             }
            },
            "type": "scattermapbox"
           }
          ],
          "scatterpolar": [
           {
            "marker": {
             "colorbar": {
              "outlinewidth": 0,
              "ticks": ""
             }
            },
            "type": "scatterpolar"
           }
          ],
          "scatterpolargl": [
           {
            "marker": {
             "colorbar": {
              "outlinewidth": 0,
              "ticks": ""
             }
            },
            "type": "scatterpolargl"
           }
          ],
          "scatterternary": [
           {
            "marker": {
             "colorbar": {
              "outlinewidth": 0,
              "ticks": ""
             }
            },
            "type": "scatterternary"
           }
          ],
          "surface": [
           {
            "colorbar": {
             "outlinewidth": 0,
             "ticks": ""
            },
            "colorscale": [
             [
              0,
              "#0d0887"
             ],
             [
              0.1111111111111111,
              "#46039f"
             ],
             [
              0.2222222222222222,
              "#7201a8"
             ],
             [
              0.3333333333333333,
              "#9c179e"
             ],
             [
              0.4444444444444444,
              "#bd3786"
             ],
             [
              0.5555555555555556,
              "#d8576b"
             ],
             [
              0.6666666666666666,
              "#ed7953"
             ],
             [
              0.7777777777777778,
              "#fb9f3a"
             ],
             [
              0.8888888888888888,
              "#fdca26"
             ],
             [
              1,
              "#f0f921"
             ]
            ],
            "type": "surface"
           }
          ],
          "table": [
           {
            "cells": {
             "fill": {
              "color": "#EBF0F8"
             },
             "line": {
              "color": "white"
             }
            },
            "header": {
             "fill": {
              "color": "#C8D4E3"
             },
             "line": {
              "color": "white"
             }
            },
            "type": "table"
           }
          ]
         },
         "layout": {
          "annotationdefaults": {
           "arrowcolor": "#2a3f5f",
           "arrowhead": 0,
           "arrowwidth": 1
          },
          "autotypenumbers": "strict",
          "coloraxis": {
           "colorbar": {
            "outlinewidth": 0,
            "ticks": ""
           }
          },
          "colorscale": {
           "diverging": [
            [
             0,
             "#8e0152"
            ],
            [
             0.1,
             "#c51b7d"
            ],
            [
             0.2,
             "#de77ae"
            ],
            [
             0.3,
             "#f1b6da"
            ],
            [
             0.4,
             "#fde0ef"
            ],
            [
             0.5,
             "#f7f7f7"
            ],
            [
             0.6,
             "#e6f5d0"
            ],
            [
             0.7,
             "#b8e186"
            ],
            [
             0.8,
             "#7fbc41"
            ],
            [
             0.9,
             "#4d9221"
            ],
            [
             1,
             "#276419"
            ]
           ],
           "sequential": [
            [
             0,
             "#0d0887"
            ],
            [
             0.1111111111111111,
             "#46039f"
            ],
            [
             0.2222222222222222,
             "#7201a8"
            ],
            [
             0.3333333333333333,
             "#9c179e"
            ],
            [
             0.4444444444444444,
             "#bd3786"
            ],
            [
             0.5555555555555556,
             "#d8576b"
            ],
            [
             0.6666666666666666,
             "#ed7953"
            ],
            [
             0.7777777777777778,
             "#fb9f3a"
            ],
            [
             0.8888888888888888,
             "#fdca26"
            ],
            [
             1,
             "#f0f921"
            ]
           ],
           "sequentialminus": [
            [
             0,
             "#0d0887"
            ],
            [
             0.1111111111111111,
             "#46039f"
            ],
            [
             0.2222222222222222,
             "#7201a8"
            ],
            [
             0.3333333333333333,
             "#9c179e"
            ],
            [
             0.4444444444444444,
             "#bd3786"
            ],
            [
             0.5555555555555556,
             "#d8576b"
            ],
            [
             0.6666666666666666,
             "#ed7953"
            ],
            [
             0.7777777777777778,
             "#fb9f3a"
            ],
            [
             0.8888888888888888,
             "#fdca26"
            ],
            [
             1,
             "#f0f921"
            ]
           ]
          },
          "colorway": [
           "#636efa",
           "#EF553B",
           "#00cc96",
           "#ab63fa",
           "#FFA15A",
           "#19d3f3",
           "#FF6692",
           "#B6E880",
           "#FF97FF",
           "#FECB52"
          ],
          "font": {
           "color": "#2a3f5f"
          },
          "geo": {
           "bgcolor": "white",
           "lakecolor": "white",
           "landcolor": "#E5ECF6",
           "showlakes": true,
           "showland": true,
           "subunitcolor": "white"
          },
          "hoverlabel": {
           "align": "left"
          },
          "hovermode": "closest",
          "mapbox": {
           "style": "light"
          },
          "paper_bgcolor": "white",
          "plot_bgcolor": "#E5ECF6",
          "polar": {
           "angularaxis": {
            "gridcolor": "white",
            "linecolor": "white",
            "ticks": ""
           },
           "bgcolor": "#E5ECF6",
           "radialaxis": {
            "gridcolor": "white",
            "linecolor": "white",
            "ticks": ""
           }
          },
          "scene": {
           "xaxis": {
            "backgroundcolor": "#E5ECF6",
            "gridcolor": "white",
            "gridwidth": 2,
            "linecolor": "white",
            "showbackground": true,
            "ticks": "",
            "zerolinecolor": "white"
           },
           "yaxis": {
            "backgroundcolor": "#E5ECF6",
            "gridcolor": "white",
            "gridwidth": 2,
            "linecolor": "white",
            "showbackground": true,
            "ticks": "",
            "zerolinecolor": "white"
           },
           "zaxis": {
            "backgroundcolor": "#E5ECF6",
            "gridcolor": "white",
            "gridwidth": 2,
            "linecolor": "white",
            "showbackground": true,
            "ticks": "",
            "zerolinecolor": "white"
           }
          },
          "shapedefaults": {
           "line": {
            "color": "#2a3f5f"
           }
          },
          "ternary": {
           "aaxis": {
            "gridcolor": "white",
            "linecolor": "white",
            "ticks": ""
           },
           "baxis": {
            "gridcolor": "white",
            "linecolor": "white",
            "ticks": ""
           },
           "bgcolor": "#E5ECF6",
           "caxis": {
            "gridcolor": "white",
            "linecolor": "white",
            "ticks": ""
           }
          },
          "title": {
           "x": 0.05
          },
          "xaxis": {
           "automargin": true,
           "gridcolor": "white",
           "linecolor": "white",
           "ticks": "",
           "title": {
            "standoff": 15
           },
           "zerolinecolor": "white",
           "zerolinewidth": 2
          },
          "yaxis": {
           "automargin": true,
           "gridcolor": "white",
           "linecolor": "white",
           "ticks": "",
           "title": {
            "standoff": 15
           },
           "zerolinecolor": "white",
           "zerolinewidth": 2
          }
         }
        },
        "title": {
         "text": "MA_4_64"
        },
        "width": 1000,
        "xaxis": {
         "linecolor": "#3a4a54",
         "linewidth": 1,
         "showgrid": false,
         "zeroline": false
        },
        "yaxis": {
         "linecolor": "#3a4a54",
         "linewidth": 1,
         "showgrid": false,
         "zeroline": false
        }
       }
      }
     },
     "metadata": {}
    }
   ],
   "metadata": {}
  },
  {
   "cell_type": "code",
   "execution_count": null,
   "source": [],
   "outputs": [],
   "metadata": {}
  }
 ],
 "metadata": {
  "orig_nbformat": 4,
  "language_info": {
   "name": "python",
   "version": "3.9.7",
   "mimetype": "text/x-python",
   "codemirror_mode": {
    "name": "ipython",
    "version": 3
   },
   "pygments_lexer": "ipython3",
   "nbconvert_exporter": "python",
   "file_extension": ".py"
  },
  "kernelspec": {
   "name": "python3",
   "display_name": "Python 3.9.7 64-bit ('venv': venv)"
  },
  "interpreter": {
   "hash": "b0b5f533ece29e619ef82558aa36dc65e23f2612523c2030a9b8c4d2f5e86771"
  }
 },
 "nbformat": 4,
 "nbformat_minor": 2
}