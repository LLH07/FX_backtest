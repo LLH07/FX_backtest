{
 "cells": [
  {
   "cell_type": "markdown",
   "source": [
    "# 畫蠟燭圖"
   ],
   "metadata": {}
  },
  {
   "cell_type": "markdown",
   "source": [
    "#### 2021.09.09"
   ],
   "metadata": {}
  },
  {
   "cell_type": "code",
   "execution_count": 1,
   "source": [
    "import pandas as pd\r\n",
    "import utils"
   ],
   "outputs": [],
   "metadata": {}
  },
  {
   "cell_type": "code",
   "execution_count": 26,
   "source": [
    "pair = 'EUR_USD'\r\n",
    "granularity = 'H1'"
   ],
   "outputs": [],
   "metadata": {}
  },
  {
   "cell_type": "code",
   "execution_count": 3,
   "source": [
    "df = pd.read_pickle(utils.get_his_data_filename(pair, granularity))"
   ],
   "outputs": [],
   "metadata": {}
  },
  {
   "cell_type": "code",
   "execution_count": 4,
   "source": [
    "df.head()\r\n",
    "print(df.columns)"
   ],
   "outputs": [
    {
     "output_type": "stream",
     "name": "stdout",
     "text": [
      "Index(['time', 'volume', 'mid_o', 'mid_h', 'mid_l', 'mid_c', 'bid_o', 'bid_h',\n",
      "       'bid_l', 'bid_c', 'ask_o', 'ask_h', 'ask_l', 'ask_c'],\n",
      "      dtype='object')\n"
     ]
    }
   ],
   "metadata": {}
  },
  {
   "cell_type": "code",
   "execution_count": 5,
   "source": [
    "df.describe()"
   ],
   "outputs": [
    {
     "output_type": "execute_result",
     "data": {
      "text/html": [
       "<div>\n",
       "<style scoped>\n",
       "    .dataframe tbody tr th:only-of-type {\n",
       "        vertical-align: middle;\n",
       "    }\n",
       "\n",
       "    .dataframe tbody tr th {\n",
       "        vertical-align: top;\n",
       "    }\n",
       "\n",
       "    .dataframe thead th {\n",
       "        text-align: right;\n",
       "    }\n",
       "</style>\n",
       "<table border=\"1\" class=\"dataframe\">\n",
       "  <thead>\n",
       "    <tr style=\"text-align: right;\">\n",
       "      <th></th>\n",
       "      <th>volume</th>\n",
       "    </tr>\n",
       "  </thead>\n",
       "  <tbody>\n",
       "    <tr>\n",
       "      <th>count</th>\n",
       "      <td>3999.000000</td>\n",
       "    </tr>\n",
       "    <tr>\n",
       "      <th>mean</th>\n",
       "      <td>3583.922481</td>\n",
       "    </tr>\n",
       "    <tr>\n",
       "      <th>std</th>\n",
       "      <td>3085.093874</td>\n",
       "    </tr>\n",
       "    <tr>\n",
       "      <th>min</th>\n",
       "      <td>16.000000</td>\n",
       "    </tr>\n",
       "    <tr>\n",
       "      <th>25%</th>\n",
       "      <td>1342.500000</td>\n",
       "    </tr>\n",
       "    <tr>\n",
       "      <th>50%</th>\n",
       "      <td>2736.000000</td>\n",
       "    </tr>\n",
       "    <tr>\n",
       "      <th>75%</th>\n",
       "      <td>5038.000000</td>\n",
       "    </tr>\n",
       "    <tr>\n",
       "      <th>max</th>\n",
       "      <td>32092.000000</td>\n",
       "    </tr>\n",
       "  </tbody>\n",
       "</table>\n",
       "</div>"
      ],
      "text/plain": [
       "             volume\n",
       "count   3999.000000\n",
       "mean    3583.922481\n",
       "std     3085.093874\n",
       "min       16.000000\n",
       "25%     1342.500000\n",
       "50%     2736.000000\n",
       "75%     5038.000000\n",
       "max    32092.000000"
      ]
     },
     "metadata": {},
     "execution_count": 5
    }
   ],
   "metadata": {}
  },
  {
   "cell_type": "markdown",
   "source": [
    "藉由上面的 ```df.describe()``` 得到 data frame 所有 column 裡數值資料的統計值  \r\n",
    "注意到 價格 的資料型態是 object (通常是 string) [見下方 code]"
   ],
   "metadata": {}
  },
  {
   "cell_type": "code",
   "execution_count": 6,
   "source": [
    "df.info() # more info than df.columns"
   ],
   "outputs": [
    {
     "output_type": "stream",
     "name": "stdout",
     "text": [
      "<class 'pandas.core.frame.DataFrame'>\n",
      "RangeIndex: 3999 entries, 0 to 3998\n",
      "Data columns (total 14 columns):\n",
      " #   Column  Non-Null Count  Dtype \n",
      "---  ------  --------------  ----- \n",
      " 0   time    3999 non-null   object\n",
      " 1   volume  3999 non-null   int64 \n",
      " 2   mid_o   3999 non-null   object\n",
      " 3   mid_h   3999 non-null   object\n",
      " 4   mid_l   3999 non-null   object\n",
      " 5   mid_c   3999 non-null   object\n",
      " 6   bid_o   3999 non-null   object\n",
      " 7   bid_h   3999 non-null   object\n",
      " 8   bid_l   3999 non-null   object\n",
      " 9   bid_c   3999 non-null   object\n",
      " 10  ask_o   3999 non-null   object\n",
      " 11  ask_h   3999 non-null   object\n",
      " 12  ask_l   3999 non-null   object\n",
      " 13  ask_c   3999 non-null   object\n",
      "dtypes: int64(1), object(13)\n",
      "memory usage: 437.5+ KB\n"
     ]
    }
   ],
   "metadata": {}
  },
  {
   "cell_type": "markdown",
   "source": [
    "## 將價格數據由 string 改為 int (時間部分保留為 string)"
   ],
   "metadata": {}
  },
  {
   "cell_type": "code",
   "execution_count": 7,
   "source": [
    "non_cols = ['time', 'volume'] # 這是不要轉換成 int 的 column 名稱"
   ],
   "outputs": [],
   "metadata": {}
  },
  {
   "cell_type": "code",
   "execution_count": 8,
   "source": [
    "mod_cols = [x for x in df.columns if x not in non_cols]"
   ],
   "outputs": [],
   "metadata": {}
  },
  {
   "cell_type": "code",
   "execution_count": 9,
   "source": [
    "mod_cols"
   ],
   "outputs": [
    {
     "output_type": "execute_result",
     "data": {
      "text/plain": [
       "['mid_o',\n",
       " 'mid_h',\n",
       " 'mid_l',\n",
       " 'mid_c',\n",
       " 'bid_o',\n",
       " 'bid_h',\n",
       " 'bid_l',\n",
       " 'bid_c',\n",
       " 'ask_o',\n",
       " 'ask_h',\n",
       " 'ask_l',\n",
       " 'ask_c']"
      ]
     },
     "metadata": {},
     "execution_count": 9
    }
   ],
   "metadata": {}
  },
  {
   "cell_type": "markdown",
   "source": [
    "### now comes the magic :)"
   ],
   "metadata": {}
  },
  {
   "cell_type": "code",
   "execution_count": 10,
   "source": [
    "df[mod_cols] = df[mod_cols].apply(pd.to_numeric)"
   ],
   "outputs": [],
   "metadata": {}
  },
  {
   "cell_type": "code",
   "execution_count": 11,
   "source": [
    "df.info() # 成功將資料轉為數值"
   ],
   "outputs": [
    {
     "output_type": "stream",
     "name": "stdout",
     "text": [
      "<class 'pandas.core.frame.DataFrame'>\n",
      "RangeIndex: 3999 entries, 0 to 3998\n",
      "Data columns (total 14 columns):\n",
      " #   Column  Non-Null Count  Dtype  \n",
      "---  ------  --------------  -----  \n",
      " 0   time    3999 non-null   object \n",
      " 1   volume  3999 non-null   int64  \n",
      " 2   mid_o   3999 non-null   float64\n",
      " 3   mid_h   3999 non-null   float64\n",
      " 4   mid_l   3999 non-null   float64\n",
      " 5   mid_c   3999 non-null   float64\n",
      " 6   bid_o   3999 non-null   float64\n",
      " 7   bid_h   3999 non-null   float64\n",
      " 8   bid_l   3999 non-null   float64\n",
      " 9   bid_c   3999 non-null   float64\n",
      " 10  ask_o   3999 non-null   float64\n",
      " 11  ask_h   3999 non-null   float64\n",
      " 12  ask_l   3999 non-null   float64\n",
      " 13  ask_c   3999 non-null   float64\n",
      "dtypes: float64(12), int64(1), object(1)\n",
      "memory usage: 437.5+ KB\n"
     ]
    }
   ],
   "metadata": {}
  },
  {
   "cell_type": "code",
   "execution_count": 12,
   "source": [
    "df.describe()"
   ],
   "outputs": [
    {
     "output_type": "execute_result",
     "data": {
      "text/html": [
       "<div>\n",
       "<style scoped>\n",
       "    .dataframe tbody tr th:only-of-type {\n",
       "        vertical-align: middle;\n",
       "    }\n",
       "\n",
       "    .dataframe tbody tr th {\n",
       "        vertical-align: top;\n",
       "    }\n",
       "\n",
       "    .dataframe thead th {\n",
       "        text-align: right;\n",
       "    }\n",
       "</style>\n",
       "<table border=\"1\" class=\"dataframe\">\n",
       "  <thead>\n",
       "    <tr style=\"text-align: right;\">\n",
       "      <th></th>\n",
       "      <th>volume</th>\n",
       "      <th>mid_o</th>\n",
       "      <th>mid_h</th>\n",
       "      <th>mid_l</th>\n",
       "      <th>mid_c</th>\n",
       "      <th>bid_o</th>\n",
       "      <th>bid_h</th>\n",
       "      <th>bid_l</th>\n",
       "      <th>bid_c</th>\n",
       "      <th>ask_o</th>\n",
       "      <th>ask_h</th>\n",
       "      <th>ask_l</th>\n",
       "      <th>ask_c</th>\n",
       "    </tr>\n",
       "  </thead>\n",
       "  <tbody>\n",
       "    <tr>\n",
       "      <th>count</th>\n",
       "      <td>3999.000000</td>\n",
       "      <td>3999.000000</td>\n",
       "      <td>3999.000000</td>\n",
       "      <td>3999.000000</td>\n",
       "      <td>3999.000000</td>\n",
       "      <td>3999.000000</td>\n",
       "      <td>3999.000000</td>\n",
       "      <td>3999.000000</td>\n",
       "      <td>3999.000000</td>\n",
       "      <td>3999.000000</td>\n",
       "      <td>3999.000000</td>\n",
       "      <td>3999.000000</td>\n",
       "      <td>3999.000000</td>\n",
       "    </tr>\n",
       "    <tr>\n",
       "      <th>mean</th>\n",
       "      <td>3583.922481</td>\n",
       "      <td>1.196736</td>\n",
       "      <td>1.197306</td>\n",
       "      <td>1.196155</td>\n",
       "      <td>1.196732</td>\n",
       "      <td>1.196654</td>\n",
       "      <td>1.197231</td>\n",
       "      <td>1.196069</td>\n",
       "      <td>1.196655</td>\n",
       "      <td>1.196818</td>\n",
       "      <td>1.197390</td>\n",
       "      <td>1.196231</td>\n",
       "      <td>1.196809</td>\n",
       "    </tr>\n",
       "    <tr>\n",
       "      <th>std</th>\n",
       "      <td>3085.093874</td>\n",
       "      <td>0.015514</td>\n",
       "      <td>0.015548</td>\n",
       "      <td>0.015480</td>\n",
       "      <td>0.015514</td>\n",
       "      <td>0.015515</td>\n",
       "      <td>0.015549</td>\n",
       "      <td>0.015480</td>\n",
       "      <td>0.015515</td>\n",
       "      <td>0.015513</td>\n",
       "      <td>0.015547</td>\n",
       "      <td>0.015480</td>\n",
       "      <td>0.015512</td>\n",
       "    </tr>\n",
       "    <tr>\n",
       "      <th>min</th>\n",
       "      <td>16.000000</td>\n",
       "      <td>1.166830</td>\n",
       "      <td>1.167520</td>\n",
       "      <td>1.166400</td>\n",
       "      <td>1.166830</td>\n",
       "      <td>1.166760</td>\n",
       "      <td>1.167460</td>\n",
       "      <td>1.166340</td>\n",
       "      <td>1.166770</td>\n",
       "      <td>1.166900</td>\n",
       "      <td>1.167590</td>\n",
       "      <td>1.166470</td>\n",
       "      <td>1.166890</td>\n",
       "    </tr>\n",
       "    <tr>\n",
       "      <th>25%</th>\n",
       "      <td>1342.500000</td>\n",
       "      <td>1.183640</td>\n",
       "      <td>1.184000</td>\n",
       "      <td>1.183170</td>\n",
       "      <td>1.183635</td>\n",
       "      <td>1.183550</td>\n",
       "      <td>1.183930</td>\n",
       "      <td>1.183095</td>\n",
       "      <td>1.183555</td>\n",
       "      <td>1.183740</td>\n",
       "      <td>1.184070</td>\n",
       "      <td>1.183245</td>\n",
       "      <td>1.183720</td>\n",
       "    </tr>\n",
       "    <tr>\n",
       "      <th>50%</th>\n",
       "      <td>2736.000000</td>\n",
       "      <td>1.194320</td>\n",
       "      <td>1.195010</td>\n",
       "      <td>1.193680</td>\n",
       "      <td>1.194250</td>\n",
       "      <td>1.194250</td>\n",
       "      <td>1.194940</td>\n",
       "      <td>1.193610</td>\n",
       "      <td>1.194190</td>\n",
       "      <td>1.194380</td>\n",
       "      <td>1.195070</td>\n",
       "      <td>1.193750</td>\n",
       "      <td>1.194310</td>\n",
       "    </tr>\n",
       "    <tr>\n",
       "      <th>75%</th>\n",
       "      <td>5038.000000</td>\n",
       "      <td>1.211845</td>\n",
       "      <td>1.212285</td>\n",
       "      <td>1.211225</td>\n",
       "      <td>1.211840</td>\n",
       "      <td>1.211750</td>\n",
       "      <td>1.212220</td>\n",
       "      <td>1.211150</td>\n",
       "      <td>1.211760</td>\n",
       "      <td>1.211915</td>\n",
       "      <td>1.212360</td>\n",
       "      <td>1.211290</td>\n",
       "      <td>1.211905</td>\n",
       "    </tr>\n",
       "    <tr>\n",
       "      <th>max</th>\n",
       "      <td>32092.000000</td>\n",
       "      <td>1.225980</td>\n",
       "      <td>1.226640</td>\n",
       "      <td>1.225610</td>\n",
       "      <td>1.225960</td>\n",
       "      <td>1.225910</td>\n",
       "      <td>1.226570</td>\n",
       "      <td>1.225540</td>\n",
       "      <td>1.225890</td>\n",
       "      <td>1.226050</td>\n",
       "      <td>1.226700</td>\n",
       "      <td>1.225680</td>\n",
       "      <td>1.226040</td>\n",
       "    </tr>\n",
       "  </tbody>\n",
       "</table>\n",
       "</div>"
      ],
      "text/plain": [
       "             volume        mid_o        mid_h        mid_l        mid_c  \\\n",
       "count   3999.000000  3999.000000  3999.000000  3999.000000  3999.000000   \n",
       "mean    3583.922481     1.196736     1.197306     1.196155     1.196732   \n",
       "std     3085.093874     0.015514     0.015548     0.015480     0.015514   \n",
       "min       16.000000     1.166830     1.167520     1.166400     1.166830   \n",
       "25%     1342.500000     1.183640     1.184000     1.183170     1.183635   \n",
       "50%     2736.000000     1.194320     1.195010     1.193680     1.194250   \n",
       "75%     5038.000000     1.211845     1.212285     1.211225     1.211840   \n",
       "max    32092.000000     1.225980     1.226640     1.225610     1.225960   \n",
       "\n",
       "             bid_o        bid_h        bid_l        bid_c        ask_o  \\\n",
       "count  3999.000000  3999.000000  3999.000000  3999.000000  3999.000000   \n",
       "mean      1.196654     1.197231     1.196069     1.196655     1.196818   \n",
       "std       0.015515     0.015549     0.015480     0.015515     0.015513   \n",
       "min       1.166760     1.167460     1.166340     1.166770     1.166900   \n",
       "25%       1.183550     1.183930     1.183095     1.183555     1.183740   \n",
       "50%       1.194250     1.194940     1.193610     1.194190     1.194380   \n",
       "75%       1.211750     1.212220     1.211150     1.211760     1.211915   \n",
       "max       1.225910     1.226570     1.225540     1.225890     1.226050   \n",
       "\n",
       "             ask_h        ask_l        ask_c  \n",
       "count  3999.000000  3999.000000  3999.000000  \n",
       "mean      1.197390     1.196231     1.196809  \n",
       "std       0.015547     0.015480     0.015512  \n",
       "min       1.167590     1.166470     1.166890  \n",
       "25%       1.184070     1.183245     1.183720  \n",
       "50%       1.195070     1.193750     1.194310  \n",
       "75%       1.212360     1.211290     1.211905  \n",
       "max       1.226700     1.225680     1.226040  "
      ]
     },
     "metadata": {},
     "execution_count": 12
    }
   ],
   "metadata": {}
  },
  {
   "cell_type": "markdown",
   "source": [
    "## 使用 ```plotly``` 作圖"
   ],
   "metadata": {}
  },
  {
   "cell_type": "code",
   "execution_count": 13,
   "source": [
    "import pandas as pd\r\n",
    "import utils\r\n",
    "\r\n",
    "import plotly.graph_objects as go "
   ],
   "outputs": [],
   "metadata": {}
  },
  {
   "cell_type": "code",
   "execution_count": 14,
   "source": [
    "pair = 'EUR_USD'\r\n",
    "granularity = 'H1'"
   ],
   "outputs": [],
   "metadata": {}
  },
  {
   "cell_type": "code",
   "execution_count": 15,
   "source": [
    "df = pd.read_pickle(utils.get_his_data_filename(pair, granularity))"
   ],
   "outputs": [],
   "metadata": {}
  },
  {
   "cell_type": "code",
   "execution_count": 16,
   "source": [
    "non_cols  = ['time', 'volume']\r\n",
    "mod_cols = [x for x in df.columns if x not in non_cols]"
   ],
   "outputs": [],
   "metadata": {}
  },
  {
   "cell_type": "code",
   "execution_count": 17,
   "source": [
    "df[mod_cols] = df[mod_cols].apply(pd.to_numeric)"
   ],
   "outputs": [],
   "metadata": {}
  },
  {
   "cell_type": "code",
   "execution_count": 18,
   "source": [
    "df_plot = df.iloc[-100:].copy()\r\n",
    "# 畫最後 100 個蠟燭\r\n",
    "# .copy() is again a good practice\r\n",
    "\r\n",
    "df_plot.shape"
   ],
   "outputs": [
    {
     "output_type": "execute_result",
     "data": {
      "text/plain": [
       "(100, 14)"
      ]
     },
     "metadata": {},
     "execution_count": 18
    }
   ],
   "metadata": {}
  },
  {
   "cell_type": "code",
   "execution_count": 19,
   "source": [
    "df.columns"
   ],
   "outputs": [
    {
     "output_type": "execute_result",
     "data": {
      "text/plain": [
       "Index(['time', 'volume', 'mid_o', 'mid_h', 'mid_l', 'mid_c', 'bid_o', 'bid_h',\n",
       "       'bid_l', 'bid_c', 'ask_o', 'ask_h', 'ask_l', 'ask_c'],\n",
       "      dtype='object')"
      ]
     },
     "metadata": {},
     "execution_count": 19
    }
   ],
   "metadata": {}
  },
  {
   "cell_type": "code",
   "execution_count": 20,
   "source": [
    "fig = go.Figure() \r\n",
    "\r\n",
    "fig.add_trace(go.Candlestick(\r\n",
    "    x = df_plot.time,\r\n",
    "    open = df_plot.mid_o,\r\n",
    "    high = df_plot.mid_h,\r\n",
    "    low = df_plot.mid_l,\r\n",
    "    close = df_plot.mid_c\r\n",
    "))\r\n",
    "\r\n",
    "fig.show() # 中間空白處是例假日"
   ],
   "outputs": [
    {
     "output_type": "display_data",
     "data": {
      "application/vnd.plotly.v1+json": {
       "config": {
        "plotlyServerURL": "https://plot.ly"
       },
       "data": [
        {
         "close": [
          1.18392,
          1.18378,
          1.18347,
          1.18434,
          1.18456,
          1.18476,
          1.18457,
          1.18517,
          1.18548,
          1.1847,
          1.18474,
          1.18588,
          1.1868,
          1.18574,
          1.1865,
          1.1871,
          1.18746,
          1.1874,
          1.1875,
          1.18739,
          1.18743,
          1.18738,
          1.1882,
          1.18825,
          1.18789,
          1.18788,
          1.18763,
          1.18795,
          1.18774,
          1.1875,
          1.18748,
          1.18698,
          1.18697,
          1.18732,
          1.18912,
          1.18882,
          1.18812,
          1.18836,
          1.18895,
          1.18953,
          1.18912,
          1.18802,
          1.18791,
          1.18792,
          1.188,
          1.18855,
          1.18788,
          1.18776,
          1.1874,
          1.1868,
          1.18694,
          1.18714,
          1.1872,
          1.1863,
          1.18642,
          1.18606,
          1.18647,
          1.18618,
          1.18664,
          1.18675,
          1.18624,
          1.18658,
          1.18712,
          1.1869,
          1.18695,
          1.18686,
          1.18709,
          1.18711,
          1.18715,
          1.18732,
          1.18794,
          1.18826,
          1.18804,
          1.18787,
          1.18754,
          1.18713,
          1.18713,
          1.18764,
          1.18761,
          1.18658,
          1.18748,
          1.18614,
          1.18507,
          1.18564,
          1.18463,
          1.18488,
          1.18454,
          1.18492,
          1.18457,
          1.18398,
          1.18422,
          1.18449,
          1.1844,
          1.1843,
          1.1848,
          1.18476,
          1.1845,
          1.18422,
          1.18436,
          1.18366
         ],
         "high": [
          1.18408,
          1.184,
          1.18385,
          1.1844,
          1.18466,
          1.18516,
          1.185,
          1.18533,
          1.18559,
          1.18548,
          1.18501,
          1.18626,
          1.18689,
          1.18711,
          1.18667,
          1.18711,
          1.18747,
          1.18761,
          1.18761,
          1.18759,
          1.18756,
          1.18746,
          1.18829,
          1.18839,
          1.18842,
          1.18801,
          1.18795,
          1.1881,
          1.18808,
          1.18822,
          1.18829,
          1.18747,
          1.18726,
          1.18774,
          1.19092,
          1.1905,
          1.189,
          1.18902,
          1.189,
          1.18981,
          1.18968,
          1.18911,
          1.1881,
          1.18817,
          1.18839,
          1.18864,
          1.1886,
          1.18801,
          1.18776,
          1.18742,
          1.18704,
          1.18729,
          1.18752,
          1.18732,
          1.18686,
          1.1867,
          1.18662,
          1.18668,
          1.18672,
          1.18706,
          1.18711,
          1.18672,
          1.18712,
          1.18717,
          1.18699,
          1.18712,
          1.18709,
          1.18721,
          1.1872,
          1.18741,
          1.18818,
          1.18853,
          1.18826,
          1.18828,
          1.18824,
          1.18756,
          1.18743,
          1.18825,
          1.18765,
          1.18804,
          1.18752,
          1.18768,
          1.18652,
          1.18605,
          1.18578,
          1.18504,
          1.18498,
          1.18521,
          1.18534,
          1.18465,
          1.18426,
          1.1846,
          1.18452,
          1.18443,
          1.18482,
          1.18511,
          1.18482,
          1.18458,
          1.18438,
          1.18436
         ],
         "low": [
          1.18369,
          1.18368,
          1.18346,
          1.18344,
          1.184,
          1.18402,
          1.18433,
          1.1843,
          1.1849,
          1.18464,
          1.18366,
          1.18464,
          1.18501,
          1.18572,
          1.1857,
          1.18644,
          1.18692,
          1.18728,
          1.18721,
          1.18722,
          1.18736,
          1.18731,
          1.18734,
          1.18778,
          1.18788,
          1.18773,
          1.18762,
          1.18756,
          1.18736,
          1.18714,
          1.18738,
          1.18664,
          1.18688,
          1.18696,
          1.1866,
          1.18764,
          1.18716,
          1.18769,
          1.18816,
          1.1889,
          1.18894,
          1.18801,
          1.1875,
          1.1879,
          1.18786,
          1.18796,
          1.18762,
          1.18757,
          1.18716,
          1.1865,
          1.18668,
          1.18666,
          1.18683,
          1.18602,
          1.1861,
          1.1856,
          1.18594,
          1.18606,
          1.186,
          1.18654,
          1.18577,
          1.18599,
          1.18652,
          1.18688,
          1.18686,
          1.18682,
          1.18686,
          1.18686,
          1.18706,
          1.1871,
          1.1873,
          1.18785,
          1.18786,
          1.18775,
          1.1875,
          1.18708,
          1.1863,
          1.18666,
          1.18597,
          1.18624,
          1.18618,
          1.18582,
          1.18495,
          1.18438,
          1.18374,
          1.18378,
          1.18425,
          1.1843,
          1.18455,
          1.18382,
          1.18393,
          1.18402,
          1.18426,
          1.18416,
          1.18405,
          1.18456,
          1.18446,
          1.18406,
          1.18413,
          1.18352
         ],
         "open": [
          1.18391,
          1.1839,
          1.18379,
          1.18346,
          1.18434,
          1.18457,
          1.18474,
          1.18458,
          1.18516,
          1.18546,
          1.1847,
          1.18472,
          1.18589,
          1.18678,
          1.18574,
          1.18649,
          1.18709,
          1.18745,
          1.18742,
          1.18754,
          1.18736,
          1.18744,
          1.1874,
          1.18822,
          1.18826,
          1.1879,
          1.1879,
          1.18764,
          1.18796,
          1.18776,
          1.18748,
          1.18746,
          1.187,
          1.18696,
          1.18734,
          1.18914,
          1.18883,
          1.18811,
          1.18834,
          1.18897,
          1.18952,
          1.18911,
          1.18803,
          1.18802,
          1.18798,
          1.18798,
          1.18856,
          1.18786,
          1.18774,
          1.1874,
          1.18679,
          1.18692,
          1.18714,
          1.18722,
          1.18632,
          1.18641,
          1.18607,
          1.18646,
          1.18619,
          1.18662,
          1.18676,
          1.18622,
          1.18658,
          1.18712,
          1.18693,
          1.18696,
          1.18688,
          1.18705,
          1.18714,
          1.18716,
          1.18734,
          1.18794,
          1.18824,
          1.18804,
          1.18786,
          1.18756,
          1.18714,
          1.18712,
          1.18764,
          1.1876,
          1.18658,
          1.18746,
          1.18616,
          1.18506,
          1.18565,
          1.18464,
          1.1849,
          1.18456,
          1.18494,
          1.18458,
          1.18398,
          1.18408,
          1.18447,
          1.18442,
          1.18428,
          1.18479,
          1.18478,
          1.18451,
          1.1842,
          1.18435
         ],
         "type": "candlestick",
         "x": [
          "2021-09-02T02:00:00.000000000Z",
          "2021-09-02T03:00:00.000000000Z",
          "2021-09-02T04:00:00.000000000Z",
          "2021-09-02T05:00:00.000000000Z",
          "2021-09-02T06:00:00.000000000Z",
          "2021-09-02T07:00:00.000000000Z",
          "2021-09-02T08:00:00.000000000Z",
          "2021-09-02T09:00:00.000000000Z",
          "2021-09-02T10:00:00.000000000Z",
          "2021-09-02T11:00:00.000000000Z",
          "2021-09-02T12:00:00.000000000Z",
          "2021-09-02T13:00:00.000000000Z",
          "2021-09-02T14:00:00.000000000Z",
          "2021-09-02T15:00:00.000000000Z",
          "2021-09-02T16:00:00.000000000Z",
          "2021-09-02T17:00:00.000000000Z",
          "2021-09-02T18:00:00.000000000Z",
          "2021-09-02T19:00:00.000000000Z",
          "2021-09-02T20:00:00.000000000Z",
          "2021-09-02T21:00:00.000000000Z",
          "2021-09-02T22:00:00.000000000Z",
          "2021-09-02T23:00:00.000000000Z",
          "2021-09-03T00:00:00.000000000Z",
          "2021-09-03T01:00:00.000000000Z",
          "2021-09-03T02:00:00.000000000Z",
          "2021-09-03T03:00:00.000000000Z",
          "2021-09-03T04:00:00.000000000Z",
          "2021-09-03T05:00:00.000000000Z",
          "2021-09-03T06:00:00.000000000Z",
          "2021-09-03T07:00:00.000000000Z",
          "2021-09-03T08:00:00.000000000Z",
          "2021-09-03T09:00:00.000000000Z",
          "2021-09-03T10:00:00.000000000Z",
          "2021-09-03T11:00:00.000000000Z",
          "2021-09-03T12:00:00.000000000Z",
          "2021-09-03T13:00:00.000000000Z",
          "2021-09-03T14:00:00.000000000Z",
          "2021-09-03T15:00:00.000000000Z",
          "2021-09-03T16:00:00.000000000Z",
          "2021-09-03T17:00:00.000000000Z",
          "2021-09-03T18:00:00.000000000Z",
          "2021-09-03T19:00:00.000000000Z",
          "2021-09-03T20:00:00.000000000Z",
          "2021-09-05T21:00:00.000000000Z",
          "2021-09-05T22:00:00.000000000Z",
          "2021-09-05T23:00:00.000000000Z",
          "2021-09-06T00:00:00.000000000Z",
          "2021-09-06T01:00:00.000000000Z",
          "2021-09-06T02:00:00.000000000Z",
          "2021-09-06T03:00:00.000000000Z",
          "2021-09-06T04:00:00.000000000Z",
          "2021-09-06T05:00:00.000000000Z",
          "2021-09-06T06:00:00.000000000Z",
          "2021-09-06T07:00:00.000000000Z",
          "2021-09-06T08:00:00.000000000Z",
          "2021-09-06T09:00:00.000000000Z",
          "2021-09-06T10:00:00.000000000Z",
          "2021-09-06T11:00:00.000000000Z",
          "2021-09-06T12:00:00.000000000Z",
          "2021-09-06T13:00:00.000000000Z",
          "2021-09-06T14:00:00.000000000Z",
          "2021-09-06T15:00:00.000000000Z",
          "2021-09-06T16:00:00.000000000Z",
          "2021-09-06T17:00:00.000000000Z",
          "2021-09-06T18:00:00.000000000Z",
          "2021-09-06T19:00:00.000000000Z",
          "2021-09-06T20:00:00.000000000Z",
          "2021-09-06T21:00:00.000000000Z",
          "2021-09-06T22:00:00.000000000Z",
          "2021-09-06T23:00:00.000000000Z",
          "2021-09-07T00:00:00.000000000Z",
          "2021-09-07T01:00:00.000000000Z",
          "2021-09-07T02:00:00.000000000Z",
          "2021-09-07T03:00:00.000000000Z",
          "2021-09-07T04:00:00.000000000Z",
          "2021-09-07T05:00:00.000000000Z",
          "2021-09-07T06:00:00.000000000Z",
          "2021-09-07T07:00:00.000000000Z",
          "2021-09-07T08:00:00.000000000Z",
          "2021-09-07T09:00:00.000000000Z",
          "2021-09-07T10:00:00.000000000Z",
          "2021-09-07T11:00:00.000000000Z",
          "2021-09-07T12:00:00.000000000Z",
          "2021-09-07T13:00:00.000000000Z",
          "2021-09-07T14:00:00.000000000Z",
          "2021-09-07T15:00:00.000000000Z",
          "2021-09-07T16:00:00.000000000Z",
          "2021-09-07T17:00:00.000000000Z",
          "2021-09-07T18:00:00.000000000Z",
          "2021-09-07T19:00:00.000000000Z",
          "2021-09-07T20:00:00.000000000Z",
          "2021-09-07T21:00:00.000000000Z",
          "2021-09-07T22:00:00.000000000Z",
          "2021-09-07T23:00:00.000000000Z",
          "2021-09-08T00:00:00.000000000Z",
          "2021-09-08T01:00:00.000000000Z",
          "2021-09-08T02:00:00.000000000Z",
          "2021-09-08T03:00:00.000000000Z",
          "2021-09-08T04:00:00.000000000Z",
          "2021-09-08T05:00:00.000000000Z"
         ]
        }
       ],
       "layout": {
        "template": {
         "data": {
          "bar": [
           {
            "error_x": {
             "color": "#2a3f5f"
            },
            "error_y": {
             "color": "#2a3f5f"
            },
            "marker": {
             "line": {
              "color": "#E5ECF6",
              "width": 0.5
             },
             "pattern": {
              "fillmode": "overlay",
              "size": 10,
              "solidity": 0.2
             }
            },
            "type": "bar"
           }
          ],
          "barpolar": [
           {
            "marker": {
             "line": {
              "color": "#E5ECF6",
              "width": 0.5
             },
             "pattern": {
              "fillmode": "overlay",
              "size": 10,
              "solidity": 0.2
             }
            },
            "type": "barpolar"
           }
          ],
          "carpet": [
           {
            "aaxis": {
             "endlinecolor": "#2a3f5f",
             "gridcolor": "white",
             "linecolor": "white",
             "minorgridcolor": "white",
             "startlinecolor": "#2a3f5f"
            },
            "baxis": {
             "endlinecolor": "#2a3f5f",
             "gridcolor": "white",
             "linecolor": "white",
             "minorgridcolor": "white",
             "startlinecolor": "#2a3f5f"
            },
            "type": "carpet"
           }
          ],
          "choropleth": [
           {
            "colorbar": {
             "outlinewidth": 0,
             "ticks": ""
            },
            "type": "choropleth"
           }
          ],
          "contour": [
           {
            "colorbar": {
             "outlinewidth": 0,
             "ticks": ""
            },
            "colorscale": [
             [
              0,
              "#0d0887"
             ],
             [
              0.1111111111111111,
              "#46039f"
             ],
             [
              0.2222222222222222,
              "#7201a8"
             ],
             [
              0.3333333333333333,
              "#9c179e"
             ],
             [
              0.4444444444444444,
              "#bd3786"
             ],
             [
              0.5555555555555556,
              "#d8576b"
             ],
             [
              0.6666666666666666,
              "#ed7953"
             ],
             [
              0.7777777777777778,
              "#fb9f3a"
             ],
             [
              0.8888888888888888,
              "#fdca26"
             ],
             [
              1,
              "#f0f921"
             ]
            ],
            "type": "contour"
           }
          ],
          "contourcarpet": [
           {
            "colorbar": {
             "outlinewidth": 0,
             "ticks": ""
            },
            "type": "contourcarpet"
           }
          ],
          "heatmap": [
           {
            "colorbar": {
             "outlinewidth": 0,
             "ticks": ""
            },
            "colorscale": [
             [
              0,
              "#0d0887"
             ],
             [
              0.1111111111111111,
              "#46039f"
             ],
             [
              0.2222222222222222,
              "#7201a8"
             ],
             [
              0.3333333333333333,
              "#9c179e"
             ],
             [
              0.4444444444444444,
              "#bd3786"
             ],
             [
              0.5555555555555556,
              "#d8576b"
             ],
             [
              0.6666666666666666,
              "#ed7953"
             ],
             [
              0.7777777777777778,
              "#fb9f3a"
             ],
             [
              0.8888888888888888,
              "#fdca26"
             ],
             [
              1,
              "#f0f921"
             ]
            ],
            "type": "heatmap"
           }
          ],
          "heatmapgl": [
           {
            "colorbar": {
             "outlinewidth": 0,
             "ticks": ""
            },
            "colorscale": [
             [
              0,
              "#0d0887"
             ],
             [
              0.1111111111111111,
              "#46039f"
             ],
             [
              0.2222222222222222,
              "#7201a8"
             ],
             [
              0.3333333333333333,
              "#9c179e"
             ],
             [
              0.4444444444444444,
              "#bd3786"
             ],
             [
              0.5555555555555556,
              "#d8576b"
             ],
             [
              0.6666666666666666,
              "#ed7953"
             ],
             [
              0.7777777777777778,
              "#fb9f3a"
             ],
             [
              0.8888888888888888,
              "#fdca26"
             ],
             [
              1,
              "#f0f921"
             ]
            ],
            "type": "heatmapgl"
           }
          ],
          "histogram": [
           {
            "marker": {
             "pattern": {
              "fillmode": "overlay",
              "size": 10,
              "solidity": 0.2
             }
            },
            "type": "histogram"
           }
          ],
          "histogram2d": [
           {
            "colorbar": {
             "outlinewidth": 0,
             "ticks": ""
            },
            "colorscale": [
             [
              0,
              "#0d0887"
             ],
             [
              0.1111111111111111,
              "#46039f"
             ],
             [
              0.2222222222222222,
              "#7201a8"
             ],
             [
              0.3333333333333333,
              "#9c179e"
             ],
             [
              0.4444444444444444,
              "#bd3786"
             ],
             [
              0.5555555555555556,
              "#d8576b"
             ],
             [
              0.6666666666666666,
              "#ed7953"
             ],
             [
              0.7777777777777778,
              "#fb9f3a"
             ],
             [
              0.8888888888888888,
              "#fdca26"
             ],
             [
              1,
              "#f0f921"
             ]
            ],
            "type": "histogram2d"
           }
          ],
          "histogram2dcontour": [
           {
            "colorbar": {
             "outlinewidth": 0,
             "ticks": ""
            },
            "colorscale": [
             [
              0,
              "#0d0887"
             ],
             [
              0.1111111111111111,
              "#46039f"
             ],
             [
              0.2222222222222222,
              "#7201a8"
             ],
             [
              0.3333333333333333,
              "#9c179e"
             ],
             [
              0.4444444444444444,
              "#bd3786"
             ],
             [
              0.5555555555555556,
              "#d8576b"
             ],
             [
              0.6666666666666666,
              "#ed7953"
             ],
             [
              0.7777777777777778,
              "#fb9f3a"
             ],
             [
              0.8888888888888888,
              "#fdca26"
             ],
             [
              1,
              "#f0f921"
             ]
            ],
            "type": "histogram2dcontour"
           }
          ],
          "mesh3d": [
           {
            "colorbar": {
             "outlinewidth": 0,
             "ticks": ""
            },
            "type": "mesh3d"
           }
          ],
          "parcoords": [
           {
            "line": {
             "colorbar": {
              "outlinewidth": 0,
              "ticks": ""
             }
            },
            "type": "parcoords"
           }
          ],
          "pie": [
           {
            "automargin": true,
            "type": "pie"
           }
          ],
          "scatter": [
           {
            "marker": {
             "colorbar": {
              "outlinewidth": 0,
              "ticks": ""
             }
            },
            "type": "scatter"
           }
          ],
          "scatter3d": [
           {
            "line": {
             "colorbar": {
              "outlinewidth": 0,
              "ticks": ""
             }
            },
            "marker": {
             "colorbar": {
              "outlinewidth": 0,
              "ticks": ""
             }
            },
            "type": "scatter3d"
           }
          ],
          "scattercarpet": [
           {
            "marker": {
             "colorbar": {
              "outlinewidth": 0,
              "ticks": ""
             }
            },
            "type": "scattercarpet"
           }
          ],
          "scattergeo": [
           {
            "marker": {
             "colorbar": {
              "outlinewidth": 0,
              "ticks": ""
             }
            },
            "type": "scattergeo"
           }
          ],
          "scattergl": [
           {
            "marker": {
             "colorbar": {
              "outlinewidth": 0,
              "ticks": ""
             }
            },
            "type": "scattergl"
           }
          ],
          "scattermapbox": [
           {
            "marker": {
             "colorbar": {
              "outlinewidth": 0,
              "ticks": ""
             }
            },
            "type": "scattermapbox"
           }
          ],
          "scatterpolar": [
           {
            "marker": {
             "colorbar": {
              "outlinewidth": 0,
              "ticks": ""
             }
            },
            "type": "scatterpolar"
           }
          ],
          "scatterpolargl": [
           {
            "marker": {
             "colorbar": {
              "outlinewidth": 0,
              "ticks": ""
             }
            },
            "type": "scatterpolargl"
           }
          ],
          "scatterternary": [
           {
            "marker": {
             "colorbar": {
              "outlinewidth": 0,
              "ticks": ""
             }
            },
            "type": "scatterternary"
           }
          ],
          "surface": [
           {
            "colorbar": {
             "outlinewidth": 0,
             "ticks": ""
            },
            "colorscale": [
             [
              0,
              "#0d0887"
             ],
             [
              0.1111111111111111,
              "#46039f"
             ],
             [
              0.2222222222222222,
              "#7201a8"
             ],
             [
              0.3333333333333333,
              "#9c179e"
             ],
             [
              0.4444444444444444,
              "#bd3786"
             ],
             [
              0.5555555555555556,
              "#d8576b"
             ],
             [
              0.6666666666666666,
              "#ed7953"
             ],
             [
              0.7777777777777778,
              "#fb9f3a"
             ],
             [
              0.8888888888888888,
              "#fdca26"
             ],
             [
              1,
              "#f0f921"
             ]
            ],
            "type": "surface"
           }
          ],
          "table": [
           {
            "cells": {
             "fill": {
              "color": "#EBF0F8"
             },
             "line": {
              "color": "white"
             }
            },
            "header": {
             "fill": {
              "color": "#C8D4E3"
             },
             "line": {
              "color": "white"
             }
            },
            "type": "table"
           }
          ]
         },
         "layout": {
          "annotationdefaults": {
           "arrowcolor": "#2a3f5f",
           "arrowhead": 0,
           "arrowwidth": 1
          },
          "autotypenumbers": "strict",
          "coloraxis": {
           "colorbar": {
            "outlinewidth": 0,
            "ticks": ""
           }
          },
          "colorscale": {
           "diverging": [
            [
             0,
             "#8e0152"
            ],
            [
             0.1,
             "#c51b7d"
            ],
            [
             0.2,
             "#de77ae"
            ],
            [
             0.3,
             "#f1b6da"
            ],
            [
             0.4,
             "#fde0ef"
            ],
            [
             0.5,
             "#f7f7f7"
            ],
            [
             0.6,
             "#e6f5d0"
            ],
            [
             0.7,
             "#b8e186"
            ],
            [
             0.8,
             "#7fbc41"
            ],
            [
             0.9,
             "#4d9221"
            ],
            [
             1,
             "#276419"
            ]
           ],
           "sequential": [
            [
             0,
             "#0d0887"
            ],
            [
             0.1111111111111111,
             "#46039f"
            ],
            [
             0.2222222222222222,
             "#7201a8"
            ],
            [
             0.3333333333333333,
             "#9c179e"
            ],
            [
             0.4444444444444444,
             "#bd3786"
            ],
            [
             0.5555555555555556,
             "#d8576b"
            ],
            [
             0.6666666666666666,
             "#ed7953"
            ],
            [
             0.7777777777777778,
             "#fb9f3a"
            ],
            [
             0.8888888888888888,
             "#fdca26"
            ],
            [
             1,
             "#f0f921"
            ]
           ],
           "sequentialminus": [
            [
             0,
             "#0d0887"
            ],
            [
             0.1111111111111111,
             "#46039f"
            ],
            [
             0.2222222222222222,
             "#7201a8"
            ],
            [
             0.3333333333333333,
             "#9c179e"
            ],
            [
             0.4444444444444444,
             "#bd3786"
            ],
            [
             0.5555555555555556,
             "#d8576b"
            ],
            [
             0.6666666666666666,
             "#ed7953"
            ],
            [
             0.7777777777777778,
             "#fb9f3a"
            ],
            [
             0.8888888888888888,
             "#fdca26"
            ],
            [
             1,
             "#f0f921"
            ]
           ]
          },
          "colorway": [
           "#636efa",
           "#EF553B",
           "#00cc96",
           "#ab63fa",
           "#FFA15A",
           "#19d3f3",
           "#FF6692",
           "#B6E880",
           "#FF97FF",
           "#FECB52"
          ],
          "font": {
           "color": "#2a3f5f"
          },
          "geo": {
           "bgcolor": "white",
           "lakecolor": "white",
           "landcolor": "#E5ECF6",
           "showlakes": true,
           "showland": true,
           "subunitcolor": "white"
          },
          "hoverlabel": {
           "align": "left"
          },
          "hovermode": "closest",
          "mapbox": {
           "style": "light"
          },
          "paper_bgcolor": "white",
          "plot_bgcolor": "#E5ECF6",
          "polar": {
           "angularaxis": {
            "gridcolor": "white",
            "linecolor": "white",
            "ticks": ""
           },
           "bgcolor": "#E5ECF6",
           "radialaxis": {
            "gridcolor": "white",
            "linecolor": "white",
            "ticks": ""
           }
          },
          "scene": {
           "xaxis": {
            "backgroundcolor": "#E5ECF6",
            "gridcolor": "white",
            "gridwidth": 2,
            "linecolor": "white",
            "showbackground": true,
            "ticks": "",
            "zerolinecolor": "white"
           },
           "yaxis": {
            "backgroundcolor": "#E5ECF6",
            "gridcolor": "white",
            "gridwidth": 2,
            "linecolor": "white",
            "showbackground": true,
            "ticks": "",
            "zerolinecolor": "white"
           },
           "zaxis": {
            "backgroundcolor": "#E5ECF6",
            "gridcolor": "white",
            "gridwidth": 2,
            "linecolor": "white",
            "showbackground": true,
            "ticks": "",
            "zerolinecolor": "white"
           }
          },
          "shapedefaults": {
           "line": {
            "color": "#2a3f5f"
           }
          },
          "ternary": {
           "aaxis": {
            "gridcolor": "white",
            "linecolor": "white",
            "ticks": ""
           },
           "baxis": {
            "gridcolor": "white",
            "linecolor": "white",
            "ticks": ""
           },
           "bgcolor": "#E5ECF6",
           "caxis": {
            "gridcolor": "white",
            "linecolor": "white",
            "ticks": ""
           }
          },
          "title": {
           "x": 0.05
          },
          "xaxis": {
           "automargin": true,
           "gridcolor": "white",
           "linecolor": "white",
           "ticks": "",
           "title": {
            "standoff": 15
           },
           "zerolinecolor": "white",
           "zerolinewidth": 2
          },
          "yaxis": {
           "automargin": true,
           "gridcolor": "white",
           "linecolor": "white",
           "ticks": "",
           "title": {
            "standoff": 15
           },
           "zerolinecolor": "white",
           "zerolinewidth": 2
          }
         }
        }
       }
      }
     },
     "metadata": {}
    }
   ],
   "metadata": {}
  },
  {
   "cell_type": "markdown",
   "source": [
    "## 美化作圖"
   ],
   "metadata": {}
  },
  {
   "cell_type": "code",
   "execution_count": 21,
   "source": [
    "fig = go.Figure() \r\n",
    "\r\n",
    "fig.add_trace(go.Candlestick(\r\n",
    "    x = df_plot.time,\r\n",
    "    open = df_plot.mid_o,\r\n",
    "    high = df_plot.mid_h,\r\n",
    "    low = df_plot.mid_l,\r\n",
    "    close = df_plot.mid_c,\r\n",
    "\r\n",
    "    line=dict(width=1),\r\n",
    "    opacity=1,\r\n",
    "\r\n",
    "    increasing_fillcolor='#24A06B',\r\n",
    "    decreasing_fillcolor=\"#CC2E3C\",\r\n",
    "    increasing_line_color='#2EC886',  \r\n",
    "    decreasing_line_color='#FF3A4C'\r\n",
    "))\r\n",
    "\r\n",
    "\r\n",
    "fig.update_layout(width=1000, height=400, \r\n",
    "    margin=dict(l=10, r=10, b=10, t=10), # 讓線圖更明顯\r\n",
    "    font=dict(size=10, color='#e1e1e1'), # 將 x 軸資料轉為白色\r\n",
    "    paper_bgcolor='#1e1e1e', # 將背景改為黑色\r\n",
    "    plot_bgcolor='#1e1e1e') \r\n",
    "\r\n",
    "fig.update_xaxes( # 更新 x 軸資料\r\n",
    "    gridcolor='#1f292f',\r\n",
    "    showgrid=True, \r\n",
    "    fixedrange=True,\r\n",
    "    rangeslider=dict(visible=False)\r\n",
    ")\r\n",
    "\r\n",
    "fig.update_yaxes( # 更新 y 軸資料\r\n",
    "    gridcolor='#1f292f',\r\n",
    "    showgrid=True, \r\n",
    "    fixedrange=True\r\n",
    ")\r\n",
    "\r\n",
    "\r\n",
    "\r\n",
    "\r\n",
    "fig.show() # 中間空白處是例假日"
   ],
   "outputs": [
    {
     "output_type": "display_data",
     "data": {
      "application/vnd.plotly.v1+json": {
       "config": {
        "plotlyServerURL": "https://plot.ly"
       },
       "data": [
        {
         "close": [
          1.18392,
          1.18378,
          1.18347,
          1.18434,
          1.18456,
          1.18476,
          1.18457,
          1.18517,
          1.18548,
          1.1847,
          1.18474,
          1.18588,
          1.1868,
          1.18574,
          1.1865,
          1.1871,
          1.18746,
          1.1874,
          1.1875,
          1.18739,
          1.18743,
          1.18738,
          1.1882,
          1.18825,
          1.18789,
          1.18788,
          1.18763,
          1.18795,
          1.18774,
          1.1875,
          1.18748,
          1.18698,
          1.18697,
          1.18732,
          1.18912,
          1.18882,
          1.18812,
          1.18836,
          1.18895,
          1.18953,
          1.18912,
          1.18802,
          1.18791,
          1.18792,
          1.188,
          1.18855,
          1.18788,
          1.18776,
          1.1874,
          1.1868,
          1.18694,
          1.18714,
          1.1872,
          1.1863,
          1.18642,
          1.18606,
          1.18647,
          1.18618,
          1.18664,
          1.18675,
          1.18624,
          1.18658,
          1.18712,
          1.1869,
          1.18695,
          1.18686,
          1.18709,
          1.18711,
          1.18715,
          1.18732,
          1.18794,
          1.18826,
          1.18804,
          1.18787,
          1.18754,
          1.18713,
          1.18713,
          1.18764,
          1.18761,
          1.18658,
          1.18748,
          1.18614,
          1.18507,
          1.18564,
          1.18463,
          1.18488,
          1.18454,
          1.18492,
          1.18457,
          1.18398,
          1.18422,
          1.18449,
          1.1844,
          1.1843,
          1.1848,
          1.18476,
          1.1845,
          1.18422,
          1.18436,
          1.18366
         ],
         "decreasing": {
          "fillcolor": "#CC2E3C",
          "line": {
           "color": "#FF3A4C"
          }
         },
         "high": [
          1.18408,
          1.184,
          1.18385,
          1.1844,
          1.18466,
          1.18516,
          1.185,
          1.18533,
          1.18559,
          1.18548,
          1.18501,
          1.18626,
          1.18689,
          1.18711,
          1.18667,
          1.18711,
          1.18747,
          1.18761,
          1.18761,
          1.18759,
          1.18756,
          1.18746,
          1.18829,
          1.18839,
          1.18842,
          1.18801,
          1.18795,
          1.1881,
          1.18808,
          1.18822,
          1.18829,
          1.18747,
          1.18726,
          1.18774,
          1.19092,
          1.1905,
          1.189,
          1.18902,
          1.189,
          1.18981,
          1.18968,
          1.18911,
          1.1881,
          1.18817,
          1.18839,
          1.18864,
          1.1886,
          1.18801,
          1.18776,
          1.18742,
          1.18704,
          1.18729,
          1.18752,
          1.18732,
          1.18686,
          1.1867,
          1.18662,
          1.18668,
          1.18672,
          1.18706,
          1.18711,
          1.18672,
          1.18712,
          1.18717,
          1.18699,
          1.18712,
          1.18709,
          1.18721,
          1.1872,
          1.18741,
          1.18818,
          1.18853,
          1.18826,
          1.18828,
          1.18824,
          1.18756,
          1.18743,
          1.18825,
          1.18765,
          1.18804,
          1.18752,
          1.18768,
          1.18652,
          1.18605,
          1.18578,
          1.18504,
          1.18498,
          1.18521,
          1.18534,
          1.18465,
          1.18426,
          1.1846,
          1.18452,
          1.18443,
          1.18482,
          1.18511,
          1.18482,
          1.18458,
          1.18438,
          1.18436
         ],
         "increasing": {
          "fillcolor": "#24A06B",
          "line": {
           "color": "#2EC886"
          }
         },
         "line": {
          "width": 1
         },
         "low": [
          1.18369,
          1.18368,
          1.18346,
          1.18344,
          1.184,
          1.18402,
          1.18433,
          1.1843,
          1.1849,
          1.18464,
          1.18366,
          1.18464,
          1.18501,
          1.18572,
          1.1857,
          1.18644,
          1.18692,
          1.18728,
          1.18721,
          1.18722,
          1.18736,
          1.18731,
          1.18734,
          1.18778,
          1.18788,
          1.18773,
          1.18762,
          1.18756,
          1.18736,
          1.18714,
          1.18738,
          1.18664,
          1.18688,
          1.18696,
          1.1866,
          1.18764,
          1.18716,
          1.18769,
          1.18816,
          1.1889,
          1.18894,
          1.18801,
          1.1875,
          1.1879,
          1.18786,
          1.18796,
          1.18762,
          1.18757,
          1.18716,
          1.1865,
          1.18668,
          1.18666,
          1.18683,
          1.18602,
          1.1861,
          1.1856,
          1.18594,
          1.18606,
          1.186,
          1.18654,
          1.18577,
          1.18599,
          1.18652,
          1.18688,
          1.18686,
          1.18682,
          1.18686,
          1.18686,
          1.18706,
          1.1871,
          1.1873,
          1.18785,
          1.18786,
          1.18775,
          1.1875,
          1.18708,
          1.1863,
          1.18666,
          1.18597,
          1.18624,
          1.18618,
          1.18582,
          1.18495,
          1.18438,
          1.18374,
          1.18378,
          1.18425,
          1.1843,
          1.18455,
          1.18382,
          1.18393,
          1.18402,
          1.18426,
          1.18416,
          1.18405,
          1.18456,
          1.18446,
          1.18406,
          1.18413,
          1.18352
         ],
         "opacity": 1,
         "open": [
          1.18391,
          1.1839,
          1.18379,
          1.18346,
          1.18434,
          1.18457,
          1.18474,
          1.18458,
          1.18516,
          1.18546,
          1.1847,
          1.18472,
          1.18589,
          1.18678,
          1.18574,
          1.18649,
          1.18709,
          1.18745,
          1.18742,
          1.18754,
          1.18736,
          1.18744,
          1.1874,
          1.18822,
          1.18826,
          1.1879,
          1.1879,
          1.18764,
          1.18796,
          1.18776,
          1.18748,
          1.18746,
          1.187,
          1.18696,
          1.18734,
          1.18914,
          1.18883,
          1.18811,
          1.18834,
          1.18897,
          1.18952,
          1.18911,
          1.18803,
          1.18802,
          1.18798,
          1.18798,
          1.18856,
          1.18786,
          1.18774,
          1.1874,
          1.18679,
          1.18692,
          1.18714,
          1.18722,
          1.18632,
          1.18641,
          1.18607,
          1.18646,
          1.18619,
          1.18662,
          1.18676,
          1.18622,
          1.18658,
          1.18712,
          1.18693,
          1.18696,
          1.18688,
          1.18705,
          1.18714,
          1.18716,
          1.18734,
          1.18794,
          1.18824,
          1.18804,
          1.18786,
          1.18756,
          1.18714,
          1.18712,
          1.18764,
          1.1876,
          1.18658,
          1.18746,
          1.18616,
          1.18506,
          1.18565,
          1.18464,
          1.1849,
          1.18456,
          1.18494,
          1.18458,
          1.18398,
          1.18408,
          1.18447,
          1.18442,
          1.18428,
          1.18479,
          1.18478,
          1.18451,
          1.1842,
          1.18435
         ],
         "type": "candlestick",
         "x": [
          "2021-09-02T02:00:00.000000000Z",
          "2021-09-02T03:00:00.000000000Z",
          "2021-09-02T04:00:00.000000000Z",
          "2021-09-02T05:00:00.000000000Z",
          "2021-09-02T06:00:00.000000000Z",
          "2021-09-02T07:00:00.000000000Z",
          "2021-09-02T08:00:00.000000000Z",
          "2021-09-02T09:00:00.000000000Z",
          "2021-09-02T10:00:00.000000000Z",
          "2021-09-02T11:00:00.000000000Z",
          "2021-09-02T12:00:00.000000000Z",
          "2021-09-02T13:00:00.000000000Z",
          "2021-09-02T14:00:00.000000000Z",
          "2021-09-02T15:00:00.000000000Z",
          "2021-09-02T16:00:00.000000000Z",
          "2021-09-02T17:00:00.000000000Z",
          "2021-09-02T18:00:00.000000000Z",
          "2021-09-02T19:00:00.000000000Z",
          "2021-09-02T20:00:00.000000000Z",
          "2021-09-02T21:00:00.000000000Z",
          "2021-09-02T22:00:00.000000000Z",
          "2021-09-02T23:00:00.000000000Z",
          "2021-09-03T00:00:00.000000000Z",
          "2021-09-03T01:00:00.000000000Z",
          "2021-09-03T02:00:00.000000000Z",
          "2021-09-03T03:00:00.000000000Z",
          "2021-09-03T04:00:00.000000000Z",
          "2021-09-03T05:00:00.000000000Z",
          "2021-09-03T06:00:00.000000000Z",
          "2021-09-03T07:00:00.000000000Z",
          "2021-09-03T08:00:00.000000000Z",
          "2021-09-03T09:00:00.000000000Z",
          "2021-09-03T10:00:00.000000000Z",
          "2021-09-03T11:00:00.000000000Z",
          "2021-09-03T12:00:00.000000000Z",
          "2021-09-03T13:00:00.000000000Z",
          "2021-09-03T14:00:00.000000000Z",
          "2021-09-03T15:00:00.000000000Z",
          "2021-09-03T16:00:00.000000000Z",
          "2021-09-03T17:00:00.000000000Z",
          "2021-09-03T18:00:00.000000000Z",
          "2021-09-03T19:00:00.000000000Z",
          "2021-09-03T20:00:00.000000000Z",
          "2021-09-05T21:00:00.000000000Z",
          "2021-09-05T22:00:00.000000000Z",
          "2021-09-05T23:00:00.000000000Z",
          "2021-09-06T00:00:00.000000000Z",
          "2021-09-06T01:00:00.000000000Z",
          "2021-09-06T02:00:00.000000000Z",
          "2021-09-06T03:00:00.000000000Z",
          "2021-09-06T04:00:00.000000000Z",
          "2021-09-06T05:00:00.000000000Z",
          "2021-09-06T06:00:00.000000000Z",
          "2021-09-06T07:00:00.000000000Z",
          "2021-09-06T08:00:00.000000000Z",
          "2021-09-06T09:00:00.000000000Z",
          "2021-09-06T10:00:00.000000000Z",
          "2021-09-06T11:00:00.000000000Z",
          "2021-09-06T12:00:00.000000000Z",
          "2021-09-06T13:00:00.000000000Z",
          "2021-09-06T14:00:00.000000000Z",
          "2021-09-06T15:00:00.000000000Z",
          "2021-09-06T16:00:00.000000000Z",
          "2021-09-06T17:00:00.000000000Z",
          "2021-09-06T18:00:00.000000000Z",
          "2021-09-06T19:00:00.000000000Z",
          "2021-09-06T20:00:00.000000000Z",
          "2021-09-06T21:00:00.000000000Z",
          "2021-09-06T22:00:00.000000000Z",
          "2021-09-06T23:00:00.000000000Z",
          "2021-09-07T00:00:00.000000000Z",
          "2021-09-07T01:00:00.000000000Z",
          "2021-09-07T02:00:00.000000000Z",
          "2021-09-07T03:00:00.000000000Z",
          "2021-09-07T04:00:00.000000000Z",
          "2021-09-07T05:00:00.000000000Z",
          "2021-09-07T06:00:00.000000000Z",
          "2021-09-07T07:00:00.000000000Z",
          "2021-09-07T08:00:00.000000000Z",
          "2021-09-07T09:00:00.000000000Z",
          "2021-09-07T10:00:00.000000000Z",
          "2021-09-07T11:00:00.000000000Z",
          "2021-09-07T12:00:00.000000000Z",
          "2021-09-07T13:00:00.000000000Z",
          "2021-09-07T14:00:00.000000000Z",
          "2021-09-07T15:00:00.000000000Z",
          "2021-09-07T16:00:00.000000000Z",
          "2021-09-07T17:00:00.000000000Z",
          "2021-09-07T18:00:00.000000000Z",
          "2021-09-07T19:00:00.000000000Z",
          "2021-09-07T20:00:00.000000000Z",
          "2021-09-07T21:00:00.000000000Z",
          "2021-09-07T22:00:00.000000000Z",
          "2021-09-07T23:00:00.000000000Z",
          "2021-09-08T00:00:00.000000000Z",
          "2021-09-08T01:00:00.000000000Z",
          "2021-09-08T02:00:00.000000000Z",
          "2021-09-08T03:00:00.000000000Z",
          "2021-09-08T04:00:00.000000000Z",
          "2021-09-08T05:00:00.000000000Z"
         ]
        }
       ],
       "layout": {
        "font": {
         "color": "#e1e1e1",
         "size": 10
        },
        "height": 400,
        "margin": {
         "b": 10,
         "l": 10,
         "r": 10,
         "t": 10
        },
        "paper_bgcolor": "#1e1e1e",
        "plot_bgcolor": "#1e1e1e",
        "template": {
         "data": {
          "bar": [
           {
            "error_x": {
             "color": "#2a3f5f"
            },
            "error_y": {
             "color": "#2a3f5f"
            },
            "marker": {
             "line": {
              "color": "#E5ECF6",
              "width": 0.5
             },
             "pattern": {
              "fillmode": "overlay",
              "size": 10,
              "solidity": 0.2
             }
            },
            "type": "bar"
           }
          ],
          "barpolar": [
           {
            "marker": {
             "line": {
              "color": "#E5ECF6",
              "width": 0.5
             },
             "pattern": {
              "fillmode": "overlay",
              "size": 10,
              "solidity": 0.2
             }
            },
            "type": "barpolar"
           }
          ],
          "carpet": [
           {
            "aaxis": {
             "endlinecolor": "#2a3f5f",
             "gridcolor": "white",
             "linecolor": "white",
             "minorgridcolor": "white",
             "startlinecolor": "#2a3f5f"
            },
            "baxis": {
             "endlinecolor": "#2a3f5f",
             "gridcolor": "white",
             "linecolor": "white",
             "minorgridcolor": "white",
             "startlinecolor": "#2a3f5f"
            },
            "type": "carpet"
           }
          ],
          "choropleth": [
           {
            "colorbar": {
             "outlinewidth": 0,
             "ticks": ""
            },
            "type": "choropleth"
           }
          ],
          "contour": [
           {
            "colorbar": {
             "outlinewidth": 0,
             "ticks": ""
            },
            "colorscale": [
             [
              0,
              "#0d0887"
             ],
             [
              0.1111111111111111,
              "#46039f"
             ],
             [
              0.2222222222222222,
              "#7201a8"
             ],
             [
              0.3333333333333333,
              "#9c179e"
             ],
             [
              0.4444444444444444,
              "#bd3786"
             ],
             [
              0.5555555555555556,
              "#d8576b"
             ],
             [
              0.6666666666666666,
              "#ed7953"
             ],
             [
              0.7777777777777778,
              "#fb9f3a"
             ],
             [
              0.8888888888888888,
              "#fdca26"
             ],
             [
              1,
              "#f0f921"
             ]
            ],
            "type": "contour"
           }
          ],
          "contourcarpet": [
           {
            "colorbar": {
             "outlinewidth": 0,
             "ticks": ""
            },
            "type": "contourcarpet"
           }
          ],
          "heatmap": [
           {
            "colorbar": {
             "outlinewidth": 0,
             "ticks": ""
            },
            "colorscale": [
             [
              0,
              "#0d0887"
             ],
             [
              0.1111111111111111,
              "#46039f"
             ],
             [
              0.2222222222222222,
              "#7201a8"
             ],
             [
              0.3333333333333333,
              "#9c179e"
             ],
             [
              0.4444444444444444,
              "#bd3786"
             ],
             [
              0.5555555555555556,
              "#d8576b"
             ],
             [
              0.6666666666666666,
              "#ed7953"
             ],
             [
              0.7777777777777778,
              "#fb9f3a"
             ],
             [
              0.8888888888888888,
              "#fdca26"
             ],
             [
              1,
              "#f0f921"
             ]
            ],
            "type": "heatmap"
           }
          ],
          "heatmapgl": [
           {
            "colorbar": {
             "outlinewidth": 0,
             "ticks": ""
            },
            "colorscale": [
             [
              0,
              "#0d0887"
             ],
             [
              0.1111111111111111,
              "#46039f"
             ],
             [
              0.2222222222222222,
              "#7201a8"
             ],
             [
              0.3333333333333333,
              "#9c179e"
             ],
             [
              0.4444444444444444,
              "#bd3786"
             ],
             [
              0.5555555555555556,
              "#d8576b"
             ],
             [
              0.6666666666666666,
              "#ed7953"
             ],
             [
              0.7777777777777778,
              "#fb9f3a"
             ],
             [
              0.8888888888888888,
              "#fdca26"
             ],
             [
              1,
              "#f0f921"
             ]
            ],
            "type": "heatmapgl"
           }
          ],
          "histogram": [
           {
            "marker": {
             "pattern": {
              "fillmode": "overlay",
              "size": 10,
              "solidity": 0.2
             }
            },
            "type": "histogram"
           }
          ],
          "histogram2d": [
           {
            "colorbar": {
             "outlinewidth": 0,
             "ticks": ""
            },
            "colorscale": [
             [
              0,
              "#0d0887"
             ],
             [
              0.1111111111111111,
              "#46039f"
             ],
             [
              0.2222222222222222,
              "#7201a8"
             ],
             [
              0.3333333333333333,
              "#9c179e"
             ],
             [
              0.4444444444444444,
              "#bd3786"
             ],
             [
              0.5555555555555556,
              "#d8576b"
             ],
             [
              0.6666666666666666,
              "#ed7953"
             ],
             [
              0.7777777777777778,
              "#fb9f3a"
             ],
             [
              0.8888888888888888,
              "#fdca26"
             ],
             [
              1,
              "#f0f921"
             ]
            ],
            "type": "histogram2d"
           }
          ],
          "histogram2dcontour": [
           {
            "colorbar": {
             "outlinewidth": 0,
             "ticks": ""
            },
            "colorscale": [
             [
              0,
              "#0d0887"
             ],
             [
              0.1111111111111111,
              "#46039f"
             ],
             [
              0.2222222222222222,
              "#7201a8"
             ],
             [
              0.3333333333333333,
              "#9c179e"
             ],
             [
              0.4444444444444444,
              "#bd3786"
             ],
             [
              0.5555555555555556,
              "#d8576b"
             ],
             [
              0.6666666666666666,
              "#ed7953"
             ],
             [
              0.7777777777777778,
              "#fb9f3a"
             ],
             [
              0.8888888888888888,
              "#fdca26"
             ],
             [
              1,
              "#f0f921"
             ]
            ],
            "type": "histogram2dcontour"
           }
          ],
          "mesh3d": [
           {
            "colorbar": {
             "outlinewidth": 0,
             "ticks": ""
            },
            "type": "mesh3d"
           }
          ],
          "parcoords": [
           {
            "line": {
             "colorbar": {
              "outlinewidth": 0,
              "ticks": ""
             }
            },
            "type": "parcoords"
           }
          ],
          "pie": [
           {
            "automargin": true,
            "type": "pie"
           }
          ],
          "scatter": [
           {
            "marker": {
             "colorbar": {
              "outlinewidth": 0,
              "ticks": ""
             }
            },
            "type": "scatter"
           }
          ],
          "scatter3d": [
           {
            "line": {
             "colorbar": {
              "outlinewidth": 0,
              "ticks": ""
             }
            },
            "marker": {
             "colorbar": {
              "outlinewidth": 0,
              "ticks": ""
             }
            },
            "type": "scatter3d"
           }
          ],
          "scattercarpet": [
           {
            "marker": {
             "colorbar": {
              "outlinewidth": 0,
              "ticks": ""
             }
            },
            "type": "scattercarpet"
           }
          ],
          "scattergeo": [
           {
            "marker": {
             "colorbar": {
              "outlinewidth": 0,
              "ticks": ""
             }
            },
            "type": "scattergeo"
           }
          ],
          "scattergl": [
           {
            "marker": {
             "colorbar": {
              "outlinewidth": 0,
              "ticks": ""
             }
            },
            "type": "scattergl"
           }
          ],
          "scattermapbox": [
           {
            "marker": {
             "colorbar": {
              "outlinewidth": 0,
              "ticks": ""
             }
            },
            "type": "scattermapbox"
           }
          ],
          "scatterpolar": [
           {
            "marker": {
             "colorbar": {
              "outlinewidth": 0,
              "ticks": ""
             }
            },
            "type": "scatterpolar"
           }
          ],
          "scatterpolargl": [
           {
            "marker": {
             "colorbar": {
              "outlinewidth": 0,
              "ticks": ""
             }
            },
            "type": "scatterpolargl"
           }
          ],
          "scatterternary": [
           {
            "marker": {
             "colorbar": {
              "outlinewidth": 0,
              "ticks": ""
             }
            },
            "type": "scatterternary"
           }
          ],
          "surface": [
           {
            "colorbar": {
             "outlinewidth": 0,
             "ticks": ""
            },
            "colorscale": [
             [
              0,
              "#0d0887"
             ],
             [
              0.1111111111111111,
              "#46039f"
             ],
             [
              0.2222222222222222,
              "#7201a8"
             ],
             [
              0.3333333333333333,
              "#9c179e"
             ],
             [
              0.4444444444444444,
              "#bd3786"
             ],
             [
              0.5555555555555556,
              "#d8576b"
             ],
             [
              0.6666666666666666,
              "#ed7953"
             ],
             [
              0.7777777777777778,
              "#fb9f3a"
             ],
             [
              0.8888888888888888,
              "#fdca26"
             ],
             [
              1,
              "#f0f921"
             ]
            ],
            "type": "surface"
           }
          ],
          "table": [
           {
            "cells": {
             "fill": {
              "color": "#EBF0F8"
             },
             "line": {
              "color": "white"
             }
            },
            "header": {
             "fill": {
              "color": "#C8D4E3"
             },
             "line": {
              "color": "white"
             }
            },
            "type": "table"
           }
          ]
         },
         "layout": {
          "annotationdefaults": {
           "arrowcolor": "#2a3f5f",
           "arrowhead": 0,
           "arrowwidth": 1
          },
          "autotypenumbers": "strict",
          "coloraxis": {
           "colorbar": {
            "outlinewidth": 0,
            "ticks": ""
           }
          },
          "colorscale": {
           "diverging": [
            [
             0,
             "#8e0152"
            ],
            [
             0.1,
             "#c51b7d"
            ],
            [
             0.2,
             "#de77ae"
            ],
            [
             0.3,
             "#f1b6da"
            ],
            [
             0.4,
             "#fde0ef"
            ],
            [
             0.5,
             "#f7f7f7"
            ],
            [
             0.6,
             "#e6f5d0"
            ],
            [
             0.7,
             "#b8e186"
            ],
            [
             0.8,
             "#7fbc41"
            ],
            [
             0.9,
             "#4d9221"
            ],
            [
             1,
             "#276419"
            ]
           ],
           "sequential": [
            [
             0,
             "#0d0887"
            ],
            [
             0.1111111111111111,
             "#46039f"
            ],
            [
             0.2222222222222222,
             "#7201a8"
            ],
            [
             0.3333333333333333,
             "#9c179e"
            ],
            [
             0.4444444444444444,
             "#bd3786"
            ],
            [
             0.5555555555555556,
             "#d8576b"
            ],
            [
             0.6666666666666666,
             "#ed7953"
            ],
            [
             0.7777777777777778,
             "#fb9f3a"
            ],
            [
             0.8888888888888888,
             "#fdca26"
            ],
            [
             1,
             "#f0f921"
            ]
           ],
           "sequentialminus": [
            [
             0,
             "#0d0887"
            ],
            [
             0.1111111111111111,
             "#46039f"
            ],
            [
             0.2222222222222222,
             "#7201a8"
            ],
            [
             0.3333333333333333,
             "#9c179e"
            ],
            [
             0.4444444444444444,
             "#bd3786"
            ],
            [
             0.5555555555555556,
             "#d8576b"
            ],
            [
             0.6666666666666666,
             "#ed7953"
            ],
            [
             0.7777777777777778,
             "#fb9f3a"
            ],
            [
             0.8888888888888888,
             "#fdca26"
            ],
            [
             1,
             "#f0f921"
            ]
           ]
          },
          "colorway": [
           "#636efa",
           "#EF553B",
           "#00cc96",
           "#ab63fa",
           "#FFA15A",
           "#19d3f3",
           "#FF6692",
           "#B6E880",
           "#FF97FF",
           "#FECB52"
          ],
          "font": {
           "color": "#2a3f5f"
          },
          "geo": {
           "bgcolor": "white",
           "lakecolor": "white",
           "landcolor": "#E5ECF6",
           "showlakes": true,
           "showland": true,
           "subunitcolor": "white"
          },
          "hoverlabel": {
           "align": "left"
          },
          "hovermode": "closest",
          "mapbox": {
           "style": "light"
          },
          "paper_bgcolor": "white",
          "plot_bgcolor": "#E5ECF6",
          "polar": {
           "angularaxis": {
            "gridcolor": "white",
            "linecolor": "white",
            "ticks": ""
           },
           "bgcolor": "#E5ECF6",
           "radialaxis": {
            "gridcolor": "white",
            "linecolor": "white",
            "ticks": ""
           }
          },
          "scene": {
           "xaxis": {
            "backgroundcolor": "#E5ECF6",
            "gridcolor": "white",
            "gridwidth": 2,
            "linecolor": "white",
            "showbackground": true,
            "ticks": "",
            "zerolinecolor": "white"
           },
           "yaxis": {
            "backgroundcolor": "#E5ECF6",
            "gridcolor": "white",
            "gridwidth": 2,
            "linecolor": "white",
            "showbackground": true,
            "ticks": "",
            "zerolinecolor": "white"
           },
           "zaxis": {
            "backgroundcolor": "#E5ECF6",
            "gridcolor": "white",
            "gridwidth": 2,
            "linecolor": "white",
            "showbackground": true,
            "ticks": "",
            "zerolinecolor": "white"
           }
          },
          "shapedefaults": {
           "line": {
            "color": "#2a3f5f"
           }
          },
          "ternary": {
           "aaxis": {
            "gridcolor": "white",
            "linecolor": "white",
            "ticks": ""
           },
           "baxis": {
            "gridcolor": "white",
            "linecolor": "white",
            "ticks": ""
           },
           "bgcolor": "#E5ECF6",
           "caxis": {
            "gridcolor": "white",
            "linecolor": "white",
            "ticks": ""
           }
          },
          "title": {
           "x": 0.05
          },
          "xaxis": {
           "automargin": true,
           "gridcolor": "white",
           "linecolor": "white",
           "ticks": "",
           "title": {
            "standoff": 15
           },
           "zerolinecolor": "white",
           "zerolinewidth": 2
          },
          "yaxis": {
           "automargin": true,
           "gridcolor": "white",
           "linecolor": "white",
           "ticks": "",
           "title": {
            "standoff": 15
           },
           "zerolinecolor": "white",
           "zerolinewidth": 2
          }
         }
        },
        "width": 1000,
        "xaxis": {
         "fixedrange": true,
         "gridcolor": "#1f292f",
         "rangeslider": {
          "visible": false
         },
         "showgrid": true
        },
        "yaxis": {
         "fixedrange": true,
         "gridcolor": "#1f292f",
         "showgrid": true
        }
       }
      }
     },
     "metadata": {}
    }
   ],
   "metadata": {}
  },
  {
   "cell_type": "markdown",
   "source": [
    "---"
   ],
   "metadata": {}
  },
  {
   "cell_type": "markdown",
   "source": [
    "## 開始做回測!"
   ],
   "metadata": {}
  },
  {
   "cell_type": "code",
   "execution_count": 22,
   "source": [
    "import pandas as pd\r\n",
    "import utils\r\n",
    "\r\n",
    "import plotly.graph_objects as go "
   ],
   "outputs": [],
   "metadata": {}
  },
  {
   "cell_type": "code",
   "execution_count": 27,
   "source": [
    "pair = 'EUR_USD'\r\n",
    "granularity = 'H1'\r\n",
    "ma_list = [8, 16, 32, 64, 128, 256] # loop through this much MA"
   ],
   "outputs": [],
   "metadata": {}
  },
  {
   "cell_type": "code",
   "execution_count": 28,
   "source": [
    "df = pd.read_pickle(utils.get_his_data_filename(pair, granularity))"
   ],
   "outputs": [],
   "metadata": {}
  },
  {
   "cell_type": "code",
   "execution_count": 29,
   "source": [
    "non_cols  = ['time', 'volume']\r\n",
    "mod_cols = [x for x in df.columns if x not in non_cols]\r\n",
    "df[mod_cols] = df[mod_cols].apply(pd.to_numeric)"
   ],
   "outputs": [],
   "metadata": {}
  },
  {
   "cell_type": "markdown",
   "source": [
    "### 製作多條 MA"
   ],
   "metadata": {}
  },
  {
   "cell_type": "code",
   "execution_count": 30,
   "source": [
    "df_ma = df[ ['time', 'mid_o', 'mid_h', 'mid_l', 'mid_c'] ].copy()"
   ],
   "outputs": [],
   "metadata": {}
  },
  {
   "cell_type": "code",
   "execution_count": 31,
   "source": [
    "for ma in ma_list:\r\n",
    "    df_ma[f'MA_{ma}'] = df_ma['mid_c'].rolling(window=ma).mean()"
   ],
   "outputs": [],
   "metadata": {}
  },
  {
   "cell_type": "code",
   "execution_count": 32,
   "source": [
    "df_ma.head(8)"
   ],
   "outputs": [
    {
     "output_type": "execute_result",
     "data": {
      "text/html": [
       "<div>\n",
       "<style scoped>\n",
       "    .dataframe tbody tr th:only-of-type {\n",
       "        vertical-align: middle;\n",
       "    }\n",
       "\n",
       "    .dataframe tbody tr th {\n",
       "        vertical-align: top;\n",
       "    }\n",
       "\n",
       "    .dataframe thead th {\n",
       "        text-align: right;\n",
       "    }\n",
       "</style>\n",
       "<table border=\"1\" class=\"dataframe\">\n",
       "  <thead>\n",
       "    <tr style=\"text-align: right;\">\n",
       "      <th></th>\n",
       "      <th>time</th>\n",
       "      <th>mid_o</th>\n",
       "      <th>mid_h</th>\n",
       "      <th>mid_l</th>\n",
       "      <th>mid_c</th>\n",
       "      <th>MA_8</th>\n",
       "      <th>MA_16</th>\n",
       "      <th>MA_32</th>\n",
       "      <th>MA_64</th>\n",
       "      <th>MA_128</th>\n",
       "      <th>MA_256</th>\n",
       "    </tr>\n",
       "  </thead>\n",
       "  <tbody>\n",
       "    <tr>\n",
       "      <th>0</th>\n",
       "      <td>2021-01-18T16:00:00.000000000Z</td>\n",
       "      <td>1.20749</td>\n",
       "      <td>1.20809</td>\n",
       "      <td>1.20736</td>\n",
       "      <td>1.20767</td>\n",
       "      <td>NaN</td>\n",
       "      <td>NaN</td>\n",
       "      <td>NaN</td>\n",
       "      <td>NaN</td>\n",
       "      <td>NaN</td>\n",
       "      <td>NaN</td>\n",
       "    </tr>\n",
       "    <tr>\n",
       "      <th>1</th>\n",
       "      <td>2021-01-18T17:00:00.000000000Z</td>\n",
       "      <td>1.20766</td>\n",
       "      <td>1.20767</td>\n",
       "      <td>1.20708</td>\n",
       "      <td>1.20749</td>\n",
       "      <td>NaN</td>\n",
       "      <td>NaN</td>\n",
       "      <td>NaN</td>\n",
       "      <td>NaN</td>\n",
       "      <td>NaN</td>\n",
       "      <td>NaN</td>\n",
       "    </tr>\n",
       "    <tr>\n",
       "      <th>2</th>\n",
       "      <td>2021-01-18T18:00:00.000000000Z</td>\n",
       "      <td>1.20750</td>\n",
       "      <td>1.20780</td>\n",
       "      <td>1.20720</td>\n",
       "      <td>1.20740</td>\n",
       "      <td>NaN</td>\n",
       "      <td>NaN</td>\n",
       "      <td>NaN</td>\n",
       "      <td>NaN</td>\n",
       "      <td>NaN</td>\n",
       "      <td>NaN</td>\n",
       "    </tr>\n",
       "    <tr>\n",
       "      <th>3</th>\n",
       "      <td>2021-01-18T19:00:00.000000000Z</td>\n",
       "      <td>1.20742</td>\n",
       "      <td>1.20819</td>\n",
       "      <td>1.20739</td>\n",
       "      <td>1.20792</td>\n",
       "      <td>NaN</td>\n",
       "      <td>NaN</td>\n",
       "      <td>NaN</td>\n",
       "      <td>NaN</td>\n",
       "      <td>NaN</td>\n",
       "      <td>NaN</td>\n",
       "    </tr>\n",
       "    <tr>\n",
       "      <th>4</th>\n",
       "      <td>2021-01-18T20:00:00.000000000Z</td>\n",
       "      <td>1.20790</td>\n",
       "      <td>1.20808</td>\n",
       "      <td>1.20770</td>\n",
       "      <td>1.20770</td>\n",
       "      <td>NaN</td>\n",
       "      <td>NaN</td>\n",
       "      <td>NaN</td>\n",
       "      <td>NaN</td>\n",
       "      <td>NaN</td>\n",
       "      <td>NaN</td>\n",
       "    </tr>\n",
       "    <tr>\n",
       "      <th>5</th>\n",
       "      <td>2021-01-18T21:00:00.000000000Z</td>\n",
       "      <td>1.20772</td>\n",
       "      <td>1.20809</td>\n",
       "      <td>1.20752</td>\n",
       "      <td>1.20773</td>\n",
       "      <td>NaN</td>\n",
       "      <td>NaN</td>\n",
       "      <td>NaN</td>\n",
       "      <td>NaN</td>\n",
       "      <td>NaN</td>\n",
       "      <td>NaN</td>\n",
       "    </tr>\n",
       "    <tr>\n",
       "      <th>6</th>\n",
       "      <td>2021-01-18T22:00:00.000000000Z</td>\n",
       "      <td>1.20768</td>\n",
       "      <td>1.20790</td>\n",
       "      <td>1.20768</td>\n",
       "      <td>1.20774</td>\n",
       "      <td>NaN</td>\n",
       "      <td>NaN</td>\n",
       "      <td>NaN</td>\n",
       "      <td>NaN</td>\n",
       "      <td>NaN</td>\n",
       "      <td>NaN</td>\n",
       "    </tr>\n",
       "    <tr>\n",
       "      <th>7</th>\n",
       "      <td>2021-01-18T23:00:00.000000000Z</td>\n",
       "      <td>1.20772</td>\n",
       "      <td>1.20782</td>\n",
       "      <td>1.20740</td>\n",
       "      <td>1.20778</td>\n",
       "      <td>1.207679</td>\n",
       "      <td>NaN</td>\n",
       "      <td>NaN</td>\n",
       "      <td>NaN</td>\n",
       "      <td>NaN</td>\n",
       "      <td>NaN</td>\n",
       "    </tr>\n",
       "  </tbody>\n",
       "</table>\n",
       "</div>"
      ],
      "text/plain": [
       "                             time    mid_o    mid_h    mid_l    mid_c  \\\n",
       "0  2021-01-18T16:00:00.000000000Z  1.20749  1.20809  1.20736  1.20767   \n",
       "1  2021-01-18T17:00:00.000000000Z  1.20766  1.20767  1.20708  1.20749   \n",
       "2  2021-01-18T18:00:00.000000000Z  1.20750  1.20780  1.20720  1.20740   \n",
       "3  2021-01-18T19:00:00.000000000Z  1.20742  1.20819  1.20739  1.20792   \n",
       "4  2021-01-18T20:00:00.000000000Z  1.20790  1.20808  1.20770  1.20770   \n",
       "5  2021-01-18T21:00:00.000000000Z  1.20772  1.20809  1.20752  1.20773   \n",
       "6  2021-01-18T22:00:00.000000000Z  1.20768  1.20790  1.20768  1.20774   \n",
       "7  2021-01-18T23:00:00.000000000Z  1.20772  1.20782  1.20740  1.20778   \n",
       "\n",
       "       MA_8  MA_16  MA_32  MA_64  MA_128  MA_256  \n",
       "0       NaN    NaN    NaN    NaN     NaN     NaN  \n",
       "1       NaN    NaN    NaN    NaN     NaN     NaN  \n",
       "2       NaN    NaN    NaN    NaN     NaN     NaN  \n",
       "3       NaN    NaN    NaN    NaN     NaN     NaN  \n",
       "4       NaN    NaN    NaN    NaN     NaN     NaN  \n",
       "5       NaN    NaN    NaN    NaN     NaN     NaN  \n",
       "6       NaN    NaN    NaN    NaN     NaN     NaN  \n",
       "7  1.207679    NaN    NaN    NaN     NaN     NaN  "
      ]
     },
     "metadata": {},
     "execution_count": 32
    }
   ],
   "metadata": {}
  },
  {
   "cell_type": "code",
   "execution_count": 33,
   "source": [
    "df_ma.dropna(inplace=True)"
   ],
   "outputs": [],
   "metadata": {}
  },
  {
   "cell_type": "code",
   "execution_count": 34,
   "source": [
    "df_ma.head(5)"
   ],
   "outputs": [
    {
     "output_type": "execute_result",
     "data": {
      "text/html": [
       "<div>\n",
       "<style scoped>\n",
       "    .dataframe tbody tr th:only-of-type {\n",
       "        vertical-align: middle;\n",
       "    }\n",
       "\n",
       "    .dataframe tbody tr th {\n",
       "        vertical-align: top;\n",
       "    }\n",
       "\n",
       "    .dataframe thead th {\n",
       "        text-align: right;\n",
       "    }\n",
       "</style>\n",
       "<table border=\"1\" class=\"dataframe\">\n",
       "  <thead>\n",
       "    <tr style=\"text-align: right;\">\n",
       "      <th></th>\n",
       "      <th>time</th>\n",
       "      <th>mid_o</th>\n",
       "      <th>mid_h</th>\n",
       "      <th>mid_l</th>\n",
       "      <th>mid_c</th>\n",
       "      <th>MA_8</th>\n",
       "      <th>MA_16</th>\n",
       "      <th>MA_32</th>\n",
       "      <th>MA_64</th>\n",
       "      <th>MA_128</th>\n",
       "      <th>MA_256</th>\n",
       "    </tr>\n",
       "  </thead>\n",
       "  <tbody>\n",
       "    <tr>\n",
       "      <th>255</th>\n",
       "      <td>2021-02-02T07:00:00.000000000Z</td>\n",
       "      <td>1.20708</td>\n",
       "      <td>1.20761</td>\n",
       "      <td>1.20642</td>\n",
       "      <td>1.20688</td>\n",
       "      <td>1.207653</td>\n",
       "      <td>1.207073</td>\n",
       "      <td>1.208869</td>\n",
       "      <td>1.210613</td>\n",
       "      <td>1.211723</td>\n",
       "      <td>1.212720</td>\n",
       "    </tr>\n",
       "    <tr>\n",
       "      <th>256</th>\n",
       "      <td>2021-02-02T08:00:00.000000000Z</td>\n",
       "      <td>1.20690</td>\n",
       "      <td>1.20874</td>\n",
       "      <td>1.20673</td>\n",
       "      <td>1.20868</td>\n",
       "      <td>1.207888</td>\n",
       "      <td>1.207187</td>\n",
       "      <td>1.208734</td>\n",
       "      <td>1.210559</td>\n",
       "      <td>1.211686</td>\n",
       "      <td>1.212724</td>\n",
       "    </tr>\n",
       "    <tr>\n",
       "      <th>257</th>\n",
       "      <td>2021-02-02T09:00:00.000000000Z</td>\n",
       "      <td>1.20866</td>\n",
       "      <td>1.20868</td>\n",
       "      <td>1.20640</td>\n",
       "      <td>1.20672</td>\n",
       "      <td>1.207675</td>\n",
       "      <td>1.207171</td>\n",
       "      <td>1.208546</td>\n",
       "      <td>1.210468</td>\n",
       "      <td>1.211625</td>\n",
       "      <td>1.212721</td>\n",
       "    </tr>\n",
       "    <tr>\n",
       "      <th>258</th>\n",
       "      <td>2021-02-02T10:00:00.000000000Z</td>\n",
       "      <td>1.20670</td>\n",
       "      <td>1.20697</td>\n",
       "      <td>1.20322</td>\n",
       "      <td>1.20352</td>\n",
       "      <td>1.207070</td>\n",
       "      <td>1.206967</td>\n",
       "      <td>1.208259</td>\n",
       "      <td>1.210313</td>\n",
       "      <td>1.211541</td>\n",
       "      <td>1.212705</td>\n",
       "    </tr>\n",
       "    <tr>\n",
       "      <th>259</th>\n",
       "      <td>2021-02-02T11:00:00.000000000Z</td>\n",
       "      <td>1.20354</td>\n",
       "      <td>1.20408</td>\n",
       "      <td>1.20265</td>\n",
       "      <td>1.20280</td>\n",
       "      <td>1.206398</td>\n",
       "      <td>1.206726</td>\n",
       "      <td>1.207942</td>\n",
       "      <td>1.210150</td>\n",
       "      <td>1.211454</td>\n",
       "      <td>1.212685</td>\n",
       "    </tr>\n",
       "  </tbody>\n",
       "</table>\n",
       "</div>"
      ],
      "text/plain": [
       "                               time    mid_o    mid_h    mid_l    mid_c  \\\n",
       "255  2021-02-02T07:00:00.000000000Z  1.20708  1.20761  1.20642  1.20688   \n",
       "256  2021-02-02T08:00:00.000000000Z  1.20690  1.20874  1.20673  1.20868   \n",
       "257  2021-02-02T09:00:00.000000000Z  1.20866  1.20868  1.20640  1.20672   \n",
       "258  2021-02-02T10:00:00.000000000Z  1.20670  1.20697  1.20322  1.20352   \n",
       "259  2021-02-02T11:00:00.000000000Z  1.20354  1.20408  1.20265  1.20280   \n",
       "\n",
       "         MA_8     MA_16     MA_32     MA_64    MA_128    MA_256  \n",
       "255  1.207653  1.207073  1.208869  1.210613  1.211723  1.212720  \n",
       "256  1.207888  1.207187  1.208734  1.210559  1.211686  1.212724  \n",
       "257  1.207675  1.207171  1.208546  1.210468  1.211625  1.212721  \n",
       "258  1.207070  1.206967  1.208259  1.210313  1.211541  1.212705  \n",
       "259  1.206398  1.206726  1.207942  1.210150  1.211454  1.212685  "
      ]
     },
     "metadata": {},
     "execution_count": 34
    }
   ],
   "metadata": {}
  },
  {
   "cell_type": "markdown",
   "source": [
    "### 畫 8 MA 圖"
   ],
   "metadata": {}
  },
  {
   "cell_type": "code",
   "execution_count": 35,
   "source": [
    "df_plot = df_ma.iloc[-200:].copy()"
   ],
   "outputs": [],
   "metadata": {}
  },
  {
   "cell_type": "code",
   "execution_count": null,
   "source": [
    "fig = go.Figure() \r\n",
    "\r\n",
    "fig.add_trace(go.Candlestick(\r\n",
    "    x = df_plot.time,\r\n",
    "    open = df_plot.mid_o,\r\n",
    "    high = df_plot.mid_h,\r\n",
    "    low = df_plot.mid_l,\r\n",
    "    close = df_plot.mid_c,\r\n",
    "\r\n",
    "    line=dict(width=1),\r\n",
    "    opacity=1,\r\n",
    "\r\n",
    "    increasing_fillcolor='#24A06B',\r\n",
    "    decreasing_fillcolor=\"#CC2E3C\",\r\n",
    "    increasing_line_color='#2EC886',  \r\n",
    "    decreasing_line_color='#FF3A4C'\r\n",
    "))\r\n",
    "\r\n",
    "\r\n",
    "## 新增 MA 8\r\n",
    "fig.add_trace(go.Scatter(x=df_plot.time, \r\n",
    "    y=df_plot.MA_8,\r\n",
    "    line=dict(color=\"#027FC3\", width=2),\r\n",
    "    line_shape='spline', \r\n",
    "    name='MA_8'\r\n",
    "    ))\r\n",
    "\r\n",
    "\r\n",
    "fig.update_layout(width=1000, height=400, \r\n",
    "    margin=dict(l=10, r=10, b=10, t=10), # 讓線圖更明顯\r\n",
    "    font=dict(size=10, color='#e1e1e1'), # 將 x 軸資料轉為白色\r\n",
    "    paper_bgcolor='#1e1e1e', # 將背景改為黑色\r\n",
    "    plot_bgcolor='#1e1e1e') \r\n",
    "\r\n",
    "fig.update_xaxes( # 更新 x 軸資料\r\n",
    "    gridcolor='#1f292f',\r\n",
    "    showgrid=True, \r\n",
    "    fixedrange=True,\r\n",
    "    rangeslider=dict(visible=False)\r\n",
    ")\r\n",
    "\r\n",
    "fig.update_yaxes( # 更新 y 軸資料\r\n",
    "    gridcolor='#1f292f',\r\n",
    "    showgrid=True, \r\n",
    "    fixedrange=True\r\n",
    ")\r\n",
    "\r\n",
    "\r\n",
    "\r\n",
    "\r\n",
    "fig.show() # 中間空白處是例假日"
   ],
   "outputs": [],
   "metadata": {}
  },
  {
   "cell_type": "markdown",
   "source": [
    "補充: 畫多條 MA 圖: \r\n",
    "- 在 fig.add_trace(scatter) 處放迴圈即可  \r\n",
    "- 同時可以把 color 參數刪除，讓 package 自己決定哪條 MA 要用哪個顏色"
   ],
   "metadata": {}
  },
  {
   "cell_type": "markdown",
   "source": [
    "```python \r\n",
    "for ma in ma_list:\r\n",
    "    col = f'MA_{ma}'\r\n",
    "\r\n",
    "    fig.add_trace(go.Scatter(x=df_plot.time, \r\n",
    "    y=df_plot[col],\r\n",
    "    line=dict(width=2),\r\n",
    "    line_shape='spline', \r\n",
    "    name=f'MA_{ma}'\r\n",
    "    ))\r\n",
    "\r\n",
    "\r\n",
    "fig.update_layout(width=1000, height=400, \r\n",
    "    margin=dict(l=10, r=10, b=10, t=10), # 讓線圖更明顯\r\n",
    "    font=dict(size=10, color='#e1e1e1'), # 將 x 軸資料轉為白色\r\n",
    "    paper_bgcolor='#1e1e1e', # 將背景改為黑色\r\n",
    "    plot_bgcolor='#1e1e1e') \r\n",
    "\r\n",
    "fig.update_xaxes( # 更新 x 軸資料\r\n",
    "    gridcolor='#1f292f',\r\n",
    "    showgrid=True, \r\n",
    "    fixedrange=True,\r\n",
    "    rangeslider=dict(visible=False)\r\n",
    ")\r\n",
    "\r\n",
    "fig.update_yaxes( # 更新 y 軸資料\r\n",
    "    gridcolor='#1f292f',\r\n",
    "    showgrid=True, \r\n",
    "    fixedrange=True\r\n",
    ")\r\n",
    "```"
   ],
   "metadata": {}
  },
  {
   "cell_type": "markdown",
   "source": [],
   "metadata": {}
  }
 ],
 "metadata": {
  "orig_nbformat": 4,
  "language_info": {
   "name": "python",
   "version": "3.9.7",
   "mimetype": "text/x-python",
   "codemirror_mode": {
    "name": "ipython",
    "version": 3
   },
   "pygments_lexer": "ipython3",
   "nbconvert_exporter": "python",
   "file_extension": ".py"
  },
  "kernelspec": {
   "name": "python3",
   "display_name": "Python 3.9.7 64-bit ('venv': venv)"
  },
  "interpreter": {
   "hash": "b0b5f533ece29e619ef82558aa36dc65e23f2612523c2030a9b8c4d2f5e86771"
  }
 },
 "nbformat": 4,
 "nbformat_minor": 2
}