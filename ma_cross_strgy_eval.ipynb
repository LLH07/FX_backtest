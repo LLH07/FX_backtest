{
 "cells": [
  {
   "cell_type": "markdown",
   "source": [
    "計算 Moving Average 策略究竟能否賺錢?\r\n"
   ],
   "metadata": {}
  },
  {
   "cell_type": "markdown",
   "source": [
    "2021.09.11"
   ],
   "metadata": {}
  },
  {
   "cell_type": "markdown",
   "source": [
    "## Strategy Evaluation"
   ],
   "metadata": {}
  },
  {
   "cell_type": "markdown",
   "source": [
    "注意到這邊我們先忽略 spreads"
   ],
   "metadata": {}
  },
  {
   "cell_type": "code",
   "execution_count": 2,
   "source": [
    "import pandas as pd\r\n",
    "import utils\r\n",
    "\r\n",
    "import plotly.graph_objects as go "
   ],
   "outputs": [],
   "metadata": {}
  },
  {
   "cell_type": "code",
   "execution_count": 5,
   "source": [
    "import instrument # 引入 instrument class"
   ],
   "outputs": [],
   "metadata": {}
  },
  {
   "cell_type": "code",
   "execution_count": 3,
   "source": [
    "pair = 'EUR_USD'\r\n",
    "granularity = 'H1'\r\n",
    "ma_list = [16, 64] # loop through this much MA"
   ],
   "outputs": [],
   "metadata": {}
  },
  {
   "cell_type": "code",
   "execution_count": 6,
   "source": [
    "# 取的欲交易商品的資訊\r\n",
    "# refer to instrument.py\r\n",
    "\r\n",
    "i_pair = instrument.Instrument.get_instrument_by_name(pair)"
   ],
   "outputs": [],
   "metadata": {}
  },
  {
   "cell_type": "code",
   "execution_count": 7,
   "source": [
    "df = pd.read_pickle(utils.get_his_data_filename(pair, granularity))\r\n",
    "\r\n",
    "non_cols  = ['time', 'volume']\r\n",
    "mod_cols = [x for x in df.columns if x not in non_cols]\r\n",
    "df[mod_cols] = df[mod_cols].apply(pd.to_numeric)"
   ],
   "outputs": [],
   "metadata": {}
  },
  {
   "cell_type": "markdown",
   "source": [
    "### 製作多條 MA"
   ],
   "metadata": {}
  },
  {
   "cell_type": "code",
   "execution_count": 8,
   "source": [
    "df_ma = df[ ['time', 'mid_o', 'mid_h', 'mid_l', 'mid_c'] ].copy()\r\n",
    "\r\n",
    "for ma in ma_list:\r\n",
    "    df_ma[f'MA_{ma}'] = df_ma['mid_c'].rolling(window=ma).mean()\r\n",
    "\r\n",
    "df_ma.dropna(inplace=True)"
   ],
   "outputs": [],
   "metadata": {}
  },
  {
   "cell_type": "markdown",
   "source": [
    "### 佈署策略"
   ],
   "metadata": {}
  },
  {
   "cell_type": "code",
   "execution_count": 9,
   "source": [
    "df_ma['DIFF'] = df_ma.MA_16 - df_ma.MA_64\r\n",
    "\r\n",
    "# DIFF_PREV = 昨日 DIFF\r\n",
    "df_ma['DIFF_PREV'] = df_ma['DIFF'].shift(1)\r\n",
    "\r\n",
    "def is_trade(row): # this function should be executed row by row\r\n",
    "    if row.DIFF >= 0 and row.DIFF_PREV < 0: # 進場做多\r\n",
    "        return 1\r\n",
    "    if row.DIFF <= 0 and row.DIFF_PREV > 0: # 進場做空\r\n",
    "        return -1 \r\n",
    "    else:  # 否則就不進場\r\n",
    "        return 0"
   ],
   "outputs": [],
   "metadata": {}
  },
  {
   "cell_type": "markdown",
   "source": [
    "### 取出交易機會"
   ],
   "metadata": {}
  },
  {
   "cell_type": "code",
   "execution_count": 10,
   "source": [
    "df_ma['IS_TRADE'] = df_ma.apply(is_trade, axis=1) # apply function row by \r\n",
    "\r\n",
    "# 注意: 這邊要改成過濾出 IS_TRADE 不等於 0 的所有 row，因為 +1 代表進場做多，-1 代表進場做空\r\n",
    "# 而必須要有一次完整的進出場，才能計算損益\r\n",
    "df_trades = df_ma[df_ma['IS_TRADE'] != 0].copy()"
   ],
   "outputs": [],
   "metadata": {}
  },
  {
   "cell_type": "code",
   "execution_count": 11,
   "source": [
    "df_trades.head()"
   ],
   "outputs": [
    {
     "output_type": "execute_result",
     "data": {
      "text/html": [
       "<div>\n",
       "<style scoped>\n",
       "    .dataframe tbody tr th:only-of-type {\n",
       "        vertical-align: middle;\n",
       "    }\n",
       "\n",
       "    .dataframe tbody tr th {\n",
       "        vertical-align: top;\n",
       "    }\n",
       "\n",
       "    .dataframe thead th {\n",
       "        text-align: right;\n",
       "    }\n",
       "</style>\n",
       "<table border=\"1\" class=\"dataframe\">\n",
       "  <thead>\n",
       "    <tr style=\"text-align: right;\">\n",
       "      <th></th>\n",
       "      <th>time</th>\n",
       "      <th>mid_o</th>\n",
       "      <th>mid_h</th>\n",
       "      <th>mid_l</th>\n",
       "      <th>mid_c</th>\n",
       "      <th>MA_16</th>\n",
       "      <th>MA_64</th>\n",
       "      <th>DIFF</th>\n",
       "      <th>DIFF_PREV</th>\n",
       "      <th>IS_TRADE</th>\n",
       "    </tr>\n",
       "  </thead>\n",
       "  <tbody>\n",
       "    <tr>\n",
       "      <th>121</th>\n",
       "      <td>2021-01-25T17:00:00.000000000Z</td>\n",
       "      <td>1.21368</td>\n",
       "      <td>1.21475</td>\n",
       "      <td>1.21362</td>\n",
       "      <td>1.21445</td>\n",
       "      <td>1.215794</td>\n",
       "      <td>1.215855</td>\n",
       "      <td>-0.000060</td>\n",
       "      <td>0.000096</td>\n",
       "      <td>-1</td>\n",
       "    </tr>\n",
       "    <tr>\n",
       "      <th>153</th>\n",
       "      <td>2021-01-27T01:00:00.000000000Z</td>\n",
       "      <td>1.21624</td>\n",
       "      <td>1.21672</td>\n",
       "      <td>1.21584</td>\n",
       "      <td>1.21610</td>\n",
       "      <td>1.215634</td>\n",
       "      <td>1.215497</td>\n",
       "      <td>0.000137</td>\n",
       "      <td>-0.000083</td>\n",
       "      <td>1</td>\n",
       "    </tr>\n",
       "    <tr>\n",
       "      <th>164</th>\n",
       "      <td>2021-01-27T12:00:00.000000000Z</td>\n",
       "      <td>1.21164</td>\n",
       "      <td>1.21198</td>\n",
       "      <td>1.21056</td>\n",
       "      <td>1.21079</td>\n",
       "      <td>1.214941</td>\n",
       "      <td>1.215047</td>\n",
       "      <td>-0.000106</td>\n",
       "      <td>0.000171</td>\n",
       "      <td>-1</td>\n",
       "    </tr>\n",
       "    <tr>\n",
       "      <th>216</th>\n",
       "      <td>2021-01-29T16:00:00.000000000Z</td>\n",
       "      <td>1.21492</td>\n",
       "      <td>1.21534</td>\n",
       "      <td>1.21298</td>\n",
       "      <td>1.21352</td>\n",
       "      <td>1.212039</td>\n",
       "      <td>1.211844</td>\n",
       "      <td>0.000195</td>\n",
       "      <td>-0.000022</td>\n",
       "      <td>1</td>\n",
       "    </tr>\n",
       "    <tr>\n",
       "      <th>236</th>\n",
       "      <td>2021-02-01T12:00:00.000000000Z</td>\n",
       "      <td>1.20818</td>\n",
       "      <td>1.20887</td>\n",
       "      <td>1.20722</td>\n",
       "      <td>1.20756</td>\n",
       "      <td>1.211494</td>\n",
       "      <td>1.211547</td>\n",
       "      <td>-0.000052</td>\n",
       "      <td>0.000272</td>\n",
       "      <td>-1</td>\n",
       "    </tr>\n",
       "  </tbody>\n",
       "</table>\n",
       "</div>"
      ],
      "text/plain": [
       "                               time    mid_o    mid_h    mid_l    mid_c  \\\n",
       "121  2021-01-25T17:00:00.000000000Z  1.21368  1.21475  1.21362  1.21445   \n",
       "153  2021-01-27T01:00:00.000000000Z  1.21624  1.21672  1.21584  1.21610   \n",
       "164  2021-01-27T12:00:00.000000000Z  1.21164  1.21198  1.21056  1.21079   \n",
       "216  2021-01-29T16:00:00.000000000Z  1.21492  1.21534  1.21298  1.21352   \n",
       "236  2021-02-01T12:00:00.000000000Z  1.20818  1.20887  1.20722  1.20756   \n",
       "\n",
       "        MA_16     MA_64      DIFF  DIFF_PREV  IS_TRADE  \n",
       "121  1.215794  1.215855 -0.000060   0.000096        -1  \n",
       "153  1.215634  1.215497  0.000137  -0.000083         1  \n",
       "164  1.214941  1.215047 -0.000106   0.000171        -1  \n",
       "216  1.212039  1.211844  0.000195  -0.000022         1  \n",
       "236  1.211494  1.211547 -0.000052   0.000272        -1  "
      ]
     },
     "metadata": {},
     "execution_count": 11
    }
   ],
   "metadata": {}
  },
  {
   "cell_type": "markdown",
   "source": [
    "### 計算價差 (不考慮 spread) (= 出場點價格 - 進場點價格)"
   ],
   "metadata": {}
  },
  {
   "cell_type": "markdown",
   "source": [
    "以上圖來說，第一次交易是 2021.01.25 17:00 UTC 進場做空 (因為 DIFF 為負，且 DIFF_PREV 為正，代表\"死亡交叉\")  \r\n",
    "出場點即是第二 row，2021.01.27 01:00 UTC  \r\n",
    "因此損益為 - (1.21610-1.21445) "
   ],
   "metadata": {}
  },
  {
   "cell_type": "code",
   "execution_count": 14,
   "source": [
    "df_trades['DELTA'] = df_trades['mid_c'].diff()"
   ],
   "outputs": [],
   "metadata": {}
  },
  {
   "cell_type": "code",
   "execution_count": 15,
   "source": [
    "df_trades"
   ],
   "outputs": [
    {
     "output_type": "execute_result",
     "data": {
      "text/html": [
       "<div>\n",
       "<style scoped>\n",
       "    .dataframe tbody tr th:only-of-type {\n",
       "        vertical-align: middle;\n",
       "    }\n",
       "\n",
       "    .dataframe tbody tr th {\n",
       "        vertical-align: top;\n",
       "    }\n",
       "\n",
       "    .dataframe thead th {\n",
       "        text-align: right;\n",
       "    }\n",
       "</style>\n",
       "<table border=\"1\" class=\"dataframe\">\n",
       "  <thead>\n",
       "    <tr style=\"text-align: right;\">\n",
       "      <th></th>\n",
       "      <th>time</th>\n",
       "      <th>mid_o</th>\n",
       "      <th>mid_h</th>\n",
       "      <th>mid_l</th>\n",
       "      <th>mid_c</th>\n",
       "      <th>MA_16</th>\n",
       "      <th>MA_64</th>\n",
       "      <th>DIFF</th>\n",
       "      <th>DIFF_PREV</th>\n",
       "      <th>IS_TRADE</th>\n",
       "      <th>DELTA</th>\n",
       "    </tr>\n",
       "  </thead>\n",
       "  <tbody>\n",
       "    <tr>\n",
       "      <th>121</th>\n",
       "      <td>2021-01-25T17:00:00.000000000Z</td>\n",
       "      <td>1.21368</td>\n",
       "      <td>1.21475</td>\n",
       "      <td>1.21362</td>\n",
       "      <td>1.21445</td>\n",
       "      <td>1.215794</td>\n",
       "      <td>1.215855</td>\n",
       "      <td>-0.000060</td>\n",
       "      <td>0.000096</td>\n",
       "      <td>-1</td>\n",
       "      <td>NaN</td>\n",
       "    </tr>\n",
       "    <tr>\n",
       "      <th>153</th>\n",
       "      <td>2021-01-27T01:00:00.000000000Z</td>\n",
       "      <td>1.21624</td>\n",
       "      <td>1.21672</td>\n",
       "      <td>1.21584</td>\n",
       "      <td>1.21610</td>\n",
       "      <td>1.215634</td>\n",
       "      <td>1.215497</td>\n",
       "      <td>0.000137</td>\n",
       "      <td>-0.000083</td>\n",
       "      <td>1</td>\n",
       "      <td>0.00165</td>\n",
       "    </tr>\n",
       "    <tr>\n",
       "      <th>164</th>\n",
       "      <td>2021-01-27T12:00:00.000000000Z</td>\n",
       "      <td>1.21164</td>\n",
       "      <td>1.21198</td>\n",
       "      <td>1.21056</td>\n",
       "      <td>1.21079</td>\n",
       "      <td>1.214941</td>\n",
       "      <td>1.215047</td>\n",
       "      <td>-0.000106</td>\n",
       "      <td>0.000171</td>\n",
       "      <td>-1</td>\n",
       "      <td>-0.00531</td>\n",
       "    </tr>\n",
       "    <tr>\n",
       "      <th>216</th>\n",
       "      <td>2021-01-29T16:00:00.000000000Z</td>\n",
       "      <td>1.21492</td>\n",
       "      <td>1.21534</td>\n",
       "      <td>1.21298</td>\n",
       "      <td>1.21352</td>\n",
       "      <td>1.212039</td>\n",
       "      <td>1.211844</td>\n",
       "      <td>0.000195</td>\n",
       "      <td>-0.000022</td>\n",
       "      <td>1</td>\n",
       "      <td>0.00273</td>\n",
       "    </tr>\n",
       "    <tr>\n",
       "      <th>236</th>\n",
       "      <td>2021-02-01T12:00:00.000000000Z</td>\n",
       "      <td>1.20818</td>\n",
       "      <td>1.20887</td>\n",
       "      <td>1.20722</td>\n",
       "      <td>1.20756</td>\n",
       "      <td>1.211494</td>\n",
       "      <td>1.211547</td>\n",
       "      <td>-0.000052</td>\n",
       "      <td>0.000272</td>\n",
       "      <td>-1</td>\n",
       "      <td>-0.00596</td>\n",
       "    </tr>\n",
       "    <tr>\n",
       "      <th>...</th>\n",
       "      <td>...</td>\n",
       "      <td>...</td>\n",
       "      <td>...</td>\n",
       "      <td>...</td>\n",
       "      <td>...</td>\n",
       "      <td>...</td>\n",
       "      <td>...</td>\n",
       "      <td>...</td>\n",
       "      <td>...</td>\n",
       "      <td>...</td>\n",
       "      <td>...</td>\n",
       "    </tr>\n",
       "    <tr>\n",
       "      <th>3803</th>\n",
       "      <td>2021-08-27T02:00:00.000000000Z</td>\n",
       "      <td>1.17496</td>\n",
       "      <td>1.17576</td>\n",
       "      <td>1.17494</td>\n",
       "      <td>1.17526</td>\n",
       "      <td>1.175463</td>\n",
       "      <td>1.175465</td>\n",
       "      <td>-0.000002</td>\n",
       "      <td>0.000164</td>\n",
       "      <td>-1</td>\n",
       "      <td>0.00390</td>\n",
       "    </tr>\n",
       "    <tr>\n",
       "      <th>3807</th>\n",
       "      <td>2021-08-27T06:00:00.000000000Z</td>\n",
       "      <td>1.17617</td>\n",
       "      <td>1.17700</td>\n",
       "      <td>1.17588</td>\n",
       "      <td>1.17682</td>\n",
       "      <td>1.175588</td>\n",
       "      <td>1.175554</td>\n",
       "      <td>0.000033</td>\n",
       "      <td>-0.000045</td>\n",
       "      <td>1</td>\n",
       "      <td>0.00156</td>\n",
       "    </tr>\n",
       "    <tr>\n",
       "      <th>3809</th>\n",
       "      <td>2021-08-27T08:00:00.000000000Z</td>\n",
       "      <td>1.17614</td>\n",
       "      <td>1.17628</td>\n",
       "      <td>1.17505</td>\n",
       "      <td>1.17512</td>\n",
       "      <td>1.175572</td>\n",
       "      <td>1.175583</td>\n",
       "      <td>-0.000010</td>\n",
       "      <td>0.000004</td>\n",
       "      <td>-1</td>\n",
       "      <td>-0.00170</td>\n",
       "    </tr>\n",
       "    <tr>\n",
       "      <th>3811</th>\n",
       "      <td>2021-08-27T10:00:00.000000000Z</td>\n",
       "      <td>1.17581</td>\n",
       "      <td>1.17638</td>\n",
       "      <td>1.17556</td>\n",
       "      <td>1.17590</td>\n",
       "      <td>1.175645</td>\n",
       "      <td>1.175610</td>\n",
       "      <td>0.000035</td>\n",
       "      <td>-0.000002</td>\n",
       "      <td>1</td>\n",
       "      <td>0.00078</td>\n",
       "    </tr>\n",
       "    <tr>\n",
       "      <th>3960</th>\n",
       "      <td>2021-09-06T15:00:00.000000000Z</td>\n",
       "      <td>1.18622</td>\n",
       "      <td>1.18672</td>\n",
       "      <td>1.18599</td>\n",
       "      <td>1.18658</td>\n",
       "      <td>1.186798</td>\n",
       "      <td>1.186835</td>\n",
       "      <td>-0.000038</td>\n",
       "      <td>0.000124</td>\n",
       "      <td>-1</td>\n",
       "      <td>0.01068</td>\n",
       "    </tr>\n",
       "  </tbody>\n",
       "</table>\n",
       "<p>85 rows × 11 columns</p>\n",
       "</div>"
      ],
      "text/plain": [
       "                                time    mid_o    mid_h    mid_l    mid_c  \\\n",
       "121   2021-01-25T17:00:00.000000000Z  1.21368  1.21475  1.21362  1.21445   \n",
       "153   2021-01-27T01:00:00.000000000Z  1.21624  1.21672  1.21584  1.21610   \n",
       "164   2021-01-27T12:00:00.000000000Z  1.21164  1.21198  1.21056  1.21079   \n",
       "216   2021-01-29T16:00:00.000000000Z  1.21492  1.21534  1.21298  1.21352   \n",
       "236   2021-02-01T12:00:00.000000000Z  1.20818  1.20887  1.20722  1.20756   \n",
       "...                              ...      ...      ...      ...      ...   \n",
       "3803  2021-08-27T02:00:00.000000000Z  1.17496  1.17576  1.17494  1.17526   \n",
       "3807  2021-08-27T06:00:00.000000000Z  1.17617  1.17700  1.17588  1.17682   \n",
       "3809  2021-08-27T08:00:00.000000000Z  1.17614  1.17628  1.17505  1.17512   \n",
       "3811  2021-08-27T10:00:00.000000000Z  1.17581  1.17638  1.17556  1.17590   \n",
       "3960  2021-09-06T15:00:00.000000000Z  1.18622  1.18672  1.18599  1.18658   \n",
       "\n",
       "         MA_16     MA_64      DIFF  DIFF_PREV  IS_TRADE    DELTA  \n",
       "121   1.215794  1.215855 -0.000060   0.000096        -1      NaN  \n",
       "153   1.215634  1.215497  0.000137  -0.000083         1  0.00165  \n",
       "164   1.214941  1.215047 -0.000106   0.000171        -1 -0.00531  \n",
       "216   1.212039  1.211844  0.000195  -0.000022         1  0.00273  \n",
       "236   1.211494  1.211547 -0.000052   0.000272        -1 -0.00596  \n",
       "...        ...       ...       ...        ...       ...      ...  \n",
       "3803  1.175463  1.175465 -0.000002   0.000164        -1  0.00390  \n",
       "3807  1.175588  1.175554  0.000033  -0.000045         1  0.00156  \n",
       "3809  1.175572  1.175583 -0.000010   0.000004        -1 -0.00170  \n",
       "3811  1.175645  1.175610  0.000035  -0.000002         1  0.00078  \n",
       "3960  1.186798  1.186835 -0.000038   0.000124        -1  0.01068  \n",
       "\n",
       "[85 rows x 11 columns]"
      ]
     },
     "metadata": {},
     "execution_count": 15
    }
   ],
   "metadata": {}
  },
  {
   "cell_type": "markdown",
   "source": [
    "注意到，用 ```pandas``` 的 ```.diff()``` 可計算兩 row 數值之差，  \r\n",
    "但真正的損益應該是第二 row 的 ```DELTA```  \r\n",
    "-\r\n",
    "以上圖來說，第一筆交易的進場點是 1.21445，出場點是 1.21610，  \r\n",
    "且因為進場時 ```IS_TRADE``` 是 -1，代表這筆交易是做空，  \r\n",
    "因此損益為 - (1.21610-1.21445) = -0.00165 (即第二 row 的 ```DELTA```)"
   ],
   "metadata": {}
  },
  {
   "cell_type": "code",
   "execution_count": 24,
   "source": [
    "# 因此我們將 DELTA   上      移一格!!! (不是下移)\r\n",
    "df_trades['DELTA'] = df_trades['mid_c'].diff().shift(-1)"
   ],
   "outputs": [],
   "metadata": {}
  },
  {
   "cell_type": "code",
   "execution_count": 25,
   "source": [
    "df_trades"
   ],
   "outputs": [
    {
     "output_type": "execute_result",
     "data": {
      "text/html": [
       "<div>\n",
       "<style scoped>\n",
       "    .dataframe tbody tr th:only-of-type {\n",
       "        vertical-align: middle;\n",
       "    }\n",
       "\n",
       "    .dataframe tbody tr th {\n",
       "        vertical-align: top;\n",
       "    }\n",
       "\n",
       "    .dataframe thead th {\n",
       "        text-align: right;\n",
       "    }\n",
       "</style>\n",
       "<table border=\"1\" class=\"dataframe\">\n",
       "  <thead>\n",
       "    <tr style=\"text-align: right;\">\n",
       "      <th></th>\n",
       "      <th>time</th>\n",
       "      <th>mid_o</th>\n",
       "      <th>mid_h</th>\n",
       "      <th>mid_l</th>\n",
       "      <th>mid_c</th>\n",
       "      <th>MA_16</th>\n",
       "      <th>MA_64</th>\n",
       "      <th>DIFF</th>\n",
       "      <th>DIFF_PREV</th>\n",
       "      <th>IS_TRADE</th>\n",
       "      <th>DELTA</th>\n",
       "    </tr>\n",
       "  </thead>\n",
       "  <tbody>\n",
       "    <tr>\n",
       "      <th>121</th>\n",
       "      <td>2021-01-25T17:00:00.000000000Z</td>\n",
       "      <td>1.21368</td>\n",
       "      <td>1.21475</td>\n",
       "      <td>1.21362</td>\n",
       "      <td>1.21445</td>\n",
       "      <td>1.215794</td>\n",
       "      <td>1.215855</td>\n",
       "      <td>-0.000060</td>\n",
       "      <td>0.000096</td>\n",
       "      <td>-1</td>\n",
       "      <td>0.00165</td>\n",
       "    </tr>\n",
       "    <tr>\n",
       "      <th>153</th>\n",
       "      <td>2021-01-27T01:00:00.000000000Z</td>\n",
       "      <td>1.21624</td>\n",
       "      <td>1.21672</td>\n",
       "      <td>1.21584</td>\n",
       "      <td>1.21610</td>\n",
       "      <td>1.215634</td>\n",
       "      <td>1.215497</td>\n",
       "      <td>0.000137</td>\n",
       "      <td>-0.000083</td>\n",
       "      <td>1</td>\n",
       "      <td>-0.00531</td>\n",
       "    </tr>\n",
       "    <tr>\n",
       "      <th>164</th>\n",
       "      <td>2021-01-27T12:00:00.000000000Z</td>\n",
       "      <td>1.21164</td>\n",
       "      <td>1.21198</td>\n",
       "      <td>1.21056</td>\n",
       "      <td>1.21079</td>\n",
       "      <td>1.214941</td>\n",
       "      <td>1.215047</td>\n",
       "      <td>-0.000106</td>\n",
       "      <td>0.000171</td>\n",
       "      <td>-1</td>\n",
       "      <td>0.00273</td>\n",
       "    </tr>\n",
       "    <tr>\n",
       "      <th>216</th>\n",
       "      <td>2021-01-29T16:00:00.000000000Z</td>\n",
       "      <td>1.21492</td>\n",
       "      <td>1.21534</td>\n",
       "      <td>1.21298</td>\n",
       "      <td>1.21352</td>\n",
       "      <td>1.212039</td>\n",
       "      <td>1.211844</td>\n",
       "      <td>0.000195</td>\n",
       "      <td>-0.000022</td>\n",
       "      <td>1</td>\n",
       "      <td>-0.00596</td>\n",
       "    </tr>\n",
       "    <tr>\n",
       "      <th>236</th>\n",
       "      <td>2021-02-01T12:00:00.000000000Z</td>\n",
       "      <td>1.20818</td>\n",
       "      <td>1.20887</td>\n",
       "      <td>1.20722</td>\n",
       "      <td>1.20756</td>\n",
       "      <td>1.211494</td>\n",
       "      <td>1.211547</td>\n",
       "      <td>-0.000052</td>\n",
       "      <td>0.000272</td>\n",
       "      <td>-1</td>\n",
       "      <td>-0.00265</td>\n",
       "    </tr>\n",
       "    <tr>\n",
       "      <th>...</th>\n",
       "      <td>...</td>\n",
       "      <td>...</td>\n",
       "      <td>...</td>\n",
       "      <td>...</td>\n",
       "      <td>...</td>\n",
       "      <td>...</td>\n",
       "      <td>...</td>\n",
       "      <td>...</td>\n",
       "      <td>...</td>\n",
       "      <td>...</td>\n",
       "      <td>...</td>\n",
       "    </tr>\n",
       "    <tr>\n",
       "      <th>3803</th>\n",
       "      <td>2021-08-27T02:00:00.000000000Z</td>\n",
       "      <td>1.17496</td>\n",
       "      <td>1.17576</td>\n",
       "      <td>1.17494</td>\n",
       "      <td>1.17526</td>\n",
       "      <td>1.175463</td>\n",
       "      <td>1.175465</td>\n",
       "      <td>-0.000002</td>\n",
       "      <td>0.000164</td>\n",
       "      <td>-1</td>\n",
       "      <td>0.00156</td>\n",
       "    </tr>\n",
       "    <tr>\n",
       "      <th>3807</th>\n",
       "      <td>2021-08-27T06:00:00.000000000Z</td>\n",
       "      <td>1.17617</td>\n",
       "      <td>1.17700</td>\n",
       "      <td>1.17588</td>\n",
       "      <td>1.17682</td>\n",
       "      <td>1.175588</td>\n",
       "      <td>1.175554</td>\n",
       "      <td>0.000033</td>\n",
       "      <td>-0.000045</td>\n",
       "      <td>1</td>\n",
       "      <td>-0.00170</td>\n",
       "    </tr>\n",
       "    <tr>\n",
       "      <th>3809</th>\n",
       "      <td>2021-08-27T08:00:00.000000000Z</td>\n",
       "      <td>1.17614</td>\n",
       "      <td>1.17628</td>\n",
       "      <td>1.17505</td>\n",
       "      <td>1.17512</td>\n",
       "      <td>1.175572</td>\n",
       "      <td>1.175583</td>\n",
       "      <td>-0.000010</td>\n",
       "      <td>0.000004</td>\n",
       "      <td>-1</td>\n",
       "      <td>0.00078</td>\n",
       "    </tr>\n",
       "    <tr>\n",
       "      <th>3811</th>\n",
       "      <td>2021-08-27T10:00:00.000000000Z</td>\n",
       "      <td>1.17581</td>\n",
       "      <td>1.17638</td>\n",
       "      <td>1.17556</td>\n",
       "      <td>1.17590</td>\n",
       "      <td>1.175645</td>\n",
       "      <td>1.175610</td>\n",
       "      <td>0.000035</td>\n",
       "      <td>-0.000002</td>\n",
       "      <td>1</td>\n",
       "      <td>0.01068</td>\n",
       "    </tr>\n",
       "    <tr>\n",
       "      <th>3960</th>\n",
       "      <td>2021-09-06T15:00:00.000000000Z</td>\n",
       "      <td>1.18622</td>\n",
       "      <td>1.18672</td>\n",
       "      <td>1.18599</td>\n",
       "      <td>1.18658</td>\n",
       "      <td>1.186798</td>\n",
       "      <td>1.186835</td>\n",
       "      <td>-0.000038</td>\n",
       "      <td>0.000124</td>\n",
       "      <td>-1</td>\n",
       "      <td>NaN</td>\n",
       "    </tr>\n",
       "  </tbody>\n",
       "</table>\n",
       "<p>85 rows × 11 columns</p>\n",
       "</div>"
      ],
      "text/plain": [
       "                                time    mid_o    mid_h    mid_l    mid_c  \\\n",
       "121   2021-01-25T17:00:00.000000000Z  1.21368  1.21475  1.21362  1.21445   \n",
       "153   2021-01-27T01:00:00.000000000Z  1.21624  1.21672  1.21584  1.21610   \n",
       "164   2021-01-27T12:00:00.000000000Z  1.21164  1.21198  1.21056  1.21079   \n",
       "216   2021-01-29T16:00:00.000000000Z  1.21492  1.21534  1.21298  1.21352   \n",
       "236   2021-02-01T12:00:00.000000000Z  1.20818  1.20887  1.20722  1.20756   \n",
       "...                              ...      ...      ...      ...      ...   \n",
       "3803  2021-08-27T02:00:00.000000000Z  1.17496  1.17576  1.17494  1.17526   \n",
       "3807  2021-08-27T06:00:00.000000000Z  1.17617  1.17700  1.17588  1.17682   \n",
       "3809  2021-08-27T08:00:00.000000000Z  1.17614  1.17628  1.17505  1.17512   \n",
       "3811  2021-08-27T10:00:00.000000000Z  1.17581  1.17638  1.17556  1.17590   \n",
       "3960  2021-09-06T15:00:00.000000000Z  1.18622  1.18672  1.18599  1.18658   \n",
       "\n",
       "         MA_16     MA_64      DIFF  DIFF_PREV  IS_TRADE    DELTA  \n",
       "121   1.215794  1.215855 -0.000060   0.000096        -1  0.00165  \n",
       "153   1.215634  1.215497  0.000137  -0.000083         1 -0.00531  \n",
       "164   1.214941  1.215047 -0.000106   0.000171        -1  0.00273  \n",
       "216   1.212039  1.211844  0.000195  -0.000022         1 -0.00596  \n",
       "236   1.211494  1.211547 -0.000052   0.000272        -1 -0.00265  \n",
       "...        ...       ...       ...        ...       ...      ...  \n",
       "3803  1.175463  1.175465 -0.000002   0.000164        -1  0.00156  \n",
       "3807  1.175588  1.175554  0.000033  -0.000045         1 -0.00170  \n",
       "3809  1.175572  1.175583 -0.000010   0.000004        -1  0.00078  \n",
       "3811  1.175645  1.175610  0.000035  -0.000002         1  0.01068  \n",
       "3960  1.186798  1.186835 -0.000038   0.000124        -1      NaN  \n",
       "\n",
       "[85 rows x 11 columns]"
      ]
     },
     "metadata": {},
     "execution_count": 25
    }
   ],
   "metadata": {}
  },
  {
   "cell_type": "markdown",
   "source": [
    "### 將價差單位轉為 pip"
   ],
   "metadata": {}
  },
  {
   "cell_type": "code",
   "execution_count": 17,
   "source": [
    "type(i_pair)"
   ],
   "outputs": [
    {
     "output_type": "execute_result",
     "data": {
      "text/plain": [
       "instrument.Instrument"
      ]
     },
     "metadata": {},
     "execution_count": 17
    }
   ],
   "metadata": {}
  },
  {
   "cell_type": "code",
   "execution_count": 18,
   "source": [
    "i_pair.pipLocation"
   ],
   "outputs": [
    {
     "output_type": "execute_result",
     "data": {
      "text/plain": [
       "0.0001"
      ]
     },
     "metadata": {},
     "execution_count": 18
    }
   ],
   "metadata": {}
  },
  {
   "cell_type": "code",
   "execution_count": 37,
   "source": [
    "df_trades['DELTA'] = ( df_trades['mid_c'].diff() / i_pair.pipLocation ).shift(-1)"
   ],
   "outputs": [],
   "metadata": {}
  },
  {
   "cell_type": "code",
   "execution_count": 38,
   "source": [
    "df_trades"
   ],
   "outputs": [
    {
     "output_type": "execute_result",
     "data": {
      "text/html": [
       "<div>\n",
       "<style scoped>\n",
       "    .dataframe tbody tr th:only-of-type {\n",
       "        vertical-align: middle;\n",
       "    }\n",
       "\n",
       "    .dataframe tbody tr th {\n",
       "        vertical-align: top;\n",
       "    }\n",
       "\n",
       "    .dataframe thead th {\n",
       "        text-align: right;\n",
       "    }\n",
       "</style>\n",
       "<table border=\"1\" class=\"dataframe\">\n",
       "  <thead>\n",
       "    <tr style=\"text-align: right;\">\n",
       "      <th></th>\n",
       "      <th>time</th>\n",
       "      <th>mid_o</th>\n",
       "      <th>mid_h</th>\n",
       "      <th>mid_l</th>\n",
       "      <th>mid_c</th>\n",
       "      <th>MA_16</th>\n",
       "      <th>MA_64</th>\n",
       "      <th>DIFF</th>\n",
       "      <th>DIFF_PREV</th>\n",
       "      <th>IS_TRADE</th>\n",
       "      <th>DELTA</th>\n",
       "      <th>GAIN</th>\n",
       "    </tr>\n",
       "  </thead>\n",
       "  <tbody>\n",
       "    <tr>\n",
       "      <th>121</th>\n",
       "      <td>2021-01-25T17:00:00.000000000Z</td>\n",
       "      <td>1.21368</td>\n",
       "      <td>1.21475</td>\n",
       "      <td>1.21362</td>\n",
       "      <td>1.21445</td>\n",
       "      <td>1.215794</td>\n",
       "      <td>1.215855</td>\n",
       "      <td>-0.000060</td>\n",
       "      <td>0.000096</td>\n",
       "      <td>-1</td>\n",
       "      <td>16.5</td>\n",
       "      <td>-0.00165</td>\n",
       "    </tr>\n",
       "    <tr>\n",
       "      <th>153</th>\n",
       "      <td>2021-01-27T01:00:00.000000000Z</td>\n",
       "      <td>1.21624</td>\n",
       "      <td>1.21672</td>\n",
       "      <td>1.21584</td>\n",
       "      <td>1.21610</td>\n",
       "      <td>1.215634</td>\n",
       "      <td>1.215497</td>\n",
       "      <td>0.000137</td>\n",
       "      <td>-0.000083</td>\n",
       "      <td>1</td>\n",
       "      <td>-53.1</td>\n",
       "      <td>-0.00531</td>\n",
       "    </tr>\n",
       "    <tr>\n",
       "      <th>164</th>\n",
       "      <td>2021-01-27T12:00:00.000000000Z</td>\n",
       "      <td>1.21164</td>\n",
       "      <td>1.21198</td>\n",
       "      <td>1.21056</td>\n",
       "      <td>1.21079</td>\n",
       "      <td>1.214941</td>\n",
       "      <td>1.215047</td>\n",
       "      <td>-0.000106</td>\n",
       "      <td>0.000171</td>\n",
       "      <td>-1</td>\n",
       "      <td>27.3</td>\n",
       "      <td>-0.00273</td>\n",
       "    </tr>\n",
       "    <tr>\n",
       "      <th>216</th>\n",
       "      <td>2021-01-29T16:00:00.000000000Z</td>\n",
       "      <td>1.21492</td>\n",
       "      <td>1.21534</td>\n",
       "      <td>1.21298</td>\n",
       "      <td>1.21352</td>\n",
       "      <td>1.212039</td>\n",
       "      <td>1.211844</td>\n",
       "      <td>0.000195</td>\n",
       "      <td>-0.000022</td>\n",
       "      <td>1</td>\n",
       "      <td>-59.6</td>\n",
       "      <td>-0.00596</td>\n",
       "    </tr>\n",
       "    <tr>\n",
       "      <th>236</th>\n",
       "      <td>2021-02-01T12:00:00.000000000Z</td>\n",
       "      <td>1.20818</td>\n",
       "      <td>1.20887</td>\n",
       "      <td>1.20722</td>\n",
       "      <td>1.20756</td>\n",
       "      <td>1.211494</td>\n",
       "      <td>1.211547</td>\n",
       "      <td>-0.000052</td>\n",
       "      <td>0.000272</td>\n",
       "      <td>-1</td>\n",
       "      <td>-26.5</td>\n",
       "      <td>0.00265</td>\n",
       "    </tr>\n",
       "    <tr>\n",
       "      <th>...</th>\n",
       "      <td>...</td>\n",
       "      <td>...</td>\n",
       "      <td>...</td>\n",
       "      <td>...</td>\n",
       "      <td>...</td>\n",
       "      <td>...</td>\n",
       "      <td>...</td>\n",
       "      <td>...</td>\n",
       "      <td>...</td>\n",
       "      <td>...</td>\n",
       "      <td>...</td>\n",
       "      <td>...</td>\n",
       "    </tr>\n",
       "    <tr>\n",
       "      <th>3803</th>\n",
       "      <td>2021-08-27T02:00:00.000000000Z</td>\n",
       "      <td>1.17496</td>\n",
       "      <td>1.17576</td>\n",
       "      <td>1.17494</td>\n",
       "      <td>1.17526</td>\n",
       "      <td>1.175463</td>\n",
       "      <td>1.175465</td>\n",
       "      <td>-0.000002</td>\n",
       "      <td>0.000164</td>\n",
       "      <td>-1</td>\n",
       "      <td>15.6</td>\n",
       "      <td>-0.00156</td>\n",
       "    </tr>\n",
       "    <tr>\n",
       "      <th>3807</th>\n",
       "      <td>2021-08-27T06:00:00.000000000Z</td>\n",
       "      <td>1.17617</td>\n",
       "      <td>1.17700</td>\n",
       "      <td>1.17588</td>\n",
       "      <td>1.17682</td>\n",
       "      <td>1.175588</td>\n",
       "      <td>1.175554</td>\n",
       "      <td>0.000033</td>\n",
       "      <td>-0.000045</td>\n",
       "      <td>1</td>\n",
       "      <td>-17.0</td>\n",
       "      <td>-0.00170</td>\n",
       "    </tr>\n",
       "    <tr>\n",
       "      <th>3809</th>\n",
       "      <td>2021-08-27T08:00:00.000000000Z</td>\n",
       "      <td>1.17614</td>\n",
       "      <td>1.17628</td>\n",
       "      <td>1.17505</td>\n",
       "      <td>1.17512</td>\n",
       "      <td>1.175572</td>\n",
       "      <td>1.175583</td>\n",
       "      <td>-0.000010</td>\n",
       "      <td>0.000004</td>\n",
       "      <td>-1</td>\n",
       "      <td>7.8</td>\n",
       "      <td>-0.00078</td>\n",
       "    </tr>\n",
       "    <tr>\n",
       "      <th>3811</th>\n",
       "      <td>2021-08-27T10:00:00.000000000Z</td>\n",
       "      <td>1.17581</td>\n",
       "      <td>1.17638</td>\n",
       "      <td>1.17556</td>\n",
       "      <td>1.17590</td>\n",
       "      <td>1.175645</td>\n",
       "      <td>1.175610</td>\n",
       "      <td>0.000035</td>\n",
       "      <td>-0.000002</td>\n",
       "      <td>1</td>\n",
       "      <td>106.8</td>\n",
       "      <td>0.01068</td>\n",
       "    </tr>\n",
       "    <tr>\n",
       "      <th>3960</th>\n",
       "      <td>2021-09-06T15:00:00.000000000Z</td>\n",
       "      <td>1.18622</td>\n",
       "      <td>1.18672</td>\n",
       "      <td>1.18599</td>\n",
       "      <td>1.18658</td>\n",
       "      <td>1.186798</td>\n",
       "      <td>1.186835</td>\n",
       "      <td>-0.000038</td>\n",
       "      <td>0.000124</td>\n",
       "      <td>-1</td>\n",
       "      <td>NaN</td>\n",
       "      <td>NaN</td>\n",
       "    </tr>\n",
       "  </tbody>\n",
       "</table>\n",
       "<p>85 rows × 12 columns</p>\n",
       "</div>"
      ],
      "text/plain": [
       "                                time    mid_o    mid_h    mid_l    mid_c  \\\n",
       "121   2021-01-25T17:00:00.000000000Z  1.21368  1.21475  1.21362  1.21445   \n",
       "153   2021-01-27T01:00:00.000000000Z  1.21624  1.21672  1.21584  1.21610   \n",
       "164   2021-01-27T12:00:00.000000000Z  1.21164  1.21198  1.21056  1.21079   \n",
       "216   2021-01-29T16:00:00.000000000Z  1.21492  1.21534  1.21298  1.21352   \n",
       "236   2021-02-01T12:00:00.000000000Z  1.20818  1.20887  1.20722  1.20756   \n",
       "...                              ...      ...      ...      ...      ...   \n",
       "3803  2021-08-27T02:00:00.000000000Z  1.17496  1.17576  1.17494  1.17526   \n",
       "3807  2021-08-27T06:00:00.000000000Z  1.17617  1.17700  1.17588  1.17682   \n",
       "3809  2021-08-27T08:00:00.000000000Z  1.17614  1.17628  1.17505  1.17512   \n",
       "3811  2021-08-27T10:00:00.000000000Z  1.17581  1.17638  1.17556  1.17590   \n",
       "3960  2021-09-06T15:00:00.000000000Z  1.18622  1.18672  1.18599  1.18658   \n",
       "\n",
       "         MA_16     MA_64      DIFF  DIFF_PREV  IS_TRADE  DELTA     GAIN  \n",
       "121   1.215794  1.215855 -0.000060   0.000096        -1   16.5 -0.00165  \n",
       "153   1.215634  1.215497  0.000137  -0.000083         1  -53.1 -0.00531  \n",
       "164   1.214941  1.215047 -0.000106   0.000171        -1   27.3 -0.00273  \n",
       "216   1.212039  1.211844  0.000195  -0.000022         1  -59.6 -0.00596  \n",
       "236   1.211494  1.211547 -0.000052   0.000272        -1  -26.5  0.00265  \n",
       "...        ...       ...       ...        ...       ...    ...      ...  \n",
       "3803  1.175463  1.175465 -0.000002   0.000164        -1   15.6 -0.00156  \n",
       "3807  1.175588  1.175554  0.000033  -0.000045         1  -17.0 -0.00170  \n",
       "3809  1.175572  1.175583 -0.000010   0.000004        -1    7.8 -0.00078  \n",
       "3811  1.175645  1.175610  0.000035  -0.000002         1  106.8  0.01068  \n",
       "3960  1.186798  1.186835 -0.000038   0.000124        -1    NaN      NaN  \n",
       "\n",
       "[85 rows x 12 columns]"
      ]
     },
     "metadata": {},
     "execution_count": 38
    }
   ],
   "metadata": {}
  },
  {
   "cell_type": "markdown",
   "source": [
    "### 計算損益 (= 價差 * 交易方向)"
   ],
   "metadata": {}
  },
  {
   "cell_type": "code",
   "execution_count": 39,
   "source": [
    "df_trades['GAIN'] = df_trades['DELTA'] * df_trades['IS_TRADE']"
   ],
   "outputs": [],
   "metadata": {}
  },
  {
   "cell_type": "code",
   "execution_count": 40,
   "source": [
    "df_trades \r\n",
    "# 因此只要 DELTA 與 GAIN 完全相同，則代表該筆交易 MA 策略成功"
   ],
   "outputs": [
    {
     "output_type": "execute_result",
     "data": {
      "text/html": [
       "<div>\n",
       "<style scoped>\n",
       "    .dataframe tbody tr th:only-of-type {\n",
       "        vertical-align: middle;\n",
       "    }\n",
       "\n",
       "    .dataframe tbody tr th {\n",
       "        vertical-align: top;\n",
       "    }\n",
       "\n",
       "    .dataframe thead th {\n",
       "        text-align: right;\n",
       "    }\n",
       "</style>\n",
       "<table border=\"1\" class=\"dataframe\">\n",
       "  <thead>\n",
       "    <tr style=\"text-align: right;\">\n",
       "      <th></th>\n",
       "      <th>time</th>\n",
       "      <th>mid_o</th>\n",
       "      <th>mid_h</th>\n",
       "      <th>mid_l</th>\n",
       "      <th>mid_c</th>\n",
       "      <th>MA_16</th>\n",
       "      <th>MA_64</th>\n",
       "      <th>DIFF</th>\n",
       "      <th>DIFF_PREV</th>\n",
       "      <th>IS_TRADE</th>\n",
       "      <th>DELTA</th>\n",
       "      <th>GAIN</th>\n",
       "    </tr>\n",
       "  </thead>\n",
       "  <tbody>\n",
       "    <tr>\n",
       "      <th>121</th>\n",
       "      <td>2021-01-25T17:00:00.000000000Z</td>\n",
       "      <td>1.21368</td>\n",
       "      <td>1.21475</td>\n",
       "      <td>1.21362</td>\n",
       "      <td>1.21445</td>\n",
       "      <td>1.215794</td>\n",
       "      <td>1.215855</td>\n",
       "      <td>-0.000060</td>\n",
       "      <td>0.000096</td>\n",
       "      <td>-1</td>\n",
       "      <td>16.5</td>\n",
       "      <td>-16.5</td>\n",
       "    </tr>\n",
       "    <tr>\n",
       "      <th>153</th>\n",
       "      <td>2021-01-27T01:00:00.000000000Z</td>\n",
       "      <td>1.21624</td>\n",
       "      <td>1.21672</td>\n",
       "      <td>1.21584</td>\n",
       "      <td>1.21610</td>\n",
       "      <td>1.215634</td>\n",
       "      <td>1.215497</td>\n",
       "      <td>0.000137</td>\n",
       "      <td>-0.000083</td>\n",
       "      <td>1</td>\n",
       "      <td>-53.1</td>\n",
       "      <td>-53.1</td>\n",
       "    </tr>\n",
       "    <tr>\n",
       "      <th>164</th>\n",
       "      <td>2021-01-27T12:00:00.000000000Z</td>\n",
       "      <td>1.21164</td>\n",
       "      <td>1.21198</td>\n",
       "      <td>1.21056</td>\n",
       "      <td>1.21079</td>\n",
       "      <td>1.214941</td>\n",
       "      <td>1.215047</td>\n",
       "      <td>-0.000106</td>\n",
       "      <td>0.000171</td>\n",
       "      <td>-1</td>\n",
       "      <td>27.3</td>\n",
       "      <td>-27.3</td>\n",
       "    </tr>\n",
       "    <tr>\n",
       "      <th>216</th>\n",
       "      <td>2021-01-29T16:00:00.000000000Z</td>\n",
       "      <td>1.21492</td>\n",
       "      <td>1.21534</td>\n",
       "      <td>1.21298</td>\n",
       "      <td>1.21352</td>\n",
       "      <td>1.212039</td>\n",
       "      <td>1.211844</td>\n",
       "      <td>0.000195</td>\n",
       "      <td>-0.000022</td>\n",
       "      <td>1</td>\n",
       "      <td>-59.6</td>\n",
       "      <td>-59.6</td>\n",
       "    </tr>\n",
       "    <tr>\n",
       "      <th>236</th>\n",
       "      <td>2021-02-01T12:00:00.000000000Z</td>\n",
       "      <td>1.20818</td>\n",
       "      <td>1.20887</td>\n",
       "      <td>1.20722</td>\n",
       "      <td>1.20756</td>\n",
       "      <td>1.211494</td>\n",
       "      <td>1.211547</td>\n",
       "      <td>-0.000052</td>\n",
       "      <td>0.000272</td>\n",
       "      <td>-1</td>\n",
       "      <td>-26.5</td>\n",
       "      <td>26.5</td>\n",
       "    </tr>\n",
       "    <tr>\n",
       "      <th>...</th>\n",
       "      <td>...</td>\n",
       "      <td>...</td>\n",
       "      <td>...</td>\n",
       "      <td>...</td>\n",
       "      <td>...</td>\n",
       "      <td>...</td>\n",
       "      <td>...</td>\n",
       "      <td>...</td>\n",
       "      <td>...</td>\n",
       "      <td>...</td>\n",
       "      <td>...</td>\n",
       "      <td>...</td>\n",
       "    </tr>\n",
       "    <tr>\n",
       "      <th>3803</th>\n",
       "      <td>2021-08-27T02:00:00.000000000Z</td>\n",
       "      <td>1.17496</td>\n",
       "      <td>1.17576</td>\n",
       "      <td>1.17494</td>\n",
       "      <td>1.17526</td>\n",
       "      <td>1.175463</td>\n",
       "      <td>1.175465</td>\n",
       "      <td>-0.000002</td>\n",
       "      <td>0.000164</td>\n",
       "      <td>-1</td>\n",
       "      <td>15.6</td>\n",
       "      <td>-15.6</td>\n",
       "    </tr>\n",
       "    <tr>\n",
       "      <th>3807</th>\n",
       "      <td>2021-08-27T06:00:00.000000000Z</td>\n",
       "      <td>1.17617</td>\n",
       "      <td>1.17700</td>\n",
       "      <td>1.17588</td>\n",
       "      <td>1.17682</td>\n",
       "      <td>1.175588</td>\n",
       "      <td>1.175554</td>\n",
       "      <td>0.000033</td>\n",
       "      <td>-0.000045</td>\n",
       "      <td>1</td>\n",
       "      <td>-17.0</td>\n",
       "      <td>-17.0</td>\n",
       "    </tr>\n",
       "    <tr>\n",
       "      <th>3809</th>\n",
       "      <td>2021-08-27T08:00:00.000000000Z</td>\n",
       "      <td>1.17614</td>\n",
       "      <td>1.17628</td>\n",
       "      <td>1.17505</td>\n",
       "      <td>1.17512</td>\n",
       "      <td>1.175572</td>\n",
       "      <td>1.175583</td>\n",
       "      <td>-0.000010</td>\n",
       "      <td>0.000004</td>\n",
       "      <td>-1</td>\n",
       "      <td>7.8</td>\n",
       "      <td>-7.8</td>\n",
       "    </tr>\n",
       "    <tr>\n",
       "      <th>3811</th>\n",
       "      <td>2021-08-27T10:00:00.000000000Z</td>\n",
       "      <td>1.17581</td>\n",
       "      <td>1.17638</td>\n",
       "      <td>1.17556</td>\n",
       "      <td>1.17590</td>\n",
       "      <td>1.175645</td>\n",
       "      <td>1.175610</td>\n",
       "      <td>0.000035</td>\n",
       "      <td>-0.000002</td>\n",
       "      <td>1</td>\n",
       "      <td>106.8</td>\n",
       "      <td>106.8</td>\n",
       "    </tr>\n",
       "    <tr>\n",
       "      <th>3960</th>\n",
       "      <td>2021-09-06T15:00:00.000000000Z</td>\n",
       "      <td>1.18622</td>\n",
       "      <td>1.18672</td>\n",
       "      <td>1.18599</td>\n",
       "      <td>1.18658</td>\n",
       "      <td>1.186798</td>\n",
       "      <td>1.186835</td>\n",
       "      <td>-0.000038</td>\n",
       "      <td>0.000124</td>\n",
       "      <td>-1</td>\n",
       "      <td>NaN</td>\n",
       "      <td>NaN</td>\n",
       "    </tr>\n",
       "  </tbody>\n",
       "</table>\n",
       "<p>85 rows × 12 columns</p>\n",
       "</div>"
      ],
      "text/plain": [
       "                                time    mid_o    mid_h    mid_l    mid_c  \\\n",
       "121   2021-01-25T17:00:00.000000000Z  1.21368  1.21475  1.21362  1.21445   \n",
       "153   2021-01-27T01:00:00.000000000Z  1.21624  1.21672  1.21584  1.21610   \n",
       "164   2021-01-27T12:00:00.000000000Z  1.21164  1.21198  1.21056  1.21079   \n",
       "216   2021-01-29T16:00:00.000000000Z  1.21492  1.21534  1.21298  1.21352   \n",
       "236   2021-02-01T12:00:00.000000000Z  1.20818  1.20887  1.20722  1.20756   \n",
       "...                              ...      ...      ...      ...      ...   \n",
       "3803  2021-08-27T02:00:00.000000000Z  1.17496  1.17576  1.17494  1.17526   \n",
       "3807  2021-08-27T06:00:00.000000000Z  1.17617  1.17700  1.17588  1.17682   \n",
       "3809  2021-08-27T08:00:00.000000000Z  1.17614  1.17628  1.17505  1.17512   \n",
       "3811  2021-08-27T10:00:00.000000000Z  1.17581  1.17638  1.17556  1.17590   \n",
       "3960  2021-09-06T15:00:00.000000000Z  1.18622  1.18672  1.18599  1.18658   \n",
       "\n",
       "         MA_16     MA_64      DIFF  DIFF_PREV  IS_TRADE  DELTA   GAIN  \n",
       "121   1.215794  1.215855 -0.000060   0.000096        -1   16.5  -16.5  \n",
       "153   1.215634  1.215497  0.000137  -0.000083         1  -53.1  -53.1  \n",
       "164   1.214941  1.215047 -0.000106   0.000171        -1   27.3  -27.3  \n",
       "216   1.212039  1.211844  0.000195  -0.000022         1  -59.6  -59.6  \n",
       "236   1.211494  1.211547 -0.000052   0.000272        -1  -26.5   26.5  \n",
       "...        ...       ...       ...        ...       ...    ...    ...  \n",
       "3803  1.175463  1.175465 -0.000002   0.000164        -1   15.6  -15.6  \n",
       "3807  1.175588  1.175554  0.000033  -0.000045         1  -17.0  -17.0  \n",
       "3809  1.175572  1.175583 -0.000010   0.000004        -1    7.8   -7.8  \n",
       "3811  1.175645  1.175610  0.000035  -0.000002         1  106.8  106.8  \n",
       "3960  1.186798  1.186835 -0.000038   0.000124        -1    NaN    NaN  \n",
       "\n",
       "[85 rows x 12 columns]"
      ]
     },
     "metadata": {},
     "execution_count": 40
    }
   ],
   "metadata": {}
  },
  {
   "cell_type": "code",
   "execution_count": 41,
   "source": [
    "df_trades.shape"
   ],
   "outputs": [
    {
     "output_type": "execute_result",
     "data": {
      "text/plain": [
       "(85, 12)"
      ]
     },
     "metadata": {},
     "execution_count": 41
    }
   ],
   "metadata": {}
  },
  {
   "cell_type": "markdown",
   "source": [
    "### 回測整個時間段"
   ],
   "metadata": {}
  },
  {
   "cell_type": "code",
   "execution_count": 42,
   "source": [
    "# 回測時間段為:\r\n",
    "print(df['time'].iloc[0])\r\n",
    "df['time'].iloc[-1]"
   ],
   "outputs": [
    {
     "output_type": "stream",
     "name": "stdout",
     "text": [
      "2021-01-18T16:00:00.000000000Z\n"
     ]
    },
    {
     "output_type": "execute_result",
     "data": {
      "text/plain": [
       "'2021-09-08T05:00:00.000000000Z'"
      ]
     },
     "metadata": {},
     "execution_count": 42
    }
   ],
   "metadata": {}
  },
  {
   "cell_type": "code",
   "execution_count": 43,
   "source": [
    "df_trades['GAIN'].sum()\r\n",
    "# 使用 EURUSD 1 小時圖，在近 8 個月使用 MA 策略，淨損益為 -269 pips"
   ],
   "outputs": [
    {
     "output_type": "execute_result",
     "data": {
      "text/plain": [
       "-269.70000000001284"
      ]
     },
     "metadata": {},
     "execution_count": 43
    }
   ],
   "metadata": {}
  },
  {
   "cell_type": "markdown",
   "source": [
    "### 思考為何 MA 策略聽起還很棒，但實際上 (以此例來說)賺不到錢"
   ],
   "metadata": {}
  },
  {
   "cell_type": "code",
   "execution_count": 44,
   "source": [
    "df_trades.head()"
   ],
   "outputs": [
    {
     "output_type": "execute_result",
     "data": {
      "text/html": [
       "<div>\n",
       "<style scoped>\n",
       "    .dataframe tbody tr th:only-of-type {\n",
       "        vertical-align: middle;\n",
       "    }\n",
       "\n",
       "    .dataframe tbody tr th {\n",
       "        vertical-align: top;\n",
       "    }\n",
       "\n",
       "    .dataframe thead th {\n",
       "        text-align: right;\n",
       "    }\n",
       "</style>\n",
       "<table border=\"1\" class=\"dataframe\">\n",
       "  <thead>\n",
       "    <tr style=\"text-align: right;\">\n",
       "      <th></th>\n",
       "      <th>time</th>\n",
       "      <th>mid_o</th>\n",
       "      <th>mid_h</th>\n",
       "      <th>mid_l</th>\n",
       "      <th>mid_c</th>\n",
       "      <th>MA_16</th>\n",
       "      <th>MA_64</th>\n",
       "      <th>DIFF</th>\n",
       "      <th>DIFF_PREV</th>\n",
       "      <th>IS_TRADE</th>\n",
       "      <th>DELTA</th>\n",
       "      <th>GAIN</th>\n",
       "    </tr>\n",
       "  </thead>\n",
       "  <tbody>\n",
       "    <tr>\n",
       "      <th>121</th>\n",
       "      <td>2021-01-25T17:00:00.000000000Z</td>\n",
       "      <td>1.21368</td>\n",
       "      <td>1.21475</td>\n",
       "      <td>1.21362</td>\n",
       "      <td>1.21445</td>\n",
       "      <td>1.215794</td>\n",
       "      <td>1.215855</td>\n",
       "      <td>-0.000060</td>\n",
       "      <td>0.000096</td>\n",
       "      <td>-1</td>\n",
       "      <td>16.5</td>\n",
       "      <td>-16.5</td>\n",
       "    </tr>\n",
       "    <tr>\n",
       "      <th>153</th>\n",
       "      <td>2021-01-27T01:00:00.000000000Z</td>\n",
       "      <td>1.21624</td>\n",
       "      <td>1.21672</td>\n",
       "      <td>1.21584</td>\n",
       "      <td>1.21610</td>\n",
       "      <td>1.215634</td>\n",
       "      <td>1.215497</td>\n",
       "      <td>0.000137</td>\n",
       "      <td>-0.000083</td>\n",
       "      <td>1</td>\n",
       "      <td>-53.1</td>\n",
       "      <td>-53.1</td>\n",
       "    </tr>\n",
       "    <tr>\n",
       "      <th>164</th>\n",
       "      <td>2021-01-27T12:00:00.000000000Z</td>\n",
       "      <td>1.21164</td>\n",
       "      <td>1.21198</td>\n",
       "      <td>1.21056</td>\n",
       "      <td>1.21079</td>\n",
       "      <td>1.214941</td>\n",
       "      <td>1.215047</td>\n",
       "      <td>-0.000106</td>\n",
       "      <td>0.000171</td>\n",
       "      <td>-1</td>\n",
       "      <td>27.3</td>\n",
       "      <td>-27.3</td>\n",
       "    </tr>\n",
       "    <tr>\n",
       "      <th>216</th>\n",
       "      <td>2021-01-29T16:00:00.000000000Z</td>\n",
       "      <td>1.21492</td>\n",
       "      <td>1.21534</td>\n",
       "      <td>1.21298</td>\n",
       "      <td>1.21352</td>\n",
       "      <td>1.212039</td>\n",
       "      <td>1.211844</td>\n",
       "      <td>0.000195</td>\n",
       "      <td>-0.000022</td>\n",
       "      <td>1</td>\n",
       "      <td>-59.6</td>\n",
       "      <td>-59.6</td>\n",
       "    </tr>\n",
       "    <tr>\n",
       "      <th>236</th>\n",
       "      <td>2021-02-01T12:00:00.000000000Z</td>\n",
       "      <td>1.20818</td>\n",
       "      <td>1.20887</td>\n",
       "      <td>1.20722</td>\n",
       "      <td>1.20756</td>\n",
       "      <td>1.211494</td>\n",
       "      <td>1.211547</td>\n",
       "      <td>-0.000052</td>\n",
       "      <td>0.000272</td>\n",
       "      <td>-1</td>\n",
       "      <td>-26.5</td>\n",
       "      <td>26.5</td>\n",
       "    </tr>\n",
       "  </tbody>\n",
       "</table>\n",
       "</div>"
      ],
      "text/plain": [
       "                               time    mid_o    mid_h    mid_l    mid_c  \\\n",
       "121  2021-01-25T17:00:00.000000000Z  1.21368  1.21475  1.21362  1.21445   \n",
       "153  2021-01-27T01:00:00.000000000Z  1.21624  1.21672  1.21584  1.21610   \n",
       "164  2021-01-27T12:00:00.000000000Z  1.21164  1.21198  1.21056  1.21079   \n",
       "216  2021-01-29T16:00:00.000000000Z  1.21492  1.21534  1.21298  1.21352   \n",
       "236  2021-02-01T12:00:00.000000000Z  1.20818  1.20887  1.20722  1.20756   \n",
       "\n",
       "        MA_16     MA_64      DIFF  DIFF_PREV  IS_TRADE  DELTA  GAIN  \n",
       "121  1.215794  1.215855 -0.000060   0.000096        -1   16.5 -16.5  \n",
       "153  1.215634  1.215497  0.000137  -0.000083         1  -53.1 -53.1  \n",
       "164  1.214941  1.215047 -0.000106   0.000171        -1   27.3 -27.3  \n",
       "216  1.212039  1.211844  0.000195  -0.000022         1  -59.6 -59.6  \n",
       "236  1.211494  1.211547 -0.000052   0.000272        -1  -26.5  26.5  "
      ]
     },
     "metadata": {},
     "execution_count": 44
    }
   ],
   "metadata": {}
  },
  {
   "cell_type": "code",
   "execution_count": 45,
   "source": [
    "df_plot = df_ma.iloc[115:255].copy() # 畫出前幾筆交易的蠟燭圖"
   ],
   "outputs": [],
   "metadata": {}
  },
  {
   "cell_type": "code",
   "execution_count": 46,
   "source": [
    "fig = go.Figure() \r\n",
    "\r\n",
    "# candle stick:\r\n",
    "fig.add_trace(go.Candlestick(\r\n",
    "    x = df_plot.time,\r\n",
    "    open = df_plot.mid_o,\r\n",
    "    high = df_plot.mid_h,\r\n",
    "    low = df_plot.mid_l,\r\n",
    "    close = df_plot.mid_c,\r\n",
    "\r\n",
    "    line=dict(width=1),\r\n",
    "    opacity=1,\r\n",
    "\r\n",
    "    increasing_fillcolor='#24A06B',\r\n",
    "    decreasing_fillcolor=\"#CC2E3C\",\r\n",
    "    increasing_line_color='#2EC886',  \r\n",
    "    decreasing_line_color='#FF3A4C'\r\n",
    "))\r\n",
    "\r\n",
    "\r\n",
    "# MA:\r\n",
    "for ma in ma_list:\r\n",
    "    col = f'MA_{ma}'\r\n",
    "\r\n",
    "    fig.add_trace(go.Scatter(x=df_plot.time, \r\n",
    "    y=df_plot[col],\r\n",
    "    line=dict(width=2),\r\n",
    "    line_shape='spline', \r\n",
    "    name=f'MA_{ma}'\r\n",
    "    ))\r\n",
    "\r\n",
    "\r\n",
    "fig.update_layout(width=1000, height=400, \r\n",
    "    margin=dict(l=10, r=10, b=10, t=10), # 讓線圖更明顯\r\n",
    "    font=dict(size=10, color='#e1e1e1'), # 將 x 軸資料轉為白色\r\n",
    "    paper_bgcolor='#1e1e1e', # 將背景改為黑色\r\n",
    "    plot_bgcolor='#1e1e1e') \r\n",
    "\r\n",
    "fig.update_xaxes( # 更新 x 軸資料\r\n",
    "    gridcolor='#1f292f',\r\n",
    "    showgrid=True, \r\n",
    "    fixedrange=True,\r\n",
    "    rangeslider=dict(visible=False)\r\n",
    ")\r\n",
    "\r\n",
    "fig.update_yaxes( # 更新 y 軸資料\r\n",
    "    gridcolor='#1f292f',\r\n",
    "    showgrid=True, \r\n",
    "    fixedrange=True\r\n",
    ")"
   ],
   "outputs": [
    {
     "output_type": "display_data",
     "data": {
      "application/vnd.plotly.v1+json": {
       "config": {
        "plotlyServerURL": "https://plot.ly"
       },
       "data": [
        {
         "close": [
          1.20944,
          1.20913,
          1.20937,
          1.21056,
          1.21035,
          1.2094,
          1.20909,
          1.21088,
          1.21089,
          1.21023,
          1.20992,
          1.21286,
          1.21296,
          1.21217,
          1.21216,
          1.21252,
          1.21348,
          1.21317,
          1.2126,
          1.21218,
          1.21216,
          1.2121,
          1.21074,
          1.21084,
          1.21044,
          1.20974,
          1.20998,
          1.20996,
          1.21056,
          1.21046,
          1.21172,
          1.21167,
          1.21344,
          1.21268,
          1.21336,
          1.21464,
          1.21467,
          1.21494,
          1.21352,
          1.21325,
          1.21296,
          1.21308,
          1.21348,
          1.21376,
          1.21286,
          1.2123,
          1.213,
          1.21274,
          1.21271,
          1.21296,
          1.21278,
          1.21301,
          1.21293,
          1.21285,
          1.2089,
          1.20938,
          1.20799,
          1.20818,
          1.20756,
          1.20848,
          1.20872,
          1.20846,
          1.20686,
          1.20698,
          1.20678,
          1.20666,
          1.20568,
          1.20602,
          1.20619,
          1.20678,
          1.2068,
          1.20842,
          1.20836,
          1.20818,
          1.20756,
          1.20792,
          1.2071,
          1.20688,
          1.20868,
          1.20672,
          1.20352,
          1.2028,
          1.20388,
          1.20483,
          1.20234,
          1.20274,
          1.20194,
          1.20189,
          1.2018,
          1.202,
          1.20372,
          1.20437,
          1.20438,
          1.20368,
          1.20442,
          1.2047,
          1.20466,
          1.2042,
          1.20434,
          1.2044,
          1.20378,
          1.20377,
          1.20316,
          1.20228,
          1.20212,
          1.20163,
          1.20108,
          1.20172,
          1.20266,
          1.20108,
          1.20238,
          1.20268,
          1.20274,
          1.20256,
          1.20332,
          1.20355,
          1.2034,
          1.20416,
          1.20362,
          1.2035,
          1.20326,
          1.20185,
          1.20198,
          1.2017,
          1.20116,
          1.20084,
          1.19933,
          1.19858,
          1.19877,
          1.19876,
          1.19928,
          1.1984,
          1.19809,
          1.19788,
          1.19744,
          1.19604,
          1.19632,
          1.1966,
          1.1966,
          1.19624
         ],
         "decreasing": {
          "fillcolor": "#CC2E3C",
          "line": {
           "color": "#FF3A4C"
          }
         },
         "high": [
          1.21052,
          1.20943,
          1.2094,
          1.21056,
          1.21054,
          1.21034,
          1.21135,
          1.21113,
          1.21174,
          1.21116,
          1.21118,
          1.21309,
          1.21424,
          1.2142,
          1.21296,
          1.21305,
          1.21375,
          1.214,
          1.21378,
          1.2127,
          1.21292,
          1.21246,
          1.2122,
          1.21162,
          1.21092,
          1.21066,
          1.21021,
          1.21018,
          1.2107,
          1.21089,
          1.21198,
          1.21212,
          1.21344,
          1.21388,
          1.21486,
          1.21522,
          1.21561,
          1.21552,
          1.21534,
          1.21439,
          1.21366,
          1.21349,
          1.21394,
          1.21388,
          1.21342,
          1.21326,
          1.213,
          1.21365,
          1.21298,
          1.21317,
          1.21333,
          1.21326,
          1.21328,
          1.2131,
          1.2131,
          1.21044,
          1.20942,
          1.20845,
          1.20887,
          1.2093,
          1.20996,
          1.20985,
          1.20872,
          1.20702,
          1.20784,
          1.20771,
          1.20712,
          1.20619,
          1.20642,
          1.20686,
          1.20687,
          1.20863,
          1.20878,
          1.20847,
          1.2083,
          1.20796,
          1.20796,
          1.20761,
          1.20874,
          1.20868,
          1.20697,
          1.20408,
          1.20401,
          1.205,
          1.20494,
          1.2034,
          1.20328,
          1.20257,
          1.20248,
          1.20258,
          1.20404,
          1.20462,
          1.20454,
          1.20446,
          1.20461,
          1.20502,
          1.2048,
          1.20482,
          1.20438,
          1.20459,
          1.20441,
          1.20406,
          1.20423,
          1.20318,
          1.20304,
          1.20243,
          1.2023,
          1.20235,
          1.20326,
          1.20299,
          1.20268,
          1.2031,
          1.20282,
          1.20289,
          1.20363,
          1.20375,
          1.2036,
          1.2042,
          1.20429,
          1.2039,
          1.20385,
          1.20335,
          1.2021,
          1.20198,
          1.2017,
          1.20134,
          1.20138,
          1.19962,
          1.1997,
          1.19962,
          1.19944,
          1.1998,
          1.19893,
          1.19845,
          1.19795,
          1.19742,
          1.1967,
          1.19681,
          1.19678,
          1.1968
         ],
         "increasing": {
          "fillcolor": "#24A06B",
          "line": {
           "color": "#2EC886"
          }
         },
         "line": {
          "width": 1
         },
         "low": [
          1.20907,
          1.20877,
          1.2087,
          1.20916,
          1.20934,
          1.20808,
          1.2089,
          1.20906,
          1.21036,
          1.20959,
          1.20982,
          1.2088,
          1.2122,
          1.21216,
          1.21189,
          1.21212,
          1.2124,
          1.21315,
          1.2125,
          1.21186,
          1.21188,
          1.21186,
          1.21038,
          1.21064,
          1.21022,
          1.20974,
          1.20952,
          1.20945,
          1.2098,
          1.20996,
          1.20972,
          1.2106,
          1.2107,
          1.21268,
          1.21267,
          1.21267,
          1.21396,
          1.2125,
          1.21298,
          1.21293,
          1.21275,
          1.21286,
          1.21305,
          1.21304,
          1.21284,
          1.21204,
          1.21202,
          1.21257,
          1.21248,
          1.2126,
          1.21274,
          1.2126,
          1.2128,
          1.21218,
          1.20883,
          1.20837,
          1.20694,
          1.20726,
          1.20722,
          1.2073,
          1.20836,
          1.20798,
          1.20682,
          1.20626,
          1.20615,
          1.20656,
          1.20562,
          1.20561,
          1.20597,
          1.2061,
          1.20625,
          1.20672,
          1.20818,
          1.20798,
          1.20751,
          1.20746,
          1.20662,
          1.20642,
          1.20673,
          1.2064,
          1.20322,
          1.20265,
          1.20263,
          1.20348,
          1.20205,
          1.20208,
          1.20187,
          1.20116,
          1.20176,
          1.20173,
          1.20172,
          1.20343,
          1.20427,
          1.20362,
          1.20358,
          1.2042,
          1.20446,
          1.20418,
          1.20393,
          1.20416,
          1.20348,
          1.20276,
          1.20312,
          1.20094,
          1.20123,
          1.20163,
          1.2005,
          1.20084,
          1.20158,
          1.20042,
          1.20106,
          1.20228,
          1.20212,
          1.20256,
          1.20242,
          1.20321,
          1.2031,
          1.20342,
          1.20351,
          1.20335,
          1.20312,
          1.20168,
          1.20158,
          1.20126,
          1.2007,
          1.19996,
          1.19912,
          1.19832,
          1.19837,
          1.19839,
          1.19828,
          1.19836,
          1.19758,
          1.19666,
          1.1972,
          1.19574,
          1.19588,
          1.19576,
          1.19636,
          1.19603
         ],
         "opacity": 1,
         "open": [
          1.21013,
          1.20943,
          1.20914,
          1.20936,
          1.21054,
          1.21034,
          1.20942,
          1.20912,
          1.21086,
          1.21088,
          1.21024,
          1.2099,
          1.21287,
          1.21295,
          1.21216,
          1.21218,
          1.21253,
          1.21349,
          1.21315,
          1.21262,
          1.21229,
          1.21218,
          1.21209,
          1.21073,
          1.21086,
          1.21042,
          1.20973,
          1.20996,
          1.20995,
          1.21057,
          1.21044,
          1.21172,
          1.21166,
          1.21344,
          1.21268,
          1.21338,
          1.21464,
          1.21468,
          1.21492,
          1.21353,
          1.21324,
          1.21296,
          1.21307,
          1.2135,
          1.2131,
          1.21291,
          1.21228,
          1.21298,
          1.21276,
          1.21273,
          1.21294,
          1.2128,
          1.21302,
          1.21294,
          1.21283,
          1.20888,
          1.20938,
          1.20798,
          1.20818,
          1.20758,
          1.2085,
          1.20876,
          1.20847,
          1.20688,
          1.20696,
          1.20678,
          1.20664,
          1.20566,
          1.20597,
          1.20624,
          1.20676,
          1.20679,
          1.20841,
          1.20837,
          1.2082,
          1.20757,
          1.20794,
          1.20708,
          1.2069,
          1.20866,
          1.2067,
          1.20354,
          1.20278,
          1.20388,
          1.20482,
          1.20239,
          1.20273,
          1.20192,
          1.2019,
          1.20181,
          1.20198,
          1.2037,
          1.20427,
          1.20442,
          1.2037,
          1.20444,
          1.20471,
          1.20468,
          1.20418,
          1.20434,
          1.2044,
          1.20376,
          1.20376,
          1.20318,
          1.20232,
          1.2021,
          1.2016,
          1.20108,
          1.2017,
          1.20268,
          1.20109,
          1.2024,
          1.20269,
          1.20272,
          1.20258,
          1.20334,
          1.2036,
          1.20342,
          1.20417,
          1.2036,
          1.20351,
          1.20324,
          1.20184,
          1.20196,
          1.2017,
          1.20114,
          1.20082,
          1.19932,
          1.19856,
          1.19878,
          1.19877,
          1.19929,
          1.19842,
          1.19808,
          1.19787,
          1.19742,
          1.19606,
          1.1963,
          1.19662,
          1.19662
         ],
         "type": "candlestick",
         "x": [
          "2021-01-28T02:00:00.000000000Z",
          "2021-01-28T03:00:00.000000000Z",
          "2021-01-28T04:00:00.000000000Z",
          "2021-01-28T05:00:00.000000000Z",
          "2021-01-28T06:00:00.000000000Z",
          "2021-01-28T07:00:00.000000000Z",
          "2021-01-28T08:00:00.000000000Z",
          "2021-01-28T09:00:00.000000000Z",
          "2021-01-28T10:00:00.000000000Z",
          "2021-01-28T11:00:00.000000000Z",
          "2021-01-28T12:00:00.000000000Z",
          "2021-01-28T13:00:00.000000000Z",
          "2021-01-28T14:00:00.000000000Z",
          "2021-01-28T15:00:00.000000000Z",
          "2021-01-28T16:00:00.000000000Z",
          "2021-01-28T17:00:00.000000000Z",
          "2021-01-28T18:00:00.000000000Z",
          "2021-01-28T19:00:00.000000000Z",
          "2021-01-28T20:00:00.000000000Z",
          "2021-01-28T21:00:00.000000000Z",
          "2021-01-28T22:00:00.000000000Z",
          "2021-01-28T23:00:00.000000000Z",
          "2021-01-29T00:00:00.000000000Z",
          "2021-01-29T01:00:00.000000000Z",
          "2021-01-29T02:00:00.000000000Z",
          "2021-01-29T03:00:00.000000000Z",
          "2021-01-29T04:00:00.000000000Z",
          "2021-01-29T05:00:00.000000000Z",
          "2021-01-29T06:00:00.000000000Z",
          "2021-01-29T07:00:00.000000000Z",
          "2021-01-29T08:00:00.000000000Z",
          "2021-01-29T09:00:00.000000000Z",
          "2021-01-29T10:00:00.000000000Z",
          "2021-01-29T11:00:00.000000000Z",
          "2021-01-29T12:00:00.000000000Z",
          "2021-01-29T13:00:00.000000000Z",
          "2021-01-29T14:00:00.000000000Z",
          "2021-01-29T15:00:00.000000000Z",
          "2021-01-29T16:00:00.000000000Z",
          "2021-01-29T17:00:00.000000000Z",
          "2021-01-29T18:00:00.000000000Z",
          "2021-01-29T19:00:00.000000000Z",
          "2021-01-29T20:00:00.000000000Z",
          "2021-01-29T21:00:00.000000000Z",
          "2021-01-31T22:00:00.000000000Z",
          "2021-01-31T23:00:00.000000000Z",
          "2021-02-01T00:00:00.000000000Z",
          "2021-02-01T01:00:00.000000000Z",
          "2021-02-01T02:00:00.000000000Z",
          "2021-02-01T03:00:00.000000000Z",
          "2021-02-01T04:00:00.000000000Z",
          "2021-02-01T05:00:00.000000000Z",
          "2021-02-01T06:00:00.000000000Z",
          "2021-02-01T07:00:00.000000000Z",
          "2021-02-01T08:00:00.000000000Z",
          "2021-02-01T09:00:00.000000000Z",
          "2021-02-01T10:00:00.000000000Z",
          "2021-02-01T11:00:00.000000000Z",
          "2021-02-01T12:00:00.000000000Z",
          "2021-02-01T13:00:00.000000000Z",
          "2021-02-01T14:00:00.000000000Z",
          "2021-02-01T15:00:00.000000000Z",
          "2021-02-01T16:00:00.000000000Z",
          "2021-02-01T17:00:00.000000000Z",
          "2021-02-01T18:00:00.000000000Z",
          "2021-02-01T19:00:00.000000000Z",
          "2021-02-01T20:00:00.000000000Z",
          "2021-02-01T21:00:00.000000000Z",
          "2021-02-01T22:00:00.000000000Z",
          "2021-02-01T23:00:00.000000000Z",
          "2021-02-02T00:00:00.000000000Z",
          "2021-02-02T01:00:00.000000000Z",
          "2021-02-02T02:00:00.000000000Z",
          "2021-02-02T03:00:00.000000000Z",
          "2021-02-02T04:00:00.000000000Z",
          "2021-02-02T05:00:00.000000000Z",
          "2021-02-02T06:00:00.000000000Z",
          "2021-02-02T07:00:00.000000000Z",
          "2021-02-02T08:00:00.000000000Z",
          "2021-02-02T09:00:00.000000000Z",
          "2021-02-02T10:00:00.000000000Z",
          "2021-02-02T11:00:00.000000000Z",
          "2021-02-02T12:00:00.000000000Z",
          "2021-02-02T13:00:00.000000000Z",
          "2021-02-02T14:00:00.000000000Z",
          "2021-02-02T15:00:00.000000000Z",
          "2021-02-02T16:00:00.000000000Z",
          "2021-02-02T17:00:00.000000000Z",
          "2021-02-02T18:00:00.000000000Z",
          "2021-02-02T19:00:00.000000000Z",
          "2021-02-02T20:00:00.000000000Z",
          "2021-02-02T21:00:00.000000000Z",
          "2021-02-02T22:00:00.000000000Z",
          "2021-02-02T23:00:00.000000000Z",
          "2021-02-03T00:00:00.000000000Z",
          "2021-02-03T01:00:00.000000000Z",
          "2021-02-03T02:00:00.000000000Z",
          "2021-02-03T03:00:00.000000000Z",
          "2021-02-03T04:00:00.000000000Z",
          "2021-02-03T05:00:00.000000000Z",
          "2021-02-03T06:00:00.000000000Z",
          "2021-02-03T07:00:00.000000000Z",
          "2021-02-03T08:00:00.000000000Z",
          "2021-02-03T09:00:00.000000000Z",
          "2021-02-03T10:00:00.000000000Z",
          "2021-02-03T11:00:00.000000000Z",
          "2021-02-03T12:00:00.000000000Z",
          "2021-02-03T13:00:00.000000000Z",
          "2021-02-03T14:00:00.000000000Z",
          "2021-02-03T15:00:00.000000000Z",
          "2021-02-03T16:00:00.000000000Z",
          "2021-02-03T17:00:00.000000000Z",
          "2021-02-03T18:00:00.000000000Z",
          "2021-02-03T19:00:00.000000000Z",
          "2021-02-03T20:00:00.000000000Z",
          "2021-02-03T21:00:00.000000000Z",
          "2021-02-03T22:00:00.000000000Z",
          "2021-02-03T23:00:00.000000000Z",
          "2021-02-04T00:00:00.000000000Z",
          "2021-02-04T01:00:00.000000000Z",
          "2021-02-04T02:00:00.000000000Z",
          "2021-02-04T03:00:00.000000000Z",
          "2021-02-04T04:00:00.000000000Z",
          "2021-02-04T05:00:00.000000000Z",
          "2021-02-04T06:00:00.000000000Z",
          "2021-02-04T07:00:00.000000000Z",
          "2021-02-04T08:00:00.000000000Z",
          "2021-02-04T09:00:00.000000000Z",
          "2021-02-04T10:00:00.000000000Z",
          "2021-02-04T11:00:00.000000000Z",
          "2021-02-04T12:00:00.000000000Z",
          "2021-02-04T13:00:00.000000000Z",
          "2021-02-04T14:00:00.000000000Z",
          "2021-02-04T15:00:00.000000000Z",
          "2021-02-04T16:00:00.000000000Z",
          "2021-02-04T17:00:00.000000000Z",
          "2021-02-04T18:00:00.000000000Z",
          "2021-02-04T19:00:00.000000000Z",
          "2021-02-04T20:00:00.000000000Z",
          "2021-02-04T21:00:00.000000000Z"
         ]
        },
        {
         "line": {
          "shape": "spline",
          "width": 2
         },
         "name": "MA_16",
         "type": "scatter",
         "x": [
          "2021-01-28T02:00:00.000000000Z",
          "2021-01-28T03:00:00.000000000Z",
          "2021-01-28T04:00:00.000000000Z",
          "2021-01-28T05:00:00.000000000Z",
          "2021-01-28T06:00:00.000000000Z",
          "2021-01-28T07:00:00.000000000Z",
          "2021-01-28T08:00:00.000000000Z",
          "2021-01-28T09:00:00.000000000Z",
          "2021-01-28T10:00:00.000000000Z",
          "2021-01-28T11:00:00.000000000Z",
          "2021-01-28T12:00:00.000000000Z",
          "2021-01-28T13:00:00.000000000Z",
          "2021-01-28T14:00:00.000000000Z",
          "2021-01-28T15:00:00.000000000Z",
          "2021-01-28T16:00:00.000000000Z",
          "2021-01-28T17:00:00.000000000Z",
          "2021-01-28T18:00:00.000000000Z",
          "2021-01-28T19:00:00.000000000Z",
          "2021-01-28T20:00:00.000000000Z",
          "2021-01-28T21:00:00.000000000Z",
          "2021-01-28T22:00:00.000000000Z",
          "2021-01-28T23:00:00.000000000Z",
          "2021-01-29T00:00:00.000000000Z",
          "2021-01-29T01:00:00.000000000Z",
          "2021-01-29T02:00:00.000000000Z",
          "2021-01-29T03:00:00.000000000Z",
          "2021-01-29T04:00:00.000000000Z",
          "2021-01-29T05:00:00.000000000Z",
          "2021-01-29T06:00:00.000000000Z",
          "2021-01-29T07:00:00.000000000Z",
          "2021-01-29T08:00:00.000000000Z",
          "2021-01-29T09:00:00.000000000Z",
          "2021-01-29T10:00:00.000000000Z",
          "2021-01-29T11:00:00.000000000Z",
          "2021-01-29T12:00:00.000000000Z",
          "2021-01-29T13:00:00.000000000Z",
          "2021-01-29T14:00:00.000000000Z",
          "2021-01-29T15:00:00.000000000Z",
          "2021-01-29T16:00:00.000000000Z",
          "2021-01-29T17:00:00.000000000Z",
          "2021-01-29T18:00:00.000000000Z",
          "2021-01-29T19:00:00.000000000Z",
          "2021-01-29T20:00:00.000000000Z",
          "2021-01-29T21:00:00.000000000Z",
          "2021-01-31T22:00:00.000000000Z",
          "2021-01-31T23:00:00.000000000Z",
          "2021-02-01T00:00:00.000000000Z",
          "2021-02-01T01:00:00.000000000Z",
          "2021-02-01T02:00:00.000000000Z",
          "2021-02-01T03:00:00.000000000Z",
          "2021-02-01T04:00:00.000000000Z",
          "2021-02-01T05:00:00.000000000Z",
          "2021-02-01T06:00:00.000000000Z",
          "2021-02-01T07:00:00.000000000Z",
          "2021-02-01T08:00:00.000000000Z",
          "2021-02-01T09:00:00.000000000Z",
          "2021-02-01T10:00:00.000000000Z",
          "2021-02-01T11:00:00.000000000Z",
          "2021-02-01T12:00:00.000000000Z",
          "2021-02-01T13:00:00.000000000Z",
          "2021-02-01T14:00:00.000000000Z",
          "2021-02-01T15:00:00.000000000Z",
          "2021-02-01T16:00:00.000000000Z",
          "2021-02-01T17:00:00.000000000Z",
          "2021-02-01T18:00:00.000000000Z",
          "2021-02-01T19:00:00.000000000Z",
          "2021-02-01T20:00:00.000000000Z",
          "2021-02-01T21:00:00.000000000Z",
          "2021-02-01T22:00:00.000000000Z",
          "2021-02-01T23:00:00.000000000Z",
          "2021-02-02T00:00:00.000000000Z",
          "2021-02-02T01:00:00.000000000Z",
          "2021-02-02T02:00:00.000000000Z",
          "2021-02-02T03:00:00.000000000Z",
          "2021-02-02T04:00:00.000000000Z",
          "2021-02-02T05:00:00.000000000Z",
          "2021-02-02T06:00:00.000000000Z",
          "2021-02-02T07:00:00.000000000Z",
          "2021-02-02T08:00:00.000000000Z",
          "2021-02-02T09:00:00.000000000Z",
          "2021-02-02T10:00:00.000000000Z",
          "2021-02-02T11:00:00.000000000Z",
          "2021-02-02T12:00:00.000000000Z",
          "2021-02-02T13:00:00.000000000Z",
          "2021-02-02T14:00:00.000000000Z",
          "2021-02-02T15:00:00.000000000Z",
          "2021-02-02T16:00:00.000000000Z",
          "2021-02-02T17:00:00.000000000Z",
          "2021-02-02T18:00:00.000000000Z",
          "2021-02-02T19:00:00.000000000Z",
          "2021-02-02T20:00:00.000000000Z",
          "2021-02-02T21:00:00.000000000Z",
          "2021-02-02T22:00:00.000000000Z",
          "2021-02-02T23:00:00.000000000Z",
          "2021-02-03T00:00:00.000000000Z",
          "2021-02-03T01:00:00.000000000Z",
          "2021-02-03T02:00:00.000000000Z",
          "2021-02-03T03:00:00.000000000Z",
          "2021-02-03T04:00:00.000000000Z",
          "2021-02-03T05:00:00.000000000Z",
          "2021-02-03T06:00:00.000000000Z",
          "2021-02-03T07:00:00.000000000Z",
          "2021-02-03T08:00:00.000000000Z",
          "2021-02-03T09:00:00.000000000Z",
          "2021-02-03T10:00:00.000000000Z",
          "2021-02-03T11:00:00.000000000Z",
          "2021-02-03T12:00:00.000000000Z",
          "2021-02-03T13:00:00.000000000Z",
          "2021-02-03T14:00:00.000000000Z",
          "2021-02-03T15:00:00.000000000Z",
          "2021-02-03T16:00:00.000000000Z",
          "2021-02-03T17:00:00.000000000Z",
          "2021-02-03T18:00:00.000000000Z",
          "2021-02-03T19:00:00.000000000Z",
          "2021-02-03T20:00:00.000000000Z",
          "2021-02-03T21:00:00.000000000Z",
          "2021-02-03T22:00:00.000000000Z",
          "2021-02-03T23:00:00.000000000Z",
          "2021-02-04T00:00:00.000000000Z",
          "2021-02-04T01:00:00.000000000Z",
          "2021-02-04T02:00:00.000000000Z",
          "2021-02-04T03:00:00.000000000Z",
          "2021-02-04T04:00:00.000000000Z",
          "2021-02-04T05:00:00.000000000Z",
          "2021-02-04T06:00:00.000000000Z",
          "2021-02-04T07:00:00.000000000Z",
          "2021-02-04T08:00:00.000000000Z",
          "2021-02-04T09:00:00.000000000Z",
          "2021-02-04T10:00:00.000000000Z",
          "2021-02-04T11:00:00.000000000Z",
          "2021-02-04T12:00:00.000000000Z",
          "2021-02-04T13:00:00.000000000Z",
          "2021-02-04T14:00:00.000000000Z",
          "2021-02-04T15:00:00.000000000Z",
          "2021-02-04T16:00:00.000000000Z",
          "2021-02-04T17:00:00.000000000Z",
          "2021-02-04T18:00:00.000000000Z",
          "2021-02-04T19:00:00.000000000Z",
          "2021-02-04T20:00:00.000000000Z",
          "2021-02-04T21:00:00.000000000Z"
         ],
         "y": [
          1.2102925,
          1.210134375,
          1.210045625,
          1.210010625,
          1.21023,
          1.2102475000000001,
          1.2101881250000002,
          1.21013125,
          1.210059375,
          1.2100731249999999,
          1.210036875,
          1.210140625,
          1.2102706250000002,
          1.2103875000000002,
          1.210596875,
          1.210745625,
          1.2109981250000001,
          1.211250625,
          1.2114525,
          1.21155375,
          1.2116668750000001,
          1.211835625,
          1.2119387499999998,
          1.21193625,
          1.211908125,
          1.2118775,
          1.21188125,
          1.2117,
          1.21155,
          1.211443125,
          1.211415625,
          1.2113625,
          1.21136,
          1.211329375,
          1.211376875,
          1.211530625,
          1.2116875,
          1.211865,
          1.21203875,
          1.212189375,
          1.2123468750000002,
          1.212555625,
          1.212774375,
          1.213011875,
          1.213155625,
          1.2132706249999998,
          1.213350625,
          1.2134175,
          1.213371875,
          1.213389375,
          1.2133531249999998,
          1.21325125,
          1.2131425,
          1.2130118749999999,
          1.212723125,
          1.21248125,
          1.212170625,
          1.211864375,
          1.211494375,
          1.2111643749999998,
          1.210905625,
          1.210665625,
          1.210281875,
          1.209921875,
          1.2095512499999999,
          1.2091574999999999,
          1.20871375,
          1.2082768750000001,
          1.207855625,
          1.20747625,
          1.2073450000000001,
          1.2072850000000002,
          1.207308125,
          1.207308125,
          1.207308125,
          1.2072731250000002,
          1.207171875,
          1.207073125,
          1.207186875,
          1.207170625,
          1.206966875,
          1.2067256250000002,
          1.206613125,
          1.20653875,
          1.206298125,
          1.206045625,
          1.205741875,
          1.2053337499999999,
          1.20492375,
          1.2045374999999998,
          1.2042975,
          1.204075625,
          1.203905625,
          1.203705625,
          1.2034393749999999,
          1.203313125,
          1.2033843750000002,
          1.203471875,
          1.203500625,
          1.20347375,
          1.20356375,
          1.203628125,
          1.203704375,
          1.20372875,
          1.20374875,
          1.2037256250000001,
          1.203560625,
          1.203395,
          1.2032875,
          1.203125,
          1.2029975000000002,
          1.2028712499999998,
          1.20275125,
          1.2026487499999998,
          1.202585,
          1.202531875,
          1.2025081249999998,
          1.2025325,
          1.20256125,
          1.2026375,
          1.20270875,
          1.2027225,
          1.20277875,
          1.2027775,
          1.20268375,
          1.20266875,
          1.2024781249999998,
          1.2022218749999998,
          1.20197375,
          1.2017362500000002,
          1.20148375,
          1.201161875,
          1.20083,
          1.2004375,
          1.20005125,
          1.1995850000000001,
          1.1991512500000001,
          1.198823125,
          1.1984868750000002,
          1.198145625
         ]
        },
        {
         "line": {
          "shape": "spline",
          "width": 2
         },
         "name": "MA_64",
         "type": "scatter",
         "x": [
          "2021-01-28T02:00:00.000000000Z",
          "2021-01-28T03:00:00.000000000Z",
          "2021-01-28T04:00:00.000000000Z",
          "2021-01-28T05:00:00.000000000Z",
          "2021-01-28T06:00:00.000000000Z",
          "2021-01-28T07:00:00.000000000Z",
          "2021-01-28T08:00:00.000000000Z",
          "2021-01-28T09:00:00.000000000Z",
          "2021-01-28T10:00:00.000000000Z",
          "2021-01-28T11:00:00.000000000Z",
          "2021-01-28T12:00:00.000000000Z",
          "2021-01-28T13:00:00.000000000Z",
          "2021-01-28T14:00:00.000000000Z",
          "2021-01-28T15:00:00.000000000Z",
          "2021-01-28T16:00:00.000000000Z",
          "2021-01-28T17:00:00.000000000Z",
          "2021-01-28T18:00:00.000000000Z",
          "2021-01-28T19:00:00.000000000Z",
          "2021-01-28T20:00:00.000000000Z",
          "2021-01-28T21:00:00.000000000Z",
          "2021-01-28T22:00:00.000000000Z",
          "2021-01-28T23:00:00.000000000Z",
          "2021-01-29T00:00:00.000000000Z",
          "2021-01-29T01:00:00.000000000Z",
          "2021-01-29T02:00:00.000000000Z",
          "2021-01-29T03:00:00.000000000Z",
          "2021-01-29T04:00:00.000000000Z",
          "2021-01-29T05:00:00.000000000Z",
          "2021-01-29T06:00:00.000000000Z",
          "2021-01-29T07:00:00.000000000Z",
          "2021-01-29T08:00:00.000000000Z",
          "2021-01-29T09:00:00.000000000Z",
          "2021-01-29T10:00:00.000000000Z",
          "2021-01-29T11:00:00.000000000Z",
          "2021-01-29T12:00:00.000000000Z",
          "2021-01-29T13:00:00.000000000Z",
          "2021-01-29T14:00:00.000000000Z",
          "2021-01-29T15:00:00.000000000Z",
          "2021-01-29T16:00:00.000000000Z",
          "2021-01-29T17:00:00.000000000Z",
          "2021-01-29T18:00:00.000000000Z",
          "2021-01-29T19:00:00.000000000Z",
          "2021-01-29T20:00:00.000000000Z",
          "2021-01-29T21:00:00.000000000Z",
          "2021-01-31T22:00:00.000000000Z",
          "2021-01-31T23:00:00.000000000Z",
          "2021-02-01T00:00:00.000000000Z",
          "2021-02-01T01:00:00.000000000Z",
          "2021-02-01T02:00:00.000000000Z",
          "2021-02-01T03:00:00.000000000Z",
          "2021-02-01T04:00:00.000000000Z",
          "2021-02-01T05:00:00.000000000Z",
          "2021-02-01T06:00:00.000000000Z",
          "2021-02-01T07:00:00.000000000Z",
          "2021-02-01T08:00:00.000000000Z",
          "2021-02-01T09:00:00.000000000Z",
          "2021-02-01T10:00:00.000000000Z",
          "2021-02-01T11:00:00.000000000Z",
          "2021-02-01T12:00:00.000000000Z",
          "2021-02-01T13:00:00.000000000Z",
          "2021-02-01T14:00:00.000000000Z",
          "2021-02-01T15:00:00.000000000Z",
          "2021-02-01T16:00:00.000000000Z",
          "2021-02-01T17:00:00.000000000Z",
          "2021-02-01T18:00:00.000000000Z",
          "2021-02-01T19:00:00.000000000Z",
          "2021-02-01T20:00:00.000000000Z",
          "2021-02-01T21:00:00.000000000Z",
          "2021-02-01T22:00:00.000000000Z",
          "2021-02-01T23:00:00.000000000Z",
          "2021-02-02T00:00:00.000000000Z",
          "2021-02-02T01:00:00.000000000Z",
          "2021-02-02T02:00:00.000000000Z",
          "2021-02-02T03:00:00.000000000Z",
          "2021-02-02T04:00:00.000000000Z",
          "2021-02-02T05:00:00.000000000Z",
          "2021-02-02T06:00:00.000000000Z",
          "2021-02-02T07:00:00.000000000Z",
          "2021-02-02T08:00:00.000000000Z",
          "2021-02-02T09:00:00.000000000Z",
          "2021-02-02T10:00:00.000000000Z",
          "2021-02-02T11:00:00.000000000Z",
          "2021-02-02T12:00:00.000000000Z",
          "2021-02-02T13:00:00.000000000Z",
          "2021-02-02T14:00:00.000000000Z",
          "2021-02-02T15:00:00.000000000Z",
          "2021-02-02T16:00:00.000000000Z",
          "2021-02-02T17:00:00.000000000Z",
          "2021-02-02T18:00:00.000000000Z",
          "2021-02-02T19:00:00.000000000Z",
          "2021-02-02T20:00:00.000000000Z",
          "2021-02-02T21:00:00.000000000Z",
          "2021-02-02T22:00:00.000000000Z",
          "2021-02-02T23:00:00.000000000Z",
          "2021-02-03T00:00:00.000000000Z",
          "2021-02-03T01:00:00.000000000Z",
          "2021-02-03T02:00:00.000000000Z",
          "2021-02-03T03:00:00.000000000Z",
          "2021-02-03T04:00:00.000000000Z",
          "2021-02-03T05:00:00.000000000Z",
          "2021-02-03T06:00:00.000000000Z",
          "2021-02-03T07:00:00.000000000Z",
          "2021-02-03T08:00:00.000000000Z",
          "2021-02-03T09:00:00.000000000Z",
          "2021-02-03T10:00:00.000000000Z",
          "2021-02-03T11:00:00.000000000Z",
          "2021-02-03T12:00:00.000000000Z",
          "2021-02-03T13:00:00.000000000Z",
          "2021-02-03T14:00:00.000000000Z",
          "2021-02-03T15:00:00.000000000Z",
          "2021-02-03T16:00:00.000000000Z",
          "2021-02-03T17:00:00.000000000Z",
          "2021-02-03T18:00:00.000000000Z",
          "2021-02-03T19:00:00.000000000Z",
          "2021-02-03T20:00:00.000000000Z",
          "2021-02-03T21:00:00.000000000Z",
          "2021-02-03T22:00:00.000000000Z",
          "2021-02-03T23:00:00.000000000Z",
          "2021-02-04T00:00:00.000000000Z",
          "2021-02-04T01:00:00.000000000Z",
          "2021-02-04T02:00:00.000000000Z",
          "2021-02-04T03:00:00.000000000Z",
          "2021-02-04T04:00:00.000000000Z",
          "2021-02-04T05:00:00.000000000Z",
          "2021-02-04T06:00:00.000000000Z",
          "2021-02-04T07:00:00.000000000Z",
          "2021-02-04T08:00:00.000000000Z",
          "2021-02-04T09:00:00.000000000Z",
          "2021-02-04T10:00:00.000000000Z",
          "2021-02-04T11:00:00.000000000Z",
          "2021-02-04T12:00:00.000000000Z",
          "2021-02-04T13:00:00.000000000Z",
          "2021-02-04T14:00:00.000000000Z",
          "2021-02-04T15:00:00.000000000Z",
          "2021-02-04T16:00:00.000000000Z",
          "2021-02-04T17:00:00.000000000Z",
          "2021-02-04T18:00:00.000000000Z",
          "2021-02-04T19:00:00.000000000Z",
          "2021-02-04T20:00:00.000000000Z",
          "2021-02-04T21:00:00.000000000Z"
         ],
         "y": [
          1.2135559375,
          1.21345359375,
          1.2133603124999999,
          1.213295625,
          1.2132687500000001,
          1.2132121875000001,
          1.2131403125,
          1.21308453125,
          1.21303125,
          1.2129742187499999,
          1.21290796875,
          1.21288765625,
          1.21286609375,
          1.212833125,
          1.2128131249999998,
          1.21278125,
          1.212769375,
          1.2127567187500001,
          1.21274984375,
          1.2127353125,
          1.21272640625,
          1.2127414062500002,
          1.21269296875,
          1.2126607812499999,
          1.21262546875,
          1.21256265625,
          1.21249296875,
          1.2124039062499998,
          1.2123199999999998,
          1.2122212499999998,
          1.212175625,
          1.21211203125,
          1.2120659375,
          1.21200671875,
          1.21195390625,
          1.21193265625,
          1.2119087499999999,
          1.211886875,
          1.21184421875,
          1.2117996875000001,
          1.2117534374999999,
          1.2117128125,
          1.2116775,
          1.2116375,
          1.2115835937500001,
          1.2115332812500001,
          1.21150484375,
          1.2115120312499998,
          1.211505625,
          1.2115259374999998,
          1.21155703125,
          1.2115865625,
          1.21168171875,
          1.21174,
          1.2117221875,
          1.21168453125,
          1.2116212499999999,
          1.2115926562500001,
          1.21154671875,
          1.21150421875,
          1.21147046875,
          1.21144171875,
          1.2114112499999998,
          1.211361875,
          1.2113203125,
          1.21128171875,
          1.2112240625000001,
          1.211153125,
          1.2110881249999998,
          1.2110471875,
          1.2110114062500001,
          1.21097296875,
          1.2109334375,
          1.21090140625,
          1.2108645312500002,
          1.2107873437499999,
          1.21069578125,
          1.210613125,
          1.2105587500000001,
          1.210468125,
          1.2103125000000001,
          1.21015046875,
          1.21001421875,
          1.209899375,
          1.2097459375,
          1.2095996875,
          1.2094621875,
          1.20932234375,
          1.20918734375,
          1.20906640625,
          1.20896859375,
          1.2088812500000001,
          1.2087846875000001,
          1.20867875,
          1.2085646875,
          1.2084557812499999,
          1.20831859375,
          1.20818609375,
          1.20804515625,
          1.20788515625,
          1.207715,
          1.20754046875,
          1.20737859375,
          1.2072071875,
          1.2070378125,
          1.20685890625,
          1.20666515625,
          1.20647703125,
          1.20631765625,
          1.2061423437499998,
          1.20597640625,
          1.20581921875,
          1.2056634375,
          1.2055009375,
          1.205353125,
          1.2052053125,
          1.20505640625,
          1.204920625,
          1.204838125,
          1.2047462500000001,
          1.2046723437500002,
          1.2045734375,
          1.2044862500000002,
          1.2043803124999999,
          1.2042621875,
          1.2041431249999999,
          1.20402546875,
          1.2038942187500001,
          1.2037690625,
          1.2036456249999998,
          1.2035456249999998,
          1.2034265625,
          1.2033,
          1.2031609374999999,
          1.2030146874999998,
          1.2028212500000002,
          1.202633125,
          1.2024521874999998,
          1.2022809374999999,
          1.2020984375000001
         ]
        }
       ],
       "layout": {
        "font": {
         "color": "#e1e1e1",
         "size": 10
        },
        "height": 400,
        "margin": {
         "b": 10,
         "l": 10,
         "r": 10,
         "t": 10
        },
        "paper_bgcolor": "#1e1e1e",
        "plot_bgcolor": "#1e1e1e",
        "template": {
         "data": {
          "bar": [
           {
            "error_x": {
             "color": "#2a3f5f"
            },
            "error_y": {
             "color": "#2a3f5f"
            },
            "marker": {
             "line": {
              "color": "#E5ECF6",
              "width": 0.5
             },
             "pattern": {
              "fillmode": "overlay",
              "size": 10,
              "solidity": 0.2
             }
            },
            "type": "bar"
           }
          ],
          "barpolar": [
           {
            "marker": {
             "line": {
              "color": "#E5ECF6",
              "width": 0.5
             },
             "pattern": {
              "fillmode": "overlay",
              "size": 10,
              "solidity": 0.2
             }
            },
            "type": "barpolar"
           }
          ],
          "carpet": [
           {
            "aaxis": {
             "endlinecolor": "#2a3f5f",
             "gridcolor": "white",
             "linecolor": "white",
             "minorgridcolor": "white",
             "startlinecolor": "#2a3f5f"
            },
            "baxis": {
             "endlinecolor": "#2a3f5f",
             "gridcolor": "white",
             "linecolor": "white",
             "minorgridcolor": "white",
             "startlinecolor": "#2a3f5f"
            },
            "type": "carpet"
           }
          ],
          "choropleth": [
           {
            "colorbar": {
             "outlinewidth": 0,
             "ticks": ""
            },
            "type": "choropleth"
           }
          ],
          "contour": [
           {
            "colorbar": {
             "outlinewidth": 0,
             "ticks": ""
            },
            "colorscale": [
             [
              0,
              "#0d0887"
             ],
             [
              0.1111111111111111,
              "#46039f"
             ],
             [
              0.2222222222222222,
              "#7201a8"
             ],
             [
              0.3333333333333333,
              "#9c179e"
             ],
             [
              0.4444444444444444,
              "#bd3786"
             ],
             [
              0.5555555555555556,
              "#d8576b"
             ],
             [
              0.6666666666666666,
              "#ed7953"
             ],
             [
              0.7777777777777778,
              "#fb9f3a"
             ],
             [
              0.8888888888888888,
              "#fdca26"
             ],
             [
              1,
              "#f0f921"
             ]
            ],
            "type": "contour"
           }
          ],
          "contourcarpet": [
           {
            "colorbar": {
             "outlinewidth": 0,
             "ticks": ""
            },
            "type": "contourcarpet"
           }
          ],
          "heatmap": [
           {
            "colorbar": {
             "outlinewidth": 0,
             "ticks": ""
            },
            "colorscale": [
             [
              0,
              "#0d0887"
             ],
             [
              0.1111111111111111,
              "#46039f"
             ],
             [
              0.2222222222222222,
              "#7201a8"
             ],
             [
              0.3333333333333333,
              "#9c179e"
             ],
             [
              0.4444444444444444,
              "#bd3786"
             ],
             [
              0.5555555555555556,
              "#d8576b"
             ],
             [
              0.6666666666666666,
              "#ed7953"
             ],
             [
              0.7777777777777778,
              "#fb9f3a"
             ],
             [
              0.8888888888888888,
              "#fdca26"
             ],
             [
              1,
              "#f0f921"
             ]
            ],
            "type": "heatmap"
           }
          ],
          "heatmapgl": [
           {
            "colorbar": {
             "outlinewidth": 0,
             "ticks": ""
            },
            "colorscale": [
             [
              0,
              "#0d0887"
             ],
             [
              0.1111111111111111,
              "#46039f"
             ],
             [
              0.2222222222222222,
              "#7201a8"
             ],
             [
              0.3333333333333333,
              "#9c179e"
             ],
             [
              0.4444444444444444,
              "#bd3786"
             ],
             [
              0.5555555555555556,
              "#d8576b"
             ],
             [
              0.6666666666666666,
              "#ed7953"
             ],
             [
              0.7777777777777778,
              "#fb9f3a"
             ],
             [
              0.8888888888888888,
              "#fdca26"
             ],
             [
              1,
              "#f0f921"
             ]
            ],
            "type": "heatmapgl"
           }
          ],
          "histogram": [
           {
            "marker": {
             "pattern": {
              "fillmode": "overlay",
              "size": 10,
              "solidity": 0.2
             }
            },
            "type": "histogram"
           }
          ],
          "histogram2d": [
           {
            "colorbar": {
             "outlinewidth": 0,
             "ticks": ""
            },
            "colorscale": [
             [
              0,
              "#0d0887"
             ],
             [
              0.1111111111111111,
              "#46039f"
             ],
             [
              0.2222222222222222,
              "#7201a8"
             ],
             [
              0.3333333333333333,
              "#9c179e"
             ],
             [
              0.4444444444444444,
              "#bd3786"
             ],
             [
              0.5555555555555556,
              "#d8576b"
             ],
             [
              0.6666666666666666,
              "#ed7953"
             ],
             [
              0.7777777777777778,
              "#fb9f3a"
             ],
             [
              0.8888888888888888,
              "#fdca26"
             ],
             [
              1,
              "#f0f921"
             ]
            ],
            "type": "histogram2d"
           }
          ],
          "histogram2dcontour": [
           {
            "colorbar": {
             "outlinewidth": 0,
             "ticks": ""
            },
            "colorscale": [
             [
              0,
              "#0d0887"
             ],
             [
              0.1111111111111111,
              "#46039f"
             ],
             [
              0.2222222222222222,
              "#7201a8"
             ],
             [
              0.3333333333333333,
              "#9c179e"
             ],
             [
              0.4444444444444444,
              "#bd3786"
             ],
             [
              0.5555555555555556,
              "#d8576b"
             ],
             [
              0.6666666666666666,
              "#ed7953"
             ],
             [
              0.7777777777777778,
              "#fb9f3a"
             ],
             [
              0.8888888888888888,
              "#fdca26"
             ],
             [
              1,
              "#f0f921"
             ]
            ],
            "type": "histogram2dcontour"
           }
          ],
          "mesh3d": [
           {
            "colorbar": {
             "outlinewidth": 0,
             "ticks": ""
            },
            "type": "mesh3d"
           }
          ],
          "parcoords": [
           {
            "line": {
             "colorbar": {
              "outlinewidth": 0,
              "ticks": ""
             }
            },
            "type": "parcoords"
           }
          ],
          "pie": [
           {
            "automargin": true,
            "type": "pie"
           }
          ],
          "scatter": [
           {
            "marker": {
             "colorbar": {
              "outlinewidth": 0,
              "ticks": ""
             }
            },
            "type": "scatter"
           }
          ],
          "scatter3d": [
           {
            "line": {
             "colorbar": {
              "outlinewidth": 0,
              "ticks": ""
             }
            },
            "marker": {
             "colorbar": {
              "outlinewidth": 0,
              "ticks": ""
             }
            },
            "type": "scatter3d"
           }
          ],
          "scattercarpet": [
           {
            "marker": {
             "colorbar": {
              "outlinewidth": 0,
              "ticks": ""
             }
            },
            "type": "scattercarpet"
           }
          ],
          "scattergeo": [
           {
            "marker": {
             "colorbar": {
              "outlinewidth": 0,
              "ticks": ""
             }
            },
            "type": "scattergeo"
           }
          ],
          "scattergl": [
           {
            "marker": {
             "colorbar": {
              "outlinewidth": 0,
              "ticks": ""
             }
            },
            "type": "scattergl"
           }
          ],
          "scattermapbox": [
           {
            "marker": {
             "colorbar": {
              "outlinewidth": 0,
              "ticks": ""
             }
            },
            "type": "scattermapbox"
           }
          ],
          "scatterpolar": [
           {
            "marker": {
             "colorbar": {
              "outlinewidth": 0,
              "ticks": ""
             }
            },
            "type": "scatterpolar"
           }
          ],
          "scatterpolargl": [
           {
            "marker": {
             "colorbar": {
              "outlinewidth": 0,
              "ticks": ""
             }
            },
            "type": "scatterpolargl"
           }
          ],
          "scatterternary": [
           {
            "marker": {
             "colorbar": {
              "outlinewidth": 0,
              "ticks": ""
             }
            },
            "type": "scatterternary"
           }
          ],
          "surface": [
           {
            "colorbar": {
             "outlinewidth": 0,
             "ticks": ""
            },
            "colorscale": [
             [
              0,
              "#0d0887"
             ],
             [
              0.1111111111111111,
              "#46039f"
             ],
             [
              0.2222222222222222,
              "#7201a8"
             ],
             [
              0.3333333333333333,
              "#9c179e"
             ],
             [
              0.4444444444444444,
              "#bd3786"
             ],
             [
              0.5555555555555556,
              "#d8576b"
             ],
             [
              0.6666666666666666,
              "#ed7953"
             ],
             [
              0.7777777777777778,
              "#fb9f3a"
             ],
             [
              0.8888888888888888,
              "#fdca26"
             ],
             [
              1,
              "#f0f921"
             ]
            ],
            "type": "surface"
           }
          ],
          "table": [
           {
            "cells": {
             "fill": {
              "color": "#EBF0F8"
             },
             "line": {
              "color": "white"
             }
            },
            "header": {
             "fill": {
              "color": "#C8D4E3"
             },
             "line": {
              "color": "white"
             }
            },
            "type": "table"
           }
          ]
         },
         "layout": {
          "annotationdefaults": {
           "arrowcolor": "#2a3f5f",
           "arrowhead": 0,
           "arrowwidth": 1
          },
          "autotypenumbers": "strict",
          "coloraxis": {
           "colorbar": {
            "outlinewidth": 0,
            "ticks": ""
           }
          },
          "colorscale": {
           "diverging": [
            [
             0,
             "#8e0152"
            ],
            [
             0.1,
             "#c51b7d"
            ],
            [
             0.2,
             "#de77ae"
            ],
            [
             0.3,
             "#f1b6da"
            ],
            [
             0.4,
             "#fde0ef"
            ],
            [
             0.5,
             "#f7f7f7"
            ],
            [
             0.6,
             "#e6f5d0"
            ],
            [
             0.7,
             "#b8e186"
            ],
            [
             0.8,
             "#7fbc41"
            ],
            [
             0.9,
             "#4d9221"
            ],
            [
             1,
             "#276419"
            ]
           ],
           "sequential": [
            [
             0,
             "#0d0887"
            ],
            [
             0.1111111111111111,
             "#46039f"
            ],
            [
             0.2222222222222222,
             "#7201a8"
            ],
            [
             0.3333333333333333,
             "#9c179e"
            ],
            [
             0.4444444444444444,
             "#bd3786"
            ],
            [
             0.5555555555555556,
             "#d8576b"
            ],
            [
             0.6666666666666666,
             "#ed7953"
            ],
            [
             0.7777777777777778,
             "#fb9f3a"
            ],
            [
             0.8888888888888888,
             "#fdca26"
            ],
            [
             1,
             "#f0f921"
            ]
           ],
           "sequentialminus": [
            [
             0,
             "#0d0887"
            ],
            [
             0.1111111111111111,
             "#46039f"
            ],
            [
             0.2222222222222222,
             "#7201a8"
            ],
            [
             0.3333333333333333,
             "#9c179e"
            ],
            [
             0.4444444444444444,
             "#bd3786"
            ],
            [
             0.5555555555555556,
             "#d8576b"
            ],
            [
             0.6666666666666666,
             "#ed7953"
            ],
            [
             0.7777777777777778,
             "#fb9f3a"
            ],
            [
             0.8888888888888888,
             "#fdca26"
            ],
            [
             1,
             "#f0f921"
            ]
           ]
          },
          "colorway": [
           "#636efa",
           "#EF553B",
           "#00cc96",
           "#ab63fa",
           "#FFA15A",
           "#19d3f3",
           "#FF6692",
           "#B6E880",
           "#FF97FF",
           "#FECB52"
          ],
          "font": {
           "color": "#2a3f5f"
          },
          "geo": {
           "bgcolor": "white",
           "lakecolor": "white",
           "landcolor": "#E5ECF6",
           "showlakes": true,
           "showland": true,
           "subunitcolor": "white"
          },
          "hoverlabel": {
           "align": "left"
          },
          "hovermode": "closest",
          "mapbox": {
           "style": "light"
          },
          "paper_bgcolor": "white",
          "plot_bgcolor": "#E5ECF6",
          "polar": {
           "angularaxis": {
            "gridcolor": "white",
            "linecolor": "white",
            "ticks": ""
           },
           "bgcolor": "#E5ECF6",
           "radialaxis": {
            "gridcolor": "white",
            "linecolor": "white",
            "ticks": ""
           }
          },
          "scene": {
           "xaxis": {
            "backgroundcolor": "#E5ECF6",
            "gridcolor": "white",
            "gridwidth": 2,
            "linecolor": "white",
            "showbackground": true,
            "ticks": "",
            "zerolinecolor": "white"
           },
           "yaxis": {
            "backgroundcolor": "#E5ECF6",
            "gridcolor": "white",
            "gridwidth": 2,
            "linecolor": "white",
            "showbackground": true,
            "ticks": "",
            "zerolinecolor": "white"
           },
           "zaxis": {
            "backgroundcolor": "#E5ECF6",
            "gridcolor": "white",
            "gridwidth": 2,
            "linecolor": "white",
            "showbackground": true,
            "ticks": "",
            "zerolinecolor": "white"
           }
          },
          "shapedefaults": {
           "line": {
            "color": "#2a3f5f"
           }
          },
          "ternary": {
           "aaxis": {
            "gridcolor": "white",
            "linecolor": "white",
            "ticks": ""
           },
           "baxis": {
            "gridcolor": "white",
            "linecolor": "white",
            "ticks": ""
           },
           "bgcolor": "#E5ECF6",
           "caxis": {
            "gridcolor": "white",
            "linecolor": "white",
            "ticks": ""
           }
          },
          "title": {
           "x": 0.05
          },
          "xaxis": {
           "automargin": true,
           "gridcolor": "white",
           "linecolor": "white",
           "ticks": "",
           "title": {
            "standoff": 15
           },
           "zerolinecolor": "white",
           "zerolinewidth": 2
          },
          "yaxis": {
           "automargin": true,
           "gridcolor": "white",
           "linecolor": "white",
           "ticks": "",
           "title": {
            "standoff": 15
           },
           "zerolinecolor": "white",
           "zerolinewidth": 2
          }
         }
        },
        "width": 1000,
        "xaxis": {
         "fixedrange": true,
         "gridcolor": "#1f292f",
         "rangeslider": {
          "visible": false
         },
         "showgrid": true
        },
        "yaxis": {
         "fixedrange": true,
         "gridcolor": "#1f292f",
         "showgrid": true
        }
       }
      }
     },
     "metadata": {}
    }
   ],
   "metadata": {}
  },
  {
   "cell_type": "markdown",
   "source": [
    "用數據說話，不要用肉眼看!!!"
   ],
   "metadata": {}
  }
 ],
 "metadata": {
  "orig_nbformat": 4,
  "language_info": {
   "name": "python",
   "version": "3.9.7",
   "mimetype": "text/x-python",
   "codemirror_mode": {
    "name": "ipython",
    "version": 3
   },
   "pygments_lexer": "ipython3",
   "nbconvert_exporter": "python",
   "file_extension": ".py"
  },
  "kernelspec": {
   "name": "python3",
   "display_name": "Python 3.9.7 64-bit ('venv': venv)"
  },
  "interpreter": {
   "hash": "b0b5f533ece29e619ef82558aa36dc65e23f2612523c2030a9b8c4d2f5e86771"
  }
 },
 "nbformat": 4,
 "nbformat_minor": 2
}