{
 "cells": [
  {
   "cell_type": "code",
   "execution_count": 1,
   "source": [
    "import requests\r\n",
    "import defs"
   ],
   "outputs": [],
   "metadata": {}
  },
  {
   "cell_type": "code",
   "execution_count": 2,
   "source": [
    "# 如果要找 500 筆資料，每次都跟網站 request 一次只會讓速度變慢\r\n",
    "# 因此，可以用 requests 裡的 Session 物件\r\n",
    "session = requests.Session()"
   ],
   "outputs": [],
   "metadata": {}
  },
  {
   "cell_type": "code",
   "execution_count": 4,
   "source": [
    "instrument = 'EUR_USD' \r\n",
    "count = 10 # 找 10 筆資料\r\n",
    "granularity = 'H1' # 1 小時圖"
   ],
   "outputs": [],
   "metadata": {}
  },
  {
   "cell_type": "markdown",
   "source": [
    "到 [ONNDA API 的網站查看他們的規定](https://developer.oanda.com/rest-live-v20/instrument-ep/)  \r\n",
    "發現 Instrument Endpoints 的規則是:  \r\n",
    "https://api-fxtrade.oanda.com/v3/ + /instruments/instrument (客製化)/candles + ....."
   ],
   "metadata": {}
  },
  {
   "cell_type": "code",
   "execution_count": 7,
   "source": [
    "url = f'{defs.OANDA_URL}instruments/{instrument}/candles'"
   ],
   "outputs": [],
   "metadata": {}
  },
  {
   "cell_type": "code",
   "execution_count": 10,
   "source": [
    "url"
   ],
   "outputs": [
    {
     "output_type": "execute_result",
     "data": {
      "text/plain": [
       "'https://api-fxpractice.oanda.com/v3/instruments/EUR_USD/candles'"
      ]
     },
     "metadata": {},
     "execution_count": 10
    }
   ],
   "metadata": {}
  },
  {
   "cell_type": "code",
   "execution_count": 12,
   "source": [
    "params = dict(\r\n",
    "    count = count, \r\n",
    "    granularity = granularity,\r\n",
    "    price = 'MBA' # M: midpoint, B: bid, A: ask\r\n",
    ")"
   ],
   "outputs": [],
   "metadata": {}
  },
  {
   "cell_type": "code",
   "execution_count": 14,
   "source": [
    "params"
   ],
   "outputs": [
    {
     "output_type": "execute_result",
     "data": {
      "text/plain": [
       "{'count': 10, 'granularity': 'H1', 'price': 'MBA'}"
      ]
     },
     "metadata": {},
     "execution_count": 14
    }
   ],
   "metadata": {}
  },
  {
   "cell_type": "code",
   "execution_count": 16,
   "source": [
    "response = session.get(url, params=params, headers=defs.SECURE_HEADER)"
   ],
   "outputs": [],
   "metadata": {}
  },
  {
   "cell_type": "code",
   "execution_count": 19,
   "source": [
    "response.status_code"
   ],
   "outputs": [
    {
     "output_type": "execute_result",
     "data": {
      "text/plain": [
       "200"
      ]
     },
     "metadata": {},
     "execution_count": 19
    }
   ],
   "metadata": {}
  },
  {
   "cell_type": "code",
   "execution_count": 23,
   "source": [
    "response.json()\r\n",
    "# 回傳一個 json 物件，裡面有:\r\n",
    "# instrument: 貨幣對\r\n",
    "# granularity: 哪一個 time frame\r\n",
    "# candles: \r\n",
    "    # 一個 list，裡面放字典\r\n",
    "    # 字典裡面放各個 candle 的資料\r\n",
    "# 注意到最後一筆資料的 complete 是 false"
   ],
   "outputs": [
    {
     "output_type": "execute_result",
     "data": {
      "text/plain": [
       "{'instrument': 'EUR_USD',\n",
       " 'granularity': 'H1',\n",
       " 'candles': [{'complete': True,\n",
       "   'volume': 1440,\n",
       "   'time': '2021-09-07T04:00:00.000000000Z',\n",
       "   'bid': {'o': '1.18779', 'h': '1.18816', 'l': '1.18743', 'c': '1.18747'},\n",
       "   'mid': {'o': '1.18786', 'h': '1.18824', 'l': '1.18750', 'c': '1.18754'},\n",
       "   'ask': {'o': '1.18793', 'h': '1.18832', 'l': '1.18757', 'c': '1.18761'}},\n",
       "  {'complete': True,\n",
       "   'volume': 1908,\n",
       "   'time': '2021-09-07T05:00:00.000000000Z',\n",
       "   'bid': {'o': '1.18749', 'h': '1.18750', 'l': '1.18700', 'c': '1.18706'},\n",
       "   'mid': {'o': '1.18756', 'h': '1.18756', 'l': '1.18708', 'c': '1.18713'},\n",
       "   'ask': {'o': '1.18763', 'h': '1.18763', 'l': '1.18715', 'c': '1.18720'}},\n",
       "  {'complete': True,\n",
       "   'volume': 3386,\n",
       "   'time': '2021-09-07T06:00:00.000000000Z',\n",
       "   'bid': {'o': '1.18706', 'h': '1.18736', 'l': '1.18622', 'c': '1.18707'},\n",
       "   'mid': {'o': '1.18714', 'h': '1.18743', 'l': '1.18630', 'c': '1.18713'},\n",
       "   'ask': {'o': '1.18723', 'h': '1.18750', 'l': '1.18636', 'c': '1.18719'}},\n",
       "  {'complete': True,\n",
       "   'volume': 4669,\n",
       "   'time': '2021-09-07T07:00:00.000000000Z',\n",
       "   'bid': {'o': '1.18705', 'h': '1.18819', 'l': '1.18659', 'c': '1.18757'},\n",
       "   'mid': {'o': '1.18712', 'h': '1.18825', 'l': '1.18666', 'c': '1.18764'},\n",
       "   'ask': {'o': '1.18719', 'h': '1.18831', 'l': '1.18673', 'c': '1.18770'}},\n",
       "  {'complete': True,\n",
       "   'volume': 4836,\n",
       "   'time': '2021-09-07T08:00:00.000000000Z',\n",
       "   'bid': {'o': '1.18758', 'h': '1.18759', 'l': '1.18590', 'c': '1.18753'},\n",
       "   'mid': {'o': '1.18764', 'h': '1.18765', 'l': '1.18597', 'c': '1.18761'},\n",
       "   'ask': {'o': '1.18771', 'h': '1.18771', 'l': '1.18604', 'c': '1.18769'}},\n",
       "  {'complete': True,\n",
       "   'volume': 5387,\n",
       "   'time': '2021-09-07T09:00:00.000000000Z',\n",
       "   'bid': {'o': '1.18750', 'h': '1.18797', 'l': '1.18617', 'c': '1.18651'},\n",
       "   'mid': {'o': '1.18760', 'h': '1.18804', 'l': '1.18624', 'c': '1.18658'},\n",
       "   'ask': {'o': '1.18769', 'h': '1.18811', 'l': '1.18630', 'c': '1.18664'}},\n",
       "  {'complete': True,\n",
       "   'volume': 4620,\n",
       "   'time': '2021-09-07T10:00:00.000000000Z',\n",
       "   'bid': {'o': '1.18652', 'h': '1.18746', 'l': '1.18611', 'c': '1.18741'},\n",
       "   'mid': {'o': '1.18658', 'h': '1.18752', 'l': '1.18618', 'c': '1.18748'},\n",
       "   'ask': {'o': '1.18665', 'h': '1.18759', 'l': '1.18624', 'c': '1.18754'}},\n",
       "  {'complete': True,\n",
       "   'volume': 4421,\n",
       "   'time': '2021-09-07T11:00:00.000000000Z',\n",
       "   'bid': {'o': '1.18740', 'h': '1.18762', 'l': '1.18576', 'c': '1.18608'},\n",
       "   'mid': {'o': '1.18746', 'h': '1.18768', 'l': '1.18582', 'c': '1.18614'},\n",
       "   'ask': {'o': '1.18753', 'h': '1.18774', 'l': '1.18587', 'c': '1.18621'}},\n",
       "  {'complete': True,\n",
       "   'volume': 4916,\n",
       "   'time': '2021-09-07T12:00:00.000000000Z',\n",
       "   'bid': {'o': '1.18609', 'h': '1.18645', 'l': '1.18488', 'c': '1.18500'},\n",
       "   'mid': {'o': '1.18616', 'h': '1.18652', 'l': '1.18495', 'c': '1.18507'},\n",
       "   'ask': {'o': '1.18622', 'h': '1.18658', 'l': '1.18502', 'c': '1.18514'}},\n",
       "  {'complete': False,\n",
       "   'volume': 2545,\n",
       "   'time': '2021-09-07T13:00:00.000000000Z',\n",
       "   'bid': {'o': '1.18499', 'h': '1.18521', 'l': '1.18438', 'c': '1.18442'},\n",
       "   'mid': {'o': '1.18506', 'h': '1.18528', 'l': '1.18444', 'c': '1.18448'},\n",
       "   'ask': {'o': '1.18513', 'h': '1.18534', 'l': '1.18450', 'c': '1.18455'}}]}"
      ]
     },
     "metadata": {},
     "execution_count": 23
    }
   ],
   "metadata": {}
  },
  {
   "cell_type": "code",
   "execution_count": null,
   "source": [],
   "outputs": [],
   "metadata": {}
  }
 ],
 "metadata": {
  "orig_nbformat": 4,
  "language_info": {
   "name": "python",
   "version": "3.9.7",
   "mimetype": "text/x-python",
   "codemirror_mode": {
    "name": "ipython",
    "version": 3
   },
   "pygments_lexer": "ipython3",
   "nbconvert_exporter": "python",
   "file_extension": ".py"
  },
  "kernelspec": {
   "name": "python3",
   "display_name": "Python 3.9.7 64-bit ('venv': venv)"
  },
  "interpreter": {
   "hash": "b0b5f533ece29e619ef82558aa36dc65e23f2612523c2030a9b8c4d2f5e86771"
  }
 },
 "nbformat": 4,
 "nbformat_minor": 2
}