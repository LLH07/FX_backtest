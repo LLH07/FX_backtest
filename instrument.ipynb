{
 "cells": [
  {
   "cell_type": "markdown",
   "source": [
    "## 這份檔案是基於 ```test.ipynb```，只是刪除部分細項"
   ],
   "metadata": {}
  },
  {
   "cell_type": "markdown",
   "source": [
    "上次的 ```test.ipynb``` 讀取的是所有資料  \r\n",
    "這份檔案則是要連結到 demo account"
   ],
   "metadata": {}
  },
  {
   "cell_type": "markdown",
   "source": [
    "到 [新的關於 demo account 可用的 API 網頁(https://developer.oanda.com/rest-live-v20/account-ep/)  \r\n",
    "並修改下方的 url 變數"
   ],
   "metadata": {}
  },
  {
   "cell_type": "code",
   "execution_count": 4,
   "source": [
    "import requests\r\n",
    "import defs"
   ],
   "outputs": [],
   "metadata": {}
  },
  {
   "cell_type": "code",
   "execution_count": 6,
   "source": [
    "# 如果要找 500 筆資料，每次都跟網站 request 一次只會讓速度變慢\r\n",
    "# 因此，可以用 requests 裡的 Session 物件\r\n",
    "session = requests.Session()"
   ],
   "outputs": [],
   "metadata": {}
  },
  {
   "cell_type": "markdown",
   "source": [
    "到 [ONNDA API 的網站查看他們的規定](https://developer.oanda.com/rest-live-v20/instrument-ep/)  \r\n",
    "發現 Instrument Endpoints 的規則是:  \r\n",
    "https://api-fxtrade.oanda.com/v3/ + /instruments/instrument (客製化)/candles + ....."
   ],
   "metadata": {}
  },
  {
   "cell_type": "code",
   "execution_count": 8,
   "source": [
    "url = f'{defs.OANDA_URL}accounts/{defs.ACCOUNT_ID}/instruments'"
   ],
   "outputs": [],
   "metadata": {}
  },
  {
   "cell_type": "code",
   "execution_count": 10,
   "source": [
    "url"
   ],
   "outputs": [
    {
     "output_type": "execute_result",
     "data": {
      "text/plain": [
       "'https://api-fxpractice.oanda.com/v3/accounts/101-001-20505319-001/instruments'"
      ]
     },
     "metadata": {},
     "execution_count": 10
    }
   ],
   "metadata": {}
  },
  {
   "cell_type": "code",
   "execution_count": 14,
   "source": [
    "response = session.get(url, params=None, headers=defs.SECURE_HEADER)"
   ],
   "outputs": [],
   "metadata": {}
  },
  {
   "cell_type": "code",
   "execution_count": 16,
   "source": [
    "response.status_code # 成功取得資料 (200 的定義可以在 OANDA API 網站上查閱)"
   ],
   "outputs": [
    {
     "output_type": "execute_result",
     "data": {
      "text/plain": [
       "200"
      ]
     },
     "metadata": {},
     "execution_count": 16
    }
   ],
   "metadata": {}
  },
  {
   "cell_type": "code",
   "execution_count": 22,
   "source": [
    "data = response.json()"
   ],
   "outputs": [],
   "metadata": {}
  },
  {
   "cell_type": "code",
   "execution_count": 25,
   "source": [
    "type(data)"
   ],
   "outputs": [
    {
     "output_type": "execute_result",
     "data": {
      "text/plain": [
       "dict"
      ]
     },
     "metadata": {},
     "execution_count": 25
    }
   ],
   "metadata": {}
  },
  {
   "cell_type": "code",
   "execution_count": 28,
   "source": [
    "data.keys() # we want the instruments key"
   ],
   "outputs": [
    {
     "output_type": "execute_result",
     "data": {
      "text/plain": [
       "dict_keys(['instruments', 'lastTransactionID'])"
      ]
     },
     "metadata": {},
     "execution_count": 28
    }
   ],
   "metadata": {}
  },
  {
   "cell_type": "code",
   "execution_count": 61,
   "source": [
    "instruments = data['instruments']\r\n",
    "print(type(instruments)) # a dict\r\n",
    "len(instruments) # Demo account 可以交易 68 種商品"
   ],
   "outputs": [
    {
     "output_type": "stream",
     "name": "stdout",
     "text": [
      "<class 'list'>\n"
     ]
    },
    {
     "output_type": "execute_result",
     "data": {
      "text/plain": [
       "68"
      ]
     },
     "metadata": {},
     "execution_count": 61
    }
   ],
   "metadata": {}
  },
  {
   "cell_type": "code",
   "execution_count": 64,
   "source": [
    "print(instruments[0])\r\n",
    "type(instruments[0]) # still a dict"
   ],
   "outputs": [
    {
     "output_type": "stream",
     "name": "stdout",
     "text": [
      "{'name': 'ZAR_JPY', 'type': 'CURRENCY', 'displayName': 'ZAR/JPY', 'pipLocation': -2, 'displayPrecision': 3, 'tradeUnitsPrecision': 0, 'minimumTradeSize': '1', 'maximumTrailingStopDistance': '100.000', 'minimumTrailingStopDistance': '0.005', 'maximumPositionSize': '0', 'maximumOrderUnits': '100000000', 'marginRate': '0.07', 'guaranteedStopLossOrderMode': 'DISABLED', 'tags': [{'type': 'ASSET_CLASS', 'name': 'CURRENCY'}], 'financing': {'longRate': '0.0242', 'shortRate': '-0.0761', 'financingDaysOfWeek': [{'dayOfWeek': 'MONDAY', 'daysCharged': 1}, {'dayOfWeek': 'TUESDAY', 'daysCharged': 1}, {'dayOfWeek': 'WEDNESDAY', 'daysCharged': 1}, {'dayOfWeek': 'THURSDAY', 'daysCharged': 1}, {'dayOfWeek': 'FRIDAY', 'daysCharged': 1}, {'dayOfWeek': 'SATURDAY', 'daysCharged': 0}, {'dayOfWeek': 'SUNDAY', 'daysCharged': 0}]}}\n"
     ]
    },
    {
     "output_type": "execute_result",
     "data": {
      "text/plain": [
       "dict"
      ]
     },
     "metadata": {},
     "execution_count": 64
    }
   ],
   "metadata": {}
  },
  {
   "cell_type": "code",
   "execution_count": 55,
   "source": [
    "instruments[0].keys()"
   ],
   "outputs": [
    {
     "output_type": "execute_result",
     "data": {
      "text/plain": [
       "dict_keys(['name', 'type', 'displayName', 'pipLocation', 'displayPrecision', 'tradeUnitsPrecision', 'minimumTradeSize', 'maximumTrailingStopDistance', 'minimumTrailingStopDistance', 'maximumPositionSize', 'maximumOrderUnits', 'marginRate', 'guaranteedStopLossOrderMode', 'tags', 'financing'])"
      ]
     },
     "metadata": {},
     "execution_count": 55
    }
   ],
   "metadata": {}
  },
  {
   "cell_type": "code",
   "execution_count": 71,
   "source": [
    "instrument_data =[] \r\n",
    "for item in instruments: # 將可交易的商品迴圈，並把各商品的名稱、margin rate 等存起來\r\n",
    "    new_ob = dict(\r\n",
    "        name = item['name'],\r\n",
    "        type = item['type'],\r\n",
    "        displayName = item['displayName'],\r\n",
    "        pipLocation = item['pipLocation'],\r\n",
    "        marginRate = item['marginRate']\r\n",
    "    )\r\n",
    "    instrument_data.append(new_ob) # list 裡面放入 dict"
   ],
   "outputs": [],
   "metadata": {}
  },
  {
   "cell_type": "code",
   "execution_count": 81,
   "source": [
    "for item in instrument_data[0:3]:\r\n",
    "    print(item)"
   ],
   "outputs": [
    {
     "output_type": "stream",
     "name": "stdout",
     "text": [
      "{'name': 'ZAR_JPY', 'type': 'CURRENCY', 'displayName': 'ZAR/JPY', 'pipLocation': -2, 'marginRate': '0.07'}\n",
      "{'name': 'EUR_HUF', 'type': 'CURRENCY', 'displayName': 'EUR/HUF', 'pipLocation': -2, 'marginRate': '0.05'}\n",
      "{'name': 'EUR_DKK', 'type': 'CURRENCY', 'displayName': 'EUR/DKK', 'pipLocation': -4, 'marginRate': '0.1'}\n"
     ]
    }
   ],
   "metadata": {}
  },
  {
   "cell_type": "markdown",
   "source": [
    "## 將資料放入 data frame:"
   ],
   "metadata": {}
  },
  {
   "cell_type": "code",
   "execution_count": 86,
   "source": [
    "import pandas as pd"
   ],
   "outputs": [],
   "metadata": {}
  },
  {
   "cell_type": "code",
   "execution_count": 87,
   "source": [
    "instrument_df = pd.DataFrame.from_dict(instrument_data)"
   ],
   "outputs": [],
   "metadata": {}
  },
  {
   "cell_type": "code",
   "execution_count": 88,
   "source": [
    "instrument_df"
   ],
   "outputs": [
    {
     "output_type": "execute_result",
     "data": {
      "text/html": [
       "<div>\n",
       "<style scoped>\n",
       "    .dataframe tbody tr th:only-of-type {\n",
       "        vertical-align: middle;\n",
       "    }\n",
       "\n",
       "    .dataframe tbody tr th {\n",
       "        vertical-align: top;\n",
       "    }\n",
       "\n",
       "    .dataframe thead th {\n",
       "        text-align: right;\n",
       "    }\n",
       "</style>\n",
       "<table border=\"1\" class=\"dataframe\">\n",
       "  <thead>\n",
       "    <tr style=\"text-align: right;\">\n",
       "      <th></th>\n",
       "      <th>name</th>\n",
       "      <th>type</th>\n",
       "      <th>displayName</th>\n",
       "      <th>pipLocation</th>\n",
       "      <th>marginRate</th>\n",
       "    </tr>\n",
       "  </thead>\n",
       "  <tbody>\n",
       "    <tr>\n",
       "      <th>0</th>\n",
       "      <td>ZAR_JPY</td>\n",
       "      <td>CURRENCY</td>\n",
       "      <td>ZAR/JPY</td>\n",
       "      <td>-2</td>\n",
       "      <td>0.07</td>\n",
       "    </tr>\n",
       "    <tr>\n",
       "      <th>1</th>\n",
       "      <td>EUR_HUF</td>\n",
       "      <td>CURRENCY</td>\n",
       "      <td>EUR/HUF</td>\n",
       "      <td>-2</td>\n",
       "      <td>0.05</td>\n",
       "    </tr>\n",
       "    <tr>\n",
       "      <th>2</th>\n",
       "      <td>EUR_DKK</td>\n",
       "      <td>CURRENCY</td>\n",
       "      <td>EUR/DKK</td>\n",
       "      <td>-4</td>\n",
       "      <td>0.1</td>\n",
       "    </tr>\n",
       "    <tr>\n",
       "      <th>3</th>\n",
       "      <td>USD_MXN</td>\n",
       "      <td>CURRENCY</td>\n",
       "      <td>USD/MXN</td>\n",
       "      <td>-4</td>\n",
       "      <td>0.10</td>\n",
       "    </tr>\n",
       "    <tr>\n",
       "      <th>4</th>\n",
       "      <td>GBP_USD</td>\n",
       "      <td>CURRENCY</td>\n",
       "      <td>GBP/USD</td>\n",
       "      <td>-4</td>\n",
       "      <td>0.03</td>\n",
       "    </tr>\n",
       "    <tr>\n",
       "      <th>...</th>\n",
       "      <td>...</td>\n",
       "      <td>...</td>\n",
       "      <td>...</td>\n",
       "      <td>...</td>\n",
       "      <td>...</td>\n",
       "    </tr>\n",
       "    <tr>\n",
       "      <th>63</th>\n",
       "      <td>USD_PLN</td>\n",
       "      <td>CURRENCY</td>\n",
       "      <td>USD/PLN</td>\n",
       "      <td>-4</td>\n",
       "      <td>0.05</td>\n",
       "    </tr>\n",
       "    <tr>\n",
       "      <th>64</th>\n",
       "      <td>CAD_HKD</td>\n",
       "      <td>CURRENCY</td>\n",
       "      <td>CAD/HKD</td>\n",
       "      <td>-4</td>\n",
       "      <td>0.1</td>\n",
       "    </tr>\n",
       "    <tr>\n",
       "      <th>65</th>\n",
       "      <td>GBP_CAD</td>\n",
       "      <td>CURRENCY</td>\n",
       "      <td>GBP/CAD</td>\n",
       "      <td>-4</td>\n",
       "      <td>0.03</td>\n",
       "    </tr>\n",
       "    <tr>\n",
       "      <th>66</th>\n",
       "      <td>GBP_PLN</td>\n",
       "      <td>CURRENCY</td>\n",
       "      <td>GBP/PLN</td>\n",
       "      <td>-4</td>\n",
       "      <td>0.03</td>\n",
       "    </tr>\n",
       "    <tr>\n",
       "      <th>67</th>\n",
       "      <td>EUR_NOK</td>\n",
       "      <td>CURRENCY</td>\n",
       "      <td>EUR/NOK</td>\n",
       "      <td>-4</td>\n",
       "      <td>0.07</td>\n",
       "    </tr>\n",
       "  </tbody>\n",
       "</table>\n",
       "<p>68 rows × 5 columns</p>\n",
       "</div>"
      ],
      "text/plain": [
       "       name      type displayName  pipLocation marginRate\n",
       "0   ZAR_JPY  CURRENCY     ZAR/JPY           -2       0.07\n",
       "1   EUR_HUF  CURRENCY     EUR/HUF           -2       0.05\n",
       "2   EUR_DKK  CURRENCY     EUR/DKK           -4        0.1\n",
       "3   USD_MXN  CURRENCY     USD/MXN           -4       0.10\n",
       "4   GBP_USD  CURRENCY     GBP/USD           -4       0.03\n",
       "..      ...       ...         ...          ...        ...\n",
       "63  USD_PLN  CURRENCY     USD/PLN           -4       0.05\n",
       "64  CAD_HKD  CURRENCY     CAD/HKD           -4        0.1\n",
       "65  GBP_CAD  CURRENCY     GBP/CAD           -4       0.03\n",
       "66  GBP_PLN  CURRENCY     GBP/PLN           -4       0.03\n",
       "67  EUR_NOK  CURRENCY     EUR/NOK           -4       0.07\n",
       "\n",
       "[68 rows x 5 columns]"
      ]
     },
     "metadata": {},
     "execution_count": 88
    }
   ],
   "metadata": {}
  },
  {
   "cell_type": "code",
   "execution_count": 89,
   "source": [
    "instrument_df.to_pickle(\"instruments.pkl\")\r\n",
    "# pkl: binary bits format provided by pandas"
   ],
   "outputs": [],
   "metadata": {}
  },
  {
   "cell_type": "markdown",
   "source": [
    "## 存入檔案後，之後就不用每次都向 OANDA 官網 request 資訊了"
   ],
   "metadata": {}
  },
  {
   "cell_type": "code",
   "execution_count": 91,
   "source": [
    "new_table = pd.read_pickle('instruments.pkl')"
   ],
   "outputs": [],
   "metadata": {}
  },
  {
   "cell_type": "code",
   "execution_count": 92,
   "source": [
    "new_table"
   ],
   "outputs": [
    {
     "output_type": "execute_result",
     "data": {
      "text/html": [
       "<div>\n",
       "<style scoped>\n",
       "    .dataframe tbody tr th:only-of-type {\n",
       "        vertical-align: middle;\n",
       "    }\n",
       "\n",
       "    .dataframe tbody tr th {\n",
       "        vertical-align: top;\n",
       "    }\n",
       "\n",
       "    .dataframe thead th {\n",
       "        text-align: right;\n",
       "    }\n",
       "</style>\n",
       "<table border=\"1\" class=\"dataframe\">\n",
       "  <thead>\n",
       "    <tr style=\"text-align: right;\">\n",
       "      <th></th>\n",
       "      <th>name</th>\n",
       "      <th>type</th>\n",
       "      <th>displayName</th>\n",
       "      <th>pipLocation</th>\n",
       "      <th>marginRate</th>\n",
       "    </tr>\n",
       "  </thead>\n",
       "  <tbody>\n",
       "    <tr>\n",
       "      <th>0</th>\n",
       "      <td>ZAR_JPY</td>\n",
       "      <td>CURRENCY</td>\n",
       "      <td>ZAR/JPY</td>\n",
       "      <td>-2</td>\n",
       "      <td>0.07</td>\n",
       "    </tr>\n",
       "    <tr>\n",
       "      <th>1</th>\n",
       "      <td>EUR_HUF</td>\n",
       "      <td>CURRENCY</td>\n",
       "      <td>EUR/HUF</td>\n",
       "      <td>-2</td>\n",
       "      <td>0.05</td>\n",
       "    </tr>\n",
       "    <tr>\n",
       "      <th>2</th>\n",
       "      <td>EUR_DKK</td>\n",
       "      <td>CURRENCY</td>\n",
       "      <td>EUR/DKK</td>\n",
       "      <td>-4</td>\n",
       "      <td>0.1</td>\n",
       "    </tr>\n",
       "    <tr>\n",
       "      <th>3</th>\n",
       "      <td>USD_MXN</td>\n",
       "      <td>CURRENCY</td>\n",
       "      <td>USD/MXN</td>\n",
       "      <td>-4</td>\n",
       "      <td>0.10</td>\n",
       "    </tr>\n",
       "    <tr>\n",
       "      <th>4</th>\n",
       "      <td>GBP_USD</td>\n",
       "      <td>CURRENCY</td>\n",
       "      <td>GBP/USD</td>\n",
       "      <td>-4</td>\n",
       "      <td>0.03</td>\n",
       "    </tr>\n",
       "    <tr>\n",
       "      <th>...</th>\n",
       "      <td>...</td>\n",
       "      <td>...</td>\n",
       "      <td>...</td>\n",
       "      <td>...</td>\n",
       "      <td>...</td>\n",
       "    </tr>\n",
       "    <tr>\n",
       "      <th>63</th>\n",
       "      <td>USD_PLN</td>\n",
       "      <td>CURRENCY</td>\n",
       "      <td>USD/PLN</td>\n",
       "      <td>-4</td>\n",
       "      <td>0.05</td>\n",
       "    </tr>\n",
       "    <tr>\n",
       "      <th>64</th>\n",
       "      <td>CAD_HKD</td>\n",
       "      <td>CURRENCY</td>\n",
       "      <td>CAD/HKD</td>\n",
       "      <td>-4</td>\n",
       "      <td>0.1</td>\n",
       "    </tr>\n",
       "    <tr>\n",
       "      <th>65</th>\n",
       "      <td>GBP_CAD</td>\n",
       "      <td>CURRENCY</td>\n",
       "      <td>GBP/CAD</td>\n",
       "      <td>-4</td>\n",
       "      <td>0.03</td>\n",
       "    </tr>\n",
       "    <tr>\n",
       "      <th>66</th>\n",
       "      <td>GBP_PLN</td>\n",
       "      <td>CURRENCY</td>\n",
       "      <td>GBP/PLN</td>\n",
       "      <td>-4</td>\n",
       "      <td>0.03</td>\n",
       "    </tr>\n",
       "    <tr>\n",
       "      <th>67</th>\n",
       "      <td>EUR_NOK</td>\n",
       "      <td>CURRENCY</td>\n",
       "      <td>EUR/NOK</td>\n",
       "      <td>-4</td>\n",
       "      <td>0.07</td>\n",
       "    </tr>\n",
       "  </tbody>\n",
       "</table>\n",
       "<p>68 rows × 5 columns</p>\n",
       "</div>"
      ],
      "text/plain": [
       "       name      type displayName  pipLocation marginRate\n",
       "0   ZAR_JPY  CURRENCY     ZAR/JPY           -2       0.07\n",
       "1   EUR_HUF  CURRENCY     EUR/HUF           -2       0.05\n",
       "2   EUR_DKK  CURRENCY     EUR/DKK           -4        0.1\n",
       "3   USD_MXN  CURRENCY     USD/MXN           -4       0.10\n",
       "4   GBP_USD  CURRENCY     GBP/USD           -4       0.03\n",
       "..      ...       ...         ...          ...        ...\n",
       "63  USD_PLN  CURRENCY     USD/PLN           -4       0.05\n",
       "64  CAD_HKD  CURRENCY     CAD/HKD           -4        0.1\n",
       "65  GBP_CAD  CURRENCY     GBP/CAD           -4       0.03\n",
       "66  GBP_PLN  CURRENCY     GBP/PLN           -4       0.03\n",
       "67  EUR_NOK  CURRENCY     EUR/NOK           -4       0.07\n",
       "\n",
       "[68 rows x 5 columns]"
      ]
     },
     "metadata": {},
     "execution_count": 92
    }
   ],
   "metadata": {}
  },
  {
   "cell_type": "code",
   "execution_count": null,
   "source": [],
   "outputs": [],
   "metadata": {}
  }
 ],
 "metadata": {
  "orig_nbformat": 4,
  "language_info": {
   "name": "python",
   "version": "3.9.7",
   "mimetype": "text/x-python",
   "codemirror_mode": {
    "name": "ipython",
    "version": 3
   },
   "pygments_lexer": "ipython3",
   "nbconvert_exporter": "python",
   "file_extension": ".py"
  },
  "kernelspec": {
   "name": "python3",
   "display_name": "Python 3.9.7 64-bit ('venv': venv)"
  },
  "interpreter": {
   "hash": "b0b5f533ece29e619ef82558aa36dc65e23f2612523c2030a9b8c4d2f5e86771"
  }
 },
 "nbformat": 4,
 "nbformat_minor": 2
}