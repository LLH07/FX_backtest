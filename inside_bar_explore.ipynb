{
 "cells": [
  {
   "cell_type": "code",
   "execution_count": 1,
   "source": [
    "import pandas as pd\r\n",
    "import plotly.graph_objects as go # 可以畫 candle 圖的套件\r\n",
    "import utils"
   ],
   "outputs": [],
   "metadata": {}
  },
  {
   "cell_type": "code",
   "execution_count": 3,
   "source": [
    "pair = \"USD_JPY\"\r\n",
    "granularity = \"H4\"\r\n",
    "\r\n",
    "df_raw = pd.read_pickle(utils.get_his_data_filename(pair, granularity))"
   ],
   "outputs": [],
   "metadata": {}
  },
  {
   "cell_type": "code",
   "execution_count": 5,
   "source": [
    "df_raw.head()"
   ],
   "outputs": [
    {
     "output_type": "execute_result",
     "data": {
      "text/html": [
       "<div>\n",
       "<style scoped>\n",
       "    .dataframe tbody tr th:only-of-type {\n",
       "        vertical-align: middle;\n",
       "    }\n",
       "\n",
       "    .dataframe tbody tr th {\n",
       "        vertical-align: top;\n",
       "    }\n",
       "\n",
       "    .dataframe thead th {\n",
       "        text-align: right;\n",
       "    }\n",
       "</style>\n",
       "<table border=\"1\" class=\"dataframe\">\n",
       "  <thead>\n",
       "    <tr style=\"text-align: right;\">\n",
       "      <th></th>\n",
       "      <th>time</th>\n",
       "      <th>volume</th>\n",
       "      <th>mid_o</th>\n",
       "      <th>mid_h</th>\n",
       "      <th>mid_l</th>\n",
       "      <th>mid_c</th>\n",
       "      <th>bid_o</th>\n",
       "      <th>bid_h</th>\n",
       "      <th>bid_l</th>\n",
       "      <th>bid_c</th>\n",
       "      <th>ask_o</th>\n",
       "      <th>ask_h</th>\n",
       "      <th>ask_l</th>\n",
       "      <th>ask_c</th>\n",
       "    </tr>\n",
       "  </thead>\n",
       "  <tbody>\n",
       "    <tr>\n",
       "      <th>0</th>\n",
       "      <td>2018-01-01T22:00:00.000000000Z</td>\n",
       "      <td>2968</td>\n",
       "      <td>112.666</td>\n",
       "      <td>112.793</td>\n",
       "      <td>112.582</td>\n",
       "      <td>112.723</td>\n",
       "      <td>112.626</td>\n",
       "      <td>112.786</td>\n",
       "      <td>112.559</td>\n",
       "      <td>112.716</td>\n",
       "      <td>112.706</td>\n",
       "      <td>112.800</td>\n",
       "      <td>112.601</td>\n",
       "      <td>112.730</td>\n",
       "    </tr>\n",
       "    <tr>\n",
       "      <th>1</th>\n",
       "      <td>2018-01-02T02:00:00.000000000Z</td>\n",
       "      <td>1009</td>\n",
       "      <td>112.720</td>\n",
       "      <td>112.751</td>\n",
       "      <td>112.666</td>\n",
       "      <td>112.688</td>\n",
       "      <td>112.712</td>\n",
       "      <td>112.744</td>\n",
       "      <td>112.657</td>\n",
       "      <td>112.683</td>\n",
       "      <td>112.728</td>\n",
       "      <td>112.758</td>\n",
       "      <td>112.674</td>\n",
       "      <td>112.694</td>\n",
       "    </tr>\n",
       "    <tr>\n",
       "      <th>2</th>\n",
       "      <td>2018-01-02T06:00:00.000000000Z</td>\n",
       "      <td>2226</td>\n",
       "      <td>112.691</td>\n",
       "      <td>112.700</td>\n",
       "      <td>112.249</td>\n",
       "      <td>112.252</td>\n",
       "      <td>112.684</td>\n",
       "      <td>112.694</td>\n",
       "      <td>112.242</td>\n",
       "      <td>112.245</td>\n",
       "      <td>112.698</td>\n",
       "      <td>112.705</td>\n",
       "      <td>112.256</td>\n",
       "      <td>112.258</td>\n",
       "    </tr>\n",
       "    <tr>\n",
       "      <th>3</th>\n",
       "      <td>2018-01-02T10:00:00.000000000Z</td>\n",
       "      <td>2056</td>\n",
       "      <td>112.254</td>\n",
       "      <td>112.282</td>\n",
       "      <td>112.086</td>\n",
       "      <td>112.124</td>\n",
       "      <td>112.247</td>\n",
       "      <td>112.275</td>\n",
       "      <td>112.079</td>\n",
       "      <td>112.119</td>\n",
       "      <td>112.260</td>\n",
       "      <td>112.288</td>\n",
       "      <td>112.092</td>\n",
       "      <td>112.130</td>\n",
       "    </tr>\n",
       "    <tr>\n",
       "      <th>4</th>\n",
       "      <td>2018-01-02T14:00:00.000000000Z</td>\n",
       "      <td>3781</td>\n",
       "      <td>112.122</td>\n",
       "      <td>112.304</td>\n",
       "      <td>112.058</td>\n",
       "      <td>112.285</td>\n",
       "      <td>112.114</td>\n",
       "      <td>112.297</td>\n",
       "      <td>112.051</td>\n",
       "      <td>112.278</td>\n",
       "      <td>112.129</td>\n",
       "      <td>112.311</td>\n",
       "      <td>112.065</td>\n",
       "      <td>112.292</td>\n",
       "    </tr>\n",
       "  </tbody>\n",
       "</table>\n",
       "</div>"
      ],
      "text/plain": [
       "                             time  volume    mid_o    mid_h    mid_l    mid_c  \\\n",
       "0  2018-01-01T22:00:00.000000000Z    2968  112.666  112.793  112.582  112.723   \n",
       "1  2018-01-02T02:00:00.000000000Z    1009  112.720  112.751  112.666  112.688   \n",
       "2  2018-01-02T06:00:00.000000000Z    2226  112.691  112.700  112.249  112.252   \n",
       "3  2018-01-02T10:00:00.000000000Z    2056  112.254  112.282  112.086  112.124   \n",
       "4  2018-01-02T14:00:00.000000000Z    3781  112.122  112.304  112.058  112.285   \n",
       "\n",
       "     bid_o    bid_h    bid_l    bid_c    ask_o    ask_h    ask_l    ask_c  \n",
       "0  112.626  112.786  112.559  112.716  112.706  112.800  112.601  112.730  \n",
       "1  112.712  112.744  112.657  112.683  112.728  112.758  112.674  112.694  \n",
       "2  112.684  112.694  112.242  112.245  112.698  112.705  112.256  112.258  \n",
       "3  112.247  112.275  112.079  112.119  112.260  112.288  112.092  112.130  \n",
       "4  112.114  112.297  112.051  112.278  112.129  112.311  112.065  112.292  "
      ]
     },
     "metadata": {},
     "execution_count": 5
    }
   ],
   "metadata": {}
  },
  {
   "cell_type": "code",
   "execution_count": 8,
   "source": [
    "df_raw.info()"
   ],
   "outputs": [
    {
     "output_type": "stream",
     "name": "stdout",
     "text": [
      "<class 'pandas.core.frame.DataFrame'>\n",
      "Int64Index: 4685 entries, 0 to 407\n",
      "Data columns (total 14 columns):\n",
      " #   Column  Non-Null Count  Dtype \n",
      "---  ------  --------------  ----- \n",
      " 0   time    4685 non-null   object\n",
      " 1   volume  4685 non-null   int64 \n",
      " 2   mid_o   4685 non-null   object\n",
      " 3   mid_h   4685 non-null   object\n",
      " 4   mid_l   4685 non-null   object\n",
      " 5   mid_c   4685 non-null   object\n",
      " 6   bid_o   4685 non-null   object\n",
      " 7   bid_h   4685 non-null   object\n",
      " 8   bid_l   4685 non-null   object\n",
      " 9   bid_c   4685 non-null   object\n",
      " 10  ask_o   4685 non-null   object\n",
      " 11  ask_h   4685 non-null   object\n",
      " 12  ask_l   4685 non-null   object\n",
      " 13  ask_c   4685 non-null   object\n",
      "dtypes: int64(1), object(13)\n",
      "memory usage: 549.0+ KB\n"
     ]
    }
   ],
   "metadata": {}
  },
  {
   "cell_type": "code",
   "execution_count": 10,
   "source": [
    "# recall: 在 candle_plot.ipynb 中，我們提到要把不是數值型態的 column 都改為數值型態\r\n",
    "non_cols = ['volumn', 'time'] # 雖然 time 是 object，但我們不想改變它的型態\r\n",
    "mod_cols = [x for x in df_raw.columns if x not in non_cols]\r\n",
    "\r\n",
    "df_raw[mod_cols] = df_raw[mod_cols].apply(pd.to_numeric)"
   ],
   "outputs": [],
   "metadata": {}
  },
  {
   "cell_type": "code",
   "execution_count": 11,
   "source": [
    "df_raw.columns"
   ],
   "outputs": [
    {
     "output_type": "execute_result",
     "data": {
      "text/plain": [
       "Index(['time', 'volume', 'mid_o', 'mid_h', 'mid_l', 'mid_c', 'bid_o', 'bid_h',\n",
       "       'bid_l', 'bid_c', 'ask_o', 'ask_h', 'ask_l', 'ask_c'],\n",
       "      dtype='object')"
      ]
     },
     "metadata": {},
     "execution_count": 11
    }
   ],
   "metadata": {}
  },
  {
   "cell_type": "code",
   "execution_count": 12,
   "source": [
    "# 把不需要用到的 column 去除\r\n",
    "df = df_raw[ ['time', 'mid_o', 'mid_h', 'mid_l', 'mid_c', 'bid_c', 'ask_c'] ].copy()"
   ],
   "outputs": [],
   "metadata": {}
  },
  {
   "cell_type": "code",
   "execution_count": 13,
   "source": [
    "df.head(3)"
   ],
   "outputs": [
    {
     "output_type": "execute_result",
     "data": {
      "text/html": [
       "<div>\n",
       "<style scoped>\n",
       "    .dataframe tbody tr th:only-of-type {\n",
       "        vertical-align: middle;\n",
       "    }\n",
       "\n",
       "    .dataframe tbody tr th {\n",
       "        vertical-align: top;\n",
       "    }\n",
       "\n",
       "    .dataframe thead th {\n",
       "        text-align: right;\n",
       "    }\n",
       "</style>\n",
       "<table border=\"1\" class=\"dataframe\">\n",
       "  <thead>\n",
       "    <tr style=\"text-align: right;\">\n",
       "      <th></th>\n",
       "      <th>time</th>\n",
       "      <th>mid_o</th>\n",
       "      <th>mid_h</th>\n",
       "      <th>mid_l</th>\n",
       "      <th>mid_c</th>\n",
       "      <th>bid_c</th>\n",
       "      <th>ask_c</th>\n",
       "    </tr>\n",
       "  </thead>\n",
       "  <tbody>\n",
       "    <tr>\n",
       "      <th>0</th>\n",
       "      <td>2018-01-01T22:00:00.000000000Z</td>\n",
       "      <td>112.666</td>\n",
       "      <td>112.793</td>\n",
       "      <td>112.582</td>\n",
       "      <td>112.723</td>\n",
       "      <td>112.716</td>\n",
       "      <td>112.730</td>\n",
       "    </tr>\n",
       "    <tr>\n",
       "      <th>1</th>\n",
       "      <td>2018-01-02T02:00:00.000000000Z</td>\n",
       "      <td>112.720</td>\n",
       "      <td>112.751</td>\n",
       "      <td>112.666</td>\n",
       "      <td>112.688</td>\n",
       "      <td>112.683</td>\n",
       "      <td>112.694</td>\n",
       "    </tr>\n",
       "    <tr>\n",
       "      <th>2</th>\n",
       "      <td>2018-01-02T06:00:00.000000000Z</td>\n",
       "      <td>112.691</td>\n",
       "      <td>112.700</td>\n",
       "      <td>112.249</td>\n",
       "      <td>112.252</td>\n",
       "      <td>112.245</td>\n",
       "      <td>112.258</td>\n",
       "    </tr>\n",
       "  </tbody>\n",
       "</table>\n",
       "</div>"
      ],
      "text/plain": [
       "                             time    mid_o    mid_h    mid_l    mid_c  \\\n",
       "0  2018-01-01T22:00:00.000000000Z  112.666  112.793  112.582  112.723   \n",
       "1  2018-01-02T02:00:00.000000000Z  112.720  112.751  112.666  112.688   \n",
       "2  2018-01-02T06:00:00.000000000Z  112.691  112.700  112.249  112.252   \n",
       "\n",
       "     bid_c    ask_c  \n",
       "0  112.716  112.730  \n",
       "1  112.683  112.694  \n",
       "2  112.245  112.258  "
      ]
     },
     "metadata": {},
     "execution_count": 13
    }
   ],
   "metadata": {}
  },
  {
   "cell_type": "markdown",
   "source": [
    "--- "
   ],
   "metadata": {}
  },
  {
   "cell_type": "markdown",
   "source": [
    "## 開始建構策略邏輯"
   ],
   "metadata": {}
  },
  {
   "cell_type": "code",
   "execution_count": 14,
   "source": [
    "# 若當日收盤價大於開盤價，當天 imply 的交易方向即為 1 (上漲趨勢)\r\n",
    "def direction(row):\r\n",
    "    if row['mid_c'] > row['mid_o']:\r\n",
    "        return 1\r\n",
    "    return -1"
   ],
   "outputs": [],
   "metadata": {}
  },
  {
   "cell_type": "code",
   "execution_count": 23,
   "source": [
    "df['RANGE'] = df['mid_h'] - df['mid_l'] # 計算前一根 candle 的 range\r\n",
    "df['RANGE_PREV'] = df.RANGE.shift(1) # 需要將今天的 range 與昨日的 range 比較\r\n",
    "\r\n",
    "\r\n",
    "df['mid_h_prev'] = df.mid_h.shift(1)\r\n",
    "df['mid_l_prev'] = df.mid_o.shift(1)\r\n",
    "\r\n",
    "\r\n",
    "df['DIRECTION'] = df.apply(direction, axis=1) # 沿 row 方向 apply function\r\n",
    "df['DIRECTION_prev'] = df.DIRECTION.shift(1) # 這可以幫助我們判斷是否要出場"
   ],
   "outputs": [],
   "metadata": {}
  },
  {
   "cell_type": "code",
   "execution_count": 24,
   "source": [
    "df.head(3)"
   ],
   "outputs": [
    {
     "output_type": "execute_result",
     "data": {
      "text/html": [
       "<div>\n",
       "<style scoped>\n",
       "    .dataframe tbody tr th:only-of-type {\n",
       "        vertical-align: middle;\n",
       "    }\n",
       "\n",
       "    .dataframe tbody tr th {\n",
       "        vertical-align: top;\n",
       "    }\n",
       "\n",
       "    .dataframe thead th {\n",
       "        text-align: right;\n",
       "    }\n",
       "</style>\n",
       "<table border=\"1\" class=\"dataframe\">\n",
       "  <thead>\n",
       "    <tr style=\"text-align: right;\">\n",
       "      <th></th>\n",
       "      <th>time</th>\n",
       "      <th>mid_o</th>\n",
       "      <th>mid_h</th>\n",
       "      <th>mid_l</th>\n",
       "      <th>mid_c</th>\n",
       "      <th>bid_c</th>\n",
       "      <th>ask_c</th>\n",
       "      <th>RANGE</th>\n",
       "      <th>RANGE_PREV</th>\n",
       "      <th>mid_h_prev</th>\n",
       "      <th>mid_o_prev</th>\n",
       "      <th>DIRECTION</th>\n",
       "      <th>DIRECTION_prev</th>\n",
       "      <th>mid_l_prev</th>\n",
       "    </tr>\n",
       "  </thead>\n",
       "  <tbody>\n",
       "    <tr>\n",
       "      <th>1</th>\n",
       "      <td>2018-01-02T02:00:00.000000000Z</td>\n",
       "      <td>112.720</td>\n",
       "      <td>112.751</td>\n",
       "      <td>112.666</td>\n",
       "      <td>112.688</td>\n",
       "      <td>112.683</td>\n",
       "      <td>112.694</td>\n",
       "      <td>0.085</td>\n",
       "      <td>NaN</td>\n",
       "      <td>NaN</td>\n",
       "      <td>112.666</td>\n",
       "      <td>-1</td>\n",
       "      <td>NaN</td>\n",
       "      <td>NaN</td>\n",
       "    </tr>\n",
       "    <tr>\n",
       "      <th>2</th>\n",
       "      <td>2018-01-02T06:00:00.000000000Z</td>\n",
       "      <td>112.691</td>\n",
       "      <td>112.700</td>\n",
       "      <td>112.249</td>\n",
       "      <td>112.252</td>\n",
       "      <td>112.245</td>\n",
       "      <td>112.258</td>\n",
       "      <td>0.451</td>\n",
       "      <td>0.085</td>\n",
       "      <td>112.751</td>\n",
       "      <td>112.720</td>\n",
       "      <td>-1</td>\n",
       "      <td>-1.0</td>\n",
       "      <td>112.720</td>\n",
       "    </tr>\n",
       "    <tr>\n",
       "      <th>3</th>\n",
       "      <td>2018-01-02T10:00:00.000000000Z</td>\n",
       "      <td>112.254</td>\n",
       "      <td>112.282</td>\n",
       "      <td>112.086</td>\n",
       "      <td>112.124</td>\n",
       "      <td>112.119</td>\n",
       "      <td>112.130</td>\n",
       "      <td>0.196</td>\n",
       "      <td>0.451</td>\n",
       "      <td>112.700</td>\n",
       "      <td>112.691</td>\n",
       "      <td>-1</td>\n",
       "      <td>-1.0</td>\n",
       "      <td>112.691</td>\n",
       "    </tr>\n",
       "  </tbody>\n",
       "</table>\n",
       "</div>"
      ],
      "text/plain": [
       "                             time    mid_o    mid_h    mid_l    mid_c  \\\n",
       "1  2018-01-02T02:00:00.000000000Z  112.720  112.751  112.666  112.688   \n",
       "2  2018-01-02T06:00:00.000000000Z  112.691  112.700  112.249  112.252   \n",
       "3  2018-01-02T10:00:00.000000000Z  112.254  112.282  112.086  112.124   \n",
       "\n",
       "     bid_c    ask_c  RANGE  RANGE_PREV  mid_h_prev  mid_o_prev  DIRECTION  \\\n",
       "1  112.683  112.694  0.085         NaN         NaN     112.666         -1   \n",
       "2  112.245  112.258  0.451       0.085     112.751     112.720         -1   \n",
       "3  112.119  112.130  0.196       0.451     112.700     112.691         -1   \n",
       "\n",
       "   DIRECTION_prev  mid_l_prev  \n",
       "1             NaN         NaN  \n",
       "2            -1.0     112.720  \n",
       "3            -1.0     112.691  "
      ]
     },
     "metadata": {},
     "execution_count": 24
    }
   ],
   "metadata": {}
  },
  {
   "cell_type": "code",
   "execution_count": 25,
   "source": [
    "# 發現 DIRECTION_prev 的資料型態被 pandas 改為 float 了\r\n",
    "df['DIRECTION_prev'] = df.DIRECTION.shift(1).fillna(0).astype(int)\r\n",
    "df.dropna(inplace=True)"
   ],
   "outputs": [],
   "metadata": {}
  },
  {
   "cell_type": "code",
   "execution_count": 26,
   "source": [
    "df.head(3)"
   ],
   "outputs": [
    {
     "output_type": "execute_result",
     "data": {
      "text/html": [
       "<div>\n",
       "<style scoped>\n",
       "    .dataframe tbody tr th:only-of-type {\n",
       "        vertical-align: middle;\n",
       "    }\n",
       "\n",
       "    .dataframe tbody tr th {\n",
       "        vertical-align: top;\n",
       "    }\n",
       "\n",
       "    .dataframe thead th {\n",
       "        text-align: right;\n",
       "    }\n",
       "</style>\n",
       "<table border=\"1\" class=\"dataframe\">\n",
       "  <thead>\n",
       "    <tr style=\"text-align: right;\">\n",
       "      <th></th>\n",
       "      <th>time</th>\n",
       "      <th>mid_o</th>\n",
       "      <th>mid_h</th>\n",
       "      <th>mid_l</th>\n",
       "      <th>mid_c</th>\n",
       "      <th>bid_c</th>\n",
       "      <th>ask_c</th>\n",
       "      <th>RANGE</th>\n",
       "      <th>RANGE_PREV</th>\n",
       "      <th>mid_h_prev</th>\n",
       "      <th>mid_o_prev</th>\n",
       "      <th>DIRECTION</th>\n",
       "      <th>DIRECTION_prev</th>\n",
       "      <th>mid_l_prev</th>\n",
       "    </tr>\n",
       "  </thead>\n",
       "  <tbody>\n",
       "    <tr>\n",
       "      <th>2</th>\n",
       "      <td>2018-01-02T06:00:00.000000000Z</td>\n",
       "      <td>112.691</td>\n",
       "      <td>112.700</td>\n",
       "      <td>112.249</td>\n",
       "      <td>112.252</td>\n",
       "      <td>112.245</td>\n",
       "      <td>112.258</td>\n",
       "      <td>0.451</td>\n",
       "      <td>0.085</td>\n",
       "      <td>112.751</td>\n",
       "      <td>112.720</td>\n",
       "      <td>-1</td>\n",
       "      <td>-1</td>\n",
       "      <td>112.720</td>\n",
       "    </tr>\n",
       "    <tr>\n",
       "      <th>3</th>\n",
       "      <td>2018-01-02T10:00:00.000000000Z</td>\n",
       "      <td>112.254</td>\n",
       "      <td>112.282</td>\n",
       "      <td>112.086</td>\n",
       "      <td>112.124</td>\n",
       "      <td>112.119</td>\n",
       "      <td>112.130</td>\n",
       "      <td>0.196</td>\n",
       "      <td>0.451</td>\n",
       "      <td>112.700</td>\n",
       "      <td>112.691</td>\n",
       "      <td>-1</td>\n",
       "      <td>-1</td>\n",
       "      <td>112.691</td>\n",
       "    </tr>\n",
       "    <tr>\n",
       "      <th>4</th>\n",
       "      <td>2018-01-02T14:00:00.000000000Z</td>\n",
       "      <td>112.122</td>\n",
       "      <td>112.304</td>\n",
       "      <td>112.058</td>\n",
       "      <td>112.285</td>\n",
       "      <td>112.278</td>\n",
       "      <td>112.292</td>\n",
       "      <td>0.246</td>\n",
       "      <td>0.196</td>\n",
       "      <td>112.282</td>\n",
       "      <td>112.254</td>\n",
       "      <td>1</td>\n",
       "      <td>-1</td>\n",
       "      <td>112.254</td>\n",
       "    </tr>\n",
       "  </tbody>\n",
       "</table>\n",
       "</div>"
      ],
      "text/plain": [
       "                             time    mid_o    mid_h    mid_l    mid_c  \\\n",
       "2  2018-01-02T06:00:00.000000000Z  112.691  112.700  112.249  112.252   \n",
       "3  2018-01-02T10:00:00.000000000Z  112.254  112.282  112.086  112.124   \n",
       "4  2018-01-02T14:00:00.000000000Z  112.122  112.304  112.058  112.285   \n",
       "\n",
       "     bid_c    ask_c  RANGE  RANGE_PREV  mid_h_prev  mid_o_prev  DIRECTION  \\\n",
       "2  112.245  112.258  0.451       0.085     112.751     112.720         -1   \n",
       "3  112.119  112.130  0.196       0.451     112.700     112.691         -1   \n",
       "4  112.278  112.292  0.246       0.196     112.282     112.254          1   \n",
       "\n",
       "   DIRECTION_prev  mid_l_prev  \n",
       "2              -1     112.720  \n",
       "3              -1     112.691  \n",
       "4              -1     112.254  "
      ]
     },
     "metadata": {},
     "execution_count": 26
    }
   ],
   "metadata": {}
  },
  {
   "cell_type": "markdown",
   "source": [
    "## signal of the trade"
   ],
   "metadata": {}
  },
  {
   "cell_type": "code",
   "execution_count": 27,
   "source": [
    "def get_signal(row):\r\n",
    "    if row.mid_h_prev > row.mid_h and row.mid_l_prev < row.mid_l: # 意思就是本日的 candle 完全包覆在上一日的 candle 裡面\r\n",
    "        return row.DIRECTION_prev\r\n",
    "    return 0"
   ],
   "outputs": [],
   "metadata": {}
  },
  {
   "cell_type": "code",
   "execution_count": 28,
   "source": [
    "df['SIGNAL'] = df.apply(get_signal, axis=1)\r\n",
    "df.reset_index(drop=True, inplace=True)"
   ],
   "outputs": [],
   "metadata": {}
  },
  {
   "cell_type": "code",
   "execution_count": 29,
   "source": [
    "df.head(3)"
   ],
   "outputs": [
    {
     "output_type": "execute_result",
     "data": {
      "text/html": [
       "<div>\n",
       "<style scoped>\n",
       "    .dataframe tbody tr th:only-of-type {\n",
       "        vertical-align: middle;\n",
       "    }\n",
       "\n",
       "    .dataframe tbody tr th {\n",
       "        vertical-align: top;\n",
       "    }\n",
       "\n",
       "    .dataframe thead th {\n",
       "        text-align: right;\n",
       "    }\n",
       "</style>\n",
       "<table border=\"1\" class=\"dataframe\">\n",
       "  <thead>\n",
       "    <tr style=\"text-align: right;\">\n",
       "      <th></th>\n",
       "      <th>time</th>\n",
       "      <th>mid_o</th>\n",
       "      <th>mid_h</th>\n",
       "      <th>mid_l</th>\n",
       "      <th>mid_c</th>\n",
       "      <th>bid_c</th>\n",
       "      <th>ask_c</th>\n",
       "      <th>RANGE</th>\n",
       "      <th>RANGE_PREV</th>\n",
       "      <th>mid_h_prev</th>\n",
       "      <th>mid_o_prev</th>\n",
       "      <th>DIRECTION</th>\n",
       "      <th>DIRECTION_prev</th>\n",
       "      <th>mid_l_prev</th>\n",
       "      <th>SIGNAL</th>\n",
       "    </tr>\n",
       "  </thead>\n",
       "  <tbody>\n",
       "    <tr>\n",
       "      <th>0</th>\n",
       "      <td>2018-01-02T06:00:00.000000000Z</td>\n",
       "      <td>112.691</td>\n",
       "      <td>112.700</td>\n",
       "      <td>112.249</td>\n",
       "      <td>112.252</td>\n",
       "      <td>112.245</td>\n",
       "      <td>112.258</td>\n",
       "      <td>0.451</td>\n",
       "      <td>0.085</td>\n",
       "      <td>112.751</td>\n",
       "      <td>112.720</td>\n",
       "      <td>-1</td>\n",
       "      <td>-1</td>\n",
       "      <td>112.720</td>\n",
       "      <td>0</td>\n",
       "    </tr>\n",
       "    <tr>\n",
       "      <th>1</th>\n",
       "      <td>2018-01-02T10:00:00.000000000Z</td>\n",
       "      <td>112.254</td>\n",
       "      <td>112.282</td>\n",
       "      <td>112.086</td>\n",
       "      <td>112.124</td>\n",
       "      <td>112.119</td>\n",
       "      <td>112.130</td>\n",
       "      <td>0.196</td>\n",
       "      <td>0.451</td>\n",
       "      <td>112.700</td>\n",
       "      <td>112.691</td>\n",
       "      <td>-1</td>\n",
       "      <td>-1</td>\n",
       "      <td>112.691</td>\n",
       "      <td>0</td>\n",
       "    </tr>\n",
       "    <tr>\n",
       "      <th>2</th>\n",
       "      <td>2018-01-02T14:00:00.000000000Z</td>\n",
       "      <td>112.122</td>\n",
       "      <td>112.304</td>\n",
       "      <td>112.058</td>\n",
       "      <td>112.285</td>\n",
       "      <td>112.278</td>\n",
       "      <td>112.292</td>\n",
       "      <td>0.246</td>\n",
       "      <td>0.196</td>\n",
       "      <td>112.282</td>\n",
       "      <td>112.254</td>\n",
       "      <td>1</td>\n",
       "      <td>-1</td>\n",
       "      <td>112.254</td>\n",
       "      <td>0</td>\n",
       "    </tr>\n",
       "  </tbody>\n",
       "</table>\n",
       "</div>"
      ],
      "text/plain": [
       "                             time    mid_o    mid_h    mid_l    mid_c  \\\n",
       "0  2018-01-02T06:00:00.000000000Z  112.691  112.700  112.249  112.252   \n",
       "1  2018-01-02T10:00:00.000000000Z  112.254  112.282  112.086  112.124   \n",
       "2  2018-01-02T14:00:00.000000000Z  112.122  112.304  112.058  112.285   \n",
       "\n",
       "     bid_c    ask_c  RANGE  RANGE_PREV  mid_h_prev  mid_o_prev  DIRECTION  \\\n",
       "0  112.245  112.258  0.451       0.085     112.751     112.720         -1   \n",
       "1  112.119  112.130  0.196       0.451     112.700     112.691         -1   \n",
       "2  112.278  112.292  0.246       0.196     112.282     112.254          1   \n",
       "\n",
       "   DIRECTION_prev  mid_l_prev  SIGNAL  \n",
       "0              -1     112.720       0  \n",
       "1              -1     112.691       0  \n",
       "2              -1     112.254       0  "
      ]
     },
     "metadata": {},
     "execution_count": 29
    }
   ],
   "metadata": {}
  },
  {
   "cell_type": "code",
   "execution_count": 30,
   "source": [
    "df[df.SIGNAL != 0].shape # 243 trading opportunity"
   ],
   "outputs": [
    {
     "output_type": "execute_result",
     "data": {
      "text/plain": [
       "(243, 15)"
      ]
     },
     "metadata": {},
     "execution_count": 30
    }
   ],
   "metadata": {}
  },
  {
   "cell_type": "code",
   "execution_count": 31,
   "source": [
    "df.shape"
   ],
   "outputs": [
    {
     "output_type": "execute_result",
     "data": {
      "text/plain": [
       "(4683, 15)"
      ]
     },
     "metadata": {},
     "execution_count": 31
    }
   ],
   "metadata": {}
  },
  {
   "cell_type": "markdown",
   "source": [
    "## put everything together:\r\n",
    "```python\r\n",
    "def direction(row):\r\n",
    "    if row['mid_c'] > row['mid_o']:\r\n",
    "        return 1\r\n",
    "    return -1\r\n",
    "\r\n",
    "def get_signal(row):\r\n",
    "    if row.mid_h_prev > row.mid_h and row.mid_l_prev < row.mid_l:\r\n",
    "        return row.DIRECTION_prev\r\n",
    "    return 0\r\n",
    "\r\n",
    "df = df_raw[ ['time', 'mid_o', 'mid_h', 'mid_l', 'mid_c', 'bid_c', 'ask_c'] ].copy()\r\n",
    "df['RANGE'] = df['mid_h'] - df['mid_l'] # 計算前一根 candle 的 range\r\n",
    "df['RANGE_PREV'] = df.RANGE.shift(1) # 需要將今天的 range 與昨日的 range 比較\r\n",
    "df['mid_h_prev'] = df.mid_h.shift(1)\r\n",
    "df['mid_l_prev'] = df.mid_o.shift(1)\r\n",
    "df['DIRECTION'] = df.apply(direction, axis=1) # 沿 row 方向 apply function\r\n",
    "df['DIRECTION_prev'] = df.DIRECTION.shift(1).fillna(0).astype(int)\r\n",
    "df.dropna(inplace=True)\r\n",
    "df['SIGNAL'] = df.apply(get_signal, axis=1)\r\n",
    "df.reset_index(drop=True, inplace=True)\r\n",
    "\r\n",
    "```"
   ],
   "metadata": {}
  },
  {
   "cell_type": "markdown",
   "source": [],
   "metadata": {}
  }
 ],
 "metadata": {
  "orig_nbformat": 4,
  "language_info": {
   "name": "python",
   "version": "3.9.7",
   "mimetype": "text/x-python",
   "codemirror_mode": {
    "name": "ipython",
    "version": 3
   },
   "pygments_lexer": "ipython3",
   "nbconvert_exporter": "python",
   "file_extension": ".py"
  },
  "kernelspec": {
   "name": "python3",
   "display_name": "Python 3.9.7 64-bit ('venv': venv)"
  },
  "interpreter": {
   "hash": "b0b5f533ece29e619ef82558aa36dc65e23f2612523c2030a9b8c4d2f5e86771"
  }
 },
 "nbformat": 4,
 "nbformat_minor": 2
}