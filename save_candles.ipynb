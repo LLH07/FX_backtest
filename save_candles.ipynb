{
 "cells": [
  {
   "cell_type": "code",
   "execution_count": 2,
   "source": [
    "import requests\r\n",
    "import defs\r\n",
    "import pandas as pd"
   ],
   "outputs": [],
   "metadata": {}
  },
  {
   "cell_type": "code",
   "execution_count": 31,
   "source": [
    "session = requests.Session()"
   ],
   "outputs": [],
   "metadata": {}
  },
  {
   "cell_type": "markdown",
   "source": [
    "下面這段程式碼是為了解決最後在找所有可交易商品時出現的 ```ConnectionResetError 10054```   \r\n",
    "詳見 [這篇文章](https://stackoverflow.com/questions/27333671/how-to-solve-the-10054-error)"
   ],
   "metadata": {}
  },
  {
   "cell_type": "code",
   "execution_count": 32,
   "source": [
    "session.headers = {\r\n",
    "    \"User-Agent\": \"Mozilla/5.0 (Windows NT 10.0; Win64; x64) AppleWebKit/537.36 (KHTML, like Gecko) Chrome/71.1.2222.33 Safari/537.36\",\r\n",
    "    \"Accept-Encoding\": \"*\",\r\n",
    "    \"Connection\": \"keep-alive\"\r\n",
    "}\r\n",
    "\r\n"
   ],
   "outputs": [],
   "metadata": {}
  },
  {
   "cell_type": "code",
   "execution_count": 4,
   "source": [
    "ins_df = pd.read_pickle(\"instruments.pkl\")"
   ],
   "outputs": [],
   "metadata": {}
  },
  {
   "cell_type": "code",
   "execution_count": 5,
   "source": [
    "our_curr = ['EUR', 'USD', 'GBP', 'JPY', 'CHF', 'NZD', 'CAD']"
   ],
   "outputs": [],
   "metadata": {}
  },
  {
   "cell_type": "code",
   "execution_count": 6,
   "source": [
    "ins_df.info()"
   ],
   "outputs": [
    {
     "output_type": "stream",
     "name": "stdout",
     "text": [
      "<class 'pandas.core.frame.DataFrame'>\n",
      "RangeIndex: 68 entries, 0 to 67\n",
      "Data columns (total 5 columns):\n",
      " #   Column       Non-Null Count  Dtype \n",
      "---  ------       --------------  ----- \n",
      " 0   name         68 non-null     object\n",
      " 1   type         68 non-null     object\n",
      " 2   displayName  68 non-null     object\n",
      " 3   pipLocation  68 non-null     int64 \n",
      " 4   marginRate   68 non-null     object\n",
      "dtypes: int64(1), object(4)\n",
      "memory usage: 2.8+ KB\n"
     ]
    }
   ],
   "metadata": {}
  },
  {
   "cell_type": "code",
   "execution_count": 7,
   "source": [
    "ins_df.name.unique()"
   ],
   "outputs": [
    {
     "output_type": "execute_result",
     "data": {
      "text/plain": [
       "array(['ZAR_JPY', 'EUR_HUF', 'EUR_DKK', 'USD_MXN', 'GBP_USD', 'CAD_CHF',\n",
       "       'EUR_GBP', 'GBP_CHF', 'USD_THB', 'USD_ZAR', 'HKD_JPY', 'CHF_ZAR',\n",
       "       'CAD_JPY', 'EUR_HKD', 'AUD_HKD', 'EUR_NZD', 'SGD_CHF', 'AUD_SGD',\n",
       "       'EUR_JPY', 'USD_CHF', 'USD_TRY', 'GBP_JPY', 'EUR_CZK', 'EUR_TRY',\n",
       "       'USD_JPY', 'GBP_ZAR', 'SGD_JPY', 'USD_NOK', 'TRY_JPY', 'USD_DKK',\n",
       "       'CHF_JPY', 'EUR_PLN', 'AUD_CAD', 'USD_HKD', 'GBP_NZD', 'CAD_SGD',\n",
       "       'NZD_USD', 'AUD_NZD', 'CHF_HKD', 'USD_CAD', 'USD_CNH', 'USD_CZK',\n",
       "       'NZD_CHF', 'NZD_SGD', 'NZD_HKD', 'AUD_CHF', 'USD_SEK', 'GBP_SGD',\n",
       "       'AUD_JPY', 'EUR_ZAR', 'EUR_AUD', 'NZD_JPY', 'GBP_HKD', 'USD_SGD',\n",
       "       'EUR_SEK', 'EUR_CHF', 'EUR_CAD', 'USD_HUF', 'NZD_CAD', 'EUR_SGD',\n",
       "       'AUD_USD', 'EUR_USD', 'GBP_AUD', 'USD_PLN', 'CAD_HKD', 'GBP_CAD',\n",
       "       'GBP_PLN', 'EUR_NOK'], dtype=object)"
      ]
     },
     "metadata": {},
     "execution_count": 7
    }
   ],
   "metadata": {}
  },
  {
   "cell_type": "code",
   "execution_count": 8,
   "source": [
    "# 列出我們 想交易 且 demo account 允許我們交易的商品\r\n",
    "for p1 in our_curr:\r\n",
    "    for p2 in our_curr:\r\n",
    "        pair = f'{p1}_{p2}'\r\n",
    "        if pair in ins_df.name.unique():\r\n",
    "            print(pair)"
   ],
   "outputs": [
    {
     "output_type": "stream",
     "name": "stdout",
     "text": [
      "EUR_USD\n",
      "EUR_GBP\n",
      "EUR_JPY\n",
      "EUR_CHF\n",
      "EUR_NZD\n",
      "EUR_CAD\n",
      "USD_JPY\n",
      "USD_CHF\n",
      "USD_CAD\n",
      "GBP_USD\n",
      "GBP_JPY\n",
      "GBP_CHF\n",
      "GBP_NZD\n",
      "GBP_CAD\n",
      "CHF_JPY\n",
      "NZD_USD\n",
      "NZD_JPY\n",
      "NZD_CHF\n",
      "NZD_CAD\n",
      "CAD_JPY\n",
      "CAD_CHF\n"
     ]
    }
   ],
   "metadata": {}
  },
  {
   "cell_type": "code",
   "execution_count": 9,
   "source": [
    "def fetch_candles(pair_name, count, granularity):\r\n",
    "    url = f'{defs.OANDA_URL}instruments/{pair_name}/candles'\r\n",
    "\r\n",
    "    # 從 test.ipynb 直接摳過來\r\n",
    "    params = dict(\r\n",
    "    count = count, \r\n",
    "    granularity = granularity,\r\n",
    "    price = 'MBA' # M: midpoint, B: bid, A: ask\r\n",
    "    )\r\n",
    "\r\n",
    "    response = session.get(url, params=params, headers=defs.SECURE_HEADER)\r\n",
    "    return response.status_code, response.json()\r\n"
   ],
   "outputs": [],
   "metadata": {}
  },
  {
   "cell_type": "code",
   "execution_count": 10,
   "source": [
    "code, res = fetch_candles(\"EUR_USD\", 10, 'H1')"
   ],
   "outputs": [],
   "metadata": {}
  },
  {
   "cell_type": "code",
   "execution_count": 11,
   "source": [
    "type(res)"
   ],
   "outputs": [
    {
     "output_type": "execute_result",
     "data": {
      "text/plain": [
       "dict"
      ]
     },
     "metadata": {},
     "execution_count": 11
    }
   ],
   "metadata": {}
  },
  {
   "cell_type": "code",
   "execution_count": 12,
   "source": [
    "res"
   ],
   "outputs": [
    {
     "output_type": "execute_result",
     "data": {
      "text/plain": [
       "{'instrument': 'EUR_USD',\n",
       " 'granularity': 'H1',\n",
       " 'candles': [{'complete': True,\n",
       "   'volume': 258,\n",
       "   'time': '2021-09-07T21:00:00.000000000Z',\n",
       "   'bid': {'o': '1.18369', 'h': '1.18445', 'l': '1.18368', 'c': '1.18435'},\n",
       "   'mid': {'o': '1.18408', 'h': '1.18460', 'l': '1.18402', 'c': '1.18449'},\n",
       "   'ask': {'o': '1.18447', 'h': '1.18499', 'l': '1.18434', 'c': '1.18463'}},\n",
       "  {'complete': True,\n",
       "   'volume': 366,\n",
       "   'time': '2021-09-07T22:00:00.000000000Z',\n",
       "   'bid': {'o': '1.18433', 'h': '1.18444', 'l': '1.18394', 'c': '1.18432'},\n",
       "   'mid': {'o': '1.18447', 'h': '1.18452', 'l': '1.18426', 'c': '1.18440'},\n",
       "   'ask': {'o': '1.18461', 'h': '1.18471', 'l': '1.18442', 'c': '1.18448'}},\n",
       "  {'complete': True,\n",
       "   'volume': 257,\n",
       "   'time': '2021-09-07T23:00:00.000000000Z',\n",
       "   'bid': {'o': '1.18433', 'h': '1.18435', 'l': '1.18409', 'c': '1.18423'},\n",
       "   'mid': {'o': '1.18442', 'h': '1.18443', 'l': '1.18416', 'c': '1.18430'},\n",
       "   'ask': {'o': '1.18450', 'h': '1.18451', 'l': '1.18423', 'c': '1.18437'}},\n",
       "  {'complete': True,\n",
       "   'volume': 914,\n",
       "   'time': '2021-09-08T00:00:00.000000000Z',\n",
       "   'bid': {'o': '1.18420', 'h': '1.18475', 'l': '1.18398', 'c': '1.18473'},\n",
       "   'mid': {'o': '1.18428', 'h': '1.18482', 'l': '1.18405', 'c': '1.18480'},\n",
       "   'ask': {'o': '1.18435', 'h': '1.18489', 'l': '1.18412', 'c': '1.18487'}},\n",
       "  {'complete': True,\n",
       "   'volume': 879,\n",
       "   'time': '2021-09-08T01:00:00.000000000Z',\n",
       "   'bid': {'o': '1.18472', 'h': '1.18504', 'l': '1.18449', 'c': '1.18469'},\n",
       "   'mid': {'o': '1.18479', 'h': '1.18511', 'l': '1.18456', 'c': '1.18476'},\n",
       "   'ask': {'o': '1.18486', 'h': '1.18519', 'l': '1.18462', 'c': '1.18483'}},\n",
       "  {'complete': True,\n",
       "   'volume': 706,\n",
       "   'time': '2021-09-08T02:00:00.000000000Z',\n",
       "   'bid': {'o': '1.18471', 'h': '1.18475', 'l': '1.18438', 'c': '1.18443'},\n",
       "   'mid': {'o': '1.18478', 'h': '1.18482', 'l': '1.18446', 'c': '1.18450'},\n",
       "   'ask': {'o': '1.18484', 'h': '1.18489', 'l': '1.18453', 'c': '1.18457'}},\n",
       "  {'complete': True,\n",
       "   'volume': 871,\n",
       "   'time': '2021-09-08T03:00:00.000000000Z',\n",
       "   'bid': {'o': '1.18444', 'h': '1.18451', 'l': '1.18399', 'c': '1.18414'},\n",
       "   'mid': {'o': '1.18451', 'h': '1.18458', 'l': '1.18406', 'c': '1.18422'},\n",
       "   'ask': {'o': '1.18458', 'h': '1.18466', 'l': '1.18414', 'c': '1.18429'}},\n",
       "  {'complete': True,\n",
       "   'volume': 535,\n",
       "   'time': '2021-09-08T04:00:00.000000000Z',\n",
       "   'bid': {'o': '1.18414', 'h': '1.18430', 'l': '1.18406', 'c': '1.18429'},\n",
       "   'mid': {'o': '1.18420', 'h': '1.18438', 'l': '1.18413', 'c': '1.18436'},\n",
       "   'ask': {'o': '1.18427', 'h': '1.18445', 'l': '1.18420', 'c': '1.18444'}},\n",
       "  {'complete': True,\n",
       "   'volume': 1256,\n",
       "   'time': '2021-09-08T05:00:00.000000000Z',\n",
       "   'bid': {'o': '1.18429', 'h': '1.18430', 'l': '1.18345', 'c': '1.18358'},\n",
       "   'mid': {'o': '1.18435', 'h': '1.18436', 'l': '1.18352', 'c': '1.18366'},\n",
       "   'ask': {'o': '1.18441', 'h': '1.18443', 'l': '1.18358', 'c': '1.18373'}},\n",
       "  {'complete': False,\n",
       "   'volume': 111,\n",
       "   'time': '2021-09-08T06:00:00.000000000Z',\n",
       "   'bid': {'o': '1.18358', 'h': '1.18377', 'l': '1.18352', 'c': '1.18353'},\n",
       "   'mid': {'o': '1.18366', 'h': '1.18384', 'l': '1.18358', 'c': '1.18359'},\n",
       "   'ask': {'o': '1.18373', 'h': '1.18390', 'l': '1.18364', 'c': '1.18365'}}]}"
      ]
     },
     "metadata": {},
     "execution_count": 12
    }
   ],
   "metadata": {}
  },
  {
   "cell_type": "markdown",
   "source": [
    "### 目標:\r\n",
    "將上一個函數回傳的 response，整理成一個 DataFrame。  \r\n",
    "拆解，我們需要:  \r\n",
    "- ```complete```\r\n",
    "- ```volume```\r\n",
    "- ```time```\r\n",
    "- 各種價格方式的 o, h, l, c\r\n",
    "---\r\n",
    "想法:  \r\n",
    "用一個 list 存放各商品的資料 (因此 list 裡放的是字典)  \r\n",
    "再把字典轉為 data frame"
   ],
   "metadata": {}
  },
  {
   "cell_type": "code",
   "execution_count": 13,
   "source": [
    "\r\n",
    "def get_candles_df(json_response): # json_response is a dict\r\n",
    "    our_data = []\r\n",
    "    prices = ['mid', 'bid', 'ask']\r\n",
    "    ohlc = ['o', 'h', 'l', 'c']\r\n",
    "    \r\n",
    "    for candle in json_response['candles']: # 將時間段內的 candles 逐一取出\r\n",
    "        if candle['complete'] == False:\r\n",
    "            continue\r\n",
    "\r\n",
    "        newdict = {}\r\n",
    "        newdict['time'] = candle['time']\r\n",
    "        newdict['volume'] = candle['volume']\r\n",
    "        for p in prices:\r\n",
    "            for oh in ohlc:\r\n",
    "                newdict[f'{p}_{oh}'] = candle[p][oh]\r\n",
    "        our_data.append(newdict)\r\n",
    "    return pd.DataFrame.from_dict(our_data)\r\n",
    "    "
   ],
   "outputs": [],
   "metadata": {}
  },
  {
   "cell_type": "code",
   "execution_count": 16,
   "source": [
    "code, res = fetch_candles(\"EUR_USD\", 10, 'H1')\r\n",
    "df = get_candles_df(res)"
   ],
   "outputs": [],
   "metadata": {}
  },
  {
   "cell_type": "code",
   "execution_count": 17,
   "source": [
    "df.head"
   ],
   "outputs": [
    {
     "output_type": "execute_result",
     "data": {
      "text/plain": [
       "<bound method NDFrame.head of                              time  volume    mid_o    mid_h    mid_l    mid_c  \\\n",
       "0  2021-09-07T21:00:00.000000000Z     258  1.18408  1.18460  1.18402  1.18449   \n",
       "1  2021-09-07T22:00:00.000000000Z     366  1.18447  1.18452  1.18426  1.18440   \n",
       "2  2021-09-07T23:00:00.000000000Z     257  1.18442  1.18443  1.18416  1.18430   \n",
       "3  2021-09-08T00:00:00.000000000Z     914  1.18428  1.18482  1.18405  1.18480   \n",
       "4  2021-09-08T01:00:00.000000000Z     879  1.18479  1.18511  1.18456  1.18476   \n",
       "5  2021-09-08T02:00:00.000000000Z     706  1.18478  1.18482  1.18446  1.18450   \n",
       "6  2021-09-08T03:00:00.000000000Z     871  1.18451  1.18458  1.18406  1.18422   \n",
       "7  2021-09-08T04:00:00.000000000Z     535  1.18420  1.18438  1.18413  1.18436   \n",
       "8  2021-09-08T05:00:00.000000000Z    1256  1.18435  1.18436  1.18352  1.18366   \n",
       "\n",
       "     bid_o    bid_h    bid_l    bid_c    ask_o    ask_h    ask_l    ask_c  \n",
       "0  1.18369  1.18445  1.18368  1.18435  1.18447  1.18499  1.18434  1.18463  \n",
       "1  1.18433  1.18444  1.18394  1.18432  1.18461  1.18471  1.18442  1.18448  \n",
       "2  1.18433  1.18435  1.18409  1.18423  1.18450  1.18451  1.18423  1.18437  \n",
       "3  1.18420  1.18475  1.18398  1.18473  1.18435  1.18489  1.18412  1.18487  \n",
       "4  1.18472  1.18504  1.18449  1.18469  1.18486  1.18519  1.18462  1.18483  \n",
       "5  1.18471  1.18475  1.18438  1.18443  1.18484  1.18489  1.18453  1.18457  \n",
       "6  1.18444  1.18451  1.18399  1.18414  1.18458  1.18466  1.18414  1.18429  \n",
       "7  1.18414  1.18430  1.18406  1.18429  1.18427  1.18445  1.18420  1.18444  \n",
       "8  1.18429  1.18430  1.18345  1.18358  1.18441  1.18443  1.18358  1.18373  >"
      ]
     },
     "metadata": {},
     "execution_count": 17
    }
   ],
   "metadata": {}
  },
  {
   "cell_type": "markdown",
   "source": [
    "## 將資料存放:"
   ],
   "metadata": {}
  },
  {
   "cell_type": "code",
   "execution_count": 18,
   "source": [
    "def save_file(candles_df, pair, granularity): # pair 與 granularity 是為了以後方便查閱資料\r\n",
    "    candles_df.to_pickle(f'his_data/{pair}_{granularity}.pkl')"
   ],
   "outputs": [],
   "metadata": {}
  },
  {
   "cell_type": "markdown",
   "source": [
    "## 將上述三個 function 合起來:\r\n",
    "- ```fetch_candles()```\r\n",
    "- ```get_candles_df()```\r\n",
    "- ```save_file()```"
   ],
   "metadata": {}
  },
  {
   "cell_type": "code",
   "execution_count": 19,
   "source": [
    "def create_data(pair, granularity):\r\n",
    "    code, json_data = fetch_candles(pair, 4000, granularity) # 這邊預設取 4000 筆資料，當然可以客製化\r\n",
    "    if code != 200:\r\n",
    "        print(pair, 'Error') # 如果連線時有錯誤，則將錯誤的商品印出來\r\n",
    "        return \r\n",
    "    df = get_candles_df(json_data)\r\n",
    "    print(f\"{pair} loaded {df.shape[0]} candles from {df.time.min()} to {df.time.max()}\")\r\n",
    "    save_file(df, pair, granularity)"
   ],
   "outputs": [],
   "metadata": {}
  },
  {
   "cell_type": "code",
   "execution_count": 22,
   "source": [
    "create_data('EUR_USD', 'H1')"
   ],
   "outputs": [
    {
     "output_type": "stream",
     "name": "stdout",
     "text": [
      "EUR_USD loaded 3999 candles from 2021-01-18T16:00:00.000000000Z to 2021-09-08T05:00:00.000000000Z\n"
     ]
    }
   ],
   "metadata": {}
  },
  {
   "cell_type": "markdown",
   "source": [
    "### 之後，就可以選擇要查詢哪一些商品的 data 了"
   ],
   "metadata": {}
  },
  {
   "cell_type": "code",
   "execution_count": 25,
   "source": [
    "from time import sleep"
   ],
   "outputs": [],
   "metadata": {}
  },
  {
   "cell_type": "code",
   "execution_count": 33,
   "source": [
    "for p1 in our_curr:\r\n",
    "    for p2 in our_curr:\r\n",
    "        pair = f'{p1}_{p2}'\r\n",
    "        if pair in ins_df.name.unique():\r\n",
    "            create_data(pair, 'H1')\r\n",
    "            "
   ],
   "outputs": [
    {
     "output_type": "stream",
     "name": "stdout",
     "text": [
      "EUR_USD loaded 3999 candles from 2021-01-18T16:00:00.000000000Z to 2021-09-08T05:00:00.000000000Z\n",
      "EUR_GBP loaded 3999 candles from 2021-01-18T16:00:00.000000000Z to 2021-09-08T05:00:00.000000000Z\n",
      "EUR_JPY loaded 3999 candles from 2021-01-18T15:00:00.000000000Z to 2021-09-08T05:00:00.000000000Z\n",
      "EUR_CHF loaded 3999 candles from 2021-01-18T16:00:00.000000000Z to 2021-09-08T05:00:00.000000000Z\n",
      "EUR_NZD loaded 3999 candles from 2021-01-18T16:00:00.000000000Z to 2021-09-08T05:00:00.000000000Z\n",
      "EUR_CAD loaded 3999 candles from 2021-01-18T16:00:00.000000000Z to 2021-09-08T05:00:00.000000000Z\n",
      "USD_JPY loaded 3999 candles from 2021-01-18T16:00:00.000000000Z to 2021-09-08T05:00:00.000000000Z\n",
      "USD_CHF loaded 3999 candles from 2021-01-18T16:00:00.000000000Z to 2021-09-08T05:00:00.000000000Z\n",
      "USD_CAD loaded 3999 candles from 2021-01-18T16:00:00.000000000Z to 2021-09-08T05:00:00.000000000Z\n",
      "GBP_USD loaded 3999 candles from 2021-01-18T15:00:00.000000000Z to 2021-09-08T05:00:00.000000000Z\n",
      "GBP_JPY loaded 3999 candles from 2021-01-18T16:00:00.000000000Z to 2021-09-08T05:00:00.000000000Z\n",
      "GBP_CHF loaded 3999 candles from 2021-01-18T15:00:00.000000000Z to 2021-09-08T05:00:00.000000000Z\n",
      "GBP_NZD loaded 3999 candles from 2021-01-18T16:00:00.000000000Z to 2021-09-08T05:00:00.000000000Z\n",
      "GBP_CAD loaded 3999 candles from 2021-01-18T16:00:00.000000000Z to 2021-09-08T05:00:00.000000000Z\n",
      "CHF_JPY loaded 3999 candles from 2021-01-18T16:00:00.000000000Z to 2021-09-08T05:00:00.000000000Z\n",
      "NZD_USD loaded 3999 candles from 2021-01-18T16:00:00.000000000Z to 2021-09-08T05:00:00.000000000Z\n",
      "NZD_JPY loaded 3999 candles from 2021-01-18T16:00:00.000000000Z to 2021-09-08T05:00:00.000000000Z\n",
      "NZD_CHF loaded 3999 candles from 2021-01-18T16:00:00.000000000Z to 2021-09-08T05:00:00.000000000Z\n",
      "NZD_CAD loaded 3999 candles from 2021-01-18T16:00:00.000000000Z to 2021-09-08T05:00:00.000000000Z\n",
      "CAD_JPY loaded 3999 candles from 2021-01-18T16:00:00.000000000Z to 2021-09-08T05:00:00.000000000Z\n",
      "CAD_CHF loaded 3999 candles from 2021-01-18T16:00:00.000000000Z to 2021-09-08T05:00:00.000000000Z\n"
     ]
    }
   ],
   "metadata": {}
  },
  {
   "cell_type": "code",
   "execution_count": null,
   "source": [],
   "outputs": [],
   "metadata": {}
  }
 ],
 "metadata": {
  "orig_nbformat": 4,
  "language_info": {
   "name": "python",
   "version": "3.9.7",
   "mimetype": "text/x-python",
   "codemirror_mode": {
    "name": "ipython",
    "version": 3
   },
   "pygments_lexer": "ipython3",
   "nbconvert_exporter": "python",
   "file_extension": ".py"
  },
  "kernelspec": {
   "name": "python3",
   "display_name": "Python 3.9.7 64-bit ('venv': venv)"
  },
  "interpreter": {
   "hash": "b0b5f533ece29e619ef82558aa36dc65e23f2612523c2030a9b8c4d2f5e86771"
  }
 },
 "nbformat": 4,
 "nbformat_minor": 2
}