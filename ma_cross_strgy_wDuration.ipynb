{
 "cells": [
  {
   "cell_type": "markdown",
   "source": [
    "這篇 code 是基於前面的 code，只是增加了 \"計算交易 (持有)時間\" 的 code"
   ],
   "metadata": {}
  },
  {
   "cell_type": "markdown",
   "source": [
    "2021.09.12"
   ],
   "metadata": {}
  },
  {
   "cell_type": "code",
   "execution_count": 1,
   "source": [
    "import pandas as pd\r\n",
    "import plotly.graph_objects as go\r\n",
    "\r\n",
    "import utils\r\n",
    "import instrument"
   ],
   "outputs": [],
   "metadata": {}
  },
  {
   "cell_type": "code",
   "execution_count": 2,
   "source": [
    "pair = 'EUR_USD'\r\n",
    "granularity = 'H1'\r\n",
    "ma_list = [16, 64]\r\n",
    "i_pair = instrument.Instrument.get_instrument_by_name(\"EUR_USD\")"
   ],
   "outputs": [],
   "metadata": {}
  },
  {
   "cell_type": "markdown",
   "source": [
    "### 從 .pkl 檔找出 OANDA 提供的資料"
   ],
   "metadata": {}
  },
  {
   "cell_type": "code",
   "execution_count": 3,
   "source": [
    "df = pd.read_pickle(utils.get_his_data_filename(pair, granularity))\r\n",
    "non_cols = ['time', 'volume']\r\n",
    "mod_cols = [x for x in df.columns if x not in non_cols]\r\n",
    "df[mod_cols] = df[mod_cols].apply(pd.to_numeric)"
   ],
   "outputs": [],
   "metadata": {}
  },
  {
   "cell_type": "code",
   "execution_count": 4,
   "source": [
    "df.head()"
   ],
   "outputs": [
    {
     "output_type": "execute_result",
     "data": {
      "text/html": [
       "<div>\n",
       "<style scoped>\n",
       "    .dataframe tbody tr th:only-of-type {\n",
       "        vertical-align: middle;\n",
       "    }\n",
       "\n",
       "    .dataframe tbody tr th {\n",
       "        vertical-align: top;\n",
       "    }\n",
       "\n",
       "    .dataframe thead th {\n",
       "        text-align: right;\n",
       "    }\n",
       "</style>\n",
       "<table border=\"1\" class=\"dataframe\">\n",
       "  <thead>\n",
       "    <tr style=\"text-align: right;\">\n",
       "      <th></th>\n",
       "      <th>time</th>\n",
       "      <th>volume</th>\n",
       "      <th>mid_o</th>\n",
       "      <th>mid_h</th>\n",
       "      <th>mid_l</th>\n",
       "      <th>mid_c</th>\n",
       "      <th>bid_o</th>\n",
       "      <th>bid_h</th>\n",
       "      <th>bid_l</th>\n",
       "      <th>bid_c</th>\n",
       "      <th>ask_o</th>\n",
       "      <th>ask_h</th>\n",
       "      <th>ask_l</th>\n",
       "      <th>ask_c</th>\n",
       "    </tr>\n",
       "  </thead>\n",
       "  <tbody>\n",
       "    <tr>\n",
       "      <th>0</th>\n",
       "      <td>2021-01-18T16:00:00.000000000Z</td>\n",
       "      <td>2605</td>\n",
       "      <td>1.20749</td>\n",
       "      <td>1.20809</td>\n",
       "      <td>1.20736</td>\n",
       "      <td>1.20767</td>\n",
       "      <td>1.20743</td>\n",
       "      <td>1.20801</td>\n",
       "      <td>1.20729</td>\n",
       "      <td>1.20761</td>\n",
       "      <td>1.20755</td>\n",
       "      <td>1.20817</td>\n",
       "      <td>1.20743</td>\n",
       "      <td>1.20773</td>\n",
       "    </tr>\n",
       "    <tr>\n",
       "      <th>1</th>\n",
       "      <td>2021-01-18T17:00:00.000000000Z</td>\n",
       "      <td>1554</td>\n",
       "      <td>1.20766</td>\n",
       "      <td>1.20767</td>\n",
       "      <td>1.20708</td>\n",
       "      <td>1.20749</td>\n",
       "      <td>1.20759</td>\n",
       "      <td>1.20760</td>\n",
       "      <td>1.20701</td>\n",
       "      <td>1.20742</td>\n",
       "      <td>1.20773</td>\n",
       "      <td>1.20774</td>\n",
       "      <td>1.20714</td>\n",
       "      <td>1.20756</td>\n",
       "    </tr>\n",
       "    <tr>\n",
       "      <th>2</th>\n",
       "      <td>2021-01-18T18:00:00.000000000Z</td>\n",
       "      <td>736</td>\n",
       "      <td>1.20750</td>\n",
       "      <td>1.20780</td>\n",
       "      <td>1.20720</td>\n",
       "      <td>1.20740</td>\n",
       "      <td>1.20743</td>\n",
       "      <td>1.20773</td>\n",
       "      <td>1.20711</td>\n",
       "      <td>1.20734</td>\n",
       "      <td>1.20758</td>\n",
       "      <td>1.20788</td>\n",
       "      <td>1.20729</td>\n",
       "      <td>1.20747</td>\n",
       "    </tr>\n",
       "    <tr>\n",
       "      <th>3</th>\n",
       "      <td>2021-01-18T19:00:00.000000000Z</td>\n",
       "      <td>1452</td>\n",
       "      <td>1.20742</td>\n",
       "      <td>1.20819</td>\n",
       "      <td>1.20739</td>\n",
       "      <td>1.20792</td>\n",
       "      <td>1.20735</td>\n",
       "      <td>1.20810</td>\n",
       "      <td>1.20730</td>\n",
       "      <td>1.20784</td>\n",
       "      <td>1.20748</td>\n",
       "      <td>1.20832</td>\n",
       "      <td>1.20745</td>\n",
       "      <td>1.20801</td>\n",
       "    </tr>\n",
       "    <tr>\n",
       "      <th>4</th>\n",
       "      <td>2021-01-18T20:00:00.000000000Z</td>\n",
       "      <td>316</td>\n",
       "      <td>1.20790</td>\n",
       "      <td>1.20808</td>\n",
       "      <td>1.20770</td>\n",
       "      <td>1.20770</td>\n",
       "      <td>1.20783</td>\n",
       "      <td>1.20800</td>\n",
       "      <td>1.20759</td>\n",
       "      <td>1.20759</td>\n",
       "      <td>1.20798</td>\n",
       "      <td>1.20819</td>\n",
       "      <td>1.20781</td>\n",
       "      <td>1.20781</td>\n",
       "    </tr>\n",
       "  </tbody>\n",
       "</table>\n",
       "</div>"
      ],
      "text/plain": [
       "                             time  volume    mid_o    mid_h    mid_l    mid_c  \\\n",
       "0  2021-01-18T16:00:00.000000000Z    2605  1.20749  1.20809  1.20736  1.20767   \n",
       "1  2021-01-18T17:00:00.000000000Z    1554  1.20766  1.20767  1.20708  1.20749   \n",
       "2  2021-01-18T18:00:00.000000000Z     736  1.20750  1.20780  1.20720  1.20740   \n",
       "3  2021-01-18T19:00:00.000000000Z    1452  1.20742  1.20819  1.20739  1.20792   \n",
       "4  2021-01-18T20:00:00.000000000Z     316  1.20790  1.20808  1.20770  1.20770   \n",
       "\n",
       "     bid_o    bid_h    bid_l    bid_c    ask_o    ask_h    ask_l    ask_c  \n",
       "0  1.20743  1.20801  1.20729  1.20761  1.20755  1.20817  1.20743  1.20773  \n",
       "1  1.20759  1.20760  1.20701  1.20742  1.20773  1.20774  1.20714  1.20756  \n",
       "2  1.20743  1.20773  1.20711  1.20734  1.20758  1.20788  1.20729  1.20747  \n",
       "3  1.20735  1.20810  1.20730  1.20784  1.20748  1.20832  1.20745  1.20801  \n",
       "4  1.20783  1.20800  1.20759  1.20759  1.20798  1.20819  1.20781  1.20781  "
      ]
     },
     "metadata": {},
     "execution_count": 4
    }
   ],
   "metadata": {}
  },
  {
   "cell_type": "markdown",
   "source": [
    "### 去掉我們不需要的 columns"
   ],
   "metadata": {}
  },
  {
   "cell_type": "markdown",
   "source": [
    "注意到:  \r\n",
    "- ```time``` 是要放在 x 軸\r\n",
    "- ```mid_o```, ```mid_l```, ```mid_h```, ```mid_c``` 是為了畫蠟燭圖"
   ],
   "metadata": {}
  },
  {
   "cell_type": "code",
   "execution_count": 5,
   "source": [
    "df_ma = df[ ['time', 'mid_o', 'mid_l', 'mid_h', 'mid_c'] ].copy()"
   ],
   "outputs": [],
   "metadata": {}
  },
  {
   "cell_type": "markdown",
   "source": [
    "### 計算 MA"
   ],
   "metadata": {}
  },
  {
   "cell_type": "code",
   "execution_count": 6,
   "source": [
    "for ma in ma_list:\r\n",
    "    df_ma[f'MA_{ma}'] = df_ma['mid_c'].rolling(window=ma).mean()"
   ],
   "outputs": [],
   "metadata": {}
  },
  {
   "cell_type": "markdown",
   "source": [
    "### 去掉 NA 值"
   ],
   "metadata": {}
  },
  {
   "cell_type": "code",
   "execution_count": 7,
   "source": [
    "df_ma.dropna(inplace=True)\r\n",
    "df_ma.reset_index(drop=True, inplace=True)"
   ],
   "outputs": [],
   "metadata": {}
  },
  {
   "cell_type": "markdown",
   "source": [
    "### 判斷是否交易"
   ],
   "metadata": {}
  },
  {
   "cell_type": "code",
   "execution_count": 8,
   "source": [
    "df_ma[ ['MA_16', 'MA_64']].head()"
   ],
   "outputs": [
    {
     "output_type": "execute_result",
     "data": {
      "text/html": [
       "<div>\n",
       "<style scoped>\n",
       "    .dataframe tbody tr th:only-of-type {\n",
       "        vertical-align: middle;\n",
       "    }\n",
       "\n",
       "    .dataframe tbody tr th {\n",
       "        vertical-align: top;\n",
       "    }\n",
       "\n",
       "    .dataframe thead th {\n",
       "        text-align: right;\n",
       "    }\n",
       "</style>\n",
       "<table border=\"1\" class=\"dataframe\">\n",
       "  <thead>\n",
       "    <tr style=\"text-align: right;\">\n",
       "      <th></th>\n",
       "      <th>MA_16</th>\n",
       "      <th>MA_64</th>\n",
       "    </tr>\n",
       "  </thead>\n",
       "  <tbody>\n",
       "    <tr>\n",
       "      <th>0</th>\n",
       "      <td>1.211770</td>\n",
       "      <td>1.211451</td>\n",
       "    </tr>\n",
       "    <tr>\n",
       "      <th>1</th>\n",
       "      <td>1.211906</td>\n",
       "      <td>1.211538</td>\n",
       "    </tr>\n",
       "    <tr>\n",
       "      <th>2</th>\n",
       "      <td>1.212129</td>\n",
       "      <td>1.211643</td>\n",
       "    </tr>\n",
       "    <tr>\n",
       "      <th>3</th>\n",
       "      <td>1.212316</td>\n",
       "      <td>1.211745</td>\n",
       "    </tr>\n",
       "    <tr>\n",
       "      <th>4</th>\n",
       "      <td>1.212542</td>\n",
       "      <td>1.211845</td>\n",
       "    </tr>\n",
       "  </tbody>\n",
       "</table>\n",
       "</div>"
      ],
      "text/plain": [
       "      MA_16     MA_64\n",
       "0  1.211770  1.211451\n",
       "1  1.211906  1.211538\n",
       "2  1.212129  1.211643\n",
       "3  1.212316  1.211745\n",
       "4  1.212542  1.211845"
      ]
     },
     "metadata": {},
     "execution_count": 8
    }
   ],
   "metadata": {}
  },
  {
   "cell_type": "code",
   "execution_count": 9,
   "source": [
    "df_ma['DIFF'] = df_ma['MA_16'] - df_ma['MA_64']\r\n",
    "df_ma['PREV_DIFF'] = df_ma['DIFF'].shift(1)"
   ],
   "outputs": [],
   "metadata": {}
  },
  {
   "cell_type": "code",
   "execution_count": 10,
   "source": [
    "df_ma.head()\r\n",
    "df_ma.dropna(inplace=True)"
   ],
   "outputs": [],
   "metadata": {}
  },
  {
   "cell_type": "code",
   "execution_count": 11,
   "source": [
    "df_ma.head()"
   ],
   "outputs": [
    {
     "output_type": "execute_result",
     "data": {
      "text/html": [
       "<div>\n",
       "<style scoped>\n",
       "    .dataframe tbody tr th:only-of-type {\n",
       "        vertical-align: middle;\n",
       "    }\n",
       "\n",
       "    .dataframe tbody tr th {\n",
       "        vertical-align: top;\n",
       "    }\n",
       "\n",
       "    .dataframe thead th {\n",
       "        text-align: right;\n",
       "    }\n",
       "</style>\n",
       "<table border=\"1\" class=\"dataframe\">\n",
       "  <thead>\n",
       "    <tr style=\"text-align: right;\">\n",
       "      <th></th>\n",
       "      <th>time</th>\n",
       "      <th>mid_o</th>\n",
       "      <th>mid_l</th>\n",
       "      <th>mid_h</th>\n",
       "      <th>mid_c</th>\n",
       "      <th>MA_16</th>\n",
       "      <th>MA_64</th>\n",
       "      <th>DIFF</th>\n",
       "      <th>PREV_DIFF</th>\n",
       "    </tr>\n",
       "  </thead>\n",
       "  <tbody>\n",
       "    <tr>\n",
       "      <th>1</th>\n",
       "      <td>2021-01-21T08:00:00.000000000Z</td>\n",
       "      <td>1.21196</td>\n",
       "      <td>1.21149</td>\n",
       "      <td>1.21374</td>\n",
       "      <td>1.21320</td>\n",
       "      <td>1.211906</td>\n",
       "      <td>1.211538</td>\n",
       "      <td>0.000368</td>\n",
       "      <td>0.000319</td>\n",
       "    </tr>\n",
       "    <tr>\n",
       "      <th>2</th>\n",
       "      <td>2021-01-21T09:00:00.000000000Z</td>\n",
       "      <td>1.21319</td>\n",
       "      <td>1.21274</td>\n",
       "      <td>1.21460</td>\n",
       "      <td>1.21424</td>\n",
       "      <td>1.212129</td>\n",
       "      <td>1.211643</td>\n",
       "      <td>0.000485</td>\n",
       "      <td>0.000368</td>\n",
       "    </tr>\n",
       "    <tr>\n",
       "      <th>3</th>\n",
       "      <td>2021-01-21T10:00:00.000000000Z</td>\n",
       "      <td>1.21422</td>\n",
       "      <td>1.21351</td>\n",
       "      <td>1.21472</td>\n",
       "      <td>1.21392</td>\n",
       "      <td>1.212316</td>\n",
       "      <td>1.211745</td>\n",
       "      <td>0.000571</td>\n",
       "      <td>0.000485</td>\n",
       "    </tr>\n",
       "    <tr>\n",
       "      <th>4</th>\n",
       "      <td>2021-01-21T11:00:00.000000000Z</td>\n",
       "      <td>1.21393</td>\n",
       "      <td>1.21325</td>\n",
       "      <td>1.21462</td>\n",
       "      <td>1.21433</td>\n",
       "      <td>1.212542</td>\n",
       "      <td>1.211845</td>\n",
       "      <td>0.000697</td>\n",
       "      <td>0.000571</td>\n",
       "    </tr>\n",
       "    <tr>\n",
       "      <th>5</th>\n",
       "      <td>2021-01-21T12:00:00.000000000Z</td>\n",
       "      <td>1.21432</td>\n",
       "      <td>1.21415</td>\n",
       "      <td>1.21551</td>\n",
       "      <td>1.21432</td>\n",
       "      <td>1.212767</td>\n",
       "      <td>1.211949</td>\n",
       "      <td>0.000818</td>\n",
       "      <td>0.000697</td>\n",
       "    </tr>\n",
       "  </tbody>\n",
       "</table>\n",
       "</div>"
      ],
      "text/plain": [
       "                             time    mid_o    mid_l    mid_h    mid_c  \\\n",
       "1  2021-01-21T08:00:00.000000000Z  1.21196  1.21149  1.21374  1.21320   \n",
       "2  2021-01-21T09:00:00.000000000Z  1.21319  1.21274  1.21460  1.21424   \n",
       "3  2021-01-21T10:00:00.000000000Z  1.21422  1.21351  1.21472  1.21392   \n",
       "4  2021-01-21T11:00:00.000000000Z  1.21393  1.21325  1.21462  1.21433   \n",
       "5  2021-01-21T12:00:00.000000000Z  1.21432  1.21415  1.21551  1.21432   \n",
       "\n",
       "      MA_16     MA_64      DIFF  PREV_DIFF  \n",
       "1  1.211906  1.211538  0.000368   0.000319  \n",
       "2  1.212129  1.211643  0.000485   0.000368  \n",
       "3  1.212316  1.211745  0.000571   0.000485  \n",
       "4  1.212542  1.211845  0.000697   0.000571  \n",
       "5  1.212767  1.211949  0.000818   0.000697  "
      ]
     },
     "metadata": {},
     "execution_count": 11
    }
   ],
   "metadata": {}
  },
  {
   "cell_type": "code",
   "execution_count": 12,
   "source": [
    "def is_trade(row):\r\n",
    "    if row['DIFF'] >= 0 and row['PREV_DIFF'] < 0:\r\n",
    "        return 1\r\n",
    "    if row['DIFF'] <= 0 and row['PREV_DIFF'] > 0:\r\n",
    "        return -1\r\n",
    "    else:\r\n",
    "        return 0"
   ],
   "outputs": [],
   "metadata": {}
  },
  {
   "cell_type": "code",
   "execution_count": 13,
   "source": [
    "df_ma['IS_TRADE'] = df_ma.apply(is_trade, axis=1)"
   ],
   "outputs": [],
   "metadata": {}
  },
  {
   "cell_type": "code",
   "execution_count": 14,
   "source": [
    "df_ma['IS_TRADE'].describe()"
   ],
   "outputs": [
    {
     "output_type": "execute_result",
     "data": {
      "text/plain": [
       "count    3935.000000\n",
       "mean       -0.000254\n",
       "std         0.146991\n",
       "min        -1.000000\n",
       "25%         0.000000\n",
       "50%         0.000000\n",
       "75%         0.000000\n",
       "max         1.000000\n",
       "Name: IS_TRADE, dtype: float64"
      ]
     },
     "metadata": {},
     "execution_count": 14
    }
   ],
   "metadata": {}
  },
  {
   "cell_type": "markdown",
   "source": [
    "### ```df_trades```"
   ],
   "metadata": {}
  },
  {
   "cell_type": "code",
   "execution_count": 15,
   "source": [
    "df_trades = df_ma[ df_ma['IS_TRADE'] != 0 ].copy()"
   ],
   "outputs": [],
   "metadata": {}
  },
  {
   "cell_type": "markdown",
   "source": [
    "### 計算損益"
   ],
   "metadata": {}
  },
  {
   "cell_type": "code",
   "execution_count": 16,
   "source": [
    "df_trades['DELTA'] = df_trades['mid_c'].diff().shift(-1)\r\n",
    "df_trades['GAIN'] = df_trades['DELTA'] * df_trades['IS_TRADE']"
   ],
   "outputs": [],
   "metadata": {}
  },
  {
   "cell_type": "code",
   "execution_count": 17,
   "source": [
    "df_trades"
   ],
   "outputs": [
    {
     "output_type": "execute_result",
     "data": {
      "text/html": [
       "<div>\n",
       "<style scoped>\n",
       "    .dataframe tbody tr th:only-of-type {\n",
       "        vertical-align: middle;\n",
       "    }\n",
       "\n",
       "    .dataframe tbody tr th {\n",
       "        vertical-align: top;\n",
       "    }\n",
       "\n",
       "    .dataframe thead th {\n",
       "        text-align: right;\n",
       "    }\n",
       "</style>\n",
       "<table border=\"1\" class=\"dataframe\">\n",
       "  <thead>\n",
       "    <tr style=\"text-align: right;\">\n",
       "      <th></th>\n",
       "      <th>time</th>\n",
       "      <th>mid_o</th>\n",
       "      <th>mid_l</th>\n",
       "      <th>mid_h</th>\n",
       "      <th>mid_c</th>\n",
       "      <th>MA_16</th>\n",
       "      <th>MA_64</th>\n",
       "      <th>DIFF</th>\n",
       "      <th>PREV_DIFF</th>\n",
       "      <th>IS_TRADE</th>\n",
       "      <th>DELTA</th>\n",
       "      <th>GAIN</th>\n",
       "    </tr>\n",
       "  </thead>\n",
       "  <tbody>\n",
       "    <tr>\n",
       "      <th>58</th>\n",
       "      <td>2021-01-25T17:00:00.000000000Z</td>\n",
       "      <td>1.21368</td>\n",
       "      <td>1.21362</td>\n",
       "      <td>1.21475</td>\n",
       "      <td>1.21445</td>\n",
       "      <td>1.215794</td>\n",
       "      <td>1.215855</td>\n",
       "      <td>-0.000060</td>\n",
       "      <td>0.000096</td>\n",
       "      <td>-1</td>\n",
       "      <td>0.00165</td>\n",
       "      <td>-0.00165</td>\n",
       "    </tr>\n",
       "    <tr>\n",
       "      <th>90</th>\n",
       "      <td>2021-01-27T01:00:00.000000000Z</td>\n",
       "      <td>1.21624</td>\n",
       "      <td>1.21584</td>\n",
       "      <td>1.21672</td>\n",
       "      <td>1.21610</td>\n",
       "      <td>1.215634</td>\n",
       "      <td>1.215497</td>\n",
       "      <td>0.000137</td>\n",
       "      <td>-0.000083</td>\n",
       "      <td>1</td>\n",
       "      <td>-0.00531</td>\n",
       "      <td>-0.00531</td>\n",
       "    </tr>\n",
       "    <tr>\n",
       "      <th>101</th>\n",
       "      <td>2021-01-27T12:00:00.000000000Z</td>\n",
       "      <td>1.21164</td>\n",
       "      <td>1.21056</td>\n",
       "      <td>1.21198</td>\n",
       "      <td>1.21079</td>\n",
       "      <td>1.214941</td>\n",
       "      <td>1.215047</td>\n",
       "      <td>-0.000106</td>\n",
       "      <td>0.000171</td>\n",
       "      <td>-1</td>\n",
       "      <td>0.00273</td>\n",
       "      <td>-0.00273</td>\n",
       "    </tr>\n",
       "    <tr>\n",
       "      <th>153</th>\n",
       "      <td>2021-01-29T16:00:00.000000000Z</td>\n",
       "      <td>1.21492</td>\n",
       "      <td>1.21298</td>\n",
       "      <td>1.21534</td>\n",
       "      <td>1.21352</td>\n",
       "      <td>1.212039</td>\n",
       "      <td>1.211844</td>\n",
       "      <td>0.000195</td>\n",
       "      <td>-0.000022</td>\n",
       "      <td>1</td>\n",
       "      <td>-0.00596</td>\n",
       "      <td>-0.00596</td>\n",
       "    </tr>\n",
       "    <tr>\n",
       "      <th>173</th>\n",
       "      <td>2021-02-01T12:00:00.000000000Z</td>\n",
       "      <td>1.20818</td>\n",
       "      <td>1.20722</td>\n",
       "      <td>1.20887</td>\n",
       "      <td>1.20756</td>\n",
       "      <td>1.211494</td>\n",
       "      <td>1.211547</td>\n",
       "      <td>-0.000052</td>\n",
       "      <td>0.000272</td>\n",
       "      <td>-1</td>\n",
       "      <td>-0.00265</td>\n",
       "      <td>0.00265</td>\n",
       "    </tr>\n",
       "    <tr>\n",
       "      <th>...</th>\n",
       "      <td>...</td>\n",
       "      <td>...</td>\n",
       "      <td>...</td>\n",
       "      <td>...</td>\n",
       "      <td>...</td>\n",
       "      <td>...</td>\n",
       "      <td>...</td>\n",
       "      <td>...</td>\n",
       "      <td>...</td>\n",
       "      <td>...</td>\n",
       "      <td>...</td>\n",
       "      <td>...</td>\n",
       "    </tr>\n",
       "    <tr>\n",
       "      <th>3740</th>\n",
       "      <td>2021-08-27T02:00:00.000000000Z</td>\n",
       "      <td>1.17496</td>\n",
       "      <td>1.17494</td>\n",
       "      <td>1.17576</td>\n",
       "      <td>1.17526</td>\n",
       "      <td>1.175463</td>\n",
       "      <td>1.175465</td>\n",
       "      <td>-0.000002</td>\n",
       "      <td>0.000164</td>\n",
       "      <td>-1</td>\n",
       "      <td>0.00156</td>\n",
       "      <td>-0.00156</td>\n",
       "    </tr>\n",
       "    <tr>\n",
       "      <th>3744</th>\n",
       "      <td>2021-08-27T06:00:00.000000000Z</td>\n",
       "      <td>1.17617</td>\n",
       "      <td>1.17588</td>\n",
       "      <td>1.17700</td>\n",
       "      <td>1.17682</td>\n",
       "      <td>1.175588</td>\n",
       "      <td>1.175554</td>\n",
       "      <td>0.000033</td>\n",
       "      <td>-0.000045</td>\n",
       "      <td>1</td>\n",
       "      <td>-0.00170</td>\n",
       "      <td>-0.00170</td>\n",
       "    </tr>\n",
       "    <tr>\n",
       "      <th>3746</th>\n",
       "      <td>2021-08-27T08:00:00.000000000Z</td>\n",
       "      <td>1.17614</td>\n",
       "      <td>1.17505</td>\n",
       "      <td>1.17628</td>\n",
       "      <td>1.17512</td>\n",
       "      <td>1.175572</td>\n",
       "      <td>1.175583</td>\n",
       "      <td>-0.000010</td>\n",
       "      <td>0.000004</td>\n",
       "      <td>-1</td>\n",
       "      <td>0.00078</td>\n",
       "      <td>-0.00078</td>\n",
       "    </tr>\n",
       "    <tr>\n",
       "      <th>3748</th>\n",
       "      <td>2021-08-27T10:00:00.000000000Z</td>\n",
       "      <td>1.17581</td>\n",
       "      <td>1.17556</td>\n",
       "      <td>1.17638</td>\n",
       "      <td>1.17590</td>\n",
       "      <td>1.175645</td>\n",
       "      <td>1.175610</td>\n",
       "      <td>0.000035</td>\n",
       "      <td>-0.000002</td>\n",
       "      <td>1</td>\n",
       "      <td>0.01068</td>\n",
       "      <td>0.01068</td>\n",
       "    </tr>\n",
       "    <tr>\n",
       "      <th>3897</th>\n",
       "      <td>2021-09-06T15:00:00.000000000Z</td>\n",
       "      <td>1.18622</td>\n",
       "      <td>1.18599</td>\n",
       "      <td>1.18672</td>\n",
       "      <td>1.18658</td>\n",
       "      <td>1.186798</td>\n",
       "      <td>1.186835</td>\n",
       "      <td>-0.000038</td>\n",
       "      <td>0.000124</td>\n",
       "      <td>-1</td>\n",
       "      <td>NaN</td>\n",
       "      <td>NaN</td>\n",
       "    </tr>\n",
       "  </tbody>\n",
       "</table>\n",
       "<p>85 rows × 12 columns</p>\n",
       "</div>"
      ],
      "text/plain": [
       "                                time    mid_o    mid_l    mid_h    mid_c  \\\n",
       "58    2021-01-25T17:00:00.000000000Z  1.21368  1.21362  1.21475  1.21445   \n",
       "90    2021-01-27T01:00:00.000000000Z  1.21624  1.21584  1.21672  1.21610   \n",
       "101   2021-01-27T12:00:00.000000000Z  1.21164  1.21056  1.21198  1.21079   \n",
       "153   2021-01-29T16:00:00.000000000Z  1.21492  1.21298  1.21534  1.21352   \n",
       "173   2021-02-01T12:00:00.000000000Z  1.20818  1.20722  1.20887  1.20756   \n",
       "...                              ...      ...      ...      ...      ...   \n",
       "3740  2021-08-27T02:00:00.000000000Z  1.17496  1.17494  1.17576  1.17526   \n",
       "3744  2021-08-27T06:00:00.000000000Z  1.17617  1.17588  1.17700  1.17682   \n",
       "3746  2021-08-27T08:00:00.000000000Z  1.17614  1.17505  1.17628  1.17512   \n",
       "3748  2021-08-27T10:00:00.000000000Z  1.17581  1.17556  1.17638  1.17590   \n",
       "3897  2021-09-06T15:00:00.000000000Z  1.18622  1.18599  1.18672  1.18658   \n",
       "\n",
       "         MA_16     MA_64      DIFF  PREV_DIFF  IS_TRADE    DELTA     GAIN  \n",
       "58    1.215794  1.215855 -0.000060   0.000096        -1  0.00165 -0.00165  \n",
       "90    1.215634  1.215497  0.000137  -0.000083         1 -0.00531 -0.00531  \n",
       "101   1.214941  1.215047 -0.000106   0.000171        -1  0.00273 -0.00273  \n",
       "153   1.212039  1.211844  0.000195  -0.000022         1 -0.00596 -0.00596  \n",
       "173   1.211494  1.211547 -0.000052   0.000272        -1 -0.00265  0.00265  \n",
       "...        ...       ...       ...        ...       ...      ...      ...  \n",
       "3740  1.175463  1.175465 -0.000002   0.000164        -1  0.00156 -0.00156  \n",
       "3744  1.175588  1.175554  0.000033  -0.000045         1 -0.00170 -0.00170  \n",
       "3746  1.175572  1.175583 -0.000010   0.000004        -1  0.00078 -0.00078  \n",
       "3748  1.175645  1.175610  0.000035  -0.000002         1  0.01068  0.01068  \n",
       "3897  1.186798  1.186835 -0.000038   0.000124        -1      NaN      NaN  \n",
       "\n",
       "[85 rows x 12 columns]"
      ]
     },
     "metadata": {},
     "execution_count": 17
    }
   ],
   "metadata": {}
  },
  {
   "cell_type": "markdown",
   "source": [
    "---"
   ],
   "metadata": {}
  },
  {
   "cell_type": "markdown",
   "source": [
    "2021.09.12 新增:  \r\n",
    "- 將交易 (持有)期間算出來  "
   ],
   "metadata": {}
  },
  {
   "cell_type": "code",
   "execution_count": 18,
   "source": [
    "df_trades.info()\r\n",
    "# 欲更改 time 的資料型態 (object -> num)"
   ],
   "outputs": [
    {
     "output_type": "stream",
     "name": "stdout",
     "text": [
      "<class 'pandas.core.frame.DataFrame'>\n",
      "Int64Index: 85 entries, 58 to 3897\n",
      "Data columns (total 12 columns):\n",
      " #   Column     Non-Null Count  Dtype  \n",
      "---  ------     --------------  -----  \n",
      " 0   time       85 non-null     object \n",
      " 1   mid_o      85 non-null     float64\n",
      " 2   mid_l      85 non-null     float64\n",
      " 3   mid_h      85 non-null     float64\n",
      " 4   mid_c      85 non-null     float64\n",
      " 5   MA_16      85 non-null     float64\n",
      " 6   MA_64      85 non-null     float64\n",
      " 7   DIFF       85 non-null     float64\n",
      " 8   PREV_DIFF  85 non-null     float64\n",
      " 9   IS_TRADE   85 non-null     int64  \n",
      " 10  DELTA      84 non-null     float64\n",
      " 11  GAIN       84 non-null     float64\n",
      "dtypes: float64(10), int64(1), object(1)\n",
      "memory usage: 8.6+ KB\n"
     ]
    }
   ],
   "metadata": {}
  },
  {
   "cell_type": "code",
   "execution_count": 19,
   "source": [
    "# python 內建的時間工具\r\n",
    "from dateutil.parser import *"
   ],
   "outputs": [],
   "metadata": {}
  },
  {
   "cell_type": "code",
   "execution_count": 28,
   "source": [
    "df_trades['time'] = [parse(x) for x in df_trades['time'] ]"
   ],
   "outputs": [],
   "metadata": {}
  },
  {
   "cell_type": "code",
   "execution_count": 21,
   "source": [
    "df_trades.info()\r\n",
    "# time 現在變成 datetime 物件了"
   ],
   "outputs": [
    {
     "output_type": "stream",
     "name": "stdout",
     "text": [
      "<class 'pandas.core.frame.DataFrame'>\n",
      "Int64Index: 85 entries, 58 to 3897\n",
      "Data columns (total 13 columns):\n",
      " #   Column     Non-Null Count  Dtype                  \n",
      "---  ------     --------------  -----                  \n",
      " 0   time       85 non-null     object                 \n",
      " 1   mid_o      85 non-null     float64                \n",
      " 2   mid_l      85 non-null     float64                \n",
      " 3   mid_h      85 non-null     float64                \n",
      " 4   mid_c      85 non-null     float64                \n",
      " 5   MA_16      85 non-null     float64                \n",
      " 6   MA_64      85 non-null     float64                \n",
      " 7   DIFF       85 non-null     float64                \n",
      " 8   PREV_DIFF  85 non-null     float64                \n",
      " 9   IS_TRADE   85 non-null     int64                  \n",
      " 10  DELTA      84 non-null     float64                \n",
      " 11  GAIN       84 non-null     float64                \n",
      " 12  DURATION   85 non-null     datetime64[ns, tzutc()]\n",
      "dtypes: datetime64[ns, tzutc()](1), float64(10), int64(1), object(1)\n",
      "memory usage: 9.3+ KB\n"
     ]
    }
   ],
   "metadata": {}
  },
  {
   "cell_type": "code",
   "execution_count": 32,
   "source": [
    "df_trades['DURATION'] = df_trades[\"time\"].diff().shift(-1) # 跟 GAIN 一樣，需要上移一格"
   ],
   "outputs": [],
   "metadata": {}
  },
  {
   "cell_type": "code",
   "execution_count": 33,
   "source": [
    "df_trades.head()"
   ],
   "outputs": [
    {
     "output_type": "execute_result",
     "data": {
      "text/html": [
       "<div>\n",
       "<style scoped>\n",
       "    .dataframe tbody tr th:only-of-type {\n",
       "        vertical-align: middle;\n",
       "    }\n",
       "\n",
       "    .dataframe tbody tr th {\n",
       "        vertical-align: top;\n",
       "    }\n",
       "\n",
       "    .dataframe thead th {\n",
       "        text-align: right;\n",
       "    }\n",
       "</style>\n",
       "<table border=\"1\" class=\"dataframe\">\n",
       "  <thead>\n",
       "    <tr style=\"text-align: right;\">\n",
       "      <th></th>\n",
       "      <th>time</th>\n",
       "      <th>mid_o</th>\n",
       "      <th>mid_l</th>\n",
       "      <th>mid_h</th>\n",
       "      <th>mid_c</th>\n",
       "      <th>MA_16</th>\n",
       "      <th>MA_64</th>\n",
       "      <th>DIFF</th>\n",
       "      <th>PREV_DIFF</th>\n",
       "      <th>IS_TRADE</th>\n",
       "      <th>DELTA</th>\n",
       "      <th>GAIN</th>\n",
       "      <th>DURATION</th>\n",
       "    </tr>\n",
       "  </thead>\n",
       "  <tbody>\n",
       "    <tr>\n",
       "      <th>58</th>\n",
       "      <td>2021-01-25 17:00:00+00:00</td>\n",
       "      <td>1.21368</td>\n",
       "      <td>1.21362</td>\n",
       "      <td>1.21475</td>\n",
       "      <td>1.21445</td>\n",
       "      <td>1.215794</td>\n",
       "      <td>1.215855</td>\n",
       "      <td>-0.000060</td>\n",
       "      <td>0.000096</td>\n",
       "      <td>-1</td>\n",
       "      <td>0.00165</td>\n",
       "      <td>-0.00165</td>\n",
       "      <td>1 days 08:00:00</td>\n",
       "    </tr>\n",
       "    <tr>\n",
       "      <th>90</th>\n",
       "      <td>2021-01-27 01:00:00+00:00</td>\n",
       "      <td>1.21624</td>\n",
       "      <td>1.21584</td>\n",
       "      <td>1.21672</td>\n",
       "      <td>1.21610</td>\n",
       "      <td>1.215634</td>\n",
       "      <td>1.215497</td>\n",
       "      <td>0.000137</td>\n",
       "      <td>-0.000083</td>\n",
       "      <td>1</td>\n",
       "      <td>-0.00531</td>\n",
       "      <td>-0.00531</td>\n",
       "      <td>0 days 11:00:00</td>\n",
       "    </tr>\n",
       "    <tr>\n",
       "      <th>101</th>\n",
       "      <td>2021-01-27 12:00:00+00:00</td>\n",
       "      <td>1.21164</td>\n",
       "      <td>1.21056</td>\n",
       "      <td>1.21198</td>\n",
       "      <td>1.21079</td>\n",
       "      <td>1.214941</td>\n",
       "      <td>1.215047</td>\n",
       "      <td>-0.000106</td>\n",
       "      <td>0.000171</td>\n",
       "      <td>-1</td>\n",
       "      <td>0.00273</td>\n",
       "      <td>-0.00273</td>\n",
       "      <td>2 days 04:00:00</td>\n",
       "    </tr>\n",
       "    <tr>\n",
       "      <th>153</th>\n",
       "      <td>2021-01-29 16:00:00+00:00</td>\n",
       "      <td>1.21492</td>\n",
       "      <td>1.21298</td>\n",
       "      <td>1.21534</td>\n",
       "      <td>1.21352</td>\n",
       "      <td>1.212039</td>\n",
       "      <td>1.211844</td>\n",
       "      <td>0.000195</td>\n",
       "      <td>-0.000022</td>\n",
       "      <td>1</td>\n",
       "      <td>-0.00596</td>\n",
       "      <td>-0.00596</td>\n",
       "      <td>2 days 20:00:00</td>\n",
       "    </tr>\n",
       "    <tr>\n",
       "      <th>173</th>\n",
       "      <td>2021-02-01 12:00:00+00:00</td>\n",
       "      <td>1.20818</td>\n",
       "      <td>1.20722</td>\n",
       "      <td>1.20887</td>\n",
       "      <td>1.20756</td>\n",
       "      <td>1.211494</td>\n",
       "      <td>1.211547</td>\n",
       "      <td>-0.000052</td>\n",
       "      <td>0.000272</td>\n",
       "      <td>-1</td>\n",
       "      <td>-0.00265</td>\n",
       "      <td>0.00265</td>\n",
       "      <td>4 days 08:00:00</td>\n",
       "    </tr>\n",
       "  </tbody>\n",
       "</table>\n",
       "</div>"
      ],
      "text/plain": [
       "                         time    mid_o    mid_l    mid_h    mid_c     MA_16  \\\n",
       "58  2021-01-25 17:00:00+00:00  1.21368  1.21362  1.21475  1.21445  1.215794   \n",
       "90  2021-01-27 01:00:00+00:00  1.21624  1.21584  1.21672  1.21610  1.215634   \n",
       "101 2021-01-27 12:00:00+00:00  1.21164  1.21056  1.21198  1.21079  1.214941   \n",
       "153 2021-01-29 16:00:00+00:00  1.21492  1.21298  1.21534  1.21352  1.212039   \n",
       "173 2021-02-01 12:00:00+00:00  1.20818  1.20722  1.20887  1.20756  1.211494   \n",
       "\n",
       "        MA_64      DIFF  PREV_DIFF  IS_TRADE    DELTA     GAIN        DURATION  \n",
       "58   1.215855 -0.000060   0.000096        -1  0.00165 -0.00165 1 days 08:00:00  \n",
       "90   1.215497  0.000137  -0.000083         1 -0.00531 -0.00531 0 days 11:00:00  \n",
       "101  1.215047 -0.000106   0.000171        -1  0.00273 -0.00273 2 days 04:00:00  \n",
       "153  1.211844  0.000195  -0.000022         1 -0.00596 -0.00596 2 days 20:00:00  \n",
       "173  1.211547 -0.000052   0.000272        -1 -0.00265  0.00265 4 days 08:00:00  "
      ]
     },
     "metadata": {},
     "execution_count": 33
    }
   ],
   "metadata": {}
  },
  {
   "cell_type": "markdown",
   "source": [
    "由上方圖可以看到，雖然成功算出 duration，但希望將其單位轉為小時:"
   ],
   "metadata": {}
  },
  {
   "cell_type": "code",
   "execution_count": 35,
   "source": [
    "df_trades['DURATION'] = [ x.total_seconds() / 3600 for x in df_trades['DURATION'] ]\r\n",
    "df_trades.head()\r\n",
    "# look at first row: 1 天 8 小時 = 32 小時 (成功轉換)"
   ],
   "outputs": [
    {
     "output_type": "execute_result",
     "data": {
      "text/html": [
       "<div>\n",
       "<style scoped>\n",
       "    .dataframe tbody tr th:only-of-type {\n",
       "        vertical-align: middle;\n",
       "    }\n",
       "\n",
       "    .dataframe tbody tr th {\n",
       "        vertical-align: top;\n",
       "    }\n",
       "\n",
       "    .dataframe thead th {\n",
       "        text-align: right;\n",
       "    }\n",
       "</style>\n",
       "<table border=\"1\" class=\"dataframe\">\n",
       "  <thead>\n",
       "    <tr style=\"text-align: right;\">\n",
       "      <th></th>\n",
       "      <th>time</th>\n",
       "      <th>mid_o</th>\n",
       "      <th>mid_l</th>\n",
       "      <th>mid_h</th>\n",
       "      <th>mid_c</th>\n",
       "      <th>MA_16</th>\n",
       "      <th>MA_64</th>\n",
       "      <th>DIFF</th>\n",
       "      <th>PREV_DIFF</th>\n",
       "      <th>IS_TRADE</th>\n",
       "      <th>DELTA</th>\n",
       "      <th>GAIN</th>\n",
       "      <th>DURATION</th>\n",
       "    </tr>\n",
       "  </thead>\n",
       "  <tbody>\n",
       "    <tr>\n",
       "      <th>58</th>\n",
       "      <td>2021-01-25 17:00:00+00:00</td>\n",
       "      <td>1.21368</td>\n",
       "      <td>1.21362</td>\n",
       "      <td>1.21475</td>\n",
       "      <td>1.21445</td>\n",
       "      <td>1.215794</td>\n",
       "      <td>1.215855</td>\n",
       "      <td>-0.000060</td>\n",
       "      <td>0.000096</td>\n",
       "      <td>-1</td>\n",
       "      <td>0.00165</td>\n",
       "      <td>-0.00165</td>\n",
       "      <td>32.0</td>\n",
       "    </tr>\n",
       "    <tr>\n",
       "      <th>90</th>\n",
       "      <td>2021-01-27 01:00:00+00:00</td>\n",
       "      <td>1.21624</td>\n",
       "      <td>1.21584</td>\n",
       "      <td>1.21672</td>\n",
       "      <td>1.21610</td>\n",
       "      <td>1.215634</td>\n",
       "      <td>1.215497</td>\n",
       "      <td>0.000137</td>\n",
       "      <td>-0.000083</td>\n",
       "      <td>1</td>\n",
       "      <td>-0.00531</td>\n",
       "      <td>-0.00531</td>\n",
       "      <td>11.0</td>\n",
       "    </tr>\n",
       "    <tr>\n",
       "      <th>101</th>\n",
       "      <td>2021-01-27 12:00:00+00:00</td>\n",
       "      <td>1.21164</td>\n",
       "      <td>1.21056</td>\n",
       "      <td>1.21198</td>\n",
       "      <td>1.21079</td>\n",
       "      <td>1.214941</td>\n",
       "      <td>1.215047</td>\n",
       "      <td>-0.000106</td>\n",
       "      <td>0.000171</td>\n",
       "      <td>-1</td>\n",
       "      <td>0.00273</td>\n",
       "      <td>-0.00273</td>\n",
       "      <td>52.0</td>\n",
       "    </tr>\n",
       "    <tr>\n",
       "      <th>153</th>\n",
       "      <td>2021-01-29 16:00:00+00:00</td>\n",
       "      <td>1.21492</td>\n",
       "      <td>1.21298</td>\n",
       "      <td>1.21534</td>\n",
       "      <td>1.21352</td>\n",
       "      <td>1.212039</td>\n",
       "      <td>1.211844</td>\n",
       "      <td>0.000195</td>\n",
       "      <td>-0.000022</td>\n",
       "      <td>1</td>\n",
       "      <td>-0.00596</td>\n",
       "      <td>-0.00596</td>\n",
       "      <td>68.0</td>\n",
       "    </tr>\n",
       "    <tr>\n",
       "      <th>173</th>\n",
       "      <td>2021-02-01 12:00:00+00:00</td>\n",
       "      <td>1.20818</td>\n",
       "      <td>1.20722</td>\n",
       "      <td>1.20887</td>\n",
       "      <td>1.20756</td>\n",
       "      <td>1.211494</td>\n",
       "      <td>1.211547</td>\n",
       "      <td>-0.000052</td>\n",
       "      <td>0.000272</td>\n",
       "      <td>-1</td>\n",
       "      <td>-0.00265</td>\n",
       "      <td>0.00265</td>\n",
       "      <td>104.0</td>\n",
       "    </tr>\n",
       "  </tbody>\n",
       "</table>\n",
       "</div>"
      ],
      "text/plain": [
       "                         time    mid_o    mid_l    mid_h    mid_c     MA_16  \\\n",
       "58  2021-01-25 17:00:00+00:00  1.21368  1.21362  1.21475  1.21445  1.215794   \n",
       "90  2021-01-27 01:00:00+00:00  1.21624  1.21584  1.21672  1.21610  1.215634   \n",
       "101 2021-01-27 12:00:00+00:00  1.21164  1.21056  1.21198  1.21079  1.214941   \n",
       "153 2021-01-29 16:00:00+00:00  1.21492  1.21298  1.21534  1.21352  1.212039   \n",
       "173 2021-02-01 12:00:00+00:00  1.20818  1.20722  1.20887  1.20756  1.211494   \n",
       "\n",
       "        MA_64      DIFF  PREV_DIFF  IS_TRADE    DELTA     GAIN  DURATION  \n",
       "58   1.215855 -0.000060   0.000096        -1  0.00165 -0.00165      32.0  \n",
       "90   1.215497  0.000137  -0.000083         1 -0.00531 -0.00531      11.0  \n",
       "101  1.215047 -0.000106   0.000171        -1  0.00273 -0.00273      52.0  \n",
       "153  1.211844  0.000195  -0.000022         1 -0.00596 -0.00596      68.0  \n",
       "173  1.211547 -0.000052   0.000272        -1 -0.00265  0.00265     104.0  "
      ]
     },
     "metadata": {},
     "execution_count": 35
    }
   ],
   "metadata": {}
  },
  {
   "cell_type": "markdown",
   "source": [
    "---"
   ],
   "metadata": {}
  },
  {
   "cell_type": "markdown",
   "source": [
    "### 畫出某些特定時段的 candle"
   ],
   "metadata": {}
  },
  {
   "cell_type": "code",
   "execution_count": 24,
   "source": [
    "df_plot = df_ma.iloc[50:120].copy()"
   ],
   "outputs": [],
   "metadata": {}
  },
  {
   "cell_type": "code",
   "execution_count": 25,
   "source": [
    "df_plot.shape"
   ],
   "outputs": [
    {
     "output_type": "execute_result",
     "data": {
      "text/plain": [
       "(70, 10)"
      ]
     },
     "metadata": {},
     "execution_count": 25
    }
   ],
   "metadata": {}
  },
  {
   "cell_type": "code",
   "execution_count": 26,
   "source": [
    "fig = go.Figure()\r\n",
    "fig.add_trace(go.Candlestick(\r\n",
    "    x=df_plot.time, open=df_plot.mid_o, high=df_plot.mid_h, low=df_plot.mid_l, close=df_plot.mid_c,\r\n",
    "    line=dict(width=1), opacity=1,\r\n",
    "    increasing_fillcolor='#24A06B',\r\n",
    "    decreasing_fillcolor=\"#CC2E3C\",\r\n",
    "    increasing_line_color='#2EC886',  \r\n",
    "    decreasing_line_color='#FF3A4C'\r\n",
    "))\r\n",
    "for ma in ma_list:  \r\n",
    "    col = f\"MA_{ma}\"\r\n",
    "    fig.add_trace(go.Scatter(x=df_plot.time, \r\n",
    "        y=df_plot[col],\r\n",
    "        line=dict(width=2),\r\n",
    "        line_shape='spline',\r\n",
    "        name=col\r\n",
    "        ))\r\n",
    "fig.update_layout(width=1000,height=400,\r\n",
    "    margin=dict(l=10,r=10,b=10,t=10),\r\n",
    "    font=dict(size=10,color=\"#e1e1e1\"),\r\n",
    "    paper_bgcolor=\"#1e1e1e\",\r\n",
    "    plot_bgcolor=\"#1e1e1e\")\r\n",
    "fig.update_xaxes(\r\n",
    "    gridcolor=\"#1f292f\",\r\n",
    "    showgrid=True,fixedrange=True,rangeslider=dict(visible=False)\r\n",
    ")\r\n",
    "fig.update_yaxes(\r\n",
    "    gridcolor=\"#1f292f\",\r\n",
    "    showgrid=True\r\n",
    ")\r\n",
    "fig.show()"
   ],
   "outputs": [
    {
     "output_type": "display_data",
     "data": {
      "application/vnd.plotly.v1+json": {
       "config": {
        "plotlyServerURL": "https://plot.ly"
       },
       "data": [
        {
         "close": [
          1.21573,
          1.21568,
          1.21534,
          1.2147,
          1.21207,
          1.21302,
          1.21369,
          1.21445,
          1.2143,
          1.21388,
          1.21416,
          1.21416,
          1.21434,
          1.21428,
          1.21344,
          1.21456,
          1.21424,
          1.21398,
          1.21304,
          1.21311,
          1.21273,
          1.21114,
          1.21384,
          1.2129,
          1.2127,
          1.21376,
          1.21444,
          1.21566,
          1.21593,
          1.21678,
          1.21464,
          1.21574,
          1.21639,
          1.21647,
          1.21674,
          1.216,
          1.2162,
          1.21634,
          1.21625,
          1.2161,
          1.21592,
          1.21568,
          1.21574,
          1.21632,
          1.21631,
          1.21552,
          1.21482,
          1.21228,
          1.21312,
          1.21166,
          1.21079,
          1.21112,
          1.20684,
          1.20912,
          1.21004,
          1.21179,
          1.21204,
          1.21001,
          1.2105,
          1.2112,
          1.21088,
          1.2103,
          1.20881,
          1.21014,
          1.20944,
          1.20913,
          1.20937,
          1.21056,
          1.21035,
          1.2094
         ],
         "decreasing": {
          "fillcolor": "#CC2E3C",
          "line": {
           "color": "#FF3A4C"
          }
         },
         "high": [
          1.2159,
          1.21627,
          1.21596,
          1.21537,
          1.21524,
          1.21314,
          1.21382,
          1.21475,
          1.21467,
          1.21446,
          1.21418,
          1.21436,
          1.21449,
          1.21444,
          1.21427,
          1.21458,
          1.21463,
          1.21442,
          1.214,
          1.21319,
          1.21312,
          1.21314,
          1.21416,
          1.21388,
          1.2135,
          1.21427,
          1.21492,
          1.21619,
          1.21644,
          1.2176,
          1.2169,
          1.21584,
          1.21652,
          1.21683,
          1.21678,
          1.21686,
          1.21648,
          1.21638,
          1.21699,
          1.21672,
          1.21612,
          1.21594,
          1.21581,
          1.21652,
          1.2166,
          1.21632,
          1.21586,
          1.21489,
          1.2133,
          1.21312,
          1.21198,
          1.21171,
          1.21125,
          1.20984,
          1.21096,
          1.21194,
          1.21208,
          1.2129,
          1.21081,
          1.21142,
          1.2112,
          1.21112,
          1.2105,
          1.2106,
          1.21052,
          1.20943,
          1.2094,
          1.21056,
          1.21054,
          1.21034
         ],
         "increasing": {
          "fillcolor": "#24A06B",
          "line": {
           "color": "#2EC886"
          }
         },
         "line": {
          "width": 1
         },
         "low": [
          1.21402,
          1.21543,
          1.21498,
          1.21435,
          1.21198,
          1.21161,
          1.21196,
          1.21362,
          1.21402,
          1.21369,
          1.21361,
          1.21385,
          1.21374,
          1.21417,
          1.21332,
          1.21334,
          1.21424,
          1.21378,
          1.21274,
          1.2127,
          1.21234,
          1.21078,
          1.21116,
          1.2121,
          1.21232,
          1.21251,
          1.21361,
          1.21406,
          1.2154,
          1.21575,
          1.21399,
          1.2146,
          1.21563,
          1.21596,
          1.2164,
          1.2159,
          1.2161,
          1.21604,
          1.21606,
          1.21584,
          1.21554,
          1.21548,
          1.21531,
          1.21562,
          1.21588,
          1.21518,
          1.21439,
          1.21194,
          1.21188,
          1.21135,
          1.21056,
          1.20981,
          1.20585,
          1.20678,
          1.20894,
          1.20971,
          1.21106,
          1.2098,
          1.20933,
          1.2102,
          1.21062,
          1.20945,
          1.20826,
          1.20862,
          1.20907,
          1.20877,
          1.2087,
          1.20916,
          1.20934,
          1.20808
         ],
         "opacity": 1,
         "open": [
          1.21474,
          1.21574,
          1.21566,
          1.21536,
          1.21472,
          1.21205,
          1.21301,
          1.21368,
          1.21446,
          1.21432,
          1.21389,
          1.21414,
          1.21416,
          1.21432,
          1.21427,
          1.21344,
          1.21455,
          1.21426,
          1.21396,
          1.21305,
          1.2131,
          1.21275,
          1.21116,
          1.21385,
          1.21292,
          1.21268,
          1.21378,
          1.21444,
          1.21568,
          1.21592,
          1.21679,
          1.21464,
          1.21573,
          1.21638,
          1.21648,
          1.21676,
          1.2162,
          1.21616,
          1.21633,
          1.21624,
          1.2161,
          1.2159,
          1.2157,
          1.21573,
          1.2163,
          1.21632,
          1.21554,
          1.2148,
          1.21226,
          1.21311,
          1.21164,
          1.21078,
          1.21113,
          1.20684,
          1.20914,
          1.21004,
          1.2118,
          1.21202,
          1.21002,
          1.21048,
          1.2112,
          1.21086,
          1.21028,
          1.20879,
          1.21013,
          1.20943,
          1.20914,
          1.20936,
          1.21054,
          1.21034
         ],
         "type": "candlestick",
         "x": [
          "2021-01-25T10:00:00.000000000Z",
          "2021-01-25T11:00:00.000000000Z",
          "2021-01-25T12:00:00.000000000Z",
          "2021-01-25T13:00:00.000000000Z",
          "2021-01-25T14:00:00.000000000Z",
          "2021-01-25T15:00:00.000000000Z",
          "2021-01-25T16:00:00.000000000Z",
          "2021-01-25T17:00:00.000000000Z",
          "2021-01-25T18:00:00.000000000Z",
          "2021-01-25T19:00:00.000000000Z",
          "2021-01-25T20:00:00.000000000Z",
          "2021-01-25T21:00:00.000000000Z",
          "2021-01-25T22:00:00.000000000Z",
          "2021-01-25T23:00:00.000000000Z",
          "2021-01-26T00:00:00.000000000Z",
          "2021-01-26T01:00:00.000000000Z",
          "2021-01-26T02:00:00.000000000Z",
          "2021-01-26T03:00:00.000000000Z",
          "2021-01-26T04:00:00.000000000Z",
          "2021-01-26T05:00:00.000000000Z",
          "2021-01-26T06:00:00.000000000Z",
          "2021-01-26T07:00:00.000000000Z",
          "2021-01-26T08:00:00.000000000Z",
          "2021-01-26T09:00:00.000000000Z",
          "2021-01-26T10:00:00.000000000Z",
          "2021-01-26T11:00:00.000000000Z",
          "2021-01-26T12:00:00.000000000Z",
          "2021-01-26T13:00:00.000000000Z",
          "2021-01-26T14:00:00.000000000Z",
          "2021-01-26T15:00:00.000000000Z",
          "2021-01-26T16:00:00.000000000Z",
          "2021-01-26T17:00:00.000000000Z",
          "2021-01-26T18:00:00.000000000Z",
          "2021-01-26T19:00:00.000000000Z",
          "2021-01-26T20:00:00.000000000Z",
          "2021-01-26T21:00:00.000000000Z",
          "2021-01-26T22:00:00.000000000Z",
          "2021-01-26T23:00:00.000000000Z",
          "2021-01-27T00:00:00.000000000Z",
          "2021-01-27T01:00:00.000000000Z",
          "2021-01-27T02:00:00.000000000Z",
          "2021-01-27T03:00:00.000000000Z",
          "2021-01-27T04:00:00.000000000Z",
          "2021-01-27T05:00:00.000000000Z",
          "2021-01-27T06:00:00.000000000Z",
          "2021-01-27T07:00:00.000000000Z",
          "2021-01-27T08:00:00.000000000Z",
          "2021-01-27T09:00:00.000000000Z",
          "2021-01-27T10:00:00.000000000Z",
          "2021-01-27T11:00:00.000000000Z",
          "2021-01-27T12:00:00.000000000Z",
          "2021-01-27T13:00:00.000000000Z",
          "2021-01-27T14:00:00.000000000Z",
          "2021-01-27T15:00:00.000000000Z",
          "2021-01-27T16:00:00.000000000Z",
          "2021-01-27T17:00:00.000000000Z",
          "2021-01-27T18:00:00.000000000Z",
          "2021-01-27T19:00:00.000000000Z",
          "2021-01-27T20:00:00.000000000Z",
          "2021-01-27T21:00:00.000000000Z",
          "2021-01-27T22:00:00.000000000Z",
          "2021-01-27T23:00:00.000000000Z",
          "2021-01-28T00:00:00.000000000Z",
          "2021-01-28T01:00:00.000000000Z",
          "2021-01-28T02:00:00.000000000Z",
          "2021-01-28T03:00:00.000000000Z",
          "2021-01-28T04:00:00.000000000Z",
          "2021-01-28T05:00:00.000000000Z",
          "2021-01-28T06:00:00.000000000Z",
          "2021-01-28T07:00:00.000000000Z"
         ]
        },
        {
         "line": {
          "shape": "spline",
          "width": 2
         },
         "name": "MA_16",
         "type": "scatter",
         "x": [
          "2021-01-25T10:00:00.000000000Z",
          "2021-01-25T11:00:00.000000000Z",
          "2021-01-25T12:00:00.000000000Z",
          "2021-01-25T13:00:00.000000000Z",
          "2021-01-25T14:00:00.000000000Z",
          "2021-01-25T15:00:00.000000000Z",
          "2021-01-25T16:00:00.000000000Z",
          "2021-01-25T17:00:00.000000000Z",
          "2021-01-25T18:00:00.000000000Z",
          "2021-01-25T19:00:00.000000000Z",
          "2021-01-25T20:00:00.000000000Z",
          "2021-01-25T21:00:00.000000000Z",
          "2021-01-25T22:00:00.000000000Z",
          "2021-01-25T23:00:00.000000000Z",
          "2021-01-26T00:00:00.000000000Z",
          "2021-01-26T01:00:00.000000000Z",
          "2021-01-26T02:00:00.000000000Z",
          "2021-01-26T03:00:00.000000000Z",
          "2021-01-26T04:00:00.000000000Z",
          "2021-01-26T05:00:00.000000000Z",
          "2021-01-26T06:00:00.000000000Z",
          "2021-01-26T07:00:00.000000000Z",
          "2021-01-26T08:00:00.000000000Z",
          "2021-01-26T09:00:00.000000000Z",
          "2021-01-26T10:00:00.000000000Z",
          "2021-01-26T11:00:00.000000000Z",
          "2021-01-26T12:00:00.000000000Z",
          "2021-01-26T13:00:00.000000000Z",
          "2021-01-26T14:00:00.000000000Z",
          "2021-01-26T15:00:00.000000000Z",
          "2021-01-26T16:00:00.000000000Z",
          "2021-01-26T17:00:00.000000000Z",
          "2021-01-26T18:00:00.000000000Z",
          "2021-01-26T19:00:00.000000000Z",
          "2021-01-26T20:00:00.000000000Z",
          "2021-01-26T21:00:00.000000000Z",
          "2021-01-26T22:00:00.000000000Z",
          "2021-01-26T23:00:00.000000000Z",
          "2021-01-27T00:00:00.000000000Z",
          "2021-01-27T01:00:00.000000000Z",
          "2021-01-27T02:00:00.000000000Z",
          "2021-01-27T03:00:00.000000000Z",
          "2021-01-27T04:00:00.000000000Z",
          "2021-01-27T05:00:00.000000000Z",
          "2021-01-27T06:00:00.000000000Z",
          "2021-01-27T07:00:00.000000000Z",
          "2021-01-27T08:00:00.000000000Z",
          "2021-01-27T09:00:00.000000000Z",
          "2021-01-27T10:00:00.000000000Z",
          "2021-01-27T11:00:00.000000000Z",
          "2021-01-27T12:00:00.000000000Z",
          "2021-01-27T13:00:00.000000000Z",
          "2021-01-27T14:00:00.000000000Z",
          "2021-01-27T15:00:00.000000000Z",
          "2021-01-27T16:00:00.000000000Z",
          "2021-01-27T17:00:00.000000000Z",
          "2021-01-27T18:00:00.000000000Z",
          "2021-01-27T19:00:00.000000000Z",
          "2021-01-27T20:00:00.000000000Z",
          "2021-01-27T21:00:00.000000000Z",
          "2021-01-27T22:00:00.000000000Z",
          "2021-01-27T23:00:00.000000000Z",
          "2021-01-28T00:00:00.000000000Z",
          "2021-01-28T01:00:00.000000000Z",
          "2021-01-28T02:00:00.000000000Z",
          "2021-01-28T03:00:00.000000000Z",
          "2021-01-28T04:00:00.000000000Z",
          "2021-01-28T05:00:00.000000000Z",
          "2021-01-28T06:00:00.000000000Z",
          "2021-01-28T07:00:00.000000000Z"
         ],
         "y": [
          1.2169456250000001,
          1.216884375,
          1.216791875,
          1.216636875,
          1.2163431249999999,
          1.216111875,
          1.215918125,
          1.215794375,
          1.2156225,
          1.215395625,
          1.21518,
          1.2149349999999999,
          1.2147237499999999,
          1.214493125,
          1.2142499999999998,
          1.2142375,
          1.214144375,
          1.214038125,
          1.213894375,
          1.213795,
          1.2138362500000002,
          1.2137187500000002,
          1.213728125,
          1.21363125,
          1.21353125,
          1.21352375,
          1.21354125,
          1.213635,
          1.213734375,
          1.213890625,
          1.2139656250000002,
          1.2140393749999998,
          1.2141737499999998,
          1.214329375,
          1.214560625,
          1.2147412499999999,
          1.2149581249999999,
          1.2152831249999998,
          1.21543375,
          1.2156337499999998,
          1.215835,
          1.2159550000000001,
          1.2160362500000002,
          1.2160775000000001,
          1.2161012500000001,
          1.2160225,
          1.21603375,
          1.2158175,
          1.215613125,
          1.2153125,
          1.2149406249999999,
          1.214635625,
          1.214050625,
          1.213599375,
          1.2132112499999999,
          1.2129418749999998,
          1.2126993750000001,
          1.212345,
          1.2120175,
          1.2116974999999999,
          1.2113581249999998,
          1.211031875,
          1.21065625,
          1.2105225000000002,
          1.2102925,
          1.210134375,
          1.210045625,
          1.210010625,
          1.21023,
          1.2102475000000001
         ]
        },
        {
         "line": {
          "shape": "spline",
          "width": 2
         },
         "name": "MA_64",
         "type": "scatter",
         "x": [
          "2021-01-25T10:00:00.000000000Z",
          "2021-01-25T11:00:00.000000000Z",
          "2021-01-25T12:00:00.000000000Z",
          "2021-01-25T13:00:00.000000000Z",
          "2021-01-25T14:00:00.000000000Z",
          "2021-01-25T15:00:00.000000000Z",
          "2021-01-25T16:00:00.000000000Z",
          "2021-01-25T17:00:00.000000000Z",
          "2021-01-25T18:00:00.000000000Z",
          "2021-01-25T19:00:00.000000000Z",
          "2021-01-25T20:00:00.000000000Z",
          "2021-01-25T21:00:00.000000000Z",
          "2021-01-25T22:00:00.000000000Z",
          "2021-01-25T23:00:00.000000000Z",
          "2021-01-26T00:00:00.000000000Z",
          "2021-01-26T01:00:00.000000000Z",
          "2021-01-26T02:00:00.000000000Z",
          "2021-01-26T03:00:00.000000000Z",
          "2021-01-26T04:00:00.000000000Z",
          "2021-01-26T05:00:00.000000000Z",
          "2021-01-26T06:00:00.000000000Z",
          "2021-01-26T07:00:00.000000000Z",
          "2021-01-26T08:00:00.000000000Z",
          "2021-01-26T09:00:00.000000000Z",
          "2021-01-26T10:00:00.000000000Z",
          "2021-01-26T11:00:00.000000000Z",
          "2021-01-26T12:00:00.000000000Z",
          "2021-01-26T13:00:00.000000000Z",
          "2021-01-26T14:00:00.000000000Z",
          "2021-01-26T15:00:00.000000000Z",
          "2021-01-26T16:00:00.000000000Z",
          "2021-01-26T17:00:00.000000000Z",
          "2021-01-26T18:00:00.000000000Z",
          "2021-01-26T19:00:00.000000000Z",
          "2021-01-26T20:00:00.000000000Z",
          "2021-01-26T21:00:00.000000000Z",
          "2021-01-26T22:00:00.000000000Z",
          "2021-01-26T23:00:00.000000000Z",
          "2021-01-27T00:00:00.000000000Z",
          "2021-01-27T01:00:00.000000000Z",
          "2021-01-27T02:00:00.000000000Z",
          "2021-01-27T03:00:00.000000000Z",
          "2021-01-27T04:00:00.000000000Z",
          "2021-01-27T05:00:00.000000000Z",
          "2021-01-27T06:00:00.000000000Z",
          "2021-01-27T07:00:00.000000000Z",
          "2021-01-27T08:00:00.000000000Z",
          "2021-01-27T09:00:00.000000000Z",
          "2021-01-27T10:00:00.000000000Z",
          "2021-01-27T11:00:00.000000000Z",
          "2021-01-27T12:00:00.000000000Z",
          "2021-01-27T13:00:00.000000000Z",
          "2021-01-27T14:00:00.000000000Z",
          "2021-01-27T15:00:00.000000000Z",
          "2021-01-27T16:00:00.000000000Z",
          "2021-01-27T17:00:00.000000000Z",
          "2021-01-27T18:00:00.000000000Z",
          "2021-01-27T19:00:00.000000000Z",
          "2021-01-27T20:00:00.000000000Z",
          "2021-01-27T21:00:00.000000000Z",
          "2021-01-27T22:00:00.000000000Z",
          "2021-01-27T23:00:00.000000000Z",
          "2021-01-28T00:00:00.000000000Z",
          "2021-01-28T01:00:00.000000000Z",
          "2021-01-28T02:00:00.000000000Z",
          "2021-01-28T03:00:00.000000000Z",
          "2021-01-28T04:00:00.000000000Z",
          "2021-01-28T05:00:00.000000000Z",
          "2021-01-28T06:00:00.000000000Z",
          "2021-01-28T07:00:00.000000000Z"
         ],
         "y": [
          1.2155375,
          1.2156150000000001,
          1.2156871875000002,
          1.2157509375,
          1.2157679687499998,
          1.21579234375,
          1.2158225,
          1.21585453125,
          1.21588203125,
          1.2158962500000001,
          1.215915,
          1.2159256250000001,
          1.2159446875,
          1.21598078125,
          1.2159845312500002,
          1.21598953125,
          1.21599453125,
          1.2159890624999998,
          1.2159690625,
          1.21593703125,
          1.2159015624999998,
          1.2158393749999998,
          1.215833125,
          1.2158025000000001,
          1.215758125,
          1.2157228125,
          1.2156846875,
          1.2156675000000001,
          1.2156543750000002,
          1.2156578125000002,
          1.21562234375,
          1.21559796875,
          1.2155818749999998,
          1.21556765625,
          1.21555796875,
          1.2155390625,
          1.21553375,
          1.2155440625,
          1.21551671875,
          1.2154967187499999,
          1.2154823437500002,
          1.21545140625,
          1.21544109375,
          1.2154373437500001,
          1.2154203125,
          1.21539359375,
          1.21534765625,
          1.21527828125,
          1.21521921875,
          1.21514109375,
          1.215046875,
          1.2149521875,
          1.21479703125,
          1.2146782812499999,
          1.2145728125000002,
          1.2145003125,
          1.21442203125,
          1.21430484375,
          1.21419375,
          1.21408625,
          1.213979375,
          1.21385953125,
          1.2137264062500002,
          1.21365421875,
          1.2135559375,
          1.21345359375,
          1.2133603124999999,
          1.213295625,
          1.2132687500000001,
          1.2132121875000001
         ]
        }
       ],
       "layout": {
        "font": {
         "color": "#e1e1e1",
         "size": 10
        },
        "height": 400,
        "margin": {
         "b": 10,
         "l": 10,
         "r": 10,
         "t": 10
        },
        "paper_bgcolor": "#1e1e1e",
        "plot_bgcolor": "#1e1e1e",
        "template": {
         "data": {
          "bar": [
           {
            "error_x": {
             "color": "#2a3f5f"
            },
            "error_y": {
             "color": "#2a3f5f"
            },
            "marker": {
             "line": {
              "color": "#E5ECF6",
              "width": 0.5
             },
             "pattern": {
              "fillmode": "overlay",
              "size": 10,
              "solidity": 0.2
             }
            },
            "type": "bar"
           }
          ],
          "barpolar": [
           {
            "marker": {
             "line": {
              "color": "#E5ECF6",
              "width": 0.5
             },
             "pattern": {
              "fillmode": "overlay",
              "size": 10,
              "solidity": 0.2
             }
            },
            "type": "barpolar"
           }
          ],
          "carpet": [
           {
            "aaxis": {
             "endlinecolor": "#2a3f5f",
             "gridcolor": "white",
             "linecolor": "white",
             "minorgridcolor": "white",
             "startlinecolor": "#2a3f5f"
            },
            "baxis": {
             "endlinecolor": "#2a3f5f",
             "gridcolor": "white",
             "linecolor": "white",
             "minorgridcolor": "white",
             "startlinecolor": "#2a3f5f"
            },
            "type": "carpet"
           }
          ],
          "choropleth": [
           {
            "colorbar": {
             "outlinewidth": 0,
             "ticks": ""
            },
            "type": "choropleth"
           }
          ],
          "contour": [
           {
            "colorbar": {
             "outlinewidth": 0,
             "ticks": ""
            },
            "colorscale": [
             [
              0,
              "#0d0887"
             ],
             [
              0.1111111111111111,
              "#46039f"
             ],
             [
              0.2222222222222222,
              "#7201a8"
             ],
             [
              0.3333333333333333,
              "#9c179e"
             ],
             [
              0.4444444444444444,
              "#bd3786"
             ],
             [
              0.5555555555555556,
              "#d8576b"
             ],
             [
              0.6666666666666666,
              "#ed7953"
             ],
             [
              0.7777777777777778,
              "#fb9f3a"
             ],
             [
              0.8888888888888888,
              "#fdca26"
             ],
             [
              1,
              "#f0f921"
             ]
            ],
            "type": "contour"
           }
          ],
          "contourcarpet": [
           {
            "colorbar": {
             "outlinewidth": 0,
             "ticks": ""
            },
            "type": "contourcarpet"
           }
          ],
          "heatmap": [
           {
            "colorbar": {
             "outlinewidth": 0,
             "ticks": ""
            },
            "colorscale": [
             [
              0,
              "#0d0887"
             ],
             [
              0.1111111111111111,
              "#46039f"
             ],
             [
              0.2222222222222222,
              "#7201a8"
             ],
             [
              0.3333333333333333,
              "#9c179e"
             ],
             [
              0.4444444444444444,
              "#bd3786"
             ],
             [
              0.5555555555555556,
              "#d8576b"
             ],
             [
              0.6666666666666666,
              "#ed7953"
             ],
             [
              0.7777777777777778,
              "#fb9f3a"
             ],
             [
              0.8888888888888888,
              "#fdca26"
             ],
             [
              1,
              "#f0f921"
             ]
            ],
            "type": "heatmap"
           }
          ],
          "heatmapgl": [
           {
            "colorbar": {
             "outlinewidth": 0,
             "ticks": ""
            },
            "colorscale": [
             [
              0,
              "#0d0887"
             ],
             [
              0.1111111111111111,
              "#46039f"
             ],
             [
              0.2222222222222222,
              "#7201a8"
             ],
             [
              0.3333333333333333,
              "#9c179e"
             ],
             [
              0.4444444444444444,
              "#bd3786"
             ],
             [
              0.5555555555555556,
              "#d8576b"
             ],
             [
              0.6666666666666666,
              "#ed7953"
             ],
             [
              0.7777777777777778,
              "#fb9f3a"
             ],
             [
              0.8888888888888888,
              "#fdca26"
             ],
             [
              1,
              "#f0f921"
             ]
            ],
            "type": "heatmapgl"
           }
          ],
          "histogram": [
           {
            "marker": {
             "pattern": {
              "fillmode": "overlay",
              "size": 10,
              "solidity": 0.2
             }
            },
            "type": "histogram"
           }
          ],
          "histogram2d": [
           {
            "colorbar": {
             "outlinewidth": 0,
             "ticks": ""
            },
            "colorscale": [
             [
              0,
              "#0d0887"
             ],
             [
              0.1111111111111111,
              "#46039f"
             ],
             [
              0.2222222222222222,
              "#7201a8"
             ],
             [
              0.3333333333333333,
              "#9c179e"
             ],
             [
              0.4444444444444444,
              "#bd3786"
             ],
             [
              0.5555555555555556,
              "#d8576b"
             ],
             [
              0.6666666666666666,
              "#ed7953"
             ],
             [
              0.7777777777777778,
              "#fb9f3a"
             ],
             [
              0.8888888888888888,
              "#fdca26"
             ],
             [
              1,
              "#f0f921"
             ]
            ],
            "type": "histogram2d"
           }
          ],
          "histogram2dcontour": [
           {
            "colorbar": {
             "outlinewidth": 0,
             "ticks": ""
            },
            "colorscale": [
             [
              0,
              "#0d0887"
             ],
             [
              0.1111111111111111,
              "#46039f"
             ],
             [
              0.2222222222222222,
              "#7201a8"
             ],
             [
              0.3333333333333333,
              "#9c179e"
             ],
             [
              0.4444444444444444,
              "#bd3786"
             ],
             [
              0.5555555555555556,
              "#d8576b"
             ],
             [
              0.6666666666666666,
              "#ed7953"
             ],
             [
              0.7777777777777778,
              "#fb9f3a"
             ],
             [
              0.8888888888888888,
              "#fdca26"
             ],
             [
              1,
              "#f0f921"
             ]
            ],
            "type": "histogram2dcontour"
           }
          ],
          "mesh3d": [
           {
            "colorbar": {
             "outlinewidth": 0,
             "ticks": ""
            },
            "type": "mesh3d"
           }
          ],
          "parcoords": [
           {
            "line": {
             "colorbar": {
              "outlinewidth": 0,
              "ticks": ""
             }
            },
            "type": "parcoords"
           }
          ],
          "pie": [
           {
            "automargin": true,
            "type": "pie"
           }
          ],
          "scatter": [
           {
            "marker": {
             "colorbar": {
              "outlinewidth": 0,
              "ticks": ""
             }
            },
            "type": "scatter"
           }
          ],
          "scatter3d": [
           {
            "line": {
             "colorbar": {
              "outlinewidth": 0,
              "ticks": ""
             }
            },
            "marker": {
             "colorbar": {
              "outlinewidth": 0,
              "ticks": ""
             }
            },
            "type": "scatter3d"
           }
          ],
          "scattercarpet": [
           {
            "marker": {
             "colorbar": {
              "outlinewidth": 0,
              "ticks": ""
             }
            },
            "type": "scattercarpet"
           }
          ],
          "scattergeo": [
           {
            "marker": {
             "colorbar": {
              "outlinewidth": 0,
              "ticks": ""
             }
            },
            "type": "scattergeo"
           }
          ],
          "scattergl": [
           {
            "marker": {
             "colorbar": {
              "outlinewidth": 0,
              "ticks": ""
             }
            },
            "type": "scattergl"
           }
          ],
          "scattermapbox": [
           {
            "marker": {
             "colorbar": {
              "outlinewidth": 0,
              "ticks": ""
             }
            },
            "type": "scattermapbox"
           }
          ],
          "scatterpolar": [
           {
            "marker": {
             "colorbar": {
              "outlinewidth": 0,
              "ticks": ""
             }
            },
            "type": "scatterpolar"
           }
          ],
          "scatterpolargl": [
           {
            "marker": {
             "colorbar": {
              "outlinewidth": 0,
              "ticks": ""
             }
            },
            "type": "scatterpolargl"
           }
          ],
          "scatterternary": [
           {
            "marker": {
             "colorbar": {
              "outlinewidth": 0,
              "ticks": ""
             }
            },
            "type": "scatterternary"
           }
          ],
          "surface": [
           {
            "colorbar": {
             "outlinewidth": 0,
             "ticks": ""
            },
            "colorscale": [
             [
              0,
              "#0d0887"
             ],
             [
              0.1111111111111111,
              "#46039f"
             ],
             [
              0.2222222222222222,
              "#7201a8"
             ],
             [
              0.3333333333333333,
              "#9c179e"
             ],
             [
              0.4444444444444444,
              "#bd3786"
             ],
             [
              0.5555555555555556,
              "#d8576b"
             ],
             [
              0.6666666666666666,
              "#ed7953"
             ],
             [
              0.7777777777777778,
              "#fb9f3a"
             ],
             [
              0.8888888888888888,
              "#fdca26"
             ],
             [
              1,
              "#f0f921"
             ]
            ],
            "type": "surface"
           }
          ],
          "table": [
           {
            "cells": {
             "fill": {
              "color": "#EBF0F8"
             },
             "line": {
              "color": "white"
             }
            },
            "header": {
             "fill": {
              "color": "#C8D4E3"
             },
             "line": {
              "color": "white"
             }
            },
            "type": "table"
           }
          ]
         },
         "layout": {
          "annotationdefaults": {
           "arrowcolor": "#2a3f5f",
           "arrowhead": 0,
           "arrowwidth": 1
          },
          "autotypenumbers": "strict",
          "coloraxis": {
           "colorbar": {
            "outlinewidth": 0,
            "ticks": ""
           }
          },
          "colorscale": {
           "diverging": [
            [
             0,
             "#8e0152"
            ],
            [
             0.1,
             "#c51b7d"
            ],
            [
             0.2,
             "#de77ae"
            ],
            [
             0.3,
             "#f1b6da"
            ],
            [
             0.4,
             "#fde0ef"
            ],
            [
             0.5,
             "#f7f7f7"
            ],
            [
             0.6,
             "#e6f5d0"
            ],
            [
             0.7,
             "#b8e186"
            ],
            [
             0.8,
             "#7fbc41"
            ],
            [
             0.9,
             "#4d9221"
            ],
            [
             1,
             "#276419"
            ]
           ],
           "sequential": [
            [
             0,
             "#0d0887"
            ],
            [
             0.1111111111111111,
             "#46039f"
            ],
            [
             0.2222222222222222,
             "#7201a8"
            ],
            [
             0.3333333333333333,
             "#9c179e"
            ],
            [
             0.4444444444444444,
             "#bd3786"
            ],
            [
             0.5555555555555556,
             "#d8576b"
            ],
            [
             0.6666666666666666,
             "#ed7953"
            ],
            [
             0.7777777777777778,
             "#fb9f3a"
            ],
            [
             0.8888888888888888,
             "#fdca26"
            ],
            [
             1,
             "#f0f921"
            ]
           ],
           "sequentialminus": [
            [
             0,
             "#0d0887"
            ],
            [
             0.1111111111111111,
             "#46039f"
            ],
            [
             0.2222222222222222,
             "#7201a8"
            ],
            [
             0.3333333333333333,
             "#9c179e"
            ],
            [
             0.4444444444444444,
             "#bd3786"
            ],
            [
             0.5555555555555556,
             "#d8576b"
            ],
            [
             0.6666666666666666,
             "#ed7953"
            ],
            [
             0.7777777777777778,
             "#fb9f3a"
            ],
            [
             0.8888888888888888,
             "#fdca26"
            ],
            [
             1,
             "#f0f921"
            ]
           ]
          },
          "colorway": [
           "#636efa",
           "#EF553B",
           "#00cc96",
           "#ab63fa",
           "#FFA15A",
           "#19d3f3",
           "#FF6692",
           "#B6E880",
           "#FF97FF",
           "#FECB52"
          ],
          "font": {
           "color": "#2a3f5f"
          },
          "geo": {
           "bgcolor": "white",
           "lakecolor": "white",
           "landcolor": "#E5ECF6",
           "showlakes": true,
           "showland": true,
           "subunitcolor": "white"
          },
          "hoverlabel": {
           "align": "left"
          },
          "hovermode": "closest",
          "mapbox": {
           "style": "light"
          },
          "paper_bgcolor": "white",
          "plot_bgcolor": "#E5ECF6",
          "polar": {
           "angularaxis": {
            "gridcolor": "white",
            "linecolor": "white",
            "ticks": ""
           },
           "bgcolor": "#E5ECF6",
           "radialaxis": {
            "gridcolor": "white",
            "linecolor": "white",
            "ticks": ""
           }
          },
          "scene": {
           "xaxis": {
            "backgroundcolor": "#E5ECF6",
            "gridcolor": "white",
            "gridwidth": 2,
            "linecolor": "white",
            "showbackground": true,
            "ticks": "",
            "zerolinecolor": "white"
           },
           "yaxis": {
            "backgroundcolor": "#E5ECF6",
            "gridcolor": "white",
            "gridwidth": 2,
            "linecolor": "white",
            "showbackground": true,
            "ticks": "",
            "zerolinecolor": "white"
           },
           "zaxis": {
            "backgroundcolor": "#E5ECF6",
            "gridcolor": "white",
            "gridwidth": 2,
            "linecolor": "white",
            "showbackground": true,
            "ticks": "",
            "zerolinecolor": "white"
           }
          },
          "shapedefaults": {
           "line": {
            "color": "#2a3f5f"
           }
          },
          "ternary": {
           "aaxis": {
            "gridcolor": "white",
            "linecolor": "white",
            "ticks": ""
           },
           "baxis": {
            "gridcolor": "white",
            "linecolor": "white",
            "ticks": ""
           },
           "bgcolor": "#E5ECF6",
           "caxis": {
            "gridcolor": "white",
            "linecolor": "white",
            "ticks": ""
           }
          },
          "title": {
           "x": 0.05
          },
          "xaxis": {
           "automargin": true,
           "gridcolor": "white",
           "linecolor": "white",
           "ticks": "",
           "title": {
            "standoff": 15
           },
           "zerolinecolor": "white",
           "zerolinewidth": 2
          },
          "yaxis": {
           "automargin": true,
           "gridcolor": "white",
           "linecolor": "white",
           "ticks": "",
           "title": {
            "standoff": 15
           },
           "zerolinecolor": "white",
           "zerolinewidth": 2
          }
         }
        },
        "width": 1000,
        "xaxis": {
         "fixedrange": true,
         "gridcolor": "#1f292f",
         "rangeslider": {
          "visible": false
         },
         "showgrid": true
        },
        "yaxis": {
         "gridcolor": "#1f292f",
         "showgrid": true
        }
       }
      }
     },
     "metadata": {}
    }
   ],
   "metadata": {}
  },
  {
   "cell_type": "code",
   "execution_count": 2,
   "source": [
    "import pandas as pd"
   ],
   "outputs": [],
   "metadata": {}
  },
  {
   "cell_type": "code",
   "execution_count": 11,
   "source": [
    "df_all = pd.read_pickle(\"all_trades.pkl\")"
   ],
   "outputs": [],
   "metadata": {}
  },
  {
   "cell_type": "code",
   "execution_count": 12,
   "source": [
    "df_all.columns"
   ],
   "outputs": [
    {
     "output_type": "execute_result",
     "data": {
      "text/plain": [
       "Index(['time', 'mid_c', 'DIFF', 'DIFF_PREV', 'IS_TRADE', 'DELTA', 'GAIN',\n",
       "       'PAIR', 'MASHORT', 'MALONG', 'DURATION'],\n",
       "      dtype='object')"
      ]
     },
     "metadata": {},
     "execution_count": 12
    }
   ],
   "metadata": {}
  },
  {
   "cell_type": "code",
   "execution_count": 13,
   "source": [
    "df_all.head()"
   ],
   "outputs": [
    {
     "output_type": "execute_result",
     "data": {
      "text/html": [
       "<div>\n",
       "<style scoped>\n",
       "    .dataframe tbody tr th:only-of-type {\n",
       "        vertical-align: middle;\n",
       "    }\n",
       "\n",
       "    .dataframe tbody tr th {\n",
       "        vertical-align: top;\n",
       "    }\n",
       "\n",
       "    .dataframe thead th {\n",
       "        text-align: right;\n",
       "    }\n",
       "</style>\n",
       "<table border=\"1\" class=\"dataframe\">\n",
       "  <thead>\n",
       "    <tr style=\"text-align: right;\">\n",
       "      <th></th>\n",
       "      <th>time</th>\n",
       "      <th>mid_c</th>\n",
       "      <th>DIFF</th>\n",
       "      <th>DIFF_PREV</th>\n",
       "      <th>IS_TRADE</th>\n",
       "      <th>DELTA</th>\n",
       "      <th>GAIN</th>\n",
       "      <th>PAIR</th>\n",
       "      <th>MASHORT</th>\n",
       "      <th>MALONG</th>\n",
       "      <th>DURATION</th>\n",
       "    </tr>\n",
       "  </thead>\n",
       "  <tbody>\n",
       "    <tr>\n",
       "      <th>18</th>\n",
       "      <td>2021-01-19 09:00:00+00:00</td>\n",
       "      <td>1.36076</td>\n",
       "      <td>-0.000011</td>\n",
       "      <td>0.000073</td>\n",
       "      <td>-1</td>\n",
       "      <td>8.9</td>\n",
       "      <td>-8.9</td>\n",
       "      <td>GBP_USD</td>\n",
       "      <td>4</td>\n",
       "      <td>8</td>\n",
       "      <td>1.0</td>\n",
       "    </tr>\n",
       "    <tr>\n",
       "      <th>19</th>\n",
       "      <td>2021-01-19 10:00:00+00:00</td>\n",
       "      <td>1.36165</td>\n",
       "      <td>0.000044</td>\n",
       "      <td>-0.000011</td>\n",
       "      <td>1</td>\n",
       "      <td>20.7</td>\n",
       "      <td>20.7</td>\n",
       "      <td>GBP_USD</td>\n",
       "      <td>4</td>\n",
       "      <td>8</td>\n",
       "      <td>28.0</td>\n",
       "    </tr>\n",
       "    <tr>\n",
       "      <th>47</th>\n",
       "      <td>2021-01-20 14:00:00+00:00</td>\n",
       "      <td>1.36372</td>\n",
       "      <td>-0.001062</td>\n",
       "      <td>0.000375</td>\n",
       "      <td>-1</td>\n",
       "      <td>18.0</td>\n",
       "      <td>-18.0</td>\n",
       "      <td>GBP_USD</td>\n",
       "      <td>4</td>\n",
       "      <td>8</td>\n",
       "      <td>7.0</td>\n",
       "    </tr>\n",
       "    <tr>\n",
       "      <th>54</th>\n",
       "      <td>2021-01-20 21:00:00+00:00</td>\n",
       "      <td>1.36552</td>\n",
       "      <td>0.000424</td>\n",
       "      <td>-0.000119</td>\n",
       "      <td>1</td>\n",
       "      <td>71.8</td>\n",
       "      <td>71.8</td>\n",
       "      <td>GBP_USD</td>\n",
       "      <td>4</td>\n",
       "      <td>8</td>\n",
       "      <td>17.0</td>\n",
       "    </tr>\n",
       "    <tr>\n",
       "      <th>71</th>\n",
       "      <td>2021-01-21 14:00:00+00:00</td>\n",
       "      <td>1.37270</td>\n",
       "      <td>-0.000293</td>\n",
       "      <td>0.000066</td>\n",
       "      <td>-1</td>\n",
       "      <td>-16.6</td>\n",
       "      <td>16.6</td>\n",
       "      <td>GBP_USD</td>\n",
       "      <td>4</td>\n",
       "      <td>8</td>\n",
       "      <td>3.0</td>\n",
       "    </tr>\n",
       "  </tbody>\n",
       "</table>\n",
       "</div>"
      ],
      "text/plain": [
       "                        time    mid_c      DIFF  DIFF_PREV  IS_TRADE  DELTA  \\\n",
       "18 2021-01-19 09:00:00+00:00  1.36076 -0.000011   0.000073        -1    8.9   \n",
       "19 2021-01-19 10:00:00+00:00  1.36165  0.000044  -0.000011         1   20.7   \n",
       "47 2021-01-20 14:00:00+00:00  1.36372 -0.001062   0.000375        -1   18.0   \n",
       "54 2021-01-20 21:00:00+00:00  1.36552  0.000424  -0.000119         1   71.8   \n",
       "71 2021-01-21 14:00:00+00:00  1.37270 -0.000293   0.000066        -1  -16.6   \n",
       "\n",
       "    GAIN     PAIR  MASHORT  MALONG  DURATION  \n",
       "18  -8.9  GBP_USD        4       8       1.0  \n",
       "19  20.7  GBP_USD        4       8      28.0  \n",
       "47 -18.0  GBP_USD        4       8       7.0  \n",
       "54  71.8  GBP_USD        4       8      17.0  \n",
       "71  16.6  GBP_USD        4       8       3.0  "
      ]
     },
     "metadata": {},
     "execution_count": 13
    }
   ],
   "metadata": {}
  },
  {
   "cell_type": "code",
   "execution_count": 14,
   "source": [
    "df_all.shape"
   ],
   "outputs": [
    {
     "output_type": "execute_result",
     "data": {
      "text/plain": [
       "(65630, 11)"
      ]
     },
     "metadata": {},
     "execution_count": 14
    }
   ],
   "metadata": {}
  },
  {
   "cell_type": "code",
   "execution_count": 15,
   "source": [
    "df_all.describe()"
   ],
   "outputs": [
    {
     "output_type": "execute_result",
     "data": {
      "text/html": [
       "<div>\n",
       "<style scoped>\n",
       "    .dataframe tbody tr th:only-of-type {\n",
       "        vertical-align: middle;\n",
       "    }\n",
       "\n",
       "    .dataframe tbody tr th {\n",
       "        vertical-align: top;\n",
       "    }\n",
       "\n",
       "    .dataframe thead th {\n",
       "        text-align: right;\n",
       "    }\n",
       "</style>\n",
       "<table border=\"1\" class=\"dataframe\">\n",
       "  <thead>\n",
       "    <tr style=\"text-align: right;\">\n",
       "      <th></th>\n",
       "      <th>mid_c</th>\n",
       "      <th>DIFF</th>\n",
       "      <th>DIFF_PREV</th>\n",
       "      <th>IS_TRADE</th>\n",
       "      <th>DELTA</th>\n",
       "      <th>GAIN</th>\n",
       "      <th>MASHORT</th>\n",
       "      <th>MALONG</th>\n",
       "      <th>DURATION</th>\n",
       "    </tr>\n",
       "  </thead>\n",
       "  <tbody>\n",
       "    <tr>\n",
       "      <th>count</th>\n",
       "      <td>65630.000000</td>\n",
       "      <td>6.563000e+04</td>\n",
       "      <td>6.563000e+04</td>\n",
       "      <td>65630.000000</td>\n",
       "      <td>65630.000000</td>\n",
       "      <td>65630.000000</td>\n",
       "      <td>65630.000000</td>\n",
       "      <td>65630.000000</td>\n",
       "      <td>65630.000000</td>\n",
       "    </tr>\n",
       "    <tr>\n",
       "      <th>mean</th>\n",
       "      <td>32.055304</td>\n",
       "      <td>2.635198e-05</td>\n",
       "      <td>-1.907686e-05</td>\n",
       "      <td>-0.003139</td>\n",
       "      <td>1.283709</td>\n",
       "      <td>-1.726025</td>\n",
       "      <td>11.967210</td>\n",
       "      <td>62.011032</td>\n",
       "      <td>50.272589</td>\n",
       "    </tr>\n",
       "    <tr>\n",
       "      <th>std</th>\n",
       "      <td>51.591227</td>\n",
       "      <td>1.358976e-02</td>\n",
       "      <td>1.318118e-02</td>\n",
       "      <td>1.000003</td>\n",
       "      <td>51.824802</td>\n",
       "      <td>51.811956</td>\n",
       "      <td>12.671175</td>\n",
       "      <td>65.104117</td>\n",
       "      <td>77.520240</td>\n",
       "    </tr>\n",
       "    <tr>\n",
       "      <th>min</th>\n",
       "      <td>0.625440</td>\n",
       "      <td>-2.588750e-01</td>\n",
       "      <td>-2.635156e-01</td>\n",
       "      <td>-1.000000</td>\n",
       "      <td>-548.600000</td>\n",
       "      <td>-375.900000</td>\n",
       "      <td>4.000000</td>\n",
       "      <td>8.000000</td>\n",
       "      <td>1.000000</td>\n",
       "    </tr>\n",
       "    <tr>\n",
       "      <th>25%</th>\n",
       "      <td>0.913920</td>\n",
       "      <td>-1.881250e-04</td>\n",
       "      <td>-1.849870e-04</td>\n",
       "      <td>-1.000000</td>\n",
       "      <td>-19.000000</td>\n",
       "      <td>-25.200000</td>\n",
       "      <td>4.000000</td>\n",
       "      <td>16.000000</td>\n",
       "      <td>6.000000</td>\n",
       "    </tr>\n",
       "    <tr>\n",
       "      <th>50%</th>\n",
       "      <td>1.387770</td>\n",
       "      <td>-2.864583e-07</td>\n",
       "      <td>6.250000e-07</td>\n",
       "      <td>-1.000000</td>\n",
       "      <td>0.900000</td>\n",
       "      <td>-8.800000</td>\n",
       "      <td>8.000000</td>\n",
       "      <td>32.000000</td>\n",
       "      <td>18.000000</td>\n",
       "    </tr>\n",
       "    <tr>\n",
       "      <th>75%</th>\n",
       "      <td>77.726000</td>\n",
       "      <td>1.827734e-04</td>\n",
       "      <td>1.886198e-04</td>\n",
       "      <td>1.000000</td>\n",
       "      <td>20.800000</td>\n",
       "      <td>7.600000</td>\n",
       "      <td>16.000000</td>\n",
       "      <td>96.000000</td>\n",
       "      <td>68.000000</td>\n",
       "    </tr>\n",
       "    <tr>\n",
       "      <th>max</th>\n",
       "      <td>156.005000</td>\n",
       "      <td>2.528021e-01</td>\n",
       "      <td>2.338594e-01</td>\n",
       "      <td>1.000000</td>\n",
       "      <td>557.000000</td>\n",
       "      <td>557.000000</td>\n",
       "      <td>64.000000</td>\n",
       "      <td>256.000000</td>\n",
       "      <td>1311.000000</td>\n",
       "    </tr>\n",
       "  </tbody>\n",
       "</table>\n",
       "</div>"
      ],
      "text/plain": [
       "              mid_c          DIFF     DIFF_PREV      IS_TRADE         DELTA  \\\n",
       "count  65630.000000  6.563000e+04  6.563000e+04  65630.000000  65630.000000   \n",
       "mean      32.055304  2.635198e-05 -1.907686e-05     -0.003139      1.283709   \n",
       "std       51.591227  1.358976e-02  1.318118e-02      1.000003     51.824802   \n",
       "min        0.625440 -2.588750e-01 -2.635156e-01     -1.000000   -548.600000   \n",
       "25%        0.913920 -1.881250e-04 -1.849870e-04     -1.000000    -19.000000   \n",
       "50%        1.387770 -2.864583e-07  6.250000e-07     -1.000000      0.900000   \n",
       "75%       77.726000  1.827734e-04  1.886198e-04      1.000000     20.800000   \n",
       "max      156.005000  2.528021e-01  2.338594e-01      1.000000    557.000000   \n",
       "\n",
       "               GAIN       MASHORT        MALONG      DURATION  \n",
       "count  65630.000000  65630.000000  65630.000000  65630.000000  \n",
       "mean      -1.726025     11.967210     62.011032     50.272589  \n",
       "std       51.811956     12.671175     65.104117     77.520240  \n",
       "min     -375.900000      4.000000      8.000000      1.000000  \n",
       "25%      -25.200000      4.000000     16.000000      6.000000  \n",
       "50%       -8.800000      8.000000     32.000000     18.000000  \n",
       "75%        7.600000     16.000000     96.000000     68.000000  \n",
       "max      557.000000     64.000000    256.000000   1311.000000  "
      ]
     },
     "metadata": {},
     "execution_count": 15
    }
   ],
   "metadata": {}
  },
  {
   "cell_type": "markdown",
   "source": [
    "這麼多貨幣對與這麼多 MA 組合的策略總共交易 65,630 次  \r\n",
    "其中，平均持有約 50 小時，持有最久的一筆交易為 1311 小時 (約 54 天)，持有最短的交易為 1 小時。"
   ],
   "metadata": {}
  },
  {
   "cell_type": "code",
   "execution_count": 16,
   "source": [
    "long_trade = df_all[ df_all['DURATION'] == 1311 ]"
   ],
   "outputs": [],
   "metadata": {}
  },
  {
   "cell_type": "code",
   "execution_count": 17,
   "source": [
    "long_trade "
   ],
   "outputs": [
    {
     "output_type": "execute_result",
     "data": {
      "text/html": [
       "<div>\n",
       "<style scoped>\n",
       "    .dataframe tbody tr th:only-of-type {\n",
       "        vertical-align: middle;\n",
       "    }\n",
       "\n",
       "    .dataframe tbody tr th {\n",
       "        vertical-align: top;\n",
       "    }\n",
       "\n",
       "    .dataframe thead th {\n",
       "        text-align: right;\n",
       "    }\n",
       "</style>\n",
       "<table border=\"1\" class=\"dataframe\">\n",
       "  <thead>\n",
       "    <tr style=\"text-align: right;\">\n",
       "      <th></th>\n",
       "      <th>time</th>\n",
       "      <th>mid_c</th>\n",
       "      <th>DIFF</th>\n",
       "      <th>DIFF_PREV</th>\n",
       "      <th>IS_TRADE</th>\n",
       "      <th>DELTA</th>\n",
       "      <th>GAIN</th>\n",
       "      <th>PAIR</th>\n",
       "      <th>MASHORT</th>\n",
       "      <th>MALONG</th>\n",
       "      <th>DURATION</th>\n",
       "    </tr>\n",
       "  </thead>\n",
       "  <tbody>\n",
       "    <tr>\n",
       "      <th>1349</th>\n",
       "      <td>2021-04-06 20:00:00+00:00</td>\n",
       "      <td>0.93084</td>\n",
       "      <td>-0.000124</td>\n",
       "      <td>0.000071</td>\n",
       "      <td>-1</td>\n",
       "      <td>-307.4</td>\n",
       "      <td>307.4</td>\n",
       "      <td>USD_CHF</td>\n",
       "      <td>64</td>\n",
       "      <td>256</td>\n",
       "      <td>1311.0</td>\n",
       "    </tr>\n",
       "  </tbody>\n",
       "</table>\n",
       "</div>"
      ],
      "text/plain": [
       "                          time    mid_c      DIFF  DIFF_PREV  IS_TRADE  DELTA  \\\n",
       "1349 2021-04-06 20:00:00+00:00  0.93084 -0.000124   0.000071        -1 -307.4   \n",
       "\n",
       "       GAIN     PAIR  MASHORT  MALONG  DURATION  \n",
       "1349  307.4  USD_CHF       64     256    1311.0  "
      ]
     },
     "metadata": {},
     "execution_count": 17
    }
   ],
   "metadata": {}
  },
  {
   "cell_type": "code",
   "execution_count": 22,
   "source": [
    "short_trade = df_all[ df_all['DURATION'] == 1 ]\r\n",
    "short_trade['PAIR'].describe()"
   ],
   "outputs": [
    {
     "output_type": "execute_result",
     "data": {
      "text/plain": [
       "count        3376\n",
       "unique         21\n",
       "top       CHF_JPY\n",
       "freq          196\n",
       "Name: PAIR, dtype: object"
      ]
     },
     "metadata": {},
     "execution_count": 22
    }
   ],
   "metadata": {}
  },
  {
   "cell_type": "code",
   "execution_count": 38,
   "source": [
    "short_trade['PAIR'].unique()"
   ],
   "outputs": [
    {
     "output_type": "execute_result",
     "data": {
      "text/plain": [
       "array(['GBP_USD', 'GBP_CAD', 'GBP_JPY', 'GBP_NZD', 'GBP_CHF', 'EUR_GBP',\n",
       "       'EUR_USD', 'EUR_CAD', 'EUR_JPY', 'EUR_NZD', 'EUR_CHF', 'USD_CAD',\n",
       "       'USD_JPY', 'USD_CHF', 'CAD_JPY', 'CAD_CHF', 'NZD_USD', 'NZD_CAD',\n",
       "       'NZD_JPY', 'NZD_CHF', 'CHF_JPY'], dtype=object)"
      ]
     },
     "metadata": {},
     "execution_count": 38
    }
   ],
   "metadata": {}
  },
  {
   "cell_type": "code",
   "execution_count": 57,
   "source": [
    "short_trade.index"
   ],
   "outputs": [
    {
     "output_type": "execute_result",
     "data": {
      "text/plain": [
       "Int64Index([  18,   74,  260,  463,  474,  500,  555,  759,  802,  806,\n",
       "            ...\n",
       "            2499, 2876, 3048, 3796, 1222, 2382, 3066,  903, 3066, 3222],\n",
       "           dtype='int64', length=3376)"
      ]
     },
     "metadata": {},
     "execution_count": 57
    }
   ],
   "metadata": {}
  },
  {
   "cell_type": "code",
   "execution_count": 68,
   "source": [
    "short_trade.loc[74, 'PAIR']"
   ],
   "outputs": [
    {
     "output_type": "execute_result",
     "data": {
      "text/plain": [
       "'GBP_USD'"
      ]
     },
     "metadata": {},
     "execution_count": 68
    }
   ],
   "metadata": {}
  },
  {
   "cell_type": "code",
   "execution_count": 72,
   "source": [
    "print(short_trade[ short_trade['PAIR'] == 'GBP_USD'].count()[0])"
   ],
   "outputs": [
    {
     "output_type": "stream",
     "name": "stdout",
     "text": [
      "161\n"
     ]
    }
   ],
   "metadata": {}
  },
  {
   "cell_type": "code",
   "execution_count": 75,
   "source": [
    "short_pairs = short_trade['PAIR'].unique()\r\n",
    "res = {}\r\n",
    "\r\n",
    "for p in short_pairs:\r\n",
    "    cnt = short_trade[ short_trade['PAIR'] == p ].count()[0]\r\n",
    "    res[p] = cnt"
   ],
   "outputs": [],
   "metadata": {}
  },
  {
   "cell_type": "code",
   "execution_count": 76,
   "source": [
    "res"
   ],
   "outputs": [
    {
     "output_type": "execute_result",
     "data": {
      "text/plain": [
       "{'GBP_USD': 161,\n",
       " 'GBP_CAD': 171,\n",
       " 'GBP_JPY': 138,\n",
       " 'GBP_NZD': 196,\n",
       " 'GBP_CHF': 174,\n",
       " 'EUR_GBP': 177,\n",
       " 'EUR_USD': 158,\n",
       " 'EUR_CAD': 162,\n",
       " 'EUR_JPY': 167,\n",
       " 'EUR_NZD': 156,\n",
       " 'EUR_CHF': 156,\n",
       " 'USD_CAD': 144,\n",
       " 'USD_JPY': 149,\n",
       " 'USD_CHF': 169,\n",
       " 'CAD_JPY': 128,\n",
       " 'CAD_CHF': 132,\n",
       " 'NZD_USD': 143,\n",
       " 'NZD_CAD': 175,\n",
       " 'NZD_JPY': 154,\n",
       " 'NZD_CHF': 170,\n",
       " 'CHF_JPY': 196}"
      ]
     },
     "metadata": {},
     "execution_count": 76
    }
   ],
   "metadata": {}
  },
  {
   "cell_type": "markdown",
   "source": [
    "持有時間最長的為 USDCHF  \r\n",
    "持有時間最短的有多個貨幣對，注意到出現 USD 的次數不多"
   ],
   "metadata": {}
  },
  {
   "cell_type": "markdown",
   "source": [
    "### 遇到的問題"
   ],
   "metadata": {}
  },
  {
   "cell_type": "markdown",
   "source": [
    "- https://stackoverflow.com/questions/53830081/python-pandas-the-truth-value-of-a-series-is-ambiguous"
   ],
   "metadata": {}
  },
  {
   "cell_type": "markdown",
   "source": [],
   "metadata": {}
  }
 ],
 "metadata": {
  "orig_nbformat": 4,
  "language_info": {
   "name": "python",
   "version": "3.9.7",
   "mimetype": "text/x-python",
   "codemirror_mode": {
    "name": "ipython",
    "version": 3
   },
   "pygments_lexer": "ipython3",
   "nbconvert_exporter": "python",
   "file_extension": ".py"
  },
  "kernelspec": {
   "name": "python3",
   "display_name": "Python 3.9.7 64-bit ('venv': venv)"
  },
  "interpreter": {
   "hash": "b0b5f533ece29e619ef82558aa36dc65e23f2612523c2030a9b8c4d2f5e86771"
  }
 },
 "nbformat": 4,
 "nbformat_minor": 2
}